{
 "cells": [
  {
   "cell_type": "markdown",
   "source": [
    "# EDA"
   ],
   "metadata": {
    "collapsed": false
   },
   "id": "24ad314bf282ec83"
  },
  {
   "cell_type": "code",
   "outputs": [],
   "source": [
    "import os\n",
    "import sys\n",
    "import warnings\n",
    "import pandas as pd\n",
    "import numpy as np\n",
    "import csv\n",
    "import matplotlib.pyplot as plt\n",
    "from haversine import haversine, Unit\n",
    "from sklearn.metrics.pairwise import haversine_distances, manhattan_distances\n",
    "\n",
    "sys.path.insert(0, os.path.expanduser('./'))\n",
    "import query_runner as qr\n",
    "import utils"
   ],
   "metadata": {
    "collapsed": false,
    "ExecuteTime": {
     "end_time": "2024-10-11T17:55:02.049369Z",
     "start_time": "2024-10-11T17:54:58.057518Z"
    }
   },
   "id": "cb71195be0f3a22f",
   "execution_count": 1
  },
  {
   "cell_type": "code",
   "outputs": [],
   "source": [
    "base_query_path = './queries/'\n",
    "dwh_config, livedb_config, parameters_config = utils.load_config(config_file='./config.ini')\n",
    "datalake_connection = qr.create_connection(db='datalake')\n",
    "#monolith_connection = qr.create_connection(user=livedb_config['monolith_username'], password=livedb_config['monolith_password'], db='livedb')\n",
    "#dispatching_db_connection = qr.create_connection(user=livedb_config['dispatching_db_username'], password=livedb_config['dispatching_db_password'], db='dispatchingdb')"
   ],
   "metadata": {
    "collapsed": false,
    "ExecuteTime": {
     "end_time": "2024-10-11T17:55:02.061961Z",
     "start_time": "2024-10-11T17:55:02.054813Z"
    }
   },
   "id": "52eb5fbdb862edbe",
   "execution_count": 2
  },
  {
   "cell_type": "code",
   "outputs": [
    {
     "name": "stdout",
     "output_type": "stream",
     "text": [
      "Start date: 2024-09-23 | End date: 2024-10-06 | Countries: ES\n"
     ]
    }
   ],
   "source": [
    "start_date = parameters_config['start_date']\n",
    "end_date = parameters_config['end_date']\n",
    "country_code = parameters_config['country_code']\n",
    "\n",
    "print(f'Start date: {start_date} | End date: {end_date} | Countries: {country_code}')"
   ],
   "metadata": {
    "collapsed": false,
    "ExecuteTime": {
     "end_time": "2024-10-11T17:55:02.113156Z",
     "start_time": "2024-10-11T17:55:02.064256Z"
    }
   },
   "id": "f26eb0ba80de7f8e",
   "execution_count": 3
  },
  {
   "cell_type": "code",
   "outputs": [],
   "source": [
    "parameters = {\n",
    "    'start_date': start_date,\n",
    "    'end_date': end_date,\n",
    "    'country_code': country_code\n",
    "}"
   ],
   "metadata": {
    "collapsed": false,
    "ExecuteTime": {
     "end_time": "2024-10-11T17:55:02.131793Z",
     "start_time": "2024-10-11T17:55:02.082924Z"
    }
   },
   "id": "e3c251ccf4f2beb1",
   "execution_count": 4
  },
  {
   "cell_type": "markdown",
   "source": [
    "## Load the data"
   ],
   "metadata": {
    "collapsed": false
   },
   "id": "3c0d6dbf6375ce8"
  },
  {
   "cell_type": "code",
   "outputs": [
    {
     "name": "stdout",
     "output_type": "stream",
     "text": [
      "Open the following URL in browser for the external authentication:\n",
      "https://starburst.g8s-data-platform-prod.glovoint.com/oauth2/token/initiate/af5efdf105b33784feb4f433455a73219d17f7c01d2e86584ae01933ae48ab4c\n"
     ]
    },
    {
     "data": {
      "text/plain": "  country_code city_code      order_id  courier_id        creation_timestamp  \\\n0           ES       BCN  100907487116     8590944 2024-10-03 20:55:02+00:00   \n1           ES       MAD  100907489425   162535288 2024-10-03 20:55:43+00:00   \n2           ES       MGP  100907492383   167053666 2024-10-03 20:56:35+00:00   \n3           ES       BCN  100907493124   146788593 2024-10-03 20:56:48+00:00   \n4           ES       MAD  100907498582    45695767 2024-10-03 20:58:25+00:00   \n\n       activation_timestamp  transport                 pickup_timestamp  \\\n0 2024-10-03 20:55:04+00:00    BICYCLE 2024-10-03 21:21:44.215000+00:00   \n1 2024-10-03 20:55:44+00:00    BICYCLE 2024-10-03 21:07:40.941000+00:00   \n2 2024-10-03 20:56:36+00:00  MOTORBIKE 2024-10-03 21:06:13.285000+00:00   \n3 2024-10-03 20:56:49+00:00    BICYCLE 2024-10-03 21:07:40.560000+00:00   \n4 2024-10-03 20:58:26+00:00  MOTORBIKE 2024-10-03 21:08:59.224000+00:00   \n\n         delivery_timestamp  pickup_latitude  pickup_longitude  \\\n0 2024-10-03 21:32:33+00:00        41.370594          2.113433   \n1 2024-10-03 21:19:10+00:00        40.382927         -3.626392   \n2 2024-10-03 21:12:51+00:00        39.528732          2.540573   \n3 2024-10-03 21:14:30+00:00        41.389874          2.159761   \n4 2024-10-03 21:14:21+00:00        40.409720         -3.670494   \n\n   delivery_latitude  delivery_longitude delivery_entering_timestamp  \\\n0          41.375412            2.104837   2024-10-03 21:29:37+00:00   \n1          40.383490           -3.640969   2024-10-03 21:16:09+00:00   \n2          39.538560            2.560975   2024-10-03 21:12:24+00:00   \n3          41.390520            2.148718   2024-10-03 21:12:00+00:00   \n4          40.412880           -3.671840   2024-10-03 21:11:21+00:00   \n\n       time_zone p_creation_date  \n0  Europe/Madrid      2024-10-03  \n1  Europe/Madrid      2024-10-03  \n2  Europe/Madrid      2024-10-03  \n3  Europe/Madrid      2024-10-03  \n4  Europe/Madrid      2024-10-03  ",
      "text/html": "<div>\n<style scoped>\n    .dataframe tbody tr th:only-of-type {\n        vertical-align: middle;\n    }\n\n    .dataframe tbody tr th {\n        vertical-align: top;\n    }\n\n    .dataframe thead th {\n        text-align: right;\n    }\n</style>\n<table border=\"1\" class=\"dataframe\">\n  <thead>\n    <tr style=\"text-align: right;\">\n      <th></th>\n      <th>country_code</th>\n      <th>city_code</th>\n      <th>order_id</th>\n      <th>courier_id</th>\n      <th>creation_timestamp</th>\n      <th>activation_timestamp</th>\n      <th>transport</th>\n      <th>pickup_timestamp</th>\n      <th>delivery_timestamp</th>\n      <th>pickup_latitude</th>\n      <th>pickup_longitude</th>\n      <th>delivery_latitude</th>\n      <th>delivery_longitude</th>\n      <th>delivery_entering_timestamp</th>\n      <th>time_zone</th>\n      <th>p_creation_date</th>\n    </tr>\n  </thead>\n  <tbody>\n    <tr>\n      <th>0</th>\n      <td>ES</td>\n      <td>BCN</td>\n      <td>100907487116</td>\n      <td>8590944</td>\n      <td>2024-10-03 20:55:02+00:00</td>\n      <td>2024-10-03 20:55:04+00:00</td>\n      <td>BICYCLE</td>\n      <td>2024-10-03 21:21:44.215000+00:00</td>\n      <td>2024-10-03 21:32:33+00:00</td>\n      <td>41.370594</td>\n      <td>2.113433</td>\n      <td>41.375412</td>\n      <td>2.104837</td>\n      <td>2024-10-03 21:29:37+00:00</td>\n      <td>Europe/Madrid</td>\n      <td>2024-10-03</td>\n    </tr>\n    <tr>\n      <th>1</th>\n      <td>ES</td>\n      <td>MAD</td>\n      <td>100907489425</td>\n      <td>162535288</td>\n      <td>2024-10-03 20:55:43+00:00</td>\n      <td>2024-10-03 20:55:44+00:00</td>\n      <td>BICYCLE</td>\n      <td>2024-10-03 21:07:40.941000+00:00</td>\n      <td>2024-10-03 21:19:10+00:00</td>\n      <td>40.382927</td>\n      <td>-3.626392</td>\n      <td>40.383490</td>\n      <td>-3.640969</td>\n      <td>2024-10-03 21:16:09+00:00</td>\n      <td>Europe/Madrid</td>\n      <td>2024-10-03</td>\n    </tr>\n    <tr>\n      <th>2</th>\n      <td>ES</td>\n      <td>MGP</td>\n      <td>100907492383</td>\n      <td>167053666</td>\n      <td>2024-10-03 20:56:35+00:00</td>\n      <td>2024-10-03 20:56:36+00:00</td>\n      <td>MOTORBIKE</td>\n      <td>2024-10-03 21:06:13.285000+00:00</td>\n      <td>2024-10-03 21:12:51+00:00</td>\n      <td>39.528732</td>\n      <td>2.540573</td>\n      <td>39.538560</td>\n      <td>2.560975</td>\n      <td>2024-10-03 21:12:24+00:00</td>\n      <td>Europe/Madrid</td>\n      <td>2024-10-03</td>\n    </tr>\n    <tr>\n      <th>3</th>\n      <td>ES</td>\n      <td>BCN</td>\n      <td>100907493124</td>\n      <td>146788593</td>\n      <td>2024-10-03 20:56:48+00:00</td>\n      <td>2024-10-03 20:56:49+00:00</td>\n      <td>BICYCLE</td>\n      <td>2024-10-03 21:07:40.560000+00:00</td>\n      <td>2024-10-03 21:14:30+00:00</td>\n      <td>41.389874</td>\n      <td>2.159761</td>\n      <td>41.390520</td>\n      <td>2.148718</td>\n      <td>2024-10-03 21:12:00+00:00</td>\n      <td>Europe/Madrid</td>\n      <td>2024-10-03</td>\n    </tr>\n    <tr>\n      <th>4</th>\n      <td>ES</td>\n      <td>MAD</td>\n      <td>100907498582</td>\n      <td>45695767</td>\n      <td>2024-10-03 20:58:25+00:00</td>\n      <td>2024-10-03 20:58:26+00:00</td>\n      <td>MOTORBIKE</td>\n      <td>2024-10-03 21:08:59.224000+00:00</td>\n      <td>2024-10-03 21:14:21+00:00</td>\n      <td>40.409720</td>\n      <td>-3.670494</td>\n      <td>40.412880</td>\n      <td>-3.671840</td>\n      <td>2024-10-03 21:11:21+00:00</td>\n      <td>Europe/Madrid</td>\n      <td>2024-10-03</td>\n    </tr>\n  </tbody>\n</table>\n</div>"
     },
     "execution_count": 5,
     "metadata": {},
     "output_type": "execute_result"
    }
   ],
   "source": [
    "query_name = '''\n",
    "SELECT\n",
    "    olf.country_code                                 AS country_code,\n",
    "    olf.city_code                                    AS city_code,\n",
    "    olf.order_id                                     AS order_id,\n",
    "    olf.courier_id                                   AS courier_id,\n",
    "    olf.order_created_local_datetime                 AS creation_timestamp,\n",
    "    olf.order_activated_local_datetime               AS activation_timestamp,\n",
    "    olf.courier_transport                            AS transport,\n",
    "    olf.order_picked_up_local_datetime               AS pickup_timestamp,\n",
    "    olf.order_delivered_local_datetime               AS delivery_timestamp,\n",
    "    olf.order_pickup_latitude                        AS pickup_latitude,\n",
    "    olf.order_pickup_longitude                       AS pickup_longitude,\n",
    "    olf.order_delivery_latitude                      AS delivery_latitude,\n",
    "    olf.order_delivery_longitude                     AS delivery_longitude,\n",
    "    olf.order_arrival_to_delivery_local_datetime     AS delivery_entering_timestamp,\n",
    "    olf.order_time_zone                              AS time_zone,\n",
    "    olf.p_creation_date\n",
    "FROM delta.courier_routing_courier_ml_features_odp.order_level_features AS olf\n",
    "WHERE order_final_status = 'DeliveredStatus'\n",
    "    AND order_number_of_assignments = 1\n",
    "    AND order_bundle_index IS NULL\n",
    "    AND p_creation_date >= DATE '[start_date]' AND p_creation_date < DATE '[end_date]'\n",
    "    AND country_code IN ('[country_code]')\n",
    "'''\n",
    "\n",
    "query = qr.Query(base_query_path, query_name, datalake_connection, parameters_dict=parameters, query_from_file = False)\n",
    "\n",
    "df = query.run()\n",
    "df = df.fillna(value=np.nan)\n",
    "\n",
    "data = df.copy()\n",
    "data.head()"
   ],
   "metadata": {
    "collapsed": false,
    "ExecuteTime": {
     "end_time": "2024-10-11T17:57:16.479776Z",
     "start_time": "2024-10-11T17:55:02.093782Z"
    }
   },
   "id": "1de21fec65a3d1b1",
   "execution_count": 5
  },
  {
   "cell_type": "markdown",
   "source": [
    "## Clean the dataset"
   ],
   "metadata": {
    "collapsed": false
   },
   "id": "cb60e56ce9b31a2"
  },
  {
   "cell_type": "code",
   "outputs": [
    {
     "name": "stdout",
     "output_type": "stream",
     "text": [
      "<class 'pandas.core.frame.DataFrame'>\n",
      "Index: 1536205 entries, 0 to 36204\n",
      "Data columns (total 16 columns):\n",
      " #   Column                       Non-Null Count    Dtype              \n",
      "---  ------                       --------------    -----              \n",
      " 0   country_code                 1536205 non-null  object             \n",
      " 1   city_code                    1536205 non-null  object             \n",
      " 2   order_id                     1536205 non-null  int64              \n",
      " 3   courier_id                   1536205 non-null  int64              \n",
      " 4   creation_timestamp           1536205 non-null  datetime64[ns, UTC]\n",
      " 5   activation_timestamp         1536205 non-null  datetime64[ns, UTC]\n",
      " 6   transport                    1536205 non-null  object             \n",
      " 7   pickup_timestamp             1535647 non-null  datetime64[ns, UTC]\n",
      " 8   delivery_timestamp           1536205 non-null  datetime64[ns, UTC]\n",
      " 9   pickup_latitude              1536205 non-null  float64            \n",
      " 10  pickup_longitude             1536205 non-null  float64            \n",
      " 11  delivery_latitude            1536205 non-null  float64            \n",
      " 12  delivery_longitude           1536205 non-null  float64            \n",
      " 13  delivery_entering_timestamp  1502259 non-null  datetime64[ns, UTC]\n",
      " 14  time_zone                    1536205 non-null  object             \n",
      " 15  p_creation_date              1536205 non-null  object             \n",
      "dtypes: datetime64[ns, UTC](5), float64(4), int64(2), object(5)\n",
      "memory usage: 199.2+ MB\n"
     ]
    }
   ],
   "source": [
    "data.info()"
   ],
   "metadata": {
    "collapsed": false,
    "ExecuteTime": {
     "end_time": "2024-10-11T17:57:17.340473Z",
     "start_time": "2024-10-11T17:57:16.475085Z"
    }
   },
   "id": "3269019e5c025a9d",
   "execution_count": 6
  },
  {
   "cell_type": "code",
   "outputs": [
    {
     "data": {
      "text/plain": "           order_id    courier_id  pickup_latitude  pickup_longitude  \\\ncount  1.536205e+06  1.536205e+06     1.536205e+06      1.536205e+06   \nmean   1.008989e+11  1.308424e+08     3.979646e+01     -2.437437e+00   \nstd    8.173440e+06  5.069962e+07     3.270964e+00      4.486772e+00   \nmin    1.008847e+11  1.160000e+04     2.773856e+01     -1.778775e+01   \n25%    1.008919e+11  1.079144e+08     3.946703e+01     -3.810658e+00   \n50%    1.008987e+11  1.549434e+08     4.046509e+01     -2.994206e+00   \n75%    1.009062e+11  1.687019e+08     4.141026e+01      2.081995e+00   \nmax    1.009129e+11  1.789302e+08     4.357925e+01      4.290346e+00   \n\n       delivery_latitude  delivery_longitude  \ncount       1.536205e+06        1.536205e+06  \nmean        3.979665e+01       -2.437684e+00  \nstd         3.270975e+00        4.486684e+00  \nmin         2.773566e+01       -1.779950e+01  \n25%         3.946503e+01       -3.814944e+00  \n50%         4.046810e+01       -2.994632e+00  \n75%         4.141481e+01        2.078547e+00  \nmax         4.358983e+01        4.297597e+00  ",
      "text/html": "<div>\n<style scoped>\n    .dataframe tbody tr th:only-of-type {\n        vertical-align: middle;\n    }\n\n    .dataframe tbody tr th {\n        vertical-align: top;\n    }\n\n    .dataframe thead th {\n        text-align: right;\n    }\n</style>\n<table border=\"1\" class=\"dataframe\">\n  <thead>\n    <tr style=\"text-align: right;\">\n      <th></th>\n      <th>order_id</th>\n      <th>courier_id</th>\n      <th>pickup_latitude</th>\n      <th>pickup_longitude</th>\n      <th>delivery_latitude</th>\n      <th>delivery_longitude</th>\n    </tr>\n  </thead>\n  <tbody>\n    <tr>\n      <th>count</th>\n      <td>1.536205e+06</td>\n      <td>1.536205e+06</td>\n      <td>1.536205e+06</td>\n      <td>1.536205e+06</td>\n      <td>1.536205e+06</td>\n      <td>1.536205e+06</td>\n    </tr>\n    <tr>\n      <th>mean</th>\n      <td>1.008989e+11</td>\n      <td>1.308424e+08</td>\n      <td>3.979646e+01</td>\n      <td>-2.437437e+00</td>\n      <td>3.979665e+01</td>\n      <td>-2.437684e+00</td>\n    </tr>\n    <tr>\n      <th>std</th>\n      <td>8.173440e+06</td>\n      <td>5.069962e+07</td>\n      <td>3.270964e+00</td>\n      <td>4.486772e+00</td>\n      <td>3.270975e+00</td>\n      <td>4.486684e+00</td>\n    </tr>\n    <tr>\n      <th>min</th>\n      <td>1.008847e+11</td>\n      <td>1.160000e+04</td>\n      <td>2.773856e+01</td>\n      <td>-1.778775e+01</td>\n      <td>2.773566e+01</td>\n      <td>-1.779950e+01</td>\n    </tr>\n    <tr>\n      <th>25%</th>\n      <td>1.008919e+11</td>\n      <td>1.079144e+08</td>\n      <td>3.946703e+01</td>\n      <td>-3.810658e+00</td>\n      <td>3.946503e+01</td>\n      <td>-3.814944e+00</td>\n    </tr>\n    <tr>\n      <th>50%</th>\n      <td>1.008987e+11</td>\n      <td>1.549434e+08</td>\n      <td>4.046509e+01</td>\n      <td>-2.994206e+00</td>\n      <td>4.046810e+01</td>\n      <td>-2.994632e+00</td>\n    </tr>\n    <tr>\n      <th>75%</th>\n      <td>1.009062e+11</td>\n      <td>1.687019e+08</td>\n      <td>4.141026e+01</td>\n      <td>2.081995e+00</td>\n      <td>4.141481e+01</td>\n      <td>2.078547e+00</td>\n    </tr>\n    <tr>\n      <th>max</th>\n      <td>1.009129e+11</td>\n      <td>1.789302e+08</td>\n      <td>4.357925e+01</td>\n      <td>4.290346e+00</td>\n      <td>4.358983e+01</td>\n      <td>4.297597e+00</td>\n    </tr>\n  </tbody>\n</table>\n</div>"
     },
     "execution_count": 7,
     "metadata": {},
     "output_type": "execute_result"
    }
   ],
   "source": [
    "data.describe()"
   ],
   "metadata": {
    "collapsed": false,
    "ExecuteTime": {
     "end_time": "2024-10-11T17:57:17.816661Z",
     "start_time": "2024-10-11T17:57:17.281327Z"
    }
   },
   "id": "4ad7421cf883f255",
   "execution_count": 7
  },
  {
   "cell_type": "code",
   "outputs": [
    {
     "data": {
      "text/plain": "country_code                       0\ncity_code                          0\norder_id                           0\ncourier_id                         0\ncreation_timestamp                 0\nactivation_timestamp               0\ntransport                          0\npickup_timestamp                 558\ndelivery_timestamp                 0\npickup_latitude                    0\npickup_longitude                   0\ndelivery_latitude                  0\ndelivery_longitude                 0\ndelivery_entering_timestamp    33946\ntime_zone                          0\np_creation_date                    0\ndtype: int64"
     },
     "execution_count": 8,
     "metadata": {},
     "output_type": "execute_result"
    }
   ],
   "source": [
    "# Check for missing values\n",
    "data.isnull().sum()"
   ],
   "metadata": {
    "collapsed": false,
    "ExecuteTime": {
     "end_time": "2024-10-11T17:57:18.794377Z",
     "start_time": "2024-10-11T17:57:17.779871Z"
    }
   },
   "id": "1df8f7cd6a104940",
   "execution_count": 8
  },
  {
   "cell_type": "code",
   "outputs": [],
   "source": [
    "# Remove rows with null values: we have 1.5 M rows, so we can afford to remove them\n",
    "data = data.dropna()"
   ],
   "metadata": {
    "collapsed": false,
    "ExecuteTime": {
     "end_time": "2024-10-11T17:57:20.052199Z",
     "start_time": "2024-10-11T17:57:18.792857Z"
    }
   },
   "id": "21a2d084be3ddfe8",
   "execution_count": 9
  },
  {
   "cell_type": "code",
   "outputs": [
    {
     "data": {
      "text/plain": "country_code                   0\ncity_code                      0\norder_id                       0\ncourier_id                     0\ncreation_timestamp             0\nactivation_timestamp           0\ntransport                      0\npickup_timestamp               0\ndelivery_timestamp             0\npickup_latitude                0\npickup_longitude               0\ndelivery_latitude              0\ndelivery_longitude             0\ndelivery_entering_timestamp    0\ntime_zone                      0\np_creation_date                0\ndtype: int64"
     },
     "execution_count": 10,
     "metadata": {},
     "output_type": "execute_result"
    }
   ],
   "source": [
    "# Check for missing values\n",
    "data.isnull().sum()"
   ],
   "metadata": {
    "collapsed": false,
    "ExecuteTime": {
     "end_time": "2024-10-11T17:57:20.829593Z",
     "start_time": "2024-10-11T17:57:20.059467Z"
    }
   },
   "id": "fea941235b67758e",
   "execution_count": 10
  },
  {
   "cell_type": "code",
   "outputs": [
    {
     "data": {
      "text/plain": "np.int64(0)"
     },
     "execution_count": 11,
     "metadata": {},
     "output_type": "execute_result"
    }
   ],
   "source": [
    "# Check for duplicates\n",
    "data.duplicated().sum()"
   ],
   "metadata": {
    "collapsed": false,
    "ExecuteTime": {
     "end_time": "2024-10-11T17:57:24.674817Z",
     "start_time": "2024-10-11T17:57:20.860899Z"
    }
   },
   "id": "83402ad003b2989e",
   "execution_count": 11
  },
  {
   "cell_type": "markdown",
   "source": [
    "## Compute new features"
   ],
   "metadata": {
    "collapsed": false
   },
   "id": "9be4b81e03b7586"
  },
  {
   "cell_type": "code",
   "outputs": [],
   "source": [
    "# Convert the creation time to datetime\n",
    "data['creation_timestamp'] = pd.to_datetime(data['creation_timestamp'])\n",
    "data['activation_timestamp'] = pd.to_datetime(data['activation_timestamp'])\n",
    "data['pickup_timestamp'] = pd.to_datetime(data['pickup_timestamp'])\n",
    "data['delivery_timestamp'] = pd.to_datetime(data['delivery_timestamp'])\n",
    "data['delivery_entering_timestamp'] = pd.to_datetime(data['delivery_entering_timestamp'])\n",
    "\n",
    "# Compute the delivery date and the delivery time\n",
    "data['creation_date'] = data['creation_timestamp'].dt.date\n",
    "data['creation_time'] = data['creation_timestamp'].dt.time\n",
    "data['creation_hour'] = data['creation_timestamp'].dt.hour"
   ],
   "metadata": {
    "collapsed": false,
    "ExecuteTime": {
     "end_time": "2024-10-11T17:57:25.991144Z",
     "start_time": "2024-10-11T17:57:24.681868Z"
    }
   },
   "id": "80163d0a54873861",
   "execution_count": 12
  },
  {
   "cell_type": "code",
   "outputs": [
    {
     "data": {
      "text/plain": "  country_code city_code      order_id  courier_id        creation_timestamp  \\\n0           ES       BCN  100907487116     8590944 2024-10-03 20:55:02+00:00   \n1           ES       MAD  100907489425   162535288 2024-10-03 20:55:43+00:00   \n2           ES       MGP  100907492383   167053666 2024-10-03 20:56:35+00:00   \n3           ES       BCN  100907493124   146788593 2024-10-03 20:56:48+00:00   \n4           ES       MAD  100907498582    45695767 2024-10-03 20:58:25+00:00   \n\n       activation_timestamp  transport                 pickup_timestamp  \\\n0 2024-10-03 20:55:04+00:00    BICYCLE 2024-10-03 21:21:44.215000+00:00   \n1 2024-10-03 20:55:44+00:00    BICYCLE 2024-10-03 21:07:40.941000+00:00   \n2 2024-10-03 20:56:36+00:00  MOTORBIKE 2024-10-03 21:06:13.285000+00:00   \n3 2024-10-03 20:56:49+00:00    BICYCLE 2024-10-03 21:07:40.560000+00:00   \n4 2024-10-03 20:58:26+00:00  MOTORBIKE 2024-10-03 21:08:59.224000+00:00   \n\n         delivery_timestamp  pickup_latitude  ...  delivery_latitude  \\\n0 2024-10-03 21:32:33+00:00        41.370594  ...          41.375412   \n1 2024-10-03 21:19:10+00:00        40.382927  ...          40.383490   \n2 2024-10-03 21:12:51+00:00        39.528732  ...          39.538560   \n3 2024-10-03 21:14:30+00:00        41.389874  ...          41.390520   \n4 2024-10-03 21:14:21+00:00        40.409720  ...          40.412880   \n\n   delivery_longitude  delivery_entering_timestamp      time_zone  \\\n0            2.104837    2024-10-03 21:29:37+00:00  Europe/Madrid   \n1           -3.640969    2024-10-03 21:16:09+00:00  Europe/Madrid   \n2            2.560975    2024-10-03 21:12:24+00:00  Europe/Madrid   \n3            2.148718    2024-10-03 21:12:00+00:00  Europe/Madrid   \n4           -3.671840    2024-10-03 21:11:21+00:00  Europe/Madrid   \n\n  p_creation_date creation_date creation_time pd_distance_haversine_m  \\\n0      2024-10-03    2024-10-03      20:55:02              895.267385   \n1      2024-10-03    2024-10-03      20:55:43             1236.264251   \n2      2024-10-03    2024-10-03      20:56:35             2062.906211   \n3      2024-10-03    2024-10-03      20:56:48              924.017061   \n4      2024-10-03    2024-10-03      20:58:25              369.394256   \n\n   pd_distance_haversine_m_sk   pd_distance_manhattan_m  \n0    [[0.008835822216147426]]  [[0.013414000000000481]]  \n1    [[0.013090010777783042]]   [[0.01513999999999971]]  \n2    [[0.011174379535681678]]  [[0.030229999999998647]]  \n3    [[0.009439473750393588]]  [[0.011689000000003169]]  \n4    [[0.003388700168894049]]  [[0.004506000000001009]]  \n\n[5 rows x 21 columns]",
      "text/html": "<div>\n<style scoped>\n    .dataframe tbody tr th:only-of-type {\n        vertical-align: middle;\n    }\n\n    .dataframe tbody tr th {\n        vertical-align: top;\n    }\n\n    .dataframe thead th {\n        text-align: right;\n    }\n</style>\n<table border=\"1\" class=\"dataframe\">\n  <thead>\n    <tr style=\"text-align: right;\">\n      <th></th>\n      <th>country_code</th>\n      <th>city_code</th>\n      <th>order_id</th>\n      <th>courier_id</th>\n      <th>creation_timestamp</th>\n      <th>activation_timestamp</th>\n      <th>transport</th>\n      <th>pickup_timestamp</th>\n      <th>delivery_timestamp</th>\n      <th>pickup_latitude</th>\n      <th>...</th>\n      <th>delivery_latitude</th>\n      <th>delivery_longitude</th>\n      <th>delivery_entering_timestamp</th>\n      <th>time_zone</th>\n      <th>p_creation_date</th>\n      <th>creation_date</th>\n      <th>creation_time</th>\n      <th>pd_distance_haversine_m</th>\n      <th>pd_distance_haversine_m_sk</th>\n      <th>pd_distance_manhattan_m</th>\n    </tr>\n  </thead>\n  <tbody>\n    <tr>\n      <th>0</th>\n      <td>ES</td>\n      <td>BCN</td>\n      <td>100907487116</td>\n      <td>8590944</td>\n      <td>2024-10-03 20:55:02+00:00</td>\n      <td>2024-10-03 20:55:04+00:00</td>\n      <td>BICYCLE</td>\n      <td>2024-10-03 21:21:44.215000+00:00</td>\n      <td>2024-10-03 21:32:33+00:00</td>\n      <td>41.370594</td>\n      <td>...</td>\n      <td>41.375412</td>\n      <td>2.104837</td>\n      <td>2024-10-03 21:29:37+00:00</td>\n      <td>Europe/Madrid</td>\n      <td>2024-10-03</td>\n      <td>2024-10-03</td>\n      <td>20:55:02</td>\n      <td>895.267385</td>\n      <td>[[0.008835822216147426]]</td>\n      <td>[[0.013414000000000481]]</td>\n    </tr>\n    <tr>\n      <th>1</th>\n      <td>ES</td>\n      <td>MAD</td>\n      <td>100907489425</td>\n      <td>162535288</td>\n      <td>2024-10-03 20:55:43+00:00</td>\n      <td>2024-10-03 20:55:44+00:00</td>\n      <td>BICYCLE</td>\n      <td>2024-10-03 21:07:40.941000+00:00</td>\n      <td>2024-10-03 21:19:10+00:00</td>\n      <td>40.382927</td>\n      <td>...</td>\n      <td>40.383490</td>\n      <td>-3.640969</td>\n      <td>2024-10-03 21:16:09+00:00</td>\n      <td>Europe/Madrid</td>\n      <td>2024-10-03</td>\n      <td>2024-10-03</td>\n      <td>20:55:43</td>\n      <td>1236.264251</td>\n      <td>[[0.013090010777783042]]</td>\n      <td>[[0.01513999999999971]]</td>\n    </tr>\n    <tr>\n      <th>2</th>\n      <td>ES</td>\n      <td>MGP</td>\n      <td>100907492383</td>\n      <td>167053666</td>\n      <td>2024-10-03 20:56:35+00:00</td>\n      <td>2024-10-03 20:56:36+00:00</td>\n      <td>MOTORBIKE</td>\n      <td>2024-10-03 21:06:13.285000+00:00</td>\n      <td>2024-10-03 21:12:51+00:00</td>\n      <td>39.528732</td>\n      <td>...</td>\n      <td>39.538560</td>\n      <td>2.560975</td>\n      <td>2024-10-03 21:12:24+00:00</td>\n      <td>Europe/Madrid</td>\n      <td>2024-10-03</td>\n      <td>2024-10-03</td>\n      <td>20:56:35</td>\n      <td>2062.906211</td>\n      <td>[[0.011174379535681678]]</td>\n      <td>[[0.030229999999998647]]</td>\n    </tr>\n    <tr>\n      <th>3</th>\n      <td>ES</td>\n      <td>BCN</td>\n      <td>100907493124</td>\n      <td>146788593</td>\n      <td>2024-10-03 20:56:48+00:00</td>\n      <td>2024-10-03 20:56:49+00:00</td>\n      <td>BICYCLE</td>\n      <td>2024-10-03 21:07:40.560000+00:00</td>\n      <td>2024-10-03 21:14:30+00:00</td>\n      <td>41.389874</td>\n      <td>...</td>\n      <td>41.390520</td>\n      <td>2.148718</td>\n      <td>2024-10-03 21:12:00+00:00</td>\n      <td>Europe/Madrid</td>\n      <td>2024-10-03</td>\n      <td>2024-10-03</td>\n      <td>20:56:48</td>\n      <td>924.017061</td>\n      <td>[[0.009439473750393588]]</td>\n      <td>[[0.011689000000003169]]</td>\n    </tr>\n    <tr>\n      <th>4</th>\n      <td>ES</td>\n      <td>MAD</td>\n      <td>100907498582</td>\n      <td>45695767</td>\n      <td>2024-10-03 20:58:25+00:00</td>\n      <td>2024-10-03 20:58:26+00:00</td>\n      <td>MOTORBIKE</td>\n      <td>2024-10-03 21:08:59.224000+00:00</td>\n      <td>2024-10-03 21:14:21+00:00</td>\n      <td>40.409720</td>\n      <td>...</td>\n      <td>40.412880</td>\n      <td>-3.671840</td>\n      <td>2024-10-03 21:11:21+00:00</td>\n      <td>Europe/Madrid</td>\n      <td>2024-10-03</td>\n      <td>2024-10-03</td>\n      <td>20:58:25</td>\n      <td>369.394256</td>\n      <td>[[0.003388700168894049]]</td>\n      <td>[[0.004506000000001009]]</td>\n    </tr>\n  </tbody>\n</table>\n<p>5 rows × 21 columns</p>\n</div>"
     },
     "execution_count": 13,
     "metadata": {},
     "output_type": "execute_result"
    }
   ],
   "source": [
    "# Compute the distance between the pickup and delivery points\n",
    "data['pd_distance_haversine_m'] = data.apply(lambda x: haversine((x['pickup_latitude'], x['pickup_longitude']), (x['delivery_latitude'], x['delivery_longitude']), unit=Unit.METERS), axis=1)\n",
    "data['pd_distance_haversine_m_sk'] = data.apply(lambda x: haversine_distances(np.array([[x['pickup_latitude'], x['pickup_longitude']]]), np.array([[x['delivery_latitude'], x['delivery_longitude']]])), axis=1)\n",
    "data['pd_distance_manhattan_m'] = data.apply(lambda x: manhattan_distances(np.array([[x['pickup_latitude'], x['pickup_longitude']]]), np.array([[x['delivery_latitude'], x['delivery_longitude']]])), axis=1)\n",
    "data.head()"
   ],
   "metadata": {
    "collapsed": false,
    "ExecuteTime": {
     "end_time": "2024-10-11T18:13:04.470456Z",
     "start_time": "2024-10-11T17:57:26.431765Z"
    }
   },
   "id": "c1f7b9a860a43cc9",
   "execution_count": 13
  },
  {
   "cell_type": "markdown",
   "source": [
    "## EDA"
   ],
   "metadata": {
    "collapsed": false
   },
   "id": "9f700ca8f9a310ca"
  },
  {
   "cell_type": "code",
   "outputs": [
    {
     "data": {
      "text/plain": "<Figure size 1500x800 with 1 Axes>",
      "image/png": "[encoded data removed]"
     },
     "metadata": {},
     "output_type": "display_data"
    }
   ],
   "source": [
    "# Histogram of the # of data per day / hour\n",
    "plt.figure(figsize=(15, 8))\n",
    "plt.hist(data['creation_timestamp'], bins = 1000)\n",
    "plt.show()"
   ],
   "metadata": {
    "collapsed": false,
    "ExecuteTime": {
     "end_time": "2024-10-11T18:13:24.769864Z",
     "start_time": "2024-10-11T18:13:04.469647Z"
    }
   },
   "id": "71786bb2d8f08ad7",
   "execution_count": 14
  },
  {
   "cell_type": "code",
   "outputs": [
    {
     "data": {
      "text/plain": "<Figure size 1500x800 with 1 Axes>",
      "image/png": "[encoded data removed]"
     },
     "metadata": {},
     "output_type": "display_data"
    }
   ],
   "source": [
    "plt.figure(figsize=(15, 8))\n",
    "plt.hist(data['creation_date'], bins = 14)\n",
    "plt.show()"
   ],
   "metadata": {
    "collapsed": false,
    "ExecuteTime": {
     "end_time": "2024-10-11T18:13:26.619856Z",
     "start_time": "2024-10-11T18:13:26.319230Z"
    }
   },
   "id": "9b49b7bdfaf6dc14",
   "execution_count": 15
  },
  {
   "cell_type": "code",
   "outputs": [
    {
     "data": {
      "text/plain": "<Figure size 1500x800 with 1 Axes>",
      "image/png": "[encoded data removed]"
     },
     "metadata": {},
     "output_type": "display_data"
    }
   ],
   "source": [
    "plt.figure(figsize=(15, 8))\n",
    "plt.hist(data['creation_hour'])\n",
    "plt.show()"
   ],
   "metadata": {
    "collapsed": false,
    "ExecuteTime": {
     "end_time": "2024-10-12T21:20:31.600416Z",
     "start_time": "2024-10-12T21:20:31.203423Z"
    }
   },
   "id": "76b3fb2c7e172f38",
   "execution_count": 19
  }
 ],
 "metadata": {
  "kernelspec": {
   "display_name": "Python 3",
   "language": "python",
   "name": "python3"
  },
  "language_info": {
   "codemirror_mode": {
    "name": "ipython",
    "version": 2
   },
   "file_extension": ".py",
   "mimetype": "text/x-python",
   "name": "python",
   "nbconvert_exporter": "python",
   "pygments_lexer": "ipython2",
   "version": "2.7.6"
  }
 },
 "nbformat": 4,
 "nbformat_minor": 5
}
