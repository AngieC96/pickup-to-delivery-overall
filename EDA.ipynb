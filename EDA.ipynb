{
 "cells": [
  {
   "cell_type": "markdown",
   "source": [
    "# EDA"
   ],
   "metadata": {
    "collapsed": false
   },
   "id": "24ad314bf282ec83"
  },
  {
   "cell_type": "code",
   "outputs": [],
   "source": [
    "import os\n",
    "import sys\n",
    "import warnings\n",
    "import pandas as pd\n",
    "import numpy as np\n",
    "import csv\n",
    "from haversine import haversine, Unit\n",
    "\n",
    "sys.path.insert(0, os.path.expanduser('./'))\n",
    "import query_runner as qr\n",
    "import utils"
   ],
   "metadata": {
    "collapsed": false,
    "ExecuteTime": {
     "end_time": "2024-10-07T10:31:30.966278Z",
     "start_time": "2024-10-07T10:31:30.130322Z"
    }
   },
   "id": "cb71195be0f3a22f",
   "execution_count": 1
  },
  {
   "cell_type": "code",
   "outputs": [],
   "source": [
    "base_query_path = './queries/'\n",
    "dwh_config, livedb_config, parameters_config = utils.load_config(config_file='./config.ini')\n",
    "datalake_connection = qr.create_connection(db='datalake')\n",
    "#monolith_connection = qr.create_connection(user=livedb_config['monolith_username'], password=livedb_config['monolith_password'], db='livedb')\n",
    "#dispatching_db_connection = qr.create_connection(user=livedb_config['dispatching_db_username'], password=livedb_config['dispatching_db_password'], db='dispatchingdb')"
   ],
   "metadata": {
    "collapsed": false,
    "ExecuteTime": {
     "end_time": "2024-10-07T10:31:30.976134Z",
     "start_time": "2024-10-07T10:31:30.968643Z"
    }
   },
   "id": "52eb5fbdb862edbe",
   "execution_count": 2
  },
  {
   "cell_type": "code",
   "outputs": [
    {
     "name": "stdout",
     "output_type": "stream",
     "text": [
      "Start date: 2024-09-23 | End date: 2024-10-06 | Countries: ES\n"
     ]
    }
   ],
   "source": [
    "start_date = parameters_config['start_date']\n",
    "end_date = parameters_config['end_date']\n",
    "country_code = parameters_config['country_code']\n",
    "\n",
    "print(f'Start date: {start_date} | End date: {end_date} | Countries: {country_code}')"
   ],
   "metadata": {
    "collapsed": false,
    "ExecuteTime": {
     "end_time": "2024-10-07T10:31:30.981535Z",
     "start_time": "2024-10-07T10:31:30.974950Z"
    }
   },
   "id": "f26eb0ba80de7f8e",
   "execution_count": 3
  },
  {
   "cell_type": "code",
   "outputs": [],
   "source": [
    "parameters = {\n",
    "    'start_date': start_date,\n",
    "    'end_date': end_date,\n",
    "    'country_code': country_code\n",
    "}"
   ],
   "metadata": {
    "collapsed": false,
    "ExecuteTime": {
     "end_time": "2024-10-07T10:31:30.982393Z",
     "start_time": "2024-10-07T10:31:30.979636Z"
    }
   },
   "id": "e3c251ccf4f2beb1",
   "execution_count": 4
  },
  {
   "cell_type": "markdown",
   "source": [
    "## Load the data"
   ],
   "metadata": {
    "collapsed": false
   },
   "id": "3c0d6dbf6375ce8"
  },
  {
   "cell_type": "code",
   "outputs": [
    {
     "name": "stdout",
     "output_type": "stream",
     "text": [
      "Open the following URL in browser for the external authentication:\n",
      "https://starburst.g8s-data-platform-prod.glovoint.com/oauth2/token/initiate/780b47b9b02016d04d97360e9091335dbb2048e67a75241de5e46151ca65d14b\n"
     ]
    },
    {
     "data": {
      "text/plain": "       order_id  courier_id country_code city_code           activation_time  \\\n0  100907487116     8590944           ES       BCN 2024-10-03 20:55:04+00:00   \n1  100907489425   162535288           ES       MAD 2024-10-03 20:55:44+00:00   \n2  100907492383   167053666           ES       MGP 2024-10-03 20:56:36+00:00   \n3  100907493124   146788593           ES       BCN 2024-10-03 20:56:49+00:00   \n4  100907498582    45695767           ES       MAD 2024-10-03 20:58:26+00:00   \n\n   transport                      pickup_time             delivery_time  \\\n0    BICYCLE 2024-10-03 21:21:44.215000+00:00 2024-10-03 21:32:33+00:00   \n1    BICYCLE 2024-10-03 21:07:40.941000+00:00 2024-10-03 21:19:10+00:00   \n2  MOTORBIKE 2024-10-03 21:06:13.285000+00:00 2024-10-03 21:12:51+00:00   \n3    BICYCLE 2024-10-03 21:07:40.560000+00:00 2024-10-03 21:14:30+00:00   \n4  MOTORBIKE 2024-10-03 21:08:59.224000+00:00 2024-10-03 21:14:21+00:00   \n\n   pickup_latitude  pickup_longitude  delivery_latitude  delivery_longitude  \\\n0        41.370594          2.113433          41.375412            2.104837   \n1        40.382927         -3.626392          40.383490           -3.640969   \n2        39.528732          2.540573          39.538560            2.560975   \n3        41.389874          2.159761          41.390520            2.148718   \n4        40.409720         -3.670494          40.412880           -3.671840   \n\n     delivery_entering_time      time_zone p_creation_date  \n0 2024-10-03 21:29:37+00:00  Europe/Madrid      2024-10-03  \n1 2024-10-03 21:16:09+00:00  Europe/Madrid      2024-10-03  \n2 2024-10-03 21:12:24+00:00  Europe/Madrid      2024-10-03  \n3 2024-10-03 21:12:00+00:00  Europe/Madrid      2024-10-03  \n4 2024-10-03 21:11:21+00:00  Europe/Madrid      2024-10-03  ",
      "text/html": "<div>\n<style scoped>\n    .dataframe tbody tr th:only-of-type {\n        vertical-align: middle;\n    }\n\n    .dataframe tbody tr th {\n        vertical-align: top;\n    }\n\n    .dataframe thead th {\n        text-align: right;\n    }\n</style>\n<table border=\"1\" class=\"dataframe\">\n  <thead>\n    <tr style=\"text-align: right;\">\n      <th></th>\n      <th>order_id</th>\n      <th>courier_id</th>\n      <th>country_code</th>\n      <th>city_code</th>\n      <th>activation_time</th>\n      <th>transport</th>\n      <th>pickup_time</th>\n      <th>delivery_time</th>\n      <th>pickup_latitude</th>\n      <th>pickup_longitude</th>\n      <th>delivery_latitude</th>\n      <th>delivery_longitude</th>\n      <th>delivery_entering_time</th>\n      <th>time_zone</th>\n      <th>p_creation_date</th>\n    </tr>\n  </thead>\n  <tbody>\n    <tr>\n      <th>0</th>\n      <td>100907487116</td>\n      <td>8590944</td>\n      <td>ES</td>\n      <td>BCN</td>\n      <td>2024-10-03 20:55:04+00:00</td>\n      <td>BICYCLE</td>\n      <td>2024-10-03 21:21:44.215000+00:00</td>\n      <td>2024-10-03 21:32:33+00:00</td>\n      <td>41.370594</td>\n      <td>2.113433</td>\n      <td>41.375412</td>\n      <td>2.104837</td>\n      <td>2024-10-03 21:29:37+00:00</td>\n      <td>Europe/Madrid</td>\n      <td>2024-10-03</td>\n    </tr>\n    <tr>\n      <th>1</th>\n      <td>100907489425</td>\n      <td>162535288</td>\n      <td>ES</td>\n      <td>MAD</td>\n      <td>2024-10-03 20:55:44+00:00</td>\n      <td>BICYCLE</td>\n      <td>2024-10-03 21:07:40.941000+00:00</td>\n      <td>2024-10-03 21:19:10+00:00</td>\n      <td>40.382927</td>\n      <td>-3.626392</td>\n      <td>40.383490</td>\n      <td>-3.640969</td>\n      <td>2024-10-03 21:16:09+00:00</td>\n      <td>Europe/Madrid</td>\n      <td>2024-10-03</td>\n    </tr>\n    <tr>\n      <th>2</th>\n      <td>100907492383</td>\n      <td>167053666</td>\n      <td>ES</td>\n      <td>MGP</td>\n      <td>2024-10-03 20:56:36+00:00</td>\n      <td>MOTORBIKE</td>\n      <td>2024-10-03 21:06:13.285000+00:00</td>\n      <td>2024-10-03 21:12:51+00:00</td>\n      <td>39.528732</td>\n      <td>2.540573</td>\n      <td>39.538560</td>\n      <td>2.560975</td>\n      <td>2024-10-03 21:12:24+00:00</td>\n      <td>Europe/Madrid</td>\n      <td>2024-10-03</td>\n    </tr>\n    <tr>\n      <th>3</th>\n      <td>100907493124</td>\n      <td>146788593</td>\n      <td>ES</td>\n      <td>BCN</td>\n      <td>2024-10-03 20:56:49+00:00</td>\n      <td>BICYCLE</td>\n      <td>2024-10-03 21:07:40.560000+00:00</td>\n      <td>2024-10-03 21:14:30+00:00</td>\n      <td>41.389874</td>\n      <td>2.159761</td>\n      <td>41.390520</td>\n      <td>2.148718</td>\n      <td>2024-10-03 21:12:00+00:00</td>\n      <td>Europe/Madrid</td>\n      <td>2024-10-03</td>\n    </tr>\n    <tr>\n      <th>4</th>\n      <td>100907498582</td>\n      <td>45695767</td>\n      <td>ES</td>\n      <td>MAD</td>\n      <td>2024-10-03 20:58:26+00:00</td>\n      <td>MOTORBIKE</td>\n      <td>2024-10-03 21:08:59.224000+00:00</td>\n      <td>2024-10-03 21:14:21+00:00</td>\n      <td>40.409720</td>\n      <td>-3.670494</td>\n      <td>40.412880</td>\n      <td>-3.671840</td>\n      <td>2024-10-03 21:11:21+00:00</td>\n      <td>Europe/Madrid</td>\n      <td>2024-10-03</td>\n    </tr>\n  </tbody>\n</table>\n</div>"
     },
     "execution_count": 5,
     "metadata": {},
     "output_type": "execute_result"
    }
   ],
   "source": [
    "query_name = '''\n",
    "SELECT\n",
    "    olf.order_id                                     AS order_id,\n",
    "    olf.courier_id                                   AS courier_id,\n",
    "    olf.country_code                                 AS country_code,\n",
    "    olf.city_code                                    AS city_code,\n",
    "    olf.order_activated_local_datetime               AS activation_time,\n",
    "    olf.courier_transport                            AS transport,\n",
    "    olf.order_picked_up_local_datetime               AS pickup_time,\n",
    "    olf.order_delivered_local_datetime               AS delivery_time,\n",
    "    olf.order_pickup_latitude                        AS pickup_latitude,\n",
    "    olf.order_pickup_longitude                       AS pickup_longitude,\n",
    "    olf.order_delivery_latitude                      AS delivery_latitude,\n",
    "    olf.order_delivery_longitude                     AS delivery_longitude,\n",
    "    olf.order_arrival_to_delivery_local_datetime     AS delivery_entering_time,\n",
    "    olf.order_time_zone                              AS time_zone,\n",
    "    olf.p_creation_date\n",
    "FROM delta.courier_routing_courier_ml_features_odp.order_level_features AS olf\n",
    "WHERE order_final_status = 'DeliveredStatus'\n",
    "    AND order_number_of_assignments = 1\n",
    "    AND order_bundle_index IS NULL\n",
    "    AND p_creation_date >= DATE '2024-09-23' AND p_creation_date < DATE '2024-10-06'\n",
    "    AND country_code IN ('ES')\n",
    "'''\n",
    "\n",
    "query = qr.Query(base_query_path, query_name, datalake_connection, parameters_dict=parameters, query_from_file = False)\n",
    "\n",
    "df = query.run()\n",
    "df = df.fillna(value=np.nan)\n",
    "\n",
    "data = df.copy()\n",
    "data.head()"
   ],
   "metadata": {
    "collapsed": false,
    "ExecuteTime": {
     "end_time": "2024-10-07T10:33:03.958495Z",
     "start_time": "2024-10-07T10:31:30.986558Z"
    }
   },
   "id": "1de21fec65a3d1b1",
   "execution_count": 5
  },
  {
   "cell_type": "code",
   "outputs": [
    {
     "data": {
      "text/plain": "       order_id  courier_id country_code city_code           activation_time  \\\n0  100907487116     8590944           ES       BCN 2024-10-03 20:55:04+00:00   \n1  100907489425   162535288           ES       MAD 2024-10-03 20:55:44+00:00   \n2  100907492383   167053666           ES       MGP 2024-10-03 20:56:36+00:00   \n3  100907493124   146788593           ES       BCN 2024-10-03 20:56:49+00:00   \n4  100907498582    45695767           ES       MAD 2024-10-03 20:58:26+00:00   \n\n   transport                      pickup_time             delivery_time  \\\n0    BICYCLE 2024-10-03 21:21:44.215000+00:00 2024-10-03 21:32:33+00:00   \n1    BICYCLE 2024-10-03 21:07:40.941000+00:00 2024-10-03 21:19:10+00:00   \n2  MOTORBIKE 2024-10-03 21:06:13.285000+00:00 2024-10-03 21:12:51+00:00   \n3    BICYCLE 2024-10-03 21:07:40.560000+00:00 2024-10-03 21:14:30+00:00   \n4  MOTORBIKE 2024-10-03 21:08:59.224000+00:00 2024-10-03 21:14:21+00:00   \n\n   pickup_latitude  pickup_longitude  delivery_latitude  delivery_longitude  \\\n0        41.370594          2.113433          41.375412            2.104837   \n1        40.382927         -3.626392          40.383490           -3.640969   \n2        39.528732          2.540573          39.538560            2.560975   \n3        41.389874          2.159761          41.390520            2.148718   \n4        40.409720         -3.670494          40.412880           -3.671840   \n\n     delivery_entering_time      time_zone p_creation_date  pd_distance_m  \n0 2024-10-03 21:29:37+00:00  Europe/Madrid      2024-10-03     895.267385  \n1 2024-10-03 21:16:09+00:00  Europe/Madrid      2024-10-03    1236.264251  \n2 2024-10-03 21:12:24+00:00  Europe/Madrid      2024-10-03    2062.906211  \n3 2024-10-03 21:12:00+00:00  Europe/Madrid      2024-10-03     924.017061  \n4 2024-10-03 21:11:21+00:00  Europe/Madrid      2024-10-03     369.394256  ",
      "text/html": "<div>\n<style scoped>\n    .dataframe tbody tr th:only-of-type {\n        vertical-align: middle;\n    }\n\n    .dataframe tbody tr th {\n        vertical-align: top;\n    }\n\n    .dataframe thead th {\n        text-align: right;\n    }\n</style>\n<table border=\"1\" class=\"dataframe\">\n  <thead>\n    <tr style=\"text-align: right;\">\n      <th></th>\n      <th>order_id</th>\n      <th>courier_id</th>\n      <th>country_code</th>\n      <th>city_code</th>\n      <th>activation_time</th>\n      <th>transport</th>\n      <th>pickup_time</th>\n      <th>delivery_time</th>\n      <th>pickup_latitude</th>\n      <th>pickup_longitude</th>\n      <th>delivery_latitude</th>\n      <th>delivery_longitude</th>\n      <th>delivery_entering_time</th>\n      <th>time_zone</th>\n      <th>p_creation_date</th>\n      <th>pd_distance_m</th>\n    </tr>\n  </thead>\n  <tbody>\n    <tr>\n      <th>0</th>\n      <td>100907487116</td>\n      <td>8590944</td>\n      <td>ES</td>\n      <td>BCN</td>\n      <td>2024-10-03 20:55:04+00:00</td>\n      <td>BICYCLE</td>\n      <td>2024-10-03 21:21:44.215000+00:00</td>\n      <td>2024-10-03 21:32:33+00:00</td>\n      <td>41.370594</td>\n      <td>2.113433</td>\n      <td>41.375412</td>\n      <td>2.104837</td>\n      <td>2024-10-03 21:29:37+00:00</td>\n      <td>Europe/Madrid</td>\n      <td>2024-10-03</td>\n      <td>895.267385</td>\n    </tr>\n    <tr>\n      <th>1</th>\n      <td>100907489425</td>\n      <td>162535288</td>\n      <td>ES</td>\n      <td>MAD</td>\n      <td>2024-10-03 20:55:44+00:00</td>\n      <td>BICYCLE</td>\n      <td>2024-10-03 21:07:40.941000+00:00</td>\n      <td>2024-10-03 21:19:10+00:00</td>\n      <td>40.382927</td>\n      <td>-3.626392</td>\n      <td>40.383490</td>\n      <td>-3.640969</td>\n      <td>2024-10-03 21:16:09+00:00</td>\n      <td>Europe/Madrid</td>\n      <td>2024-10-03</td>\n      <td>1236.264251</td>\n    </tr>\n    <tr>\n      <th>2</th>\n      <td>100907492383</td>\n      <td>167053666</td>\n      <td>ES</td>\n      <td>MGP</td>\n      <td>2024-10-03 20:56:36+00:00</td>\n      <td>MOTORBIKE</td>\n      <td>2024-10-03 21:06:13.285000+00:00</td>\n      <td>2024-10-03 21:12:51+00:00</td>\n      <td>39.528732</td>\n      <td>2.540573</td>\n      <td>39.538560</td>\n      <td>2.560975</td>\n      <td>2024-10-03 21:12:24+00:00</td>\n      <td>Europe/Madrid</td>\n      <td>2024-10-03</td>\n      <td>2062.906211</td>\n    </tr>\n    <tr>\n      <th>3</th>\n      <td>100907493124</td>\n      <td>146788593</td>\n      <td>ES</td>\n      <td>BCN</td>\n      <td>2024-10-03 20:56:49+00:00</td>\n      <td>BICYCLE</td>\n      <td>2024-10-03 21:07:40.560000+00:00</td>\n      <td>2024-10-03 21:14:30+00:00</td>\n      <td>41.389874</td>\n      <td>2.159761</td>\n      <td>41.390520</td>\n      <td>2.148718</td>\n      <td>2024-10-03 21:12:00+00:00</td>\n      <td>Europe/Madrid</td>\n      <td>2024-10-03</td>\n      <td>924.017061</td>\n    </tr>\n    <tr>\n      <th>4</th>\n      <td>100907498582</td>\n      <td>45695767</td>\n      <td>ES</td>\n      <td>MAD</td>\n      <td>2024-10-03 20:58:26+00:00</td>\n      <td>MOTORBIKE</td>\n      <td>2024-10-03 21:08:59.224000+00:00</td>\n      <td>2024-10-03 21:14:21+00:00</td>\n      <td>40.409720</td>\n      <td>-3.670494</td>\n      <td>40.412880</td>\n      <td>-3.671840</td>\n      <td>2024-10-03 21:11:21+00:00</td>\n      <td>Europe/Madrid</td>\n      <td>2024-10-03</td>\n      <td>369.394256</td>\n    </tr>\n  </tbody>\n</table>\n</div>"
     },
     "execution_count": 7,
     "metadata": {},
     "output_type": "execute_result"
    }
   ],
   "source": [
    "# Compute the distance between the pickup and delivery points\n",
    "data['pd_distance_m'] = data.apply(lambda x: haversine((x['pickup_latitude'], x['pickup_longitude']), (x['delivery_latitude'], x['delivery_longitude']), unit=Unit.METERS), axis=1)\n",
    "data.head()"
   ],
   "metadata": {
    "collapsed": false,
    "ExecuteTime": {
     "end_time": "2024-10-07T10:37:20.692442Z",
     "start_time": "2024-10-07T10:36:58.014507Z"
    }
   },
   "id": "80163d0a54873861",
   "execution_count": 7
  }
 ],
 "metadata": {
  "kernelspec": {
   "display_name": "Python 3",
   "language": "python",
   "name": "python3"
  },
  "language_info": {
   "codemirror_mode": {
    "name": "ipython",
    "version": 2
   },
   "file_extension": ".py",
   "mimetype": "text/x-python",
   "name": "python",
   "nbconvert_exporter": "python",
   "pygments_lexer": "ipython2",
   "version": "2.7.6"
  }
 },
 "nbformat": 4,
 "nbformat_minor": 5
}
