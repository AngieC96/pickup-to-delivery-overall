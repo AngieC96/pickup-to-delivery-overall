{
 "cells": [
  {
   "cell_type": "markdown",
   "id": "24ad314bf282ec83",
   "metadata": {
    "collapsed": false
   },
   "source": [
    "# Pickup to Delivery Overall"
   ]
  },
  {
   "cell_type": "code",
   "execution_count": 1,
   "id": "cb71195be0f3a22f",
   "metadata": {
    "ExecuteTime": {
     "end_time": "2025-02-13T15:32:38.506875Z",
     "start_time": "2025-02-13T15:32:35.405477Z"
    },
    "collapsed": false
   },
   "outputs": [],
   "source": [
    "import os\n",
    "import sys\n",
    "import shutil\n",
    "import pandas as pd\n",
    "import numpy as np\n",
    "import pickle\n",
    "import matplotlib.pyplot as plt\n",
    "from haversine import haversine, Unit\n",
    "from sklearn.metrics.pairwise import haversine_distances, manhattan_distances\n",
    "from sklearn.model_selection import train_test_split, cross_val_score\n",
    "\n",
    "sys.path.insert(0, os.path.expanduser('./'))\n",
    "import query_runner as qr\n",
    "import utils"
   ]
  },
  {
   "cell_type": "code",
   "execution_count": 2,
   "id": "52eb5fbdb862edbe",
   "metadata": {
    "ExecuteTime": {
     "end_time": "2025-02-13T15:32:38.515098Z",
     "start_time": "2025-02-13T15:32:38.509264Z"
    },
    "collapsed": false
   },
   "outputs": [],
   "source": [
    "base_query_path = './queries/'\n",
    "dwh_config, livedb_config, parameters_config = utils.load_config(config_file='./config.ini')\n",
    "datalake_connection = qr.create_connection(db='datalake')\n",
    "#monolith_connection = qr.create_connection(user=livedb_config['monolith_username'], password=livedb_config['monolith_password'], db='livedb')\n",
    "#dispatching_db_connection = qr.create_connection(user=livedb_config['dispatching_db_username'], password=livedb_config['dispatching_db_password'], db='dispatchingdb')"
   ]
  },
  {
   "cell_type": "code",
   "execution_count": 3,
   "id": "f26eb0ba80de7f8e",
   "metadata": {
    "ExecuteTime": {
     "end_time": "2025-02-13T15:32:54.897564Z",
     "start_time": "2025-02-13T15:32:54.858561Z"
    },
    "collapsed": false
   },
   "outputs": [
    {
     "name": "stdout",
     "output_type": "stream",
     "text": [
      "Start date: 2024-09-30 | End date: 2024-10-20 | Countries: ES | Cities: 'MAD', 'BCN', 'SEV', 'ALC'\n"
     ]
    }
   ],
   "source": [
    "start_date = parameters_config['start_date']\n",
    "end_date = parameters_config['end_date']\n",
    "country_code = parameters_config['country_code']\n",
    "cities = parameters_config['cities']\n",
    "\n",
    "print(f'Start date: {start_date} | End date: {end_date} | Countries: {country_code} | Cities: {cities}')"
   ]
  },
  {
   "cell_type": "code",
   "execution_count": 4,
   "id": "e3c251ccf4f2beb1",
   "metadata": {
    "ExecuteTime": {
     "end_time": "2025-02-13T15:32:55.381622Z",
     "start_time": "2025-02-13T15:32:55.337393Z"
    },
    "collapsed": false
   },
   "outputs": [],
   "source": [
    "parameters = {\n",
    "    'start_date': start_date,\n",
    "    'end_date': end_date,\n",
    "    'country_code': country_code,\n",
    "    'cities': cities\n",
    "}"
   ]
  },
  {
   "cell_type": "markdown",
   "id": "3c0d6dbf6375ce8",
   "metadata": {
    "collapsed": false
   },
   "source": [
    "## Load the data"
   ]
  },
  {
   "cell_type": "code",
   "execution_count": 5,
   "id": "1de21fec65a3d1b1",
   "metadata": {
    "collapsed": false
   },
   "outputs": [
    {
     "name": "stdout",
     "output_type": "stream",
     "text": [
      "Open the following URL in browser for the external authentication:\n",
      "https://starburst.g8s-data-platform-prod.glovoint.com/oauth2/token/initiate/88d6e13a4d8f564330b5e61fa4a4757f8d06e65329c51e5563f4a33fee91ad5d\n"
     ]
    },
    {
     "data": {
      "text/html": [
       "<div>\n",
       "<style scoped>\n",
       "    .dataframe tbody tr th:only-of-type {\n",
       "        vertical-align: middle;\n",
       "    }\n",
       "\n",
       "    .dataframe tbody tr th {\n",
       "        vertical-align: top;\n",
       "    }\n",
       "\n",
       "    .dataframe thead th {\n",
       "        text-align: right;\n",
       "    }\n",
       "</style>\n",
       "<table border=\"1\" class=\"dataframe\">\n",
       "  <thead>\n",
       "    <tr style=\"text-align: right;\">\n",
       "      <th></th>\n",
       "      <th>country_code</th>\n",
       "      <th>city_code</th>\n",
       "      <th>order_id</th>\n",
       "      <th>courier_id</th>\n",
       "      <th>creation_timestamp</th>\n",
       "      <th>activation_timestamp</th>\n",
       "      <th>transport</th>\n",
       "      <th>pickup_latitude</th>\n",
       "      <th>pickup_longitude</th>\n",
       "      <th>delivery_latitude</th>\n",
       "      <th>delivery_longitude</th>\n",
       "      <th>time_zone</th>\n",
       "      <th>pickup_timestamp</th>\n",
       "      <th>delivery_timestamp</th>\n",
       "      <th>creation_date</th>\n",
       "    </tr>\n",
       "  </thead>\n",
       "  <tbody>\n",
       "    <tr>\n",
       "      <th>0</th>\n",
       "      <td>ES</td>\n",
       "      <td>BCN</td>\n",
       "      <td>100907487116</td>\n",
       "      <td>8590944</td>\n",
       "      <td>2024-10-03 20:55:02+00:00</td>\n",
       "      <td>2024-10-03 20:55:04+00:00</td>\n",
       "      <td>BICYCLE</td>\n",
       "      <td>41.370594</td>\n",
       "      <td>2.113433</td>\n",
       "      <td>41.375412</td>\n",
       "      <td>2.104837</td>\n",
       "      <td>Europe/Madrid</td>\n",
       "      <td>2024-10-03 21:21:44.215000+00:00</td>\n",
       "      <td>2024-10-03 21:32:33+00:00</td>\n",
       "      <td>2024-10-03</td>\n",
       "    </tr>\n",
       "    <tr>\n",
       "      <th>1</th>\n",
       "      <td>ES</td>\n",
       "      <td>MAD</td>\n",
       "      <td>100907489425</td>\n",
       "      <td>162535288</td>\n",
       "      <td>2024-10-03 20:55:43+00:00</td>\n",
       "      <td>2024-10-03 20:55:44+00:00</td>\n",
       "      <td>BICYCLE</td>\n",
       "      <td>40.382927</td>\n",
       "      <td>-3.626392</td>\n",
       "      <td>40.383490</td>\n",
       "      <td>-3.640969</td>\n",
       "      <td>Europe/Madrid</td>\n",
       "      <td>2024-10-03 21:07:40.941000+00:00</td>\n",
       "      <td>2024-10-03 21:19:10+00:00</td>\n",
       "      <td>2024-10-03</td>\n",
       "    </tr>\n",
       "    <tr>\n",
       "      <th>2</th>\n",
       "      <td>ES</td>\n",
       "      <td>BCN</td>\n",
       "      <td>100907493124</td>\n",
       "      <td>146788593</td>\n",
       "      <td>2024-10-03 20:56:48+00:00</td>\n",
       "      <td>2024-10-03 20:56:49+00:00</td>\n",
       "      <td>BICYCLE</td>\n",
       "      <td>41.389874</td>\n",
       "      <td>2.159761</td>\n",
       "      <td>41.390520</td>\n",
       "      <td>2.148718</td>\n",
       "      <td>Europe/Madrid</td>\n",
       "      <td>2024-10-03 21:07:40.560000+00:00</td>\n",
       "      <td>2024-10-03 21:14:30+00:00</td>\n",
       "      <td>2024-10-03</td>\n",
       "    </tr>\n",
       "    <tr>\n",
       "      <th>3</th>\n",
       "      <td>ES</td>\n",
       "      <td>MAD</td>\n",
       "      <td>100907498582</td>\n",
       "      <td>45695767</td>\n",
       "      <td>2024-10-03 20:58:25+00:00</td>\n",
       "      <td>2024-10-03 20:58:26+00:00</td>\n",
       "      <td>MOTORBIKE</td>\n",
       "      <td>40.409720</td>\n",
       "      <td>-3.670494</td>\n",
       "      <td>40.412880</td>\n",
       "      <td>-3.671840</td>\n",
       "      <td>Europe/Madrid</td>\n",
       "      <td>2024-10-03 21:08:59.224000+00:00</td>\n",
       "      <td>2024-10-03 21:14:21+00:00</td>\n",
       "      <td>2024-10-03</td>\n",
       "    </tr>\n",
       "    <tr>\n",
       "      <th>4</th>\n",
       "      <td>ES</td>\n",
       "      <td>MAD</td>\n",
       "      <td>100907503468</td>\n",
       "      <td>166385377</td>\n",
       "      <td>2024-10-03 20:59:51+00:00</td>\n",
       "      <td>2024-10-03 20:59:53+00:00</td>\n",
       "      <td>MOTORBIKE</td>\n",
       "      <td>40.433780</td>\n",
       "      <td>-3.683620</td>\n",
       "      <td>40.430176</td>\n",
       "      <td>-3.673502</td>\n",
       "      <td>Europe/Madrid</td>\n",
       "      <td>2024-10-03 21:09:49.060000+00:00</td>\n",
       "      <td>2024-10-03 21:20:30+00:00</td>\n",
       "      <td>2024-10-03</td>\n",
       "    </tr>\n",
       "  </tbody>\n",
       "</table>\n",
       "</div>"
      ],
      "text/plain": [
       "  country_code city_code      order_id  courier_id        creation_timestamp  \\\n",
       "0           ES       BCN  100907487116     8590944 2024-10-03 20:55:02+00:00   \n",
       "1           ES       MAD  100907489425   162535288 2024-10-03 20:55:43+00:00   \n",
       "2           ES       BCN  100907493124   146788593 2024-10-03 20:56:48+00:00   \n",
       "3           ES       MAD  100907498582    45695767 2024-10-03 20:58:25+00:00   \n",
       "4           ES       MAD  100907503468   166385377 2024-10-03 20:59:51+00:00   \n",
       "\n",
       "       activation_timestamp  transport  pickup_latitude  pickup_longitude  \\\n",
       "0 2024-10-03 20:55:04+00:00    BICYCLE        41.370594          2.113433   \n",
       "1 2024-10-03 20:55:44+00:00    BICYCLE        40.382927         -3.626392   \n",
       "2 2024-10-03 20:56:49+00:00    BICYCLE        41.389874          2.159761   \n",
       "3 2024-10-03 20:58:26+00:00  MOTORBIKE        40.409720         -3.670494   \n",
       "4 2024-10-03 20:59:53+00:00  MOTORBIKE        40.433780         -3.683620   \n",
       "\n",
       "   delivery_latitude  delivery_longitude      time_zone  \\\n",
       "0          41.375412            2.104837  Europe/Madrid   \n",
       "1          40.383490           -3.640969  Europe/Madrid   \n",
       "2          41.390520            2.148718  Europe/Madrid   \n",
       "3          40.412880           -3.671840  Europe/Madrid   \n",
       "4          40.430176           -3.673502  Europe/Madrid   \n",
       "\n",
       "                  pickup_timestamp        delivery_timestamp creation_date  \n",
       "0 2024-10-03 21:21:44.215000+00:00 2024-10-03 21:32:33+00:00    2024-10-03  \n",
       "1 2024-10-03 21:07:40.941000+00:00 2024-10-03 21:19:10+00:00    2024-10-03  \n",
       "2 2024-10-03 21:07:40.560000+00:00 2024-10-03 21:14:30+00:00    2024-10-03  \n",
       "3 2024-10-03 21:08:59.224000+00:00 2024-10-03 21:14:21+00:00    2024-10-03  \n",
       "4 2024-10-03 21:09:49.060000+00:00 2024-10-03 21:20:30+00:00    2024-10-03  "
      ]
     },
     "execution_count": 5,
     "metadata": {},
     "output_type": "execute_result"
    }
   ],
   "source": [
    "query_name = '''\n",
    "SELECT\n",
    "    olf.country_code                                 AS country_code,\n",
    "    olf.city_code                                    AS city_code,\n",
    "    olf.order_id                                     AS order_id,\n",
    "    olf.courier_id                                   AS courier_id,\n",
    "    olf.order_created_local_datetime                 AS creation_timestamp,\n",
    "    olf.order_activated_local_datetime               AS activation_timestamp,\n",
    "    olf.courier_transport                            AS transport,\n",
    "    olf.order_pickup_latitude                        AS pickup_latitude,\n",
    "    olf.order_pickup_longitude                       AS pickup_longitude,\n",
    "    olf.order_delivery_latitude                      AS delivery_latitude,\n",
    "    olf.order_delivery_longitude                     AS delivery_longitude,\n",
    "    olf.order_time_zone                              AS time_zone,\n",
    "    olf.order_picked_up_local_datetime               AS pickup_timestamp,\n",
    "    --olf.order_arrival_to_delivery_local_datetime     AS delivery_entering_timestamp,\n",
    "    olf.order_delivered_local_datetime               AS delivery_timestamp,\n",
    "    olf.p_creation_date                              AS creation_date\n",
    "FROM delta.courier_routing_courier_ml_features_odp.order_level_features AS olf\n",
    "WHERE order_final_status = 'DeliveredStatus'\n",
    "    AND order_number_of_assignments = 1\n",
    "    AND order_bundle_index IS NULL\n",
    "    AND p_creation_date BETWEEN DATE '[start_date]' AND DATE '[end_date]'\n",
    "    AND country_code IN ('[country_code]')\n",
    "    AND city_code IN ([cities])\n",
    "'''\n",
    "\n",
    "query = qr.Query(base_query_path, query_name, datalake_connection, parameters_dict=parameters, query_from_file = False)\n",
    "data = query.run()\n",
    "data = data.fillna(value=np.nan)\n",
    "data.head()"
   ]
  },
  {
   "cell_type": "markdown",
   "id": "cb60e56ce9b31a2",
   "metadata": {
    "collapsed": false
   },
   "source": [
    "## Clean the dataset"
   ]
  },
  {
   "cell_type": "code",
   "execution_count": 6,
   "id": "3269019e5c025a9d",
   "metadata": {
    "collapsed": false
   },
   "outputs": [
    {
     "name": "stdout",
     "output_type": "stream",
     "text": [
      "<class 'pandas.core.frame.DataFrame'>\n",
      "Index: 1043873 entries, 0 to 43872\n",
      "Data columns (total 15 columns):\n",
      " #   Column                Non-Null Count    Dtype              \n",
      "---  ------                --------------    -----              \n",
      " 0   country_code          1043873 non-null  object             \n",
      " 1   city_code             1043873 non-null  object             \n",
      " 2   order_id              1043873 non-null  int64              \n",
      " 3   courier_id            1043873 non-null  int64              \n",
      " 4   creation_timestamp    1043873 non-null  datetime64[ns, UTC]\n",
      " 5   activation_timestamp  1043873 non-null  datetime64[ns, UTC]\n",
      " 6   transport             1043873 non-null  object             \n",
      " 7   pickup_latitude       1043873 non-null  float64            \n",
      " 8   pickup_longitude      1043873 non-null  float64            \n",
      " 9   delivery_latitude     1043873 non-null  float64            \n",
      " 10  delivery_longitude    1043873 non-null  float64            \n",
      " 11  time_zone             1043873 non-null  object             \n",
      " 12  pickup_timestamp      1043614 non-null  datetime64[ns, UTC]\n",
      " 13  delivery_timestamp    1043873 non-null  datetime64[ns, UTC]\n",
      " 14  creation_date         1043873 non-null  object             \n",
      "dtypes: datetime64[ns, UTC](4), float64(4), int64(2), object(5)\n",
      "memory usage: 127.4+ MB\n"
     ]
    }
   ],
   "source": [
    "data.info()"
   ]
  },
  {
   "cell_type": "code",
   "execution_count": 7,
   "id": "4ad7421cf883f255",
   "metadata": {
    "collapsed": false
   },
   "outputs": [
    {
     "data": {
      "text/html": [
       "<div>\n",
       "<style scoped>\n",
       "    .dataframe tbody tr th:only-of-type {\n",
       "        vertical-align: middle;\n",
       "    }\n",
       "\n",
       "    .dataframe tbody tr th {\n",
       "        vertical-align: top;\n",
       "    }\n",
       "\n",
       "    .dataframe thead th {\n",
       "        text-align: right;\n",
       "    }\n",
       "</style>\n",
       "<table border=\"1\" class=\"dataframe\">\n",
       "  <thead>\n",
       "    <tr style=\"text-align: right;\">\n",
       "      <th></th>\n",
       "      <th>order_id</th>\n",
       "      <th>courier_id</th>\n",
       "      <th>pickup_latitude</th>\n",
       "      <th>pickup_longitude</th>\n",
       "      <th>delivery_latitude</th>\n",
       "      <th>delivery_longitude</th>\n",
       "    </tr>\n",
       "  </thead>\n",
       "  <tbody>\n",
       "    <tr>\n",
       "      <th>count</th>\n",
       "      <td>1.043873e+06</td>\n",
       "      <td>1.043873e+06</td>\n",
       "      <td>1.043873e+06</td>\n",
       "      <td>1.043873e+06</td>\n",
       "      <td>1.043873e+06</td>\n",
       "      <td>1.043873e+06</td>\n",
       "    </tr>\n",
       "    <tr>\n",
       "      <th>mean</th>\n",
       "      <td>1.009235e+11</td>\n",
       "      <td>1.220252e+08</td>\n",
       "      <td>4.066978e+01</td>\n",
       "      <td>-8.625245e-01</td>\n",
       "      <td>4.067015e+01</td>\n",
       "      <td>-8.624835e-01</td>\n",
       "    </tr>\n",
       "    <tr>\n",
       "      <th>std</th>\n",
       "      <td>1.373828e+07</td>\n",
       "      <td>5.587275e+07</td>\n",
       "      <td>9.972123e-01</td>\n",
       "      <td>3.004518e+00</td>\n",
       "      <td>9.973824e-01</td>\n",
       "      <td>3.003922e+00</td>\n",
       "    </tr>\n",
       "    <tr>\n",
       "      <th>min</th>\n",
       "      <td>1.008998e+11</td>\n",
       "      <td>1.127770e+05</td>\n",
       "      <td>3.728265e+01</td>\n",
       "      <td>-6.085188e+00</td>\n",
       "      <td>3.726098e+01</td>\n",
       "      <td>-6.100339e+00</td>\n",
       "    </tr>\n",
       "    <tr>\n",
       "      <th>25%</th>\n",
       "      <td>1.009113e+11</td>\n",
       "      <td>7.270555e+07</td>\n",
       "      <td>4.042600e+01</td>\n",
       "      <td>-3.690180e+00</td>\n",
       "      <td>4.042608e+01</td>\n",
       "      <td>-3.689568e+00</td>\n",
       "    </tr>\n",
       "    <tr>\n",
       "      <th>50%</th>\n",
       "      <td>1.009234e+11</td>\n",
       "      <td>1.484799e+08</td>\n",
       "      <td>4.053028e+01</td>\n",
       "      <td>-4.844410e-01</td>\n",
       "      <td>4.052496e+01</td>\n",
       "      <td>-4.859780e-01</td>\n",
       "    </tr>\n",
       "    <tr>\n",
       "      <th>75%</th>\n",
       "      <td>1.009357e+11</td>\n",
       "      <td>1.673414e+08</td>\n",
       "      <td>4.139320e+01</td>\n",
       "      <td>2.159761e+00</td>\n",
       "      <td>4.139475e+01</td>\n",
       "      <td>2.159627e+00</td>\n",
       "    </tr>\n",
       "    <tr>\n",
       "      <th>max</th>\n",
       "      <td>1.009470e+11</td>\n",
       "      <td>1.796540e+08</td>\n",
       "      <td>4.148309e+01</td>\n",
       "      <td>2.268973e+00</td>\n",
       "      <td>4.156215e+01</td>\n",
       "      <td>2.277824e+00</td>\n",
       "    </tr>\n",
       "  </tbody>\n",
       "</table>\n",
       "</div>"
      ],
      "text/plain": [
       "           order_id    courier_id  pickup_latitude  pickup_longitude  \\\n",
       "count  1.043873e+06  1.043873e+06     1.043873e+06      1.043873e+06   \n",
       "mean   1.009235e+11  1.220252e+08     4.066978e+01     -8.625245e-01   \n",
       "std    1.373828e+07  5.587275e+07     9.972123e-01      3.004518e+00   \n",
       "min    1.008998e+11  1.127770e+05     3.728265e+01     -6.085188e+00   \n",
       "25%    1.009113e+11  7.270555e+07     4.042600e+01     -3.690180e+00   \n",
       "50%    1.009234e+11  1.484799e+08     4.053028e+01     -4.844410e-01   \n",
       "75%    1.009357e+11  1.673414e+08     4.139320e+01      2.159761e+00   \n",
       "max    1.009470e+11  1.796540e+08     4.148309e+01      2.268973e+00   \n",
       "\n",
       "       delivery_latitude  delivery_longitude  \n",
       "count       1.043873e+06        1.043873e+06  \n",
       "mean        4.067015e+01       -8.624835e-01  \n",
       "std         9.973824e-01        3.003922e+00  \n",
       "min         3.726098e+01       -6.100339e+00  \n",
       "25%         4.042608e+01       -3.689568e+00  \n",
       "50%         4.052496e+01       -4.859780e-01  \n",
       "75%         4.139475e+01        2.159627e+00  \n",
       "max         4.156215e+01        2.277824e+00  "
      ]
     },
     "execution_count": 7,
     "metadata": {},
     "output_type": "execute_result"
    }
   ],
   "source": [
    "data.describe()"
   ]
  },
  {
   "cell_type": "code",
   "execution_count": 8,
   "id": "1df8f7cd6a104940",
   "metadata": {
    "collapsed": false
   },
   "outputs": [
    {
     "data": {
      "text/plain": [
       "country_code              0\n",
       "city_code                 0\n",
       "order_id                  0\n",
       "courier_id                0\n",
       "creation_timestamp        0\n",
       "activation_timestamp      0\n",
       "transport                 0\n",
       "pickup_latitude           0\n",
       "pickup_longitude          0\n",
       "delivery_latitude         0\n",
       "delivery_longitude        0\n",
       "time_zone                 0\n",
       "pickup_timestamp        259\n",
       "delivery_timestamp        0\n",
       "creation_date             0\n",
       "dtype: int64"
      ]
     },
     "execution_count": 8,
     "metadata": {},
     "output_type": "execute_result"
    }
   ],
   "source": [
    "# Check for missing values\n",
    "data.isnull().sum()"
   ]
  },
  {
   "cell_type": "code",
   "execution_count": 9,
   "id": "4fc64e33e9ec8a4a",
   "metadata": {
    "collapsed": false
   },
   "outputs": [
    {
     "data": {
      "text/plain": [
       "np.int64(259)"
      ]
     },
     "execution_count": 9,
     "metadata": {},
     "output_type": "execute_result"
    }
   ],
   "source": [
    "# print the number of null rows\n",
    "data.isnull().sum().sum()"
   ]
  },
  {
   "cell_type": "code",
   "execution_count": 10,
   "id": "21a2d084be3ddfe8",
   "metadata": {
    "collapsed": false
   },
   "outputs": [],
   "source": [
    "# Remove rows with null values: we have many rows, so we can afford to remove them\n",
    "data.dropna(inplace=True)"
   ]
  },
  {
   "cell_type": "code",
   "execution_count": 11,
   "id": "fea941235b67758e",
   "metadata": {
    "collapsed": false
   },
   "outputs": [
    {
     "data": {
      "text/plain": [
       "country_code            0\n",
       "city_code               0\n",
       "order_id                0\n",
       "courier_id              0\n",
       "creation_timestamp      0\n",
       "activation_timestamp    0\n",
       "transport               0\n",
       "pickup_latitude         0\n",
       "pickup_longitude        0\n",
       "delivery_latitude       0\n",
       "delivery_longitude      0\n",
       "time_zone               0\n",
       "pickup_timestamp        0\n",
       "delivery_timestamp      0\n",
       "creation_date           0\n",
       "dtype: int64"
      ]
     },
     "execution_count": 11,
     "metadata": {},
     "output_type": "execute_result"
    }
   ],
   "source": [
    "# Check for missing values\n",
    "data.isnull().sum()"
   ]
  },
  {
   "cell_type": "code",
   "execution_count": 12,
   "id": "83402ad003b2989e",
   "metadata": {
    "collapsed": false
   },
   "outputs": [
    {
     "data": {
      "text/plain": [
       "np.int64(0)"
      ]
     },
     "execution_count": 12,
     "metadata": {},
     "output_type": "execute_result"
    }
   ],
   "source": [
    "# Check for duplicates\n",
    "data.duplicated().sum()"
   ]
  },
  {
   "cell_type": "markdown",
   "id": "9be4b81e03b7586",
   "metadata": {
    "collapsed": false
   },
   "source": [
    "## Compute new features"
   ]
  },
  {
   "cell_type": "code",
   "execution_count": 13,
   "id": "80163d0a54873861",
   "metadata": {
    "collapsed": false
   },
   "outputs": [],
   "source": [
    "# Convert the creation time to datetime\n",
    "data['creation_timestamp'] = pd.to_datetime(data['creation_timestamp'])\n",
    "data['activation_timestamp'] = pd.to_datetime(data['activation_timestamp'])\n",
    "data['pickup_timestamp'] = pd.to_datetime(data['pickup_timestamp'])\n",
    "data['delivery_timestamp'] = pd.to_datetime(data['delivery_timestamp'])"
   ]
  },
  {
   "cell_type": "markdown",
   "id": "7b6ea1be09344c80",
   "metadata": {
    "collapsed": false
   },
   "source": [
    "To determine whether a coordinate is in degrees or radians, you can consider the typical ranges and values for latitude and longitude:\n",
    "1. **Degrees:**\n",
    "   - Latitude ranges from -90 to 90 degrees.\n",
    "   - Longitude ranges from -180 to 180 degrees.\n",
    "   - Values are typically whole numbers or decimals within these ranges.\n",
    "2. **Radians:**\n",
    "   - Latitude and longitude in radians will range from approximately -π/2 to π/2 for latitude and -π to π for longitude.\n",
    "   - Values are typically small decimals (e.g., 0.5, 1.0, etc.).\n",
    "\n",
    "Given our dataset, as the values in the columns `pickup_latitude`, `pickup_longitude`, `delivery_latitude`, `delivery_longitude` fall within the typical range for degrees, it is safe to assume that these coordinates are in degrees.\n",
    "\n",
    "There is a difference in how the `haversine` library, the `sklearn`'s `haversine_distances`, and the `sklearn`'s `manhattan_distances` function compute and return the distances. Let's break down the differences and how to resolve them:\n",
    "1. **Haversine Library:**\n",
    "   - The `haversine` library directly computes the distance between two points and returns a single scalar value.\n",
    "2. **Sklearn's `haversine_distances`:**\n",
    "   - The `haversine_distances` function from `sklearn` returns a distance matrix. When you input two points, it returns a 1x1 matrix (a nested list) containing the distance. This is why you would see the result in squared parentheses like `[[]]`. We extract the single value using `[0][0]`.\n",
    "   - To use these coordinates with sklearn's `haversine_distances` function, you need to convert them to radians using `np.radians`.\n",
    "   - Additionally, the `haversine_distances` function returns the distance in radians, not in meters. To convert this to meters, you need to multiply by the Earth's radius (approximately 6371000 meters).\n",
    "3. **Sklearn's `manhattan_distances`:**\n",
    "   - The `manhattan_distances` function computes the Manhattan distance between two points and returns a distance matrix. We extract the single value from the 1x1 matrix using `[0][0]`.\n",
    "   - Additionally, the `manhattan_distances` function from sklearn computes the distance based on the Cartesian coordinates provided. Since latitude and longitude are angular measurements, the result will not be in meters but in degrees. To convert the Manhattan distance from degrees to meters, you need to account for the Earth's curvature. \n",
    "      - The conversion factor for latitude is approximately 111,320 meters per degree.\n",
    "      - The conversion factor for longitude varies based on the latitude. At the equator, it's approximately 111,320 meters per degree, but it decreases as you move towards the poles.\n",
    "      - Convert the latitude and longitude differences to meters.\n",
    "      - Sum the absolute differences to get the Manhattan distance in meters."
   ]
  },
  {
   "cell_type": "code",
   "execution_count": 14,
   "id": "808ab1bc4476de8a",
   "metadata": {
    "collapsed": false
   },
   "outputs": [],
   "source": [
    "# Convert degrees to radians\n",
    "data['pickup_latitude_rad'] = np.radians(data['pickup_latitude'])\n",
    "data['pickup_longitude_rad'] = np.radians(data['pickup_longitude'])\n",
    "data['delivery_latitude_rad'] = np.radians(data['delivery_latitude'])\n",
    "data['delivery_longitude_rad'] = np.radians(data['delivery_longitude'])\n",
    "\n",
    "# Earth's radius in meters\n",
    "earth_radius_m = 6371.0088 * 1000  # average earth radius - https://en.wikipedia.org/wiki/Earth_radius#Mean_radius\n",
    "\n",
    "# Conversion factors\n",
    "meters_per_degree_lat = 111320  # Approximate meters per degree of latitude\n",
    "\n",
    "def manhattan_distance_in_meters(row):\n",
    "    # Convert latitude and longitude differences to meters\n",
    "    lat_diff_m = abs(row['pickup_latitude'] - row['delivery_latitude']) * meters_per_degree_lat\n",
    "    # Convert longitude difference to meters, considering the latitude\n",
    "    lon_diff_m = abs(row['pickup_longitude'] - row['delivery_longitude']) * meters_per_degree_lat * np.cos(np.radians((row['pickup_latitude'] + row['delivery_latitude']) / 2))\n",
    "    # Sum the absolute differences to get the Manhattan distance in meters\n",
    "    return lat_diff_m + lon_diff_m"
   ]
  },
  {
   "cell_type": "code",
   "execution_count": 15,
   "id": "c93468fe8bc656f1",
   "metadata": {
    "collapsed": false
   },
   "outputs": [
    {
     "data": {
      "text/html": [
       "<div>\n",
       "<style scoped>\n",
       "    .dataframe tbody tr th:only-of-type {\n",
       "        vertical-align: middle;\n",
       "    }\n",
       "\n",
       "    .dataframe tbody tr th {\n",
       "        vertical-align: top;\n",
       "    }\n",
       "\n",
       "    .dataframe thead th {\n",
       "        text-align: right;\n",
       "    }\n",
       "</style>\n",
       "<table border=\"1\" class=\"dataframe\">\n",
       "  <thead>\n",
       "    <tr style=\"text-align: right;\">\n",
       "      <th></th>\n",
       "      <th>country_code</th>\n",
       "      <th>city_code</th>\n",
       "      <th>order_id</th>\n",
       "      <th>courier_id</th>\n",
       "      <th>creation_timestamp</th>\n",
       "      <th>activation_timestamp</th>\n",
       "      <th>transport</th>\n",
       "      <th>pickup_latitude</th>\n",
       "      <th>pickup_longitude</th>\n",
       "      <th>delivery_latitude</th>\n",
       "      <th>...</th>\n",
       "      <th>pickup_timestamp</th>\n",
       "      <th>delivery_timestamp</th>\n",
       "      <th>creation_date</th>\n",
       "      <th>pickup_latitude_rad</th>\n",
       "      <th>pickup_longitude_rad</th>\n",
       "      <th>delivery_latitude_rad</th>\n",
       "      <th>delivery_longitude_rad</th>\n",
       "      <th>pd_distance_haversine_m</th>\n",
       "      <th>pd_distance_haversine_m_sk</th>\n",
       "      <th>pd_distance_manhattan_m</th>\n",
       "    </tr>\n",
       "  </thead>\n",
       "  <tbody>\n",
       "    <tr>\n",
       "      <th>0</th>\n",
       "      <td>ES</td>\n",
       "      <td>BCN</td>\n",
       "      <td>100907487116</td>\n",
       "      <td>8590944</td>\n",
       "      <td>2024-10-03 20:55:02+00:00</td>\n",
       "      <td>2024-10-03 20:55:04+00:00</td>\n",
       "      <td>BICYCLE</td>\n",
       "      <td>41.370594</td>\n",
       "      <td>2.113433</td>\n",
       "      <td>41.375412</td>\n",
       "      <td>...</td>\n",
       "      <td>2024-10-03 21:21:44.215000+00:00</td>\n",
       "      <td>2024-10-03 21:32:33+00:00</td>\n",
       "      <td>2024-10-03</td>\n",
       "      <td>0.722053</td>\n",
       "      <td>0.036886</td>\n",
       "      <td>0.722137</td>\n",
       "      <td>0.036736</td>\n",
       "      <td>895.267385</td>\n",
       "      <td>895.267385</td>\n",
       "      <td>1254.424177</td>\n",
       "    </tr>\n",
       "    <tr>\n",
       "      <th>1</th>\n",
       "      <td>ES</td>\n",
       "      <td>MAD</td>\n",
       "      <td>100907489425</td>\n",
       "      <td>162535288</td>\n",
       "      <td>2024-10-03 20:55:43+00:00</td>\n",
       "      <td>2024-10-03 20:55:44+00:00</td>\n",
       "      <td>BICYCLE</td>\n",
       "      <td>40.382927</td>\n",
       "      <td>-3.626392</td>\n",
       "      <td>40.383490</td>\n",
       "      <td>...</td>\n",
       "      <td>2024-10-03 21:07:40.941000+00:00</td>\n",
       "      <td>2024-10-03 21:19:10+00:00</td>\n",
       "      <td>2024-10-03</td>\n",
       "      <td>0.704815</td>\n",
       "      <td>-0.063292</td>\n",
       "      <td>0.704825</td>\n",
       "      <td>-0.063547</td>\n",
       "      <td>1236.264251</td>\n",
       "      <td>1236.264251</td>\n",
       "      <td>1298.738405</td>\n",
       "    </tr>\n",
       "    <tr>\n",
       "      <th>2</th>\n",
       "      <td>ES</td>\n",
       "      <td>BCN</td>\n",
       "      <td>100907493124</td>\n",
       "      <td>146788593</td>\n",
       "      <td>2024-10-03 20:56:48+00:00</td>\n",
       "      <td>2024-10-03 20:56:49+00:00</td>\n",
       "      <td>BICYCLE</td>\n",
       "      <td>41.389874</td>\n",
       "      <td>2.159761</td>\n",
       "      <td>41.390520</td>\n",
       "      <td>...</td>\n",
       "      <td>2024-10-03 21:07:40.560000+00:00</td>\n",
       "      <td>2024-10-03 21:14:30+00:00</td>\n",
       "      <td>2024-10-03</td>\n",
       "      <td>0.722390</td>\n",
       "      <td>0.037695</td>\n",
       "      <td>0.722401</td>\n",
       "      <td>0.037502</td>\n",
       "      <td>924.017061</td>\n",
       "      <td>924.017061</td>\n",
       "      <td>994.168407</td>\n",
       "    </tr>\n",
       "    <tr>\n",
       "      <th>3</th>\n",
       "      <td>ES</td>\n",
       "      <td>MAD</td>\n",
       "      <td>100907498582</td>\n",
       "      <td>45695767</td>\n",
       "      <td>2024-10-03 20:58:25+00:00</td>\n",
       "      <td>2024-10-03 20:58:26+00:00</td>\n",
       "      <td>MOTORBIKE</td>\n",
       "      <td>40.409720</td>\n",
       "      <td>-3.670494</td>\n",
       "      <td>40.412880</td>\n",
       "      <td>...</td>\n",
       "      <td>2024-10-03 21:08:59.224000+00:00</td>\n",
       "      <td>2024-10-03 21:14:21+00:00</td>\n",
       "      <td>2024-10-03</td>\n",
       "      <td>0.705283</td>\n",
       "      <td>-0.064062</td>\n",
       "      <td>0.705338</td>\n",
       "      <td>-0.064086</td>\n",
       "      <td>369.394256</td>\n",
       "      <td>369.394256</td>\n",
       "      <td>465.858447</td>\n",
       "    </tr>\n",
       "    <tr>\n",
       "      <th>4</th>\n",
       "      <td>ES</td>\n",
       "      <td>MAD</td>\n",
       "      <td>100907503468</td>\n",
       "      <td>166385377</td>\n",
       "      <td>2024-10-03 20:59:51+00:00</td>\n",
       "      <td>2024-10-03 20:59:53+00:00</td>\n",
       "      <td>MOTORBIKE</td>\n",
       "      <td>40.433780</td>\n",
       "      <td>-3.683620</td>\n",
       "      <td>40.430176</td>\n",
       "      <td>...</td>\n",
       "      <td>2024-10-03 21:09:49.060000+00:00</td>\n",
       "      <td>2024-10-03 21:20:30+00:00</td>\n",
       "      <td>2024-10-03</td>\n",
       "      <td>0.705703</td>\n",
       "      <td>-0.064291</td>\n",
       "      <td>0.705640</td>\n",
       "      <td>-0.064115</td>\n",
       "      <td>945.506113</td>\n",
       "      <td>945.506113</td>\n",
       "      <td>1258.537546</td>\n",
       "    </tr>\n",
       "  </tbody>\n",
       "</table>\n",
       "<p>5 rows × 22 columns</p>\n",
       "</div>"
      ],
      "text/plain": [
       "  country_code city_code      order_id  courier_id        creation_timestamp  \\\n",
       "0           ES       BCN  100907487116     8590944 2024-10-03 20:55:02+00:00   \n",
       "1           ES       MAD  100907489425   162535288 2024-10-03 20:55:43+00:00   \n",
       "2           ES       BCN  100907493124   146788593 2024-10-03 20:56:48+00:00   \n",
       "3           ES       MAD  100907498582    45695767 2024-10-03 20:58:25+00:00   \n",
       "4           ES       MAD  100907503468   166385377 2024-10-03 20:59:51+00:00   \n",
       "\n",
       "       activation_timestamp  transport  pickup_latitude  pickup_longitude  \\\n",
       "0 2024-10-03 20:55:04+00:00    BICYCLE        41.370594          2.113433   \n",
       "1 2024-10-03 20:55:44+00:00    BICYCLE        40.382927         -3.626392   \n",
       "2 2024-10-03 20:56:49+00:00    BICYCLE        41.389874          2.159761   \n",
       "3 2024-10-03 20:58:26+00:00  MOTORBIKE        40.409720         -3.670494   \n",
       "4 2024-10-03 20:59:53+00:00  MOTORBIKE        40.433780         -3.683620   \n",
       "\n",
       "   delivery_latitude  ...                 pickup_timestamp  \\\n",
       "0          41.375412  ... 2024-10-03 21:21:44.215000+00:00   \n",
       "1          40.383490  ... 2024-10-03 21:07:40.941000+00:00   \n",
       "2          41.390520  ... 2024-10-03 21:07:40.560000+00:00   \n",
       "3          40.412880  ... 2024-10-03 21:08:59.224000+00:00   \n",
       "4          40.430176  ... 2024-10-03 21:09:49.060000+00:00   \n",
       "\n",
       "         delivery_timestamp creation_date pickup_latitude_rad  \\\n",
       "0 2024-10-03 21:32:33+00:00    2024-10-03            0.722053   \n",
       "1 2024-10-03 21:19:10+00:00    2024-10-03            0.704815   \n",
       "2 2024-10-03 21:14:30+00:00    2024-10-03            0.722390   \n",
       "3 2024-10-03 21:14:21+00:00    2024-10-03            0.705283   \n",
       "4 2024-10-03 21:20:30+00:00    2024-10-03            0.705703   \n",
       "\n",
       "  pickup_longitude_rad  delivery_latitude_rad  delivery_longitude_rad  \\\n",
       "0             0.036886               0.722137                0.036736   \n",
       "1            -0.063292               0.704825               -0.063547   \n",
       "2             0.037695               0.722401                0.037502   \n",
       "3            -0.064062               0.705338               -0.064086   \n",
       "4            -0.064291               0.705640               -0.064115   \n",
       "\n",
       "   pd_distance_haversine_m  pd_distance_haversine_m_sk  \\\n",
       "0               895.267385                  895.267385   \n",
       "1              1236.264251                 1236.264251   \n",
       "2               924.017061                  924.017061   \n",
       "3               369.394256                  369.394256   \n",
       "4               945.506113                  945.506113   \n",
       "\n",
       "   pd_distance_manhattan_m  \n",
       "0              1254.424177  \n",
       "1              1298.738405  \n",
       "2               994.168407  \n",
       "3               465.858447  \n",
       "4              1258.537546  \n",
       "\n",
       "[5 rows x 22 columns]"
      ]
     },
     "execution_count": 15,
     "metadata": {},
     "output_type": "execute_result"
    }
   ],
   "source": [
    "data['pd_distance_haversine_m'] = data.apply(\n",
    "    lambda x: haversine(\n",
    "        (x['pickup_latitude'], x['pickup_longitude']),\n",
    "        (x['delivery_latitude'], x['delivery_longitude']),\n",
    "        unit=Unit.METERS\n",
    "    ), axis=1\n",
    ")\n",
    "data['pd_distance_haversine_m_sk'] = data.apply(\n",
    "    lambda x: haversine_distances(\n",
    "        np.array([[x['pickup_latitude_rad'], x['pickup_longitude_rad']]]),\n",
    "        np.array([[x['delivery_latitude_rad'], x['delivery_longitude_rad']]])\n",
    "    )[0][0] * earth_radius_m, axis=1\n",
    ")\n",
    "data['pd_distance_manhattan_m'] = data.apply(manhattan_distance_in_meters, axis=1)\n",
    "data.head()"
   ]
  },
  {
   "cell_type": "code",
   "execution_count": 16,
   "id": "b6be2faf50c7f774",
   "metadata": {
    "collapsed": false
   },
   "outputs": [
    {
     "data": {
      "text/plain": [
       "np.int64(0)"
      ]
     },
     "execution_count": 16,
     "metadata": {},
     "output_type": "execute_result"
    }
   ],
   "source": [
    "# print the number of null rows\n",
    "data.isnull().sum().sum()"
   ]
  },
  {
   "cell_type": "markdown",
   "id": "5da7791843042776",
   "metadata": {
    "collapsed": false
   },
   "source": [
    "## Save the dataset"
   ]
  },
  {
   "cell_type": "raw",
   "id": "400dcfe4569bd3da",
   "metadata": {
    "collapsed": false
   },
   "source": [
    "data.to_pickle(\"data/dataframe.pkl\")"
   ]
  },
  {
   "cell_type": "markdown",
   "id": "2da57697f71fdf68",
   "metadata": {
    "collapsed": false
   },
   "source": [
    "It's better to use the parquet format, as it is more efficient and faster to read and write. Besides, it is a columnar format, which is more suitable for analytical queries. We can also partition the data by creation date and city, which will help to speed up the queries and allows to analyze different timeframes and different cities if needed."
   ]
  },
  {
   "cell_type": "code",
   "execution_count": 17,
   "id": "c3198338e55332c9",
   "metadata": {
    "collapsed": false
   },
   "outputs": [],
   "source": [
    "# parquet appends the data in the files, it doesn't overwrite them, so we need to manually remove the folder with its content to avoid duplicated data\n",
    "shutil.rmtree(\"data/parquet/\")\n",
    "os.makedirs(\"data/parquet/\")"
   ]
  },
  {
   "cell_type": "code",
   "execution_count": 18,
   "id": "4a357e3ed80c39b1",
   "metadata": {
    "collapsed": false
   },
   "outputs": [],
   "source": [
    "data.to_parquet(\"data/parquet/dataframe.parquet\", index=False, partition_cols=['creation_date', 'city_code'])"
   ]
  },
  {
   "cell_type": "markdown",
   "id": "9f700ca8f9a310ca",
   "metadata": {
    "collapsed": false
   },
   "source": [
    "## Load the dataset"
   ]
  },
  {
   "cell_type": "raw",
   "id": "f459d6342f561915",
   "metadata": {
    "collapsed": false
   },
   "source": [
    "data = pd.read_pickle(\"data/dataframe.pkl\")"
   ]
  },
  {
   "cell_type": "code",
   "execution_count": 19,
   "id": "5ecce593d1c02912",
   "metadata": {
    "ExecuteTime": {
     "end_time": "2025-02-13T15:33:00.786814Z",
     "start_time": "2025-02-13T15:33:00.028167Z"
    },
    "collapsed": false
   },
   "outputs": [],
   "source": [
    "data = pd.read_parquet(\"data/parquet/dataframe.parquet\")"
   ]
  },
  {
   "cell_type": "markdown",
   "id": "933c8f1d588226ce",
   "metadata": {
    "collapsed": false
   },
   "source": [
    "## Exploratory Data Analysis (EDA)"
   ]
  },
  {
   "cell_type": "code",
   "execution_count": 20,
   "id": "9c2e386d",
   "metadata": {},
   "outputs": [],
   "source": [
    "# Compute the delivery date and the delivery time\n",
    "data['activation_time'] = data['activation_timestamp'].dt.time\n",
    "data['activation_hour'] = data['activation_timestamp'].dt.hour"
   ]
  },
  {
   "cell_type": "code",
   "execution_count": 21,
   "id": "71786bb2d8f08ad7",
   "metadata": {
    "ExecuteTime": {
     "end_time": "2025-02-05T15:38:55.871340Z",
     "start_time": "2025-02-05T15:38:44.192400Z"
    },
    "collapsed": false
   },
   "outputs": [
    {
     "data": {
      "image/png": "[encoded data removed]",
      "text/plain": [
       "<Figure size 1500x800 with 1 Axes>"
      ]
     },
     "metadata": {},
     "output_type": "display_data"
    }
   ],
   "source": [
    "# Histogram of the # of data per day / hour\n",
    "plt.figure(figsize=(15, 8))\n",
    "plt.hist(data['activation_timestamp'], bins = 1000)\n",
    "plt.title('Histogram of the # of data per day / hour')\n",
    "plt.xlabel('Day / Hour')\n",
    "plt.ylabel('Frequency')\n",
    "plt.show()"
   ]
  },
  {
   "cell_type": "code",
   "execution_count": 22,
   "id": "9b49b7bdfaf6dc14",
   "metadata": {
    "ExecuteTime": {
     "end_time": "2025-02-05T15:38:56.401347Z",
     "start_time": "2025-02-05T15:38:55.869907Z"
    },
    "collapsed": false
   },
   "outputs": [
    {
     "data": {
      "image/png": "[encoded data removed]",
      "text/plain": [
       "<Figure size 1500x800 with 1 Axes>"
      ]
     },
     "metadata": {},
     "output_type": "display_data"
    }
   ],
   "source": [
    "plt.figure(figsize=(15, 8))\n",
    "plt.hist(data['creation_date'], bins = 14)\n",
    "plt.title('Histogram of the # of data per day')\n",
    "plt.xlabel('Day')\n",
    "plt.ylabel('Frequency')\n",
    "plt.show()"
   ]
  },
  {
   "cell_type": "code",
   "execution_count": 23,
   "id": "76b3fb2c7e172f38",
   "metadata": {
    "ExecuteTime": {
     "end_time": "2025-02-05T15:38:56.653744Z",
     "start_time": "2025-02-05T15:38:56.411712Z"
    },
    "collapsed": false
   },
   "outputs": [
    {
     "data": {
      "image/png": "[encoded data removed]",
      "text/plain": [
       "<Figure size 1500x800 with 1 Axes>"
      ]
     },
     "metadata": {},
     "output_type": "display_data"
    }
   ],
   "source": [
    "plt.figure(figsize=(15, 8))\n",
    "plt.hist(data['activation_hour'])\n",
    "plt.title('Histogram of the # of data per hour')\n",
    "plt.xlabel('Hour')\n",
    "plt.ylabel('Frequency')\n",
    "plt.show()"
   ]
  },
  {
   "cell_type": "code",
   "execution_count": 24,
   "id": "e5d0cbff51d0870",
   "metadata": {
    "ExecuteTime": {
     "end_time": "2025-02-05T15:38:56.726389Z",
     "start_time": "2025-02-05T15:38:56.699817Z"
    },
    "collapsed": false
   },
   "outputs": [
    {
     "data": {
      "text/plain": [
       "transport\n",
       "BICYCLE      494403\n",
       "MOTORBIKE    422782\n",
       "CAR          125909\n",
       "WALKER          520\n",
       "Name: count, dtype: int64"
      ]
     },
     "execution_count": 24,
     "metadata": {},
     "output_type": "execute_result"
    }
   ],
   "source": [
    "# Check the distribution of the transport types\n",
    "data['transport'].value_counts()"
   ]
  },
  {
   "cell_type": "code",
   "execution_count": 25,
   "id": "47fa4556b397ea7b",
   "metadata": {
    "ExecuteTime": {
     "end_time": "2025-02-05T15:38:57.960538Z",
     "start_time": "2025-02-05T15:38:56.717968Z"
    },
    "collapsed": false
   },
   "outputs": [
    {
     "data": {
      "image/png": "[encoded data removed]",
      "text/plain": [
       "<Figure size 1500x800 with 1 Axes>"
      ]
     },
     "metadata": {},
     "output_type": "display_data"
    }
   ],
   "source": [
    "# Check the distribution of the distances\n",
    "plt.figure(figsize=(15, 8))\n",
    "plt.hist(data['pd_distance_haversine_m'], bins = 1000)\n",
    "plt.xlim(0, 10000)\n",
    "plt.title('Histogram of the distances')\n",
    "plt.xlabel('Distance (m)')\n",
    "plt.ylabel('Frequency')\n",
    "plt.show()"
   ]
  },
  {
   "cell_type": "markdown",
   "id": "b4f24b33b07b58e9",
   "metadata": {
    "collapsed": false
   },
   "source": [
    "## Hyperparameters"
   ]
  },
  {
   "cell_type": "code",
   "execution_count": 26,
   "id": "843f73749bdce7ee",
   "metadata": {
    "ExecuteTime": {
     "end_time": "2025-02-13T15:33:12.121710Z",
     "start_time": "2025-02-13T15:33:12.086188Z"
    },
    "collapsed": false
   },
   "outputs": [],
   "source": [
    "test_set_perc = 0.1\n",
    "days_for_test = 7\n",
    "k_cv = 5"
   ]
  },
  {
   "cell_type": "markdown",
   "id": "3aed5934e3c1f8f",
   "metadata": {
    "collapsed": false
   },
   "source": [
    "## Database split"
   ]
  },
  {
   "cell_type": "code",
   "execution_count": 27,
   "id": "2574aa199337f236",
   "metadata": {
    "ExecuteTime": {
     "end_time": "2025-02-05T15:38:58.118623Z",
     "start_time": "2025-02-05T15:38:57.964755Z"
    },
    "collapsed": false
   },
   "outputs": [
    {
     "data": {
      "text/plain": [
       "0          564.308\n",
       "1          464.860\n",
       "2          511.029\n",
       "3          906.377\n",
       "4          680.043\n",
       "            ...   \n",
       "1043609    859.357\n",
       "1043610    505.484\n",
       "1043611    436.882\n",
       "1043612    517.377\n",
       "1043613    691.325\n",
       "Name: pickup_to_delivery, Length: 1043614, dtype: float64"
      ]
     },
     "execution_count": 27,
     "metadata": {},
     "output_type": "execute_result"
    }
   ],
   "source": [
    "train_columns = ['country_code', 'city_code', 'order_id', 'courier_id', 'activation_timestamp', 'transport', 'pickup_latitude', 'pickup_longitude',\n",
    "                 'delivery_latitude', 'delivery_longitude', 'time_zone', 'pickup_latitude_rad', 'pickup_longitude_rad', 'delivery_latitude_rad',\n",
    "                 'delivery_longitude_rad', 'pd_distance_haversine_m', 'pd_distance_haversine_m_sk', 'pd_distance_manhattan_m']\n",
    "X = data[train_columns].copy()\n",
    "y = (data['delivery_timestamp'] - data['pickup_timestamp']).dt.total_seconds()\n",
    "y = pd.Series(y, name='pickup_to_delivery')\n",
    "y"
   ]
  },
  {
   "cell_type": "markdown",
   "id": "fc1bd6034ee61016",
   "metadata": {
    "collapsed": false
   },
   "source": [
    "As we are dealing with a time-series dataset (orders are placed at different times), we will split the data based on the creation timestamp, leaving out the last 10% of the data for testing. This will help to understand the performance of the model on unseen data, as in reality we will have to test the model on data created on day+1 with respect to our training data."
   ]
  },
  {
   "cell_type": "code",
   "execution_count": 28,
   "id": "62cf1844840c2240",
   "metadata": {
    "ExecuteTime": {
     "end_time": "2025-02-05T15:38:58.881203Z",
     "start_time": "2025-02-05T15:38:57.985732Z"
    },
    "collapsed": false
   },
   "outputs": [],
   "source": [
    "X.sort_values('activation_timestamp', inplace=True)\n",
    "X_train, X_test, y_train, y_test = train_test_split(X, y, test_size=test_set_perc, random_state=0)"
   ]
  },
  {
   "cell_type": "code",
   "execution_count": 29,
   "id": "fc0cc9098900ec66",
   "metadata": {
    "ExecuteTime": {
     "end_time": "2025-02-05T15:38:59.274114Z",
     "start_time": "2025-02-05T15:38:58.892931Z"
    },
    "collapsed": false
   },
   "outputs": [
    {
     "data": {
      "text/html": [
       "<div>\n",
       "<style scoped>\n",
       "    .dataframe tbody tr th:only-of-type {\n",
       "        vertical-align: middle;\n",
       "    }\n",
       "\n",
       "    .dataframe tbody tr th {\n",
       "        vertical-align: top;\n",
       "    }\n",
       "\n",
       "    .dataframe thead th {\n",
       "        text-align: right;\n",
       "    }\n",
       "</style>\n",
       "<table border=\"1\" class=\"dataframe\">\n",
       "  <thead>\n",
       "    <tr style=\"text-align: right;\">\n",
       "      <th></th>\n",
       "      <th>country_code</th>\n",
       "      <th>city_code</th>\n",
       "      <th>order_id</th>\n",
       "      <th>courier_id</th>\n",
       "      <th>activation_timestamp</th>\n",
       "      <th>transport</th>\n",
       "      <th>pickup_latitude</th>\n",
       "      <th>pickup_longitude</th>\n",
       "      <th>delivery_latitude</th>\n",
       "      <th>delivery_longitude</th>\n",
       "      <th>time_zone</th>\n",
       "      <th>pickup_latitude_rad</th>\n",
       "      <th>pickup_longitude_rad</th>\n",
       "      <th>delivery_latitude_rad</th>\n",
       "      <th>delivery_longitude_rad</th>\n",
       "      <th>pd_distance_haversine_m</th>\n",
       "      <th>pd_distance_haversine_m_sk</th>\n",
       "      <th>pd_distance_manhattan_m</th>\n",
       "    </tr>\n",
       "  </thead>\n",
       "  <tbody>\n",
       "    <tr>\n",
       "      <th>216013</th>\n",
       "      <td>ES</td>\n",
       "      <td>MAD</td>\n",
       "      <td>100908272495</td>\n",
       "      <td>163418145</td>\n",
       "      <td>2024-10-04 12:25:46+00:00</td>\n",
       "      <td>MOTORBIKE</td>\n",
       "      <td>40.422318</td>\n",
       "      <td>-3.694224</td>\n",
       "      <td>40.429104</td>\n",
       "      <td>-3.691762</td>\n",
       "      <td>Europe/Madrid</td>\n",
       "      <td>0.705503</td>\n",
       "      <td>-0.064476</td>\n",
       "      <td>0.705621</td>\n",
       "      <td>-0.064433</td>\n",
       "      <td>782.819589</td>\n",
       "      <td>782.819589</td>\n",
       "      <td>964.052471</td>\n",
       "    </tr>\n",
       "    <tr>\n",
       "      <th>695901</th>\n",
       "      <td>ES</td>\n",
       "      <td>BCN</td>\n",
       "      <td>100932710896</td>\n",
       "      <td>176234210</td>\n",
       "      <td>2024-10-14 19:47:26+00:00</td>\n",
       "      <td>BICYCLE</td>\n",
       "      <td>41.376660</td>\n",
       "      <td>2.172004</td>\n",
       "      <td>41.381382</td>\n",
       "      <td>2.179668</td>\n",
       "      <td>Europe/Madrid</td>\n",
       "      <td>0.722159</td>\n",
       "      <td>0.037909</td>\n",
       "      <td>0.722241</td>\n",
       "      <td>0.038042</td>\n",
       "      <td>827.398330</td>\n",
       "      <td>827.398330</td>\n",
       "      <td>1165.821701</td>\n",
       "    </tr>\n",
       "    <tr>\n",
       "      <th>738936</th>\n",
       "      <td>ES</td>\n",
       "      <td>BCN</td>\n",
       "      <td>100933683469</td>\n",
       "      <td>132387012</td>\n",
       "      <td>2024-10-15 13:06:01+00:00</td>\n",
       "      <td>MOTORBIKE</td>\n",
       "      <td>41.391770</td>\n",
       "      <td>2.180567</td>\n",
       "      <td>41.393860</td>\n",
       "      <td>2.193024</td>\n",
       "      <td>Europe/Madrid</td>\n",
       "      <td>0.722423</td>\n",
       "      <td>0.038058</td>\n",
       "      <td>0.722459</td>\n",
       "      <td>0.038275</td>\n",
       "      <td>1064.806772</td>\n",
       "      <td>1064.806772</td>\n",
       "      <td>1272.962743</td>\n",
       "    </tr>\n",
       "    <tr>\n",
       "      <th>852314</th>\n",
       "      <td>ES</td>\n",
       "      <td>MAD</td>\n",
       "      <td>100938972716</td>\n",
       "      <td>160582199</td>\n",
       "      <td>2024-10-17 20:48:37+00:00</td>\n",
       "      <td>MOTORBIKE</td>\n",
       "      <td>40.403374</td>\n",
       "      <td>-3.637724</td>\n",
       "      <td>40.397865</td>\n",
       "      <td>-3.641072</td>\n",
       "      <td>Europe/Madrid</td>\n",
       "      <td>0.705172</td>\n",
       "      <td>-0.063490</td>\n",
       "      <td>0.705076</td>\n",
       "      <td>-0.063549</td>\n",
       "      <td>674.996963</td>\n",
       "      <td>674.996963</td>\n",
       "      <td>897.084108</td>\n",
       "    </tr>\n",
       "    <tr>\n",
       "      <th>761588</th>\n",
       "      <td>ES</td>\n",
       "      <td>MAD</td>\n",
       "      <td>100933362982</td>\n",
       "      <td>56735057</td>\n",
       "      <td>2024-10-15 09:50:27+00:00</td>\n",
       "      <td>CAR</td>\n",
       "      <td>40.476870</td>\n",
       "      <td>-3.688909</td>\n",
       "      <td>40.471684</td>\n",
       "      <td>-3.696338</td>\n",
       "      <td>Europe/Madrid</td>\n",
       "      <td>0.706455</td>\n",
       "      <td>-0.064384</td>\n",
       "      <td>0.706364</td>\n",
       "      <td>-0.064513</td>\n",
       "      <td>852.880759</td>\n",
       "      <td>852.880759</td>\n",
       "      <td>1206.399489</td>\n",
       "    </tr>\n",
       "    <tr>\n",
       "      <th>...</th>\n",
       "      <td>...</td>\n",
       "      <td>...</td>\n",
       "      <td>...</td>\n",
       "      <td>...</td>\n",
       "      <td>...</td>\n",
       "      <td>...</td>\n",
       "      <td>...</td>\n",
       "      <td>...</td>\n",
       "      <td>...</td>\n",
       "      <td>...</td>\n",
       "      <td>...</td>\n",
       "      <td>...</td>\n",
       "      <td>...</td>\n",
       "      <td>...</td>\n",
       "      <td>...</td>\n",
       "      <td>...</td>\n",
       "      <td>...</td>\n",
       "      <td>...</td>\n",
       "    </tr>\n",
       "    <tr>\n",
       "      <th>944683</th>\n",
       "      <td>ES</td>\n",
       "      <td>BCN</td>\n",
       "      <td>100943588467</td>\n",
       "      <td>27190542</td>\n",
       "      <td>2024-10-19 19:54:46+00:00</td>\n",
       "      <td>MOTORBIKE</td>\n",
       "      <td>41.358780</td>\n",
       "      <td>2.140459</td>\n",
       "      <td>41.355995</td>\n",
       "      <td>2.142461</td>\n",
       "      <td>Europe/Madrid</td>\n",
       "      <td>0.721847</td>\n",
       "      <td>0.037358</td>\n",
       "      <td>0.721798</td>\n",
       "      <td>0.037393</td>\n",
       "      <td>351.881959</td>\n",
       "      <td>351.881959</td>\n",
       "      <td>477.307499</td>\n",
       "    </tr>\n",
       "    <tr>\n",
       "      <th>98134</th>\n",
       "      <td>ES</td>\n",
       "      <td>BCN</td>\n",
       "      <td>100905215098</td>\n",
       "      <td>84811393</td>\n",
       "      <td>2024-10-02 20:04:06+00:00</td>\n",
       "      <td>MOTORBIKE</td>\n",
       "      <td>41.388477</td>\n",
       "      <td>2.173136</td>\n",
       "      <td>41.392323</td>\n",
       "      <td>2.186695</td>\n",
       "      <td>Europe/Madrid</td>\n",
       "      <td>0.722365</td>\n",
       "      <td>0.037928</td>\n",
       "      <td>0.722432</td>\n",
       "      <td>0.038165</td>\n",
       "      <td>1209.251244</td>\n",
       "      <td>1209.251244</td>\n",
       "      <td>1560.512507</td>\n",
       "    </tr>\n",
       "    <tr>\n",
       "      <th>452363</th>\n",
       "      <td>ES</td>\n",
       "      <td>BCN</td>\n",
       "      <td>100919556253</td>\n",
       "      <td>177355697</td>\n",
       "      <td>2024-10-09 09:43:00+00:00</td>\n",
       "      <td>BICYCLE</td>\n",
       "      <td>41.403890</td>\n",
       "      <td>2.197596</td>\n",
       "      <td>41.397816</td>\n",
       "      <td>2.201170</td>\n",
       "      <td>Europe/Madrid</td>\n",
       "      <td>0.722634</td>\n",
       "      <td>0.038355</td>\n",
       "      <td>0.722528</td>\n",
       "      <td>0.038418</td>\n",
       "      <td>738.259099</td>\n",
       "      <td>738.259099</td>\n",
       "      <td>974.591213</td>\n",
       "    </tr>\n",
       "    <tr>\n",
       "      <th>340286</th>\n",
       "      <td>ES</td>\n",
       "      <td>MAD</td>\n",
       "      <td>100913456263</td>\n",
       "      <td>148739564</td>\n",
       "      <td>2024-10-06 13:20:02+00:00</td>\n",
       "      <td>BICYCLE</td>\n",
       "      <td>40.416176</td>\n",
       "      <td>-3.700308</td>\n",
       "      <td>40.411835</td>\n",
       "      <td>-3.702255</td>\n",
       "      <td>Europe/Madrid</td>\n",
       "      <td>0.705395</td>\n",
       "      <td>-0.064583</td>\n",
       "      <td>0.705320</td>\n",
       "      <td>-0.064617</td>\n",
       "      <td>510.066878</td>\n",
       "      <td>510.066878</td>\n",
       "      <td>648.261621</td>\n",
       "    </tr>\n",
       "    <tr>\n",
       "      <th>950591</th>\n",
       "      <td>ES</td>\n",
       "      <td>BCN</td>\n",
       "      <td>100944402427</td>\n",
       "      <td>117924217</td>\n",
       "      <td>2024-10-20 00:37:00+00:00</td>\n",
       "      <td>BICYCLE</td>\n",
       "      <td>41.378440</td>\n",
       "      <td>2.139940</td>\n",
       "      <td>41.383602</td>\n",
       "      <td>2.152082</td>\n",
       "      <td>Europe/Madrid</td>\n",
       "      <td>0.722190</td>\n",
       "      <td>0.037349</td>\n",
       "      <td>0.722280</td>\n",
       "      <td>0.037561</td>\n",
       "      <td>1164.354252</td>\n",
       "      <td>1164.354252</td>\n",
       "      <td>1588.815579</td>\n",
       "    </tr>\n",
       "  </tbody>\n",
       "</table>\n",
       "<p>939252 rows × 18 columns</p>\n",
       "</div>"
      ],
      "text/plain": [
       "       country_code city_code      order_id  courier_id  \\\n",
       "216013           ES       MAD  100908272495   163418145   \n",
       "695901           ES       BCN  100932710896   176234210   \n",
       "738936           ES       BCN  100933683469   132387012   \n",
       "852314           ES       MAD  100938972716   160582199   \n",
       "761588           ES       MAD  100933362982    56735057   \n",
       "...             ...       ...           ...         ...   \n",
       "944683           ES       BCN  100943588467    27190542   \n",
       "98134            ES       BCN  100905215098    84811393   \n",
       "452363           ES       BCN  100919556253   177355697   \n",
       "340286           ES       MAD  100913456263   148739564   \n",
       "950591           ES       BCN  100944402427   117924217   \n",
       "\n",
       "            activation_timestamp  transport  pickup_latitude  \\\n",
       "216013 2024-10-04 12:25:46+00:00  MOTORBIKE        40.422318   \n",
       "695901 2024-10-14 19:47:26+00:00    BICYCLE        41.376660   \n",
       "738936 2024-10-15 13:06:01+00:00  MOTORBIKE        41.391770   \n",
       "852314 2024-10-17 20:48:37+00:00  MOTORBIKE        40.403374   \n",
       "761588 2024-10-15 09:50:27+00:00        CAR        40.476870   \n",
       "...                          ...        ...              ...   \n",
       "944683 2024-10-19 19:54:46+00:00  MOTORBIKE        41.358780   \n",
       "98134  2024-10-02 20:04:06+00:00  MOTORBIKE        41.388477   \n",
       "452363 2024-10-09 09:43:00+00:00    BICYCLE        41.403890   \n",
       "340286 2024-10-06 13:20:02+00:00    BICYCLE        40.416176   \n",
       "950591 2024-10-20 00:37:00+00:00    BICYCLE        41.378440   \n",
       "\n",
       "        pickup_longitude  delivery_latitude  delivery_longitude  \\\n",
       "216013         -3.694224          40.429104           -3.691762   \n",
       "695901          2.172004          41.381382            2.179668   \n",
       "738936          2.180567          41.393860            2.193024   \n",
       "852314         -3.637724          40.397865           -3.641072   \n",
       "761588         -3.688909          40.471684           -3.696338   \n",
       "...                  ...                ...                 ...   \n",
       "944683          2.140459          41.355995            2.142461   \n",
       "98134           2.173136          41.392323            2.186695   \n",
       "452363          2.197596          41.397816            2.201170   \n",
       "340286         -3.700308          40.411835           -3.702255   \n",
       "950591          2.139940          41.383602            2.152082   \n",
       "\n",
       "            time_zone  pickup_latitude_rad  pickup_longitude_rad  \\\n",
       "216013  Europe/Madrid             0.705503             -0.064476   \n",
       "695901  Europe/Madrid             0.722159              0.037909   \n",
       "738936  Europe/Madrid             0.722423              0.038058   \n",
       "852314  Europe/Madrid             0.705172             -0.063490   \n",
       "761588  Europe/Madrid             0.706455             -0.064384   \n",
       "...               ...                  ...                   ...   \n",
       "944683  Europe/Madrid             0.721847              0.037358   \n",
       "98134   Europe/Madrid             0.722365              0.037928   \n",
       "452363  Europe/Madrid             0.722634              0.038355   \n",
       "340286  Europe/Madrid             0.705395             -0.064583   \n",
       "950591  Europe/Madrid             0.722190              0.037349   \n",
       "\n",
       "        delivery_latitude_rad  delivery_longitude_rad  \\\n",
       "216013               0.705621               -0.064433   \n",
       "695901               0.722241                0.038042   \n",
       "738936               0.722459                0.038275   \n",
       "852314               0.705076               -0.063549   \n",
       "761588               0.706364               -0.064513   \n",
       "...                       ...                     ...   \n",
       "944683               0.721798                0.037393   \n",
       "98134                0.722432                0.038165   \n",
       "452363               0.722528                0.038418   \n",
       "340286               0.705320               -0.064617   \n",
       "950591               0.722280                0.037561   \n",
       "\n",
       "        pd_distance_haversine_m  pd_distance_haversine_m_sk  \\\n",
       "216013               782.819589                  782.819589   \n",
       "695901               827.398330                  827.398330   \n",
       "738936              1064.806772                 1064.806772   \n",
       "852314               674.996963                  674.996963   \n",
       "761588               852.880759                  852.880759   \n",
       "...                         ...                         ...   \n",
       "944683               351.881959                  351.881959   \n",
       "98134               1209.251244                 1209.251244   \n",
       "452363               738.259099                  738.259099   \n",
       "340286               510.066878                  510.066878   \n",
       "950591              1164.354252                 1164.354252   \n",
       "\n",
       "        pd_distance_manhattan_m  \n",
       "216013               964.052471  \n",
       "695901              1165.821701  \n",
       "738936              1272.962743  \n",
       "852314               897.084108  \n",
       "761588              1206.399489  \n",
       "...                         ...  \n",
       "944683               477.307499  \n",
       "98134               1560.512507  \n",
       "452363               974.591213  \n",
       "340286               648.261621  \n",
       "950591              1588.815579  \n",
       "\n",
       "[939252 rows x 18 columns]"
      ]
     },
     "execution_count": 29,
     "metadata": {},
     "output_type": "execute_result"
    }
   ],
   "source": [
    "X_train"
   ]
  },
  {
   "cell_type": "code",
   "execution_count": 30,
   "id": "578fea794feb9a3d",
   "metadata": {
    "ExecuteTime": {
     "end_time": "2025-02-05T15:38:59.281370Z",
     "start_time": "2025-02-05T15:38:59.271558Z"
    },
    "collapsed": false
   },
   "outputs": [
    {
     "data": {
      "text/plain": [
       "187877    690.484\n",
       "715461    514.653\n",
       "739654    513.563\n",
       "857768    423.692\n",
       "734084    567.248\n",
       "           ...   \n",
       "963395    633.350\n",
       "117952    911.744\n",
       "435829    346.596\n",
       "305711    147.967\n",
       "985772    654.098\n",
       "Name: pickup_to_delivery, Length: 939252, dtype: float64"
      ]
     },
     "execution_count": 30,
     "metadata": {},
     "output_type": "execute_result"
    }
   ],
   "source": [
    "y_train"
   ]
  },
  {
   "cell_type": "code",
   "execution_count": 31,
   "id": "2e1aab43ff9f5211",
   "metadata": {
    "ExecuteTime": {
     "end_time": "2025-02-05T15:38:59.303807Z",
     "start_time": "2025-02-05T15:38:59.276833Z"
    },
    "collapsed": false
   },
   "outputs": [
    {
     "name": "stdout",
     "output_type": "stream",
     "text": [
      "(939252, 18) (939252,)\n",
      "(104362, 18) (104362,)\n"
     ]
    }
   ],
   "source": [
    "print(X_train.shape, y_train.shape)\n",
    "print(X_test.shape, y_test.shape)"
   ]
  },
  {
   "cell_type": "code",
   "execution_count": 32,
   "id": "fdc44e42fd992ca8",
   "metadata": {
    "ExecuteTime": {
     "end_time": "2025-02-05T15:38:59.335384Z",
     "start_time": "2025-02-05T15:38:59.280993Z"
    },
    "collapsed": false
   },
   "outputs": [],
   "source": [
    "# In case we want to test different hyperparameters, we will use cross-validation\n",
    "#scores = cross_val_score(<estimator>, X, y, cv=k_cv)"
   ]
  },
  {
   "cell_type": "markdown",
   "id": "7282f116c476aa5c",
   "metadata": {
    "collapsed": false
   },
   "source": [
    "### Database split using directly the creation date\n",
    "\n",
    "As we have partitioned the data by city and creation date, we can use this information to split the data. This will help to avoid data leakage, as we will not have data from the future in the training set.\n",
    "This is much better than just sorting the data by the creation timestamp and taking 10% of the dataset as test set, as we did before."
   ]
  },
  {
   "cell_type": "code",
   "execution_count": 33,
   "id": "75c872336bd56642",
   "metadata": {
    "ExecuteTime": {
     "end_time": "2025-02-13T15:33:16.970407Z",
     "start_time": "2025-02-13T15:33:16.920478Z"
    },
    "collapsed": false
   },
   "outputs": [
    {
     "name": "stdout",
     "output_type": "stream",
     "text": [
      "Start date: 2024-09-30 | Begin test date: 2024-10-14 | End date: 2024-10-20\n"
     ]
    }
   ],
   "source": [
    "# We take the last week of the dataset to test the model\n",
    "begin_test_date = pd.to_datetime(end_date) - pd.Timedelta(days=days_for_test-1)\n",
    "begin_test_date = begin_test_date.strftime(\"%Y-%m-%d\")\n",
    "print(f'Start date: {start_date} | Begin test date: {begin_test_date} | End date: {end_date}')"
   ]
  },
  {
   "cell_type": "code",
   "execution_count": 34,
   "id": "3ac70f793bb888aa",
   "metadata": {
    "ExecuteTime": {
     "end_time": "2025-02-13T15:33:18.115459Z",
     "start_time": "2025-02-13T15:33:17.768838Z"
    },
    "collapsed": false
   },
   "outputs": [
    {
     "data": {
      "text/html": [
       "<div>\n",
       "<style scoped>\n",
       "    .dataframe tbody tr th:only-of-type {\n",
       "        vertical-align: middle;\n",
       "    }\n",
       "\n",
       "    .dataframe tbody tr th {\n",
       "        vertical-align: top;\n",
       "    }\n",
       "\n",
       "    .dataframe thead th {\n",
       "        text-align: right;\n",
       "    }\n",
       "</style>\n",
       "<table border=\"1\" class=\"dataframe\">\n",
       "  <thead>\n",
       "    <tr style=\"text-align: right;\">\n",
       "      <th></th>\n",
       "      <th>country_code</th>\n",
       "      <th>order_id</th>\n",
       "      <th>courier_id</th>\n",
       "      <th>creation_timestamp</th>\n",
       "      <th>activation_timestamp</th>\n",
       "      <th>transport</th>\n",
       "      <th>pickup_latitude</th>\n",
       "      <th>pickup_longitude</th>\n",
       "      <th>delivery_latitude</th>\n",
       "      <th>delivery_longitude</th>\n",
       "      <th>...</th>\n",
       "      <th>delivery_timestamp</th>\n",
       "      <th>pickup_latitude_rad</th>\n",
       "      <th>pickup_longitude_rad</th>\n",
       "      <th>delivery_latitude_rad</th>\n",
       "      <th>delivery_longitude_rad</th>\n",
       "      <th>pd_distance_haversine_m</th>\n",
       "      <th>pd_distance_haversine_m_sk</th>\n",
       "      <th>pd_distance_manhattan_m</th>\n",
       "      <th>creation_date</th>\n",
       "      <th>city_code</th>\n",
       "    </tr>\n",
       "  </thead>\n",
       "  <tbody>\n",
       "    <tr>\n",
       "      <th>0</th>\n",
       "      <td>ES</td>\n",
       "      <td>100901465337</td>\n",
       "      <td>169809943</td>\n",
       "      <td>2024-09-30 21:45:07+00:00</td>\n",
       "      <td>2024-09-30 21:45:08+00:00</td>\n",
       "      <td>MOTORBIKE</td>\n",
       "      <td>38.363853</td>\n",
       "      <td>-0.490179</td>\n",
       "      <td>38.384950</td>\n",
       "      <td>-0.492624</td>\n",
       "      <td>...</td>\n",
       "      <td>2024-09-30 22:10:01+00:00</td>\n",
       "      <td>0.669576</td>\n",
       "      <td>-0.008555</td>\n",
       "      <td>0.669944</td>\n",
       "      <td>-0.008598</td>\n",
       "      <td>2355.545318</td>\n",
       "      <td>2355.545318</td>\n",
       "      <td>2561.897200</td>\n",
       "      <td>2024-09-30</td>\n",
       "      <td>ALC</td>\n",
       "    </tr>\n",
       "    <tr>\n",
       "      <th>1</th>\n",
       "      <td>ES</td>\n",
       "      <td>100901489101</td>\n",
       "      <td>9516729</td>\n",
       "      <td>2024-09-30 21:55:46+00:00</td>\n",
       "      <td>2024-09-30 21:55:47+00:00</td>\n",
       "      <td>CAR</td>\n",
       "      <td>38.367390</td>\n",
       "      <td>-0.424259</td>\n",
       "      <td>38.364704</td>\n",
       "      <td>-0.417333</td>\n",
       "      <td>...</td>\n",
       "      <td>2024-09-30 22:09:18+00:00</td>\n",
       "      <td>0.669637</td>\n",
       "      <td>-0.007405</td>\n",
       "      <td>0.669590</td>\n",
       "      <td>-0.007284</td>\n",
       "      <td>673.661802</td>\n",
       "      <td>673.661802</td>\n",
       "      <td>903.518684</td>\n",
       "      <td>2024-09-30</td>\n",
       "      <td>ALC</td>\n",
       "    </tr>\n",
       "    <tr>\n",
       "      <th>2</th>\n",
       "      <td>ES</td>\n",
       "      <td>100899913152</td>\n",
       "      <td>172855743</td>\n",
       "      <td>2024-09-30 10:30:55+00:00</td>\n",
       "      <td>2024-09-30 10:30:57+00:00</td>\n",
       "      <td>MOTORBIKE</td>\n",
       "      <td>38.345226</td>\n",
       "      <td>-0.492212</td>\n",
       "      <td>38.345290</td>\n",
       "      <td>-0.485164</td>\n",
       "      <td>...</td>\n",
       "      <td>2024-09-30 10:49:56+00:00</td>\n",
       "      <td>0.669250</td>\n",
       "      <td>-0.008591</td>\n",
       "      <td>0.669252</td>\n",
       "      <td>-0.008468</td>\n",
       "      <td>614.688869</td>\n",
       "      <td>614.688869</td>\n",
       "      <td>622.462666</td>\n",
       "      <td>2024-09-30</td>\n",
       "      <td>ALC</td>\n",
       "    </tr>\n",
       "    <tr>\n",
       "      <th>3</th>\n",
       "      <td>ES</td>\n",
       "      <td>100900447439</td>\n",
       "      <td>170201413</td>\n",
       "      <td>2024-09-30 14:46:15+00:00</td>\n",
       "      <td>2024-09-30 14:46:16+00:00</td>\n",
       "      <td>CAR</td>\n",
       "      <td>38.365310</td>\n",
       "      <td>-0.469368</td>\n",
       "      <td>38.361786</td>\n",
       "      <td>-0.435688</td>\n",
       "      <td>...</td>\n",
       "      <td>2024-09-30 15:11:36+00:00</td>\n",
       "      <td>0.669601</td>\n",
       "      <td>-0.008192</td>\n",
       "      <td>0.669539</td>\n",
       "      <td>-0.007604</td>\n",
       "      <td>2962.480499</td>\n",
       "      <td>2962.480499</td>\n",
       "      <td>3332.041363</td>\n",
       "      <td>2024-09-30</td>\n",
       "      <td>ALC</td>\n",
       "    </tr>\n",
       "    <tr>\n",
       "      <th>4</th>\n",
       "      <td>ES</td>\n",
       "      <td>100900529830</td>\n",
       "      <td>176424631</td>\n",
       "      <td>2024-09-30 15:22:32+00:00</td>\n",
       "      <td>2024-09-30 15:22:33+00:00</td>\n",
       "      <td>MOTORBIKE</td>\n",
       "      <td>38.345670</td>\n",
       "      <td>-0.484130</td>\n",
       "      <td>38.345665</td>\n",
       "      <td>-0.503724</td>\n",
       "      <td>...</td>\n",
       "      <td>2024-09-30 15:56:07+00:00</td>\n",
       "      <td>0.669258</td>\n",
       "      <td>-0.008450</td>\n",
       "      <td>0.669258</td>\n",
       "      <td>-0.008792</td>\n",
       "      <td>1708.759794</td>\n",
       "      <td>1708.759794</td>\n",
       "      <td>1711.235976</td>\n",
       "      <td>2024-09-30</td>\n",
       "      <td>ALC</td>\n",
       "    </tr>\n",
       "  </tbody>\n",
       "</table>\n",
       "<p>5 rows × 22 columns</p>\n",
       "</div>"
      ],
      "text/plain": [
       "  country_code      order_id  courier_id        creation_timestamp  \\\n",
       "0           ES  100901465337   169809943 2024-09-30 21:45:07+00:00   \n",
       "1           ES  100901489101     9516729 2024-09-30 21:55:46+00:00   \n",
       "2           ES  100899913152   172855743 2024-09-30 10:30:55+00:00   \n",
       "3           ES  100900447439   170201413 2024-09-30 14:46:15+00:00   \n",
       "4           ES  100900529830   176424631 2024-09-30 15:22:32+00:00   \n",
       "\n",
       "       activation_timestamp  transport  pickup_latitude  pickup_longitude  \\\n",
       "0 2024-09-30 21:45:08+00:00  MOTORBIKE        38.363853         -0.490179   \n",
       "1 2024-09-30 21:55:47+00:00        CAR        38.367390         -0.424259   \n",
       "2 2024-09-30 10:30:57+00:00  MOTORBIKE        38.345226         -0.492212   \n",
       "3 2024-09-30 14:46:16+00:00        CAR        38.365310         -0.469368   \n",
       "4 2024-09-30 15:22:33+00:00  MOTORBIKE        38.345670         -0.484130   \n",
       "\n",
       "   delivery_latitude  delivery_longitude  ...        delivery_timestamp  \\\n",
       "0          38.384950           -0.492624  ... 2024-09-30 22:10:01+00:00   \n",
       "1          38.364704           -0.417333  ... 2024-09-30 22:09:18+00:00   \n",
       "2          38.345290           -0.485164  ... 2024-09-30 10:49:56+00:00   \n",
       "3          38.361786           -0.435688  ... 2024-09-30 15:11:36+00:00   \n",
       "4          38.345665           -0.503724  ... 2024-09-30 15:56:07+00:00   \n",
       "\n",
       "  pickup_latitude_rad pickup_longitude_rad  delivery_latitude_rad  \\\n",
       "0            0.669576            -0.008555               0.669944   \n",
       "1            0.669637            -0.007405               0.669590   \n",
       "2            0.669250            -0.008591               0.669252   \n",
       "3            0.669601            -0.008192               0.669539   \n",
       "4            0.669258            -0.008450               0.669258   \n",
       "\n",
       "   delivery_longitude_rad  pd_distance_haversine_m  \\\n",
       "0               -0.008598              2355.545318   \n",
       "1               -0.007284               673.661802   \n",
       "2               -0.008468               614.688869   \n",
       "3               -0.007604              2962.480499   \n",
       "4               -0.008792              1708.759794   \n",
       "\n",
       "   pd_distance_haversine_m_sk  pd_distance_manhattan_m  creation_date  \\\n",
       "0                 2355.545318              2561.897200     2024-09-30   \n",
       "1                  673.661802               903.518684     2024-09-30   \n",
       "2                  614.688869               622.462666     2024-09-30   \n",
       "3                 2962.480499              3332.041363     2024-09-30   \n",
       "4                 1708.759794              1711.235976     2024-09-30   \n",
       "\n",
       "   city_code  \n",
       "0        ALC  \n",
       "1        ALC  \n",
       "2        ALC  \n",
       "3        ALC  \n",
       "4        ALC  \n",
       "\n",
       "[5 rows x 22 columns]"
      ]
     },
     "execution_count": 34,
     "metadata": {},
     "output_type": "execute_result"
    }
   ],
   "source": [
    "data_train = pd.read_parquet(\"data/parquet/dataframe.parquet/\", filters=[('creation_date', '<', begin_test_date)])\n",
    "data_train.head()"
   ]
  },
  {
   "cell_type": "code",
   "execution_count": 35,
   "id": "dfa5c639",
   "metadata": {},
   "outputs": [
    {
     "data": {
      "text/html": [
       "<div>\n",
       "<style scoped>\n",
       "    .dataframe tbody tr th:only-of-type {\n",
       "        vertical-align: middle;\n",
       "    }\n",
       "\n",
       "    .dataframe tbody tr th {\n",
       "        vertical-align: top;\n",
       "    }\n",
       "\n",
       "    .dataframe thead th {\n",
       "        text-align: right;\n",
       "    }\n",
       "</style>\n",
       "<table border=\"1\" class=\"dataframe\">\n",
       "  <thead>\n",
       "    <tr style=\"text-align: right;\">\n",
       "      <th></th>\n",
       "      <th>country_code</th>\n",
       "      <th>city_code</th>\n",
       "      <th>order_id</th>\n",
       "      <th>courier_id</th>\n",
       "      <th>activation_timestamp</th>\n",
       "      <th>transport</th>\n",
       "      <th>pickup_latitude</th>\n",
       "      <th>pickup_longitude</th>\n",
       "      <th>delivery_latitude</th>\n",
       "      <th>delivery_longitude</th>\n",
       "      <th>time_zone</th>\n",
       "      <th>pickup_latitude_rad</th>\n",
       "      <th>pickup_longitude_rad</th>\n",
       "      <th>delivery_latitude_rad</th>\n",
       "      <th>delivery_longitude_rad</th>\n",
       "      <th>pd_distance_haversine_m</th>\n",
       "      <th>pd_distance_haversine_m_sk</th>\n",
       "      <th>pd_distance_manhattan_m</th>\n",
       "    </tr>\n",
       "  </thead>\n",
       "  <tbody>\n",
       "    <tr>\n",
       "      <th>0</th>\n",
       "      <td>ES</td>\n",
       "      <td>ALC</td>\n",
       "      <td>100901465337</td>\n",
       "      <td>169809943</td>\n",
       "      <td>2024-09-30 21:45:08+00:00</td>\n",
       "      <td>MOTORBIKE</td>\n",
       "      <td>38.363853</td>\n",
       "      <td>-0.490179</td>\n",
       "      <td>38.384950</td>\n",
       "      <td>-0.492624</td>\n",
       "      <td>Europe/Madrid</td>\n",
       "      <td>0.669576</td>\n",
       "      <td>-0.008555</td>\n",
       "      <td>0.669944</td>\n",
       "      <td>-0.008598</td>\n",
       "      <td>2355.545318</td>\n",
       "      <td>2355.545318</td>\n",
       "      <td>2561.897200</td>\n",
       "    </tr>\n",
       "    <tr>\n",
       "      <th>1</th>\n",
       "      <td>ES</td>\n",
       "      <td>ALC</td>\n",
       "      <td>100901489101</td>\n",
       "      <td>9516729</td>\n",
       "      <td>2024-09-30 21:55:47+00:00</td>\n",
       "      <td>CAR</td>\n",
       "      <td>38.367390</td>\n",
       "      <td>-0.424259</td>\n",
       "      <td>38.364704</td>\n",
       "      <td>-0.417333</td>\n",
       "      <td>Europe/Madrid</td>\n",
       "      <td>0.669637</td>\n",
       "      <td>-0.007405</td>\n",
       "      <td>0.669590</td>\n",
       "      <td>-0.007284</td>\n",
       "      <td>673.661802</td>\n",
       "      <td>673.661802</td>\n",
       "      <td>903.518684</td>\n",
       "    </tr>\n",
       "    <tr>\n",
       "      <th>2</th>\n",
       "      <td>ES</td>\n",
       "      <td>ALC</td>\n",
       "      <td>100899913152</td>\n",
       "      <td>172855743</td>\n",
       "      <td>2024-09-30 10:30:57+00:00</td>\n",
       "      <td>MOTORBIKE</td>\n",
       "      <td>38.345226</td>\n",
       "      <td>-0.492212</td>\n",
       "      <td>38.345290</td>\n",
       "      <td>-0.485164</td>\n",
       "      <td>Europe/Madrid</td>\n",
       "      <td>0.669250</td>\n",
       "      <td>-0.008591</td>\n",
       "      <td>0.669252</td>\n",
       "      <td>-0.008468</td>\n",
       "      <td>614.688869</td>\n",
       "      <td>614.688869</td>\n",
       "      <td>622.462666</td>\n",
       "    </tr>\n",
       "    <tr>\n",
       "      <th>3</th>\n",
       "      <td>ES</td>\n",
       "      <td>ALC</td>\n",
       "      <td>100900447439</td>\n",
       "      <td>170201413</td>\n",
       "      <td>2024-09-30 14:46:16+00:00</td>\n",
       "      <td>CAR</td>\n",
       "      <td>38.365310</td>\n",
       "      <td>-0.469368</td>\n",
       "      <td>38.361786</td>\n",
       "      <td>-0.435688</td>\n",
       "      <td>Europe/Madrid</td>\n",
       "      <td>0.669601</td>\n",
       "      <td>-0.008192</td>\n",
       "      <td>0.669539</td>\n",
       "      <td>-0.007604</td>\n",
       "      <td>2962.480499</td>\n",
       "      <td>2962.480499</td>\n",
       "      <td>3332.041363</td>\n",
       "    </tr>\n",
       "    <tr>\n",
       "      <th>4</th>\n",
       "      <td>ES</td>\n",
       "      <td>ALC</td>\n",
       "      <td>100900529830</td>\n",
       "      <td>176424631</td>\n",
       "      <td>2024-09-30 15:22:33+00:00</td>\n",
       "      <td>MOTORBIKE</td>\n",
       "      <td>38.345670</td>\n",
       "      <td>-0.484130</td>\n",
       "      <td>38.345665</td>\n",
       "      <td>-0.503724</td>\n",
       "      <td>Europe/Madrid</td>\n",
       "      <td>0.669258</td>\n",
       "      <td>-0.008450</td>\n",
       "      <td>0.669258</td>\n",
       "      <td>-0.008792</td>\n",
       "      <td>1708.759794</td>\n",
       "      <td>1708.759794</td>\n",
       "      <td>1711.235976</td>\n",
       "    </tr>\n",
       "  </tbody>\n",
       "</table>\n",
       "</div>"
      ],
      "text/plain": [
       "  country_code city_code      order_id  courier_id      activation_timestamp  \\\n",
       "0           ES       ALC  100901465337   169809943 2024-09-30 21:45:08+00:00   \n",
       "1           ES       ALC  100901489101     9516729 2024-09-30 21:55:47+00:00   \n",
       "2           ES       ALC  100899913152   172855743 2024-09-30 10:30:57+00:00   \n",
       "3           ES       ALC  100900447439   170201413 2024-09-30 14:46:16+00:00   \n",
       "4           ES       ALC  100900529830   176424631 2024-09-30 15:22:33+00:00   \n",
       "\n",
       "   transport  pickup_latitude  pickup_longitude  delivery_latitude  \\\n",
       "0  MOTORBIKE        38.363853         -0.490179          38.384950   \n",
       "1        CAR        38.367390         -0.424259          38.364704   \n",
       "2  MOTORBIKE        38.345226         -0.492212          38.345290   \n",
       "3        CAR        38.365310         -0.469368          38.361786   \n",
       "4  MOTORBIKE        38.345670         -0.484130          38.345665   \n",
       "\n",
       "   delivery_longitude      time_zone  pickup_latitude_rad  \\\n",
       "0           -0.492624  Europe/Madrid             0.669576   \n",
       "1           -0.417333  Europe/Madrid             0.669637   \n",
       "2           -0.485164  Europe/Madrid             0.669250   \n",
       "3           -0.435688  Europe/Madrid             0.669601   \n",
       "4           -0.503724  Europe/Madrid             0.669258   \n",
       "\n",
       "   pickup_longitude_rad  delivery_latitude_rad  delivery_longitude_rad  \\\n",
       "0             -0.008555               0.669944               -0.008598   \n",
       "1             -0.007405               0.669590               -0.007284   \n",
       "2             -0.008591               0.669252               -0.008468   \n",
       "3             -0.008192               0.669539               -0.007604   \n",
       "4             -0.008450               0.669258               -0.008792   \n",
       "\n",
       "   pd_distance_haversine_m  pd_distance_haversine_m_sk  \\\n",
       "0              2355.545318                 2355.545318   \n",
       "1               673.661802                  673.661802   \n",
       "2               614.688869                  614.688869   \n",
       "3              2962.480499                 2962.480499   \n",
       "4              1708.759794                 1708.759794   \n",
       "\n",
       "   pd_distance_manhattan_m  \n",
       "0              2561.897200  \n",
       "1               903.518684  \n",
       "2               622.462666  \n",
       "3              3332.041363  \n",
       "4              1711.235976  "
      ]
     },
     "execution_count": 35,
     "metadata": {},
     "output_type": "execute_result"
    }
   ],
   "source": [
    "train_columns = ['country_code', 'city_code', 'order_id', 'courier_id', 'activation_timestamp', 'transport', 'pickup_latitude', 'pickup_longitude',\n",
    "                 'delivery_latitude', 'delivery_longitude', 'time_zone', 'pickup_latitude_rad', 'pickup_longitude_rad', 'delivery_latitude_rad',\n",
    "                 'delivery_longitude_rad', 'pd_distance_haversine_m', 'pd_distance_haversine_m_sk', 'pd_distance_manhattan_m']\n",
    "X_train = data_train[train_columns].copy()\n",
    "X_train.head()"
   ]
  },
  {
   "cell_type": "code",
   "execution_count": 36,
   "id": "74662b30246725ca",
   "metadata": {
    "ExecuteTime": {
     "end_time": "2025-02-13T15:33:20.440817Z",
     "start_time": "2025-02-13T15:33:20.409484Z"
    },
    "collapsed": false
   },
   "outputs": [
    {
     "data": {
      "text/plain": [
       "np.int64(0)"
      ]
     },
     "execution_count": 36,
     "metadata": {},
     "output_type": "execute_result"
    }
   ],
   "source": [
    "# Check that there are no nulls deriving from a wrong writing of parquet files (appending instead of overwriting)\n",
    "X_train.isnull().sum().sum()"
   ]
  },
  {
   "cell_type": "code",
   "execution_count": 37,
   "id": "7062f2936f260656",
   "metadata": {
    "ExecuteTime": {
     "end_time": "2025-02-13T15:33:21.024990Z",
     "start_time": "2025-02-13T15:33:20.991134Z"
    },
    "collapsed": false
   },
   "outputs": [
    {
     "data": {
      "text/plain": [
       "0         564.308\n",
       "1         464.860\n",
       "2         511.029\n",
       "3         906.377\n",
       "4         680.043\n",
       "           ...   \n",
       "688810    600.971\n",
       "688811    270.726\n",
       "688812    244.485\n",
       "688813    605.772\n",
       "688814    529.026\n",
       "Name: pickup_to_delivery, Length: 688815, dtype: float64"
      ]
     },
     "execution_count": 37,
     "metadata": {},
     "output_type": "execute_result"
    }
   ],
   "source": [
    "y_train = (data_train['delivery_timestamp'] - data_train['pickup_timestamp']).dt.total_seconds()\n",
    "y_train = pd.Series(y_train, name='pickup_to_delivery')\n",
    "y_train"
   ]
  },
  {
   "cell_type": "code",
   "execution_count": 38,
   "id": "ab7c005256b289b6",
   "metadata": {
    "ExecuteTime": {
     "end_time": "2025-02-13T15:33:21.600335Z",
     "start_time": "2025-02-13T15:33:21.566362Z"
    },
    "collapsed": false
   },
   "outputs": [
    {
     "data": {
      "text/plain": [
       "np.int64(0)"
      ]
     },
     "execution_count": 38,
     "metadata": {},
     "output_type": "execute_result"
    }
   ],
   "source": [
    "y_train.isnull().sum().sum()"
   ]
  },
  {
   "cell_type": "code",
   "execution_count": 39,
   "id": "1830d6e04cb2eed0",
   "metadata": {
    "ExecuteTime": {
     "end_time": "2025-02-13T15:33:22.558175Z",
     "start_time": "2025-02-13T15:33:22.345167Z"
    },
    "collapsed": false
   },
   "outputs": [
    {
     "data": {
      "text/html": [
       "<div>\n",
       "<style scoped>\n",
       "    .dataframe tbody tr th:only-of-type {\n",
       "        vertical-align: middle;\n",
       "    }\n",
       "\n",
       "    .dataframe tbody tr th {\n",
       "        vertical-align: top;\n",
       "    }\n",
       "\n",
       "    .dataframe thead th {\n",
       "        text-align: right;\n",
       "    }\n",
       "</style>\n",
       "<table border=\"1\" class=\"dataframe\">\n",
       "  <thead>\n",
       "    <tr style=\"text-align: right;\">\n",
       "      <th></th>\n",
       "      <th>country_code</th>\n",
       "      <th>order_id</th>\n",
       "      <th>courier_id</th>\n",
       "      <th>creation_timestamp</th>\n",
       "      <th>activation_timestamp</th>\n",
       "      <th>transport</th>\n",
       "      <th>pickup_latitude</th>\n",
       "      <th>pickup_longitude</th>\n",
       "      <th>delivery_latitude</th>\n",
       "      <th>delivery_longitude</th>\n",
       "      <th>...</th>\n",
       "      <th>delivery_timestamp</th>\n",
       "      <th>pickup_latitude_rad</th>\n",
       "      <th>pickup_longitude_rad</th>\n",
       "      <th>delivery_latitude_rad</th>\n",
       "      <th>delivery_longitude_rad</th>\n",
       "      <th>pd_distance_haversine_m</th>\n",
       "      <th>pd_distance_haversine_m_sk</th>\n",
       "      <th>pd_distance_manhattan_m</th>\n",
       "      <th>creation_date</th>\n",
       "      <th>city_code</th>\n",
       "    </tr>\n",
       "  </thead>\n",
       "  <tbody>\n",
       "    <tr>\n",
       "      <th>0</th>\n",
       "      <td>ES</td>\n",
       "      <td>100933187613</td>\n",
       "      <td>176241347</td>\n",
       "      <td>2024-10-14 23:24:53+00:00</td>\n",
       "      <td>2024-10-14 23:24:54+00:00</td>\n",
       "      <td>BICYCLE</td>\n",
       "      <td>38.345078</td>\n",
       "      <td>-0.483469</td>\n",
       "      <td>38.349590</td>\n",
       "      <td>-0.487954</td>\n",
       "      <td>...</td>\n",
       "      <td>2024-10-14 23:45:58+00:00</td>\n",
       "      <td>0.669248</td>\n",
       "      <td>-0.008438</td>\n",
       "      <td>0.669327</td>\n",
       "      <td>-0.008516</td>\n",
       "      <td>636.152666</td>\n",
       "      <td>636.152666</td>\n",
       "      <td>893.835525</td>\n",
       "      <td>2024-10-14</td>\n",
       "      <td>ALC</td>\n",
       "    </tr>\n",
       "    <tr>\n",
       "      <th>1</th>\n",
       "      <td>ES</td>\n",
       "      <td>100933198445</td>\n",
       "      <td>10191824</td>\n",
       "      <td>2024-10-14 23:37:45+00:00</td>\n",
       "      <td>2024-10-14 23:37:46+00:00</td>\n",
       "      <td>MOTORBIKE</td>\n",
       "      <td>38.345078</td>\n",
       "      <td>-0.483469</td>\n",
       "      <td>38.342422</td>\n",
       "      <td>-0.491674</td>\n",
       "      <td>...</td>\n",
       "      <td>2024-10-15 00:04:30+00:00</td>\n",
       "      <td>0.669248</td>\n",
       "      <td>-0.008438</td>\n",
       "      <td>0.669202</td>\n",
       "      <td>-0.008581</td>\n",
       "      <td>774.114259</td>\n",
       "      <td>774.114259</td>\n",
       "      <td>1012.032964</td>\n",
       "      <td>2024-10-14</td>\n",
       "      <td>ALC</td>\n",
       "    </tr>\n",
       "    <tr>\n",
       "      <th>2</th>\n",
       "      <td>ES</td>\n",
       "      <td>100931749423</td>\n",
       "      <td>169099229</td>\n",
       "      <td>2024-10-14 12:57:37+00:00</td>\n",
       "      <td>2024-10-14 12:57:38+00:00</td>\n",
       "      <td>CAR</td>\n",
       "      <td>38.361095</td>\n",
       "      <td>-0.494881</td>\n",
       "      <td>38.341293</td>\n",
       "      <td>-0.493355</td>\n",
       "      <td>...</td>\n",
       "      <td>2024-10-14 13:22:05+00:00</td>\n",
       "      <td>0.669527</td>\n",
       "      <td>-0.008637</td>\n",
       "      <td>0.669182</td>\n",
       "      <td>-0.008611</td>\n",
       "      <td>2205.902313</td>\n",
       "      <td>2205.902313</td>\n",
       "      <td>2337.577867</td>\n",
       "      <td>2024-10-14</td>\n",
       "      <td>ALC</td>\n",
       "    </tr>\n",
       "    <tr>\n",
       "      <th>3</th>\n",
       "      <td>ES</td>\n",
       "      <td>100931867858</td>\n",
       "      <td>177428955</td>\n",
       "      <td>2024-10-14 13:44:05+00:00</td>\n",
       "      <td>2024-10-14 13:44:06+00:00</td>\n",
       "      <td>BICYCLE</td>\n",
       "      <td>38.354984</td>\n",
       "      <td>-0.470788</td>\n",
       "      <td>38.341026</td>\n",
       "      <td>-0.495109</td>\n",
       "      <td>...</td>\n",
       "      <td>2024-10-14 14:26:28+00:00</td>\n",
       "      <td>0.669421</td>\n",
       "      <td>-0.008217</td>\n",
       "      <td>0.669177</td>\n",
       "      <td>-0.008641</td>\n",
       "      <td>2628.158235</td>\n",
       "      <td>2628.158235</td>\n",
       "      <td>3677.112224</td>\n",
       "      <td>2024-10-14</td>\n",
       "      <td>ALC</td>\n",
       "    </tr>\n",
       "    <tr>\n",
       "      <th>4</th>\n",
       "      <td>ES</td>\n",
       "      <td>100931917343</td>\n",
       "      <td>3548605</td>\n",
       "      <td>2024-10-14 14:03:19+00:00</td>\n",
       "      <td>2024-10-14 14:03:20+00:00</td>\n",
       "      <td>CAR</td>\n",
       "      <td>38.349670</td>\n",
       "      <td>-0.486936</td>\n",
       "      <td>38.346386</td>\n",
       "      <td>-0.493532</td>\n",
       "      <td>...</td>\n",
       "      <td>2024-10-14 14:28:00+00:00</td>\n",
       "      <td>0.669328</td>\n",
       "      <td>-0.008499</td>\n",
       "      <td>0.669271</td>\n",
       "      <td>-0.008614</td>\n",
       "      <td>681.328589</td>\n",
       "      <td>681.328589</td>\n",
       "      <td>941.428377</td>\n",
       "      <td>2024-10-14</td>\n",
       "      <td>ALC</td>\n",
       "    </tr>\n",
       "  </tbody>\n",
       "</table>\n",
       "<p>5 rows × 22 columns</p>\n",
       "</div>"
      ],
      "text/plain": [
       "  country_code      order_id  courier_id        creation_timestamp  \\\n",
       "0           ES  100933187613   176241347 2024-10-14 23:24:53+00:00   \n",
       "1           ES  100933198445    10191824 2024-10-14 23:37:45+00:00   \n",
       "2           ES  100931749423   169099229 2024-10-14 12:57:37+00:00   \n",
       "3           ES  100931867858   177428955 2024-10-14 13:44:05+00:00   \n",
       "4           ES  100931917343     3548605 2024-10-14 14:03:19+00:00   \n",
       "\n",
       "       activation_timestamp  transport  pickup_latitude  pickup_longitude  \\\n",
       "0 2024-10-14 23:24:54+00:00    BICYCLE        38.345078         -0.483469   \n",
       "1 2024-10-14 23:37:46+00:00  MOTORBIKE        38.345078         -0.483469   \n",
       "2 2024-10-14 12:57:38+00:00        CAR        38.361095         -0.494881   \n",
       "3 2024-10-14 13:44:06+00:00    BICYCLE        38.354984         -0.470788   \n",
       "4 2024-10-14 14:03:20+00:00        CAR        38.349670         -0.486936   \n",
       "\n",
       "   delivery_latitude  delivery_longitude  ...        delivery_timestamp  \\\n",
       "0          38.349590           -0.487954  ... 2024-10-14 23:45:58+00:00   \n",
       "1          38.342422           -0.491674  ... 2024-10-15 00:04:30+00:00   \n",
       "2          38.341293           -0.493355  ... 2024-10-14 13:22:05+00:00   \n",
       "3          38.341026           -0.495109  ... 2024-10-14 14:26:28+00:00   \n",
       "4          38.346386           -0.493532  ... 2024-10-14 14:28:00+00:00   \n",
       "\n",
       "  pickup_latitude_rad pickup_longitude_rad  delivery_latitude_rad  \\\n",
       "0            0.669248            -0.008438               0.669327   \n",
       "1            0.669248            -0.008438               0.669202   \n",
       "2            0.669527            -0.008637               0.669182   \n",
       "3            0.669421            -0.008217               0.669177   \n",
       "4            0.669328            -0.008499               0.669271   \n",
       "\n",
       "   delivery_longitude_rad  pd_distance_haversine_m  \\\n",
       "0               -0.008516               636.152666   \n",
       "1               -0.008581               774.114259   \n",
       "2               -0.008611              2205.902313   \n",
       "3               -0.008641              2628.158235   \n",
       "4               -0.008614               681.328589   \n",
       "\n",
       "   pd_distance_haversine_m_sk  pd_distance_manhattan_m  creation_date  \\\n",
       "0                  636.152666               893.835525     2024-10-14   \n",
       "1                  774.114259              1012.032964     2024-10-14   \n",
       "2                 2205.902313              2337.577867     2024-10-14   \n",
       "3                 2628.158235              3677.112224     2024-10-14   \n",
       "4                  681.328589               941.428377     2024-10-14   \n",
       "\n",
       "   city_code  \n",
       "0        ALC  \n",
       "1        ALC  \n",
       "2        ALC  \n",
       "3        ALC  \n",
       "4        ALC  \n",
       "\n",
       "[5 rows x 22 columns]"
      ]
     },
     "execution_count": 39,
     "metadata": {},
     "output_type": "execute_result"
    }
   ],
   "source": [
    "data_test = pd.read_parquet(\"data/parquet/dataframe.parquet\", filters=[('creation_date', '>=', begin_test_date)])\n",
    "data_test.head()"
   ]
  },
  {
   "cell_type": "code",
   "execution_count": 40,
   "id": "b412fb32",
   "metadata": {},
   "outputs": [
    {
     "data": {
      "text/html": [
       "<div>\n",
       "<style scoped>\n",
       "    .dataframe tbody tr th:only-of-type {\n",
       "        vertical-align: middle;\n",
       "    }\n",
       "\n",
       "    .dataframe tbody tr th {\n",
       "        vertical-align: top;\n",
       "    }\n",
       "\n",
       "    .dataframe thead th {\n",
       "        text-align: right;\n",
       "    }\n",
       "</style>\n",
       "<table border=\"1\" class=\"dataframe\">\n",
       "  <thead>\n",
       "    <tr style=\"text-align: right;\">\n",
       "      <th></th>\n",
       "      <th>country_code</th>\n",
       "      <th>city_code</th>\n",
       "      <th>order_id</th>\n",
       "      <th>courier_id</th>\n",
       "      <th>activation_timestamp</th>\n",
       "      <th>transport</th>\n",
       "      <th>pickup_latitude</th>\n",
       "      <th>pickup_longitude</th>\n",
       "      <th>delivery_latitude</th>\n",
       "      <th>delivery_longitude</th>\n",
       "      <th>time_zone</th>\n",
       "      <th>pickup_latitude_rad</th>\n",
       "      <th>pickup_longitude_rad</th>\n",
       "      <th>delivery_latitude_rad</th>\n",
       "      <th>delivery_longitude_rad</th>\n",
       "      <th>pd_distance_haversine_m</th>\n",
       "      <th>pd_distance_haversine_m_sk</th>\n",
       "      <th>pd_distance_manhattan_m</th>\n",
       "    </tr>\n",
       "  </thead>\n",
       "  <tbody>\n",
       "    <tr>\n",
       "      <th>0</th>\n",
       "      <td>ES</td>\n",
       "      <td>ALC</td>\n",
       "      <td>100933187613</td>\n",
       "      <td>176241347</td>\n",
       "      <td>2024-10-14 23:24:54+00:00</td>\n",
       "      <td>BICYCLE</td>\n",
       "      <td>38.345078</td>\n",
       "      <td>-0.483469</td>\n",
       "      <td>38.349590</td>\n",
       "      <td>-0.487954</td>\n",
       "      <td>Europe/Madrid</td>\n",
       "      <td>0.669248</td>\n",
       "      <td>-0.008438</td>\n",
       "      <td>0.669327</td>\n",
       "      <td>-0.008516</td>\n",
       "      <td>636.152666</td>\n",
       "      <td>636.152666</td>\n",
       "      <td>893.835525</td>\n",
       "    </tr>\n",
       "    <tr>\n",
       "      <th>1</th>\n",
       "      <td>ES</td>\n",
       "      <td>ALC</td>\n",
       "      <td>100933198445</td>\n",
       "      <td>10191824</td>\n",
       "      <td>2024-10-14 23:37:46+00:00</td>\n",
       "      <td>MOTORBIKE</td>\n",
       "      <td>38.345078</td>\n",
       "      <td>-0.483469</td>\n",
       "      <td>38.342422</td>\n",
       "      <td>-0.491674</td>\n",
       "      <td>Europe/Madrid</td>\n",
       "      <td>0.669248</td>\n",
       "      <td>-0.008438</td>\n",
       "      <td>0.669202</td>\n",
       "      <td>-0.008581</td>\n",
       "      <td>774.114259</td>\n",
       "      <td>774.114259</td>\n",
       "      <td>1012.032964</td>\n",
       "    </tr>\n",
       "    <tr>\n",
       "      <th>2</th>\n",
       "      <td>ES</td>\n",
       "      <td>ALC</td>\n",
       "      <td>100931749423</td>\n",
       "      <td>169099229</td>\n",
       "      <td>2024-10-14 12:57:38+00:00</td>\n",
       "      <td>CAR</td>\n",
       "      <td>38.361095</td>\n",
       "      <td>-0.494881</td>\n",
       "      <td>38.341293</td>\n",
       "      <td>-0.493355</td>\n",
       "      <td>Europe/Madrid</td>\n",
       "      <td>0.669527</td>\n",
       "      <td>-0.008637</td>\n",
       "      <td>0.669182</td>\n",
       "      <td>-0.008611</td>\n",
       "      <td>2205.902313</td>\n",
       "      <td>2205.902313</td>\n",
       "      <td>2337.577867</td>\n",
       "    </tr>\n",
       "    <tr>\n",
       "      <th>3</th>\n",
       "      <td>ES</td>\n",
       "      <td>ALC</td>\n",
       "      <td>100931867858</td>\n",
       "      <td>177428955</td>\n",
       "      <td>2024-10-14 13:44:06+00:00</td>\n",
       "      <td>BICYCLE</td>\n",
       "      <td>38.354984</td>\n",
       "      <td>-0.470788</td>\n",
       "      <td>38.341026</td>\n",
       "      <td>-0.495109</td>\n",
       "      <td>Europe/Madrid</td>\n",
       "      <td>0.669421</td>\n",
       "      <td>-0.008217</td>\n",
       "      <td>0.669177</td>\n",
       "      <td>-0.008641</td>\n",
       "      <td>2628.158235</td>\n",
       "      <td>2628.158235</td>\n",
       "      <td>3677.112224</td>\n",
       "    </tr>\n",
       "    <tr>\n",
       "      <th>4</th>\n",
       "      <td>ES</td>\n",
       "      <td>ALC</td>\n",
       "      <td>100931917343</td>\n",
       "      <td>3548605</td>\n",
       "      <td>2024-10-14 14:03:20+00:00</td>\n",
       "      <td>CAR</td>\n",
       "      <td>38.349670</td>\n",
       "      <td>-0.486936</td>\n",
       "      <td>38.346386</td>\n",
       "      <td>-0.493532</td>\n",
       "      <td>Europe/Madrid</td>\n",
       "      <td>0.669328</td>\n",
       "      <td>-0.008499</td>\n",
       "      <td>0.669271</td>\n",
       "      <td>-0.008614</td>\n",
       "      <td>681.328589</td>\n",
       "      <td>681.328589</td>\n",
       "      <td>941.428377</td>\n",
       "    </tr>\n",
       "  </tbody>\n",
       "</table>\n",
       "</div>"
      ],
      "text/plain": [
       "  country_code city_code      order_id  courier_id      activation_timestamp  \\\n",
       "0           ES       ALC  100933187613   176241347 2024-10-14 23:24:54+00:00   \n",
       "1           ES       ALC  100933198445    10191824 2024-10-14 23:37:46+00:00   \n",
       "2           ES       ALC  100931749423   169099229 2024-10-14 12:57:38+00:00   \n",
       "3           ES       ALC  100931867858   177428955 2024-10-14 13:44:06+00:00   \n",
       "4           ES       ALC  100931917343     3548605 2024-10-14 14:03:20+00:00   \n",
       "\n",
       "   transport  pickup_latitude  pickup_longitude  delivery_latitude  \\\n",
       "0    BICYCLE        38.345078         -0.483469          38.349590   \n",
       "1  MOTORBIKE        38.345078         -0.483469          38.342422   \n",
       "2        CAR        38.361095         -0.494881          38.341293   \n",
       "3    BICYCLE        38.354984         -0.470788          38.341026   \n",
       "4        CAR        38.349670         -0.486936          38.346386   \n",
       "\n",
       "   delivery_longitude      time_zone  pickup_latitude_rad  \\\n",
       "0           -0.487954  Europe/Madrid             0.669248   \n",
       "1           -0.491674  Europe/Madrid             0.669248   \n",
       "2           -0.493355  Europe/Madrid             0.669527   \n",
       "3           -0.495109  Europe/Madrid             0.669421   \n",
       "4           -0.493532  Europe/Madrid             0.669328   \n",
       "\n",
       "   pickup_longitude_rad  delivery_latitude_rad  delivery_longitude_rad  \\\n",
       "0             -0.008438               0.669327               -0.008516   \n",
       "1             -0.008438               0.669202               -0.008581   \n",
       "2             -0.008637               0.669182               -0.008611   \n",
       "3             -0.008217               0.669177               -0.008641   \n",
       "4             -0.008499               0.669271               -0.008614   \n",
       "\n",
       "   pd_distance_haversine_m  pd_distance_haversine_m_sk  \\\n",
       "0               636.152666                  636.152666   \n",
       "1               774.114259                  774.114259   \n",
       "2              2205.902313                 2205.902313   \n",
       "3              2628.158235                 2628.158235   \n",
       "4               681.328589                  681.328589   \n",
       "\n",
       "   pd_distance_manhattan_m  \n",
       "0               893.835525  \n",
       "1              1012.032964  \n",
       "2              2337.577867  \n",
       "3              3677.112224  \n",
       "4               941.428377  "
      ]
     },
     "execution_count": 40,
     "metadata": {},
     "output_type": "execute_result"
    }
   ],
   "source": [
    "X_test = data_test[train_columns].copy()\n",
    "X_test.head()"
   ]
  },
  {
   "cell_type": "code",
   "execution_count": 41,
   "id": "273b4efbb39767db",
   "metadata": {
    "ExecuteTime": {
     "end_time": "2025-02-13T15:33:23.263975Z",
     "start_time": "2025-02-13T15:33:23.220701Z"
    },
    "collapsed": false
   },
   "outputs": [
    {
     "data": {
      "text/plain": [
       "np.int64(0)"
      ]
     },
     "execution_count": 41,
     "metadata": {},
     "output_type": "execute_result"
    }
   ],
   "source": [
    "X_test.isnull().sum().sum()"
   ]
  },
  {
   "cell_type": "markdown",
   "id": "2bc643e6376ab1bb",
   "metadata": {
    "collapsed": false
   },
   "source": [
    "To compute the MAE, we need to do a power to 2, but if I use the type `np.timedelta64(1, \"ns\")` for `y_test` I get the following error:\n",
    "`TypeError: cannot perform __pow__ with this index type: TimedeltaArray`\n",
    "Therefore we will use the type `np.float64` for `y_test`."
   ]
  },
  {
   "cell_type": "code",
   "execution_count": 42,
   "id": "52ce014a35efad12",
   "metadata": {
    "ExecuteTime": {
     "end_time": "2025-02-13T15:33:24.559515Z",
     "start_time": "2025-02-13T15:33:24.512067Z"
    },
    "collapsed": false
   },
   "outputs": [
    {
     "data": {
      "text/plain": [
       "0          319.677\n",
       "1          811.649\n",
       "2          614.700\n",
       "3         1111.154\n",
       "4          806.566\n",
       "            ...   \n",
       "354794     859.357\n",
       "354795     505.484\n",
       "354796     436.882\n",
       "354797     517.377\n",
       "354798     691.325\n",
       "Name: pickup_to_delivery, Length: 354799, dtype: float64"
      ]
     },
     "execution_count": 42,
     "metadata": {},
     "output_type": "execute_result"
    }
   ],
   "source": [
    "y_test = (data_test['delivery_timestamp'] - data_test['pickup_timestamp']).dt.total_seconds()\n",
    "y_test = pd.Series(y_test, dtype=np.float64, name='pickup_to_delivery')\n",
    "y_test"
   ]
  },
  {
   "cell_type": "code",
   "execution_count": 43,
   "id": "cfb62def0b2bf287",
   "metadata": {
    "ExecuteTime": {
     "end_time": "2025-02-13T15:33:25.208990Z",
     "start_time": "2025-02-13T15:33:25.196062Z"
    },
    "collapsed": false
   },
   "outputs": [
    {
     "data": {
      "text/plain": [
       "np.int64(0)"
      ]
     },
     "execution_count": 43,
     "metadata": {},
     "output_type": "execute_result"
    }
   ],
   "source": [
    "y_test.isnull().sum().sum()"
   ]
  },
  {
   "cell_type": "code",
   "execution_count": 44,
   "id": "2d2fff1089f25047",
   "metadata": {
    "ExecuteTime": {
     "end_time": "2025-02-13T15:33:25.542962Z",
     "start_time": "2025-02-13T15:33:25.485273Z"
    },
    "collapsed": false
   },
   "outputs": [
    {
     "name": "stdout",
     "output_type": "stream",
     "text": [
      "(688815, 18) (688815,)\n",
      "(354799, 18) (354799,)\n"
     ]
    }
   ],
   "source": [
    "print(X_train.shape, y_train.shape)\n",
    "print(X_test.shape, y_test.shape)"
   ]
  }
 ],
 "metadata": {
  "kernelspec": {
   "display_name": "venv",
   "language": "python",
   "name": "python3"
  },
  "language_info": {
   "codemirror_mode": {
    "name": "ipython",
    "version": 3
   },
   "file_extension": ".py",
   "mimetype": "text/x-python",
   "name": "python",
   "nbconvert_exporter": "python",
   "pygments_lexer": "ipython3",
   "version": "3.12.0"
  }
 },
 "nbformat": 4,
 "nbformat_minor": 5
}
