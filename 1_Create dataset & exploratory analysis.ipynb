{
 "cells": [
  {
   "cell_type": "markdown",
   "id": "24ad314bf282ec83",
   "metadata": {
    "collapsed": false
   },
   "source": [
    "# Pickup to Delivery Overall"
   ]
  },
  {
   "cell_type": "code",
   "execution_count": 1,
   "id": "cb71195be0f3a22f",
   "metadata": {
    "ExecuteTime": {
     "end_time": "2025-02-13T15:32:38.506875Z",
     "start_time": "2025-02-13T15:32:35.405477Z"
    },
    "collapsed": false
   },
   "outputs": [],
   "source": [
    "import os\n",
    "import sys\n",
    "import shutil\n",
    "import pandas as pd\n",
    "import numpy as np\n",
    "import pickle\n",
    "import matplotlib.pyplot as plt\n",
    "from haversine import haversine, Unit\n",
    "from sklearn.metrics.pairwise import haversine_distances, manhattan_distances\n",
    "from sklearn.model_selection import train_test_split, cross_val_score\n",
    "\n",
    "sys.path.insert(0, os.path.expanduser('./'))\n",
    "import query_runner as qr\n",
    "import utils"
   ]
  },
  {
   "cell_type": "code",
   "execution_count": 2,
   "id": "52eb5fbdb862edbe",
   "metadata": {
    "ExecuteTime": {
     "end_time": "2025-02-13T15:32:38.515098Z",
     "start_time": "2025-02-13T15:32:38.509264Z"
    },
    "collapsed": false
   },
   "outputs": [],
   "source": [
    "base_query_path = './queries/'\n",
    "dwh_config, livedb_config, parameters_config = utils.load_config(config_file='./config.ini')\n",
    "datalake_connection = qr.create_connection(db='datalake')\n",
    "#monolith_connection = qr.create_connection(user=livedb_config['monolith_username'], password=livedb_config['monolith_password'], db='livedb')\n",
    "#dispatching_db_connection = qr.create_connection(user=livedb_config['dispatching_db_username'], password=livedb_config['dispatching_db_password'], db='dispatchingdb')"
   ]
  },
  {
   "cell_type": "code",
   "execution_count": 3,
   "id": "f26eb0ba80de7f8e",
   "metadata": {
    "ExecuteTime": {
     "end_time": "2025-02-13T15:32:54.897564Z",
     "start_time": "2025-02-13T15:32:54.858561Z"
    },
    "collapsed": false
   },
   "outputs": [
    {
     "name": "stdout",
     "output_type": "stream",
     "text": [
      "Start date: 2024-09-30 | End date: 2024-10-20 | Countries: ES | Cities: 'MAD', 'BCN', 'SEV', 'ALC'\n"
     ]
    }
   ],
   "source": [
    "start_date = parameters_config['start_date']\n",
    "end_date = parameters_config['end_date']\n",
    "country_code = parameters_config['country_code']\n",
    "cities = parameters_config['cities']\n",
    "\n",
    "print(f'Start date: {start_date} | End date: {end_date} | Countries: {country_code} | Cities: {cities}')"
   ]
  },
  {
   "cell_type": "code",
   "execution_count": 4,
   "id": "e3c251ccf4f2beb1",
   "metadata": {
    "ExecuteTime": {
     "end_time": "2025-02-13T15:32:55.381622Z",
     "start_time": "2025-02-13T15:32:55.337393Z"
    },
    "collapsed": false
   },
   "outputs": [],
   "source": [
    "parameters = {\n",
    "    'start_date': start_date,\n",
    "    'end_date': end_date,\n",
    "    'country_code': country_code,\n",
    "    'cities': cities\n",
    "}"
   ]
  },
  {
   "cell_type": "markdown",
   "id": "3c0d6dbf6375ce8",
   "metadata": {
    "collapsed": false
   },
   "source": [
    "## Load the data"
   ]
  },
  {
   "cell_type": "code",
   "execution_count": 5,
   "id": "1de21fec65a3d1b1",
   "metadata": {
    "collapsed": false
   },
   "outputs": [
    {
     "name": "stdout",
     "output_type": "stream",
     "text": [
      "Open the following URL in browser for the external authentication:\n",
      "https://starburst.g8s-data-platform-prod.glovoint.com/oauth2/token/initiate/441d1d2be7da24c1fa24338d73a4ba6736c1235586665678b2fafa952527dbaf\n"
     ]
    },
    {
     "data": {
      "text/html": [
       "<div>\n",
       "<style scoped>\n",
       "    .dataframe tbody tr th:only-of-type {\n",
       "        vertical-align: middle;\n",
       "    }\n",
       "\n",
       "    .dataframe tbody tr th {\n",
       "        vertical-align: top;\n",
       "    }\n",
       "\n",
       "    .dataframe thead th {\n",
       "        text-align: right;\n",
       "    }\n",
       "</style>\n",
       "<table border=\"1\" class=\"dataframe\">\n",
       "  <thead>\n",
       "    <tr style=\"text-align: right;\">\n",
       "      <th></th>\n",
       "      <th>country_code</th>\n",
       "      <th>city_code</th>\n",
       "      <th>order_id</th>\n",
       "      <th>courier_id</th>\n",
       "      <th>creation_timestamp</th>\n",
       "      <th>activation_timestamp</th>\n",
       "      <th>transport</th>\n",
       "      <th>pickup_timestamp</th>\n",
       "      <th>delivery_entering_timestamp</th>\n",
       "      <th>delivery_timestamp</th>\n",
       "      <th>pickup_latitude</th>\n",
       "      <th>pickup_longitude</th>\n",
       "      <th>delivery_latitude</th>\n",
       "      <th>delivery_longitude</th>\n",
       "      <th>time_zone</th>\n",
       "      <th>creation_date</th>\n",
       "    </tr>\n",
       "  </thead>\n",
       "  <tbody>\n",
       "    <tr>\n",
       "      <th>0</th>\n",
       "      <td>ES</td>\n",
       "      <td>BCN</td>\n",
       "      <td>100911239195</td>\n",
       "      <td>166388350</td>\n",
       "      <td>2024-10-05 15:15:27+00:00</td>\n",
       "      <td>2024-10-05 15:15:28+00:00</td>\n",
       "      <td>BICYCLE</td>\n",
       "      <td>2024-10-05 15:34:38.353000+00:00</td>\n",
       "      <td>2024-10-05 15:42:09+00:00</td>\n",
       "      <td>2024-10-05 15:43:54+00:00</td>\n",
       "      <td>41.388718</td>\n",
       "      <td>2.167568</td>\n",
       "      <td>41.397300</td>\n",
       "      <td>2.151188</td>\n",
       "      <td>Europe/Madrid</td>\n",
       "      <td>2024-10-05</td>\n",
       "    </tr>\n",
       "    <tr>\n",
       "      <th>1</th>\n",
       "      <td>ES</td>\n",
       "      <td>MAD</td>\n",
       "      <td>100911239955</td>\n",
       "      <td>156814432</td>\n",
       "      <td>2024-10-05 15:15:43+00:00</td>\n",
       "      <td>2024-10-05 15:15:44+00:00</td>\n",
       "      <td>BICYCLE</td>\n",
       "      <td>2024-10-05 15:26:06.554000+00:00</td>\n",
       "      <td>2024-10-05 15:32:01+00:00</td>\n",
       "      <td>2024-10-05 15:34:40+00:00</td>\n",
       "      <td>40.428790</td>\n",
       "      <td>-3.687346</td>\n",
       "      <td>40.422783</td>\n",
       "      <td>-3.685613</td>\n",
       "      <td>Europe/Madrid</td>\n",
       "      <td>2024-10-05</td>\n",
       "    </tr>\n",
       "    <tr>\n",
       "      <th>2</th>\n",
       "      <td>ES</td>\n",
       "      <td>MAD</td>\n",
       "      <td>100911259541</td>\n",
       "      <td>160541555</td>\n",
       "      <td>2024-10-05 15:22:29+00:00</td>\n",
       "      <td>2024-10-05 15:22:30+00:00</td>\n",
       "      <td>MOTORBIKE</td>\n",
       "      <td>2024-10-05 15:31:51.834000+00:00</td>\n",
       "      <td>2024-10-05 15:39:54+00:00</td>\n",
       "      <td>2024-10-05 15:42:24+00:00</td>\n",
       "      <td>40.427370</td>\n",
       "      <td>-3.702722</td>\n",
       "      <td>40.433437</td>\n",
       "      <td>-3.713163</td>\n",
       "      <td>Europe/Madrid</td>\n",
       "      <td>2024-10-05</td>\n",
       "    </tr>\n",
       "    <tr>\n",
       "      <th>3</th>\n",
       "      <td>ES</td>\n",
       "      <td>BCN</td>\n",
       "      <td>100911278752</td>\n",
       "      <td>177471624</td>\n",
       "      <td>2024-10-05 15:29:15+00:00</td>\n",
       "      <td>2024-10-05 15:29:16+00:00</td>\n",
       "      <td>MOTORBIKE</td>\n",
       "      <td>2024-10-05 15:43:41.972000+00:00</td>\n",
       "      <td>2024-10-05 15:51:54+00:00</td>\n",
       "      <td>2024-10-05 15:57:40+00:00</td>\n",
       "      <td>41.405224</td>\n",
       "      <td>2.192908</td>\n",
       "      <td>41.402190</td>\n",
       "      <td>2.183116</td>\n",
       "      <td>Europe/Madrid</td>\n",
       "      <td>2024-10-05</td>\n",
       "    </tr>\n",
       "    <tr>\n",
       "      <th>4</th>\n",
       "      <td>ES</td>\n",
       "      <td>BCN</td>\n",
       "      <td>100911293645</td>\n",
       "      <td>133356552</td>\n",
       "      <td>2024-10-05 15:34:37+00:00</td>\n",
       "      <td>2024-10-05 15:34:40+00:00</td>\n",
       "      <td>MOTORBIKE</td>\n",
       "      <td>2024-10-05 15:51:13.344000+00:00</td>\n",
       "      <td>2024-10-05 15:56:30+00:00</td>\n",
       "      <td>2024-10-05 15:58:24+00:00</td>\n",
       "      <td>41.409924</td>\n",
       "      <td>2.163189</td>\n",
       "      <td>41.416397</td>\n",
       "      <td>2.163263</td>\n",
       "      <td>Europe/Madrid</td>\n",
       "      <td>2024-10-05</td>\n",
       "    </tr>\n",
       "  </tbody>\n",
       "</table>\n",
       "</div>"
      ],
      "text/plain": [
       "  country_code city_code      order_id  courier_id        creation_timestamp  \\\n",
       "0           ES       BCN  100911239195   166388350 2024-10-05 15:15:27+00:00   \n",
       "1           ES       MAD  100911239955   156814432 2024-10-05 15:15:43+00:00   \n",
       "2           ES       MAD  100911259541   160541555 2024-10-05 15:22:29+00:00   \n",
       "3           ES       BCN  100911278752   177471624 2024-10-05 15:29:15+00:00   \n",
       "4           ES       BCN  100911293645   133356552 2024-10-05 15:34:37+00:00   \n",
       "\n",
       "       activation_timestamp  transport                 pickup_timestamp  \\\n",
       "0 2024-10-05 15:15:28+00:00    BICYCLE 2024-10-05 15:34:38.353000+00:00   \n",
       "1 2024-10-05 15:15:44+00:00    BICYCLE 2024-10-05 15:26:06.554000+00:00   \n",
       "2 2024-10-05 15:22:30+00:00  MOTORBIKE 2024-10-05 15:31:51.834000+00:00   \n",
       "3 2024-10-05 15:29:16+00:00  MOTORBIKE 2024-10-05 15:43:41.972000+00:00   \n",
       "4 2024-10-05 15:34:40+00:00  MOTORBIKE 2024-10-05 15:51:13.344000+00:00   \n",
       "\n",
       "  delivery_entering_timestamp        delivery_timestamp  pickup_latitude  \\\n",
       "0   2024-10-05 15:42:09+00:00 2024-10-05 15:43:54+00:00        41.388718   \n",
       "1   2024-10-05 15:32:01+00:00 2024-10-05 15:34:40+00:00        40.428790   \n",
       "2   2024-10-05 15:39:54+00:00 2024-10-05 15:42:24+00:00        40.427370   \n",
       "3   2024-10-05 15:51:54+00:00 2024-10-05 15:57:40+00:00        41.405224   \n",
       "4   2024-10-05 15:56:30+00:00 2024-10-05 15:58:24+00:00        41.409924   \n",
       "\n",
       "   pickup_longitude  delivery_latitude  delivery_longitude      time_zone  \\\n",
       "0          2.167568          41.397300            2.151188  Europe/Madrid   \n",
       "1         -3.687346          40.422783           -3.685613  Europe/Madrid   \n",
       "2         -3.702722          40.433437           -3.713163  Europe/Madrid   \n",
       "3          2.192908          41.402190            2.183116  Europe/Madrid   \n",
       "4          2.163189          41.416397            2.163263  Europe/Madrid   \n",
       "\n",
       "  creation_date  \n",
       "0    2024-10-05  \n",
       "1    2024-10-05  \n",
       "2    2024-10-05  \n",
       "3    2024-10-05  \n",
       "4    2024-10-05  "
      ]
     },
     "execution_count": 5,
     "metadata": {},
     "output_type": "execute_result"
    }
   ],
   "source": [
    "query_name = '''\n",
    "SELECT\n",
    "    olf.country_code                                 AS country_code,\n",
    "    olf.city_code                                    AS city_code,\n",
    "    olf.order_id                                     AS order_id,\n",
    "    olf.courier_id                                   AS courier_id,\n",
    "    olf.order_created_local_datetime                 AS creation_timestamp,\n",
    "    olf.order_activated_local_datetime               AS activation_timestamp,\n",
    "    olf.courier_transport                            AS transport,\n",
    "    olf.order_picked_up_local_datetime               AS pickup_timestamp,\n",
    "    olf.order_arrival_to_delivery_local_datetime     AS delivery_entering_timestamp,\n",
    "    olf.order_delivered_local_datetime               AS delivery_timestamp,\n",
    "    olf.order_pickup_latitude                        AS pickup_latitude,\n",
    "    olf.order_pickup_longitude                       AS pickup_longitude,\n",
    "    olf.order_delivery_latitude                      AS delivery_latitude,\n",
    "    olf.order_delivery_longitude                     AS delivery_longitude,\n",
    "    olf.order_time_zone                              AS time_zone,\n",
    "    olf.p_creation_date                              AS creation_date\n",
    "FROM delta.courier_routing_courier_ml_features_odp.order_level_features AS olf\n",
    "WHERE order_final_status = 'DeliveredStatus'\n",
    "    AND order_number_of_assignments = 1\n",
    "    AND order_bundle_index IS NULL\n",
    "    AND p_creation_date BETWEEN DATE '[start_date]' AND DATE '[end_date]'\n",
    "    AND country_code IN ('[country_code]')\n",
    "    AND city_code IN ([cities])\n",
    "'''\n",
    "\n",
    "query = qr.Query(base_query_path, query_name, datalake_connection, parameters_dict=parameters, query_from_file = False)\n",
    "data = query.run()\n",
    "data = data.fillna(value=np.nan)\n",
    "data.head()"
   ]
  },
  {
   "cell_type": "markdown",
   "id": "cb60e56ce9b31a2",
   "metadata": {
    "collapsed": false
   },
   "source": [
    "## Clean the dataset"
   ]
  },
  {
   "cell_type": "code",
   "execution_count": 6,
   "id": "3269019e5c025a9d",
   "metadata": {
    "collapsed": false
   },
   "outputs": [
    {
     "name": "stdout",
     "output_type": "stream",
     "text": [
      "<class 'pandas.core.frame.DataFrame'>\n",
      "Index: 1043873 entries, 0 to 43872\n",
      "Data columns (total 16 columns):\n",
      " #   Column                       Non-Null Count    Dtype              \n",
      "---  ------                       --------------    -----              \n",
      " 0   country_code                 1043873 non-null  object             \n",
      " 1   city_code                    1043873 non-null  object             \n",
      " 2   order_id                     1043873 non-null  int64              \n",
      " 3   courier_id                   1043873 non-null  int64              \n",
      " 4   creation_timestamp           1043873 non-null  datetime64[ns, UTC]\n",
      " 5   activation_timestamp         1043873 non-null  datetime64[ns, UTC]\n",
      " 6   transport                    1043873 non-null  object             \n",
      " 7   pickup_timestamp             1043614 non-null  datetime64[ns, UTC]\n",
      " 8   delivery_entering_timestamp  1028620 non-null  datetime64[ns, UTC]\n",
      " 9   delivery_timestamp           1043873 non-null  datetime64[ns, UTC]\n",
      " 10  pickup_latitude              1043873 non-null  float64            \n",
      " 11  pickup_longitude             1043873 non-null  float64            \n",
      " 12  delivery_latitude            1043873 non-null  float64            \n",
      " 13  delivery_longitude           1043873 non-null  float64            \n",
      " 14  time_zone                    1043873 non-null  object             \n",
      " 15  creation_date                1043873 non-null  object             \n",
      "dtypes: datetime64[ns, UTC](5), float64(4), int64(2), object(5)\n",
      "memory usage: 135.4+ MB\n"
     ]
    }
   ],
   "source": [
    "data.info()"
   ]
  },
  {
   "cell_type": "code",
   "execution_count": 7,
   "id": "4ad7421cf883f255",
   "metadata": {
    "collapsed": false
   },
   "outputs": [
    {
     "data": {
      "text/html": [
       "<div>\n",
       "<style scoped>\n",
       "    .dataframe tbody tr th:only-of-type {\n",
       "        vertical-align: middle;\n",
       "    }\n",
       "\n",
       "    .dataframe tbody tr th {\n",
       "        vertical-align: top;\n",
       "    }\n",
       "\n",
       "    .dataframe thead th {\n",
       "        text-align: right;\n",
       "    }\n",
       "</style>\n",
       "<table border=\"1\" class=\"dataframe\">\n",
       "  <thead>\n",
       "    <tr style=\"text-align: right;\">\n",
       "      <th></th>\n",
       "      <th>order_id</th>\n",
       "      <th>courier_id</th>\n",
       "      <th>pickup_latitude</th>\n",
       "      <th>pickup_longitude</th>\n",
       "      <th>delivery_latitude</th>\n",
       "      <th>delivery_longitude</th>\n",
       "    </tr>\n",
       "  </thead>\n",
       "  <tbody>\n",
       "    <tr>\n",
       "      <th>count</th>\n",
       "      <td>1.043873e+06</td>\n",
       "      <td>1.043873e+06</td>\n",
       "      <td>1.043873e+06</td>\n",
       "      <td>1.043873e+06</td>\n",
       "      <td>1.043873e+06</td>\n",
       "      <td>1.043873e+06</td>\n",
       "    </tr>\n",
       "    <tr>\n",
       "      <th>mean</th>\n",
       "      <td>1.009235e+11</td>\n",
       "      <td>1.220252e+08</td>\n",
       "      <td>4.066978e+01</td>\n",
       "      <td>-8.625245e-01</td>\n",
       "      <td>4.067015e+01</td>\n",
       "      <td>-8.624835e-01</td>\n",
       "    </tr>\n",
       "    <tr>\n",
       "      <th>std</th>\n",
       "      <td>1.373828e+07</td>\n",
       "      <td>5.587275e+07</td>\n",
       "      <td>9.972123e-01</td>\n",
       "      <td>3.004518e+00</td>\n",
       "      <td>9.973824e-01</td>\n",
       "      <td>3.003922e+00</td>\n",
       "    </tr>\n",
       "    <tr>\n",
       "      <th>min</th>\n",
       "      <td>1.008998e+11</td>\n",
       "      <td>1.127770e+05</td>\n",
       "      <td>3.728265e+01</td>\n",
       "      <td>-6.085188e+00</td>\n",
       "      <td>3.726098e+01</td>\n",
       "      <td>-6.100339e+00</td>\n",
       "    </tr>\n",
       "    <tr>\n",
       "      <th>25%</th>\n",
       "      <td>1.009113e+11</td>\n",
       "      <td>7.270555e+07</td>\n",
       "      <td>4.042600e+01</td>\n",
       "      <td>-3.690180e+00</td>\n",
       "      <td>4.042608e+01</td>\n",
       "      <td>-3.689568e+00</td>\n",
       "    </tr>\n",
       "    <tr>\n",
       "      <th>50%</th>\n",
       "      <td>1.009234e+11</td>\n",
       "      <td>1.484799e+08</td>\n",
       "      <td>4.053028e+01</td>\n",
       "      <td>-4.844410e-01</td>\n",
       "      <td>4.052496e+01</td>\n",
       "      <td>-4.859780e-01</td>\n",
       "    </tr>\n",
       "    <tr>\n",
       "      <th>75%</th>\n",
       "      <td>1.009357e+11</td>\n",
       "      <td>1.673414e+08</td>\n",
       "      <td>4.139320e+01</td>\n",
       "      <td>2.159761e+00</td>\n",
       "      <td>4.139475e+01</td>\n",
       "      <td>2.159627e+00</td>\n",
       "    </tr>\n",
       "    <tr>\n",
       "      <th>max</th>\n",
       "      <td>1.009470e+11</td>\n",
       "      <td>1.796540e+08</td>\n",
       "      <td>4.148309e+01</td>\n",
       "      <td>2.268973e+00</td>\n",
       "      <td>4.156215e+01</td>\n",
       "      <td>2.277824e+00</td>\n",
       "    </tr>\n",
       "  </tbody>\n",
       "</table>\n",
       "</div>"
      ],
      "text/plain": [
       "           order_id    courier_id  pickup_latitude  pickup_longitude  \\\n",
       "count  1.043873e+06  1.043873e+06     1.043873e+06      1.043873e+06   \n",
       "mean   1.009235e+11  1.220252e+08     4.066978e+01     -8.625245e-01   \n",
       "std    1.373828e+07  5.587275e+07     9.972123e-01      3.004518e+00   \n",
       "min    1.008998e+11  1.127770e+05     3.728265e+01     -6.085188e+00   \n",
       "25%    1.009113e+11  7.270555e+07     4.042600e+01     -3.690180e+00   \n",
       "50%    1.009234e+11  1.484799e+08     4.053028e+01     -4.844410e-01   \n",
       "75%    1.009357e+11  1.673414e+08     4.139320e+01      2.159761e+00   \n",
       "max    1.009470e+11  1.796540e+08     4.148309e+01      2.268973e+00   \n",
       "\n",
       "       delivery_latitude  delivery_longitude  \n",
       "count       1.043873e+06        1.043873e+06  \n",
       "mean        4.067015e+01       -8.624835e-01  \n",
       "std         9.973824e-01        3.003922e+00  \n",
       "min         3.726098e+01       -6.100339e+00  \n",
       "25%         4.042608e+01       -3.689568e+00  \n",
       "50%         4.052496e+01       -4.859780e-01  \n",
       "75%         4.139475e+01        2.159627e+00  \n",
       "max         4.156215e+01        2.277824e+00  "
      ]
     },
     "execution_count": 7,
     "metadata": {},
     "output_type": "execute_result"
    }
   ],
   "source": [
    "data.describe()"
   ]
  },
  {
   "cell_type": "code",
   "execution_count": 8,
   "id": "1df8f7cd6a104940",
   "metadata": {
    "collapsed": false
   },
   "outputs": [
    {
     "data": {
      "text/plain": [
       "country_code                       0\n",
       "city_code                          0\n",
       "order_id                           0\n",
       "courier_id                         0\n",
       "creation_timestamp                 0\n",
       "activation_timestamp               0\n",
       "transport                          0\n",
       "pickup_timestamp                 259\n",
       "delivery_entering_timestamp    15253\n",
       "delivery_timestamp                 0\n",
       "pickup_latitude                    0\n",
       "pickup_longitude                   0\n",
       "delivery_latitude                  0\n",
       "delivery_longitude                 0\n",
       "time_zone                          0\n",
       "creation_date                      0\n",
       "dtype: int64"
      ]
     },
     "execution_count": 8,
     "metadata": {},
     "output_type": "execute_result"
    }
   ],
   "source": [
    "# Check for missing values\n",
    "data.isnull().sum()"
   ]
  },
  {
   "cell_type": "code",
   "execution_count": 9,
   "id": "4fc64e33e9ec8a4a",
   "metadata": {
    "collapsed": false
   },
   "outputs": [
    {
     "data": {
      "text/plain": [
       "np.int64(15512)"
      ]
     },
     "execution_count": 9,
     "metadata": {},
     "output_type": "execute_result"
    }
   ],
   "source": [
    "# print the number of null rows\n",
    "data.isnull().sum().sum()"
   ]
  },
  {
   "cell_type": "code",
   "execution_count": 10,
   "id": "21a2d084be3ddfe8",
   "metadata": {
    "collapsed": false
   },
   "outputs": [],
   "source": [
    "# Remove rows with null values: we have many rows, so we can afford to remove them\n",
    "data.dropna(inplace=True)"
   ]
  },
  {
   "cell_type": "code",
   "execution_count": 11,
   "id": "fea941235b67758e",
   "metadata": {
    "collapsed": false
   },
   "outputs": [
    {
     "data": {
      "text/plain": [
       "country_code                   0\n",
       "city_code                      0\n",
       "order_id                       0\n",
       "courier_id                     0\n",
       "creation_timestamp             0\n",
       "activation_timestamp           0\n",
       "transport                      0\n",
       "pickup_timestamp               0\n",
       "delivery_entering_timestamp    0\n",
       "delivery_timestamp             0\n",
       "pickup_latitude                0\n",
       "pickup_longitude               0\n",
       "delivery_latitude              0\n",
       "delivery_longitude             0\n",
       "time_zone                      0\n",
       "creation_date                  0\n",
       "dtype: int64"
      ]
     },
     "execution_count": 11,
     "metadata": {},
     "output_type": "execute_result"
    }
   ],
   "source": [
    "# Check for missing values\n",
    "data.isnull().sum()"
   ]
  },
  {
   "cell_type": "code",
   "execution_count": 12,
   "id": "83402ad003b2989e",
   "metadata": {
    "collapsed": false
   },
   "outputs": [
    {
     "data": {
      "text/plain": [
       "np.int64(0)"
      ]
     },
     "execution_count": 12,
     "metadata": {},
     "output_type": "execute_result"
    }
   ],
   "source": [
    "# Check for duplicates\n",
    "data.duplicated().sum()"
   ]
  },
  {
   "cell_type": "markdown",
   "id": "9be4b81e03b7586",
   "metadata": {
    "collapsed": false
   },
   "source": [
    "## Compute new features"
   ]
  },
  {
   "cell_type": "code",
   "execution_count": 13,
   "id": "80163d0a54873861",
   "metadata": {
    "collapsed": false
   },
   "outputs": [],
   "source": [
    "# Convert the creation time to datetime\n",
    "data['creation_timestamp'] = pd.to_datetime(data['creation_timestamp'])\n",
    "data['activation_timestamp'] = pd.to_datetime(data['activation_timestamp'])\n",
    "data['pickup_timestamp'] = pd.to_datetime(data['pickup_timestamp'])\n",
    "data['delivery_timestamp'] = pd.to_datetime(data['delivery_timestamp'])\n",
    "data['delivery_entering_timestamp'] = pd.to_datetime(data['delivery_entering_timestamp'])"
   ]
  },
  {
   "cell_type": "markdown",
   "id": "7b6ea1be09344c80",
   "metadata": {
    "collapsed": false
   },
   "source": [
    "To determine whether a coordinate is in degrees or radians, you can consider the typical ranges and values for latitude and longitude:\n",
    "1. **Degrees:**\n",
    "   - Latitude ranges from -90 to 90 degrees.\n",
    "   - Longitude ranges from -180 to 180 degrees.\n",
    "   - Values are typically whole numbers or decimals within these ranges.\n",
    "2. **Radians:**\n",
    "   - Latitude and longitude in radians will range from approximately -π/2 to π/2 for latitude and -π to π for longitude.\n",
    "   - Values are typically small decimals (e.g., 0.5, 1.0, etc.).\n",
    "\n",
    "Given our dataset, as the values in the columns `pickup_latitude`, `pickup_longitude`, `delivery_latitude`, `delivery_longitude` fall within the typical range for degrees, it is safe to assume that these coordinates are in degrees.\n",
    "\n",
    "There is a difference in how the `haversine` library, the `sklearn`'s `haversine_distances`, and the `sklearn`'s `manhattan_distances` function compute and return the distances. Let's break down the differences and how to resolve them:\n",
    "1. **Haversine Library:**\n",
    "   - The `haversine` library directly computes the distance between two points and returns a single scalar value.\n",
    "2. **Sklearn's `haversine_distances`:**\n",
    "   - The `haversine_distances` function from `sklearn` returns a distance matrix. When you input two points, it returns a 1x1 matrix (a nested list) containing the distance. This is why you would see the result in squared parentheses like `[[]]`. We extract the single value using `[0][0]`.\n",
    "   - To use these coordinates with sklearn's `haversine_distances` function, you need to convert them to radians using `np.radians`.\n",
    "   - Additionally, the `haversine_distances` function returns the distance in radians, not in meters. To convert this to meters, you need to multiply by the Earth's radius (approximately 6371000 meters).\n",
    "3. **Sklearn's `manhattan_distances`:**\n",
    "   - The `manhattan_distances` function computes the Manhattan distance between two points and returns a distance matrix. We extract the single value from the 1x1 matrix using `[0][0]`.\n",
    "   - Additionally, the `manhattan_distances` function from sklearn computes the distance based on the Cartesian coordinates provided. Since latitude and longitude are angular measurements, the result will not be in meters but in degrees. To convert the Manhattan distance from degrees to meters, you need to account for the Earth's curvature. \n",
    "      - The conversion factor for latitude is approximately 111,320 meters per degree.\n",
    "      - The conversion factor for longitude varies based on the latitude. At the equator, it's approximately 111,320 meters per degree, but it decreases as you move towards the poles.\n",
    "      - Convert the latitude and longitude differences to meters.\n",
    "      - Sum the absolute differences to get the Manhattan distance in meters."
   ]
  },
  {
   "cell_type": "code",
   "execution_count": 14,
   "id": "808ab1bc4476de8a",
   "metadata": {
    "collapsed": false
   },
   "outputs": [],
   "source": [
    "# Convert degrees to radians\n",
    "data['pickup_latitude_rad'] = np.radians(data['pickup_latitude'])\n",
    "data['pickup_longitude_rad'] = np.radians(data['pickup_longitude'])\n",
    "data['delivery_latitude_rad'] = np.radians(data['delivery_latitude'])\n",
    "data['delivery_longitude_rad'] = np.radians(data['delivery_longitude'])\n",
    "\n",
    "# Earth's radius in meters\n",
    "earth_radius_m = 6371.0088 * 1000  # average earth radius - https://en.wikipedia.org/wiki/Earth_radius#Mean_radius\n",
    "\n",
    "# Conversion factors\n",
    "meters_per_degree_lat = 111320  # Approximate meters per degree of latitude\n",
    "\n",
    "def manhattan_distance_in_meters(row):\n",
    "    # Convert latitude and longitude differences to meters\n",
    "    lat_diff_m = abs(row['pickup_latitude'] - row['delivery_latitude']) * meters_per_degree_lat\n",
    "    # Convert longitude difference to meters, considering the latitude\n",
    "    lon_diff_m = abs(row['pickup_longitude'] - row['delivery_longitude']) * meters_per_degree_lat * np.cos(np.radians((row['pickup_latitude'] + row['delivery_latitude']) / 2))\n",
    "    # Sum the absolute differences to get the Manhattan distance in meters\n",
    "    return lat_diff_m + lon_diff_m"
   ]
  },
  {
   "cell_type": "code",
   "execution_count": 15,
   "id": "c93468fe8bc656f1",
   "metadata": {
    "collapsed": false
   },
   "outputs": [
    {
     "data": {
      "text/html": [
       "<div>\n",
       "<style scoped>\n",
       "    .dataframe tbody tr th:only-of-type {\n",
       "        vertical-align: middle;\n",
       "    }\n",
       "\n",
       "    .dataframe tbody tr th {\n",
       "        vertical-align: top;\n",
       "    }\n",
       "\n",
       "    .dataframe thead th {\n",
       "        text-align: right;\n",
       "    }\n",
       "</style>\n",
       "<table border=\"1\" class=\"dataframe\">\n",
       "  <thead>\n",
       "    <tr style=\"text-align: right;\">\n",
       "      <th></th>\n",
       "      <th>country_code</th>\n",
       "      <th>city_code</th>\n",
       "      <th>order_id</th>\n",
       "      <th>courier_id</th>\n",
       "      <th>creation_timestamp</th>\n",
       "      <th>activation_timestamp</th>\n",
       "      <th>transport</th>\n",
       "      <th>pickup_timestamp</th>\n",
       "      <th>delivery_entering_timestamp</th>\n",
       "      <th>delivery_timestamp</th>\n",
       "      <th>...</th>\n",
       "      <th>delivery_longitude</th>\n",
       "      <th>time_zone</th>\n",
       "      <th>creation_date</th>\n",
       "      <th>pickup_latitude_rad</th>\n",
       "      <th>pickup_longitude_rad</th>\n",
       "      <th>delivery_latitude_rad</th>\n",
       "      <th>delivery_longitude_rad</th>\n",
       "      <th>pd_distance_haversine_m</th>\n",
       "      <th>pd_distance_haversine_m_sk</th>\n",
       "      <th>pd_distance_manhattan_m</th>\n",
       "    </tr>\n",
       "  </thead>\n",
       "  <tbody>\n",
       "    <tr>\n",
       "      <th>0</th>\n",
       "      <td>ES</td>\n",
       "      <td>BCN</td>\n",
       "      <td>100911239195</td>\n",
       "      <td>166388350</td>\n",
       "      <td>2024-10-05 15:15:27+00:00</td>\n",
       "      <td>2024-10-05 15:15:28+00:00</td>\n",
       "      <td>BICYCLE</td>\n",
       "      <td>2024-10-05 15:34:38.353000+00:00</td>\n",
       "      <td>2024-10-05 15:42:09+00:00</td>\n",
       "      <td>2024-10-05 15:43:54+00:00</td>\n",
       "      <td>...</td>\n",
       "      <td>2.151188</td>\n",
       "      <td>Europe/Madrid</td>\n",
       "      <td>2024-10-05</td>\n",
       "      <td>0.722369</td>\n",
       "      <td>0.037831</td>\n",
       "      <td>0.722519</td>\n",
       "      <td>0.037545</td>\n",
       "      <td>1666.625197</td>\n",
       "      <td>1666.625197</td>\n",
       "      <td>2323.264090</td>\n",
       "    </tr>\n",
       "    <tr>\n",
       "      <th>1</th>\n",
       "      <td>ES</td>\n",
       "      <td>MAD</td>\n",
       "      <td>100911239955</td>\n",
       "      <td>156814432</td>\n",
       "      <td>2024-10-05 15:15:43+00:00</td>\n",
       "      <td>2024-10-05 15:15:44+00:00</td>\n",
       "      <td>BICYCLE</td>\n",
       "      <td>2024-10-05 15:26:06.554000+00:00</td>\n",
       "      <td>2024-10-05 15:32:01+00:00</td>\n",
       "      <td>2024-10-05 15:34:40+00:00</td>\n",
       "      <td>...</td>\n",
       "      <td>-3.685613</td>\n",
       "      <td>Europe/Madrid</td>\n",
       "      <td>2024-10-05</td>\n",
       "      <td>0.705615</td>\n",
       "      <td>-0.064356</td>\n",
       "      <td>0.705511</td>\n",
       "      <td>-0.064326</td>\n",
       "      <td>683.867316</td>\n",
       "      <td>683.867316</td>\n",
       "      <td>815.557065</td>\n",
       "    </tr>\n",
       "    <tr>\n",
       "      <th>2</th>\n",
       "      <td>ES</td>\n",
       "      <td>MAD</td>\n",
       "      <td>100911259541</td>\n",
       "      <td>160541555</td>\n",
       "      <td>2024-10-05 15:22:29+00:00</td>\n",
       "      <td>2024-10-05 15:22:30+00:00</td>\n",
       "      <td>MOTORBIKE</td>\n",
       "      <td>2024-10-05 15:31:51.834000+00:00</td>\n",
       "      <td>2024-10-05 15:39:54+00:00</td>\n",
       "      <td>2024-10-05 15:42:24+00:00</td>\n",
       "      <td>...</td>\n",
       "      <td>-3.713163</td>\n",
       "      <td>Europe/Madrid</td>\n",
       "      <td>2024-10-05</td>\n",
       "      <td>0.705591</td>\n",
       "      <td>-0.064625</td>\n",
       "      <td>0.705697</td>\n",
       "      <td>-0.064807</td>\n",
       "      <td>1111.802365</td>\n",
       "      <td>1111.802365</td>\n",
       "      <td>1560.108555</td>\n",
       "    </tr>\n",
       "    <tr>\n",
       "      <th>3</th>\n",
       "      <td>ES</td>\n",
       "      <td>BCN</td>\n",
       "      <td>100911278752</td>\n",
       "      <td>177471624</td>\n",
       "      <td>2024-10-05 15:29:15+00:00</td>\n",
       "      <td>2024-10-05 15:29:16+00:00</td>\n",
       "      <td>MOTORBIKE</td>\n",
       "      <td>2024-10-05 15:43:41.972000+00:00</td>\n",
       "      <td>2024-10-05 15:51:54+00:00</td>\n",
       "      <td>2024-10-05 15:57:40+00:00</td>\n",
       "      <td>...</td>\n",
       "      <td>2.183116</td>\n",
       "      <td>Europe/Madrid</td>\n",
       "      <td>2024-10-05</td>\n",
       "      <td>0.722657</td>\n",
       "      <td>0.038273</td>\n",
       "      <td>0.722605</td>\n",
       "      <td>0.038103</td>\n",
       "      <td>883.628851</td>\n",
       "      <td>883.628851</td>\n",
       "      <td>1155.353390</td>\n",
       "    </tr>\n",
       "    <tr>\n",
       "      <th>4</th>\n",
       "      <td>ES</td>\n",
       "      <td>BCN</td>\n",
       "      <td>100911293645</td>\n",
       "      <td>133356552</td>\n",
       "      <td>2024-10-05 15:34:37+00:00</td>\n",
       "      <td>2024-10-05 15:34:40+00:00</td>\n",
       "      <td>MOTORBIKE</td>\n",
       "      <td>2024-10-05 15:51:13.344000+00:00</td>\n",
       "      <td>2024-10-05 15:56:30+00:00</td>\n",
       "      <td>2024-10-05 15:58:24+00:00</td>\n",
       "      <td>...</td>\n",
       "      <td>2.163263</td>\n",
       "      <td>Europe/Madrid</td>\n",
       "      <td>2024-10-05</td>\n",
       "      <td>0.722740</td>\n",
       "      <td>0.037755</td>\n",
       "      <td>0.722852</td>\n",
       "      <td>0.037756</td>\n",
       "      <td>719.792208</td>\n",
       "      <td>719.792208</td>\n",
       "      <td>726.752283</td>\n",
       "    </tr>\n",
       "  </tbody>\n",
       "</table>\n",
       "<p>5 rows × 23 columns</p>\n",
       "</div>"
      ],
      "text/plain": [
       "  country_code city_code      order_id  courier_id        creation_timestamp  \\\n",
       "0           ES       BCN  100911239195   166388350 2024-10-05 15:15:27+00:00   \n",
       "1           ES       MAD  100911239955   156814432 2024-10-05 15:15:43+00:00   \n",
       "2           ES       MAD  100911259541   160541555 2024-10-05 15:22:29+00:00   \n",
       "3           ES       BCN  100911278752   177471624 2024-10-05 15:29:15+00:00   \n",
       "4           ES       BCN  100911293645   133356552 2024-10-05 15:34:37+00:00   \n",
       "\n",
       "       activation_timestamp  transport                 pickup_timestamp  \\\n",
       "0 2024-10-05 15:15:28+00:00    BICYCLE 2024-10-05 15:34:38.353000+00:00   \n",
       "1 2024-10-05 15:15:44+00:00    BICYCLE 2024-10-05 15:26:06.554000+00:00   \n",
       "2 2024-10-05 15:22:30+00:00  MOTORBIKE 2024-10-05 15:31:51.834000+00:00   \n",
       "3 2024-10-05 15:29:16+00:00  MOTORBIKE 2024-10-05 15:43:41.972000+00:00   \n",
       "4 2024-10-05 15:34:40+00:00  MOTORBIKE 2024-10-05 15:51:13.344000+00:00   \n",
       "\n",
       "  delivery_entering_timestamp        delivery_timestamp  ...  \\\n",
       "0   2024-10-05 15:42:09+00:00 2024-10-05 15:43:54+00:00  ...   \n",
       "1   2024-10-05 15:32:01+00:00 2024-10-05 15:34:40+00:00  ...   \n",
       "2   2024-10-05 15:39:54+00:00 2024-10-05 15:42:24+00:00  ...   \n",
       "3   2024-10-05 15:51:54+00:00 2024-10-05 15:57:40+00:00  ...   \n",
       "4   2024-10-05 15:56:30+00:00 2024-10-05 15:58:24+00:00  ...   \n",
       "\n",
       "   delivery_longitude      time_zone  creation_date  pickup_latitude_rad  \\\n",
       "0            2.151188  Europe/Madrid     2024-10-05             0.722369   \n",
       "1           -3.685613  Europe/Madrid     2024-10-05             0.705615   \n",
       "2           -3.713163  Europe/Madrid     2024-10-05             0.705591   \n",
       "3            2.183116  Europe/Madrid     2024-10-05             0.722657   \n",
       "4            2.163263  Europe/Madrid     2024-10-05             0.722740   \n",
       "\n",
       "  pickup_longitude_rad delivery_latitude_rad  delivery_longitude_rad  \\\n",
       "0             0.037831              0.722519                0.037545   \n",
       "1            -0.064356              0.705511               -0.064326   \n",
       "2            -0.064625              0.705697               -0.064807   \n",
       "3             0.038273              0.722605                0.038103   \n",
       "4             0.037755              0.722852                0.037756   \n",
       "\n",
       "   pd_distance_haversine_m  pd_distance_haversine_m_sk  \\\n",
       "0              1666.625197                 1666.625197   \n",
       "1               683.867316                  683.867316   \n",
       "2              1111.802365                 1111.802365   \n",
       "3               883.628851                  883.628851   \n",
       "4               719.792208                  719.792208   \n",
       "\n",
       "   pd_distance_manhattan_m  \n",
       "0              2323.264090  \n",
       "1               815.557065  \n",
       "2              1560.108555  \n",
       "3              1155.353390  \n",
       "4               726.752283  \n",
       "\n",
       "[5 rows x 23 columns]"
      ]
     },
     "execution_count": 15,
     "metadata": {},
     "output_type": "execute_result"
    }
   ],
   "source": [
    "data['pd_distance_haversine_m'] = data.apply(\n",
    "    lambda x: haversine(\n",
    "        (x['pickup_latitude'], x['pickup_longitude']),\n",
    "        (x['delivery_latitude'], x['delivery_longitude']),\n",
    "        unit=Unit.METERS\n",
    "    ), axis=1\n",
    ")\n",
    "data['pd_distance_haversine_m_sk'] = data.apply(\n",
    "    lambda x: haversine_distances(\n",
    "        np.array([[x['pickup_latitude_rad'], x['pickup_longitude_rad']]]),\n",
    "        np.array([[x['delivery_latitude_rad'], x['delivery_longitude_rad']]])\n",
    "    )[0][0] * earth_radius_m, axis=1\n",
    ")\n",
    "data['pd_distance_manhattan_m'] = data.apply(manhattan_distance_in_meters, axis=1)\n",
    "data.head()"
   ]
  },
  {
   "cell_type": "code",
   "execution_count": 16,
   "id": "b6be2faf50c7f774",
   "metadata": {
    "collapsed": false
   },
   "outputs": [
    {
     "data": {
      "text/plain": [
       "np.int64(0)"
      ]
     },
     "execution_count": 16,
     "metadata": {},
     "output_type": "execute_result"
    }
   ],
   "source": [
    "# print the number of null rows\n",
    "data.isnull().sum().sum()"
   ]
  },
  {
   "cell_type": "markdown",
   "id": "5da7791843042776",
   "metadata": {
    "collapsed": false
   },
   "source": [
    "## Save the dataset"
   ]
  },
  {
   "cell_type": "raw",
   "id": "400dcfe4569bd3da",
   "metadata": {
    "collapsed": false
   },
   "source": [
    "data.to_pickle(\"data/dataframe.pkl\")"
   ]
  },
  {
   "cell_type": "markdown",
   "id": "2da57697f71fdf68",
   "metadata": {
    "collapsed": false
   },
   "source": [
    "It's better to use the parquet format, as it is more efficient and faster to read and write. Besides, it is a columnar format, which is more suitable for analytical queries. We can also partition the data by creation date and city, which will help to speed up the queries and allows to analyze different timeframes and different cities if needed."
   ]
  },
  {
   "cell_type": "code",
   "execution_count": 17,
   "id": "c3198338e55332c9",
   "metadata": {
    "collapsed": false
   },
   "outputs": [],
   "source": [
    "# parquet appends the data in the files, it doesn't overwrite them, so we need to manually remove the folder with its content to avoid duplicated data\n",
    "shutil.rmtree(\"data/parquet/\")\n",
    "os.makedirs(\"data/parquet/\")"
   ]
  },
  {
   "cell_type": "code",
   "execution_count": 18,
   "id": "4a357e3ed80c39b1",
   "metadata": {
    "collapsed": false
   },
   "outputs": [],
   "source": [
    "data.to_parquet(\"data/parquet/dataframe.parquet\", index=False, partition_cols=['creation_date', 'city_code'])"
   ]
  },
  {
   "cell_type": "markdown",
   "id": "9f700ca8f9a310ca",
   "metadata": {
    "collapsed": false
   },
   "source": [
    "## Load the dataset"
   ]
  },
  {
   "cell_type": "raw",
   "id": "f459d6342f561915",
   "metadata": {
    "collapsed": false
   },
   "source": [
    "data = pd.read_pickle(\"data/dataframe.pkl\")"
   ]
  },
  {
   "cell_type": "code",
   "execution_count": 19,
   "id": "5ecce593d1c02912",
   "metadata": {
    "ExecuteTime": {
     "end_time": "2025-02-13T15:33:00.786814Z",
     "start_time": "2025-02-13T15:33:00.028167Z"
    },
    "collapsed": false
   },
   "outputs": [],
   "source": [
    "data = pd.read_parquet(\"data/parquet/dataframe.parquet\")"
   ]
  },
  {
   "cell_type": "markdown",
   "id": "933c8f1d588226ce",
   "metadata": {
    "collapsed": false
   },
   "source": [
    "## Exploratory Data Analysis (EDA)"
   ]
  },
  {
   "cell_type": "code",
   "execution_count": 20,
   "id": "9c2e386d",
   "metadata": {},
   "outputs": [],
   "source": [
    "# Compute the delivery date and the delivery time\n",
    "data['creation_time'] = data['creation_timestamp'].dt.time\n",
    "data['creation_hour'] = data['creation_timestamp'].dt.hour"
   ]
  },
  {
   "cell_type": "code",
   "execution_count": 21,
   "id": "71786bb2d8f08ad7",
   "metadata": {
    "ExecuteTime": {
     "end_time": "2025-02-05T15:38:55.871340Z",
     "start_time": "2025-02-05T15:38:44.192400Z"
    },
    "collapsed": false
   },
   "outputs": [
    {
     "data": {
      "image/png": "[encoded data removed]",
      "text/plain": [
       "<Figure size 1500x800 with 1 Axes>"
      ]
     },
     "metadata": {},
     "output_type": "display_data"
    }
   ],
   "source": [
    "# Histogram of the # of data per day / hour\n",
    "plt.figure(figsize=(15, 8))\n",
    "plt.hist(data['creation_timestamp'], bins = 1000)\n",
    "plt.title('Histogram of the # of data per day / hour')\n",
    "plt.xlabel('Day / Hour')\n",
    "plt.ylabel('Frequency')\n",
    "plt.show()"
   ]
  },
  {
   "cell_type": "code",
   "execution_count": 22,
   "id": "9b49b7bdfaf6dc14",
   "metadata": {
    "ExecuteTime": {
     "end_time": "2025-02-05T15:38:56.401347Z",
     "start_time": "2025-02-05T15:38:55.869907Z"
    },
    "collapsed": false
   },
   "outputs": [
    {
     "data": {
      "image/png": "[encoded data removed]",
      "text/plain": [
       "<Figure size 1500x800 with 1 Axes>"
      ]
     },
     "metadata": {},
     "output_type": "display_data"
    }
   ],
   "source": [
    "plt.figure(figsize=(15, 8))\n",
    "plt.hist(data['creation_date'], bins = 14)\n",
    "plt.title('Histogram of the # of data per day')\n",
    "plt.xlabel('Day')\n",
    "plt.ylabel('Frequency')\n",
    "plt.show()"
   ]
  },
  {
   "cell_type": "code",
   "execution_count": 23,
   "id": "76b3fb2c7e172f38",
   "metadata": {
    "ExecuteTime": {
     "end_time": "2025-02-05T15:38:56.653744Z",
     "start_time": "2025-02-05T15:38:56.411712Z"
    },
    "collapsed": false
   },
   "outputs": [
    {
     "data": {
      "image/png": "[encoded data removed]",
      "text/plain": [
       "<Figure size 1500x800 with 1 Axes>"
      ]
     },
     "metadata": {},
     "output_type": "display_data"
    }
   ],
   "source": [
    "plt.figure(figsize=(15, 8))\n",
    "plt.hist(data['creation_hour'])\n",
    "plt.title('Histogram of the # of data per hour')\n",
    "plt.xlabel('Hour')\n",
    "plt.ylabel('Frequency')\n",
    "plt.show()"
   ]
  },
  {
   "cell_type": "code",
   "execution_count": 24,
   "id": "e5d0cbff51d0870",
   "metadata": {
    "ExecuteTime": {
     "end_time": "2025-02-05T15:38:56.726389Z",
     "start_time": "2025-02-05T15:38:56.699817Z"
    },
    "collapsed": false
   },
   "outputs": [
    {
     "data": {
      "text/plain": [
       "transport\n",
       "BICYCLE      487720\n",
       "MOTORBIKE    416501\n",
       "CAR          123892\n",
       "WALKER          507\n",
       "Name: count, dtype: int64"
      ]
     },
     "execution_count": 24,
     "metadata": {},
     "output_type": "execute_result"
    }
   ],
   "source": [
    "# Check the distribution of the transport types\n",
    "data['transport'].value_counts()"
   ]
  },
  {
   "cell_type": "code",
   "execution_count": 25,
   "id": "47fa4556b397ea7b",
   "metadata": {
    "ExecuteTime": {
     "end_time": "2025-02-05T15:38:57.960538Z",
     "start_time": "2025-02-05T15:38:56.717968Z"
    },
    "collapsed": false
   },
   "outputs": [
    {
     "data": {
      "image/png": "[encoded data removed]",
      "text/plain": [
       "<Figure size 1500x800 with 1 Axes>"
      ]
     },
     "metadata": {},
     "output_type": "display_data"
    }
   ],
   "source": [
    "# Check the distribution of the distances\n",
    "plt.figure(figsize=(15, 8))\n",
    "plt.hist(data['pd_distance_haversine_m'], bins = 1000)\n",
    "plt.xlim(0, 10000)\n",
    "plt.title('Histogram of the distances')\n",
    "plt.xlabel('Distance (m)')\n",
    "plt.ylabel('Frequency')\n",
    "plt.show()"
   ]
  },
  {
   "cell_type": "markdown",
   "id": "b4f24b33b07b58e9",
   "metadata": {
    "collapsed": false
   },
   "source": [
    "## Hyperparameters"
   ]
  },
  {
   "cell_type": "code",
   "execution_count": 26,
   "id": "843f73749bdce7ee",
   "metadata": {
    "ExecuteTime": {
     "end_time": "2025-02-13T15:33:12.121710Z",
     "start_time": "2025-02-13T15:33:12.086188Z"
    },
    "collapsed": false
   },
   "outputs": [],
   "source": [
    "test_set_perc = 0.1\n",
    "days_for_test = 7\n",
    "k_cv = 5"
   ]
  },
  {
   "cell_type": "markdown",
   "id": "3aed5934e3c1f8f",
   "metadata": {
    "collapsed": false
   },
   "source": [
    "## Database split"
   ]
  },
  {
   "cell_type": "code",
   "execution_count": 27,
   "id": "2574aa199337f236",
   "metadata": {
    "ExecuteTime": {
     "end_time": "2025-02-05T15:38:58.118623Z",
     "start_time": "2025-02-05T15:38:57.964755Z"
    },
    "collapsed": false
   },
   "outputs": [
    {
     "data": {
      "text/plain": [
       "0         0 days 00:10:14.663000\n",
       "1         0 days 00:13:48.322000\n",
       "2         0 days 00:08:19.987000\n",
       "3         0 days 00:01:32.866000\n",
       "4         0 days 00:07:56.903000\n",
       "                   ...          \n",
       "1028615   0 days 00:10:32.295000\n",
       "1028616   0 days 00:09:17.103000\n",
       "1028617   0 days 00:05:04.409000\n",
       "1028618   0 days 00:08:42.050000\n",
       "1028619   0 days 00:04:51.687000\n",
       "Name: pickup_to_delivery, Length: 1028620, dtype: timedelta64[ns]"
      ]
     },
     "execution_count": 27,
     "metadata": {},
     "output_type": "execute_result"
    }
   ],
   "source": [
    "X = data\n",
    "y = data['delivery_entering_timestamp'] - data['pickup_timestamp']\n",
    "y = pd.Series(y, name='pickup_to_delivery')\n",
    "y"
   ]
  },
  {
   "cell_type": "markdown",
   "id": "fc1bd6034ee61016",
   "metadata": {
    "collapsed": false
   },
   "source": [
    "As we are dealing with a time-series dataset (orders are placed at different times), we will split the data based on the creation timestamp, leaving out the last 10% of the data for testing. This will help to understand the performance of the model on unseen data, as in reality we will have to test the model on data created on day+1 with respect to our training data."
   ]
  },
  {
   "cell_type": "code",
   "execution_count": 28,
   "id": "62cf1844840c2240",
   "metadata": {
    "ExecuteTime": {
     "end_time": "2025-02-05T15:38:58.881203Z",
     "start_time": "2025-02-05T15:38:57.985732Z"
    },
    "collapsed": false
   },
   "outputs": [],
   "source": [
    "X.sort_values('creation_timestamp', inplace=True)\n",
    "X_train, X_test, y_train, y_test = train_test_split(X, y, test_size=test_set_perc, random_state=0)"
   ]
  },
  {
   "cell_type": "code",
   "execution_count": 29,
   "id": "fc0cc9098900ec66",
   "metadata": {
    "ExecuteTime": {
     "end_time": "2025-02-05T15:38:59.274114Z",
     "start_time": "2025-02-05T15:38:58.892931Z"
    },
    "collapsed": false
   },
   "outputs": [
    {
     "data": {
      "text/html": [
       "<div>\n",
       "<style scoped>\n",
       "    .dataframe tbody tr th:only-of-type {\n",
       "        vertical-align: middle;\n",
       "    }\n",
       "\n",
       "    .dataframe tbody tr th {\n",
       "        vertical-align: top;\n",
       "    }\n",
       "\n",
       "    .dataframe thead th {\n",
       "        text-align: right;\n",
       "    }\n",
       "</style>\n",
       "<table border=\"1\" class=\"dataframe\">\n",
       "  <thead>\n",
       "    <tr style=\"text-align: right;\">\n",
       "      <th></th>\n",
       "      <th>country_code</th>\n",
       "      <th>order_id</th>\n",
       "      <th>courier_id</th>\n",
       "      <th>creation_timestamp</th>\n",
       "      <th>activation_timestamp</th>\n",
       "      <th>transport</th>\n",
       "      <th>pickup_timestamp</th>\n",
       "      <th>delivery_entering_timestamp</th>\n",
       "      <th>delivery_timestamp</th>\n",
       "      <th>pickup_latitude</th>\n",
       "      <th>...</th>\n",
       "      <th>pickup_longitude_rad</th>\n",
       "      <th>delivery_latitude_rad</th>\n",
       "      <th>delivery_longitude_rad</th>\n",
       "      <th>pd_distance_haversine_m</th>\n",
       "      <th>pd_distance_haversine_m_sk</th>\n",
       "      <th>pd_distance_manhattan_m</th>\n",
       "      <th>creation_date</th>\n",
       "      <th>city_code</th>\n",
       "      <th>creation_time</th>\n",
       "      <th>creation_hour</th>\n",
       "    </tr>\n",
       "  </thead>\n",
       "  <tbody>\n",
       "    <tr>\n",
       "      <th>911899</th>\n",
       "      <td>ES</td>\n",
       "      <td>100940844443</td>\n",
       "      <td>86880352</td>\n",
       "      <td>2024-10-18 19:00:44+00:00</td>\n",
       "      <td>2024-10-18 19:00:46+00:00</td>\n",
       "      <td>BICYCLE</td>\n",
       "      <td>2024-10-18 19:08:56.676000+00:00</td>\n",
       "      <td>2024-10-18 19:23:23+00:00</td>\n",
       "      <td>2024-10-18 19:28:41+00:00</td>\n",
       "      <td>40.439373</td>\n",
       "      <td>...</td>\n",
       "      <td>-0.063222</td>\n",
       "      <td>0.705459</td>\n",
       "      <td>-0.063054</td>\n",
       "      <td>2322.802022</td>\n",
       "      <td>2322.802022</td>\n",
       "      <td>2992.067428</td>\n",
       "      <td>2024-10-18</td>\n",
       "      <td>MAD</td>\n",
       "      <td>19:00:44</td>\n",
       "      <td>19</td>\n",
       "    </tr>\n",
       "    <tr>\n",
       "      <th>728961</th>\n",
       "      <td>ES</td>\n",
       "      <td>100934561647</td>\n",
       "      <td>44342837</td>\n",
       "      <td>2024-10-15 19:20:48+00:00</td>\n",
       "      <td>2024-10-15 19:20:52+00:00</td>\n",
       "      <td>CAR</td>\n",
       "      <td>2024-10-15 19:50:09.878000+00:00</td>\n",
       "      <td>2024-10-15 19:50:21+00:00</td>\n",
       "      <td>2024-10-15 19:52:26+00:00</td>\n",
       "      <td>41.421180</td>\n",
       "      <td>...</td>\n",
       "      <td>0.037520</td>\n",
       "      <td>0.722947</td>\n",
       "      <td>0.037516</td>\n",
       "      <td>75.348044</td>\n",
       "      <td>75.348044</td>\n",
       "      <td>94.923900</td>\n",
       "      <td>2024-10-15</td>\n",
       "      <td>BCN</td>\n",
       "      <td>19:20:48</td>\n",
       "      <td>19</td>\n",
       "    </tr>\n",
       "    <tr>\n",
       "      <th>401344</th>\n",
       "      <td>ES</td>\n",
       "      <td>100917543887</td>\n",
       "      <td>158932373</td>\n",
       "      <td>2024-10-08 08:38:50+00:00</td>\n",
       "      <td>2024-10-08 08:38:51+00:00</td>\n",
       "      <td>BICYCLE</td>\n",
       "      <td>2024-10-08 08:53:31.169000+00:00</td>\n",
       "      <td>2024-10-08 09:02:59+00:00</td>\n",
       "      <td>2024-10-08 09:04:03+00:00</td>\n",
       "      <td>41.402477</td>\n",
       "      <td>...</td>\n",
       "      <td>0.037640</td>\n",
       "      <td>0.722731</td>\n",
       "      <td>0.037455</td>\n",
       "      <td>1173.867255</td>\n",
       "      <td>1173.867255</td>\n",
       "      <td>1658.217064</td>\n",
       "      <td>2024-10-08</td>\n",
       "      <td>BCN</td>\n",
       "      <td>08:38:50</td>\n",
       "      <td>8</td>\n",
       "    </tr>\n",
       "    <tr>\n",
       "      <th>544917</th>\n",
       "      <td>ES</td>\n",
       "      <td>100925943507</td>\n",
       "      <td>46469981</td>\n",
       "      <td>2024-10-11 23:01:21+00:00</td>\n",
       "      <td>2024-10-11 23:01:22+00:00</td>\n",
       "      <td>CAR</td>\n",
       "      <td>2024-10-11 23:22:05.711000+00:00</td>\n",
       "      <td>2024-10-11 23:27:15+00:00</td>\n",
       "      <td>2024-10-11 23:31:41+00:00</td>\n",
       "      <td>41.370216</td>\n",
       "      <td>...</td>\n",
       "      <td>0.036481</td>\n",
       "      <td>0.721951</td>\n",
       "      <td>0.036623</td>\n",
       "      <td>913.425701</td>\n",
       "      <td>913.425701</td>\n",
       "      <td>1291.280296</td>\n",
       "      <td>2024-10-11</td>\n",
       "      <td>BCN</td>\n",
       "      <td>23:01:21</td>\n",
       "      <td>23</td>\n",
       "    </tr>\n",
       "    <tr>\n",
       "      <th>447110</th>\n",
       "      <td>ES</td>\n",
       "      <td>100920028045</td>\n",
       "      <td>112487305</td>\n",
       "      <td>2024-10-09 13:53:03+00:00</td>\n",
       "      <td>2024-10-09 13:53:05+00:00</td>\n",
       "      <td>MOTORBIKE</td>\n",
       "      <td>2024-10-09 14:05:57.945000+00:00</td>\n",
       "      <td>2024-10-09 14:15:19+00:00</td>\n",
       "      <td>2024-10-09 14:16:47+00:00</td>\n",
       "      <td>41.455530</td>\n",
       "      <td>...</td>\n",
       "      <td>0.038872</td>\n",
       "      <td>0.723570</td>\n",
       "      <td>0.039065</td>\n",
       "      <td>946.576532</td>\n",
       "      <td>946.576532</td>\n",
       "      <td>1144.176916</td>\n",
       "      <td>2024-10-09</td>\n",
       "      <td>BCN</td>\n",
       "      <td>13:53:03</td>\n",
       "      <td>13</td>\n",
       "    </tr>\n",
       "    <tr>\n",
       "      <th>...</th>\n",
       "      <td>...</td>\n",
       "      <td>...</td>\n",
       "      <td>...</td>\n",
       "      <td>...</td>\n",
       "      <td>...</td>\n",
       "      <td>...</td>\n",
       "      <td>...</td>\n",
       "      <td>...</td>\n",
       "      <td>...</td>\n",
       "      <td>...</td>\n",
       "      <td>...</td>\n",
       "      <td>...</td>\n",
       "      <td>...</td>\n",
       "      <td>...</td>\n",
       "      <td>...</td>\n",
       "      <td>...</td>\n",
       "      <td>...</td>\n",
       "      <td>...</td>\n",
       "      <td>...</td>\n",
       "      <td>...</td>\n",
       "      <td>...</td>\n",
       "    </tr>\n",
       "    <tr>\n",
       "      <th>927572</th>\n",
       "      <td>ES</td>\n",
       "      <td>100944115229</td>\n",
       "      <td>169107249</td>\n",
       "      <td>2024-10-19 21:53:26+00:00</td>\n",
       "      <td>2024-10-19 21:53:28+00:00</td>\n",
       "      <td>BICYCLE</td>\n",
       "      <td>2024-10-19 22:01:57.618000+00:00</td>\n",
       "      <td>2024-10-19 22:04:29+00:00</td>\n",
       "      <td>2024-10-19 22:06:33+00:00</td>\n",
       "      <td>41.393707</td>\n",
       "      <td>...</td>\n",
       "      <td>0.037507</td>\n",
       "      <td>0.722471</td>\n",
       "      <td>0.037606</td>\n",
       "      <td>481.520294</td>\n",
       "      <td>481.520294</td>\n",
       "      <td>565.340153</td>\n",
       "      <td>2024-10-19</td>\n",
       "      <td>BCN</td>\n",
       "      <td>21:53:26</td>\n",
       "      <td>21</td>\n",
       "    </tr>\n",
       "    <tr>\n",
       "      <th>107858</th>\n",
       "      <td>ES</td>\n",
       "      <td>100905287944</td>\n",
       "      <td>3071789</td>\n",
       "      <td>2024-10-02 20:24:46+00:00</td>\n",
       "      <td>2024-10-02 20:24:47+00:00</td>\n",
       "      <td>CAR</td>\n",
       "      <td>2024-10-02 20:37:01.811000+00:00</td>\n",
       "      <td>2024-10-02 20:50:47+00:00</td>\n",
       "      <td>2024-10-02 20:53:04+00:00</td>\n",
       "      <td>41.411340</td>\n",
       "      <td>...</td>\n",
       "      <td>0.037306</td>\n",
       "      <td>0.722800</td>\n",
       "      <td>0.037597</td>\n",
       "      <td>1407.856401</td>\n",
       "      <td>1407.856401</td>\n",
       "      <td>1618.394995</td>\n",
       "      <td>2024-10-02</td>\n",
       "      <td>BCN</td>\n",
       "      <td>20:24:46</td>\n",
       "      <td>20</td>\n",
       "    </tr>\n",
       "    <tr>\n",
       "      <th>449609</th>\n",
       "      <td>ES</td>\n",
       "      <td>100919914573</td>\n",
       "      <td>25564120</td>\n",
       "      <td>2024-10-09 13:12:58+00:00</td>\n",
       "      <td>2024-10-09 13:12:59+00:00</td>\n",
       "      <td>MOTORBIKE</td>\n",
       "      <td>2024-10-09 13:32:35.416000+00:00</td>\n",
       "      <td>2024-10-09 13:43:15+00:00</td>\n",
       "      <td>2024-10-09 13:44:38+00:00</td>\n",
       "      <td>41.435143</td>\n",
       "      <td>...</td>\n",
       "      <td>0.038061</td>\n",
       "      <td>0.722814</td>\n",
       "      <td>0.037869</td>\n",
       "      <td>2500.692483</td>\n",
       "      <td>2500.692483</td>\n",
       "      <td>3247.075034</td>\n",
       "      <td>2024-10-09</td>\n",
       "      <td>BCN</td>\n",
       "      <td>13:12:58</td>\n",
       "      <td>13</td>\n",
       "    </tr>\n",
       "    <tr>\n",
       "      <th>336376</th>\n",
       "      <td>ES</td>\n",
       "      <td>100913608829</td>\n",
       "      <td>158277364</td>\n",
       "      <td>2024-10-06 14:02:10+00:00</td>\n",
       "      <td>2024-10-06 14:02:11+00:00</td>\n",
       "      <td>BICYCLE</td>\n",
       "      <td>2024-10-06 14:23:35.650000+00:00</td>\n",
       "      <td>2024-10-06 14:28:21+00:00</td>\n",
       "      <td>2024-10-06 14:32:11+00:00</td>\n",
       "      <td>40.433830</td>\n",
       "      <td>...</td>\n",
       "      <td>-0.064621</td>\n",
       "      <td>0.705711</td>\n",
       "      <td>-0.064850</td>\n",
       "      <td>1112.474189</td>\n",
       "      <td>1112.474189</td>\n",
       "      <td>1160.562431</td>\n",
       "      <td>2024-10-06</td>\n",
       "      <td>MAD</td>\n",
       "      <td>14:02:10</td>\n",
       "      <td>14</td>\n",
       "    </tr>\n",
       "    <tr>\n",
       "      <th>1027588</th>\n",
       "      <td>ES</td>\n",
       "      <td>100945064031</td>\n",
       "      <td>157349785</td>\n",
       "      <td>2024-10-20 13:48:30+00:00</td>\n",
       "      <td>2024-10-20 13:48:32+00:00</td>\n",
       "      <td>MOTORBIKE</td>\n",
       "      <td>2024-10-20 14:13:08.251000+00:00</td>\n",
       "      <td>2024-10-20 14:24:38+00:00</td>\n",
       "      <td>2024-10-20 14:25:41+00:00</td>\n",
       "      <td>37.380657</td>\n",
       "      <td>...</td>\n",
       "      <td>-0.104693</td>\n",
       "      <td>0.652817</td>\n",
       "      <td>-0.104478</td>\n",
       "      <td>2779.473707</td>\n",
       "      <td>2779.473707</td>\n",
       "      <td>3648.532063</td>\n",
       "      <td>2024-10-20</td>\n",
       "      <td>SEV</td>\n",
       "      <td>13:48:30</td>\n",
       "      <td>13</td>\n",
       "    </tr>\n",
       "  </tbody>\n",
       "</table>\n",
       "<p>925758 rows × 25 columns</p>\n",
       "</div>"
      ],
      "text/plain": [
       "        country_code      order_id  courier_id        creation_timestamp  \\\n",
       "911899            ES  100940844443    86880352 2024-10-18 19:00:44+00:00   \n",
       "728961            ES  100934561647    44342837 2024-10-15 19:20:48+00:00   \n",
       "401344            ES  100917543887   158932373 2024-10-08 08:38:50+00:00   \n",
       "544917            ES  100925943507    46469981 2024-10-11 23:01:21+00:00   \n",
       "447110            ES  100920028045   112487305 2024-10-09 13:53:03+00:00   \n",
       "...              ...           ...         ...                       ...   \n",
       "927572            ES  100944115229   169107249 2024-10-19 21:53:26+00:00   \n",
       "107858            ES  100905287944     3071789 2024-10-02 20:24:46+00:00   \n",
       "449609            ES  100919914573    25564120 2024-10-09 13:12:58+00:00   \n",
       "336376            ES  100913608829   158277364 2024-10-06 14:02:10+00:00   \n",
       "1027588           ES  100945064031   157349785 2024-10-20 13:48:30+00:00   \n",
       "\n",
       "             activation_timestamp  transport                 pickup_timestamp  \\\n",
       "911899  2024-10-18 19:00:46+00:00    BICYCLE 2024-10-18 19:08:56.676000+00:00   \n",
       "728961  2024-10-15 19:20:52+00:00        CAR 2024-10-15 19:50:09.878000+00:00   \n",
       "401344  2024-10-08 08:38:51+00:00    BICYCLE 2024-10-08 08:53:31.169000+00:00   \n",
       "544917  2024-10-11 23:01:22+00:00        CAR 2024-10-11 23:22:05.711000+00:00   \n",
       "447110  2024-10-09 13:53:05+00:00  MOTORBIKE 2024-10-09 14:05:57.945000+00:00   \n",
       "...                           ...        ...                              ...   \n",
       "927572  2024-10-19 21:53:28+00:00    BICYCLE 2024-10-19 22:01:57.618000+00:00   \n",
       "107858  2024-10-02 20:24:47+00:00        CAR 2024-10-02 20:37:01.811000+00:00   \n",
       "449609  2024-10-09 13:12:59+00:00  MOTORBIKE 2024-10-09 13:32:35.416000+00:00   \n",
       "336376  2024-10-06 14:02:11+00:00    BICYCLE 2024-10-06 14:23:35.650000+00:00   \n",
       "1027588 2024-10-20 13:48:32+00:00  MOTORBIKE 2024-10-20 14:13:08.251000+00:00   \n",
       "\n",
       "        delivery_entering_timestamp        delivery_timestamp  \\\n",
       "911899    2024-10-18 19:23:23+00:00 2024-10-18 19:28:41+00:00   \n",
       "728961    2024-10-15 19:50:21+00:00 2024-10-15 19:52:26+00:00   \n",
       "401344    2024-10-08 09:02:59+00:00 2024-10-08 09:04:03+00:00   \n",
       "544917    2024-10-11 23:27:15+00:00 2024-10-11 23:31:41+00:00   \n",
       "447110    2024-10-09 14:15:19+00:00 2024-10-09 14:16:47+00:00   \n",
       "...                             ...                       ...   \n",
       "927572    2024-10-19 22:04:29+00:00 2024-10-19 22:06:33+00:00   \n",
       "107858    2024-10-02 20:50:47+00:00 2024-10-02 20:53:04+00:00   \n",
       "449609    2024-10-09 13:43:15+00:00 2024-10-09 13:44:38+00:00   \n",
       "336376    2024-10-06 14:28:21+00:00 2024-10-06 14:32:11+00:00   \n",
       "1027588   2024-10-20 14:24:38+00:00 2024-10-20 14:25:41+00:00   \n",
       "\n",
       "         pickup_latitude  ...  pickup_longitude_rad  delivery_latitude_rad  \\\n",
       "911899         40.439373  ...             -0.063222               0.705459   \n",
       "728961         41.421180  ...              0.037520               0.722947   \n",
       "401344         41.402477  ...              0.037640               0.722731   \n",
       "544917         41.370216  ...              0.036481               0.721951   \n",
       "447110         41.455530  ...              0.038872               0.723570   \n",
       "...                  ...  ...                   ...                    ...   \n",
       "927572         41.393707  ...              0.037507               0.722471   \n",
       "107858         41.411340  ...              0.037306               0.722800   \n",
       "449609         41.435143  ...              0.038061               0.722814   \n",
       "336376         40.433830  ...             -0.064621               0.705711   \n",
       "1027588        37.380657  ...             -0.104693               0.652817   \n",
       "\n",
       "         delivery_longitude_rad pd_distance_haversine_m  \\\n",
       "911899                -0.063054             2322.802022   \n",
       "728961                 0.037516               75.348044   \n",
       "401344                 0.037455             1173.867255   \n",
       "544917                 0.036623              913.425701   \n",
       "447110                 0.039065              946.576532   \n",
       "...                         ...                     ...   \n",
       "927572                 0.037606              481.520294   \n",
       "107858                 0.037597             1407.856401   \n",
       "449609                 0.037869             2500.692483   \n",
       "336376                -0.064850             1112.474189   \n",
       "1027588               -0.104478             2779.473707   \n",
       "\n",
       "         pd_distance_haversine_m_sk  pd_distance_manhattan_m  creation_date  \\\n",
       "911899                  2322.802022              2992.067428     2024-10-18   \n",
       "728961                    75.348044                94.923900     2024-10-15   \n",
       "401344                  1173.867255              1658.217064     2024-10-08   \n",
       "544917                   913.425701              1291.280296     2024-10-11   \n",
       "447110                   946.576532              1144.176916     2024-10-09   \n",
       "...                             ...                      ...            ...   \n",
       "927572                   481.520294               565.340153     2024-10-19   \n",
       "107858                  1407.856401              1618.394995     2024-10-02   \n",
       "449609                  2500.692483              3247.075034     2024-10-09   \n",
       "336376                  1112.474189              1160.562431     2024-10-06   \n",
       "1027588                 2779.473707              3648.532063     2024-10-20   \n",
       "\n",
       "         city_code  creation_time  creation_hour  \n",
       "911899         MAD       19:00:44             19  \n",
       "728961         BCN       19:20:48             19  \n",
       "401344         BCN       08:38:50              8  \n",
       "544917         BCN       23:01:21             23  \n",
       "447110         BCN       13:53:03             13  \n",
       "...            ...            ...            ...  \n",
       "927572         BCN       21:53:26             21  \n",
       "107858         BCN       20:24:46             20  \n",
       "449609         BCN       13:12:58             13  \n",
       "336376         MAD       14:02:10             14  \n",
       "1027588        SEV       13:48:30             13  \n",
       "\n",
       "[925758 rows x 25 columns]"
      ]
     },
     "execution_count": 29,
     "metadata": {},
     "output_type": "execute_result"
    }
   ],
   "source": [
    "X_train"
   ]
  },
  {
   "cell_type": "code",
   "execution_count": 30,
   "id": "578fea794feb9a3d",
   "metadata": {
    "ExecuteTime": {
     "end_time": "2025-02-05T15:38:59.281370Z",
     "start_time": "2025-02-05T15:38:59.271558Z"
    },
    "collapsed": false
   },
   "outputs": [
    {
     "data": {
      "text/plain": [
       "889391   0 days 00:09:30.791000\n",
       "745693   0 days 00:03:17.077000\n",
       "385882   0 days 00:03:51.965000\n",
       "570414   0 days 00:05:15.902000\n",
       "438498   0 days 00:00:01.288000\n",
       "                  ...          \n",
       "963395   0 days 00:13:53.455000\n",
       "117952   0 days 00:06:15.762000\n",
       "435829   0 days 00:14:03.382000\n",
       "305711   0 days 00:14:11.007000\n",
       "985772   0 days 00:02:25.961000\n",
       "Name: pickup_to_delivery, Length: 925758, dtype: timedelta64[ns]"
      ]
     },
     "execution_count": 30,
     "metadata": {},
     "output_type": "execute_result"
    }
   ],
   "source": [
    "y_train"
   ]
  },
  {
   "cell_type": "code",
   "execution_count": 31,
   "id": "2e1aab43ff9f5211",
   "metadata": {
    "ExecuteTime": {
     "end_time": "2025-02-05T15:38:59.303807Z",
     "start_time": "2025-02-05T15:38:59.276833Z"
    },
    "collapsed": false
   },
   "outputs": [
    {
     "name": "stdout",
     "output_type": "stream",
     "text": [
      "(925758, 25) (925758,)\n",
      "(102862, 25) (102862,)\n"
     ]
    }
   ],
   "source": [
    "print(X_train.shape, y_train.shape)\n",
    "print(X_test.shape, y_test.shape)"
   ]
  },
  {
   "cell_type": "code",
   "execution_count": 32,
   "id": "fdc44e42fd992ca8",
   "metadata": {
    "ExecuteTime": {
     "end_time": "2025-02-05T15:38:59.335384Z",
     "start_time": "2025-02-05T15:38:59.280993Z"
    },
    "collapsed": false
   },
   "outputs": [],
   "source": [
    "# In case we want to test different hyperparameters, we will use cross-validation\n",
    "#scores = cross_val_score(<estimator>, X, y, cv=k_cv)"
   ]
  },
  {
   "cell_type": "markdown",
   "id": "7282f116c476aa5c",
   "metadata": {
    "collapsed": false
   },
   "source": [
    "### Database split using directly the creation date\n",
    "\n",
    "As we have partitioned the data by city and creation date, we can use this information to split the data. This will help to avoid data leakage, as we will not have data from the future in the training set.\n",
    "This is much better than just sorting the data by the creation timestamp and taking 10% of the dataset as test set, as we did before."
   ]
  },
  {
   "cell_type": "code",
   "execution_count": 33,
   "id": "75c872336bd56642",
   "metadata": {
    "ExecuteTime": {
     "end_time": "2025-02-13T15:33:16.970407Z",
     "start_time": "2025-02-13T15:33:16.920478Z"
    },
    "collapsed": false
   },
   "outputs": [
    {
     "name": "stdout",
     "output_type": "stream",
     "text": [
      "Start date: 2024-09-30 | Begin test date: 2024-10-14 | End date: 2024-10-20\n"
     ]
    }
   ],
   "source": [
    "# We take the last week of the dataset to test the model\n",
    "begin_test_date = pd.to_datetime(end_date) - pd.Timedelta(days=days_for_test-1)\n",
    "begin_test_date = begin_test_date.strftime(\"%Y-%m-%d\")\n",
    "print(f'Start date: {start_date} | Begin test date: {begin_test_date} | End date: {end_date}')"
   ]
  },
  {
   "cell_type": "code",
   "execution_count": 34,
   "id": "3ac70f793bb888aa",
   "metadata": {
    "ExecuteTime": {
     "end_time": "2025-02-13T15:33:18.115459Z",
     "start_time": "2025-02-13T15:33:17.768838Z"
    },
    "collapsed": false
   },
   "outputs": [
    {
     "data": {
      "text/html": [
       "<div>\n",
       "<style scoped>\n",
       "    .dataframe tbody tr th:only-of-type {\n",
       "        vertical-align: middle;\n",
       "    }\n",
       "\n",
       "    .dataframe tbody tr th {\n",
       "        vertical-align: top;\n",
       "    }\n",
       "\n",
       "    .dataframe thead th {\n",
       "        text-align: right;\n",
       "    }\n",
       "</style>\n",
       "<table border=\"1\" class=\"dataframe\">\n",
       "  <thead>\n",
       "    <tr style=\"text-align: right;\">\n",
       "      <th></th>\n",
       "      <th>country_code</th>\n",
       "      <th>order_id</th>\n",
       "      <th>courier_id</th>\n",
       "      <th>creation_timestamp</th>\n",
       "      <th>activation_timestamp</th>\n",
       "      <th>transport</th>\n",
       "      <th>pickup_timestamp</th>\n",
       "      <th>delivery_entering_timestamp</th>\n",
       "      <th>delivery_timestamp</th>\n",
       "      <th>pickup_latitude</th>\n",
       "      <th>...</th>\n",
       "      <th>time_zone</th>\n",
       "      <th>pickup_latitude_rad</th>\n",
       "      <th>pickup_longitude_rad</th>\n",
       "      <th>delivery_latitude_rad</th>\n",
       "      <th>delivery_longitude_rad</th>\n",
       "      <th>pd_distance_haversine_m</th>\n",
       "      <th>pd_distance_haversine_m_sk</th>\n",
       "      <th>pd_distance_manhattan_m</th>\n",
       "      <th>creation_date</th>\n",
       "      <th>city_code</th>\n",
       "    </tr>\n",
       "  </thead>\n",
       "  <tbody>\n",
       "    <tr>\n",
       "      <th>0</th>\n",
       "      <td>ES</td>\n",
       "      <td>100901000206</td>\n",
       "      <td>169065712</td>\n",
       "      <td>2024-09-30 19:00:49+00:00</td>\n",
       "      <td>2024-09-30 19:00:52+00:00</td>\n",
       "      <td>CAR</td>\n",
       "      <td>2024-09-30 19:20:41.337000+00:00</td>\n",
       "      <td>2024-09-30 19:30:56+00:00</td>\n",
       "      <td>2024-09-30 19:38:11+00:00</td>\n",
       "      <td>38.370686</td>\n",
       "      <td>...</td>\n",
       "      <td>Europe/Madrid</td>\n",
       "      <td>0.669695</td>\n",
       "      <td>-0.008135</td>\n",
       "      <td>0.669284</td>\n",
       "      <td>-0.008486</td>\n",
       "      <td>3147.419444</td>\n",
       "      <td>3147.419444</td>\n",
       "      <td>4371.550539</td>\n",
       "      <td>2024-09-30</td>\n",
       "      <td>ALC</td>\n",
       "    </tr>\n",
       "    <tr>\n",
       "      <th>1</th>\n",
       "      <td>ES</td>\n",
       "      <td>100901487351</td>\n",
       "      <td>173633632</td>\n",
       "      <td>2024-09-30 21:54:58+00:00</td>\n",
       "      <td>2024-09-30 21:54:59+00:00</td>\n",
       "      <td>MOTORBIKE</td>\n",
       "      <td>2024-09-30 21:58:40.678000+00:00</td>\n",
       "      <td>2024-09-30 22:12:29+00:00</td>\n",
       "      <td>2024-09-30 22:16:54+00:00</td>\n",
       "      <td>38.342865</td>\n",
       "      <td>...</td>\n",
       "      <td>Europe/Madrid</td>\n",
       "      <td>0.669209</td>\n",
       "      <td>-0.008538</td>\n",
       "      <td>0.669514</td>\n",
       "      <td>-0.008481</td>\n",
       "      <td>1959.901021</td>\n",
       "      <td>1959.901021</td>\n",
       "      <td>2228.776817</td>\n",
       "      <td>2024-09-30</td>\n",
       "      <td>ALC</td>\n",
       "    </tr>\n",
       "    <tr>\n",
       "      <th>2</th>\n",
       "      <td>ES</td>\n",
       "      <td>100901615508</td>\n",
       "      <td>2320936</td>\n",
       "      <td>2024-09-30 23:17:55+00:00</td>\n",
       "      <td>2024-09-30 23:17:55+00:00</td>\n",
       "      <td>CAR</td>\n",
       "      <td>2024-09-30 23:25:52.013000+00:00</td>\n",
       "      <td>2024-09-30 23:34:12+00:00</td>\n",
       "      <td>2024-09-30 23:35:27+00:00</td>\n",
       "      <td>38.425022</td>\n",
       "      <td>...</td>\n",
       "      <td>Europe/Madrid</td>\n",
       "      <td>0.670643</td>\n",
       "      <td>-0.007077</td>\n",
       "      <td>0.670320</td>\n",
       "      <td>-0.007526</td>\n",
       "      <td>3043.077176</td>\n",
       "      <td>3043.077176</td>\n",
       "      <td>4304.543962</td>\n",
       "      <td>2024-09-30</td>\n",
       "      <td>ALC</td>\n",
       "    </tr>\n",
       "    <tr>\n",
       "      <th>3</th>\n",
       "      <td>ES</td>\n",
       "      <td>100900153723</td>\n",
       "      <td>174681565</td>\n",
       "      <td>2024-09-30 12:50:30+00:00</td>\n",
       "      <td>2024-09-30 12:50:31+00:00</td>\n",
       "      <td>MOTORBIKE</td>\n",
       "      <td>2024-09-30 12:51:54.134000+00:00</td>\n",
       "      <td>2024-09-30 12:53:27+00:00</td>\n",
       "      <td>2024-09-30 12:56:56+00:00</td>\n",
       "      <td>38.387657</td>\n",
       "      <td>...</td>\n",
       "      <td>Europe/Madrid</td>\n",
       "      <td>0.669991</td>\n",
       "      <td>-0.007173</td>\n",
       "      <td>0.669942</td>\n",
       "      <td>-0.007219</td>\n",
       "      <td>384.769891</td>\n",
       "      <td>384.769891</td>\n",
       "      <td>538.640403</td>\n",
       "      <td>2024-09-30</td>\n",
       "      <td>ALC</td>\n",
       "    </tr>\n",
       "    <tr>\n",
       "      <th>4</th>\n",
       "      <td>ES</td>\n",
       "      <td>100900235936</td>\n",
       "      <td>142421923</td>\n",
       "      <td>2024-09-30 13:23:50+00:00</td>\n",
       "      <td>2024-09-30 13:23:51+00:00</td>\n",
       "      <td>CAR</td>\n",
       "      <td>2024-09-30 13:49:36.097000+00:00</td>\n",
       "      <td>2024-09-30 13:57:33+00:00</td>\n",
       "      <td>2024-09-30 14:01:33+00:00</td>\n",
       "      <td>38.408985</td>\n",
       "      <td>...</td>\n",
       "      <td>Europe/Madrid</td>\n",
       "      <td>0.670363</td>\n",
       "      <td>-0.007440</td>\n",
       "      <td>0.669999</td>\n",
       "      <td>-0.007465</td>\n",
       "      <td>2321.097615</td>\n",
       "      <td>2321.097615</td>\n",
       "      <td>2443.128342</td>\n",
       "      <td>2024-09-30</td>\n",
       "      <td>ALC</td>\n",
       "    </tr>\n",
       "  </tbody>\n",
       "</table>\n",
       "<p>5 rows × 23 columns</p>\n",
       "</div>"
      ],
      "text/plain": [
       "  country_code      order_id  courier_id        creation_timestamp  \\\n",
       "0           ES  100901000206   169065712 2024-09-30 19:00:49+00:00   \n",
       "1           ES  100901487351   173633632 2024-09-30 21:54:58+00:00   \n",
       "2           ES  100901615508     2320936 2024-09-30 23:17:55+00:00   \n",
       "3           ES  100900153723   174681565 2024-09-30 12:50:30+00:00   \n",
       "4           ES  100900235936   142421923 2024-09-30 13:23:50+00:00   \n",
       "\n",
       "       activation_timestamp  transport                 pickup_timestamp  \\\n",
       "0 2024-09-30 19:00:52+00:00        CAR 2024-09-30 19:20:41.337000+00:00   \n",
       "1 2024-09-30 21:54:59+00:00  MOTORBIKE 2024-09-30 21:58:40.678000+00:00   \n",
       "2 2024-09-30 23:17:55+00:00        CAR 2024-09-30 23:25:52.013000+00:00   \n",
       "3 2024-09-30 12:50:31+00:00  MOTORBIKE 2024-09-30 12:51:54.134000+00:00   \n",
       "4 2024-09-30 13:23:51+00:00        CAR 2024-09-30 13:49:36.097000+00:00   \n",
       "\n",
       "  delivery_entering_timestamp        delivery_timestamp  pickup_latitude  ...  \\\n",
       "0   2024-09-30 19:30:56+00:00 2024-09-30 19:38:11+00:00        38.370686  ...   \n",
       "1   2024-09-30 22:12:29+00:00 2024-09-30 22:16:54+00:00        38.342865  ...   \n",
       "2   2024-09-30 23:34:12+00:00 2024-09-30 23:35:27+00:00        38.425022  ...   \n",
       "3   2024-09-30 12:53:27+00:00 2024-09-30 12:56:56+00:00        38.387657  ...   \n",
       "4   2024-09-30 13:57:33+00:00 2024-09-30 14:01:33+00:00        38.408985  ...   \n",
       "\n",
       "       time_zone  pickup_latitude_rad  pickup_longitude_rad  \\\n",
       "0  Europe/Madrid             0.669695             -0.008135   \n",
       "1  Europe/Madrid             0.669209             -0.008538   \n",
       "2  Europe/Madrid             0.670643             -0.007077   \n",
       "3  Europe/Madrid             0.669991             -0.007173   \n",
       "4  Europe/Madrid             0.670363             -0.007440   \n",
       "\n",
       "  delivery_latitude_rad  delivery_longitude_rad  pd_distance_haversine_m  \\\n",
       "0              0.669284               -0.008486              3147.419444   \n",
       "1              0.669514               -0.008481              1959.901021   \n",
       "2              0.670320               -0.007526              3043.077176   \n",
       "3              0.669942               -0.007219               384.769891   \n",
       "4              0.669999               -0.007465              2321.097615   \n",
       "\n",
       "   pd_distance_haversine_m_sk  pd_distance_manhattan_m  creation_date  \\\n",
       "0                 3147.419444              4371.550539     2024-09-30   \n",
       "1                 1959.901021              2228.776817     2024-09-30   \n",
       "2                 3043.077176              4304.543962     2024-09-30   \n",
       "3                  384.769891               538.640403     2024-09-30   \n",
       "4                 2321.097615              2443.128342     2024-09-30   \n",
       "\n",
       "   city_code  \n",
       "0        ALC  \n",
       "1        ALC  \n",
       "2        ALC  \n",
       "3        ALC  \n",
       "4        ALC  \n",
       "\n",
       "[5 rows x 23 columns]"
      ]
     },
     "execution_count": 34,
     "metadata": {},
     "output_type": "execute_result"
    }
   ],
   "source": [
    "X_train = pd.read_parquet(\"data/parquet/dataframe.parquet/\", filters=[('creation_date', '<', begin_test_date)])\n",
    "X_train.head()"
   ]
  },
  {
   "cell_type": "code",
   "execution_count": 35,
   "id": "74662b30246725ca",
   "metadata": {
    "ExecuteTime": {
     "end_time": "2025-02-13T15:33:20.440817Z",
     "start_time": "2025-02-13T15:33:20.409484Z"
    },
    "collapsed": false
   },
   "outputs": [
    {
     "data": {
      "text/plain": [
       "np.int64(0)"
      ]
     },
     "execution_count": 35,
     "metadata": {},
     "output_type": "execute_result"
    }
   ],
   "source": [
    "# Check that there are no nulls deriving from a wrong writing of parquet files (appending instead of overwriting)\n",
    "X_train.isnull().sum().sum()"
   ]
  },
  {
   "cell_type": "code",
   "execution_count": 36,
   "id": "7062f2936f260656",
   "metadata": {
    "ExecuteTime": {
     "end_time": "2025-02-13T15:33:21.024990Z",
     "start_time": "2025-02-13T15:33:20.991134Z"
    },
    "collapsed": false
   },
   "outputs": [
    {
     "data": {
      "text/plain": [
       "0        0 days 00:10:14.663000\n",
       "1        0 days 00:13:48.322000\n",
       "2        0 days 00:08:19.987000\n",
       "3        0 days 00:01:32.866000\n",
       "4        0 days 00:07:56.903000\n",
       "                  ...          \n",
       "678746   0 days 00:03:53.637000\n",
       "678747   0 days 00:03:57.223000\n",
       "678748   0 days 00:06:54.631000\n",
       "678749   0 days 00:23:10.249000\n",
       "678750   0 days 00:05:43.235000\n",
       "Name: pickup_to_delivery, Length: 678751, dtype: timedelta64[ns]"
      ]
     },
     "execution_count": 36,
     "metadata": {},
     "output_type": "execute_result"
    }
   ],
   "source": [
    "y_train = X_train['delivery_entering_timestamp'] - X_train['pickup_timestamp']\n",
    "y_train = pd.Series(y_train, name='pickup_to_delivery')\n",
    "y_train"
   ]
  },
  {
   "cell_type": "code",
   "execution_count": 37,
   "id": "ab7c005256b289b6",
   "metadata": {
    "ExecuteTime": {
     "end_time": "2025-02-13T15:33:21.600335Z",
     "start_time": "2025-02-13T15:33:21.566362Z"
    },
    "collapsed": false
   },
   "outputs": [
    {
     "data": {
      "text/plain": [
       "np.int64(0)"
      ]
     },
     "execution_count": 37,
     "metadata": {},
     "output_type": "execute_result"
    }
   ],
   "source": [
    "y_train.isnull().sum().sum()"
   ]
  },
  {
   "cell_type": "code",
   "execution_count": 38,
   "id": "1830d6e04cb2eed0",
   "metadata": {
    "ExecuteTime": {
     "end_time": "2025-02-13T15:33:22.558175Z",
     "start_time": "2025-02-13T15:33:22.345167Z"
    },
    "collapsed": false
   },
   "outputs": [
    {
     "data": {
      "text/html": [
       "<div>\n",
       "<style scoped>\n",
       "    .dataframe tbody tr th:only-of-type {\n",
       "        vertical-align: middle;\n",
       "    }\n",
       "\n",
       "    .dataframe tbody tr th {\n",
       "        vertical-align: top;\n",
       "    }\n",
       "\n",
       "    .dataframe thead th {\n",
       "        text-align: right;\n",
       "    }\n",
       "</style>\n",
       "<table border=\"1\" class=\"dataframe\">\n",
       "  <thead>\n",
       "    <tr style=\"text-align: right;\">\n",
       "      <th></th>\n",
       "      <th>country_code</th>\n",
       "      <th>order_id</th>\n",
       "      <th>courier_id</th>\n",
       "      <th>creation_timestamp</th>\n",
       "      <th>activation_timestamp</th>\n",
       "      <th>transport</th>\n",
       "      <th>pickup_timestamp</th>\n",
       "      <th>delivery_entering_timestamp</th>\n",
       "      <th>delivery_timestamp</th>\n",
       "      <th>pickup_latitude</th>\n",
       "      <th>...</th>\n",
       "      <th>time_zone</th>\n",
       "      <th>pickup_latitude_rad</th>\n",
       "      <th>pickup_longitude_rad</th>\n",
       "      <th>delivery_latitude_rad</th>\n",
       "      <th>delivery_longitude_rad</th>\n",
       "      <th>pd_distance_haversine_m</th>\n",
       "      <th>pd_distance_haversine_m_sk</th>\n",
       "      <th>pd_distance_manhattan_m</th>\n",
       "      <th>creation_date</th>\n",
       "      <th>city_code</th>\n",
       "    </tr>\n",
       "  </thead>\n",
       "  <tbody>\n",
       "    <tr>\n",
       "      <th>0</th>\n",
       "      <td>ES</td>\n",
       "      <td>100932167582</td>\n",
       "      <td>10191824</td>\n",
       "      <td>2024-10-14 15:51:51+00:00</td>\n",
       "      <td>2024-10-14 15:51:52+00:00</td>\n",
       "      <td>MOTORBIKE</td>\n",
       "      <td>2024-10-14 16:00:14.017000+00:00</td>\n",
       "      <td>2024-10-14 16:06:55+00:00</td>\n",
       "      <td>2024-10-14 16:08:56+00:00</td>\n",
       "      <td>38.360110</td>\n",
       "      <td>...</td>\n",
       "      <td>Europe/Madrid</td>\n",
       "      <td>0.669510</td>\n",
       "      <td>-0.008658</td>\n",
       "      <td>0.669291</td>\n",
       "      <td>-0.008891</td>\n",
       "      <td>1817.533836</td>\n",
       "      <td>1817.533836</td>\n",
       "      <td>2562.964399</td>\n",
       "      <td>2024-10-14</td>\n",
       "      <td>ALC</td>\n",
       "    </tr>\n",
       "    <tr>\n",
       "      <th>1</th>\n",
       "      <td>ES</td>\n",
       "      <td>100932256816</td>\n",
       "      <td>50618208</td>\n",
       "      <td>2024-10-14 16:36:30+00:00</td>\n",
       "      <td>2024-10-14 16:36:31+00:00</td>\n",
       "      <td>CAR</td>\n",
       "      <td>2024-10-14 16:45:53.061000+00:00</td>\n",
       "      <td>2024-10-14 16:53:56+00:00</td>\n",
       "      <td>2024-10-14 16:56:21+00:00</td>\n",
       "      <td>38.354233</td>\n",
       "      <td>...</td>\n",
       "      <td>Europe/Madrid</td>\n",
       "      <td>0.669408</td>\n",
       "      <td>-0.008239</td>\n",
       "      <td>0.669490</td>\n",
       "      <td>-0.008349</td>\n",
       "      <td>757.291206</td>\n",
       "      <td>757.291206</td>\n",
       "      <td>1071.856530</td>\n",
       "      <td>2024-10-14</td>\n",
       "      <td>ALC</td>\n",
       "    </tr>\n",
       "    <tr>\n",
       "      <th>2</th>\n",
       "      <td>ES</td>\n",
       "      <td>100932496959</td>\n",
       "      <td>170202435</td>\n",
       "      <td>2024-10-14 18:26:33+00:00</td>\n",
       "      <td>2024-10-14 18:26:34+00:00</td>\n",
       "      <td>MOTORBIKE</td>\n",
       "      <td>2024-10-14 18:35:05.220000+00:00</td>\n",
       "      <td>2024-10-14 18:41:32+00:00</td>\n",
       "      <td>2024-10-14 18:43:20+00:00</td>\n",
       "      <td>38.429874</td>\n",
       "      <td>...</td>\n",
       "      <td>Europe/Madrid</td>\n",
       "      <td>0.670728</td>\n",
       "      <td>-0.006992</td>\n",
       "      <td>0.670951</td>\n",
       "      <td>-0.006570</td>\n",
       "      <td>2541.011986</td>\n",
       "      <td>2541.011986</td>\n",
       "      <td>3531.016499</td>\n",
       "      <td>2024-10-14</td>\n",
       "      <td>ALC</td>\n",
       "    </tr>\n",
       "    <tr>\n",
       "      <th>3</th>\n",
       "      <td>ES</td>\n",
       "      <td>100932664161</td>\n",
       "      <td>166731686</td>\n",
       "      <td>2024-10-14 19:30:57+00:00</td>\n",
       "      <td>2024-10-14 19:30:59+00:00</td>\n",
       "      <td>CAR</td>\n",
       "      <td>2024-10-14 19:58:06.210000+00:00</td>\n",
       "      <td>2024-10-14 20:03:31+00:00</td>\n",
       "      <td>2024-10-14 20:04:48+00:00</td>\n",
       "      <td>38.398090</td>\n",
       "      <td>...</td>\n",
       "      <td>Europe/Madrid</td>\n",
       "      <td>0.670173</td>\n",
       "      <td>-0.007554</td>\n",
       "      <td>0.670373</td>\n",
       "      <td>-0.007686</td>\n",
       "      <td>1432.008005</td>\n",
       "      <td>1432.008005</td>\n",
       "      <td>1931.872080</td>\n",
       "      <td>2024-10-14</td>\n",
       "      <td>ALC</td>\n",
       "    </tr>\n",
       "    <tr>\n",
       "      <th>4</th>\n",
       "      <td>ES</td>\n",
       "      <td>100932854728</td>\n",
       "      <td>168741567</td>\n",
       "      <td>2024-10-14 20:35:29+00:00</td>\n",
       "      <td>2024-10-14 20:35:30+00:00</td>\n",
       "      <td>CAR</td>\n",
       "      <td>2024-10-14 20:57:11.030000+00:00</td>\n",
       "      <td>2024-10-14 21:00:16+00:00</td>\n",
       "      <td>2024-10-14 21:04:55+00:00</td>\n",
       "      <td>38.355713</td>\n",
       "      <td>...</td>\n",
       "      <td>Europe/Madrid</td>\n",
       "      <td>0.669433</td>\n",
       "      <td>-0.008372</td>\n",
       "      <td>0.669508</td>\n",
       "      <td>-0.008358</td>\n",
       "      <td>477.653498</td>\n",
       "      <td>477.653498</td>\n",
       "      <td>544.529748</td>\n",
       "      <td>2024-10-14</td>\n",
       "      <td>ALC</td>\n",
       "    </tr>\n",
       "  </tbody>\n",
       "</table>\n",
       "<p>5 rows × 23 columns</p>\n",
       "</div>"
      ],
      "text/plain": [
       "  country_code      order_id  courier_id        creation_timestamp  \\\n",
       "0           ES  100932167582    10191824 2024-10-14 15:51:51+00:00   \n",
       "1           ES  100932256816    50618208 2024-10-14 16:36:30+00:00   \n",
       "2           ES  100932496959   170202435 2024-10-14 18:26:33+00:00   \n",
       "3           ES  100932664161   166731686 2024-10-14 19:30:57+00:00   \n",
       "4           ES  100932854728   168741567 2024-10-14 20:35:29+00:00   \n",
       "\n",
       "       activation_timestamp  transport                 pickup_timestamp  \\\n",
       "0 2024-10-14 15:51:52+00:00  MOTORBIKE 2024-10-14 16:00:14.017000+00:00   \n",
       "1 2024-10-14 16:36:31+00:00        CAR 2024-10-14 16:45:53.061000+00:00   \n",
       "2 2024-10-14 18:26:34+00:00  MOTORBIKE 2024-10-14 18:35:05.220000+00:00   \n",
       "3 2024-10-14 19:30:59+00:00        CAR 2024-10-14 19:58:06.210000+00:00   \n",
       "4 2024-10-14 20:35:30+00:00        CAR 2024-10-14 20:57:11.030000+00:00   \n",
       "\n",
       "  delivery_entering_timestamp        delivery_timestamp  pickup_latitude  ...  \\\n",
       "0   2024-10-14 16:06:55+00:00 2024-10-14 16:08:56+00:00        38.360110  ...   \n",
       "1   2024-10-14 16:53:56+00:00 2024-10-14 16:56:21+00:00        38.354233  ...   \n",
       "2   2024-10-14 18:41:32+00:00 2024-10-14 18:43:20+00:00        38.429874  ...   \n",
       "3   2024-10-14 20:03:31+00:00 2024-10-14 20:04:48+00:00        38.398090  ...   \n",
       "4   2024-10-14 21:00:16+00:00 2024-10-14 21:04:55+00:00        38.355713  ...   \n",
       "\n",
       "       time_zone  pickup_latitude_rad  pickup_longitude_rad  \\\n",
       "0  Europe/Madrid             0.669510             -0.008658   \n",
       "1  Europe/Madrid             0.669408             -0.008239   \n",
       "2  Europe/Madrid             0.670728             -0.006992   \n",
       "3  Europe/Madrid             0.670173             -0.007554   \n",
       "4  Europe/Madrid             0.669433             -0.008372   \n",
       "\n",
       "  delivery_latitude_rad  delivery_longitude_rad  pd_distance_haversine_m  \\\n",
       "0              0.669291               -0.008891              1817.533836   \n",
       "1              0.669490               -0.008349               757.291206   \n",
       "2              0.670951               -0.006570              2541.011986   \n",
       "3              0.670373               -0.007686              1432.008005   \n",
       "4              0.669508               -0.008358               477.653498   \n",
       "\n",
       "   pd_distance_haversine_m_sk  pd_distance_manhattan_m  creation_date  \\\n",
       "0                 1817.533836              2562.964399     2024-10-14   \n",
       "1                  757.291206              1071.856530     2024-10-14   \n",
       "2                 2541.011986              3531.016499     2024-10-14   \n",
       "3                 1432.008005              1931.872080     2024-10-14   \n",
       "4                  477.653498               544.529748     2024-10-14   \n",
       "\n",
       "   city_code  \n",
       "0        ALC  \n",
       "1        ALC  \n",
       "2        ALC  \n",
       "3        ALC  \n",
       "4        ALC  \n",
       "\n",
       "[5 rows x 23 columns]"
      ]
     },
     "execution_count": 38,
     "metadata": {},
     "output_type": "execute_result"
    }
   ],
   "source": [
    "X_test = pd.read_parquet(\"data/parquet/dataframe.parquet\", filters=[('creation_date', '>=', begin_test_date)])\n",
    "X_test.head()"
   ]
  },
  {
   "cell_type": "code",
   "execution_count": 39,
   "id": "273b4efbb39767db",
   "metadata": {
    "ExecuteTime": {
     "end_time": "2025-02-13T15:33:23.263975Z",
     "start_time": "2025-02-13T15:33:23.220701Z"
    },
    "collapsed": false
   },
   "outputs": [
    {
     "data": {
      "text/plain": [
       "np.int64(0)"
      ]
     },
     "execution_count": 39,
     "metadata": {},
     "output_type": "execute_result"
    }
   ],
   "source": [
    "X_test.isnull().sum().sum()"
   ]
  },
  {
   "cell_type": "markdown",
   "id": "2bc643e6376ab1bb",
   "metadata": {
    "collapsed": false
   },
   "source": [
    "To compute the MAE, we need to do a power to 2, but if I use the type `np.timedelta64(1, \"ns\")` for `y_test` I get the following error:\n",
    "`TypeError: cannot perform __pow__ with this index type: TimedeltaArray`\n",
    "Therefore we will use the type `np.float64` for `y_test`."
   ]
  },
  {
   "cell_type": "code",
   "execution_count": 40,
   "id": "52ce014a35efad12",
   "metadata": {
    "ExecuteTime": {
     "end_time": "2025-02-13T15:33:24.559515Z",
     "start_time": "2025-02-13T15:33:24.512067Z"
    },
    "collapsed": false
   },
   "outputs": [
    {
     "data": {
      "text/plain": [
       "0         400.983\n",
       "1         482.939\n",
       "2         386.780\n",
       "3         324.790\n",
       "4         184.970\n",
       "           ...   \n",
       "349864    632.295\n",
       "349865    557.103\n",
       "349866    304.409\n",
       "349867    522.050\n",
       "349868    291.687\n",
       "Name: pickup_to_delivery, Length: 349869, dtype: float64"
      ]
     },
     "execution_count": 40,
     "metadata": {},
     "output_type": "execute_result"
    }
   ],
   "source": [
    "y_test = (X_test['delivery_entering_timestamp'] - X_test['pickup_timestamp']).dt.total_seconds()\n",
    "y_test = pd.Series(y_test, dtype=np.float64, name='pickup_to_delivery')\n",
    "y_test"
   ]
  },
  {
   "cell_type": "code",
   "execution_count": 41,
   "id": "cfb62def0b2bf287",
   "metadata": {
    "ExecuteTime": {
     "end_time": "2025-02-13T15:33:25.208990Z",
     "start_time": "2025-02-13T15:33:25.196062Z"
    },
    "collapsed": false
   },
   "outputs": [
    {
     "data": {
      "text/plain": [
       "np.int64(0)"
      ]
     },
     "execution_count": 41,
     "metadata": {},
     "output_type": "execute_result"
    }
   ],
   "source": [
    "y_test.isnull().sum().sum()"
   ]
  },
  {
   "cell_type": "code",
   "execution_count": 42,
   "id": "2d2fff1089f25047",
   "metadata": {
    "ExecuteTime": {
     "end_time": "2025-02-13T15:33:25.542962Z",
     "start_time": "2025-02-13T15:33:25.485273Z"
    },
    "collapsed": false
   },
   "outputs": [
    {
     "name": "stdout",
     "output_type": "stream",
     "text": [
      "(678751, 23) (678751,)\n",
      "(349869, 23) (349869,)\n"
     ]
    }
   ],
   "source": [
    "print(X_train.shape, y_train.shape)\n",
    "print(X_test.shape, y_test.shape)"
   ]
  }
 ],
 "metadata": {
  "kernelspec": {
   "display_name": "venv",
   "language": "python",
   "name": "python3"
  },
  "language_info": {
   "codemirror_mode": {
    "name": "ipython",
    "version": 3
   },
   "file_extension": ".py",
   "mimetype": "text/x-python",
   "name": "python",
   "nbconvert_exporter": "python",
   "pygments_lexer": "ipython3",
   "version": "3.12.0"
  }
 },
 "nbformat": 4,
 "nbformat_minor": 5
}
