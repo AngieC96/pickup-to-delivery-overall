{
 "cells": [
  {
   "cell_type": "markdown",
   "id": "24ad314bf282ec83",
   "metadata": {
    "collapsed": false
   },
   "source": [
    "# Pickup to Delivery Overall"
   ]
  },
  {
   "cell_type": "code",
   "execution_count": 1,
   "id": "cb71195be0f3a22f",
   "metadata": {
    "collapsed": false,
    "ExecuteTime": {
     "end_time": "2025-03-27T14:18:28.623509Z",
     "start_time": "2025-03-27T14:18:25.166278Z"
    }
   },
   "outputs": [],
   "source": [
    "import os\n",
    "import sys\n",
    "import time\n",
    "import shutil\n",
    "import pandas as pd\n",
    "import numpy as np\n",
    "import pickle\n",
    "import matplotlib.pyplot as plt\n",
    "from haversine import haversine, Unit\n",
    "from sklearn.metrics.pairwise import haversine_distances, manhattan_distances\n",
    "from sklearn.model_selection import train_test_split, cross_val_score\n",
    "\n",
    "sys.path.insert(0, os.path.expanduser('./'))\n",
    "import query_runner as qr\n",
    "import utils\n",
    "from estimator import BaselineModel_sum, BaselineModel_mean, LinearModel_encode_timestamps_dummy_variables, LinearModel_encode_timestamps_cyclical"
   ]
  },
  {
   "cell_type": "code",
   "execution_count": 2,
   "id": "52eb5fbdb862edbe",
   "metadata": {
    "collapsed": false,
    "ExecuteTime": {
     "end_time": "2025-03-27T14:18:28.633948Z",
     "start_time": "2025-03-27T14:18:28.626072Z"
    }
   },
   "outputs": [
    {
     "name": "stderr",
     "output_type": "stream",
     "text": [
      "INFO:trino.auth:keyring module not found. OAuth2 token will not be stored in keyring.\n"
     ]
    }
   ],
   "source": [
    "base_query_path = './queries/'\n",
    "dwh_config, livedb_config, parameters_config = utils.load_config(config_file='./config.ini')\n",
    "datalake_connection = qr.create_connection(db='datalake')\n",
    "#monolith_connection = qr.create_connection(user=livedb_config['monolith_username'], password=livedb_config['monolith_password'], db='livedb')\n",
    "#dispatching_db_connection = qr.create_connection(user=livedb_config['dispatching_db_username'], password=livedb_config['dispatching_db_password'], db='dispatchingdb')"
   ]
  },
  {
   "cell_type": "code",
   "execution_count": 3,
   "id": "f26eb0ba80de7f8e",
   "metadata": {
    "collapsed": false,
    "ExecuteTime": {
     "end_time": "2025-03-27T14:18:28.646200Z",
     "start_time": "2025-03-27T14:18:28.632504Z"
    }
   },
   "outputs": [
    {
     "name": "stdout",
     "output_type": "stream",
     "text": [
      "Start date: 2024-09-30 | End date: 2024-10-20 | Countries: ES | Cities: 'MAD', 'BCN', 'SEV', 'ALC'\n"
     ]
    }
   ],
   "source": [
    "start_date = parameters_config['start_date']\n",
    "end_date = parameters_config['end_date']\n",
    "country_code = parameters_config['country_code']\n",
    "cities = parameters_config['cities']\n",
    "\n",
    "print(f'Start date: {start_date} | End date: {end_date} | Countries: {country_code} | Cities: {cities}')"
   ]
  },
  {
   "cell_type": "code",
   "execution_count": 4,
   "id": "e3c251ccf4f2beb1",
   "metadata": {
    "collapsed": false,
    "ExecuteTime": {
     "end_time": "2025-03-27T14:18:28.649237Z",
     "start_time": "2025-03-27T14:18:28.637484Z"
    }
   },
   "outputs": [],
   "source": [
    "parameters = {\n",
    "    'start_date': start_date,\n",
    "    'end_date': end_date,\n",
    "    'country_code': country_code,\n",
    "    'cities': cities\n",
    "}"
   ]
  },
  {
   "cell_type": "markdown",
   "id": "9f700ca8f9a310ca",
   "metadata": {
    "collapsed": false
   },
   "source": [
    "## Load the dataset"
   ]
  },
  {
   "cell_type": "raw",
   "id": "f459d6342f561915",
   "metadata": {
    "collapsed": false
   },
   "source": [
    "data = pd.read_pickle(\"data/dataframe.pkl\")"
   ]
  },
  {
   "cell_type": "code",
   "execution_count": 5,
   "id": "5ecce593d1c02912",
   "metadata": {
    "collapsed": false,
    "ExecuteTime": {
     "end_time": "2025-03-27T14:18:29.435946Z",
     "start_time": "2025-03-27T14:18:28.639761Z"
    }
   },
   "outputs": [],
   "source": [
    "data = pd.read_parquet(\"data/parquet/dataframe.parquet\")"
   ]
  },
  {
   "cell_type": "markdown",
   "id": "b4f24b33b07b58e9",
   "metadata": {
    "collapsed": false
   },
   "source": [
    "## Hyperparameters"
   ]
  },
  {
   "cell_type": "code",
   "execution_count": 6,
   "id": "843f73749bdce7ee",
   "metadata": {
    "collapsed": false,
    "ExecuteTime": {
     "end_time": "2025-03-27T14:18:29.449267Z",
     "start_time": "2025-03-27T14:18:29.438800Z"
    }
   },
   "outputs": [],
   "source": [
    "test_set_perc = 0.1\n",
    "days_for_test = 7\n",
    "k_cv = 5"
   ]
  },
  {
   "cell_type": "markdown",
   "id": "3aed5934e3c1f8f",
   "metadata": {
    "collapsed": false
   },
   "source": [
    "## Database split"
   ]
  },
  {
   "cell_type": "markdown",
   "id": "7282f116c476aa5c",
   "metadata": {
    "collapsed": false
   },
   "source": [
    "As we have partitioned the data by city and creation date, we can use this information to split the data. This will help to avoid data leakage, as we will not have data from the future in the training set.\n",
    "This is much better than just sorting the data by the creation timestamp and taking 10% of the dataset as test set, as we did before."
   ]
  },
  {
   "cell_type": "code",
   "execution_count": 7,
   "id": "75c872336bd56642",
   "metadata": {
    "collapsed": false,
    "ExecuteTime": {
     "end_time": "2025-03-27T14:18:29.465122Z",
     "start_time": "2025-03-27T14:18:29.448639Z"
    }
   },
   "outputs": [
    {
     "name": "stdout",
     "output_type": "stream",
     "text": [
      "Start date: 2024-09-30 | Begin test date: 2024-10-14 | End date: 2024-10-20\n"
     ]
    }
   ],
   "source": [
    "# We take the last week of the dataset to test the model\n",
    "begin_test_date = pd.to_datetime(end_date) - pd.Timedelta(days=days_for_test-1)\n",
    "begin_test_date = begin_test_date.strftime(\"%Y-%m-%d\")\n",
    "print(f'Start date: {start_date} | Begin test date: {begin_test_date} | End date: {end_date}')"
   ]
  },
  {
   "cell_type": "code",
   "execution_count": 8,
   "id": "3ac70f793bb888aa",
   "metadata": {
    "collapsed": false,
    "ExecuteTime": {
     "end_time": "2025-03-27T14:18:29.836881Z",
     "start_time": "2025-03-27T14:18:29.456639Z"
    }
   },
   "outputs": [
    {
     "data": {
      "text/plain": "  country_code      order_id  courier_id        creation_timestamp  \\\n0           ES  100901312508    24750184 2024-09-30 20:48:58+00:00   \n1           ES  100901502888   114878043 2024-09-30 22:02:24+00:00   \n2           ES  100901552273   169065712 2024-09-30 22:29:26+00:00   \n3           ES  100901587119    98812119 2024-09-30 22:53:13+00:00   \n4           ES  100901593554   170866593 2024-09-30 22:58:15+00:00   \n\n       activation_timestamp  transport                 pickup_timestamp  \\\n0 2024-09-30 20:48:59+00:00        CAR 2024-09-30 21:05:11.892000+00:00   \n1 2024-09-30 22:02:25+00:00  MOTORBIKE 2024-09-30 22:18:10.583000+00:00   \n2 2024-09-30 22:29:26+00:00        CAR 2024-09-30 22:42:27.608000+00:00   \n3 2024-09-30 22:53:13+00:00        CAR 2024-09-30 23:13:58.938000+00:00   \n4 2024-09-30 22:58:17+00:00  MOTORBIKE 2024-09-30 23:08:24.577000+00:00   \n\n  delivery_entering_timestamp        delivery_timestamp  pickup_latitude  ...  \\\n0   2024-09-30 21:17:34+00:00 2024-09-30 21:20:22+00:00        38.391617  ...   \n1   2024-09-30 22:22:58+00:00 2024-09-30 22:23:44+00:00        38.338440  ...   \n2   2024-09-30 22:50:43+00:00 2024-09-30 22:56:36+00:00        38.366512  ...   \n3   2024-09-30 23:16:54+00:00 2024-09-30 23:21:06+00:00        38.359184  ...   \n4   2024-09-30 23:14:41+00:00 2024-09-30 23:16:10+00:00        38.345978  ...   \n\n   creation_hour  pickup_latitude_rad  pickup_longitude_rad  \\\n0             20             0.670060             -0.008959   \n1             22             0.669132             -0.008492   \n2             22             0.669622             -0.008200   \n3             22             0.669494             -0.008437   \n4             22             0.669264             -0.008514   \n\n  delivery_latitude_rad delivery_longitude_rad pd_distance_haversine_m  \\\n0              0.670057              -0.009104              724.460401   \n1              0.669226              -0.008693             1166.853169   \n2              0.669375              -0.008726             3065.108653   \n3              0.669460              -0.008370              400.794655   \n4              0.669439              -0.008415             1225.327574   \n\n   pd_distance_haversine_m_sk  pd_distance_manhattan_m  creation_date  \\\n0                  724.460401               742.866745     2024-09-30   \n1                 1166.853169              1601.094467     2024-09-30   \n2                 3065.108653              4208.852129     2024-09-30   \n3                  400.794655               555.236086     2024-09-30   \n4                 1225.327574              1618.610270     2024-09-30   \n\n   city_code  \n0        ALC  \n1        ALC  \n2        ALC  \n3        ALC  \n4        ALC  \n\n[5 rows x 26 columns]",
      "text/html": "<div>\n<style scoped>\n    .dataframe tbody tr th:only-of-type {\n        vertical-align: middle;\n    }\n\n    .dataframe tbody tr th {\n        vertical-align: top;\n    }\n\n    .dataframe thead th {\n        text-align: right;\n    }\n</style>\n<table border=\"1\" class=\"dataframe\">\n  <thead>\n    <tr style=\"text-align: right;\">\n      <th></th>\n      <th>country_code</th>\n      <th>order_id</th>\n      <th>courier_id</th>\n      <th>creation_timestamp</th>\n      <th>activation_timestamp</th>\n      <th>transport</th>\n      <th>pickup_timestamp</th>\n      <th>delivery_entering_timestamp</th>\n      <th>delivery_timestamp</th>\n      <th>pickup_latitude</th>\n      <th>...</th>\n      <th>creation_hour</th>\n      <th>pickup_latitude_rad</th>\n      <th>pickup_longitude_rad</th>\n      <th>delivery_latitude_rad</th>\n      <th>delivery_longitude_rad</th>\n      <th>pd_distance_haversine_m</th>\n      <th>pd_distance_haversine_m_sk</th>\n      <th>pd_distance_manhattan_m</th>\n      <th>creation_date</th>\n      <th>city_code</th>\n    </tr>\n  </thead>\n  <tbody>\n    <tr>\n      <th>0</th>\n      <td>ES</td>\n      <td>100901312508</td>\n      <td>24750184</td>\n      <td>2024-09-30 20:48:58+00:00</td>\n      <td>2024-09-30 20:48:59+00:00</td>\n      <td>CAR</td>\n      <td>2024-09-30 21:05:11.892000+00:00</td>\n      <td>2024-09-30 21:17:34+00:00</td>\n      <td>2024-09-30 21:20:22+00:00</td>\n      <td>38.391617</td>\n      <td>...</td>\n      <td>20</td>\n      <td>0.670060</td>\n      <td>-0.008959</td>\n      <td>0.670057</td>\n      <td>-0.009104</td>\n      <td>724.460401</td>\n      <td>724.460401</td>\n      <td>742.866745</td>\n      <td>2024-09-30</td>\n      <td>ALC</td>\n    </tr>\n    <tr>\n      <th>1</th>\n      <td>ES</td>\n      <td>100901502888</td>\n      <td>114878043</td>\n      <td>2024-09-30 22:02:24+00:00</td>\n      <td>2024-09-30 22:02:25+00:00</td>\n      <td>MOTORBIKE</td>\n      <td>2024-09-30 22:18:10.583000+00:00</td>\n      <td>2024-09-30 22:22:58+00:00</td>\n      <td>2024-09-30 22:23:44+00:00</td>\n      <td>38.338440</td>\n      <td>...</td>\n      <td>22</td>\n      <td>0.669132</td>\n      <td>-0.008492</td>\n      <td>0.669226</td>\n      <td>-0.008693</td>\n      <td>1166.853169</td>\n      <td>1166.853169</td>\n      <td>1601.094467</td>\n      <td>2024-09-30</td>\n      <td>ALC</td>\n    </tr>\n    <tr>\n      <th>2</th>\n      <td>ES</td>\n      <td>100901552273</td>\n      <td>169065712</td>\n      <td>2024-09-30 22:29:26+00:00</td>\n      <td>2024-09-30 22:29:26+00:00</td>\n      <td>CAR</td>\n      <td>2024-09-30 22:42:27.608000+00:00</td>\n      <td>2024-09-30 22:50:43+00:00</td>\n      <td>2024-09-30 22:56:36+00:00</td>\n      <td>38.366512</td>\n      <td>...</td>\n      <td>22</td>\n      <td>0.669622</td>\n      <td>-0.008200</td>\n      <td>0.669375</td>\n      <td>-0.008726</td>\n      <td>3065.108653</td>\n      <td>3065.108653</td>\n      <td>4208.852129</td>\n      <td>2024-09-30</td>\n      <td>ALC</td>\n    </tr>\n    <tr>\n      <th>3</th>\n      <td>ES</td>\n      <td>100901587119</td>\n      <td>98812119</td>\n      <td>2024-09-30 22:53:13+00:00</td>\n      <td>2024-09-30 22:53:13+00:00</td>\n      <td>CAR</td>\n      <td>2024-09-30 23:13:58.938000+00:00</td>\n      <td>2024-09-30 23:16:54+00:00</td>\n      <td>2024-09-30 23:21:06+00:00</td>\n      <td>38.359184</td>\n      <td>...</td>\n      <td>22</td>\n      <td>0.669494</td>\n      <td>-0.008437</td>\n      <td>0.669460</td>\n      <td>-0.008370</td>\n      <td>400.794655</td>\n      <td>400.794655</td>\n      <td>555.236086</td>\n      <td>2024-09-30</td>\n      <td>ALC</td>\n    </tr>\n    <tr>\n      <th>4</th>\n      <td>ES</td>\n      <td>100901593554</td>\n      <td>170866593</td>\n      <td>2024-09-30 22:58:15+00:00</td>\n      <td>2024-09-30 22:58:17+00:00</td>\n      <td>MOTORBIKE</td>\n      <td>2024-09-30 23:08:24.577000+00:00</td>\n      <td>2024-09-30 23:14:41+00:00</td>\n      <td>2024-09-30 23:16:10+00:00</td>\n      <td>38.345978</td>\n      <td>...</td>\n      <td>22</td>\n      <td>0.669264</td>\n      <td>-0.008514</td>\n      <td>0.669439</td>\n      <td>-0.008415</td>\n      <td>1225.327574</td>\n      <td>1225.327574</td>\n      <td>1618.610270</td>\n      <td>2024-09-30</td>\n      <td>ALC</td>\n    </tr>\n  </tbody>\n</table>\n<p>5 rows × 26 columns</p>\n</div>"
     },
     "execution_count": 8,
     "metadata": {},
     "output_type": "execute_result"
    }
   ],
   "source": [
    "X_train = pd.read_parquet(\"data/parquet/dataframe.parquet/\", filters=[('creation_date', '<', begin_test_date)])\n",
    "X_train.head()"
   ]
  },
  {
   "cell_type": "code",
   "execution_count": 9,
   "id": "74662b30246725ca",
   "metadata": {
    "collapsed": false,
    "ExecuteTime": {
     "end_time": "2025-03-27T14:18:30.019894Z",
     "start_time": "2025-03-27T14:18:29.973033Z"
    }
   },
   "outputs": [
    {
     "data": {
      "text/plain": "np.int64(0)"
     },
     "execution_count": 9,
     "metadata": {},
     "output_type": "execute_result"
    }
   ],
   "source": [
    "# Check that there are no nulls deriving from a wrong writing of parquet files (appending instead of overwriting)\n",
    "X_train.isnull().sum().sum()"
   ]
  },
  {
   "cell_type": "code",
   "execution_count": 10,
   "id": "7062f2936f260656",
   "metadata": {
    "collapsed": false,
    "ExecuteTime": {
     "end_time": "2025-03-27T14:18:30.072421Z",
     "start_time": "2025-03-27T14:18:30.020767Z"
    }
   },
   "outputs": [
    {
     "data": {
      "text/plain": "0        0 days 00:12:22.108000\n1        0 days 00:04:47.417000\n2        0 days 00:08:15.392000\n3        0 days 00:02:55.062000\n4        0 days 00:06:16.423000\n                  ...          \n678013   0 days 00:04:27.832000\n678014   0 days 00:05:29.981000\n678015   0 days 00:12:19.778000\n678016   0 days 00:08:33.237000\n678017   0 days 00:09:04.232000\nName: pickup_to_delivery, Length: 678018, dtype: timedelta64[ns]"
     },
     "execution_count": 10,
     "metadata": {},
     "output_type": "execute_result"
    }
   ],
   "source": [
    "y_train = X_train['delivery_entering_timestamp'] - X_train['pickup_timestamp']\n",
    "y_train = pd.Series(y_train, name='pickup_to_delivery')\n",
    "y_train"
   ]
  },
  {
   "cell_type": "code",
   "execution_count": 11,
   "id": "ab7c005256b289b6",
   "metadata": {
    "collapsed": false,
    "ExecuteTime": {
     "end_time": "2025-03-27T14:18:30.076755Z",
     "start_time": "2025-03-27T14:18:30.050707Z"
    }
   },
   "outputs": [
    {
     "data": {
      "text/plain": "np.int64(0)"
     },
     "execution_count": 11,
     "metadata": {},
     "output_type": "execute_result"
    }
   ],
   "source": [
    "y_train.isnull().sum().sum()"
   ]
  },
  {
   "cell_type": "code",
   "execution_count": 12,
   "id": "1830d6e04cb2eed0",
   "metadata": {
    "collapsed": false,
    "ExecuteTime": {
     "end_time": "2025-03-27T14:18:30.266272Z",
     "start_time": "2025-03-27T14:18:30.058612Z"
    }
   },
   "outputs": [
    {
     "data": {
      "text/plain": "  country_code      order_id  courier_id        creation_timestamp  \\\n0           ES  100931299686   172175095 2024-10-14 00:09:32+00:00   \n1           ES  100931323115   170201413 2024-10-14 00:50:44+00:00   \n2           ES  100931293587     2320936 2024-10-14 00:00:33+00:00   \n3           ES  100931297084    48156385 2024-10-14 00:05:52+00:00   \n4           ES  100931307238   177355044 2024-10-14 00:20:58+00:00   \n\n       activation_timestamp  transport                 pickup_timestamp  \\\n0 2024-10-14 00:09:34+00:00  MOTORBIKE 2024-10-14 00:28:54.317000+00:00   \n1 2024-10-14 10:12:43+00:00        CAR 2024-10-14 10:36:43.867000+00:00   \n2 2024-10-14 00:00:34+00:00        CAR 2024-10-14 00:11:05.783000+00:00   \n3 2024-10-14 00:05:53+00:00  MOTORBIKE 2024-10-14 00:25:18.815000+00:00   \n4 2024-10-14 00:20:59+00:00  MOTORBIKE 2024-10-14 00:39:33.601000+00:00   \n\n  delivery_entering_timestamp        delivery_timestamp  pickup_latitude  ...  \\\n0   2024-10-14 00:34:47+00:00 2024-10-14 00:36:48+00:00        38.382520  ...   \n1   2024-10-14 10:48:41+00:00 2024-10-14 10:53:34+00:00        38.348476  ...   \n2   2024-10-14 00:16:49+00:00 2024-10-14 00:17:38+00:00        38.425022  ...   \n3   2024-10-14 00:33:40+00:00 2024-10-14 00:40:31+00:00        38.348465  ...   \n4   2024-10-14 00:51:56+00:00 2024-10-14 00:57:26+00:00        38.338870  ...   \n\n   creation_hour  pickup_latitude_rad  pickup_longitude_rad  \\\n0              0             0.669901             -0.007882   \n1              0             0.669307             -0.008489   \n2              0             0.670643             -0.007077   \n3              0             0.669307             -0.008617   \n4              0             0.669140             -0.009017   \n\n  delivery_latitude_rad delivery_longitude_rad pd_distance_haversine_m  \\\n0              0.669500              -0.008304             3310.852444   \n1              0.669187              -0.008794             1705.517814   \n2              0.670889              -0.006727             2345.425073   \n3              0.669430              -0.008205             2201.177479   \n4              0.669468              -0.008548             3138.707723   \n\n   pd_distance_haversine_m_sk  pd_distance_manhattan_m  creation_date  \\\n0                 3310.852444              4665.700375     2024-10-14   \n1                 1705.517814              2292.240241     2024-10-14   \n2                 2345.425073              3315.503069     2024-10-14   \n3                 2201.177479              2843.624975     2024-10-14   \n4                 3138.707723              4436.739653     2024-10-14   \n\n   city_code  \n0        ALC  \n1        ALC  \n2        ALC  \n3        ALC  \n4        ALC  \n\n[5 rows x 26 columns]",
      "text/html": "<div>\n<style scoped>\n    .dataframe tbody tr th:only-of-type {\n        vertical-align: middle;\n    }\n\n    .dataframe tbody tr th {\n        vertical-align: top;\n    }\n\n    .dataframe thead th {\n        text-align: right;\n    }\n</style>\n<table border=\"1\" class=\"dataframe\">\n  <thead>\n    <tr style=\"text-align: right;\">\n      <th></th>\n      <th>country_code</th>\n      <th>order_id</th>\n      <th>courier_id</th>\n      <th>creation_timestamp</th>\n      <th>activation_timestamp</th>\n      <th>transport</th>\n      <th>pickup_timestamp</th>\n      <th>delivery_entering_timestamp</th>\n      <th>delivery_timestamp</th>\n      <th>pickup_latitude</th>\n      <th>...</th>\n      <th>creation_hour</th>\n      <th>pickup_latitude_rad</th>\n      <th>pickup_longitude_rad</th>\n      <th>delivery_latitude_rad</th>\n      <th>delivery_longitude_rad</th>\n      <th>pd_distance_haversine_m</th>\n      <th>pd_distance_haversine_m_sk</th>\n      <th>pd_distance_manhattan_m</th>\n      <th>creation_date</th>\n      <th>city_code</th>\n    </tr>\n  </thead>\n  <tbody>\n    <tr>\n      <th>0</th>\n      <td>ES</td>\n      <td>100931299686</td>\n      <td>172175095</td>\n      <td>2024-10-14 00:09:32+00:00</td>\n      <td>2024-10-14 00:09:34+00:00</td>\n      <td>MOTORBIKE</td>\n      <td>2024-10-14 00:28:54.317000+00:00</td>\n      <td>2024-10-14 00:34:47+00:00</td>\n      <td>2024-10-14 00:36:48+00:00</td>\n      <td>38.382520</td>\n      <td>...</td>\n      <td>0</td>\n      <td>0.669901</td>\n      <td>-0.007882</td>\n      <td>0.669500</td>\n      <td>-0.008304</td>\n      <td>3310.852444</td>\n      <td>3310.852444</td>\n      <td>4665.700375</td>\n      <td>2024-10-14</td>\n      <td>ALC</td>\n    </tr>\n    <tr>\n      <th>1</th>\n      <td>ES</td>\n      <td>100931323115</td>\n      <td>170201413</td>\n      <td>2024-10-14 00:50:44+00:00</td>\n      <td>2024-10-14 10:12:43+00:00</td>\n      <td>CAR</td>\n      <td>2024-10-14 10:36:43.867000+00:00</td>\n      <td>2024-10-14 10:48:41+00:00</td>\n      <td>2024-10-14 10:53:34+00:00</td>\n      <td>38.348476</td>\n      <td>...</td>\n      <td>0</td>\n      <td>0.669307</td>\n      <td>-0.008489</td>\n      <td>0.669187</td>\n      <td>-0.008794</td>\n      <td>1705.517814</td>\n      <td>1705.517814</td>\n      <td>2292.240241</td>\n      <td>2024-10-14</td>\n      <td>ALC</td>\n    </tr>\n    <tr>\n      <th>2</th>\n      <td>ES</td>\n      <td>100931293587</td>\n      <td>2320936</td>\n      <td>2024-10-14 00:00:33+00:00</td>\n      <td>2024-10-14 00:00:34+00:00</td>\n      <td>CAR</td>\n      <td>2024-10-14 00:11:05.783000+00:00</td>\n      <td>2024-10-14 00:16:49+00:00</td>\n      <td>2024-10-14 00:17:38+00:00</td>\n      <td>38.425022</td>\n      <td>...</td>\n      <td>0</td>\n      <td>0.670643</td>\n      <td>-0.007077</td>\n      <td>0.670889</td>\n      <td>-0.006727</td>\n      <td>2345.425073</td>\n      <td>2345.425073</td>\n      <td>3315.503069</td>\n      <td>2024-10-14</td>\n      <td>ALC</td>\n    </tr>\n    <tr>\n      <th>3</th>\n      <td>ES</td>\n      <td>100931297084</td>\n      <td>48156385</td>\n      <td>2024-10-14 00:05:52+00:00</td>\n      <td>2024-10-14 00:05:53+00:00</td>\n      <td>MOTORBIKE</td>\n      <td>2024-10-14 00:25:18.815000+00:00</td>\n      <td>2024-10-14 00:33:40+00:00</td>\n      <td>2024-10-14 00:40:31+00:00</td>\n      <td>38.348465</td>\n      <td>...</td>\n      <td>0</td>\n      <td>0.669307</td>\n      <td>-0.008617</td>\n      <td>0.669430</td>\n      <td>-0.008205</td>\n      <td>2201.177479</td>\n      <td>2201.177479</td>\n      <td>2843.624975</td>\n      <td>2024-10-14</td>\n      <td>ALC</td>\n    </tr>\n    <tr>\n      <th>4</th>\n      <td>ES</td>\n      <td>100931307238</td>\n      <td>177355044</td>\n      <td>2024-10-14 00:20:58+00:00</td>\n      <td>2024-10-14 00:20:59+00:00</td>\n      <td>MOTORBIKE</td>\n      <td>2024-10-14 00:39:33.601000+00:00</td>\n      <td>2024-10-14 00:51:56+00:00</td>\n      <td>2024-10-14 00:57:26+00:00</td>\n      <td>38.338870</td>\n      <td>...</td>\n      <td>0</td>\n      <td>0.669140</td>\n      <td>-0.009017</td>\n      <td>0.669468</td>\n      <td>-0.008548</td>\n      <td>3138.707723</td>\n      <td>3138.707723</td>\n      <td>4436.739653</td>\n      <td>2024-10-14</td>\n      <td>ALC</td>\n    </tr>\n  </tbody>\n</table>\n<p>5 rows × 26 columns</p>\n</div>"
     },
     "execution_count": 12,
     "metadata": {},
     "output_type": "execute_result"
    }
   ],
   "source": [
    "X_test = pd.read_parquet(\"data/parquet/dataframe.parquet\", filters=[('creation_date', '>=', begin_test_date)])\n",
    "X_test.head()"
   ]
  },
  {
   "cell_type": "code",
   "execution_count": 13,
   "id": "273b4efbb39767db",
   "metadata": {
    "collapsed": false,
    "ExecuteTime": {
     "end_time": "2025-03-27T14:18:30.387782Z",
     "start_time": "2025-03-27T14:18:30.327778Z"
    }
   },
   "outputs": [
    {
     "data": {
      "text/plain": "np.int64(0)"
     },
     "execution_count": 13,
     "metadata": {},
     "output_type": "execute_result"
    }
   ],
   "source": [
    "X_test.isnull().sum().sum()"
   ]
  },
  {
   "cell_type": "code",
   "execution_count": 14,
   "id": "52ce014a35efad12",
   "metadata": {
    "collapsed": false,
    "ExecuteTime": {
     "end_time": "2025-03-27T14:18:30.413646Z",
     "start_time": "2025-03-27T14:18:30.344434Z"
    }
   },
   "outputs": [
    {
     "data": {
      "text/plain": "0         352.683\n1         717.133\n2         343.217\n3         501.185\n4         742.399\n           ...   \n294448    155.306\n294449    371.268\n294450    742.575\n294451    786.619\n294452    194.149\nName: pickup_to_delivery, Length: 294453, dtype: float64"
     },
     "execution_count": 14,
     "metadata": {},
     "output_type": "execute_result"
    }
   ],
   "source": [
    "y_test = (X_test['delivery_entering_timestamp'] - X_test['pickup_timestamp']).dt.total_seconds()\n",
    "y_test = pd.Series(y_test, dtype=np.float64, name='pickup_to_delivery')\n",
    "y_test"
   ]
  },
  {
   "cell_type": "code",
   "execution_count": 15,
   "id": "cfb62def0b2bf287",
   "metadata": {
    "collapsed": false,
    "ExecuteTime": {
     "end_time": "2025-03-27T14:18:30.415712Z",
     "start_time": "2025-03-27T14:18:30.361529Z"
    }
   },
   "outputs": [
    {
     "data": {
      "text/plain": "np.int64(0)"
     },
     "execution_count": 15,
     "metadata": {},
     "output_type": "execute_result"
    }
   ],
   "source": [
    "y_test.isnull().sum().sum()"
   ]
  },
  {
   "cell_type": "code",
   "execution_count": 16,
   "id": "2d2fff1089f25047",
   "metadata": {
    "collapsed": false,
    "ExecuteTime": {
     "end_time": "2025-03-27T14:18:30.417247Z",
     "start_time": "2025-03-27T14:18:30.368046Z"
    }
   },
   "outputs": [
    {
     "name": "stdout",
     "output_type": "stream",
     "text": [
      "(678018, 26) (678018,)\n",
      "(294453, 26) (294453,)\n"
     ]
    }
   ],
   "source": [
    "print(X_train.shape, y_train.shape)\n",
    "print(X_test.shape, y_test.shape)"
   ]
  },
  {
   "cell_type": "markdown",
   "id": "e01843bd221d9df1",
   "metadata": {
    "collapsed": false
   },
   "source": [
    "## Baseline Models\n",
    "\n",
    "### BaselineModel_sum"
   ]
  },
  {
   "cell_type": "code",
   "execution_count": 17,
   "id": "7319e4fbfc086581",
   "metadata": {
    "collapsed": false,
    "ExecuteTime": {
     "end_time": "2025-03-27T14:18:30.772287Z",
     "start_time": "2025-03-27T14:18:30.370825Z"
    }
   },
   "outputs": [
    {
     "data": {
      "text/plain": "<estimator.BaselineModel_sum at 0x11e7de480>"
     },
     "execution_count": 17,
     "metadata": {},
     "output_type": "execute_result"
    }
   ],
   "source": [
    "model_bl_sum = BaselineModel_sum()\n",
    "model_bl_sum.fit(X_train, y_train)"
   ]
  },
  {
   "cell_type": "code",
   "execution_count": 18,
   "id": "98ce61d074b1f290",
   "metadata": {
    "collapsed": false,
    "ExecuteTime": {
     "end_time": "2025-03-27T14:18:47.677669Z",
     "start_time": "2025-03-27T14:18:30.772839Z"
    }
   },
   "outputs": [
    {
     "data": {
      "text/plain": "       country_code      order_id  courier_id        creation_timestamp  \\\n0                ES  100931299686   172175095 2024-10-14 00:09:32+00:00   \n1                ES  100931323115   170201413 2024-10-14 00:50:44+00:00   \n2                ES  100931293587     2320936 2024-10-14 00:00:33+00:00   \n3                ES  100931297084    48156385 2024-10-14 00:05:52+00:00   \n4                ES  100931307238   177355044 2024-10-14 00:20:58+00:00   \n...             ...           ...         ...                       ...   \n294448           ES  100944442019   176937248 2024-10-20 01:52:02+00:00   \n294449           ES  100944429020   177365485 2024-10-20 01:22:22+00:00   \n294450           ES  100944376912   175206228 2024-10-20 00:06:02+00:00   \n294451           ES  100944400312   174198829 2024-10-20 00:34:03+00:00   \n294452           ES  100944380973   168406068 2024-10-20 00:10:34+00:00   \n\n            activation_timestamp  transport                 pickup_timestamp  \\\n0      2024-10-14 00:09:34+00:00  MOTORBIKE 2024-10-14 00:28:54.317000+00:00   \n1      2024-10-14 10:12:43+00:00        CAR 2024-10-14 10:36:43.867000+00:00   \n2      2024-10-14 00:00:34+00:00        CAR 2024-10-14 00:11:05.783000+00:00   \n3      2024-10-14 00:05:53+00:00  MOTORBIKE 2024-10-14 00:25:18.815000+00:00   \n4      2024-10-14 00:20:59+00:00  MOTORBIKE 2024-10-14 00:39:33.601000+00:00   \n...                          ...        ...                              ...   \n294448 2024-10-20 01:52:03+00:00    BICYCLE 2024-10-20 02:03:27.694000+00:00   \n294449 2024-10-20 01:22:24+00:00    BICYCLE 2024-10-20 01:26:50.732000+00:00   \n294450 2024-10-20 00:06:03+00:00  MOTORBIKE 2024-10-20 00:15:41.425000+00:00   \n294451 2024-10-20 00:34:04+00:00    BICYCLE 2024-10-20 00:37:07.381000+00:00   \n294452 2024-10-20 00:10:35+00:00  MOTORBIKE 2024-10-20 00:22:44.851000+00:00   \n\n       delivery_entering_timestamp        delivery_timestamp  pickup_latitude  \\\n0        2024-10-14 00:34:47+00:00 2024-10-14 00:36:48+00:00        38.382520   \n1        2024-10-14 10:48:41+00:00 2024-10-14 10:53:34+00:00        38.348476   \n2        2024-10-14 00:16:49+00:00 2024-10-14 00:17:38+00:00        38.425022   \n3        2024-10-14 00:33:40+00:00 2024-10-14 00:40:31+00:00        38.348465   \n4        2024-10-14 00:51:56+00:00 2024-10-14 00:57:26+00:00        38.338870   \n...                            ...                       ...              ...   \n294448   2024-10-20 02:06:03+00:00 2024-10-20 02:08:10+00:00        37.381660   \n294449   2024-10-20 01:33:02+00:00 2024-10-20 01:33:49+00:00        37.377640   \n294450   2024-10-20 00:28:04+00:00 2024-10-20 00:30:14+00:00        37.378030   \n294451   2024-10-20 00:50:14+00:00 2024-10-20 00:52:55+00:00        37.377640   \n294452   2024-10-20 00:25:59+00:00 2024-10-20 00:28:42+00:00        37.392517   \n\n        ...  delivery_latitude_rad  delivery_longitude_rad  \\\n0       ...               0.669500               -0.008304   \n1       ...               0.669187               -0.008794   \n2       ...               0.670889               -0.006727   \n3       ...               0.669430               -0.008205   \n4       ...               0.669468               -0.008548   \n...     ...                    ...                     ...   \n294448  ...               0.652397               -0.104685   \n294449  ...               0.652338               -0.104664   \n294450  ...               0.652579               -0.104711   \n294451  ...               0.652052               -0.104474   \n294452  ...               0.652643               -0.104562   \n\n        pd_distance_haversine_m pd_distance_haversine_m_sk  \\\n0                   3310.852444                3310.852444   \n1                   1705.517814                1705.517814   \n2                   2345.425073                2345.425073   \n3                   2201.177479                2201.177479   \n4                   3138.707723                3138.707723   \n...                         ...                        ...   \n294448               344.207294                 344.207294   \n294449               465.768645                 465.768645   \n294450              1338.584915                1338.584915   \n294451              2425.338748                2425.338748   \n294452               383.352616                 383.352616   \n\n       pd_distance_manhattan_m creation_date  city_code  y_test_predicted  \\\n0                  4665.700375    2024-10-14        ALC       1058.713967   \n1                  2292.240241    2024-10-14        ALC        481.340514   \n2                  3315.503069    2024-10-14        ALC        661.938621   \n3                  2843.624975    2024-10-14        ALC        703.872305   \n4                  4436.739653    2024-10-14        ALC       1003.667110   \n...                        ...           ...        ...               ...   \n294448              486.272035    2024-10-20        SEV        129.421560   \n294449              595.324438    2024-10-20        SEV        175.128493   \n294450             1474.909884    2024-10-20        SEV        428.040382   \n294451             3384.627931    2024-10-20        SEV        911.924673   \n294452              490.752279    2024-10-20        SEV        122.584976   \n\n         y_test        diff  \n0       352.683  706.030967  \n1       717.133 -235.792486  \n2       343.217  318.721621  \n3       501.185  202.687305  \n4       742.399  261.268110  \n...         ...         ...  \n294448  155.306  -25.884440  \n294449  371.268 -196.139507  \n294450  742.575 -314.534618  \n294451  786.619  125.305673  \n294452  194.149  -71.564024  \n\n[294453 rows x 29 columns]",
      "text/html": "<div>\n<style scoped>\n    .dataframe tbody tr th:only-of-type {\n        vertical-align: middle;\n    }\n\n    .dataframe tbody tr th {\n        vertical-align: top;\n    }\n\n    .dataframe thead th {\n        text-align: right;\n    }\n</style>\n<table border=\"1\" class=\"dataframe\">\n  <thead>\n    <tr style=\"text-align: right;\">\n      <th></th>\n      <th>country_code</th>\n      <th>order_id</th>\n      <th>courier_id</th>\n      <th>creation_timestamp</th>\n      <th>activation_timestamp</th>\n      <th>transport</th>\n      <th>pickup_timestamp</th>\n      <th>delivery_entering_timestamp</th>\n      <th>delivery_timestamp</th>\n      <th>pickup_latitude</th>\n      <th>...</th>\n      <th>delivery_latitude_rad</th>\n      <th>delivery_longitude_rad</th>\n      <th>pd_distance_haversine_m</th>\n      <th>pd_distance_haversine_m_sk</th>\n      <th>pd_distance_manhattan_m</th>\n      <th>creation_date</th>\n      <th>city_code</th>\n      <th>y_test_predicted</th>\n      <th>y_test</th>\n      <th>diff</th>\n    </tr>\n  </thead>\n  <tbody>\n    <tr>\n      <th>0</th>\n      <td>ES</td>\n      <td>100931299686</td>\n      <td>172175095</td>\n      <td>2024-10-14 00:09:32+00:00</td>\n      <td>2024-10-14 00:09:34+00:00</td>\n      <td>MOTORBIKE</td>\n      <td>2024-10-14 00:28:54.317000+00:00</td>\n      <td>2024-10-14 00:34:47+00:00</td>\n      <td>2024-10-14 00:36:48+00:00</td>\n      <td>38.382520</td>\n      <td>...</td>\n      <td>0.669500</td>\n      <td>-0.008304</td>\n      <td>3310.852444</td>\n      <td>3310.852444</td>\n      <td>4665.700375</td>\n      <td>2024-10-14</td>\n      <td>ALC</td>\n      <td>1058.713967</td>\n      <td>352.683</td>\n      <td>706.030967</td>\n    </tr>\n    <tr>\n      <th>1</th>\n      <td>ES</td>\n      <td>100931323115</td>\n      <td>170201413</td>\n      <td>2024-10-14 00:50:44+00:00</td>\n      <td>2024-10-14 10:12:43+00:00</td>\n      <td>CAR</td>\n      <td>2024-10-14 10:36:43.867000+00:00</td>\n      <td>2024-10-14 10:48:41+00:00</td>\n      <td>2024-10-14 10:53:34+00:00</td>\n      <td>38.348476</td>\n      <td>...</td>\n      <td>0.669187</td>\n      <td>-0.008794</td>\n      <td>1705.517814</td>\n      <td>1705.517814</td>\n      <td>2292.240241</td>\n      <td>2024-10-14</td>\n      <td>ALC</td>\n      <td>481.340514</td>\n      <td>717.133</td>\n      <td>-235.792486</td>\n    </tr>\n    <tr>\n      <th>2</th>\n      <td>ES</td>\n      <td>100931293587</td>\n      <td>2320936</td>\n      <td>2024-10-14 00:00:33+00:00</td>\n      <td>2024-10-14 00:00:34+00:00</td>\n      <td>CAR</td>\n      <td>2024-10-14 00:11:05.783000+00:00</td>\n      <td>2024-10-14 00:16:49+00:00</td>\n      <td>2024-10-14 00:17:38+00:00</td>\n      <td>38.425022</td>\n      <td>...</td>\n      <td>0.670889</td>\n      <td>-0.006727</td>\n      <td>2345.425073</td>\n      <td>2345.425073</td>\n      <td>3315.503069</td>\n      <td>2024-10-14</td>\n      <td>ALC</td>\n      <td>661.938621</td>\n      <td>343.217</td>\n      <td>318.721621</td>\n    </tr>\n    <tr>\n      <th>3</th>\n      <td>ES</td>\n      <td>100931297084</td>\n      <td>48156385</td>\n      <td>2024-10-14 00:05:52+00:00</td>\n      <td>2024-10-14 00:05:53+00:00</td>\n      <td>MOTORBIKE</td>\n      <td>2024-10-14 00:25:18.815000+00:00</td>\n      <td>2024-10-14 00:33:40+00:00</td>\n      <td>2024-10-14 00:40:31+00:00</td>\n      <td>38.348465</td>\n      <td>...</td>\n      <td>0.669430</td>\n      <td>-0.008205</td>\n      <td>2201.177479</td>\n      <td>2201.177479</td>\n      <td>2843.624975</td>\n      <td>2024-10-14</td>\n      <td>ALC</td>\n      <td>703.872305</td>\n      <td>501.185</td>\n      <td>202.687305</td>\n    </tr>\n    <tr>\n      <th>4</th>\n      <td>ES</td>\n      <td>100931307238</td>\n      <td>177355044</td>\n      <td>2024-10-14 00:20:58+00:00</td>\n      <td>2024-10-14 00:20:59+00:00</td>\n      <td>MOTORBIKE</td>\n      <td>2024-10-14 00:39:33.601000+00:00</td>\n      <td>2024-10-14 00:51:56+00:00</td>\n      <td>2024-10-14 00:57:26+00:00</td>\n      <td>38.338870</td>\n      <td>...</td>\n      <td>0.669468</td>\n      <td>-0.008548</td>\n      <td>3138.707723</td>\n      <td>3138.707723</td>\n      <td>4436.739653</td>\n      <td>2024-10-14</td>\n      <td>ALC</td>\n      <td>1003.667110</td>\n      <td>742.399</td>\n      <td>261.268110</td>\n    </tr>\n    <tr>\n      <th>...</th>\n      <td>...</td>\n      <td>...</td>\n      <td>...</td>\n      <td>...</td>\n      <td>...</td>\n      <td>...</td>\n      <td>...</td>\n      <td>...</td>\n      <td>...</td>\n      <td>...</td>\n      <td>...</td>\n      <td>...</td>\n      <td>...</td>\n      <td>...</td>\n      <td>...</td>\n      <td>...</td>\n      <td>...</td>\n      <td>...</td>\n      <td>...</td>\n      <td>...</td>\n      <td>...</td>\n    </tr>\n    <tr>\n      <th>294448</th>\n      <td>ES</td>\n      <td>100944442019</td>\n      <td>176937248</td>\n      <td>2024-10-20 01:52:02+00:00</td>\n      <td>2024-10-20 01:52:03+00:00</td>\n      <td>BICYCLE</td>\n      <td>2024-10-20 02:03:27.694000+00:00</td>\n      <td>2024-10-20 02:06:03+00:00</td>\n      <td>2024-10-20 02:08:10+00:00</td>\n      <td>37.381660</td>\n      <td>...</td>\n      <td>0.652397</td>\n      <td>-0.104685</td>\n      <td>344.207294</td>\n      <td>344.207294</td>\n      <td>486.272035</td>\n      <td>2024-10-20</td>\n      <td>SEV</td>\n      <td>129.421560</td>\n      <td>155.306</td>\n      <td>-25.884440</td>\n    </tr>\n    <tr>\n      <th>294449</th>\n      <td>ES</td>\n      <td>100944429020</td>\n      <td>177365485</td>\n      <td>2024-10-20 01:22:22+00:00</td>\n      <td>2024-10-20 01:22:24+00:00</td>\n      <td>BICYCLE</td>\n      <td>2024-10-20 01:26:50.732000+00:00</td>\n      <td>2024-10-20 01:33:02+00:00</td>\n      <td>2024-10-20 01:33:49+00:00</td>\n      <td>37.377640</td>\n      <td>...</td>\n      <td>0.652338</td>\n      <td>-0.104664</td>\n      <td>465.768645</td>\n      <td>465.768645</td>\n      <td>595.324438</td>\n      <td>2024-10-20</td>\n      <td>SEV</td>\n      <td>175.128493</td>\n      <td>371.268</td>\n      <td>-196.139507</td>\n    </tr>\n    <tr>\n      <th>294450</th>\n      <td>ES</td>\n      <td>100944376912</td>\n      <td>175206228</td>\n      <td>2024-10-20 00:06:02+00:00</td>\n      <td>2024-10-20 00:06:03+00:00</td>\n      <td>MOTORBIKE</td>\n      <td>2024-10-20 00:15:41.425000+00:00</td>\n      <td>2024-10-20 00:28:04+00:00</td>\n      <td>2024-10-20 00:30:14+00:00</td>\n      <td>37.378030</td>\n      <td>...</td>\n      <td>0.652579</td>\n      <td>-0.104711</td>\n      <td>1338.584915</td>\n      <td>1338.584915</td>\n      <td>1474.909884</td>\n      <td>2024-10-20</td>\n      <td>SEV</td>\n      <td>428.040382</td>\n      <td>742.575</td>\n      <td>-314.534618</td>\n    </tr>\n    <tr>\n      <th>294451</th>\n      <td>ES</td>\n      <td>100944400312</td>\n      <td>174198829</td>\n      <td>2024-10-20 00:34:03+00:00</td>\n      <td>2024-10-20 00:34:04+00:00</td>\n      <td>BICYCLE</td>\n      <td>2024-10-20 00:37:07.381000+00:00</td>\n      <td>2024-10-20 00:50:14+00:00</td>\n      <td>2024-10-20 00:52:55+00:00</td>\n      <td>37.377640</td>\n      <td>...</td>\n      <td>0.652052</td>\n      <td>-0.104474</td>\n      <td>2425.338748</td>\n      <td>2425.338748</td>\n      <td>3384.627931</td>\n      <td>2024-10-20</td>\n      <td>SEV</td>\n      <td>911.924673</td>\n      <td>786.619</td>\n      <td>125.305673</td>\n    </tr>\n    <tr>\n      <th>294452</th>\n      <td>ES</td>\n      <td>100944380973</td>\n      <td>168406068</td>\n      <td>2024-10-20 00:10:34+00:00</td>\n      <td>2024-10-20 00:10:35+00:00</td>\n      <td>MOTORBIKE</td>\n      <td>2024-10-20 00:22:44.851000+00:00</td>\n      <td>2024-10-20 00:25:59+00:00</td>\n      <td>2024-10-20 00:28:42+00:00</td>\n      <td>37.392517</td>\n      <td>...</td>\n      <td>0.652643</td>\n      <td>-0.104562</td>\n      <td>383.352616</td>\n      <td>383.352616</td>\n      <td>490.752279</td>\n      <td>2024-10-20</td>\n      <td>SEV</td>\n      <td>122.584976</td>\n      <td>194.149</td>\n      <td>-71.564024</td>\n    </tr>\n  </tbody>\n</table>\n<p>294453 rows × 29 columns</p>\n</div>"
     },
     "execution_count": 18,
     "metadata": {},
     "output_type": "execute_result"
    }
   ],
   "source": [
    "X_test_expanded = X_test.copy()\n",
    "X_test_expanded['y_test_predicted'] = model_bl_sum.predict(X_test)\n",
    "X_test_expanded['y_test'] = (X_test_expanded['delivery_entering_timestamp'] - X_test_expanded['pickup_timestamp']).dt.total_seconds()\n",
    "X_test_expanded['diff'] = X_test_expanded['y_test_predicted'] - X_test_expanded['y_test']\n",
    "X_test_expanded"
   ]
  },
  {
   "cell_type": "code",
   "execution_count": 19,
   "id": "db7ceb8d51efef42",
   "metadata": {
    "collapsed": false,
    "ExecuteTime": {
     "end_time": "2025-03-27T14:18:47.691666Z",
     "start_time": "2025-03-27T14:18:47.680283Z"
    }
   },
   "outputs": [
    {
     "data": {
      "text/plain": "0    1058.713967\nName: pickup_to_delivery_predicted, dtype: float64"
     },
     "execution_count": 19,
     "metadata": {},
     "output_type": "execute_result"
    }
   ],
   "source": [
    "model_bl_sum.predict(X_test.iloc[0])"
   ]
  },
  {
   "cell_type": "markdown",
   "source": [
    "### Evaluation pipeline"
   ],
   "metadata": {
    "collapsed": false
   },
   "id": "8d47f07bb7e3c533"
  },
  {
   "cell_type": "code",
   "execution_count": 20,
   "id": "92356bab8168e738",
   "metadata": {
    "collapsed": false,
    "ExecuteTime": {
     "end_time": "2025-03-27T14:19:03.821236Z",
     "start_time": "2025-03-27T14:18:47.686113Z"
    }
   },
   "outputs": [
    {
     "name": "stdout",
     "output_type": "stream",
     "text": [
      "y_hat <class 'pandas.core.series.Series'> float64\n",
      "y_test <class 'pandas.core.series.Series'> float64\n"
     ]
    },
    {
     "data": {
      "text/plain": "(np.float64(145.70644138823337), np.float64(52878.818095554445))"
     },
     "execution_count": 20,
     "metadata": {},
     "output_type": "execute_result"
    }
   ],
   "source": [
    "model_bl_sum.evaluate(X_test, y_test)"
   ]
  },
  {
   "cell_type": "markdown",
   "source": [
    "### BaselineModel_mean"
   ],
   "metadata": {
    "collapsed": false
   },
   "id": "3d31a26bb43bab07"
  },
  {
   "cell_type": "code",
   "outputs": [
    {
     "data": {
      "text/plain": "<estimator.BaselineModel_mean at 0x11e9d03b0>"
     },
     "execution_count": 21,
     "metadata": {},
     "output_type": "execute_result"
    }
   ],
   "source": [
    "model_bl_mean = BaselineModel_mean()\n",
    "model_bl_mean.fit(X_train, y_train)"
   ],
   "metadata": {
    "collapsed": false,
    "ExecuteTime": {
     "end_time": "2025-03-27T14:19:04.138431Z",
     "start_time": "2025-03-27T14:19:03.822170Z"
    }
   },
   "id": "199e5c6e339d7c1",
   "execution_count": 21
  },
  {
   "cell_type": "code",
   "outputs": [
    {
     "data": {
      "text/plain": "       country_code      order_id  courier_id        creation_timestamp  \\\n0                ES  100931299686   172175095 2024-10-14 00:09:32+00:00   \n1                ES  100931323115   170201413 2024-10-14 00:50:44+00:00   \n2                ES  100931293587     2320936 2024-10-14 00:00:33+00:00   \n3                ES  100931297084    48156385 2024-10-14 00:05:52+00:00   \n4                ES  100931307238   177355044 2024-10-14 00:20:58+00:00   \n...             ...           ...         ...                       ...   \n294448           ES  100944442019   176937248 2024-10-20 01:52:02+00:00   \n294449           ES  100944429020   177365485 2024-10-20 01:22:22+00:00   \n294450           ES  100944376912   175206228 2024-10-20 00:06:02+00:00   \n294451           ES  100944400312   174198829 2024-10-20 00:34:03+00:00   \n294452           ES  100944380973   168406068 2024-10-20 00:10:34+00:00   \n\n            activation_timestamp  transport                 pickup_timestamp  \\\n0      2024-10-14 00:09:34+00:00  MOTORBIKE 2024-10-14 00:28:54.317000+00:00   \n1      2024-10-14 10:12:43+00:00        CAR 2024-10-14 10:36:43.867000+00:00   \n2      2024-10-14 00:00:34+00:00        CAR 2024-10-14 00:11:05.783000+00:00   \n3      2024-10-14 00:05:53+00:00  MOTORBIKE 2024-10-14 00:25:18.815000+00:00   \n4      2024-10-14 00:20:59+00:00  MOTORBIKE 2024-10-14 00:39:33.601000+00:00   \n...                          ...        ...                              ...   \n294448 2024-10-20 01:52:03+00:00    BICYCLE 2024-10-20 02:03:27.694000+00:00   \n294449 2024-10-20 01:22:24+00:00    BICYCLE 2024-10-20 01:26:50.732000+00:00   \n294450 2024-10-20 00:06:03+00:00  MOTORBIKE 2024-10-20 00:15:41.425000+00:00   \n294451 2024-10-20 00:34:04+00:00    BICYCLE 2024-10-20 00:37:07.381000+00:00   \n294452 2024-10-20 00:10:35+00:00  MOTORBIKE 2024-10-20 00:22:44.851000+00:00   \n\n       delivery_entering_timestamp        delivery_timestamp  pickup_latitude  \\\n0        2024-10-14 00:34:47+00:00 2024-10-14 00:36:48+00:00        38.382520   \n1        2024-10-14 10:48:41+00:00 2024-10-14 10:53:34+00:00        38.348476   \n2        2024-10-14 00:16:49+00:00 2024-10-14 00:17:38+00:00        38.425022   \n3        2024-10-14 00:33:40+00:00 2024-10-14 00:40:31+00:00        38.348465   \n4        2024-10-14 00:51:56+00:00 2024-10-14 00:57:26+00:00        38.338870   \n...                            ...                       ...              ...   \n294448   2024-10-20 02:06:03+00:00 2024-10-20 02:08:10+00:00        37.381660   \n294449   2024-10-20 01:33:02+00:00 2024-10-20 01:33:49+00:00        37.377640   \n294450   2024-10-20 00:28:04+00:00 2024-10-20 00:30:14+00:00        37.378030   \n294451   2024-10-20 00:50:14+00:00 2024-10-20 00:52:55+00:00        37.377640   \n294452   2024-10-20 00:25:59+00:00 2024-10-20 00:28:42+00:00        37.392517   \n\n        ...  delivery_latitude_rad  delivery_longitude_rad  \\\n0       ...               0.669500               -0.008304   \n1       ...               0.669187               -0.008794   \n2       ...               0.670889               -0.006727   \n3       ...               0.669430               -0.008205   \n4       ...               0.669468               -0.008548   \n...     ...                    ...                     ...   \n294448  ...               0.652397               -0.104685   \n294449  ...               0.652338               -0.104664   \n294450  ...               0.652579               -0.104711   \n294451  ...               0.652052               -0.104474   \n294452  ...               0.652643               -0.104562   \n\n        pd_distance_haversine_m pd_distance_haversine_m_sk  \\\n0                   3310.852444                3310.852444   \n1                   1705.517814                1705.517814   \n2                   2345.425073                2345.425073   \n3                   2201.177479                2201.177479   \n4                   3138.707723                3138.707723   \n...                         ...                        ...   \n294448               344.207294                 344.207294   \n294449               465.768645                 465.768645   \n294450              1338.584915                1338.584915   \n294451              2425.338748                2425.338748   \n294452               383.352616                 383.352616   \n\n       pd_distance_manhattan_m creation_date  city_code  y_test_predicted  \\\n0                  4665.700375    2024-10-14        ALC        744.414334   \n1                  2292.240241    2024-10-14        ALC        687.926270   \n2                  3315.503069    2024-10-14        ALC        946.034987   \n3                  2843.624975    2024-10-14        ALC        494.914254   \n4                  4436.739653    2024-10-14        ALC        705.709197   \n...                        ...           ...        ...               ...   \n294448              486.272035    2024-10-20        SEV        113.126948   \n294449              595.324438    2024-10-20        SEV        153.079224   \n294450             1474.909884    2024-10-20        SEV        300.968350   \n294451             3384.627931    2024-10-20        SEV        797.110276   \n294452              490.752279    2024-10-20        SEV         86.193265   \n\n         y_test        diff  \n0       352.683  391.731334  \n1       717.133  -29.206730  \n2       343.217  602.817987  \n3       501.185   -6.270746  \n4       742.399  -36.689803  \n...         ...         ...  \n294448  155.306  -42.179052  \n294449  371.268 -218.188776  \n294450  742.575 -441.606650  \n294451  786.619   10.491276  \n294452  194.149 -107.955735  \n\n[294453 rows x 29 columns]",
      "text/html": "<div>\n<style scoped>\n    .dataframe tbody tr th:only-of-type {\n        vertical-align: middle;\n    }\n\n    .dataframe tbody tr th {\n        vertical-align: top;\n    }\n\n    .dataframe thead th {\n        text-align: right;\n    }\n</style>\n<table border=\"1\" class=\"dataframe\">\n  <thead>\n    <tr style=\"text-align: right;\">\n      <th></th>\n      <th>country_code</th>\n      <th>order_id</th>\n      <th>courier_id</th>\n      <th>creation_timestamp</th>\n      <th>activation_timestamp</th>\n      <th>transport</th>\n      <th>pickup_timestamp</th>\n      <th>delivery_entering_timestamp</th>\n      <th>delivery_timestamp</th>\n      <th>pickup_latitude</th>\n      <th>...</th>\n      <th>delivery_latitude_rad</th>\n      <th>delivery_longitude_rad</th>\n      <th>pd_distance_haversine_m</th>\n      <th>pd_distance_haversine_m_sk</th>\n      <th>pd_distance_manhattan_m</th>\n      <th>creation_date</th>\n      <th>city_code</th>\n      <th>y_test_predicted</th>\n      <th>y_test</th>\n      <th>diff</th>\n    </tr>\n  </thead>\n  <tbody>\n    <tr>\n      <th>0</th>\n      <td>ES</td>\n      <td>100931299686</td>\n      <td>172175095</td>\n      <td>2024-10-14 00:09:32+00:00</td>\n      <td>2024-10-14 00:09:34+00:00</td>\n      <td>MOTORBIKE</td>\n      <td>2024-10-14 00:28:54.317000+00:00</td>\n      <td>2024-10-14 00:34:47+00:00</td>\n      <td>2024-10-14 00:36:48+00:00</td>\n      <td>38.382520</td>\n      <td>...</td>\n      <td>0.669500</td>\n      <td>-0.008304</td>\n      <td>3310.852444</td>\n      <td>3310.852444</td>\n      <td>4665.700375</td>\n      <td>2024-10-14</td>\n      <td>ALC</td>\n      <td>744.414334</td>\n      <td>352.683</td>\n      <td>391.731334</td>\n    </tr>\n    <tr>\n      <th>1</th>\n      <td>ES</td>\n      <td>100931323115</td>\n      <td>170201413</td>\n      <td>2024-10-14 00:50:44+00:00</td>\n      <td>2024-10-14 10:12:43+00:00</td>\n      <td>CAR</td>\n      <td>2024-10-14 10:36:43.867000+00:00</td>\n      <td>2024-10-14 10:48:41+00:00</td>\n      <td>2024-10-14 10:53:34+00:00</td>\n      <td>38.348476</td>\n      <td>...</td>\n      <td>0.669187</td>\n      <td>-0.008794</td>\n      <td>1705.517814</td>\n      <td>1705.517814</td>\n      <td>2292.240241</td>\n      <td>2024-10-14</td>\n      <td>ALC</td>\n      <td>687.926270</td>\n      <td>717.133</td>\n      <td>-29.206730</td>\n    </tr>\n    <tr>\n      <th>2</th>\n      <td>ES</td>\n      <td>100931293587</td>\n      <td>2320936</td>\n      <td>2024-10-14 00:00:33+00:00</td>\n      <td>2024-10-14 00:00:34+00:00</td>\n      <td>CAR</td>\n      <td>2024-10-14 00:11:05.783000+00:00</td>\n      <td>2024-10-14 00:16:49+00:00</td>\n      <td>2024-10-14 00:17:38+00:00</td>\n      <td>38.425022</td>\n      <td>...</td>\n      <td>0.670889</td>\n      <td>-0.006727</td>\n      <td>2345.425073</td>\n      <td>2345.425073</td>\n      <td>3315.503069</td>\n      <td>2024-10-14</td>\n      <td>ALC</td>\n      <td>946.034987</td>\n      <td>343.217</td>\n      <td>602.817987</td>\n    </tr>\n    <tr>\n      <th>3</th>\n      <td>ES</td>\n      <td>100931297084</td>\n      <td>48156385</td>\n      <td>2024-10-14 00:05:52+00:00</td>\n      <td>2024-10-14 00:05:53+00:00</td>\n      <td>MOTORBIKE</td>\n      <td>2024-10-14 00:25:18.815000+00:00</td>\n      <td>2024-10-14 00:33:40+00:00</td>\n      <td>2024-10-14 00:40:31+00:00</td>\n      <td>38.348465</td>\n      <td>...</td>\n      <td>0.669430</td>\n      <td>-0.008205</td>\n      <td>2201.177479</td>\n      <td>2201.177479</td>\n      <td>2843.624975</td>\n      <td>2024-10-14</td>\n      <td>ALC</td>\n      <td>494.914254</td>\n      <td>501.185</td>\n      <td>-6.270746</td>\n    </tr>\n    <tr>\n      <th>4</th>\n      <td>ES</td>\n      <td>100931307238</td>\n      <td>177355044</td>\n      <td>2024-10-14 00:20:58+00:00</td>\n      <td>2024-10-14 00:20:59+00:00</td>\n      <td>MOTORBIKE</td>\n      <td>2024-10-14 00:39:33.601000+00:00</td>\n      <td>2024-10-14 00:51:56+00:00</td>\n      <td>2024-10-14 00:57:26+00:00</td>\n      <td>38.338870</td>\n      <td>...</td>\n      <td>0.669468</td>\n      <td>-0.008548</td>\n      <td>3138.707723</td>\n      <td>3138.707723</td>\n      <td>4436.739653</td>\n      <td>2024-10-14</td>\n      <td>ALC</td>\n      <td>705.709197</td>\n      <td>742.399</td>\n      <td>-36.689803</td>\n    </tr>\n    <tr>\n      <th>...</th>\n      <td>...</td>\n      <td>...</td>\n      <td>...</td>\n      <td>...</td>\n      <td>...</td>\n      <td>...</td>\n      <td>...</td>\n      <td>...</td>\n      <td>...</td>\n      <td>...</td>\n      <td>...</td>\n      <td>...</td>\n      <td>...</td>\n      <td>...</td>\n      <td>...</td>\n      <td>...</td>\n      <td>...</td>\n      <td>...</td>\n      <td>...</td>\n      <td>...</td>\n      <td>...</td>\n    </tr>\n    <tr>\n      <th>294448</th>\n      <td>ES</td>\n      <td>100944442019</td>\n      <td>176937248</td>\n      <td>2024-10-20 01:52:02+00:00</td>\n      <td>2024-10-20 01:52:03+00:00</td>\n      <td>BICYCLE</td>\n      <td>2024-10-20 02:03:27.694000+00:00</td>\n      <td>2024-10-20 02:06:03+00:00</td>\n      <td>2024-10-20 02:08:10+00:00</td>\n      <td>37.381660</td>\n      <td>...</td>\n      <td>0.652397</td>\n      <td>-0.104685</td>\n      <td>344.207294</td>\n      <td>344.207294</td>\n      <td>486.272035</td>\n      <td>2024-10-20</td>\n      <td>SEV</td>\n      <td>113.126948</td>\n      <td>155.306</td>\n      <td>-42.179052</td>\n    </tr>\n    <tr>\n      <th>294449</th>\n      <td>ES</td>\n      <td>100944429020</td>\n      <td>177365485</td>\n      <td>2024-10-20 01:22:22+00:00</td>\n      <td>2024-10-20 01:22:24+00:00</td>\n      <td>BICYCLE</td>\n      <td>2024-10-20 01:26:50.732000+00:00</td>\n      <td>2024-10-20 01:33:02+00:00</td>\n      <td>2024-10-20 01:33:49+00:00</td>\n      <td>37.377640</td>\n      <td>...</td>\n      <td>0.652338</td>\n      <td>-0.104664</td>\n      <td>465.768645</td>\n      <td>465.768645</td>\n      <td>595.324438</td>\n      <td>2024-10-20</td>\n      <td>SEV</td>\n      <td>153.079224</td>\n      <td>371.268</td>\n      <td>-218.188776</td>\n    </tr>\n    <tr>\n      <th>294450</th>\n      <td>ES</td>\n      <td>100944376912</td>\n      <td>175206228</td>\n      <td>2024-10-20 00:06:02+00:00</td>\n      <td>2024-10-20 00:06:03+00:00</td>\n      <td>MOTORBIKE</td>\n      <td>2024-10-20 00:15:41.425000+00:00</td>\n      <td>2024-10-20 00:28:04+00:00</td>\n      <td>2024-10-20 00:30:14+00:00</td>\n      <td>37.378030</td>\n      <td>...</td>\n      <td>0.652579</td>\n      <td>-0.104711</td>\n      <td>1338.584915</td>\n      <td>1338.584915</td>\n      <td>1474.909884</td>\n      <td>2024-10-20</td>\n      <td>SEV</td>\n      <td>300.968350</td>\n      <td>742.575</td>\n      <td>-441.606650</td>\n    </tr>\n    <tr>\n      <th>294451</th>\n      <td>ES</td>\n      <td>100944400312</td>\n      <td>174198829</td>\n      <td>2024-10-20 00:34:03+00:00</td>\n      <td>2024-10-20 00:34:04+00:00</td>\n      <td>BICYCLE</td>\n      <td>2024-10-20 00:37:07.381000+00:00</td>\n      <td>2024-10-20 00:50:14+00:00</td>\n      <td>2024-10-20 00:52:55+00:00</td>\n      <td>37.377640</td>\n      <td>...</td>\n      <td>0.652052</td>\n      <td>-0.104474</td>\n      <td>2425.338748</td>\n      <td>2425.338748</td>\n      <td>3384.627931</td>\n      <td>2024-10-20</td>\n      <td>SEV</td>\n      <td>797.110276</td>\n      <td>786.619</td>\n      <td>10.491276</td>\n    </tr>\n    <tr>\n      <th>294452</th>\n      <td>ES</td>\n      <td>100944380973</td>\n      <td>168406068</td>\n      <td>2024-10-20 00:10:34+00:00</td>\n      <td>2024-10-20 00:10:35+00:00</td>\n      <td>MOTORBIKE</td>\n      <td>2024-10-20 00:22:44.851000+00:00</td>\n      <td>2024-10-20 00:25:59+00:00</td>\n      <td>2024-10-20 00:28:42+00:00</td>\n      <td>37.392517</td>\n      <td>...</td>\n      <td>0.652643</td>\n      <td>-0.104562</td>\n      <td>383.352616</td>\n      <td>383.352616</td>\n      <td>490.752279</td>\n      <td>2024-10-20</td>\n      <td>SEV</td>\n      <td>86.193265</td>\n      <td>194.149</td>\n      <td>-107.955735</td>\n    </tr>\n  </tbody>\n</table>\n<p>294453 rows × 29 columns</p>\n</div>"
     },
     "execution_count": 22,
     "metadata": {},
     "output_type": "execute_result"
    }
   ],
   "source": [
    "X_test_expanded2 = X_test.copy()\n",
    "X_test_expanded2['y_test_predicted'] = model_bl_mean.predict(X_test)\n",
    "X_test_expanded2['y_test'] = (X_test_expanded2['delivery_entering_timestamp'] - X_test_expanded2['pickup_timestamp']).dt.total_seconds()\n",
    "X_test_expanded2['diff'] = X_test_expanded2['y_test_predicted'] - X_test_expanded2['y_test']\n",
    "X_test_expanded2"
   ],
   "metadata": {
    "collapsed": false,
    "ExecuteTime": {
     "end_time": "2025-03-27T14:19:19.999882Z",
     "start_time": "2025-03-27T14:19:04.140464Z"
    }
   },
   "id": "da2363ec8ae10e56",
   "execution_count": 22
  },
  {
   "cell_type": "code",
   "outputs": [
    {
     "data": {
      "text/plain": "0    744.414334\nName: pickup_to_delivery_predicted, dtype: float64"
     },
     "execution_count": 23,
     "metadata": {},
     "output_type": "execute_result"
    }
   ],
   "source": [
    "model_bl_mean.predict(X_test.iloc[0])"
   ],
   "metadata": {
    "collapsed": false,
    "ExecuteTime": {
     "end_time": "2025-03-27T14:19:20.015193Z",
     "start_time": "2025-03-27T14:19:20.002572Z"
    }
   },
   "id": "d7329630cd310504",
   "execution_count": 23
  },
  {
   "cell_type": "markdown",
   "source": [
    "### Evaluation pipeline"
   ],
   "metadata": {
    "collapsed": false
   },
   "id": "b65c835da4563a72"
  },
  {
   "cell_type": "code",
   "execution_count": 24,
   "id": "d06a05c54e737f56",
   "metadata": {
    "collapsed": false,
    "ExecuteTime": {
     "end_time": "2025-03-27T14:19:35.660505Z",
     "start_time": "2025-03-27T14:19:20.008700Z"
    }
   },
   "outputs": [
    {
     "data": {
      "text/plain": "(np.float64(162.8336541959364), np.float64(65601.18015357893))"
     },
     "execution_count": 24,
     "metadata": {},
     "output_type": "execute_result"
    }
   ],
   "source": [
    "model_bl_mean.evaluate(X_test, y_test)"
   ]
  },
  {
   "cell_type": "markdown",
   "source": [
    "## Linear Model"
   ],
   "metadata": {
    "collapsed": false
   },
   "id": "2e878748472b7df0"
  },
  {
   "cell_type": "code",
   "outputs": [],
   "source": [
    "# Train on a small subset to check if the model is working\n",
    "X_train_smaller = X_train.head(1000)\n",
    "y_train_smaller = y_train.head(1000)"
   ],
   "metadata": {
    "collapsed": false,
    "ExecuteTime": {
     "end_time": "2025-03-27T14:19:35.664611Z",
     "start_time": "2025-03-27T14:19:35.662006Z"
    }
   },
   "id": "d2508016c2f9f050",
   "execution_count": 25
  },
  {
   "cell_type": "markdown",
   "source": [
    "### LinearModel_encodingdummyvariables"
   ],
   "metadata": {
    "collapsed": false
   },
   "id": "917c211d4ba0e732"
  },
  {
   "cell_type": "code",
   "outputs": [
    {
     "name": "stderr",
     "output_type": "stream",
     "text": [
      "INFO:root:Starting to encode variables\n",
      "INFO:root:Finished to encode variables. Starting to fit the model\n",
      "INFO:root:Finished training the model\n"
     ]
    },
    {
     "data": {
      "text/plain": "<estimator.LinearModel_encode_timestamps_dummy_variables at 0x11e9d25d0>"
     },
     "execution_count": 26,
     "metadata": {},
     "output_type": "execute_result"
    }
   ],
   "source": [
    "model_linear = LinearModel_encode_timestamps_dummy_variables()\n",
    "model_linear.fit(X_train_smaller, y_train_smaller)\n",
    "# model_linear.fit(X_train, y_train)"
   ],
   "metadata": {
    "collapsed": false,
    "ExecuteTime": {
     "end_time": "2025-03-27T14:19:36.006814Z",
     "start_time": "2025-03-27T14:19:35.664763Z"
    }
   },
   "id": "489d9af86d0f8e4f",
   "execution_count": 26
  },
  {
   "cell_type": "code",
   "outputs": [
    {
     "data": {
      "text/plain": "    country_code      order_id  courier_id        creation_timestamp  \\\n0             ES  100901312508    24750184 2024-09-30 20:48:58+00:00   \n1             ES  100901502888   114878043 2024-09-30 22:02:24+00:00   \n2             ES  100901552273   169065712 2024-09-30 22:29:26+00:00   \n3             ES  100901587119    98812119 2024-09-30 22:53:13+00:00   \n4             ES  100901593554   170866593 2024-09-30 22:58:15+00:00   \n..           ...           ...         ...                       ...   \n995           ES  100901081034     3482453 2024-09-30 19:31:20+00:00   \n996           ES  100901265266   115266734 2024-09-30 20:33:20+00:00   \n997           ES  100901307260   165064916 2024-09-30 20:47:14+00:00   \n998           ES  100901418525    85950440 2024-09-30 21:26:08+00:00   \n999           ES  100901421693   166041544 2024-09-30 21:27:22+00:00   \n\n         activation_timestamp  transport                 pickup_timestamp  \\\n0   2024-09-30 20:48:59+00:00        CAR 2024-09-30 21:05:11.892000+00:00   \n1   2024-09-30 22:02:25+00:00  MOTORBIKE 2024-09-30 22:18:10.583000+00:00   \n2   2024-09-30 22:29:26+00:00        CAR 2024-09-30 22:42:27.608000+00:00   \n3   2024-09-30 22:53:13+00:00        CAR 2024-09-30 23:13:58.938000+00:00   \n4   2024-09-30 22:58:17+00:00  MOTORBIKE 2024-09-30 23:08:24.577000+00:00   \n..                        ...        ...                              ...   \n995 2024-09-30 19:31:21+00:00  MOTORBIKE 2024-09-30 19:40:53.687000+00:00   \n996 2024-09-30 20:33:22+00:00  MOTORBIKE 2024-09-30 20:45:25.779000+00:00   \n997 2024-09-30 20:47:15+00:00        CAR 2024-09-30 20:57:33.623000+00:00   \n998 2024-09-30 21:26:09+00:00        CAR 2024-09-30 21:34:30.387000+00:00   \n999 2024-09-30 21:27:23+00:00        CAR 2024-09-30 21:40:51.864000+00:00   \n\n    delivery_entering_timestamp        delivery_timestamp  pickup_latitude  \\\n0     2024-09-30 21:17:34+00:00 2024-09-30 21:20:22+00:00        38.391617   \n1     2024-09-30 22:22:58+00:00 2024-09-30 22:23:44+00:00        38.338440   \n2     2024-09-30 22:50:43+00:00 2024-09-30 22:56:36+00:00        38.366512   \n3     2024-09-30 23:16:54+00:00 2024-09-30 23:21:06+00:00        38.359184   \n4     2024-09-30 23:14:41+00:00 2024-09-30 23:16:10+00:00        38.345978   \n..                          ...                       ...              ...   \n995   2024-09-30 19:43:41+00:00 2024-09-30 19:45:13+00:00        38.354620   \n996   2024-09-30 20:49:48+00:00 2024-09-30 20:52:45+00:00        38.355000   \n997   2024-09-30 21:08:14+00:00 2024-09-30 21:13:02+00:00        38.369640   \n998   2024-09-30 21:41:24+00:00 2024-09-30 21:47:30+00:00        38.362377   \n999   2024-09-30 21:44:23+00:00 2024-09-30 21:45:42+00:00        38.355000   \n\n     ...  pd_distance_haversine_m  pd_distance_haversine_m_sk  \\\n0    ...               724.460401                  724.460401   \n1    ...              1166.853169                 1166.853169   \n2    ...              3065.108653                 3065.108653   \n3    ...               400.794655                  400.794655   \n4    ...              1225.327574                 1225.327574   \n..   ...                      ...                         ...   \n995  ...               756.867908                  756.867908   \n996  ...               356.361182                  356.361182   \n997  ...              1396.380228                 1396.380228   \n998  ...              1582.519960                 1582.519960   \n999  ...              1383.496059                 1383.496059   \n\n     pd_distance_manhattan_m creation_date city_code     time  velocity  \\\n0                 742.866745    2024-09-30       ALC  742.108  0.976220   \n1                1601.094467    2024-09-30       ALC  287.417  4.059792   \n2                4208.852129    2024-09-30       ALC  495.392  6.187239   \n3                 555.236086    2024-09-30       ALC  175.062  2.289444   \n4                1618.610270    2024-09-30       ALC  376.423  3.255188   \n..                       ...           ...       ...      ...       ...   \n995               935.259984    2024-09-30       ALC  167.313  4.523665   \n996               425.074985    2024-09-30       ALC  262.221  1.359011   \n997              1940.700487    2024-09-30       ALC  640.377  2.180560   \n998              2235.150403    2024-09-30       ALC  413.613  3.826089   \n999              1952.264833    2024-09-30       ALC  211.136  6.552630   \n\n     y_test_predicted   y_test          diff  \n0        7.421080e+11  742.108  7.421080e+11  \n1        2.874170e+11  287.417  2.874170e+11  \n2        4.953920e+11  495.392  4.953920e+11  \n3        1.750620e+11  175.062  1.750620e+11  \n4        3.764230e+11  376.423  3.764230e+11  \n..                ...      ...           ...  \n995      1.673130e+11  167.313  1.673130e+11  \n996      2.622210e+11  262.221  2.622210e+11  \n997      6.403770e+11  640.377  6.403770e+11  \n998      4.136130e+11  413.613  4.136130e+11  \n999      2.111360e+11  211.136  2.111360e+11  \n\n[1000 rows x 31 columns]",
      "text/html": "<div>\n<style scoped>\n    .dataframe tbody tr th:only-of-type {\n        vertical-align: middle;\n    }\n\n    .dataframe tbody tr th {\n        vertical-align: top;\n    }\n\n    .dataframe thead th {\n        text-align: right;\n    }\n</style>\n<table border=\"1\" class=\"dataframe\">\n  <thead>\n    <tr style=\"text-align: right;\">\n      <th></th>\n      <th>country_code</th>\n      <th>order_id</th>\n      <th>courier_id</th>\n      <th>creation_timestamp</th>\n      <th>activation_timestamp</th>\n      <th>transport</th>\n      <th>pickup_timestamp</th>\n      <th>delivery_entering_timestamp</th>\n      <th>delivery_timestamp</th>\n      <th>pickup_latitude</th>\n      <th>...</th>\n      <th>pd_distance_haversine_m</th>\n      <th>pd_distance_haversine_m_sk</th>\n      <th>pd_distance_manhattan_m</th>\n      <th>creation_date</th>\n      <th>city_code</th>\n      <th>time</th>\n      <th>velocity</th>\n      <th>y_test_predicted</th>\n      <th>y_test</th>\n      <th>diff</th>\n    </tr>\n  </thead>\n  <tbody>\n    <tr>\n      <th>0</th>\n      <td>ES</td>\n      <td>100901312508</td>\n      <td>24750184</td>\n      <td>2024-09-30 20:48:58+00:00</td>\n      <td>2024-09-30 20:48:59+00:00</td>\n      <td>CAR</td>\n      <td>2024-09-30 21:05:11.892000+00:00</td>\n      <td>2024-09-30 21:17:34+00:00</td>\n      <td>2024-09-30 21:20:22+00:00</td>\n      <td>38.391617</td>\n      <td>...</td>\n      <td>724.460401</td>\n      <td>724.460401</td>\n      <td>742.866745</td>\n      <td>2024-09-30</td>\n      <td>ALC</td>\n      <td>742.108</td>\n      <td>0.976220</td>\n      <td>7.421080e+11</td>\n      <td>742.108</td>\n      <td>7.421080e+11</td>\n    </tr>\n    <tr>\n      <th>1</th>\n      <td>ES</td>\n      <td>100901502888</td>\n      <td>114878043</td>\n      <td>2024-09-30 22:02:24+00:00</td>\n      <td>2024-09-30 22:02:25+00:00</td>\n      <td>MOTORBIKE</td>\n      <td>2024-09-30 22:18:10.583000+00:00</td>\n      <td>2024-09-30 22:22:58+00:00</td>\n      <td>2024-09-30 22:23:44+00:00</td>\n      <td>38.338440</td>\n      <td>...</td>\n      <td>1166.853169</td>\n      <td>1166.853169</td>\n      <td>1601.094467</td>\n      <td>2024-09-30</td>\n      <td>ALC</td>\n      <td>287.417</td>\n      <td>4.059792</td>\n      <td>2.874170e+11</td>\n      <td>287.417</td>\n      <td>2.874170e+11</td>\n    </tr>\n    <tr>\n      <th>2</th>\n      <td>ES</td>\n      <td>100901552273</td>\n      <td>169065712</td>\n      <td>2024-09-30 22:29:26+00:00</td>\n      <td>2024-09-30 22:29:26+00:00</td>\n      <td>CAR</td>\n      <td>2024-09-30 22:42:27.608000+00:00</td>\n      <td>2024-09-30 22:50:43+00:00</td>\n      <td>2024-09-30 22:56:36+00:00</td>\n      <td>38.366512</td>\n      <td>...</td>\n      <td>3065.108653</td>\n      <td>3065.108653</td>\n      <td>4208.852129</td>\n      <td>2024-09-30</td>\n      <td>ALC</td>\n      <td>495.392</td>\n      <td>6.187239</td>\n      <td>4.953920e+11</td>\n      <td>495.392</td>\n      <td>4.953920e+11</td>\n    </tr>\n    <tr>\n      <th>3</th>\n      <td>ES</td>\n      <td>100901587119</td>\n      <td>98812119</td>\n      <td>2024-09-30 22:53:13+00:00</td>\n      <td>2024-09-30 22:53:13+00:00</td>\n      <td>CAR</td>\n      <td>2024-09-30 23:13:58.938000+00:00</td>\n      <td>2024-09-30 23:16:54+00:00</td>\n      <td>2024-09-30 23:21:06+00:00</td>\n      <td>38.359184</td>\n      <td>...</td>\n      <td>400.794655</td>\n      <td>400.794655</td>\n      <td>555.236086</td>\n      <td>2024-09-30</td>\n      <td>ALC</td>\n      <td>175.062</td>\n      <td>2.289444</td>\n      <td>1.750620e+11</td>\n      <td>175.062</td>\n      <td>1.750620e+11</td>\n    </tr>\n    <tr>\n      <th>4</th>\n      <td>ES</td>\n      <td>100901593554</td>\n      <td>170866593</td>\n      <td>2024-09-30 22:58:15+00:00</td>\n      <td>2024-09-30 22:58:17+00:00</td>\n      <td>MOTORBIKE</td>\n      <td>2024-09-30 23:08:24.577000+00:00</td>\n      <td>2024-09-30 23:14:41+00:00</td>\n      <td>2024-09-30 23:16:10+00:00</td>\n      <td>38.345978</td>\n      <td>...</td>\n      <td>1225.327574</td>\n      <td>1225.327574</td>\n      <td>1618.610270</td>\n      <td>2024-09-30</td>\n      <td>ALC</td>\n      <td>376.423</td>\n      <td>3.255188</td>\n      <td>3.764230e+11</td>\n      <td>376.423</td>\n      <td>3.764230e+11</td>\n    </tr>\n    <tr>\n      <th>...</th>\n      <td>...</td>\n      <td>...</td>\n      <td>...</td>\n      <td>...</td>\n      <td>...</td>\n      <td>...</td>\n      <td>...</td>\n      <td>...</td>\n      <td>...</td>\n      <td>...</td>\n      <td>...</td>\n      <td>...</td>\n      <td>...</td>\n      <td>...</td>\n      <td>...</td>\n      <td>...</td>\n      <td>...</td>\n      <td>...</td>\n      <td>...</td>\n      <td>...</td>\n      <td>...</td>\n    </tr>\n    <tr>\n      <th>995</th>\n      <td>ES</td>\n      <td>100901081034</td>\n      <td>3482453</td>\n      <td>2024-09-30 19:31:20+00:00</td>\n      <td>2024-09-30 19:31:21+00:00</td>\n      <td>MOTORBIKE</td>\n      <td>2024-09-30 19:40:53.687000+00:00</td>\n      <td>2024-09-30 19:43:41+00:00</td>\n      <td>2024-09-30 19:45:13+00:00</td>\n      <td>38.354620</td>\n      <td>...</td>\n      <td>756.867908</td>\n      <td>756.867908</td>\n      <td>935.259984</td>\n      <td>2024-09-30</td>\n      <td>ALC</td>\n      <td>167.313</td>\n      <td>4.523665</td>\n      <td>1.673130e+11</td>\n      <td>167.313</td>\n      <td>1.673130e+11</td>\n    </tr>\n    <tr>\n      <th>996</th>\n      <td>ES</td>\n      <td>100901265266</td>\n      <td>115266734</td>\n      <td>2024-09-30 20:33:20+00:00</td>\n      <td>2024-09-30 20:33:22+00:00</td>\n      <td>MOTORBIKE</td>\n      <td>2024-09-30 20:45:25.779000+00:00</td>\n      <td>2024-09-30 20:49:48+00:00</td>\n      <td>2024-09-30 20:52:45+00:00</td>\n      <td>38.355000</td>\n      <td>...</td>\n      <td>356.361182</td>\n      <td>356.361182</td>\n      <td>425.074985</td>\n      <td>2024-09-30</td>\n      <td>ALC</td>\n      <td>262.221</td>\n      <td>1.359011</td>\n      <td>2.622210e+11</td>\n      <td>262.221</td>\n      <td>2.622210e+11</td>\n    </tr>\n    <tr>\n      <th>997</th>\n      <td>ES</td>\n      <td>100901307260</td>\n      <td>165064916</td>\n      <td>2024-09-30 20:47:14+00:00</td>\n      <td>2024-09-30 20:47:15+00:00</td>\n      <td>CAR</td>\n      <td>2024-09-30 20:57:33.623000+00:00</td>\n      <td>2024-09-30 21:08:14+00:00</td>\n      <td>2024-09-30 21:13:02+00:00</td>\n      <td>38.369640</td>\n      <td>...</td>\n      <td>1396.380228</td>\n      <td>1396.380228</td>\n      <td>1940.700487</td>\n      <td>2024-09-30</td>\n      <td>ALC</td>\n      <td>640.377</td>\n      <td>2.180560</td>\n      <td>6.403770e+11</td>\n      <td>640.377</td>\n      <td>6.403770e+11</td>\n    </tr>\n    <tr>\n      <th>998</th>\n      <td>ES</td>\n      <td>100901418525</td>\n      <td>85950440</td>\n      <td>2024-09-30 21:26:08+00:00</td>\n      <td>2024-09-30 21:26:09+00:00</td>\n      <td>CAR</td>\n      <td>2024-09-30 21:34:30.387000+00:00</td>\n      <td>2024-09-30 21:41:24+00:00</td>\n      <td>2024-09-30 21:47:30+00:00</td>\n      <td>38.362377</td>\n      <td>...</td>\n      <td>1582.519960</td>\n      <td>1582.519960</td>\n      <td>2235.150403</td>\n      <td>2024-09-30</td>\n      <td>ALC</td>\n      <td>413.613</td>\n      <td>3.826089</td>\n      <td>4.136130e+11</td>\n      <td>413.613</td>\n      <td>4.136130e+11</td>\n    </tr>\n    <tr>\n      <th>999</th>\n      <td>ES</td>\n      <td>100901421693</td>\n      <td>166041544</td>\n      <td>2024-09-30 21:27:22+00:00</td>\n      <td>2024-09-30 21:27:23+00:00</td>\n      <td>CAR</td>\n      <td>2024-09-30 21:40:51.864000+00:00</td>\n      <td>2024-09-30 21:44:23+00:00</td>\n      <td>2024-09-30 21:45:42+00:00</td>\n      <td>38.355000</td>\n      <td>...</td>\n      <td>1383.496059</td>\n      <td>1383.496059</td>\n      <td>1952.264833</td>\n      <td>2024-09-30</td>\n      <td>ALC</td>\n      <td>211.136</td>\n      <td>6.552630</td>\n      <td>2.111360e+11</td>\n      <td>211.136</td>\n      <td>2.111360e+11</td>\n    </tr>\n  </tbody>\n</table>\n<p>1000 rows × 31 columns</p>\n</div>"
     },
     "execution_count": 27,
     "metadata": {},
     "output_type": "execute_result"
    }
   ],
   "source": [
    "X_test_expanded3 = X_train_smaller.copy()\n",
    "X_test_expanded3['y_test_predicted'] = model_linear.predict(X_test_expanded3)\n",
    "X_test_expanded3['y_test'] = (X_test_expanded3['delivery_entering_timestamp'] - X_test_expanded3['pickup_timestamp']).dt.total_seconds()\n",
    "X_test_expanded3['diff'] = X_test_expanded3['y_test_predicted'] - X_test_expanded3['y_test']\n",
    "X_test_expanded3"
   ],
   "metadata": {
    "collapsed": false,
    "ExecuteTime": {
     "end_time": "2025-03-27T14:19:36.171470Z",
     "start_time": "2025-03-27T14:19:36.007744Z"
    }
   },
   "id": "a4cd0ab5e1851cb8",
   "execution_count": 27
  },
  {
   "cell_type": "code",
   "outputs": [
    {
     "data": {
      "text/plain": "array([-219548.26080978])"
     },
     "execution_count": 28,
     "metadata": {},
     "output_type": "execute_result"
    }
   ],
   "source": [
    "model_linear.predict(X_test.iloc[[0]])"
   ],
   "metadata": {
    "collapsed": false,
    "ExecuteTime": {
     "end_time": "2025-03-27T14:19:36.260283Z",
     "start_time": "2025-03-27T14:19:36.210697Z"
    }
   },
   "id": "babc08482a5042c8",
   "execution_count": 28
  },
  {
   "cell_type": "code",
   "outputs": [
    {
     "data": {
      "text/plain": "(np.float64(195159.0350077124), np.float64(70872413588.1494))"
     },
     "execution_count": 29,
     "metadata": {},
     "output_type": "execute_result"
    }
   ],
   "source": [
    "model_linear.evaluate(X_test, y_test)"
   ],
   "metadata": {
    "collapsed": false,
    "ExecuteTime": {
     "end_time": "2025-03-27T14:20:45.324010Z",
     "start_time": "2025-03-27T14:19:36.216394Z"
    }
   },
   "id": "e8a5ec496dd8bbd5",
   "execution_count": 29
  },
  {
   "cell_type": "markdown",
   "source": [
    "#### Train on full data"
   ],
   "metadata": {
    "collapsed": false
   },
   "id": "8f3a330f80dc453"
  },
  {
   "cell_type": "code",
   "outputs": [
    {
     "data": {
      "text/plain": "1743085245.2417762"
     },
     "execution_count": 30,
     "metadata": {},
     "output_type": "execute_result"
    }
   ],
   "source": [
    "start = time.time()\n",
    "start"
   ],
   "metadata": {
    "collapsed": false,
    "ExecuteTime": {
     "end_time": "2025-03-27T14:20:45.508318Z",
     "start_time": "2025-03-27T14:20:45.281869Z"
    }
   },
   "id": "83c3af5c67879417",
   "execution_count": 30
  },
  {
   "cell_type": "code",
   "outputs": [
    {
     "name": "stderr",
     "output_type": "stream",
     "text": [
      "INFO:root:Starting to encode variables\n"
     ]
    }
   ],
   "source": [
    "model_linear = LinearModel_encode_timestamps_dummy_variables()\n",
    "model_linear.fit(X_train, y_train)"
   ],
   "metadata": {
    "collapsed": false,
    "is_executing": true,
    "ExecuteTime": {
     "start_time": "2025-03-27T14:20:45.299716Z"
    }
   },
   "id": "da5f12880398285e",
   "execution_count": null
  },
  {
   "cell_type": "code",
   "outputs": [],
   "source": [
    "end = time.time()\n",
    "end"
   ],
   "metadata": {
    "collapsed": false,
    "is_executing": true
   },
   "id": "860b2a299d43861c",
   "execution_count": null
  },
  {
   "cell_type": "code",
   "outputs": [],
   "source": [
    "end - start"
   ],
   "metadata": {
    "collapsed": false,
    "is_executing": true
   },
   "id": "461cd85d57517b31"
  },
  {
   "cell_type": "code",
   "outputs": [],
   "source": [
    "model_linear.predict(X_test.iloc[[0]])"
   ],
   "metadata": {
    "collapsed": false,
    "is_executing": true
   },
   "id": "99a675b2a6d4edcb"
  },
  {
   "cell_type": "code",
   "outputs": [],
   "source": [
    "model_linear.evaluate(X_test, y_test)"
   ],
   "metadata": {
    "collapsed": false,
    "is_executing": true
   },
   "id": "30b7b8c32d91e531"
  },
  {
   "cell_type": "markdown",
   "source": [
    "### LinearModel_cyclical_encoding"
   ],
   "metadata": {
    "collapsed": false
   },
   "id": "151a46b027d0f83f"
  },
  {
   "cell_type": "code",
   "outputs": [],
   "source": [
    "model_linear = LinearModel_encode_timestamps_cyclical()\n",
    "# model_linear.fit(X_train_smaller, y_train_smaller)\n",
    "model_linear.fit(X_train, y_train)"
   ],
   "metadata": {
    "collapsed": false,
    "is_executing": true
   },
   "id": "44de7b86e5322f07",
   "execution_count": null
  },
  {
   "cell_type": "code",
   "outputs": [],
   "source": [
    "# X_test_expanded3 = X_train_smaller.copy()\n",
    "X_test_expanded3 = X_train.copy()\n",
    "X_test_expanded3['y_test_predicted'] = model_linear.predict(X_test_expanded3)\n",
    "X_test_expanded3['y_test'] = (X_test_expanded3['delivery_entering_timestamp'] - X_test_expanded3['pickup_timestamp']).dt.total_seconds()\n",
    "X_test_expanded3['diff'] = X_test_expanded3['y_test_predicted'] - X_test_expanded3['y_test']\n",
    "\n",
    "X_test_expanded3"
   ],
   "metadata": {
    "collapsed": false,
    "is_executing": true
   },
   "id": "d3bd7295cc95b3a9",
   "execution_count": null
  },
  {
   "cell_type": "code",
   "outputs": [],
   "source": [
    "model_linear.predict(X_test.iloc[[0]])"
   ],
   "metadata": {
    "collapsed": false,
    "is_executing": true
   },
   "id": "18693d1f582455f4",
   "execution_count": null
  },
  {
   "cell_type": "code",
   "outputs": [],
   "source": [
    "model_linear.evaluate(X_test, y_test)"
   ],
   "metadata": {
    "collapsed": false,
    "is_executing": true
   },
   "id": "eacde562357dc971",
   "execution_count": null
  },
  {
   "cell_type": "markdown",
   "source": [
    "### LinearModel\n",
    "\n",
    "Compare performance of the model with and without standardization"
   ],
   "metadata": {
    "collapsed": false
   },
   "id": "6e4c36a63345826c"
  },
  {
   "cell_type": "code",
   "outputs": [],
   "source": [
    "model_linear = LinearModel(standardize=True)\n",
    "model_linear.fit(X_train, y_train)"
   ],
   "metadata": {
    "collapsed": false,
    "is_executing": true
   },
   "id": "61d8880b07f55872",
   "execution_count": null
  }
 ],
 "metadata": {
  "kernelspec": {
   "display_name": "venv",
   "language": "python",
   "name": "python3"
  },
  "language_info": {
   "codemirror_mode": {
    "name": "ipython",
    "version": 3
   },
   "file_extension": ".py",
   "mimetype": "text/x-python",
   "name": "python",
   "nbconvert_exporter": "python",
   "pygments_lexer": "ipython3",
   "version": "3.12.0"
  }
 },
 "nbformat": 4,
 "nbformat_minor": 5
}
