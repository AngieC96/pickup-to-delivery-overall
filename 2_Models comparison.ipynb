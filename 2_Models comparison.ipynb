{
 "cells": [
  {
   "cell_type": "markdown",
   "id": "24ad314bf282ec83",
   "metadata": {
    "collapsed": false
   },
   "source": [
    "# Pickup to Delivery Overall"
   ]
  },
  {
   "cell_type": "code",
   "execution_count": 1,
   "id": "cb71195be0f3a22f",
   "metadata": {
    "ExecuteTime": {
     "end_time": "2025-03-27T14:18:28.623509Z",
     "start_time": "2025-03-27T14:18:25.166278Z"
    },
    "collapsed": false
   },
   "outputs": [],
   "source": [
    "import os\n",
    "import sys\n",
    "import datetime\n",
    "import pandas as pd\n",
    "pd.options.display.float_format = '{:.2f}'.format\n",
    "import numpy as np\n",
    "import pickle\n",
    "\n",
    "sys.path.insert(0, os.path.expanduser('./'))\n",
    "import query_runner as qr\n",
    "import utils\n",
    "from estimator import BaselineModel_sum, BaselineModel_mean, LinearModel"
   ]
  },
  {
   "cell_type": "code",
   "execution_count": 2,
   "id": "52eb5fbdb862edbe",
   "metadata": {
    "ExecuteTime": {
     "end_time": "2025-03-27T14:18:28.633948Z",
     "start_time": "2025-03-27T14:18:28.626072Z"
    },
    "collapsed": false
   },
   "outputs": [
    {
     "name": "stderr",
     "output_type": "stream",
     "text": [
      "INFO:trino.auth:keyring module not found. OAuth2 token will not be stored in keyring.\n"
     ]
    }
   ],
   "source": [
    "base_query_path = './queries/'\n",
    "dwh_config, livedb_config, parameters_config = utils.load_config(config_file='./config.ini')\n",
    "datalake_connection = qr.create_connection(db='datalake')\n",
    "#monolith_connection = qr.create_connection(user=livedb_config['monolith_username'], password=livedb_config['monolith_password'], db='livedb')\n",
    "#dispatching_db_connection = qr.create_connection(user=livedb_config['dispatching_db_username'], password=livedb_config['dispatching_db_password'], db='dispatchingdb')"
   ]
  },
  {
   "cell_type": "code",
   "execution_count": 3,
   "id": "f26eb0ba80de7f8e",
   "metadata": {
    "ExecuteTime": {
     "end_time": "2025-03-27T14:18:28.646200Z",
     "start_time": "2025-03-27T14:18:28.632504Z"
    },
    "collapsed": false
   },
   "outputs": [
    {
     "name": "stdout",
     "output_type": "stream",
     "text": [
      "Start date: 2024-09-30 | End date: 2024-10-20 | Countries: ES | Cities: 'MAD', 'BCN', 'SEV', 'ALC'\n"
     ]
    }
   ],
   "source": [
    "start_date = parameters_config['start_date']\n",
    "end_date = parameters_config['end_date']\n",
    "country_code = parameters_config['country_code']\n",
    "cities = parameters_config['cities']\n",
    "\n",
    "print(f'Start date: {start_date} | End date: {end_date} | Countries: {country_code} | Cities: {cities}')"
   ]
  },
  {
   "cell_type": "code",
   "execution_count": 4,
   "id": "e3c251ccf4f2beb1",
   "metadata": {
    "ExecuteTime": {
     "end_time": "2025-03-27T14:18:28.649237Z",
     "start_time": "2025-03-27T14:18:28.637484Z"
    },
    "collapsed": false
   },
   "outputs": [],
   "source": [
    "parameters = {\n",
    "    'start_date': start_date,\n",
    "    'end_date': end_date,\n",
    "    'country_code': country_code,\n",
    "    'cities': cities\n",
    "}"
   ]
  },
  {
   "cell_type": "markdown",
   "id": "9f700ca8f9a310ca",
   "metadata": {
    "collapsed": false
   },
   "source": [
    "## Load the dataset"
   ]
  },
  {
   "cell_type": "raw",
   "id": "f459d6342f561915",
   "metadata": {
    "collapsed": false
   },
   "source": [
    "data = pd.read_pickle(\"data/dataframe.pkl\")"
   ]
  },
  {
   "cell_type": "code",
   "execution_count": 5,
   "id": "5ecce593d1c02912",
   "metadata": {
    "ExecuteTime": {
     "end_time": "2025-03-27T14:18:29.435946Z",
     "start_time": "2025-03-27T14:18:28.639761Z"
    },
    "collapsed": false
   },
   "outputs": [],
   "source": [
    "data = pd.read_parquet(\"data/parquet/dataframe.parquet\")"
   ]
  },
  {
   "cell_type": "markdown",
   "id": "b4f24b33b07b58e9",
   "metadata": {
    "collapsed": false
   },
   "source": [
    "## Hyperparameters"
   ]
  },
  {
   "cell_type": "code",
   "execution_count": 6,
   "id": "843f73749bdce7ee",
   "metadata": {
    "ExecuteTime": {
     "end_time": "2025-03-27T14:18:29.449267Z",
     "start_time": "2025-03-27T14:18:29.438800Z"
    },
    "collapsed": false
   },
   "outputs": [],
   "source": [
    "test_set_perc = 0.1\n",
    "days_for_test = 7\n",
    "k_cv = 5"
   ]
  },
  {
   "cell_type": "markdown",
   "id": "3aed5934e3c1f8f",
   "metadata": {
    "collapsed": false
   },
   "source": [
    "## Database split"
   ]
  },
  {
   "cell_type": "markdown",
   "id": "7282f116c476aa5c",
   "metadata": {
    "collapsed": false
   },
   "source": [
    "As we have partitioned the data by city and creation date, we can use this information to split the data. This will help to avoid data leakage, as we will not have data from the future in the training set.\n",
    "This is much better than just sorting the data by the creation timestamp and taking 10% of the dataset as test set, as we did before."
   ]
  },
  {
   "cell_type": "code",
   "execution_count": 7,
   "id": "75c872336bd56642",
   "metadata": {
    "ExecuteTime": {
     "end_time": "2025-03-27T14:18:29.465122Z",
     "start_time": "2025-03-27T14:18:29.448639Z"
    },
    "collapsed": false
   },
   "outputs": [
    {
     "name": "stdout",
     "output_type": "stream",
     "text": [
      "Start date: 2024-09-30 | Begin test date: 2024-10-14 | End date: 2024-10-20\n"
     ]
    }
   ],
   "source": [
    "# We take the last week of the dataset to test the model\n",
    "begin_test_date = pd.to_datetime(end_date) - pd.Timedelta(days=days_for_test-1)\n",
    "begin_test_date = begin_test_date.strftime(\"%Y-%m-%d\")\n",
    "print(f'Start date: {start_date} | Begin test date: {begin_test_date} | End date: {end_date}')"
   ]
  },
  {
   "cell_type": "code",
   "execution_count": 8,
   "id": "3ac70f793bb888aa",
   "metadata": {
    "ExecuteTime": {
     "end_time": "2025-03-27T14:18:29.836881Z",
     "start_time": "2025-03-27T14:18:29.456639Z"
    },
    "collapsed": false
   },
   "outputs": [
    {
     "data": {
      "text/html": [
       "<div>\n",
       "<style scoped>\n",
       "    .dataframe tbody tr th:only-of-type {\n",
       "        vertical-align: middle;\n",
       "    }\n",
       "\n",
       "    .dataframe tbody tr th {\n",
       "        vertical-align: top;\n",
       "    }\n",
       "\n",
       "    .dataframe thead th {\n",
       "        text-align: right;\n",
       "    }\n",
       "</style>\n",
       "<table border=\"1\" class=\"dataframe\">\n",
       "  <thead>\n",
       "    <tr style=\"text-align: right;\">\n",
       "      <th></th>\n",
       "      <th>country_code</th>\n",
       "      <th>order_id</th>\n",
       "      <th>courier_id</th>\n",
       "      <th>creation_timestamp</th>\n",
       "      <th>activation_timestamp</th>\n",
       "      <th>transport</th>\n",
       "      <th>pickup_timestamp</th>\n",
       "      <th>delivery_entering_timestamp</th>\n",
       "      <th>delivery_timestamp</th>\n",
       "      <th>pickup_latitude</th>\n",
       "      <th>...</th>\n",
       "      <th>time_zone</th>\n",
       "      <th>pickup_latitude_rad</th>\n",
       "      <th>pickup_longitude_rad</th>\n",
       "      <th>delivery_latitude_rad</th>\n",
       "      <th>delivery_longitude_rad</th>\n",
       "      <th>pd_distance_haversine_m</th>\n",
       "      <th>pd_distance_haversine_m_sk</th>\n",
       "      <th>pd_distance_manhattan_m</th>\n",
       "      <th>creation_date</th>\n",
       "      <th>city_code</th>\n",
       "    </tr>\n",
       "  </thead>\n",
       "  <tbody>\n",
       "    <tr>\n",
       "      <th>0</th>\n",
       "      <td>ES</td>\n",
       "      <td>100901000206</td>\n",
       "      <td>169065712</td>\n",
       "      <td>2024-09-30 19:00:49+00:00</td>\n",
       "      <td>2024-09-30 19:00:52+00:00</td>\n",
       "      <td>CAR</td>\n",
       "      <td>2024-09-30 19:20:41.337000+00:00</td>\n",
       "      <td>2024-09-30 19:30:56+00:00</td>\n",
       "      <td>2024-09-30 19:38:11+00:00</td>\n",
       "      <td>38.37</td>\n",
       "      <td>...</td>\n",
       "      <td>Europe/Madrid</td>\n",
       "      <td>0.67</td>\n",
       "      <td>-0.01</td>\n",
       "      <td>0.67</td>\n",
       "      <td>-0.01</td>\n",
       "      <td>3147.42</td>\n",
       "      <td>3147.42</td>\n",
       "      <td>4371.55</td>\n",
       "      <td>2024-09-30</td>\n",
       "      <td>ALC</td>\n",
       "    </tr>\n",
       "    <tr>\n",
       "      <th>1</th>\n",
       "      <td>ES</td>\n",
       "      <td>100901487351</td>\n",
       "      <td>173633632</td>\n",
       "      <td>2024-09-30 21:54:58+00:00</td>\n",
       "      <td>2024-09-30 21:54:59+00:00</td>\n",
       "      <td>MOTORBIKE</td>\n",
       "      <td>2024-09-30 21:58:40.678000+00:00</td>\n",
       "      <td>2024-09-30 22:12:29+00:00</td>\n",
       "      <td>2024-09-30 22:16:54+00:00</td>\n",
       "      <td>38.34</td>\n",
       "      <td>...</td>\n",
       "      <td>Europe/Madrid</td>\n",
       "      <td>0.67</td>\n",
       "      <td>-0.01</td>\n",
       "      <td>0.67</td>\n",
       "      <td>-0.01</td>\n",
       "      <td>1959.90</td>\n",
       "      <td>1959.90</td>\n",
       "      <td>2228.78</td>\n",
       "      <td>2024-09-30</td>\n",
       "      <td>ALC</td>\n",
       "    </tr>\n",
       "    <tr>\n",
       "      <th>2</th>\n",
       "      <td>ES</td>\n",
       "      <td>100901615508</td>\n",
       "      <td>2320936</td>\n",
       "      <td>2024-09-30 23:17:55+00:00</td>\n",
       "      <td>2024-09-30 23:17:55+00:00</td>\n",
       "      <td>CAR</td>\n",
       "      <td>2024-09-30 23:25:52.013000+00:00</td>\n",
       "      <td>2024-09-30 23:34:12+00:00</td>\n",
       "      <td>2024-09-30 23:35:27+00:00</td>\n",
       "      <td>38.43</td>\n",
       "      <td>...</td>\n",
       "      <td>Europe/Madrid</td>\n",
       "      <td>0.67</td>\n",
       "      <td>-0.01</td>\n",
       "      <td>0.67</td>\n",
       "      <td>-0.01</td>\n",
       "      <td>3043.08</td>\n",
       "      <td>3043.08</td>\n",
       "      <td>4304.54</td>\n",
       "      <td>2024-09-30</td>\n",
       "      <td>ALC</td>\n",
       "    </tr>\n",
       "    <tr>\n",
       "      <th>3</th>\n",
       "      <td>ES</td>\n",
       "      <td>100900153723</td>\n",
       "      <td>174681565</td>\n",
       "      <td>2024-09-30 12:50:30+00:00</td>\n",
       "      <td>2024-09-30 12:50:31+00:00</td>\n",
       "      <td>MOTORBIKE</td>\n",
       "      <td>2024-09-30 12:51:54.134000+00:00</td>\n",
       "      <td>2024-09-30 12:53:27+00:00</td>\n",
       "      <td>2024-09-30 12:56:56+00:00</td>\n",
       "      <td>38.39</td>\n",
       "      <td>...</td>\n",
       "      <td>Europe/Madrid</td>\n",
       "      <td>0.67</td>\n",
       "      <td>-0.01</td>\n",
       "      <td>0.67</td>\n",
       "      <td>-0.01</td>\n",
       "      <td>384.77</td>\n",
       "      <td>384.77</td>\n",
       "      <td>538.64</td>\n",
       "      <td>2024-09-30</td>\n",
       "      <td>ALC</td>\n",
       "    </tr>\n",
       "    <tr>\n",
       "      <th>4</th>\n",
       "      <td>ES</td>\n",
       "      <td>100900235936</td>\n",
       "      <td>142421923</td>\n",
       "      <td>2024-09-30 13:23:50+00:00</td>\n",
       "      <td>2024-09-30 13:23:51+00:00</td>\n",
       "      <td>CAR</td>\n",
       "      <td>2024-09-30 13:49:36.097000+00:00</td>\n",
       "      <td>2024-09-30 13:57:33+00:00</td>\n",
       "      <td>2024-09-30 14:01:33+00:00</td>\n",
       "      <td>38.41</td>\n",
       "      <td>...</td>\n",
       "      <td>Europe/Madrid</td>\n",
       "      <td>0.67</td>\n",
       "      <td>-0.01</td>\n",
       "      <td>0.67</td>\n",
       "      <td>-0.01</td>\n",
       "      <td>2321.10</td>\n",
       "      <td>2321.10</td>\n",
       "      <td>2443.13</td>\n",
       "      <td>2024-09-30</td>\n",
       "      <td>ALC</td>\n",
       "    </tr>\n",
       "  </tbody>\n",
       "</table>\n",
       "<p>5 rows × 23 columns</p>\n",
       "</div>"
      ],
      "text/plain": [
       "  country_code      order_id  courier_id        creation_timestamp  \\\n",
       "0           ES  100901000206   169065712 2024-09-30 19:00:49+00:00   \n",
       "1           ES  100901487351   173633632 2024-09-30 21:54:58+00:00   \n",
       "2           ES  100901615508     2320936 2024-09-30 23:17:55+00:00   \n",
       "3           ES  100900153723   174681565 2024-09-30 12:50:30+00:00   \n",
       "4           ES  100900235936   142421923 2024-09-30 13:23:50+00:00   \n",
       "\n",
       "       activation_timestamp  transport                 pickup_timestamp  \\\n",
       "0 2024-09-30 19:00:52+00:00        CAR 2024-09-30 19:20:41.337000+00:00   \n",
       "1 2024-09-30 21:54:59+00:00  MOTORBIKE 2024-09-30 21:58:40.678000+00:00   \n",
       "2 2024-09-30 23:17:55+00:00        CAR 2024-09-30 23:25:52.013000+00:00   \n",
       "3 2024-09-30 12:50:31+00:00  MOTORBIKE 2024-09-30 12:51:54.134000+00:00   \n",
       "4 2024-09-30 13:23:51+00:00        CAR 2024-09-30 13:49:36.097000+00:00   \n",
       "\n",
       "  delivery_entering_timestamp        delivery_timestamp  pickup_latitude  ...  \\\n",
       "0   2024-09-30 19:30:56+00:00 2024-09-30 19:38:11+00:00            38.37  ...   \n",
       "1   2024-09-30 22:12:29+00:00 2024-09-30 22:16:54+00:00            38.34  ...   \n",
       "2   2024-09-30 23:34:12+00:00 2024-09-30 23:35:27+00:00            38.43  ...   \n",
       "3   2024-09-30 12:53:27+00:00 2024-09-30 12:56:56+00:00            38.39  ...   \n",
       "4   2024-09-30 13:57:33+00:00 2024-09-30 14:01:33+00:00            38.41  ...   \n",
       "\n",
       "       time_zone  pickup_latitude_rad  pickup_longitude_rad  \\\n",
       "0  Europe/Madrid                 0.67                 -0.01   \n",
       "1  Europe/Madrid                 0.67                 -0.01   \n",
       "2  Europe/Madrid                 0.67                 -0.01   \n",
       "3  Europe/Madrid                 0.67                 -0.01   \n",
       "4  Europe/Madrid                 0.67                 -0.01   \n",
       "\n",
       "  delivery_latitude_rad  delivery_longitude_rad  pd_distance_haversine_m  \\\n",
       "0                  0.67                   -0.01                  3147.42   \n",
       "1                  0.67                   -0.01                  1959.90   \n",
       "2                  0.67                   -0.01                  3043.08   \n",
       "3                  0.67                   -0.01                   384.77   \n",
       "4                  0.67                   -0.01                  2321.10   \n",
       "\n",
       "   pd_distance_haversine_m_sk  pd_distance_manhattan_m  creation_date  \\\n",
       "0                     3147.42                  4371.55     2024-09-30   \n",
       "1                     1959.90                  2228.78     2024-09-30   \n",
       "2                     3043.08                  4304.54     2024-09-30   \n",
       "3                      384.77                   538.64     2024-09-30   \n",
       "4                     2321.10                  2443.13     2024-09-30   \n",
       "\n",
       "   city_code  \n",
       "0        ALC  \n",
       "1        ALC  \n",
       "2        ALC  \n",
       "3        ALC  \n",
       "4        ALC  \n",
       "\n",
       "[5 rows x 23 columns]"
      ]
     },
     "execution_count": 8,
     "metadata": {},
     "output_type": "execute_result"
    }
   ],
   "source": [
    "X_train = pd.read_parquet(\"data/parquet/dataframe.parquet/\", filters=[('creation_date', '<', begin_test_date)])\n",
    "X_train.head()"
   ]
  },
  {
   "cell_type": "code",
   "execution_count": 9,
   "id": "74662b30246725ca",
   "metadata": {
    "ExecuteTime": {
     "end_time": "2025-03-27T14:18:30.019894Z",
     "start_time": "2025-03-27T14:18:29.973033Z"
    },
    "collapsed": false
   },
   "outputs": [
    {
     "data": {
      "text/plain": [
       "np.int64(0)"
      ]
     },
     "execution_count": 9,
     "metadata": {},
     "output_type": "execute_result"
    }
   ],
   "source": [
    "# Check that there are no nulls deriving from a wrong writing of parquet files (appending instead of overwriting)\n",
    "X_train.isnull().sum().sum()"
   ]
  },
  {
   "cell_type": "code",
   "execution_count": 10,
   "id": "7062f2936f260656",
   "metadata": {
    "ExecuteTime": {
     "end_time": "2025-03-27T14:18:30.072421Z",
     "start_time": "2025-03-27T14:18:30.020767Z"
    },
    "collapsed": false
   },
   "outputs": [
    {
     "data": {
      "text/plain": [
       "0        0 days 00:10:14.663000\n",
       "1        0 days 00:13:48.322000\n",
       "2        0 days 00:08:19.987000\n",
       "3        0 days 00:01:32.866000\n",
       "4        0 days 00:07:56.903000\n",
       "                  ...          \n",
       "678746   0 days 00:03:53.637000\n",
       "678747   0 days 00:03:57.223000\n",
       "678748   0 days 00:06:54.631000\n",
       "678749   0 days 00:23:10.249000\n",
       "678750   0 days 00:05:43.235000\n",
       "Name: pickup_to_delivery, Length: 678751, dtype: timedelta64[ns]"
      ]
     },
     "execution_count": 10,
     "metadata": {},
     "output_type": "execute_result"
    }
   ],
   "source": [
    "y_train = X_train['delivery_entering_timestamp'] - X_train['pickup_timestamp']\n",
    "y_train = pd.Series(y_train, name='pickup_to_delivery')\n",
    "y_train"
   ]
  },
  {
   "cell_type": "code",
   "execution_count": 11,
   "id": "ab7c005256b289b6",
   "metadata": {
    "ExecuteTime": {
     "end_time": "2025-03-27T14:18:30.076755Z",
     "start_time": "2025-03-27T14:18:30.050707Z"
    },
    "collapsed": false
   },
   "outputs": [
    {
     "data": {
      "text/plain": [
       "np.int64(0)"
      ]
     },
     "execution_count": 11,
     "metadata": {},
     "output_type": "execute_result"
    }
   ],
   "source": [
    "y_train.isnull().sum().sum()"
   ]
  },
  {
   "cell_type": "code",
   "execution_count": 12,
   "id": "1830d6e04cb2eed0",
   "metadata": {
    "ExecuteTime": {
     "end_time": "2025-03-27T14:18:30.266272Z",
     "start_time": "2025-03-27T14:18:30.058612Z"
    },
    "collapsed": false
   },
   "outputs": [
    {
     "data": {
      "text/html": [
       "<div>\n",
       "<style scoped>\n",
       "    .dataframe tbody tr th:only-of-type {\n",
       "        vertical-align: middle;\n",
       "    }\n",
       "\n",
       "    .dataframe tbody tr th {\n",
       "        vertical-align: top;\n",
       "    }\n",
       "\n",
       "    .dataframe thead th {\n",
       "        text-align: right;\n",
       "    }\n",
       "</style>\n",
       "<table border=\"1\" class=\"dataframe\">\n",
       "  <thead>\n",
       "    <tr style=\"text-align: right;\">\n",
       "      <th></th>\n",
       "      <th>country_code</th>\n",
       "      <th>order_id</th>\n",
       "      <th>courier_id</th>\n",
       "      <th>creation_timestamp</th>\n",
       "      <th>activation_timestamp</th>\n",
       "      <th>transport</th>\n",
       "      <th>pickup_timestamp</th>\n",
       "      <th>delivery_entering_timestamp</th>\n",
       "      <th>delivery_timestamp</th>\n",
       "      <th>pickup_latitude</th>\n",
       "      <th>...</th>\n",
       "      <th>time_zone</th>\n",
       "      <th>pickup_latitude_rad</th>\n",
       "      <th>pickup_longitude_rad</th>\n",
       "      <th>delivery_latitude_rad</th>\n",
       "      <th>delivery_longitude_rad</th>\n",
       "      <th>pd_distance_haversine_m</th>\n",
       "      <th>pd_distance_haversine_m_sk</th>\n",
       "      <th>pd_distance_manhattan_m</th>\n",
       "      <th>creation_date</th>\n",
       "      <th>city_code</th>\n",
       "    </tr>\n",
       "  </thead>\n",
       "  <tbody>\n",
       "    <tr>\n",
       "      <th>0</th>\n",
       "      <td>ES</td>\n",
       "      <td>100932167582</td>\n",
       "      <td>10191824</td>\n",
       "      <td>2024-10-14 15:51:51+00:00</td>\n",
       "      <td>2024-10-14 15:51:52+00:00</td>\n",
       "      <td>MOTORBIKE</td>\n",
       "      <td>2024-10-14 16:00:14.017000+00:00</td>\n",
       "      <td>2024-10-14 16:06:55+00:00</td>\n",
       "      <td>2024-10-14 16:08:56+00:00</td>\n",
       "      <td>38.36</td>\n",
       "      <td>...</td>\n",
       "      <td>Europe/Madrid</td>\n",
       "      <td>0.67</td>\n",
       "      <td>-0.01</td>\n",
       "      <td>0.67</td>\n",
       "      <td>-0.01</td>\n",
       "      <td>1817.53</td>\n",
       "      <td>1817.53</td>\n",
       "      <td>2562.96</td>\n",
       "      <td>2024-10-14</td>\n",
       "      <td>ALC</td>\n",
       "    </tr>\n",
       "    <tr>\n",
       "      <th>1</th>\n",
       "      <td>ES</td>\n",
       "      <td>100932256816</td>\n",
       "      <td>50618208</td>\n",
       "      <td>2024-10-14 16:36:30+00:00</td>\n",
       "      <td>2024-10-14 16:36:31+00:00</td>\n",
       "      <td>CAR</td>\n",
       "      <td>2024-10-14 16:45:53.061000+00:00</td>\n",
       "      <td>2024-10-14 16:53:56+00:00</td>\n",
       "      <td>2024-10-14 16:56:21+00:00</td>\n",
       "      <td>38.35</td>\n",
       "      <td>...</td>\n",
       "      <td>Europe/Madrid</td>\n",
       "      <td>0.67</td>\n",
       "      <td>-0.01</td>\n",
       "      <td>0.67</td>\n",
       "      <td>-0.01</td>\n",
       "      <td>757.29</td>\n",
       "      <td>757.29</td>\n",
       "      <td>1071.86</td>\n",
       "      <td>2024-10-14</td>\n",
       "      <td>ALC</td>\n",
       "    </tr>\n",
       "    <tr>\n",
       "      <th>2</th>\n",
       "      <td>ES</td>\n",
       "      <td>100932496959</td>\n",
       "      <td>170202435</td>\n",
       "      <td>2024-10-14 18:26:33+00:00</td>\n",
       "      <td>2024-10-14 18:26:34+00:00</td>\n",
       "      <td>MOTORBIKE</td>\n",
       "      <td>2024-10-14 18:35:05.220000+00:00</td>\n",
       "      <td>2024-10-14 18:41:32+00:00</td>\n",
       "      <td>2024-10-14 18:43:20+00:00</td>\n",
       "      <td>38.43</td>\n",
       "      <td>...</td>\n",
       "      <td>Europe/Madrid</td>\n",
       "      <td>0.67</td>\n",
       "      <td>-0.01</td>\n",
       "      <td>0.67</td>\n",
       "      <td>-0.01</td>\n",
       "      <td>2541.01</td>\n",
       "      <td>2541.01</td>\n",
       "      <td>3531.02</td>\n",
       "      <td>2024-10-14</td>\n",
       "      <td>ALC</td>\n",
       "    </tr>\n",
       "    <tr>\n",
       "      <th>3</th>\n",
       "      <td>ES</td>\n",
       "      <td>100932664161</td>\n",
       "      <td>166731686</td>\n",
       "      <td>2024-10-14 19:30:57+00:00</td>\n",
       "      <td>2024-10-14 19:30:59+00:00</td>\n",
       "      <td>CAR</td>\n",
       "      <td>2024-10-14 19:58:06.210000+00:00</td>\n",
       "      <td>2024-10-14 20:03:31+00:00</td>\n",
       "      <td>2024-10-14 20:04:48+00:00</td>\n",
       "      <td>38.40</td>\n",
       "      <td>...</td>\n",
       "      <td>Europe/Madrid</td>\n",
       "      <td>0.67</td>\n",
       "      <td>-0.01</td>\n",
       "      <td>0.67</td>\n",
       "      <td>-0.01</td>\n",
       "      <td>1432.01</td>\n",
       "      <td>1432.01</td>\n",
       "      <td>1931.87</td>\n",
       "      <td>2024-10-14</td>\n",
       "      <td>ALC</td>\n",
       "    </tr>\n",
       "    <tr>\n",
       "      <th>4</th>\n",
       "      <td>ES</td>\n",
       "      <td>100932854728</td>\n",
       "      <td>168741567</td>\n",
       "      <td>2024-10-14 20:35:29+00:00</td>\n",
       "      <td>2024-10-14 20:35:30+00:00</td>\n",
       "      <td>CAR</td>\n",
       "      <td>2024-10-14 20:57:11.030000+00:00</td>\n",
       "      <td>2024-10-14 21:00:16+00:00</td>\n",
       "      <td>2024-10-14 21:04:55+00:00</td>\n",
       "      <td>38.36</td>\n",
       "      <td>...</td>\n",
       "      <td>Europe/Madrid</td>\n",
       "      <td>0.67</td>\n",
       "      <td>-0.01</td>\n",
       "      <td>0.67</td>\n",
       "      <td>-0.01</td>\n",
       "      <td>477.65</td>\n",
       "      <td>477.65</td>\n",
       "      <td>544.53</td>\n",
       "      <td>2024-10-14</td>\n",
       "      <td>ALC</td>\n",
       "    </tr>\n",
       "  </tbody>\n",
       "</table>\n",
       "<p>5 rows × 23 columns</p>\n",
       "</div>"
      ],
      "text/plain": [
       "  country_code      order_id  courier_id        creation_timestamp  \\\n",
       "0           ES  100932167582    10191824 2024-10-14 15:51:51+00:00   \n",
       "1           ES  100932256816    50618208 2024-10-14 16:36:30+00:00   \n",
       "2           ES  100932496959   170202435 2024-10-14 18:26:33+00:00   \n",
       "3           ES  100932664161   166731686 2024-10-14 19:30:57+00:00   \n",
       "4           ES  100932854728   168741567 2024-10-14 20:35:29+00:00   \n",
       "\n",
       "       activation_timestamp  transport                 pickup_timestamp  \\\n",
       "0 2024-10-14 15:51:52+00:00  MOTORBIKE 2024-10-14 16:00:14.017000+00:00   \n",
       "1 2024-10-14 16:36:31+00:00        CAR 2024-10-14 16:45:53.061000+00:00   \n",
       "2 2024-10-14 18:26:34+00:00  MOTORBIKE 2024-10-14 18:35:05.220000+00:00   \n",
       "3 2024-10-14 19:30:59+00:00        CAR 2024-10-14 19:58:06.210000+00:00   \n",
       "4 2024-10-14 20:35:30+00:00        CAR 2024-10-14 20:57:11.030000+00:00   \n",
       "\n",
       "  delivery_entering_timestamp        delivery_timestamp  pickup_latitude  ...  \\\n",
       "0   2024-10-14 16:06:55+00:00 2024-10-14 16:08:56+00:00            38.36  ...   \n",
       "1   2024-10-14 16:53:56+00:00 2024-10-14 16:56:21+00:00            38.35  ...   \n",
       "2   2024-10-14 18:41:32+00:00 2024-10-14 18:43:20+00:00            38.43  ...   \n",
       "3   2024-10-14 20:03:31+00:00 2024-10-14 20:04:48+00:00            38.40  ...   \n",
       "4   2024-10-14 21:00:16+00:00 2024-10-14 21:04:55+00:00            38.36  ...   \n",
       "\n",
       "       time_zone  pickup_latitude_rad  pickup_longitude_rad  \\\n",
       "0  Europe/Madrid                 0.67                 -0.01   \n",
       "1  Europe/Madrid                 0.67                 -0.01   \n",
       "2  Europe/Madrid                 0.67                 -0.01   \n",
       "3  Europe/Madrid                 0.67                 -0.01   \n",
       "4  Europe/Madrid                 0.67                 -0.01   \n",
       "\n",
       "  delivery_latitude_rad  delivery_longitude_rad  pd_distance_haversine_m  \\\n",
       "0                  0.67                   -0.01                  1817.53   \n",
       "1                  0.67                   -0.01                   757.29   \n",
       "2                  0.67                   -0.01                  2541.01   \n",
       "3                  0.67                   -0.01                  1432.01   \n",
       "4                  0.67                   -0.01                   477.65   \n",
       "\n",
       "   pd_distance_haversine_m_sk  pd_distance_manhattan_m  creation_date  \\\n",
       "0                     1817.53                  2562.96     2024-10-14   \n",
       "1                      757.29                  1071.86     2024-10-14   \n",
       "2                     2541.01                  3531.02     2024-10-14   \n",
       "3                     1432.01                  1931.87     2024-10-14   \n",
       "4                      477.65                   544.53     2024-10-14   \n",
       "\n",
       "   city_code  \n",
       "0        ALC  \n",
       "1        ALC  \n",
       "2        ALC  \n",
       "3        ALC  \n",
       "4        ALC  \n",
       "\n",
       "[5 rows x 23 columns]"
      ]
     },
     "execution_count": 12,
     "metadata": {},
     "output_type": "execute_result"
    }
   ],
   "source": [
    "X_test = pd.read_parquet(\"data/parquet/dataframe.parquet\", filters=[('creation_date', '>=', begin_test_date)])\n",
    "X_test.head()"
   ]
  },
  {
   "cell_type": "code",
   "execution_count": 13,
   "id": "273b4efbb39767db",
   "metadata": {
    "ExecuteTime": {
     "end_time": "2025-03-27T14:18:30.387782Z",
     "start_time": "2025-03-27T14:18:30.327778Z"
    },
    "collapsed": false
   },
   "outputs": [
    {
     "data": {
      "text/plain": [
       "np.int64(0)"
      ]
     },
     "execution_count": 13,
     "metadata": {},
     "output_type": "execute_result"
    }
   ],
   "source": [
    "X_test.isnull().sum().sum()"
   ]
  },
  {
   "cell_type": "code",
   "execution_count": 14,
   "id": "52ce014a35efad12",
   "metadata": {
    "ExecuteTime": {
     "end_time": "2025-03-27T14:18:30.413646Z",
     "start_time": "2025-03-27T14:18:30.344434Z"
    },
    "collapsed": false
   },
   "outputs": [
    {
     "data": {
      "text/plain": [
       "0        400.98\n",
       "1        482.94\n",
       "2        386.78\n",
       "3        324.79\n",
       "4        184.97\n",
       "          ...  \n",
       "349864   632.29\n",
       "349865   557.10\n",
       "349866   304.41\n",
       "349867   522.05\n",
       "349868   291.69\n",
       "Name: pickup_to_delivery, Length: 349869, dtype: float64"
      ]
     },
     "execution_count": 14,
     "metadata": {},
     "output_type": "execute_result"
    }
   ],
   "source": [
    "y_test = (X_test['delivery_entering_timestamp'] - X_test['pickup_timestamp']).dt.total_seconds()\n",
    "y_test = pd.Series(y_test, dtype=np.float64, name='pickup_to_delivery')\n",
    "y_test"
   ]
  },
  {
   "cell_type": "code",
   "execution_count": 15,
   "id": "cfb62def0b2bf287",
   "metadata": {
    "ExecuteTime": {
     "end_time": "2025-03-27T14:18:30.415712Z",
     "start_time": "2025-03-27T14:18:30.361529Z"
    },
    "collapsed": false
   },
   "outputs": [
    {
     "data": {
      "text/plain": [
       "np.int64(0)"
      ]
     },
     "execution_count": 15,
     "metadata": {},
     "output_type": "execute_result"
    }
   ],
   "source": [
    "y_test.isnull().sum().sum()"
   ]
  },
  {
   "cell_type": "code",
   "execution_count": 16,
   "id": "2d2fff1089f25047",
   "metadata": {
    "ExecuteTime": {
     "end_time": "2025-03-27T14:18:30.417247Z",
     "start_time": "2025-03-27T14:18:30.368046Z"
    },
    "collapsed": false
   },
   "outputs": [
    {
     "name": "stdout",
     "output_type": "stream",
     "text": [
      "Train datasets shapes:  (678751, 23) (678751,)\n",
      "Test datasets shapes:  (349869, 23) (349869,)\n"
     ]
    }
   ],
   "source": [
    "print(\"Train datasets shapes: \", X_train.shape, y_train.shape)\n",
    "print(\"Test datasets shapes: \", X_test.shape, y_test.shape)"
   ]
  },
  {
   "cell_type": "markdown",
   "id": "e01843bd221d9df1",
   "metadata": {
    "collapsed": false
   },
   "source": [
    "## Baseline Models\n",
    "\n",
    "### BaselineModel_sum"
   ]
  },
  {
   "cell_type": "code",
   "execution_count": 17,
   "id": "3fef5cd8",
   "metadata": {},
   "outputs": [
    {
     "name": "stdout",
     "output_type": "stream",
     "text": [
      "Start time: 2025-04-16 18:44:14.713528\n"
     ]
    }
   ],
   "source": [
    "start = datetime.datetime.now()\n",
    "print(f\"Start time: {start}\")"
   ]
  },
  {
   "cell_type": "code",
   "execution_count": 18,
   "id": "7319e4fbfc086581",
   "metadata": {
    "ExecuteTime": {
     "end_time": "2025-03-27T14:18:30.772287Z",
     "start_time": "2025-03-27T14:18:30.370825Z"
    },
    "collapsed": false
   },
   "outputs": [
    {
     "name": "stderr",
     "output_type": "stream",
     "text": [
      "INFO:root:Train datasets shapes: X: (678751, 23), y: (678751,)\n"
     ]
    },
    {
     "data": {
      "text/plain": [
       "<estimator.BaselineModel_sum at 0x11db81e50>"
      ]
     },
     "execution_count": 18,
     "metadata": {},
     "output_type": "execute_result"
    }
   ],
   "source": [
    "model_bl_sum = BaselineModel_sum()\n",
    "model_bl_sum.fit(X_train, y_train)"
   ]
  },
  {
   "cell_type": "code",
   "execution_count": 19,
   "id": "85e4ee5b",
   "metadata": {},
   "outputs": [
    {
     "name": "stdout",
     "output_type": "stream",
     "text": [
      "End time: 2025-04-16 18:44:15.073964\n",
      "Time elapsed: 0:00:00.360436\n"
     ]
    }
   ],
   "source": [
    "end = datetime.datetime.now()\n",
    "print(f\"End time: {end}\")\n",
    "model_bl_sum_time = end - start\n",
    "print(f\"Time elapsed: {model_bl_sum_time}\")"
   ]
  },
  {
   "cell_type": "code",
   "execution_count": 20,
   "id": "98ce61d074b1f290",
   "metadata": {
    "ExecuteTime": {
     "end_time": "2025-03-27T14:18:47.677669Z",
     "start_time": "2025-03-27T14:18:30.772839Z"
    },
    "collapsed": false
   },
   "outputs": [
    {
     "data": {
      "text/html": [
       "<div>\n",
       "<style scoped>\n",
       "    .dataframe tbody tr th:only-of-type {\n",
       "        vertical-align: middle;\n",
       "    }\n",
       "\n",
       "    .dataframe tbody tr th {\n",
       "        vertical-align: top;\n",
       "    }\n",
       "\n",
       "    .dataframe thead th {\n",
       "        text-align: right;\n",
       "    }\n",
       "</style>\n",
       "<table border=\"1\" class=\"dataframe\">\n",
       "  <thead>\n",
       "    <tr style=\"text-align: right;\">\n",
       "      <th></th>\n",
       "      <th>country_code</th>\n",
       "      <th>order_id</th>\n",
       "      <th>courier_id</th>\n",
       "      <th>creation_timestamp</th>\n",
       "      <th>activation_timestamp</th>\n",
       "      <th>transport</th>\n",
       "      <th>pickup_timestamp</th>\n",
       "      <th>delivery_entering_timestamp</th>\n",
       "      <th>delivery_timestamp</th>\n",
       "      <th>pickup_latitude</th>\n",
       "      <th>...</th>\n",
       "      <th>delivery_latitude_rad</th>\n",
       "      <th>delivery_longitude_rad</th>\n",
       "      <th>pd_distance_haversine_m</th>\n",
       "      <th>pd_distance_haversine_m_sk</th>\n",
       "      <th>pd_distance_manhattan_m</th>\n",
       "      <th>creation_date</th>\n",
       "      <th>city_code</th>\n",
       "      <th>y_test_predicted</th>\n",
       "      <th>y_test</th>\n",
       "      <th>diff</th>\n",
       "    </tr>\n",
       "  </thead>\n",
       "  <tbody>\n",
       "    <tr>\n",
       "      <th>0</th>\n",
       "      <td>ES</td>\n",
       "      <td>100932167582</td>\n",
       "      <td>10191824</td>\n",
       "      <td>2024-10-14 15:51:51+00:00</td>\n",
       "      <td>2024-10-14 15:51:52+00:00</td>\n",
       "      <td>MOTORBIKE</td>\n",
       "      <td>2024-10-14 16:00:14.017000+00:00</td>\n",
       "      <td>2024-10-14 16:06:55+00:00</td>\n",
       "      <td>2024-10-14 16:08:56+00:00</td>\n",
       "      <td>38.36</td>\n",
       "      <td>...</td>\n",
       "      <td>0.67</td>\n",
       "      <td>-0.01</td>\n",
       "      <td>1817.53</td>\n",
       "      <td>1817.53</td>\n",
       "      <td>2562.96</td>\n",
       "      <td>2024-10-14</td>\n",
       "      <td>ALC</td>\n",
       "      <td>581.14</td>\n",
       "      <td>400.98</td>\n",
       "      <td>180.15</td>\n",
       "    </tr>\n",
       "    <tr>\n",
       "      <th>1</th>\n",
       "      <td>ES</td>\n",
       "      <td>100932256816</td>\n",
       "      <td>50618208</td>\n",
       "      <td>2024-10-14 16:36:30+00:00</td>\n",
       "      <td>2024-10-14 16:36:31+00:00</td>\n",
       "      <td>CAR</td>\n",
       "      <td>2024-10-14 16:45:53.061000+00:00</td>\n",
       "      <td>2024-10-14 16:53:56+00:00</td>\n",
       "      <td>2024-10-14 16:56:21+00:00</td>\n",
       "      <td>38.35</td>\n",
       "      <td>...</td>\n",
       "      <td>0.67</td>\n",
       "      <td>-0.01</td>\n",
       "      <td>757.29</td>\n",
       "      <td>757.29</td>\n",
       "      <td>1071.86</td>\n",
       "      <td>2024-10-14</td>\n",
       "      <td>ALC</td>\n",
       "      <td>213.69</td>\n",
       "      <td>482.94</td>\n",
       "      <td>-269.25</td>\n",
       "    </tr>\n",
       "    <tr>\n",
       "      <th>2</th>\n",
       "      <td>ES</td>\n",
       "      <td>100932496959</td>\n",
       "      <td>170202435</td>\n",
       "      <td>2024-10-14 18:26:33+00:00</td>\n",
       "      <td>2024-10-14 18:26:34+00:00</td>\n",
       "      <td>MOTORBIKE</td>\n",
       "      <td>2024-10-14 18:35:05.220000+00:00</td>\n",
       "      <td>2024-10-14 18:41:32+00:00</td>\n",
       "      <td>2024-10-14 18:43:20+00:00</td>\n",
       "      <td>38.43</td>\n",
       "      <td>...</td>\n",
       "      <td>0.67</td>\n",
       "      <td>-0.01</td>\n",
       "      <td>2541.01</td>\n",
       "      <td>2541.01</td>\n",
       "      <td>3531.02</td>\n",
       "      <td>2024-10-14</td>\n",
       "      <td>ALC</td>\n",
       "      <td>812.46</td>\n",
       "      <td>386.78</td>\n",
       "      <td>425.68</td>\n",
       "    </tr>\n",
       "    <tr>\n",
       "      <th>3</th>\n",
       "      <td>ES</td>\n",
       "      <td>100932664161</td>\n",
       "      <td>166731686</td>\n",
       "      <td>2024-10-14 19:30:57+00:00</td>\n",
       "      <td>2024-10-14 19:30:59+00:00</td>\n",
       "      <td>CAR</td>\n",
       "      <td>2024-10-14 19:58:06.210000+00:00</td>\n",
       "      <td>2024-10-14 20:03:31+00:00</td>\n",
       "      <td>2024-10-14 20:04:48+00:00</td>\n",
       "      <td>38.40</td>\n",
       "      <td>...</td>\n",
       "      <td>0.67</td>\n",
       "      <td>-0.01</td>\n",
       "      <td>1432.01</td>\n",
       "      <td>1432.01</td>\n",
       "      <td>1931.87</td>\n",
       "      <td>2024-10-14</td>\n",
       "      <td>ALC</td>\n",
       "      <td>404.09</td>\n",
       "      <td>324.79</td>\n",
       "      <td>79.30</td>\n",
       "    </tr>\n",
       "    <tr>\n",
       "      <th>4</th>\n",
       "      <td>ES</td>\n",
       "      <td>100932854728</td>\n",
       "      <td>168741567</td>\n",
       "      <td>2024-10-14 20:35:29+00:00</td>\n",
       "      <td>2024-10-14 20:35:30+00:00</td>\n",
       "      <td>CAR</td>\n",
       "      <td>2024-10-14 20:57:11.030000+00:00</td>\n",
       "      <td>2024-10-14 21:00:16+00:00</td>\n",
       "      <td>2024-10-14 21:04:55+00:00</td>\n",
       "      <td>38.36</td>\n",
       "      <td>...</td>\n",
       "      <td>0.67</td>\n",
       "      <td>-0.01</td>\n",
       "      <td>477.65</td>\n",
       "      <td>477.65</td>\n",
       "      <td>544.53</td>\n",
       "      <td>2024-10-14</td>\n",
       "      <td>ALC</td>\n",
       "      <td>134.78</td>\n",
       "      <td>184.97</td>\n",
       "      <td>-50.19</td>\n",
       "    </tr>\n",
       "    <tr>\n",
       "      <th>...</th>\n",
       "      <td>...</td>\n",
       "      <td>...</td>\n",
       "      <td>...</td>\n",
       "      <td>...</td>\n",
       "      <td>...</td>\n",
       "      <td>...</td>\n",
       "      <td>...</td>\n",
       "      <td>...</td>\n",
       "      <td>...</td>\n",
       "      <td>...</td>\n",
       "      <td>...</td>\n",
       "      <td>...</td>\n",
       "      <td>...</td>\n",
       "      <td>...</td>\n",
       "      <td>...</td>\n",
       "      <td>...</td>\n",
       "      <td>...</td>\n",
       "      <td>...</td>\n",
       "      <td>...</td>\n",
       "      <td>...</td>\n",
       "      <td>...</td>\n",
       "    </tr>\n",
       "    <tr>\n",
       "      <th>349864</th>\n",
       "      <td>ES</td>\n",
       "      <td>100947015472</td>\n",
       "      <td>176969368</td>\n",
       "      <td>2024-10-21 00:57:33+00:00</td>\n",
       "      <td>2024-10-21 00:57:34+00:00</td>\n",
       "      <td>BICYCLE</td>\n",
       "      <td>2024-10-21 01:12:35.705000+00:00</td>\n",
       "      <td>2024-10-21 01:23:08+00:00</td>\n",
       "      <td>2024-10-21 01:32:38+00:00</td>\n",
       "      <td>37.38</td>\n",
       "      <td>...</td>\n",
       "      <td>0.65</td>\n",
       "      <td>-0.10</td>\n",
       "      <td>2098.39</td>\n",
       "      <td>2098.39</td>\n",
       "      <td>2925.83</td>\n",
       "      <td>2024-10-20</td>\n",
       "      <td>SEV</td>\n",
       "      <td>788.86</td>\n",
       "      <td>632.29</td>\n",
       "      <td>156.57</td>\n",
       "    </tr>\n",
       "    <tr>\n",
       "      <th>349865</th>\n",
       "      <td>ES</td>\n",
       "      <td>100944621553</td>\n",
       "      <td>159448683</td>\n",
       "      <td>2024-10-20 10:33:25+00:00</td>\n",
       "      <td>2024-10-20 10:33:26+00:00</td>\n",
       "      <td>CAR</td>\n",
       "      <td>2024-10-20 11:01:33.897000+00:00</td>\n",
       "      <td>2024-10-20 11:10:51+00:00</td>\n",
       "      <td>2024-10-20 11:12:43+00:00</td>\n",
       "      <td>37.38</td>\n",
       "      <td>...</td>\n",
       "      <td>0.65</td>\n",
       "      <td>-0.10</td>\n",
       "      <td>2080.63</td>\n",
       "      <td>2080.63</td>\n",
       "      <td>2601.94</td>\n",
       "      <td>2024-10-20</td>\n",
       "      <td>SEV</td>\n",
       "      <td>587.11</td>\n",
       "      <td>557.10</td>\n",
       "      <td>30.01</td>\n",
       "    </tr>\n",
       "    <tr>\n",
       "      <th>349866</th>\n",
       "      <td>ES</td>\n",
       "      <td>100945007795</td>\n",
       "      <td>145859188</td>\n",
       "      <td>2024-10-20 13:32:20+00:00</td>\n",
       "      <td>2024-10-20 13:32:21+00:00</td>\n",
       "      <td>BICYCLE</td>\n",
       "      <td>2024-10-20 13:39:11.591000+00:00</td>\n",
       "      <td>2024-10-20 13:44:16+00:00</td>\n",
       "      <td>2024-10-20 13:48:51+00:00</td>\n",
       "      <td>37.38</td>\n",
       "      <td>...</td>\n",
       "      <td>0.65</td>\n",
       "      <td>-0.10</td>\n",
       "      <td>622.01</td>\n",
       "      <td>622.01</td>\n",
       "      <td>824.28</td>\n",
       "      <td>2024-10-20</td>\n",
       "      <td>SEV</td>\n",
       "      <td>233.84</td>\n",
       "      <td>304.41</td>\n",
       "      <td>-70.57</td>\n",
       "    </tr>\n",
       "    <tr>\n",
       "      <th>349867</th>\n",
       "      <td>ES</td>\n",
       "      <td>100945051115</td>\n",
       "      <td>177805460</td>\n",
       "      <td>2024-10-20 13:44:47+00:00</td>\n",
       "      <td>2024-10-20 13:44:49+00:00</td>\n",
       "      <td>MOTORBIKE</td>\n",
       "      <td>2024-10-20 13:53:20.950000+00:00</td>\n",
       "      <td>2024-10-20 14:02:03+00:00</td>\n",
       "      <td>2024-10-20 14:02:46+00:00</td>\n",
       "      <td>37.35</td>\n",
       "      <td>...</td>\n",
       "      <td>0.65</td>\n",
       "      <td>-0.11</td>\n",
       "      <td>2980.41</td>\n",
       "      <td>2980.41</td>\n",
       "      <td>3963.16</td>\n",
       "      <td>2024-10-20</td>\n",
       "      <td>SEV</td>\n",
       "      <td>952.95</td>\n",
       "      <td>522.05</td>\n",
       "      <td>430.90</td>\n",
       "    </tr>\n",
       "    <tr>\n",
       "      <th>349868</th>\n",
       "      <td>ES</td>\n",
       "      <td>100945161290</td>\n",
       "      <td>159404655</td>\n",
       "      <td>2024-10-20 14:15:13+00:00</td>\n",
       "      <td>2024-10-20 14:15:13+00:00</td>\n",
       "      <td>BICYCLE</td>\n",
       "      <td>2024-10-20 14:22:32.313000+00:00</td>\n",
       "      <td>2024-10-20 14:27:24+00:00</td>\n",
       "      <td>2024-10-20 14:32:27+00:00</td>\n",
       "      <td>37.36</td>\n",
       "      <td>...</td>\n",
       "      <td>0.65</td>\n",
       "      <td>-0.10</td>\n",
       "      <td>778.20</td>\n",
       "      <td>778.20</td>\n",
       "      <td>1077.49</td>\n",
       "      <td>2024-10-20</td>\n",
       "      <td>SEV</td>\n",
       "      <td>292.56</td>\n",
       "      <td>291.69</td>\n",
       "      <td>0.87</td>\n",
       "    </tr>\n",
       "  </tbody>\n",
       "</table>\n",
       "<p>349869 rows × 26 columns</p>\n",
       "</div>"
      ],
      "text/plain": [
       "       country_code      order_id  courier_id        creation_timestamp  \\\n",
       "0                ES  100932167582    10191824 2024-10-14 15:51:51+00:00   \n",
       "1                ES  100932256816    50618208 2024-10-14 16:36:30+00:00   \n",
       "2                ES  100932496959   170202435 2024-10-14 18:26:33+00:00   \n",
       "3                ES  100932664161   166731686 2024-10-14 19:30:57+00:00   \n",
       "4                ES  100932854728   168741567 2024-10-14 20:35:29+00:00   \n",
       "...             ...           ...         ...                       ...   \n",
       "349864           ES  100947015472   176969368 2024-10-21 00:57:33+00:00   \n",
       "349865           ES  100944621553   159448683 2024-10-20 10:33:25+00:00   \n",
       "349866           ES  100945007795   145859188 2024-10-20 13:32:20+00:00   \n",
       "349867           ES  100945051115   177805460 2024-10-20 13:44:47+00:00   \n",
       "349868           ES  100945161290   159404655 2024-10-20 14:15:13+00:00   \n",
       "\n",
       "            activation_timestamp  transport                 pickup_timestamp  \\\n",
       "0      2024-10-14 15:51:52+00:00  MOTORBIKE 2024-10-14 16:00:14.017000+00:00   \n",
       "1      2024-10-14 16:36:31+00:00        CAR 2024-10-14 16:45:53.061000+00:00   \n",
       "2      2024-10-14 18:26:34+00:00  MOTORBIKE 2024-10-14 18:35:05.220000+00:00   \n",
       "3      2024-10-14 19:30:59+00:00        CAR 2024-10-14 19:58:06.210000+00:00   \n",
       "4      2024-10-14 20:35:30+00:00        CAR 2024-10-14 20:57:11.030000+00:00   \n",
       "...                          ...        ...                              ...   \n",
       "349864 2024-10-21 00:57:34+00:00    BICYCLE 2024-10-21 01:12:35.705000+00:00   \n",
       "349865 2024-10-20 10:33:26+00:00        CAR 2024-10-20 11:01:33.897000+00:00   \n",
       "349866 2024-10-20 13:32:21+00:00    BICYCLE 2024-10-20 13:39:11.591000+00:00   \n",
       "349867 2024-10-20 13:44:49+00:00  MOTORBIKE 2024-10-20 13:53:20.950000+00:00   \n",
       "349868 2024-10-20 14:15:13+00:00    BICYCLE 2024-10-20 14:22:32.313000+00:00   \n",
       "\n",
       "       delivery_entering_timestamp        delivery_timestamp  pickup_latitude  \\\n",
       "0        2024-10-14 16:06:55+00:00 2024-10-14 16:08:56+00:00            38.36   \n",
       "1        2024-10-14 16:53:56+00:00 2024-10-14 16:56:21+00:00            38.35   \n",
       "2        2024-10-14 18:41:32+00:00 2024-10-14 18:43:20+00:00            38.43   \n",
       "3        2024-10-14 20:03:31+00:00 2024-10-14 20:04:48+00:00            38.40   \n",
       "4        2024-10-14 21:00:16+00:00 2024-10-14 21:04:55+00:00            38.36   \n",
       "...                            ...                       ...              ...   \n",
       "349864   2024-10-21 01:23:08+00:00 2024-10-21 01:32:38+00:00            37.38   \n",
       "349865   2024-10-20 11:10:51+00:00 2024-10-20 11:12:43+00:00            37.38   \n",
       "349866   2024-10-20 13:44:16+00:00 2024-10-20 13:48:51+00:00            37.38   \n",
       "349867   2024-10-20 14:02:03+00:00 2024-10-20 14:02:46+00:00            37.35   \n",
       "349868   2024-10-20 14:27:24+00:00 2024-10-20 14:32:27+00:00            37.36   \n",
       "\n",
       "        ...  delivery_latitude_rad  delivery_longitude_rad  \\\n",
       "0       ...                   0.67                   -0.01   \n",
       "1       ...                   0.67                   -0.01   \n",
       "2       ...                   0.67                   -0.01   \n",
       "3       ...                   0.67                   -0.01   \n",
       "4       ...                   0.67                   -0.01   \n",
       "...     ...                    ...                     ...   \n",
       "349864  ...                   0.65                   -0.10   \n",
       "349865  ...                   0.65                   -0.10   \n",
       "349866  ...                   0.65                   -0.10   \n",
       "349867  ...                   0.65                   -0.11   \n",
       "349868  ...                   0.65                   -0.10   \n",
       "\n",
       "        pd_distance_haversine_m pd_distance_haversine_m_sk  \\\n",
       "0                       1817.53                    1817.53   \n",
       "1                        757.29                     757.29   \n",
       "2                       2541.01                    2541.01   \n",
       "3                       1432.01                    1432.01   \n",
       "4                        477.65                     477.65   \n",
       "...                         ...                        ...   \n",
       "349864                  2098.39                    2098.39   \n",
       "349865                  2080.63                    2080.63   \n",
       "349866                   622.01                     622.01   \n",
       "349867                  2980.41                    2980.41   \n",
       "349868                   778.20                     778.20   \n",
       "\n",
       "        pd_distance_manhattan_m  creation_date  city_code  y_test_predicted  \\\n",
       "0                       2562.96     2024-10-14        ALC            581.14   \n",
       "1                       1071.86     2024-10-14        ALC            213.69   \n",
       "2                       3531.02     2024-10-14        ALC            812.46   \n",
       "3                       1931.87     2024-10-14        ALC            404.09   \n",
       "4                        544.53     2024-10-14        ALC            134.78   \n",
       "...                         ...            ...        ...               ...   \n",
       "349864                  2925.83     2024-10-20        SEV            788.86   \n",
       "349865                  2601.94     2024-10-20        SEV            587.11   \n",
       "349866                   824.28     2024-10-20        SEV            233.84   \n",
       "349867                  3963.16     2024-10-20        SEV            952.95   \n",
       "349868                  1077.49     2024-10-20        SEV            292.56   \n",
       "\n",
       "        y_test    diff  \n",
       "0       400.98  180.15  \n",
       "1       482.94 -269.25  \n",
       "2       386.78  425.68  \n",
       "3       324.79   79.30  \n",
       "4       184.97  -50.19  \n",
       "...        ...     ...  \n",
       "349864  632.29  156.57  \n",
       "349865  557.10   30.01  \n",
       "349866  304.41  -70.57  \n",
       "349867  522.05  430.90  \n",
       "349868  291.69    0.87  \n",
       "\n",
       "[349869 rows x 26 columns]"
      ]
     },
     "execution_count": 20,
     "metadata": {},
     "output_type": "execute_result"
    }
   ],
   "source": [
    "X_test_expanded = X_test.copy()\n",
    "X_test_expanded['y_test_predicted'] = model_bl_sum.predict(X_test)\n",
    "X_test_expanded['y_test'] = (X_test_expanded['delivery_entering_timestamp'] - X_test_expanded['pickup_timestamp']).dt.total_seconds()\n",
    "X_test_expanded['diff'] = X_test_expanded['y_test_predicted'] - X_test_expanded['y_test']\n",
    "X_test_expanded"
   ]
  },
  {
   "cell_type": "code",
   "execution_count": 21,
   "id": "db7ceb8d51efef42",
   "metadata": {
    "ExecuteTime": {
     "end_time": "2025-03-27T14:18:47.691666Z",
     "start_time": "2025-03-27T14:18:47.680283Z"
    },
    "collapsed": false
   },
   "outputs": [
    {
     "data": {
      "text/plain": [
       "0   581.14\n",
       "Name: pickup_to_delivery_predicted, dtype: float64"
      ]
     },
     "execution_count": 21,
     "metadata": {},
     "output_type": "execute_result"
    }
   ],
   "source": [
    "model_bl_sum.predict(X_test.iloc[0])"
   ]
  },
  {
   "cell_type": "markdown",
   "id": "8d47f07bb7e3c533",
   "metadata": {
    "collapsed": false
   },
   "source": [
    "### Evaluation pipeline"
   ]
  },
  {
   "cell_type": "code",
   "execution_count": 22,
   "id": "92356bab8168e738",
   "metadata": {
    "ExecuteTime": {
     "end_time": "2025-03-27T14:19:03.821236Z",
     "start_time": "2025-03-27T14:18:47.686113Z"
    },
    "collapsed": false
   },
   "outputs": [
    {
     "name": "stdout",
     "output_type": "stream",
     "text": [
      "y_hat <class 'pandas.core.series.Series'> float64\n",
      "y_test <class 'pandas.core.series.Series'> float64\n"
     ]
    },
    {
     "data": {
      "text/plain": [
       "(np.float64(145.6280391037287), np.float64(52902.38788391615))"
      ]
     },
     "execution_count": 22,
     "metadata": {},
     "output_type": "execute_result"
    }
   ],
   "source": [
    "model_bl_sum_eval = model_bl_sum.evaluate(X_test, y_test)\n",
    "model_bl_sum_eval"
   ]
  },
  {
   "cell_type": "markdown",
   "id": "3d31a26bb43bab07",
   "metadata": {
    "collapsed": false
   },
   "source": [
    "### BaselineModel_mean"
   ]
  },
  {
   "cell_type": "code",
   "execution_count": 23,
   "id": "5e2b8fb1",
   "metadata": {},
   "outputs": [
    {
     "name": "stdout",
     "output_type": "stream",
     "text": [
      "Start time: 2025-04-16 18:44:58.930929\n"
     ]
    }
   ],
   "source": [
    "start = datetime.datetime.now()\n",
    "print(f\"Start time: {start}\")"
   ]
  },
  {
   "cell_type": "code",
   "execution_count": 24,
   "id": "199e5c6e339d7c1",
   "metadata": {
    "ExecuteTime": {
     "end_time": "2025-03-27T14:19:04.138431Z",
     "start_time": "2025-03-27T14:19:03.822170Z"
    },
    "collapsed": false
   },
   "outputs": [
    {
     "name": "stderr",
     "output_type": "stream",
     "text": [
      "INFO:root:Train datasets shapes: X: (678751, 23), y: (678751,)\n"
     ]
    },
    {
     "data": {
      "text/plain": [
       "<estimator.BaselineModel_mean at 0x11db82330>"
      ]
     },
     "execution_count": 24,
     "metadata": {},
     "output_type": "execute_result"
    }
   ],
   "source": [
    "model_bl_mean = BaselineModel_mean()\n",
    "model_bl_mean.fit(X_train, y_train)"
   ]
  },
  {
   "cell_type": "code",
   "execution_count": 25,
   "id": "c1a6c82d",
   "metadata": {},
   "outputs": [
    {
     "name": "stdout",
     "output_type": "stream",
     "text": [
      "End time: 2025-04-16 18:44:59.228450\n",
      "Time elapsed: 0:00:00.297521\n"
     ]
    }
   ],
   "source": [
    "end = datetime.datetime.now()\n",
    "print(f\"End time: {end}\")\n",
    "model_bl_mean_time = end - start\n",
    "print(f\"Time elapsed: {model_bl_mean_time}\")"
   ]
  },
  {
   "cell_type": "code",
   "execution_count": 26,
   "id": "da2363ec8ae10e56",
   "metadata": {
    "ExecuteTime": {
     "end_time": "2025-03-27T14:19:19.999882Z",
     "start_time": "2025-03-27T14:19:04.140464Z"
    },
    "collapsed": false
   },
   "outputs": [
    {
     "data": {
      "text/html": [
       "<div>\n",
       "<style scoped>\n",
       "    .dataframe tbody tr th:only-of-type {\n",
       "        vertical-align: middle;\n",
       "    }\n",
       "\n",
       "    .dataframe tbody tr th {\n",
       "        vertical-align: top;\n",
       "    }\n",
       "\n",
       "    .dataframe thead th {\n",
       "        text-align: right;\n",
       "    }\n",
       "</style>\n",
       "<table border=\"1\" class=\"dataframe\">\n",
       "  <thead>\n",
       "    <tr style=\"text-align: right;\">\n",
       "      <th></th>\n",
       "      <th>country_code</th>\n",
       "      <th>order_id</th>\n",
       "      <th>courier_id</th>\n",
       "      <th>creation_timestamp</th>\n",
       "      <th>activation_timestamp</th>\n",
       "      <th>transport</th>\n",
       "      <th>pickup_timestamp</th>\n",
       "      <th>delivery_entering_timestamp</th>\n",
       "      <th>delivery_timestamp</th>\n",
       "      <th>pickup_latitude</th>\n",
       "      <th>...</th>\n",
       "      <th>delivery_latitude_rad</th>\n",
       "      <th>delivery_longitude_rad</th>\n",
       "      <th>pd_distance_haversine_m</th>\n",
       "      <th>pd_distance_haversine_m_sk</th>\n",
       "      <th>pd_distance_manhattan_m</th>\n",
       "      <th>creation_date</th>\n",
       "      <th>city_code</th>\n",
       "      <th>y_test_predicted</th>\n",
       "      <th>y_test</th>\n",
       "      <th>diff</th>\n",
       "    </tr>\n",
       "  </thead>\n",
       "  <tbody>\n",
       "    <tr>\n",
       "      <th>0</th>\n",
       "      <td>ES</td>\n",
       "      <td>100932167582</td>\n",
       "      <td>10191824</td>\n",
       "      <td>2024-10-14 15:51:51+00:00</td>\n",
       "      <td>2024-10-14 15:51:52+00:00</td>\n",
       "      <td>MOTORBIKE</td>\n",
       "      <td>2024-10-14 16:00:14.017000+00:00</td>\n",
       "      <td>2024-10-14 16:06:55+00:00</td>\n",
       "      <td>2024-10-14 16:08:56+00:00</td>\n",
       "      <td>38.36</td>\n",
       "      <td>...</td>\n",
       "      <td>0.67</td>\n",
       "      <td>-0.01</td>\n",
       "      <td>1817.53</td>\n",
       "      <td>1817.53</td>\n",
       "      <td>2562.96</td>\n",
       "      <td>2024-10-14</td>\n",
       "      <td>ALC</td>\n",
       "      <td>408.65</td>\n",
       "      <td>400.98</td>\n",
       "      <td>7.67</td>\n",
       "    </tr>\n",
       "    <tr>\n",
       "      <th>1</th>\n",
       "      <td>ES</td>\n",
       "      <td>100932256816</td>\n",
       "      <td>50618208</td>\n",
       "      <td>2024-10-14 16:36:30+00:00</td>\n",
       "      <td>2024-10-14 16:36:31+00:00</td>\n",
       "      <td>CAR</td>\n",
       "      <td>2024-10-14 16:45:53.061000+00:00</td>\n",
       "      <td>2024-10-14 16:53:56+00:00</td>\n",
       "      <td>2024-10-14 16:56:21+00:00</td>\n",
       "      <td>38.35</td>\n",
       "      <td>...</td>\n",
       "      <td>0.67</td>\n",
       "      <td>-0.01</td>\n",
       "      <td>757.29</td>\n",
       "      <td>757.29</td>\n",
       "      <td>1071.86</td>\n",
       "      <td>2024-10-14</td>\n",
       "      <td>ALC</td>\n",
       "      <td>305.30</td>\n",
       "      <td>482.94</td>\n",
       "      <td>-177.64</td>\n",
       "    </tr>\n",
       "    <tr>\n",
       "      <th>2</th>\n",
       "      <td>ES</td>\n",
       "      <td>100932496959</td>\n",
       "      <td>170202435</td>\n",
       "      <td>2024-10-14 18:26:33+00:00</td>\n",
       "      <td>2024-10-14 18:26:34+00:00</td>\n",
       "      <td>MOTORBIKE</td>\n",
       "      <td>2024-10-14 18:35:05.220000+00:00</td>\n",
       "      <td>2024-10-14 18:41:32+00:00</td>\n",
       "      <td>2024-10-14 18:43:20+00:00</td>\n",
       "      <td>38.43</td>\n",
       "      <td>...</td>\n",
       "      <td>0.67</td>\n",
       "      <td>-0.01</td>\n",
       "      <td>2541.01</td>\n",
       "      <td>2541.01</td>\n",
       "      <td>3531.02</td>\n",
       "      <td>2024-10-14</td>\n",
       "      <td>ALC</td>\n",
       "      <td>571.32</td>\n",
       "      <td>386.78</td>\n",
       "      <td>184.54</td>\n",
       "    </tr>\n",
       "    <tr>\n",
       "      <th>3</th>\n",
       "      <td>ES</td>\n",
       "      <td>100932664161</td>\n",
       "      <td>166731686</td>\n",
       "      <td>2024-10-14 19:30:57+00:00</td>\n",
       "      <td>2024-10-14 19:30:59+00:00</td>\n",
       "      <td>CAR</td>\n",
       "      <td>2024-10-14 19:58:06.210000+00:00</td>\n",
       "      <td>2024-10-14 20:03:31+00:00</td>\n",
       "      <td>2024-10-14 20:04:48+00:00</td>\n",
       "      <td>38.40</td>\n",
       "      <td>...</td>\n",
       "      <td>0.67</td>\n",
       "      <td>-0.01</td>\n",
       "      <td>1432.01</td>\n",
       "      <td>1432.01</td>\n",
       "      <td>1931.87</td>\n",
       "      <td>2024-10-14</td>\n",
       "      <td>ALC</td>\n",
       "      <td>577.31</td>\n",
       "      <td>324.79</td>\n",
       "      <td>252.52</td>\n",
       "    </tr>\n",
       "    <tr>\n",
       "      <th>4</th>\n",
       "      <td>ES</td>\n",
       "      <td>100932854728</td>\n",
       "      <td>168741567</td>\n",
       "      <td>2024-10-14 20:35:29+00:00</td>\n",
       "      <td>2024-10-14 20:35:30+00:00</td>\n",
       "      <td>CAR</td>\n",
       "      <td>2024-10-14 20:57:11.030000+00:00</td>\n",
       "      <td>2024-10-14 21:00:16+00:00</td>\n",
       "      <td>2024-10-14 21:04:55+00:00</td>\n",
       "      <td>38.36</td>\n",
       "      <td>...</td>\n",
       "      <td>0.67</td>\n",
       "      <td>-0.01</td>\n",
       "      <td>477.65</td>\n",
       "      <td>477.65</td>\n",
       "      <td>544.53</td>\n",
       "      <td>2024-10-14</td>\n",
       "      <td>ALC</td>\n",
       "      <td>192.57</td>\n",
       "      <td>184.97</td>\n",
       "      <td>7.60</td>\n",
       "    </tr>\n",
       "    <tr>\n",
       "      <th>...</th>\n",
       "      <td>...</td>\n",
       "      <td>...</td>\n",
       "      <td>...</td>\n",
       "      <td>...</td>\n",
       "      <td>...</td>\n",
       "      <td>...</td>\n",
       "      <td>...</td>\n",
       "      <td>...</td>\n",
       "      <td>...</td>\n",
       "      <td>...</td>\n",
       "      <td>...</td>\n",
       "      <td>...</td>\n",
       "      <td>...</td>\n",
       "      <td>...</td>\n",
       "      <td>...</td>\n",
       "      <td>...</td>\n",
       "      <td>...</td>\n",
       "      <td>...</td>\n",
       "      <td>...</td>\n",
       "      <td>...</td>\n",
       "      <td>...</td>\n",
       "    </tr>\n",
       "    <tr>\n",
       "      <th>349864</th>\n",
       "      <td>ES</td>\n",
       "      <td>100947015472</td>\n",
       "      <td>176969368</td>\n",
       "      <td>2024-10-21 00:57:33+00:00</td>\n",
       "      <td>2024-10-21 00:57:34+00:00</td>\n",
       "      <td>BICYCLE</td>\n",
       "      <td>2024-10-21 01:12:35.705000+00:00</td>\n",
       "      <td>2024-10-21 01:23:08+00:00</td>\n",
       "      <td>2024-10-21 01:32:38+00:00</td>\n",
       "      <td>37.38</td>\n",
       "      <td>...</td>\n",
       "      <td>0.65</td>\n",
       "      <td>-0.10</td>\n",
       "      <td>2098.39</td>\n",
       "      <td>2098.39</td>\n",
       "      <td>2925.83</td>\n",
       "      <td>2024-10-20</td>\n",
       "      <td>SEV</td>\n",
       "      <td>689.62</td>\n",
       "      <td>632.29</td>\n",
       "      <td>57.32</td>\n",
       "    </tr>\n",
       "    <tr>\n",
       "      <th>349865</th>\n",
       "      <td>ES</td>\n",
       "      <td>100944621553</td>\n",
       "      <td>159448683</td>\n",
       "      <td>2024-10-20 10:33:25+00:00</td>\n",
       "      <td>2024-10-20 10:33:26+00:00</td>\n",
       "      <td>CAR</td>\n",
       "      <td>2024-10-20 11:01:33.897000+00:00</td>\n",
       "      <td>2024-10-20 11:10:51+00:00</td>\n",
       "      <td>2024-10-20 11:12:43+00:00</td>\n",
       "      <td>37.38</td>\n",
       "      <td>...</td>\n",
       "      <td>0.65</td>\n",
       "      <td>-0.10</td>\n",
       "      <td>2080.63</td>\n",
       "      <td>2080.63</td>\n",
       "      <td>2601.94</td>\n",
       "      <td>2024-10-20</td>\n",
       "      <td>SEV</td>\n",
       "      <td>838.81</td>\n",
       "      <td>557.10</td>\n",
       "      <td>281.70</td>\n",
       "    </tr>\n",
       "    <tr>\n",
       "      <th>349866</th>\n",
       "      <td>ES</td>\n",
       "      <td>100945007795</td>\n",
       "      <td>145859188</td>\n",
       "      <td>2024-10-20 13:32:20+00:00</td>\n",
       "      <td>2024-10-20 13:32:21+00:00</td>\n",
       "      <td>BICYCLE</td>\n",
       "      <td>2024-10-20 13:39:11.591000+00:00</td>\n",
       "      <td>2024-10-20 13:44:16+00:00</td>\n",
       "      <td>2024-10-20 13:48:51+00:00</td>\n",
       "      <td>37.38</td>\n",
       "      <td>...</td>\n",
       "      <td>0.65</td>\n",
       "      <td>-0.10</td>\n",
       "      <td>622.01</td>\n",
       "      <td>622.01</td>\n",
       "      <td>824.28</td>\n",
       "      <td>2024-10-20</td>\n",
       "      <td>SEV</td>\n",
       "      <td>204.42</td>\n",
       "      <td>304.41</td>\n",
       "      <td>-99.99</td>\n",
       "    </tr>\n",
       "    <tr>\n",
       "      <th>349867</th>\n",
       "      <td>ES</td>\n",
       "      <td>100945051115</td>\n",
       "      <td>177805460</td>\n",
       "      <td>2024-10-20 13:44:47+00:00</td>\n",
       "      <td>2024-10-20 13:44:49+00:00</td>\n",
       "      <td>MOTORBIKE</td>\n",
       "      <td>2024-10-20 13:53:20.950000+00:00</td>\n",
       "      <td>2024-10-20 14:02:03+00:00</td>\n",
       "      <td>2024-10-20 14:02:46+00:00</td>\n",
       "      <td>37.35</td>\n",
       "      <td>...</td>\n",
       "      <td>0.65</td>\n",
       "      <td>-0.11</td>\n",
       "      <td>2980.41</td>\n",
       "      <td>2980.41</td>\n",
       "      <td>3963.16</td>\n",
       "      <td>2024-10-20</td>\n",
       "      <td>SEV</td>\n",
       "      <td>670.11</td>\n",
       "      <td>522.05</td>\n",
       "      <td>148.06</td>\n",
       "    </tr>\n",
       "    <tr>\n",
       "      <th>349868</th>\n",
       "      <td>ES</td>\n",
       "      <td>100945161290</td>\n",
       "      <td>159404655</td>\n",
       "      <td>2024-10-20 14:15:13+00:00</td>\n",
       "      <td>2024-10-20 14:15:13+00:00</td>\n",
       "      <td>BICYCLE</td>\n",
       "      <td>2024-10-20 14:22:32.313000+00:00</td>\n",
       "      <td>2024-10-20 14:27:24+00:00</td>\n",
       "      <td>2024-10-20 14:32:27+00:00</td>\n",
       "      <td>37.36</td>\n",
       "      <td>...</td>\n",
       "      <td>0.65</td>\n",
       "      <td>-0.10</td>\n",
       "      <td>778.20</td>\n",
       "      <td>778.20</td>\n",
       "      <td>1077.49</td>\n",
       "      <td>2024-10-20</td>\n",
       "      <td>SEV</td>\n",
       "      <td>255.75</td>\n",
       "      <td>291.69</td>\n",
       "      <td>-35.94</td>\n",
       "    </tr>\n",
       "  </tbody>\n",
       "</table>\n",
       "<p>349869 rows × 26 columns</p>\n",
       "</div>"
      ],
      "text/plain": [
       "       country_code      order_id  courier_id        creation_timestamp  \\\n",
       "0                ES  100932167582    10191824 2024-10-14 15:51:51+00:00   \n",
       "1                ES  100932256816    50618208 2024-10-14 16:36:30+00:00   \n",
       "2                ES  100932496959   170202435 2024-10-14 18:26:33+00:00   \n",
       "3                ES  100932664161   166731686 2024-10-14 19:30:57+00:00   \n",
       "4                ES  100932854728   168741567 2024-10-14 20:35:29+00:00   \n",
       "...             ...           ...         ...                       ...   \n",
       "349864           ES  100947015472   176969368 2024-10-21 00:57:33+00:00   \n",
       "349865           ES  100944621553   159448683 2024-10-20 10:33:25+00:00   \n",
       "349866           ES  100945007795   145859188 2024-10-20 13:32:20+00:00   \n",
       "349867           ES  100945051115   177805460 2024-10-20 13:44:47+00:00   \n",
       "349868           ES  100945161290   159404655 2024-10-20 14:15:13+00:00   \n",
       "\n",
       "            activation_timestamp  transport                 pickup_timestamp  \\\n",
       "0      2024-10-14 15:51:52+00:00  MOTORBIKE 2024-10-14 16:00:14.017000+00:00   \n",
       "1      2024-10-14 16:36:31+00:00        CAR 2024-10-14 16:45:53.061000+00:00   \n",
       "2      2024-10-14 18:26:34+00:00  MOTORBIKE 2024-10-14 18:35:05.220000+00:00   \n",
       "3      2024-10-14 19:30:59+00:00        CAR 2024-10-14 19:58:06.210000+00:00   \n",
       "4      2024-10-14 20:35:30+00:00        CAR 2024-10-14 20:57:11.030000+00:00   \n",
       "...                          ...        ...                              ...   \n",
       "349864 2024-10-21 00:57:34+00:00    BICYCLE 2024-10-21 01:12:35.705000+00:00   \n",
       "349865 2024-10-20 10:33:26+00:00        CAR 2024-10-20 11:01:33.897000+00:00   \n",
       "349866 2024-10-20 13:32:21+00:00    BICYCLE 2024-10-20 13:39:11.591000+00:00   \n",
       "349867 2024-10-20 13:44:49+00:00  MOTORBIKE 2024-10-20 13:53:20.950000+00:00   \n",
       "349868 2024-10-20 14:15:13+00:00    BICYCLE 2024-10-20 14:22:32.313000+00:00   \n",
       "\n",
       "       delivery_entering_timestamp        delivery_timestamp  pickup_latitude  \\\n",
       "0        2024-10-14 16:06:55+00:00 2024-10-14 16:08:56+00:00            38.36   \n",
       "1        2024-10-14 16:53:56+00:00 2024-10-14 16:56:21+00:00            38.35   \n",
       "2        2024-10-14 18:41:32+00:00 2024-10-14 18:43:20+00:00            38.43   \n",
       "3        2024-10-14 20:03:31+00:00 2024-10-14 20:04:48+00:00            38.40   \n",
       "4        2024-10-14 21:00:16+00:00 2024-10-14 21:04:55+00:00            38.36   \n",
       "...                            ...                       ...              ...   \n",
       "349864   2024-10-21 01:23:08+00:00 2024-10-21 01:32:38+00:00            37.38   \n",
       "349865   2024-10-20 11:10:51+00:00 2024-10-20 11:12:43+00:00            37.38   \n",
       "349866   2024-10-20 13:44:16+00:00 2024-10-20 13:48:51+00:00            37.38   \n",
       "349867   2024-10-20 14:02:03+00:00 2024-10-20 14:02:46+00:00            37.35   \n",
       "349868   2024-10-20 14:27:24+00:00 2024-10-20 14:32:27+00:00            37.36   \n",
       "\n",
       "        ...  delivery_latitude_rad  delivery_longitude_rad  \\\n",
       "0       ...                   0.67                   -0.01   \n",
       "1       ...                   0.67                   -0.01   \n",
       "2       ...                   0.67                   -0.01   \n",
       "3       ...                   0.67                   -0.01   \n",
       "4       ...                   0.67                   -0.01   \n",
       "...     ...                    ...                     ...   \n",
       "349864  ...                   0.65                   -0.10   \n",
       "349865  ...                   0.65                   -0.10   \n",
       "349866  ...                   0.65                   -0.10   \n",
       "349867  ...                   0.65                   -0.11   \n",
       "349868  ...                   0.65                   -0.10   \n",
       "\n",
       "        pd_distance_haversine_m pd_distance_haversine_m_sk  \\\n",
       "0                       1817.53                    1817.53   \n",
       "1                        757.29                     757.29   \n",
       "2                       2541.01                    2541.01   \n",
       "3                       1432.01                    1432.01   \n",
       "4                        477.65                     477.65   \n",
       "...                         ...                        ...   \n",
       "349864                  2098.39                    2098.39   \n",
       "349865                  2080.63                    2080.63   \n",
       "349866                   622.01                     622.01   \n",
       "349867                  2980.41                    2980.41   \n",
       "349868                   778.20                     778.20   \n",
       "\n",
       "        pd_distance_manhattan_m  creation_date  city_code  y_test_predicted  \\\n",
       "0                       2562.96     2024-10-14        ALC            408.65   \n",
       "1                       1071.86     2024-10-14        ALC            305.30   \n",
       "2                       3531.02     2024-10-14        ALC            571.32   \n",
       "3                       1931.87     2024-10-14        ALC            577.31   \n",
       "4                        544.53     2024-10-14        ALC            192.57   \n",
       "...                         ...            ...        ...               ...   \n",
       "349864                  2925.83     2024-10-20        SEV            689.62   \n",
       "349865                  2601.94     2024-10-20        SEV            838.81   \n",
       "349866                   824.28     2024-10-20        SEV            204.42   \n",
       "349867                  3963.16     2024-10-20        SEV            670.11   \n",
       "349868                  1077.49     2024-10-20        SEV            255.75   \n",
       "\n",
       "        y_test    diff  \n",
       "0       400.98    7.67  \n",
       "1       482.94 -177.64  \n",
       "2       386.78  184.54  \n",
       "3       324.79  252.52  \n",
       "4       184.97    7.60  \n",
       "...        ...     ...  \n",
       "349864  632.29   57.32  \n",
       "349865  557.10  281.70  \n",
       "349866  304.41  -99.99  \n",
       "349867  522.05  148.06  \n",
       "349868  291.69  -35.94  \n",
       "\n",
       "[349869 rows x 26 columns]"
      ]
     },
     "execution_count": 26,
     "metadata": {},
     "output_type": "execute_result"
    }
   ],
   "source": [
    "X_test_expanded = X_test.copy()\n",
    "X_test_expanded['y_test_predicted'] = model_bl_mean.predict(X_test)\n",
    "X_test_expanded['y_test'] = (X_test_expanded['delivery_entering_timestamp'] - X_test_expanded['pickup_timestamp']).dt.total_seconds()\n",
    "X_test_expanded['diff'] = X_test_expanded['y_test_predicted'] - X_test_expanded['y_test']\n",
    "X_test_expanded"
   ]
  },
  {
   "cell_type": "code",
   "execution_count": 27,
   "id": "d7329630cd310504",
   "metadata": {
    "ExecuteTime": {
     "end_time": "2025-03-27T14:19:20.015193Z",
     "start_time": "2025-03-27T14:19:20.002572Z"
    },
    "collapsed": false
   },
   "outputs": [
    {
     "data": {
      "text/plain": [
       "0   408.65\n",
       "Name: pickup_to_delivery_predicted, dtype: float64"
      ]
     },
     "execution_count": 27,
     "metadata": {},
     "output_type": "execute_result"
    }
   ],
   "source": [
    "model_bl_mean.predict(X_test.iloc[0])"
   ]
  },
  {
   "cell_type": "markdown",
   "id": "b65c835da4563a72",
   "metadata": {
    "collapsed": false
   },
   "source": [
    "### Evaluation pipeline"
   ]
  },
  {
   "cell_type": "code",
   "execution_count": 28,
   "id": "d06a05c54e737f56",
   "metadata": {
    "ExecuteTime": {
     "end_time": "2025-03-27T14:19:35.660505Z",
     "start_time": "2025-03-27T14:19:20.008700Z"
    },
    "collapsed": false
   },
   "outputs": [
    {
     "data": {
      "text/plain": [
       "(np.float64(161.23709324791398), np.float64(64837.86641313063))"
      ]
     },
     "execution_count": 28,
     "metadata": {},
     "output_type": "execute_result"
    }
   ],
   "source": [
    "model_bl_mean_eval = model_bl_mean.evaluate(X_test, y_test)\n",
    "model_bl_mean_eval"
   ]
  },
  {
   "cell_type": "markdown",
   "id": "2e878748472b7df0",
   "metadata": {
    "collapsed": false
   },
   "source": [
    "## Linear Model"
   ]
  },
  {
   "cell_type": "code",
   "execution_count": 29,
   "id": "d2508016c2f9f050",
   "metadata": {
    "ExecuteTime": {
     "end_time": "2025-03-27T14:19:35.664611Z",
     "start_time": "2025-03-27T14:19:35.662006Z"
    },
    "collapsed": false
   },
   "outputs": [],
   "source": [
    "# Train on a small subset to check if the model is working\n",
    "X_train_smaller = X_train.head(1000)\n",
    "y_train_smaller = y_train.head(1000)"
   ]
  },
  {
   "cell_type": "markdown",
   "id": "917c211d4ba0e732",
   "metadata": {
    "collapsed": false
   },
   "source": [
    "### Linear Model encoding dummy variables"
   ]
  },
  {
   "cell_type": "code",
   "execution_count": 30,
   "id": "489d9af86d0f8e4f",
   "metadata": {
    "ExecuteTime": {
     "end_time": "2025-03-27T14:19:36.006814Z",
     "start_time": "2025-03-27T14:19:35.664763Z"
    },
    "collapsed": false
   },
   "outputs": [
    {
     "name": "stderr",
     "output_type": "stream",
     "text": [
      "INFO:root:Train datasets shapes: X: (1000, 25), y: (1000,)\n",
      "INFO:root:Starting to encode variables\n",
      "INFO:root:Encoded dataset shape: X: (1000, 39)\n",
      "INFO:root:Finished to encode variables. Starting to fit the model\n",
      "INFO:root:Finished training the model\n"
     ]
    },
    {
     "data": {
      "text/plain": [
       "<estimator.LinearModel at 0x11daf1370>"
      ]
     },
     "execution_count": 30,
     "metadata": {},
     "output_type": "execute_result"
    }
   ],
   "source": [
    "model_linear_smaller = LinearModel(model_type='linear', encoding='dummy')\n",
    "model_linear_smaller.fit(X_train_smaller, y_train_smaller)"
   ]
  },
  {
   "cell_type": "code",
   "execution_count": 31,
   "id": "a4cd0ab5e1851cb8",
   "metadata": {
    "ExecuteTime": {
     "end_time": "2025-03-27T14:19:36.171470Z",
     "start_time": "2025-03-27T14:19:36.007744Z"
    },
    "collapsed": false
   },
   "outputs": [
    {
     "data": {
      "text/html": [
       "<div>\n",
       "<style scoped>\n",
       "    .dataframe tbody tr th:only-of-type {\n",
       "        vertical-align: middle;\n",
       "    }\n",
       "\n",
       "    .dataframe tbody tr th {\n",
       "        vertical-align: top;\n",
       "    }\n",
       "\n",
       "    .dataframe thead th {\n",
       "        text-align: right;\n",
       "    }\n",
       "</style>\n",
       "<table border=\"1\" class=\"dataframe\">\n",
       "  <thead>\n",
       "    <tr style=\"text-align: right;\">\n",
       "      <th></th>\n",
       "      <th>country_code</th>\n",
       "      <th>order_id</th>\n",
       "      <th>courier_id</th>\n",
       "      <th>creation_timestamp</th>\n",
       "      <th>activation_timestamp</th>\n",
       "      <th>transport</th>\n",
       "      <th>pickup_timestamp</th>\n",
       "      <th>delivery_entering_timestamp</th>\n",
       "      <th>delivery_timestamp</th>\n",
       "      <th>pickup_latitude</th>\n",
       "      <th>...</th>\n",
       "      <th>pd_distance_haversine_m</th>\n",
       "      <th>pd_distance_haversine_m_sk</th>\n",
       "      <th>pd_distance_manhattan_m</th>\n",
       "      <th>creation_date</th>\n",
       "      <th>city_code</th>\n",
       "      <th>time</th>\n",
       "      <th>velocity</th>\n",
       "      <th>y_test_predicted</th>\n",
       "      <th>y_test</th>\n",
       "      <th>diff</th>\n",
       "    </tr>\n",
       "  </thead>\n",
       "  <tbody>\n",
       "    <tr>\n",
       "      <th>0</th>\n",
       "      <td>ES</td>\n",
       "      <td>100901000206</td>\n",
       "      <td>169065712</td>\n",
       "      <td>2024-09-30 19:00:49+00:00</td>\n",
       "      <td>2024-09-30 19:00:52+00:00</td>\n",
       "      <td>CAR</td>\n",
       "      <td>2024-09-30 19:20:41.337000+00:00</td>\n",
       "      <td>2024-09-30 19:30:56+00:00</td>\n",
       "      <td>2024-09-30 19:38:11+00:00</td>\n",
       "      <td>38.37</td>\n",
       "      <td>...</td>\n",
       "      <td>3147.42</td>\n",
       "      <td>3147.42</td>\n",
       "      <td>4371.55</td>\n",
       "      <td>2024-09-30</td>\n",
       "      <td>ALC</td>\n",
       "      <td>614.66</td>\n",
       "      <td>5.12</td>\n",
       "      <td>614663000000.03</td>\n",
       "      <td>614.66</td>\n",
       "      <td>614662999385.37</td>\n",
       "    </tr>\n",
       "    <tr>\n",
       "      <th>1</th>\n",
       "      <td>ES</td>\n",
       "      <td>100901487351</td>\n",
       "      <td>173633632</td>\n",
       "      <td>2024-09-30 21:54:58+00:00</td>\n",
       "      <td>2024-09-30 21:54:59+00:00</td>\n",
       "      <td>MOTORBIKE</td>\n",
       "      <td>2024-09-30 21:58:40.678000+00:00</td>\n",
       "      <td>2024-09-30 22:12:29+00:00</td>\n",
       "      <td>2024-09-30 22:16:54+00:00</td>\n",
       "      <td>38.34</td>\n",
       "      <td>...</td>\n",
       "      <td>1959.90</td>\n",
       "      <td>1959.90</td>\n",
       "      <td>2228.78</td>\n",
       "      <td>2024-09-30</td>\n",
       "      <td>ALC</td>\n",
       "      <td>828.32</td>\n",
       "      <td>2.37</td>\n",
       "      <td>828322000000.01</td>\n",
       "      <td>828.32</td>\n",
       "      <td>828321999171.68</td>\n",
       "    </tr>\n",
       "    <tr>\n",
       "      <th>2</th>\n",
       "      <td>ES</td>\n",
       "      <td>100901615508</td>\n",
       "      <td>2320936</td>\n",
       "      <td>2024-09-30 23:17:55+00:00</td>\n",
       "      <td>2024-09-30 23:17:55+00:00</td>\n",
       "      <td>CAR</td>\n",
       "      <td>2024-09-30 23:25:52.013000+00:00</td>\n",
       "      <td>2024-09-30 23:34:12+00:00</td>\n",
       "      <td>2024-09-30 23:35:27+00:00</td>\n",
       "      <td>38.43</td>\n",
       "      <td>...</td>\n",
       "      <td>3043.08</td>\n",
       "      <td>3043.08</td>\n",
       "      <td>4304.54</td>\n",
       "      <td>2024-09-30</td>\n",
       "      <td>ALC</td>\n",
       "      <td>499.99</td>\n",
       "      <td>6.09</td>\n",
       "      <td>499987000000.02</td>\n",
       "      <td>499.99</td>\n",
       "      <td>499986999500.04</td>\n",
       "    </tr>\n",
       "    <tr>\n",
       "      <th>3</th>\n",
       "      <td>ES</td>\n",
       "      <td>100900153723</td>\n",
       "      <td>174681565</td>\n",
       "      <td>2024-09-30 12:50:30+00:00</td>\n",
       "      <td>2024-09-30 12:50:31+00:00</td>\n",
       "      <td>MOTORBIKE</td>\n",
       "      <td>2024-09-30 12:51:54.134000+00:00</td>\n",
       "      <td>2024-09-30 12:53:27+00:00</td>\n",
       "      <td>2024-09-30 12:56:56+00:00</td>\n",
       "      <td>38.39</td>\n",
       "      <td>...</td>\n",
       "      <td>384.77</td>\n",
       "      <td>384.77</td>\n",
       "      <td>538.64</td>\n",
       "      <td>2024-09-30</td>\n",
       "      <td>ALC</td>\n",
       "      <td>92.87</td>\n",
       "      <td>4.14</td>\n",
       "      <td>92865999999.98</td>\n",
       "      <td>92.87</td>\n",
       "      <td>92865999907.12</td>\n",
       "    </tr>\n",
       "    <tr>\n",
       "      <th>4</th>\n",
       "      <td>ES</td>\n",
       "      <td>100900235936</td>\n",
       "      <td>142421923</td>\n",
       "      <td>2024-09-30 13:23:50+00:00</td>\n",
       "      <td>2024-09-30 13:23:51+00:00</td>\n",
       "      <td>CAR</td>\n",
       "      <td>2024-09-30 13:49:36.097000+00:00</td>\n",
       "      <td>2024-09-30 13:57:33+00:00</td>\n",
       "      <td>2024-09-30 14:01:33+00:00</td>\n",
       "      <td>38.41</td>\n",
       "      <td>...</td>\n",
       "      <td>2321.10</td>\n",
       "      <td>2321.10</td>\n",
       "      <td>2443.13</td>\n",
       "      <td>2024-09-30</td>\n",
       "      <td>ALC</td>\n",
       "      <td>476.90</td>\n",
       "      <td>4.87</td>\n",
       "      <td>476903000000.01</td>\n",
       "      <td>476.90</td>\n",
       "      <td>476902999523.11</td>\n",
       "    </tr>\n",
       "    <tr>\n",
       "      <th>...</th>\n",
       "      <td>...</td>\n",
       "      <td>...</td>\n",
       "      <td>...</td>\n",
       "      <td>...</td>\n",
       "      <td>...</td>\n",
       "      <td>...</td>\n",
       "      <td>...</td>\n",
       "      <td>...</td>\n",
       "      <td>...</td>\n",
       "      <td>...</td>\n",
       "      <td>...</td>\n",
       "      <td>...</td>\n",
       "      <td>...</td>\n",
       "      <td>...</td>\n",
       "      <td>...</td>\n",
       "      <td>...</td>\n",
       "      <td>...</td>\n",
       "      <td>...</td>\n",
       "      <td>...</td>\n",
       "      <td>...</td>\n",
       "      <td>...</td>\n",
       "    </tr>\n",
       "    <tr>\n",
       "      <th>995</th>\n",
       "      <td>ES</td>\n",
       "      <td>100901315231</td>\n",
       "      <td>146195464</td>\n",
       "      <td>2024-09-30 20:49:51+00:00</td>\n",
       "      <td>2024-09-30 20:49:52+00:00</td>\n",
       "      <td>CAR</td>\n",
       "      <td>2024-09-30 20:59:02.847000+00:00</td>\n",
       "      <td>2024-09-30 21:04:33+00:00</td>\n",
       "      <td>2024-09-30 21:05:24+00:00</td>\n",
       "      <td>38.36</td>\n",
       "      <td>...</td>\n",
       "      <td>1485.18</td>\n",
       "      <td>1485.18</td>\n",
       "      <td>2054.80</td>\n",
       "      <td>2024-09-30</td>\n",
       "      <td>ALC</td>\n",
       "      <td>330.15</td>\n",
       "      <td>4.50</td>\n",
       "      <td>330153000000.00</td>\n",
       "      <td>330.15</td>\n",
       "      <td>330152999669.85</td>\n",
       "    </tr>\n",
       "    <tr>\n",
       "      <th>996</th>\n",
       "      <td>ES</td>\n",
       "      <td>100901448857</td>\n",
       "      <td>141248791</td>\n",
       "      <td>2024-09-30 21:38:14+00:00</td>\n",
       "      <td>2024-09-30 21:38:15+00:00</td>\n",
       "      <td>MOTORBIKE</td>\n",
       "      <td>2024-09-30 21:46:44.524000+00:00</td>\n",
       "      <td>2024-09-30 22:00:39+00:00</td>\n",
       "      <td>2024-09-30 22:01:02+00:00</td>\n",
       "      <td>38.36</td>\n",
       "      <td>...</td>\n",
       "      <td>6872.88</td>\n",
       "      <td>6872.88</td>\n",
       "      <td>9730.64</td>\n",
       "      <td>2024-09-30</td>\n",
       "      <td>ALC</td>\n",
       "      <td>834.48</td>\n",
       "      <td>8.24</td>\n",
       "      <td>834476000000.09</td>\n",
       "      <td>834.48</td>\n",
       "      <td>834475999165.62</td>\n",
       "    </tr>\n",
       "    <tr>\n",
       "      <th>997</th>\n",
       "      <td>ES</td>\n",
       "      <td>100901466311</td>\n",
       "      <td>4623155</td>\n",
       "      <td>2024-09-30 21:45:32+00:00</td>\n",
       "      <td>2024-09-30 21:45:33+00:00</td>\n",
       "      <td>BICYCLE</td>\n",
       "      <td>2024-09-30 21:59:36.356000+00:00</td>\n",
       "      <td>2024-09-30 22:11:08+00:00</td>\n",
       "      <td>2024-09-30 22:15:15+00:00</td>\n",
       "      <td>38.36</td>\n",
       "      <td>...</td>\n",
       "      <td>2490.76</td>\n",
       "      <td>2490.76</td>\n",
       "      <td>3220.66</td>\n",
       "      <td>2024-09-30</td>\n",
       "      <td>ALC</td>\n",
       "      <td>691.64</td>\n",
       "      <td>3.60</td>\n",
       "      <td>691644000000.01</td>\n",
       "      <td>691.64</td>\n",
       "      <td>691643999308.37</td>\n",
       "    </tr>\n",
       "    <tr>\n",
       "      <th>998</th>\n",
       "      <td>ES</td>\n",
       "      <td>100901492373</td>\n",
       "      <td>168086136</td>\n",
       "      <td>2024-09-30 21:57:16+00:00</td>\n",
       "      <td>2024-09-30 21:57:17+00:00</td>\n",
       "      <td>CAR</td>\n",
       "      <td>2024-09-30 22:13:17.522000+00:00</td>\n",
       "      <td>2024-09-30 22:20:54+00:00</td>\n",
       "      <td>2024-09-30 22:24:49+00:00</td>\n",
       "      <td>38.35</td>\n",
       "      <td>...</td>\n",
       "      <td>1772.50</td>\n",
       "      <td>1772.50</td>\n",
       "      <td>2455.20</td>\n",
       "      <td>2024-09-30</td>\n",
       "      <td>ALC</td>\n",
       "      <td>456.48</td>\n",
       "      <td>3.88</td>\n",
       "      <td>456478000000.00</td>\n",
       "      <td>456.48</td>\n",
       "      <td>456477999543.53</td>\n",
       "    </tr>\n",
       "    <tr>\n",
       "      <th>999</th>\n",
       "      <td>ES</td>\n",
       "      <td>100901500453</td>\n",
       "      <td>19758795</td>\n",
       "      <td>2024-09-30 22:01:12+00:00</td>\n",
       "      <td>2024-09-30 22:01:13+00:00</td>\n",
       "      <td>CAR</td>\n",
       "      <td>2024-09-30 22:13:42.816000+00:00</td>\n",
       "      <td>2024-09-30 22:16:52+00:00</td>\n",
       "      <td>2024-09-30 22:19:57+00:00</td>\n",
       "      <td>38.40</td>\n",
       "      <td>...</td>\n",
       "      <td>285.93</td>\n",
       "      <td>285.93</td>\n",
       "      <td>398.30</td>\n",
       "      <td>2024-09-30</td>\n",
       "      <td>ALC</td>\n",
       "      <td>189.18</td>\n",
       "      <td>1.51</td>\n",
       "      <td>189183999999.98</td>\n",
       "      <td>189.18</td>\n",
       "      <td>189183999810.79</td>\n",
       "    </tr>\n",
       "  </tbody>\n",
       "</table>\n",
       "<p>1000 rows × 28 columns</p>\n",
       "</div>"
      ],
      "text/plain": [
       "    country_code      order_id  courier_id        creation_timestamp  \\\n",
       "0             ES  100901000206   169065712 2024-09-30 19:00:49+00:00   \n",
       "1             ES  100901487351   173633632 2024-09-30 21:54:58+00:00   \n",
       "2             ES  100901615508     2320936 2024-09-30 23:17:55+00:00   \n",
       "3             ES  100900153723   174681565 2024-09-30 12:50:30+00:00   \n",
       "4             ES  100900235936   142421923 2024-09-30 13:23:50+00:00   \n",
       "..           ...           ...         ...                       ...   \n",
       "995           ES  100901315231   146195464 2024-09-30 20:49:51+00:00   \n",
       "996           ES  100901448857   141248791 2024-09-30 21:38:14+00:00   \n",
       "997           ES  100901466311     4623155 2024-09-30 21:45:32+00:00   \n",
       "998           ES  100901492373   168086136 2024-09-30 21:57:16+00:00   \n",
       "999           ES  100901500453    19758795 2024-09-30 22:01:12+00:00   \n",
       "\n",
       "         activation_timestamp  transport                 pickup_timestamp  \\\n",
       "0   2024-09-30 19:00:52+00:00        CAR 2024-09-30 19:20:41.337000+00:00   \n",
       "1   2024-09-30 21:54:59+00:00  MOTORBIKE 2024-09-30 21:58:40.678000+00:00   \n",
       "2   2024-09-30 23:17:55+00:00        CAR 2024-09-30 23:25:52.013000+00:00   \n",
       "3   2024-09-30 12:50:31+00:00  MOTORBIKE 2024-09-30 12:51:54.134000+00:00   \n",
       "4   2024-09-30 13:23:51+00:00        CAR 2024-09-30 13:49:36.097000+00:00   \n",
       "..                        ...        ...                              ...   \n",
       "995 2024-09-30 20:49:52+00:00        CAR 2024-09-30 20:59:02.847000+00:00   \n",
       "996 2024-09-30 21:38:15+00:00  MOTORBIKE 2024-09-30 21:46:44.524000+00:00   \n",
       "997 2024-09-30 21:45:33+00:00    BICYCLE 2024-09-30 21:59:36.356000+00:00   \n",
       "998 2024-09-30 21:57:17+00:00        CAR 2024-09-30 22:13:17.522000+00:00   \n",
       "999 2024-09-30 22:01:13+00:00        CAR 2024-09-30 22:13:42.816000+00:00   \n",
       "\n",
       "    delivery_entering_timestamp        delivery_timestamp  pickup_latitude  \\\n",
       "0     2024-09-30 19:30:56+00:00 2024-09-30 19:38:11+00:00            38.37   \n",
       "1     2024-09-30 22:12:29+00:00 2024-09-30 22:16:54+00:00            38.34   \n",
       "2     2024-09-30 23:34:12+00:00 2024-09-30 23:35:27+00:00            38.43   \n",
       "3     2024-09-30 12:53:27+00:00 2024-09-30 12:56:56+00:00            38.39   \n",
       "4     2024-09-30 13:57:33+00:00 2024-09-30 14:01:33+00:00            38.41   \n",
       "..                          ...                       ...              ...   \n",
       "995   2024-09-30 21:04:33+00:00 2024-09-30 21:05:24+00:00            38.36   \n",
       "996   2024-09-30 22:00:39+00:00 2024-09-30 22:01:02+00:00            38.36   \n",
       "997   2024-09-30 22:11:08+00:00 2024-09-30 22:15:15+00:00            38.36   \n",
       "998   2024-09-30 22:20:54+00:00 2024-09-30 22:24:49+00:00            38.35   \n",
       "999   2024-09-30 22:16:52+00:00 2024-09-30 22:19:57+00:00            38.40   \n",
       "\n",
       "     ...  pd_distance_haversine_m  pd_distance_haversine_m_sk  \\\n",
       "0    ...                  3147.42                     3147.42   \n",
       "1    ...                  1959.90                     1959.90   \n",
       "2    ...                  3043.08                     3043.08   \n",
       "3    ...                   384.77                      384.77   \n",
       "4    ...                  2321.10                     2321.10   \n",
       "..   ...                      ...                         ...   \n",
       "995  ...                  1485.18                     1485.18   \n",
       "996  ...                  6872.88                     6872.88   \n",
       "997  ...                  2490.76                     2490.76   \n",
       "998  ...                  1772.50                     1772.50   \n",
       "999  ...                   285.93                      285.93   \n",
       "\n",
       "     pd_distance_manhattan_m creation_date  city_code   time  velocity  \\\n",
       "0                    4371.55    2024-09-30        ALC 614.66      5.12   \n",
       "1                    2228.78    2024-09-30        ALC 828.32      2.37   \n",
       "2                    4304.54    2024-09-30        ALC 499.99      6.09   \n",
       "3                     538.64    2024-09-30        ALC  92.87      4.14   \n",
       "4                    2443.13    2024-09-30        ALC 476.90      4.87   \n",
       "..                       ...           ...        ...    ...       ...   \n",
       "995                  2054.80    2024-09-30        ALC 330.15      4.50   \n",
       "996                  9730.64    2024-09-30        ALC 834.48      8.24   \n",
       "997                  3220.66    2024-09-30        ALC 691.64      3.60   \n",
       "998                  2455.20    2024-09-30        ALC 456.48      3.88   \n",
       "999                   398.30    2024-09-30        ALC 189.18      1.51   \n",
       "\n",
       "     y_test_predicted  y_test            diff  \n",
       "0     614663000000.03  614.66 614662999385.37  \n",
       "1     828322000000.01  828.32 828321999171.68  \n",
       "2     499987000000.02  499.99 499986999500.04  \n",
       "3      92865999999.98   92.87  92865999907.12  \n",
       "4     476903000000.01  476.90 476902999523.11  \n",
       "..                ...     ...             ...  \n",
       "995   330153000000.00  330.15 330152999669.85  \n",
       "996   834476000000.09  834.48 834475999165.62  \n",
       "997   691644000000.01  691.64 691643999308.37  \n",
       "998   456478000000.00  456.48 456477999543.53  \n",
       "999   189183999999.98  189.18 189183999810.79  \n",
       "\n",
       "[1000 rows x 28 columns]"
      ]
     },
     "execution_count": 31,
     "metadata": {},
     "output_type": "execute_result"
    }
   ],
   "source": [
    "X_test_expanded = X_train_smaller.copy()\n",
    "X_test_expanded['y_test_predicted'] = model_linear_smaller.predict(X_test_expanded)\n",
    "X_test_expanded['y_test'] = (X_test_expanded['delivery_entering_timestamp'] - X_test_expanded['pickup_timestamp']).dt.total_seconds()\n",
    "X_test_expanded['diff'] = X_test_expanded['y_test_predicted'] - X_test_expanded['y_test']\n",
    "X_test_expanded"
   ]
  },
  {
   "cell_type": "code",
   "execution_count": 32,
   "id": "babc08482a5042c8",
   "metadata": {
    "ExecuteTime": {
     "end_time": "2025-03-27T14:19:36.260283Z",
     "start_time": "2025-03-27T14:19:36.210697Z"
    },
    "collapsed": false
   },
   "outputs": [
    {
     "data": {
      "text/plain": [
       "array([-0.07244721])"
      ]
     },
     "execution_count": 32,
     "metadata": {},
     "output_type": "execute_result"
    }
   ],
   "source": [
    "model_linear_smaller.predict(X_test.iloc[[0]])"
   ]
  },
  {
   "cell_type": "markdown",
   "id": "da01b7e6",
   "metadata": {},
   "source": [
    "#### Train on 3 days of data"
   ]
  },
  {
   "cell_type": "code",
   "execution_count": 33,
   "id": "329cb228",
   "metadata": {},
   "outputs": [
    {
     "name": "stdout",
     "output_type": "stream",
     "text": [
      "Start date: 2024-09-30 | End test date: 2024-10-03 | Test date: 2024-10-20\n"
     ]
    }
   ],
   "source": [
    "# We take the last week of the dataset to test the model\n",
    "days_for_train = 3\n",
    "days_for_test = 1\n",
    "end_train_date = pd.to_datetime(start_date) + pd.Timedelta(days=days_for_train)\n",
    "end_train_date = end_train_date.strftime(\"%Y-%m-%d\")\n",
    "print(f'Start date: {start_date} | End test date: {end_train_date} | Test date: {end_date}')"
   ]
  },
  {
   "cell_type": "code",
   "execution_count": 34,
   "id": "8f240218",
   "metadata": {},
   "outputs": [
    {
     "name": "stdout",
     "output_type": "stream",
     "text": [
      "Train datasets 3d shapes:  (130457, 23) (130457,)\n",
      "Test datasets 3d shapes:  (56149, 23) (56149,)\n"
     ]
    }
   ],
   "source": [
    "X_train_3d = pd.read_parquet(\"data/parquet/dataframe.parquet/\", filters=[('creation_date', '<', end_train_date)])\n",
    "y_train_3d = X_train_3d['delivery_entering_timestamp'] - X_train_3d['pickup_timestamp']\n",
    "y_train_3d = pd.Series(y_train_3d, name='pickup_to_delivery')\n",
    "X_test_3d = pd.read_parquet(\"data/parquet/dataframe.parquet\", filters=[('creation_date', '=', end_date)])\n",
    "y_test_3d = (X_test_3d['delivery_entering_timestamp'] - X_test_3d['pickup_timestamp']).dt.total_seconds()\n",
    "y_test_3d = pd.Series(y_test_3d, dtype=np.float64, name='pickup_to_delivery')\n",
    "print(\"Train datasets 3d shapes: \", X_train_3d.shape, y_train_3d.shape)\n",
    "print(\"Test datasets 3d shapes: \", X_test_3d.shape, y_test_3d.shape)"
   ]
  },
  {
   "cell_type": "code",
   "execution_count": 35,
   "id": "7e00df37",
   "metadata": {},
   "outputs": [
    {
     "name": "stdout",
     "output_type": "stream",
     "text": [
      "Start time: 2025-04-16 18:45:37.440809\n"
     ]
    }
   ],
   "source": [
    "start = datetime.datetime.now()\n",
    "print(f\"Start time: {start}\")"
   ]
  },
  {
   "cell_type": "code",
   "execution_count": 36,
   "id": "08ba16d0",
   "metadata": {},
   "outputs": [
    {
     "name": "stderr",
     "output_type": "stream",
     "text": [
      "INFO:root:Train datasets shapes: X: (130457, 23), y: (130457,)\n",
      "INFO:root:Starting to encode variables\n",
      "INFO:root:Encoded dataset shape: X: (130457, 38)\n",
      "INFO:root:Finished to encode variables. Starting to fit the model\n",
      "INFO:root:Finished training the model\n"
     ]
    },
    {
     "data": {
      "text/plain": [
       "<estimator.LinearModel at 0x11e01a9c0>"
      ]
     },
     "execution_count": 36,
     "metadata": {},
     "output_type": "execute_result"
    }
   ],
   "source": [
    "model_linear_3d = LinearModel(model_type='linear', encoding='dummy')\n",
    "model_linear_3d.fit(X_train_3d, y_train_3d)"
   ]
  },
  {
   "cell_type": "code",
   "execution_count": 37,
   "id": "438f43c1",
   "metadata": {},
   "outputs": [
    {
     "name": "stdout",
     "output_type": "stream",
     "text": [
      "End time: 2025-04-16 18:45:37.958464\n",
      "Time elapsed: 0:00:00.517655\n"
     ]
    }
   ],
   "source": [
    "end = datetime.datetime.now()\n",
    "print(f\"End time: {end}\")\n",
    "model_linear_3d_time = end - start\n",
    "print(f\"Time elapsed: {model_linear_3d_time}\")"
   ]
  },
  {
   "cell_type": "code",
   "execution_count": 38,
   "id": "4fbff11b",
   "metadata": {},
   "outputs": [
    {
     "data": {
      "text/plain": [
       "(np.float64(3635090825535.1387), np.float64(1.3307022853175335e+25))"
      ]
     },
     "execution_count": 38,
     "metadata": {},
     "output_type": "execute_result"
    }
   ],
   "source": [
    "model_linear_3d_eval = model_linear_3d.evaluate(X_test_3d, y_test_3d)\n",
    "model_linear_3d_eval"
   ]
  },
  {
   "cell_type": "markdown",
   "id": "b6a7eac5",
   "metadata": {},
   "source": [
    "#### Train on a week of data"
   ]
  },
  {
   "cell_type": "code",
   "execution_count": 39,
   "id": "e5da2f35",
   "metadata": {},
   "outputs": [
    {
     "name": "stdout",
     "output_type": "stream",
     "text": [
      "Start date: 2024-09-30 | End test date: 2024-10-07 | Begin test date: 2024-10-18 | End date: 2024-10-20\n"
     ]
    }
   ],
   "source": [
    "# We take the last week of the dataset to test the model\n",
    "days_for_train = 7\n",
    "days_for_test = 3\n",
    "end_train_date = pd.to_datetime(start_date) + pd.Timedelta(days=days_for_train)\n",
    "end_train_date = end_train_date.strftime(\"%Y-%m-%d\")\n",
    "begin_test_date = pd.to_datetime(end_date) - pd.Timedelta(days=days_for_test-1)\n",
    "begin_test_date = begin_test_date.strftime(\"%Y-%m-%d\")\n",
    "print(f'Start date: {start_date} | End test date: {end_train_date} | Begin test date: {begin_test_date} | End date: {end_date}')"
   ]
  },
  {
   "cell_type": "code",
   "execution_count": 40,
   "id": "caefa352",
   "metadata": {},
   "outputs": [
    {
     "name": "stdout",
     "output_type": "stream",
     "text": [
      "Train datasets 7d shapes:  (345313, 23) (345313,)\n",
      "Test datasets 7d shapes:  (169275, 23) (169275,)\n"
     ]
    }
   ],
   "source": [
    "X_train_7d = pd.read_parquet(\"data/parquet/dataframe.parquet/\", filters=[('creation_date', '<', end_train_date)])\n",
    "y_train_7d = X_train_7d['delivery_entering_timestamp'] - X_train_7d['pickup_timestamp']\n",
    "y_train_7d = pd.Series(y_train_7d, name='pickup_to_delivery')\n",
    "X_test_7d = pd.read_parquet(\"data/parquet/dataframe.parquet\", filters=[('creation_date', '>=', begin_test_date)])\n",
    "y_test_7d = (X_test_7d['delivery_entering_timestamp'] - X_test_7d['pickup_timestamp']).dt.total_seconds()\n",
    "y_test_7d = pd.Series(y_test_7d, dtype=np.float64, name='pickup_to_delivery')\n",
    "print(\"Train datasets 7d shapes: \", X_train_7d.shape, y_train_7d.shape)\n",
    "print(\"Test datasets 7d shapes: \", X_test_7d.shape, y_test_7d.shape)"
   ]
  },
  {
   "cell_type": "code",
   "execution_count": 41,
   "id": "b9e79b5b",
   "metadata": {},
   "outputs": [
    {
     "name": "stdout",
     "output_type": "stream",
     "text": [
      "Start time: 2025-04-16 18:45:38.475072\n"
     ]
    }
   ],
   "source": [
    "start = datetime.datetime.now()\n",
    "print(f\"Start time: {start}\")"
   ]
  },
  {
   "cell_type": "code",
   "execution_count": 42,
   "id": "c35664c2",
   "metadata": {},
   "outputs": [
    {
     "name": "stderr",
     "output_type": "stream",
     "text": [
      "INFO:root:Train datasets shapes: X: (345313, 23), y: (345313,)\n",
      "INFO:root:Starting to encode variables\n",
      "INFO:root:Encoded dataset shape: X: (345313, 38)\n",
      "INFO:root:Finished to encode variables. Starting to fit the model\n",
      "INFO:root:Finished training the model\n"
     ]
    },
    {
     "data": {
      "text/plain": [
       "<estimator.LinearModel at 0x126dbb3e0>"
      ]
     },
     "execution_count": 42,
     "metadata": {},
     "output_type": "execute_result"
    }
   ],
   "source": [
    "model_linear_7d = LinearModel(model_type='linear', encoding='dummy')\n",
    "model_linear_7d.fit(X_train_7d, y_train_7d)"
   ]
  },
  {
   "cell_type": "code",
   "execution_count": 43,
   "id": "cfbc06eb",
   "metadata": {},
   "outputs": [
    {
     "name": "stdout",
     "output_type": "stream",
     "text": [
      "End time: 2025-04-16 18:45:39.527654\n",
      "Time elapsed: 0:00:01.052582\n"
     ]
    }
   ],
   "source": [
    "end = datetime.datetime.now()\n",
    "print(f\"End time: {end}\")\n",
    "model_linear_7d_time = end - start\n",
    "print(f\"Time elapsed: {model_linear_7d_time}\")"
   ]
  },
  {
   "cell_type": "code",
   "execution_count": 44,
   "id": "708c5742",
   "metadata": {},
   "outputs": [
    {
     "data": {
      "text/plain": [
       "(np.float64(410102272288.90826), np.float64(2.101754208190989e+23))"
      ]
     },
     "execution_count": 44,
     "metadata": {},
     "output_type": "execute_result"
    }
   ],
   "source": [
    "model_linear_7d_eval = model_linear_7d.evaluate(X_test_7d, y_test_7d)\n",
    "model_linear_7d_eval"
   ]
  },
  {
   "cell_type": "markdown",
   "id": "8f3a330f80dc453",
   "metadata": {
    "collapsed": false
   },
   "source": [
    "#### Train on full data"
   ]
  },
  {
   "cell_type": "code",
   "execution_count": 45,
   "id": "83c3af5c67879417",
   "metadata": {
    "ExecuteTime": {
     "end_time": "2025-03-27T14:20:45.508318Z",
     "start_time": "2025-03-27T14:20:45.281869Z"
    },
    "collapsed": false
   },
   "outputs": [
    {
     "name": "stdout",
     "output_type": "stream",
     "text": [
      "Start time: 2025-04-16 18:45:39.814699\n"
     ]
    }
   ],
   "source": [
    "start = datetime.datetime.now()\n",
    "print(f\"Start time: {start}\")"
   ]
  },
  {
   "cell_type": "code",
   "execution_count": 46,
   "id": "da5f12880398285e",
   "metadata": {
    "ExecuteTime": {
     "start_time": "2025-03-27T14:20:45.299716Z"
    },
    "collapsed": false,
    "is_executing": true
   },
   "outputs": [
    {
     "name": "stderr",
     "output_type": "stream",
     "text": [
      "INFO:root:Train datasets shapes: X: (678751, 25), y: (678751,)\n",
      "INFO:root:Starting to encode variables\n",
      "INFO:root:Encoded dataset shape: X: (678751, 40)\n",
      "INFO:root:Finished to encode variables. Starting to fit the model\n",
      "INFO:root:Finished training the model\n"
     ]
    },
    {
     "data": {
      "text/plain": [
       "<estimator.LinearModel at 0x126dbae10>"
      ]
     },
     "execution_count": 46,
     "metadata": {},
     "output_type": "execute_result"
    }
   ],
   "source": [
    "model_linear = LinearModel(model_type='linear', encoding='dummy')\n",
    "model_linear.fit(X_train, y_train)"
   ]
  },
  {
   "cell_type": "code",
   "execution_count": 47,
   "id": "860b2a299d43861c",
   "metadata": {
    "collapsed": false,
    "is_executing": true
   },
   "outputs": [
    {
     "name": "stdout",
     "output_type": "stream",
     "text": [
      "End time: 2025-04-16 18:45:42.234415\n",
      "Time elapsed: 0:00:02.419716\n"
     ]
    }
   ],
   "source": [
    "end = datetime.datetime.now()\n",
    "print(f\"End time: {end}\")\n",
    "model_linear_time = end - start\n",
    "print(f\"Time elapsed: {model_linear_time}\")"
   ]
  },
  {
   "cell_type": "code",
   "execution_count": 48,
   "id": "30b7b8c32d91e531",
   "metadata": {
    "collapsed": false,
    "is_executing": true
   },
   "outputs": [
    {
     "data": {
      "text/plain": [
       "(np.float64(448.9651072961018), np.float64(282205.9319198323))"
      ]
     },
     "execution_count": 48,
     "metadata": {},
     "output_type": "execute_result"
    }
   ],
   "source": [
    "model_linear_eval = model_linear.evaluate(X_test, y_test)\n",
    "model_linear_eval"
   ]
  },
  {
   "cell_type": "markdown",
   "id": "fcd0255f",
   "metadata": {},
   "source": [
    "#### Linear Model encoding dummy variables with time difference columns"
   ]
  },
  {
   "cell_type": "code",
   "execution_count": 49,
   "id": "3e8b7f3b",
   "metadata": {},
   "outputs": [
    {
     "name": "stdout",
     "output_type": "stream",
     "text": [
      "Start time: 2025-04-16 18:45:43.139217\n"
     ]
    }
   ],
   "source": [
    "start = datetime.datetime.now()\n",
    "print(f\"Start time: {start}\")"
   ]
  },
  {
   "cell_type": "code",
   "execution_count": 50,
   "id": "2ec65a1c",
   "metadata": {},
   "outputs": [
    {
     "name": "stderr",
     "output_type": "stream",
     "text": [
      "INFO:root:Train datasets shapes: X: (678751, 25), y: (678751,)\n",
      "INFO:root:Starting to encode variables\n",
      "INFO:root:Encoded dataset shape: X: (678751, 44)\n",
      "INFO:root:Finished to encode variables. Starting to fit the model\n",
      "INFO:root:Finished training the model\n"
     ]
    },
    {
     "data": {
      "text/plain": [
       "<estimator.LinearModel at 0x126db9d30>"
      ]
     },
     "execution_count": 50,
     "metadata": {},
     "output_type": "execute_result"
    }
   ],
   "source": [
    "model_linear_difference = LinearModel(model_type='linear', encoding='dummy+difference')\n",
    "model_linear_difference.fit(X_train, y_train)"
   ]
  },
  {
   "cell_type": "code",
   "execution_count": 51,
   "id": "b186fa3f",
   "metadata": {},
   "outputs": [
    {
     "name": "stdout",
     "output_type": "stream",
     "text": [
      "End time: 2025-04-16 18:45:45.809818\n",
      "Time elapsed: 0:00:02.670601\n"
     ]
    }
   ],
   "source": [
    "end = datetime.datetime.now()\n",
    "print(f\"End time: {end}\")\n",
    "model_linear_difference_time = end - start\n",
    "print(f\"Time elapsed: {model_linear_difference_time}\")"
   ]
  },
  {
   "cell_type": "code",
   "execution_count": 52,
   "id": "4f8d8469",
   "metadata": {},
   "outputs": [
    {
     "data": {
      "text/plain": [
       "(np.float64(448.96458796861975), np.float64(282206.65591367864))"
      ]
     },
     "execution_count": 52,
     "metadata": {},
     "output_type": "execute_result"
    }
   ],
   "source": [
    "model_linear_difference_eval = model_linear_difference.evaluate(X_test, y_test)\n",
    "model_linear_difference_eval"
   ]
  },
  {
   "cell_type": "markdown",
   "id": "cb3bbc91",
   "metadata": {},
   "source": [
    "### Linear Model SGD encoding dummy variables"
   ]
  },
  {
   "cell_type": "code",
   "execution_count": 53,
   "id": "9ef78efe",
   "metadata": {},
   "outputs": [
    {
     "name": "stderr",
     "output_type": "stream",
     "text": [
      "INFO:root:Train datasets shapes: X: (1000, 25), y: (1000,)\n",
      "INFO:root:Starting to encode variables\n",
      "INFO:root:Encoded dataset shape: X: (1000, 39)\n",
      "INFO:root:Finished to encode variables. Starting to fit the model\n",
      "INFO:root:Finished training the model\n"
     ]
    },
    {
     "data": {
      "text/plain": [
       "<estimator.LinearModel at 0x126dbba40>"
      ]
     },
     "execution_count": 53,
     "metadata": {},
     "output_type": "execute_result"
    }
   ],
   "source": [
    "model_linear_SGD_smaller = LinearModel(model_type='SGD', encoding='dummy')\n",
    "model_linear_SGD_smaller.fit(X_train_smaller, y_train_smaller)"
   ]
  },
  {
   "cell_type": "code",
   "execution_count": 54,
   "id": "5e5aff5e",
   "metadata": {},
   "outputs": [
    {
     "data": {
      "text/html": [
       "<div>\n",
       "<style scoped>\n",
       "    .dataframe tbody tr th:only-of-type {\n",
       "        vertical-align: middle;\n",
       "    }\n",
       "\n",
       "    .dataframe tbody tr th {\n",
       "        vertical-align: top;\n",
       "    }\n",
       "\n",
       "    .dataframe thead th {\n",
       "        text-align: right;\n",
       "    }\n",
       "</style>\n",
       "<table border=\"1\" class=\"dataframe\">\n",
       "  <thead>\n",
       "    <tr style=\"text-align: right;\">\n",
       "      <th></th>\n",
       "      <th>country_code</th>\n",
       "      <th>order_id</th>\n",
       "      <th>courier_id</th>\n",
       "      <th>creation_timestamp</th>\n",
       "      <th>activation_timestamp</th>\n",
       "      <th>transport</th>\n",
       "      <th>pickup_timestamp</th>\n",
       "      <th>delivery_entering_timestamp</th>\n",
       "      <th>delivery_timestamp</th>\n",
       "      <th>pickup_latitude</th>\n",
       "      <th>...</th>\n",
       "      <th>pd_distance_haversine_m</th>\n",
       "      <th>pd_distance_haversine_m_sk</th>\n",
       "      <th>pd_distance_manhattan_m</th>\n",
       "      <th>creation_date</th>\n",
       "      <th>city_code</th>\n",
       "      <th>time</th>\n",
       "      <th>velocity</th>\n",
       "      <th>y_test_predicted</th>\n",
       "      <th>y_test</th>\n",
       "      <th>diff</th>\n",
       "    </tr>\n",
       "  </thead>\n",
       "  <tbody>\n",
       "    <tr>\n",
       "      <th>0</th>\n",
       "      <td>ES</td>\n",
       "      <td>100901000206</td>\n",
       "      <td>169065712</td>\n",
       "      <td>2024-09-30 19:00:49+00:00</td>\n",
       "      <td>2024-09-30 19:00:52+00:00</td>\n",
       "      <td>CAR</td>\n",
       "      <td>2024-09-30 19:20:41.337000+00:00</td>\n",
       "      <td>2024-09-30 19:30:56+00:00</td>\n",
       "      <td>2024-09-30 19:38:11+00:00</td>\n",
       "      <td>38.37</td>\n",
       "      <td>...</td>\n",
       "      <td>3147.42</td>\n",
       "      <td>3147.42</td>\n",
       "      <td>4371.55</td>\n",
       "      <td>2024-09-30</td>\n",
       "      <td>ALC</td>\n",
       "      <td>614.66</td>\n",
       "      <td>5.12</td>\n",
       "      <td>614698882284.64</td>\n",
       "      <td>614.66</td>\n",
       "      <td>614698881669.97</td>\n",
       "    </tr>\n",
       "    <tr>\n",
       "      <th>1</th>\n",
       "      <td>ES</td>\n",
       "      <td>100901487351</td>\n",
       "      <td>173633632</td>\n",
       "      <td>2024-09-30 21:54:58+00:00</td>\n",
       "      <td>2024-09-30 21:54:59+00:00</td>\n",
       "      <td>MOTORBIKE</td>\n",
       "      <td>2024-09-30 21:58:40.678000+00:00</td>\n",
       "      <td>2024-09-30 22:12:29+00:00</td>\n",
       "      <td>2024-09-30 22:16:54+00:00</td>\n",
       "      <td>38.34</td>\n",
       "      <td>...</td>\n",
       "      <td>1959.90</td>\n",
       "      <td>1959.90</td>\n",
       "      <td>2228.78</td>\n",
       "      <td>2024-09-30</td>\n",
       "      <td>ALC</td>\n",
       "      <td>828.32</td>\n",
       "      <td>2.37</td>\n",
       "      <td>828246159697.12</td>\n",
       "      <td>828.32</td>\n",
       "      <td>828246158868.80</td>\n",
       "    </tr>\n",
       "    <tr>\n",
       "      <th>2</th>\n",
       "      <td>ES</td>\n",
       "      <td>100901615508</td>\n",
       "      <td>2320936</td>\n",
       "      <td>2024-09-30 23:17:55+00:00</td>\n",
       "      <td>2024-09-30 23:17:55+00:00</td>\n",
       "      <td>CAR</td>\n",
       "      <td>2024-09-30 23:25:52.013000+00:00</td>\n",
       "      <td>2024-09-30 23:34:12+00:00</td>\n",
       "      <td>2024-09-30 23:35:27+00:00</td>\n",
       "      <td>38.43</td>\n",
       "      <td>...</td>\n",
       "      <td>3043.08</td>\n",
       "      <td>3043.08</td>\n",
       "      <td>4304.54</td>\n",
       "      <td>2024-09-30</td>\n",
       "      <td>ALC</td>\n",
       "      <td>499.99</td>\n",
       "      <td>6.09</td>\n",
       "      <td>500004585856.64</td>\n",
       "      <td>499.99</td>\n",
       "      <td>500004585356.65</td>\n",
       "    </tr>\n",
       "    <tr>\n",
       "      <th>3</th>\n",
       "      <td>ES</td>\n",
       "      <td>100900153723</td>\n",
       "      <td>174681565</td>\n",
       "      <td>2024-09-30 12:50:30+00:00</td>\n",
       "      <td>2024-09-30 12:50:31+00:00</td>\n",
       "      <td>MOTORBIKE</td>\n",
       "      <td>2024-09-30 12:51:54.134000+00:00</td>\n",
       "      <td>2024-09-30 12:53:27+00:00</td>\n",
       "      <td>2024-09-30 12:56:56+00:00</td>\n",
       "      <td>38.39</td>\n",
       "      <td>...</td>\n",
       "      <td>384.77</td>\n",
       "      <td>384.77</td>\n",
       "      <td>538.64</td>\n",
       "      <td>2024-09-30</td>\n",
       "      <td>ALC</td>\n",
       "      <td>92.87</td>\n",
       "      <td>4.14</td>\n",
       "      <td>92901290940.28</td>\n",
       "      <td>92.87</td>\n",
       "      <td>92901290847.41</td>\n",
       "    </tr>\n",
       "    <tr>\n",
       "      <th>4</th>\n",
       "      <td>ES</td>\n",
       "      <td>100900235936</td>\n",
       "      <td>142421923</td>\n",
       "      <td>2024-09-30 13:23:50+00:00</td>\n",
       "      <td>2024-09-30 13:23:51+00:00</td>\n",
       "      <td>CAR</td>\n",
       "      <td>2024-09-30 13:49:36.097000+00:00</td>\n",
       "      <td>2024-09-30 13:57:33+00:00</td>\n",
       "      <td>2024-09-30 14:01:33+00:00</td>\n",
       "      <td>38.41</td>\n",
       "      <td>...</td>\n",
       "      <td>2321.10</td>\n",
       "      <td>2321.10</td>\n",
       "      <td>2443.13</td>\n",
       "      <td>2024-09-30</td>\n",
       "      <td>ALC</td>\n",
       "      <td>476.90</td>\n",
       "      <td>4.87</td>\n",
       "      <td>476965780344.04</td>\n",
       "      <td>476.90</td>\n",
       "      <td>476965779867.13</td>\n",
       "    </tr>\n",
       "    <tr>\n",
       "      <th>...</th>\n",
       "      <td>...</td>\n",
       "      <td>...</td>\n",
       "      <td>...</td>\n",
       "      <td>...</td>\n",
       "      <td>...</td>\n",
       "      <td>...</td>\n",
       "      <td>...</td>\n",
       "      <td>...</td>\n",
       "      <td>...</td>\n",
       "      <td>...</td>\n",
       "      <td>...</td>\n",
       "      <td>...</td>\n",
       "      <td>...</td>\n",
       "      <td>...</td>\n",
       "      <td>...</td>\n",
       "      <td>...</td>\n",
       "      <td>...</td>\n",
       "      <td>...</td>\n",
       "      <td>...</td>\n",
       "      <td>...</td>\n",
       "      <td>...</td>\n",
       "    </tr>\n",
       "    <tr>\n",
       "      <th>995</th>\n",
       "      <td>ES</td>\n",
       "      <td>100901315231</td>\n",
       "      <td>146195464</td>\n",
       "      <td>2024-09-30 20:49:51+00:00</td>\n",
       "      <td>2024-09-30 20:49:52+00:00</td>\n",
       "      <td>CAR</td>\n",
       "      <td>2024-09-30 20:59:02.847000+00:00</td>\n",
       "      <td>2024-09-30 21:04:33+00:00</td>\n",
       "      <td>2024-09-30 21:05:24+00:00</td>\n",
       "      <td>38.36</td>\n",
       "      <td>...</td>\n",
       "      <td>1485.18</td>\n",
       "      <td>1485.18</td>\n",
       "      <td>2054.80</td>\n",
       "      <td>2024-09-30</td>\n",
       "      <td>ALC</td>\n",
       "      <td>330.15</td>\n",
       "      <td>4.50</td>\n",
       "      <td>330139778257.92</td>\n",
       "      <td>330.15</td>\n",
       "      <td>330139777927.77</td>\n",
       "    </tr>\n",
       "    <tr>\n",
       "      <th>996</th>\n",
       "      <td>ES</td>\n",
       "      <td>100901448857</td>\n",
       "      <td>141248791</td>\n",
       "      <td>2024-09-30 21:38:14+00:00</td>\n",
       "      <td>2024-09-30 21:38:15+00:00</td>\n",
       "      <td>MOTORBIKE</td>\n",
       "      <td>2024-09-30 21:46:44.524000+00:00</td>\n",
       "      <td>2024-09-30 22:00:39+00:00</td>\n",
       "      <td>2024-09-30 22:01:02+00:00</td>\n",
       "      <td>38.36</td>\n",
       "      <td>...</td>\n",
       "      <td>6872.88</td>\n",
       "      <td>6872.88</td>\n",
       "      <td>9730.64</td>\n",
       "      <td>2024-09-30</td>\n",
       "      <td>ALC</td>\n",
       "      <td>834.48</td>\n",
       "      <td>8.24</td>\n",
       "      <td>834477335768.72</td>\n",
       "      <td>834.48</td>\n",
       "      <td>834477334934.25</td>\n",
       "    </tr>\n",
       "    <tr>\n",
       "      <th>997</th>\n",
       "      <td>ES</td>\n",
       "      <td>100901466311</td>\n",
       "      <td>4623155</td>\n",
       "      <td>2024-09-30 21:45:32+00:00</td>\n",
       "      <td>2024-09-30 21:45:33+00:00</td>\n",
       "      <td>BICYCLE</td>\n",
       "      <td>2024-09-30 21:59:36.356000+00:00</td>\n",
       "      <td>2024-09-30 22:11:08+00:00</td>\n",
       "      <td>2024-09-30 22:15:15+00:00</td>\n",
       "      <td>38.36</td>\n",
       "      <td>...</td>\n",
       "      <td>2490.76</td>\n",
       "      <td>2490.76</td>\n",
       "      <td>3220.66</td>\n",
       "      <td>2024-09-30</td>\n",
       "      <td>ALC</td>\n",
       "      <td>691.64</td>\n",
       "      <td>3.60</td>\n",
       "      <td>691591388213.91</td>\n",
       "      <td>691.64</td>\n",
       "      <td>691591387522.27</td>\n",
       "    </tr>\n",
       "    <tr>\n",
       "      <th>998</th>\n",
       "      <td>ES</td>\n",
       "      <td>100901492373</td>\n",
       "      <td>168086136</td>\n",
       "      <td>2024-09-30 21:57:16+00:00</td>\n",
       "      <td>2024-09-30 21:57:17+00:00</td>\n",
       "      <td>CAR</td>\n",
       "      <td>2024-09-30 22:13:17.522000+00:00</td>\n",
       "      <td>2024-09-30 22:20:54+00:00</td>\n",
       "      <td>2024-09-30 22:24:49+00:00</td>\n",
       "      <td>38.35</td>\n",
       "      <td>...</td>\n",
       "      <td>1772.50</td>\n",
       "      <td>1772.50</td>\n",
       "      <td>2455.20</td>\n",
       "      <td>2024-09-30</td>\n",
       "      <td>ALC</td>\n",
       "      <td>456.48</td>\n",
       "      <td>3.88</td>\n",
       "      <td>456429784348.47</td>\n",
       "      <td>456.48</td>\n",
       "      <td>456429783891.99</td>\n",
       "    </tr>\n",
       "    <tr>\n",
       "      <th>999</th>\n",
       "      <td>ES</td>\n",
       "      <td>100901500453</td>\n",
       "      <td>19758795</td>\n",
       "      <td>2024-09-30 22:01:12+00:00</td>\n",
       "      <td>2024-09-30 22:01:13+00:00</td>\n",
       "      <td>CAR</td>\n",
       "      <td>2024-09-30 22:13:42.816000+00:00</td>\n",
       "      <td>2024-09-30 22:16:52+00:00</td>\n",
       "      <td>2024-09-30 22:19:57+00:00</td>\n",
       "      <td>38.40</td>\n",
       "      <td>...</td>\n",
       "      <td>285.93</td>\n",
       "      <td>285.93</td>\n",
       "      <td>398.30</td>\n",
       "      <td>2024-09-30</td>\n",
       "      <td>ALC</td>\n",
       "      <td>189.18</td>\n",
       "      <td>1.51</td>\n",
       "      <td>189154463373.12</td>\n",
       "      <td>189.18</td>\n",
       "      <td>189154463183.94</td>\n",
       "    </tr>\n",
       "  </tbody>\n",
       "</table>\n",
       "<p>1000 rows × 28 columns</p>\n",
       "</div>"
      ],
      "text/plain": [
       "    country_code      order_id  courier_id        creation_timestamp  \\\n",
       "0             ES  100901000206   169065712 2024-09-30 19:00:49+00:00   \n",
       "1             ES  100901487351   173633632 2024-09-30 21:54:58+00:00   \n",
       "2             ES  100901615508     2320936 2024-09-30 23:17:55+00:00   \n",
       "3             ES  100900153723   174681565 2024-09-30 12:50:30+00:00   \n",
       "4             ES  100900235936   142421923 2024-09-30 13:23:50+00:00   \n",
       "..           ...           ...         ...                       ...   \n",
       "995           ES  100901315231   146195464 2024-09-30 20:49:51+00:00   \n",
       "996           ES  100901448857   141248791 2024-09-30 21:38:14+00:00   \n",
       "997           ES  100901466311     4623155 2024-09-30 21:45:32+00:00   \n",
       "998           ES  100901492373   168086136 2024-09-30 21:57:16+00:00   \n",
       "999           ES  100901500453    19758795 2024-09-30 22:01:12+00:00   \n",
       "\n",
       "         activation_timestamp  transport                 pickup_timestamp  \\\n",
       "0   2024-09-30 19:00:52+00:00        CAR 2024-09-30 19:20:41.337000+00:00   \n",
       "1   2024-09-30 21:54:59+00:00  MOTORBIKE 2024-09-30 21:58:40.678000+00:00   \n",
       "2   2024-09-30 23:17:55+00:00        CAR 2024-09-30 23:25:52.013000+00:00   \n",
       "3   2024-09-30 12:50:31+00:00  MOTORBIKE 2024-09-30 12:51:54.134000+00:00   \n",
       "4   2024-09-30 13:23:51+00:00        CAR 2024-09-30 13:49:36.097000+00:00   \n",
       "..                        ...        ...                              ...   \n",
       "995 2024-09-30 20:49:52+00:00        CAR 2024-09-30 20:59:02.847000+00:00   \n",
       "996 2024-09-30 21:38:15+00:00  MOTORBIKE 2024-09-30 21:46:44.524000+00:00   \n",
       "997 2024-09-30 21:45:33+00:00    BICYCLE 2024-09-30 21:59:36.356000+00:00   \n",
       "998 2024-09-30 21:57:17+00:00        CAR 2024-09-30 22:13:17.522000+00:00   \n",
       "999 2024-09-30 22:01:13+00:00        CAR 2024-09-30 22:13:42.816000+00:00   \n",
       "\n",
       "    delivery_entering_timestamp        delivery_timestamp  pickup_latitude  \\\n",
       "0     2024-09-30 19:30:56+00:00 2024-09-30 19:38:11+00:00            38.37   \n",
       "1     2024-09-30 22:12:29+00:00 2024-09-30 22:16:54+00:00            38.34   \n",
       "2     2024-09-30 23:34:12+00:00 2024-09-30 23:35:27+00:00            38.43   \n",
       "3     2024-09-30 12:53:27+00:00 2024-09-30 12:56:56+00:00            38.39   \n",
       "4     2024-09-30 13:57:33+00:00 2024-09-30 14:01:33+00:00            38.41   \n",
       "..                          ...                       ...              ...   \n",
       "995   2024-09-30 21:04:33+00:00 2024-09-30 21:05:24+00:00            38.36   \n",
       "996   2024-09-30 22:00:39+00:00 2024-09-30 22:01:02+00:00            38.36   \n",
       "997   2024-09-30 22:11:08+00:00 2024-09-30 22:15:15+00:00            38.36   \n",
       "998   2024-09-30 22:20:54+00:00 2024-09-30 22:24:49+00:00            38.35   \n",
       "999   2024-09-30 22:16:52+00:00 2024-09-30 22:19:57+00:00            38.40   \n",
       "\n",
       "     ...  pd_distance_haversine_m  pd_distance_haversine_m_sk  \\\n",
       "0    ...                  3147.42                     3147.42   \n",
       "1    ...                  1959.90                     1959.90   \n",
       "2    ...                  3043.08                     3043.08   \n",
       "3    ...                   384.77                      384.77   \n",
       "4    ...                  2321.10                     2321.10   \n",
       "..   ...                      ...                         ...   \n",
       "995  ...                  1485.18                     1485.18   \n",
       "996  ...                  6872.88                     6872.88   \n",
       "997  ...                  2490.76                     2490.76   \n",
       "998  ...                  1772.50                     1772.50   \n",
       "999  ...                   285.93                      285.93   \n",
       "\n",
       "     pd_distance_manhattan_m creation_date  city_code   time  velocity  \\\n",
       "0                    4371.55    2024-09-30        ALC 614.66      5.12   \n",
       "1                    2228.78    2024-09-30        ALC 828.32      2.37   \n",
       "2                    4304.54    2024-09-30        ALC 499.99      6.09   \n",
       "3                     538.64    2024-09-30        ALC  92.87      4.14   \n",
       "4                    2443.13    2024-09-30        ALC 476.90      4.87   \n",
       "..                       ...           ...        ...    ...       ...   \n",
       "995                  2054.80    2024-09-30        ALC 330.15      4.50   \n",
       "996                  9730.64    2024-09-30        ALC 834.48      8.24   \n",
       "997                  3220.66    2024-09-30        ALC 691.64      3.60   \n",
       "998                  2455.20    2024-09-30        ALC 456.48      3.88   \n",
       "999                   398.30    2024-09-30        ALC 189.18      1.51   \n",
       "\n",
       "     y_test_predicted  y_test            diff  \n",
       "0     614698882284.64  614.66 614698881669.97  \n",
       "1     828246159697.12  828.32 828246158868.80  \n",
       "2     500004585856.64  499.99 500004585356.65  \n",
       "3      92901290940.28   92.87  92901290847.41  \n",
       "4     476965780344.04  476.90 476965779867.13  \n",
       "..                ...     ...             ...  \n",
       "995   330139778257.92  330.15 330139777927.77  \n",
       "996   834477335768.72  834.48 834477334934.25  \n",
       "997   691591388213.91  691.64 691591387522.27  \n",
       "998   456429784348.47  456.48 456429783891.99  \n",
       "999   189154463373.12  189.18 189154463183.94  \n",
       "\n",
       "[1000 rows x 28 columns]"
      ]
     },
     "execution_count": 54,
     "metadata": {},
     "output_type": "execute_result"
    }
   ],
   "source": [
    "X_test_expanded = X_train_smaller.copy()\n",
    "X_test_expanded['y_test_predicted'] = model_linear_SGD_smaller.predict(X_test_expanded)\n",
    "X_test_expanded['y_test'] = (X_test_expanded['delivery_entering_timestamp'] - X_test_expanded['pickup_timestamp']).dt.total_seconds()\n",
    "X_test_expanded['diff'] = X_test_expanded['y_test_predicted'] - X_test_expanded['y_test']\n",
    "X_test_expanded"
   ]
  },
  {
   "cell_type": "code",
   "execution_count": 55,
   "id": "2f06eb76",
   "metadata": {},
   "outputs": [
    {
     "data": {
      "text/plain": [
       "array([-2.05865272e+10])"
      ]
     },
     "execution_count": 55,
     "metadata": {},
     "output_type": "execute_result"
    }
   ],
   "source": [
    "model_linear_SGD_smaller.predict(X_test.iloc[[0]])"
   ]
  },
  {
   "cell_type": "markdown",
   "id": "f155e087",
   "metadata": {},
   "source": [
    "#### Train on 3 days of data"
   ]
  },
  {
   "cell_type": "code",
   "execution_count": 56,
   "id": "27fc129e",
   "metadata": {},
   "outputs": [
    {
     "name": "stdout",
     "output_type": "stream",
     "text": [
      "Start time: 2025-04-16 18:45:46.792226\n"
     ]
    }
   ],
   "source": [
    "start = datetime.datetime.now()\n",
    "print(f\"Start time: {start}\")"
   ]
  },
  {
   "cell_type": "code",
   "execution_count": 57,
   "id": "3051f2fa",
   "metadata": {},
   "outputs": [
    {
     "name": "stderr",
     "output_type": "stream",
     "text": [
      "INFO:root:Train datasets shapes: X: (130457, 23), y: (130457,)\n",
      "INFO:root:Starting to encode variables\n",
      "INFO:root:Encoded dataset shape: X: (130457, 38)\n",
      "INFO:root:Finished to encode variables. Starting to fit the model\n",
      "INFO:root:Finished training the model\n"
     ]
    },
    {
     "data": {
      "text/plain": [
       "<estimator.LinearModel at 0x11e0193d0>"
      ]
     },
     "execution_count": 57,
     "metadata": {},
     "output_type": "execute_result"
    }
   ],
   "source": [
    "model_linear_SGD_3d = LinearModel(model_type='sgd', encoding='dummy')\n",
    "model_linear_SGD_3d.fit(X_train_3d, y_train_3d)"
   ]
  },
  {
   "cell_type": "code",
   "execution_count": 58,
   "id": "e3dbeed9",
   "metadata": {},
   "outputs": [
    {
     "name": "stdout",
     "output_type": "stream",
     "text": [
      "End time: 2025-04-16 18:45:49.376108\n",
      "Time elapsed: 0:00:02.583882\n"
     ]
    }
   ],
   "source": [
    "end = datetime.datetime.now()\n",
    "print(f\"End time: {end}\")\n",
    "model_linear_SGD_3d_time = end - start\n",
    "print(f\"Time elapsed: {model_linear_SGD_3d_time}\")"
   ]
  },
  {
   "cell_type": "code",
   "execution_count": 59,
   "id": "e8a5ec496dd8bbd5",
   "metadata": {
    "ExecuteTime": {
     "end_time": "2025-03-27T14:20:45.324010Z",
     "start_time": "2025-03-27T14:19:36.216394Z"
    },
    "collapsed": false
   },
   "outputs": [
    {
     "data": {
      "text/plain": [
       "(np.float64(3397718904354.339), np.float64(1.1631829390496383e+25))"
      ]
     },
     "execution_count": 59,
     "metadata": {},
     "output_type": "execute_result"
    }
   ],
   "source": [
    "model_linear_SGD_3d_eval = model_linear_SGD_3d.evaluate(X_test_3d, y_test_3d)\n",
    "model_linear_SGD_3d_eval"
   ]
  },
  {
   "cell_type": "markdown",
   "id": "631b8318",
   "metadata": {},
   "source": [
    "#### Train on a week of data"
   ]
  },
  {
   "cell_type": "code",
   "execution_count": 60,
   "id": "6dfe7dfc",
   "metadata": {},
   "outputs": [
    {
     "name": "stdout",
     "output_type": "stream",
     "text": [
      "Start time: 2025-04-16 18:45:49.694764\n"
     ]
    }
   ],
   "source": [
    "start = datetime.datetime.now()\n",
    "print(f\"Start time: {start}\")"
   ]
  },
  {
   "cell_type": "code",
   "execution_count": 61,
   "id": "f41f4955",
   "metadata": {},
   "outputs": [
    {
     "name": "stderr",
     "output_type": "stream",
     "text": [
      "INFO:root:Train datasets shapes: X: (345313, 23), y: (345313,)\n",
      "INFO:root:Starting to encode variables\n",
      "INFO:root:Encoded dataset shape: X: (345313, 38)\n",
      "INFO:root:Finished to encode variables. Starting to fit the model\n",
      "INFO:root:Finished training the model\n"
     ]
    },
    {
     "data": {
      "text/plain": [
       "<estimator.LinearModel at 0x126dba900>"
      ]
     },
     "execution_count": 61,
     "metadata": {},
     "output_type": "execute_result"
    }
   ],
   "source": [
    "model_linear_SGD_7d = LinearModel(model_type='SGD', encoding='dummy')\n",
    "model_linear_SGD_7d.fit(X_train_7d, y_train_7d)"
   ]
  },
  {
   "cell_type": "code",
   "execution_count": 62,
   "id": "2c416808",
   "metadata": {},
   "outputs": [
    {
     "name": "stdout",
     "output_type": "stream",
     "text": [
      "End time: 2025-04-16 18:45:56.228983\n",
      "Time elapsed: 0:00:06.534219\n"
     ]
    }
   ],
   "source": [
    "end = datetime.datetime.now()\n",
    "print(f\"End time: {end}\")\n",
    "model_linear_SGD_7d_time = end - start\n",
    "print(f\"Time elapsed: {model_linear_SGD_7d_time}\")"
   ]
  },
  {
   "cell_type": "code",
   "execution_count": 63,
   "id": "af4b7a72",
   "metadata": {},
   "outputs": [
    {
     "data": {
      "text/plain": [
       "(np.float64(147974625486.1344), np.float64(4.577837556596903e+22))"
      ]
     },
     "execution_count": 63,
     "metadata": {},
     "output_type": "execute_result"
    }
   ],
   "source": [
    "model_linear_SGD_7d_eval = model_linear_SGD_7d.evaluate(X_test_7d, y_test_7d)\n",
    "model_linear_SGD_7d_eval"
   ]
  },
  {
   "cell_type": "markdown",
   "id": "22e43b5c",
   "metadata": {},
   "source": [
    "#### Train on full data"
   ]
  },
  {
   "cell_type": "code",
   "execution_count": 64,
   "id": "10f6f272",
   "metadata": {},
   "outputs": [
    {
     "name": "stdout",
     "output_type": "stream",
     "text": [
      "Start time: 2025-04-16 18:45:56.696478\n"
     ]
    }
   ],
   "source": [
    "start = datetime.datetime.now()\n",
    "print(f\"Start time: {start}\")"
   ]
  },
  {
   "cell_type": "code",
   "execution_count": 65,
   "id": "f4f20daa",
   "metadata": {},
   "outputs": [
    {
     "name": "stderr",
     "output_type": "stream",
     "text": [
      "INFO:root:Train datasets shapes: X: (678751, 25), y: (678751,)\n",
      "INFO:root:Starting to encode variables\n",
      "INFO:root:Encoded dataset shape: X: (678751, 40)\n",
      "INFO:root:Finished to encode variables. Starting to fit the model\n",
      "INFO:root:Finished training the model\n"
     ]
    },
    {
     "data": {
      "text/plain": [
       "<estimator.LinearModel at 0x126dba420>"
      ]
     },
     "execution_count": 65,
     "metadata": {},
     "output_type": "execute_result"
    }
   ],
   "source": [
    "model_linear_SGD = LinearModel(model_type='sgd', encoding='dummy')\n",
    "model_linear_SGD.fit(X_train, y_train)"
   ]
  },
  {
   "cell_type": "code",
   "execution_count": 66,
   "id": "c6bfdafe",
   "metadata": {},
   "outputs": [
    {
     "name": "stdout",
     "output_type": "stream",
     "text": [
      "End time: 2025-04-16 18:46:01.343669\n",
      "Time elapsed: 0:00:04.647191\n"
     ]
    }
   ],
   "source": [
    "end = datetime.datetime.now()\n",
    "print(f\"End time: {end}\")\n",
    "model_linear_SGD_time = end - start\n",
    "print(f\"Time elapsed: {model_linear_SGD_time}\")"
   ]
  },
  {
   "cell_type": "code",
   "execution_count": 67,
   "id": "20cc2463",
   "metadata": {},
   "outputs": [
    {
     "data": {
      "text/plain": [
       "(np.float64(2781503689.460166), np.float64(8.538907542794446e+18))"
      ]
     },
     "execution_count": 67,
     "metadata": {},
     "output_type": "execute_result"
    }
   ],
   "source": [
    "model_linear_SGD_eval = model_linear_SGD.evaluate(X_test, y_test)\n",
    "model_linear_SGD_eval"
   ]
  },
  {
   "cell_type": "markdown",
   "id": "151a46b027d0f83f",
   "metadata": {
    "collapsed": false
   },
   "source": [
    "### LinearModel cyclical encoding"
   ]
  },
  {
   "cell_type": "code",
   "execution_count": 68,
   "id": "44de7b86e5322f07",
   "metadata": {
    "collapsed": false,
    "is_executing": true
   },
   "outputs": [
    {
     "name": "stderr",
     "output_type": "stream",
     "text": [
      "INFO:root:Train datasets shapes: X: (1000, 25), y: (1000,)\n",
      "INFO:root:Starting to encode variables\n",
      "INFO:root:Encoded dataset shape: X: (1000, 58)\n",
      "INFO:root:Finished to encode variables. Starting to fit the model\n",
      "INFO:root:Finished training the model\n"
     ]
    },
    {
     "data": {
      "text/plain": [
       "<estimator.LinearModel at 0x11d50f260>"
      ]
     },
     "execution_count": 68,
     "metadata": {},
     "output_type": "execute_result"
    }
   ],
   "source": [
    "model_linear_cyclical_smaller = LinearModel(model_type='linear', encoding='cyclical')\n",
    "model_linear_cyclical_smaller.fit(X_train_smaller, y_train_smaller)"
   ]
  },
  {
   "cell_type": "code",
   "execution_count": 69,
   "id": "d3bd7295cc95b3a9",
   "metadata": {
    "collapsed": false,
    "is_executing": true
   },
   "outputs": [
    {
     "data": {
      "text/html": [
       "<div>\n",
       "<style scoped>\n",
       "    .dataframe tbody tr th:only-of-type {\n",
       "        vertical-align: middle;\n",
       "    }\n",
       "\n",
       "    .dataframe tbody tr th {\n",
       "        vertical-align: top;\n",
       "    }\n",
       "\n",
       "    .dataframe thead th {\n",
       "        text-align: right;\n",
       "    }\n",
       "</style>\n",
       "<table border=\"1\" class=\"dataframe\">\n",
       "  <thead>\n",
       "    <tr style=\"text-align: right;\">\n",
       "      <th></th>\n",
       "      <th>country_code</th>\n",
       "      <th>order_id</th>\n",
       "      <th>courier_id</th>\n",
       "      <th>creation_timestamp</th>\n",
       "      <th>activation_timestamp</th>\n",
       "      <th>transport</th>\n",
       "      <th>pickup_timestamp</th>\n",
       "      <th>delivery_entering_timestamp</th>\n",
       "      <th>delivery_timestamp</th>\n",
       "      <th>pickup_latitude</th>\n",
       "      <th>...</th>\n",
       "      <th>pd_distance_haversine_m</th>\n",
       "      <th>pd_distance_haversine_m_sk</th>\n",
       "      <th>pd_distance_manhattan_m</th>\n",
       "      <th>creation_date</th>\n",
       "      <th>city_code</th>\n",
       "      <th>time</th>\n",
       "      <th>velocity</th>\n",
       "      <th>y_test_predicted</th>\n",
       "      <th>y_test</th>\n",
       "      <th>diff</th>\n",
       "    </tr>\n",
       "  </thead>\n",
       "  <tbody>\n",
       "    <tr>\n",
       "      <th>0</th>\n",
       "      <td>ES</td>\n",
       "      <td>100901000206</td>\n",
       "      <td>169065712</td>\n",
       "      <td>2024-09-30 19:00:49+00:00</td>\n",
       "      <td>2024-09-30 19:00:52+00:00</td>\n",
       "      <td>CAR</td>\n",
       "      <td>2024-09-30 19:20:41.337000+00:00</td>\n",
       "      <td>2024-09-30 19:30:56+00:00</td>\n",
       "      <td>2024-09-30 19:38:11+00:00</td>\n",
       "      <td>38.37</td>\n",
       "      <td>...</td>\n",
       "      <td>3147.42</td>\n",
       "      <td>3147.42</td>\n",
       "      <td>4371.55</td>\n",
       "      <td>2024-09-30</td>\n",
       "      <td>ALC</td>\n",
       "      <td>614.66</td>\n",
       "      <td>5.12</td>\n",
       "      <td>614663000000.03</td>\n",
       "      <td>614.66</td>\n",
       "      <td>614662999385.37</td>\n",
       "    </tr>\n",
       "    <tr>\n",
       "      <th>1</th>\n",
       "      <td>ES</td>\n",
       "      <td>100901487351</td>\n",
       "      <td>173633632</td>\n",
       "      <td>2024-09-30 21:54:58+00:00</td>\n",
       "      <td>2024-09-30 21:54:59+00:00</td>\n",
       "      <td>MOTORBIKE</td>\n",
       "      <td>2024-09-30 21:58:40.678000+00:00</td>\n",
       "      <td>2024-09-30 22:12:29+00:00</td>\n",
       "      <td>2024-09-30 22:16:54+00:00</td>\n",
       "      <td>38.34</td>\n",
       "      <td>...</td>\n",
       "      <td>1959.90</td>\n",
       "      <td>1959.90</td>\n",
       "      <td>2228.78</td>\n",
       "      <td>2024-09-30</td>\n",
       "      <td>ALC</td>\n",
       "      <td>828.32</td>\n",
       "      <td>2.37</td>\n",
       "      <td>828322000000.01</td>\n",
       "      <td>828.32</td>\n",
       "      <td>828321999171.68</td>\n",
       "    </tr>\n",
       "    <tr>\n",
       "      <th>2</th>\n",
       "      <td>ES</td>\n",
       "      <td>100901615508</td>\n",
       "      <td>2320936</td>\n",
       "      <td>2024-09-30 23:17:55+00:00</td>\n",
       "      <td>2024-09-30 23:17:55+00:00</td>\n",
       "      <td>CAR</td>\n",
       "      <td>2024-09-30 23:25:52.013000+00:00</td>\n",
       "      <td>2024-09-30 23:34:12+00:00</td>\n",
       "      <td>2024-09-30 23:35:27+00:00</td>\n",
       "      <td>38.43</td>\n",
       "      <td>...</td>\n",
       "      <td>3043.08</td>\n",
       "      <td>3043.08</td>\n",
       "      <td>4304.54</td>\n",
       "      <td>2024-09-30</td>\n",
       "      <td>ALC</td>\n",
       "      <td>499.99</td>\n",
       "      <td>6.09</td>\n",
       "      <td>499987000000.03</td>\n",
       "      <td>499.99</td>\n",
       "      <td>499986999500.04</td>\n",
       "    </tr>\n",
       "    <tr>\n",
       "      <th>3</th>\n",
       "      <td>ES</td>\n",
       "      <td>100900153723</td>\n",
       "      <td>174681565</td>\n",
       "      <td>2024-09-30 12:50:30+00:00</td>\n",
       "      <td>2024-09-30 12:50:31+00:00</td>\n",
       "      <td>MOTORBIKE</td>\n",
       "      <td>2024-09-30 12:51:54.134000+00:00</td>\n",
       "      <td>2024-09-30 12:53:27+00:00</td>\n",
       "      <td>2024-09-30 12:56:56+00:00</td>\n",
       "      <td>38.39</td>\n",
       "      <td>...</td>\n",
       "      <td>384.77</td>\n",
       "      <td>384.77</td>\n",
       "      <td>538.64</td>\n",
       "      <td>2024-09-30</td>\n",
       "      <td>ALC</td>\n",
       "      <td>92.87</td>\n",
       "      <td>4.14</td>\n",
       "      <td>92865999999.98</td>\n",
       "      <td>92.87</td>\n",
       "      <td>92865999907.12</td>\n",
       "    </tr>\n",
       "    <tr>\n",
       "      <th>4</th>\n",
       "      <td>ES</td>\n",
       "      <td>100900235936</td>\n",
       "      <td>142421923</td>\n",
       "      <td>2024-09-30 13:23:50+00:00</td>\n",
       "      <td>2024-09-30 13:23:51+00:00</td>\n",
       "      <td>CAR</td>\n",
       "      <td>2024-09-30 13:49:36.097000+00:00</td>\n",
       "      <td>2024-09-30 13:57:33+00:00</td>\n",
       "      <td>2024-09-30 14:01:33+00:00</td>\n",
       "      <td>38.41</td>\n",
       "      <td>...</td>\n",
       "      <td>2321.10</td>\n",
       "      <td>2321.10</td>\n",
       "      <td>2443.13</td>\n",
       "      <td>2024-09-30</td>\n",
       "      <td>ALC</td>\n",
       "      <td>476.90</td>\n",
       "      <td>4.87</td>\n",
       "      <td>476903000000.01</td>\n",
       "      <td>476.90</td>\n",
       "      <td>476902999523.11</td>\n",
       "    </tr>\n",
       "    <tr>\n",
       "      <th>...</th>\n",
       "      <td>...</td>\n",
       "      <td>...</td>\n",
       "      <td>...</td>\n",
       "      <td>...</td>\n",
       "      <td>...</td>\n",
       "      <td>...</td>\n",
       "      <td>...</td>\n",
       "      <td>...</td>\n",
       "      <td>...</td>\n",
       "      <td>...</td>\n",
       "      <td>...</td>\n",
       "      <td>...</td>\n",
       "      <td>...</td>\n",
       "      <td>...</td>\n",
       "      <td>...</td>\n",
       "      <td>...</td>\n",
       "      <td>...</td>\n",
       "      <td>...</td>\n",
       "      <td>...</td>\n",
       "      <td>...</td>\n",
       "      <td>...</td>\n",
       "    </tr>\n",
       "    <tr>\n",
       "      <th>995</th>\n",
       "      <td>ES</td>\n",
       "      <td>100901315231</td>\n",
       "      <td>146195464</td>\n",
       "      <td>2024-09-30 20:49:51+00:00</td>\n",
       "      <td>2024-09-30 20:49:52+00:00</td>\n",
       "      <td>CAR</td>\n",
       "      <td>2024-09-30 20:59:02.847000+00:00</td>\n",
       "      <td>2024-09-30 21:04:33+00:00</td>\n",
       "      <td>2024-09-30 21:05:24+00:00</td>\n",
       "      <td>38.36</td>\n",
       "      <td>...</td>\n",
       "      <td>1485.18</td>\n",
       "      <td>1485.18</td>\n",
       "      <td>2054.80</td>\n",
       "      <td>2024-09-30</td>\n",
       "      <td>ALC</td>\n",
       "      <td>330.15</td>\n",
       "      <td>4.50</td>\n",
       "      <td>330153000000.00</td>\n",
       "      <td>330.15</td>\n",
       "      <td>330152999669.85</td>\n",
       "    </tr>\n",
       "    <tr>\n",
       "      <th>996</th>\n",
       "      <td>ES</td>\n",
       "      <td>100901448857</td>\n",
       "      <td>141248791</td>\n",
       "      <td>2024-09-30 21:38:14+00:00</td>\n",
       "      <td>2024-09-30 21:38:15+00:00</td>\n",
       "      <td>MOTORBIKE</td>\n",
       "      <td>2024-09-30 21:46:44.524000+00:00</td>\n",
       "      <td>2024-09-30 22:00:39+00:00</td>\n",
       "      <td>2024-09-30 22:01:02+00:00</td>\n",
       "      <td>38.36</td>\n",
       "      <td>...</td>\n",
       "      <td>6872.88</td>\n",
       "      <td>6872.88</td>\n",
       "      <td>9730.64</td>\n",
       "      <td>2024-09-30</td>\n",
       "      <td>ALC</td>\n",
       "      <td>834.48</td>\n",
       "      <td>8.24</td>\n",
       "      <td>834476000000.09</td>\n",
       "      <td>834.48</td>\n",
       "      <td>834475999165.61</td>\n",
       "    </tr>\n",
       "    <tr>\n",
       "      <th>997</th>\n",
       "      <td>ES</td>\n",
       "      <td>100901466311</td>\n",
       "      <td>4623155</td>\n",
       "      <td>2024-09-30 21:45:32+00:00</td>\n",
       "      <td>2024-09-30 21:45:33+00:00</td>\n",
       "      <td>BICYCLE</td>\n",
       "      <td>2024-09-30 21:59:36.356000+00:00</td>\n",
       "      <td>2024-09-30 22:11:08+00:00</td>\n",
       "      <td>2024-09-30 22:15:15+00:00</td>\n",
       "      <td>38.36</td>\n",
       "      <td>...</td>\n",
       "      <td>2490.76</td>\n",
       "      <td>2490.76</td>\n",
       "      <td>3220.66</td>\n",
       "      <td>2024-09-30</td>\n",
       "      <td>ALC</td>\n",
       "      <td>691.64</td>\n",
       "      <td>3.60</td>\n",
       "      <td>691644000000.02</td>\n",
       "      <td>691.64</td>\n",
       "      <td>691643999308.37</td>\n",
       "    </tr>\n",
       "    <tr>\n",
       "      <th>998</th>\n",
       "      <td>ES</td>\n",
       "      <td>100901492373</td>\n",
       "      <td>168086136</td>\n",
       "      <td>2024-09-30 21:57:16+00:00</td>\n",
       "      <td>2024-09-30 21:57:17+00:00</td>\n",
       "      <td>CAR</td>\n",
       "      <td>2024-09-30 22:13:17.522000+00:00</td>\n",
       "      <td>2024-09-30 22:20:54+00:00</td>\n",
       "      <td>2024-09-30 22:24:49+00:00</td>\n",
       "      <td>38.35</td>\n",
       "      <td>...</td>\n",
       "      <td>1772.50</td>\n",
       "      <td>1772.50</td>\n",
       "      <td>2455.20</td>\n",
       "      <td>2024-09-30</td>\n",
       "      <td>ALC</td>\n",
       "      <td>456.48</td>\n",
       "      <td>3.88</td>\n",
       "      <td>456478000000.00</td>\n",
       "      <td>456.48</td>\n",
       "      <td>456477999543.53</td>\n",
       "    </tr>\n",
       "    <tr>\n",
       "      <th>999</th>\n",
       "      <td>ES</td>\n",
       "      <td>100901500453</td>\n",
       "      <td>19758795</td>\n",
       "      <td>2024-09-30 22:01:12+00:00</td>\n",
       "      <td>2024-09-30 22:01:13+00:00</td>\n",
       "      <td>CAR</td>\n",
       "      <td>2024-09-30 22:13:42.816000+00:00</td>\n",
       "      <td>2024-09-30 22:16:52+00:00</td>\n",
       "      <td>2024-09-30 22:19:57+00:00</td>\n",
       "      <td>38.40</td>\n",
       "      <td>...</td>\n",
       "      <td>285.93</td>\n",
       "      <td>285.93</td>\n",
       "      <td>398.30</td>\n",
       "      <td>2024-09-30</td>\n",
       "      <td>ALC</td>\n",
       "      <td>189.18</td>\n",
       "      <td>1.51</td>\n",
       "      <td>189183999999.98</td>\n",
       "      <td>189.18</td>\n",
       "      <td>189183999810.80</td>\n",
       "    </tr>\n",
       "  </tbody>\n",
       "</table>\n",
       "<p>1000 rows × 28 columns</p>\n",
       "</div>"
      ],
      "text/plain": [
       "    country_code      order_id  courier_id        creation_timestamp  \\\n",
       "0             ES  100901000206   169065712 2024-09-30 19:00:49+00:00   \n",
       "1             ES  100901487351   173633632 2024-09-30 21:54:58+00:00   \n",
       "2             ES  100901615508     2320936 2024-09-30 23:17:55+00:00   \n",
       "3             ES  100900153723   174681565 2024-09-30 12:50:30+00:00   \n",
       "4             ES  100900235936   142421923 2024-09-30 13:23:50+00:00   \n",
       "..           ...           ...         ...                       ...   \n",
       "995           ES  100901315231   146195464 2024-09-30 20:49:51+00:00   \n",
       "996           ES  100901448857   141248791 2024-09-30 21:38:14+00:00   \n",
       "997           ES  100901466311     4623155 2024-09-30 21:45:32+00:00   \n",
       "998           ES  100901492373   168086136 2024-09-30 21:57:16+00:00   \n",
       "999           ES  100901500453    19758795 2024-09-30 22:01:12+00:00   \n",
       "\n",
       "         activation_timestamp  transport                 pickup_timestamp  \\\n",
       "0   2024-09-30 19:00:52+00:00        CAR 2024-09-30 19:20:41.337000+00:00   \n",
       "1   2024-09-30 21:54:59+00:00  MOTORBIKE 2024-09-30 21:58:40.678000+00:00   \n",
       "2   2024-09-30 23:17:55+00:00        CAR 2024-09-30 23:25:52.013000+00:00   \n",
       "3   2024-09-30 12:50:31+00:00  MOTORBIKE 2024-09-30 12:51:54.134000+00:00   \n",
       "4   2024-09-30 13:23:51+00:00        CAR 2024-09-30 13:49:36.097000+00:00   \n",
       "..                        ...        ...                              ...   \n",
       "995 2024-09-30 20:49:52+00:00        CAR 2024-09-30 20:59:02.847000+00:00   \n",
       "996 2024-09-30 21:38:15+00:00  MOTORBIKE 2024-09-30 21:46:44.524000+00:00   \n",
       "997 2024-09-30 21:45:33+00:00    BICYCLE 2024-09-30 21:59:36.356000+00:00   \n",
       "998 2024-09-30 21:57:17+00:00        CAR 2024-09-30 22:13:17.522000+00:00   \n",
       "999 2024-09-30 22:01:13+00:00        CAR 2024-09-30 22:13:42.816000+00:00   \n",
       "\n",
       "    delivery_entering_timestamp        delivery_timestamp  pickup_latitude  \\\n",
       "0     2024-09-30 19:30:56+00:00 2024-09-30 19:38:11+00:00            38.37   \n",
       "1     2024-09-30 22:12:29+00:00 2024-09-30 22:16:54+00:00            38.34   \n",
       "2     2024-09-30 23:34:12+00:00 2024-09-30 23:35:27+00:00            38.43   \n",
       "3     2024-09-30 12:53:27+00:00 2024-09-30 12:56:56+00:00            38.39   \n",
       "4     2024-09-30 13:57:33+00:00 2024-09-30 14:01:33+00:00            38.41   \n",
       "..                          ...                       ...              ...   \n",
       "995   2024-09-30 21:04:33+00:00 2024-09-30 21:05:24+00:00            38.36   \n",
       "996   2024-09-30 22:00:39+00:00 2024-09-30 22:01:02+00:00            38.36   \n",
       "997   2024-09-30 22:11:08+00:00 2024-09-30 22:15:15+00:00            38.36   \n",
       "998   2024-09-30 22:20:54+00:00 2024-09-30 22:24:49+00:00            38.35   \n",
       "999   2024-09-30 22:16:52+00:00 2024-09-30 22:19:57+00:00            38.40   \n",
       "\n",
       "     ...  pd_distance_haversine_m  pd_distance_haversine_m_sk  \\\n",
       "0    ...                  3147.42                     3147.42   \n",
       "1    ...                  1959.90                     1959.90   \n",
       "2    ...                  3043.08                     3043.08   \n",
       "3    ...                   384.77                      384.77   \n",
       "4    ...                  2321.10                     2321.10   \n",
       "..   ...                      ...                         ...   \n",
       "995  ...                  1485.18                     1485.18   \n",
       "996  ...                  6872.88                     6872.88   \n",
       "997  ...                  2490.76                     2490.76   \n",
       "998  ...                  1772.50                     1772.50   \n",
       "999  ...                   285.93                      285.93   \n",
       "\n",
       "     pd_distance_manhattan_m creation_date  city_code   time  velocity  \\\n",
       "0                    4371.55    2024-09-30        ALC 614.66      5.12   \n",
       "1                    2228.78    2024-09-30        ALC 828.32      2.37   \n",
       "2                    4304.54    2024-09-30        ALC 499.99      6.09   \n",
       "3                     538.64    2024-09-30        ALC  92.87      4.14   \n",
       "4                    2443.13    2024-09-30        ALC 476.90      4.87   \n",
       "..                       ...           ...        ...    ...       ...   \n",
       "995                  2054.80    2024-09-30        ALC 330.15      4.50   \n",
       "996                  9730.64    2024-09-30        ALC 834.48      8.24   \n",
       "997                  3220.66    2024-09-30        ALC 691.64      3.60   \n",
       "998                  2455.20    2024-09-30        ALC 456.48      3.88   \n",
       "999                   398.30    2024-09-30        ALC 189.18      1.51   \n",
       "\n",
       "     y_test_predicted  y_test            diff  \n",
       "0     614663000000.03  614.66 614662999385.37  \n",
       "1     828322000000.01  828.32 828321999171.68  \n",
       "2     499987000000.03  499.99 499986999500.04  \n",
       "3      92865999999.98   92.87  92865999907.12  \n",
       "4     476903000000.01  476.90 476902999523.11  \n",
       "..                ...     ...             ...  \n",
       "995   330153000000.00  330.15 330152999669.85  \n",
       "996   834476000000.09  834.48 834475999165.61  \n",
       "997   691644000000.02  691.64 691643999308.37  \n",
       "998   456478000000.00  456.48 456477999543.53  \n",
       "999   189183999999.98  189.18 189183999810.80  \n",
       "\n",
       "[1000 rows x 28 columns]"
      ]
     },
     "execution_count": 69,
     "metadata": {},
     "output_type": "execute_result"
    }
   ],
   "source": [
    "X_test_expanded = X_train_smaller.copy()\n",
    "X_test_expanded['y_test_predicted'] = model_linear_cyclical_smaller.predict(X_test_expanded)\n",
    "X_test_expanded['y_test'] = (X_test_expanded['delivery_entering_timestamp'] - X_test_expanded['pickup_timestamp']).dt.total_seconds()\n",
    "X_test_expanded['diff'] = X_test_expanded['y_test_predicted'] - X_test_expanded['y_test']\n",
    "X_test_expanded"
   ]
  },
  {
   "cell_type": "code",
   "execution_count": 70,
   "id": "18693d1f582455f4",
   "metadata": {
    "collapsed": false,
    "is_executing": true
   },
   "outputs": [
    {
     "data": {
      "text/plain": [
       "array([-0.08057401])"
      ]
     },
     "execution_count": 70,
     "metadata": {},
     "output_type": "execute_result"
    }
   ],
   "source": [
    "model_linear_cyclical_smaller.predict(X_test.iloc[[0]])"
   ]
  },
  {
   "cell_type": "markdown",
   "id": "2343135d",
   "metadata": {},
   "source": [
    "#### Train on full data"
   ]
  },
  {
   "cell_type": "code",
   "execution_count": 71,
   "id": "c48ea306",
   "metadata": {},
   "outputs": [
    {
     "name": "stdout",
     "output_type": "stream",
     "text": [
      "Start time: 2025-04-16 18:46:02.626618\n"
     ]
    }
   ],
   "source": [
    "start = datetime.datetime.now()\n",
    "print(f\"Start time: {start}\")"
   ]
  },
  {
   "cell_type": "code",
   "execution_count": 72,
   "id": "cf0083c3",
   "metadata": {},
   "outputs": [
    {
     "name": "stderr",
     "output_type": "stream",
     "text": [
      "INFO:root:Train datasets shapes: X: (678751, 25), y: (678751,)\n",
      "INFO:root:Starting to encode variables\n",
      "INFO:root:Encoded dataset shape: X: (678751, 59)\n",
      "INFO:root:Finished to encode variables. Starting to fit the model\n",
      "INFO:root:Finished training the model\n"
     ]
    },
    {
     "data": {
      "text/plain": [
       "<estimator.LinearModel at 0x126d5cdd0>"
      ]
     },
     "execution_count": 72,
     "metadata": {},
     "output_type": "execute_result"
    }
   ],
   "source": [
    "model_linear_cyclical = LinearModel(model_type='linear', encoding='cyclical')\n",
    "model_linear_cyclical.fit(X_train, y_train)"
   ]
  },
  {
   "cell_type": "code",
   "execution_count": 73,
   "id": "0f5e7f4c",
   "metadata": {},
   "outputs": [
    {
     "name": "stdout",
     "output_type": "stream",
     "text": [
      "End time: 2025-04-16 18:46:10.656137\n",
      "Time elapsed: 0:00:08.029519\n"
     ]
    }
   ],
   "source": [
    "end = datetime.datetime.now()\n",
    "print(f\"End time: {end}\")\n",
    "model_linear_cyclical_time = end - start\n",
    "print(f\"Time elapsed: {model_linear_cyclical_time}\")"
   ]
  },
  {
   "cell_type": "code",
   "execution_count": 74,
   "id": "eacde562357dc971",
   "metadata": {
    "collapsed": false,
    "is_executing": true
   },
   "outputs": [
    {
     "data": {
      "text/plain": [
       "(np.float64(448.9647149693681), np.float64(282202.8674738092))"
      ]
     },
     "execution_count": 74,
     "metadata": {},
     "output_type": "execute_result"
    }
   ],
   "source": [
    "model_linear_cyclical_eval = model_linear_cyclical.evaluate(X_test, y_test)\n",
    "model_linear_cyclical_eval"
   ]
  },
  {
   "cell_type": "markdown",
   "id": "8cff56e3",
   "metadata": {},
   "source": [
    "#### LinearModel cyclical encoding with time difference columns"
   ]
  },
  {
   "cell_type": "code",
   "execution_count": 75,
   "id": "d8d24c90",
   "metadata": {},
   "outputs": [
    {
     "name": "stdout",
     "output_type": "stream",
     "text": [
      "Start time: 2025-04-16 18:46:13.266871\n"
     ]
    }
   ],
   "source": [
    "start = datetime.datetime.now()\n",
    "print(f\"Start time: {start}\")"
   ]
  },
  {
   "cell_type": "code",
   "execution_count": 76,
   "id": "142cb535",
   "metadata": {},
   "outputs": [
    {
     "name": "stderr",
     "output_type": "stream",
     "text": [
      "INFO:root:Train datasets shapes: X: (678751, 25), y: (678751,)\n",
      "INFO:root:Starting to encode variables\n",
      "INFO:root:Encoded dataset shape: X: (678751, 63)\n",
      "INFO:root:Finished to encode variables. Starting to fit the model\n",
      "INFO:root:Finished training the model\n"
     ]
    },
    {
     "data": {
      "text/plain": [
       "<estimator.LinearModel at 0x11db83f50>"
      ]
     },
     "execution_count": 76,
     "metadata": {},
     "output_type": "execute_result"
    }
   ],
   "source": [
    "model_linear_cyclical_difference = LinearModel(model_type='linear', encoding='cyclical+difference')\n",
    "model_linear_cyclical_difference.fit(X_train, y_train)"
   ]
  },
  {
   "cell_type": "code",
   "execution_count": 77,
   "id": "e50436c4",
   "metadata": {},
   "outputs": [
    {
     "name": "stdout",
     "output_type": "stream",
     "text": [
      "End time: 2025-04-16 18:46:20.874684\n",
      "Time elapsed: 0:00:07.607813\n"
     ]
    }
   ],
   "source": [
    "end = datetime.datetime.now()\n",
    "print(f\"End time: {end}\")\n",
    "model_linear_cyclical_difference_time = end - start\n",
    "print(f\"Time elapsed: {model_linear_cyclical_difference_time}\")"
   ]
  },
  {
   "cell_type": "code",
   "execution_count": 79,
   "id": "c20fb2ad",
   "metadata": {},
   "outputs": [
    {
     "data": {
      "text/plain": [
       "(np.float64(448.9656771115914), np.float64(282207.14166018413))"
      ]
     },
     "execution_count": 79,
     "metadata": {},
     "output_type": "execute_result"
    }
   ],
   "source": [
    "model_linear_cyclical_difference_eval = model_linear_cyclical_difference.evaluate(X_test, y_test)\n",
    "model_linear_cyclical_difference_eval"
   ]
  },
  {
   "cell_type": "markdown",
   "id": "6e4c36a63345826c",
   "metadata": {
    "collapsed": false
   },
   "source": [
    "### LinearModel\n",
    "\n",
    "Compare performance of the model with and without standardization"
   ]
  },
  {
   "cell_type": "raw",
   "id": "61d8880b07f55872",
   "metadata": {
    "collapsed": false,
    "is_executing": true,
    "vscode": {
     "languageId": "raw"
    }
   },
   "source": [
    "model_linear = LinearModel(standardize=True)\n",
    "model_linear.fit(X_train, y_train)"
   ]
  },
  {
   "cell_type": "markdown",
   "id": "4ed4ef07",
   "metadata": {},
   "source": [
    "## Models comparison"
   ]
  },
  {
   "cell_type": "code",
   "execution_count": 80,
   "id": "e5d73cdf",
   "metadata": {},
   "outputs": [
    {
     "name": "stdout",
     "output_type": "stream",
     "text": [
      "Time to fit model_bl_sum: 0:00:00.360436\n",
      "Evaluation of model_bl_sum: (np.float64(145.6280391037287), np.float64(52902.38788391615))\n",
      "Time to fit model_bl_mean: 0:00:00.297521\n",
      "Evaluation of model_bl_mean: (np.float64(161.23709324791398), np.float64(64837.86641313063))\n",
      "Time to fit model_linear_3d: 0:00:00.517655\n",
      "Evaluation of model_linear_3d: (np.float64(3635090825535.1387), np.float64(1.3307022853175335e+25))\n",
      "Time to fit model_linear_7d: 0:00:01.052582\n",
      "Evaluation of model_linear_7d: (np.float64(410102272288.90826), np.float64(2.101754208190989e+23))\n",
      "Time to fit model_linear: 0:00:02.419716\n",
      "Evaluation of model_linear: (np.float64(448.9651072961018), np.float64(282205.9319198323))\n",
      "Time to fit model_linear_difference: 0:00:02.670601\n",
      "Evaluation of model_linear_difference: (np.float64(448.96458796861975), np.float64(282206.65591367864))\n",
      "Time to fit model_linear_SGD_3d: 0:00:02.583882\n",
      "Evaluation of model_linear_SGD_3d: (np.float64(3397718904354.339), np.float64(1.1631829390496383e+25))\n",
      "Time to fit model_linear_SGD_7d: 0:00:06.534219\n",
      "Evaluation of model_linear_SGD_7d: (np.float64(147974625486.1344), np.float64(4.577837556596903e+22))\n",
      "Time to fit model_linear_SGD: 0:00:04.647191\n",
      "Evaluation of model_linear_SGD: (np.float64(2781503689.460166), np.float64(8.538907542794446e+18))\n",
      "Time to fit model_linear_cyclical: 0:00:08.029519\n",
      "Evaluation of model_linear_cyclical: (np.float64(448.9647149693681), np.float64(282202.8674738092))\n",
      "Time to fit model_linear_cyclical_difference: 0:00:07.607813\n",
      "Evaluation of model_linear_cyclical_difference: (np.float64(448.9656771115914), np.float64(282207.14166018413))\n"
     ]
    },
    {
     "data": {
      "text/html": [
       "<div>\n",
       "<style scoped>\n",
       "    .dataframe tbody tr th:only-of-type {\n",
       "        vertical-align: middle;\n",
       "    }\n",
       "\n",
       "    .dataframe tbody tr th {\n",
       "        vertical-align: top;\n",
       "    }\n",
       "\n",
       "    .dataframe thead th {\n",
       "        text-align: right;\n",
       "    }\n",
       "</style>\n",
       "<table border=\"1\" class=\"dataframe\">\n",
       "  <thead>\n",
       "    <tr style=\"text-align: right;\">\n",
       "      <th></th>\n",
       "      <th>Model</th>\n",
       "      <th>Training time [ms]</th>\n",
       "      <th>MAE</th>\n",
       "      <th>MSE</th>\n",
       "    </tr>\n",
       "  </thead>\n",
       "  <tbody>\n",
       "    <tr>\n",
       "      <th>0</th>\n",
       "      <td>model_bl_sum</td>\n",
       "      <td>360.44</td>\n",
       "      <td>145.63</td>\n",
       "      <td>52902.39</td>\n",
       "    </tr>\n",
       "    <tr>\n",
       "      <th>1</th>\n",
       "      <td>model_bl_mean</td>\n",
       "      <td>297.52</td>\n",
       "      <td>161.24</td>\n",
       "      <td>64837.87</td>\n",
       "    </tr>\n",
       "    <tr>\n",
       "      <th>2</th>\n",
       "      <td>model_linear_3d</td>\n",
       "      <td>517.65</td>\n",
       "      <td>3635090825535.14</td>\n",
       "      <td>13307022853175335280705536.00</td>\n",
       "    </tr>\n",
       "    <tr>\n",
       "      <th>3</th>\n",
       "      <td>model_linear_7d</td>\n",
       "      <td>1052.58</td>\n",
       "      <td>410102272288.91</td>\n",
       "      <td>210175420819098912686080.00</td>\n",
       "    </tr>\n",
       "    <tr>\n",
       "      <th>4</th>\n",
       "      <td>model_linear</td>\n",
       "      <td>2419.72</td>\n",
       "      <td>448.97</td>\n",
       "      <td>282205.93</td>\n",
       "    </tr>\n",
       "    <tr>\n",
       "      <th>5</th>\n",
       "      <td>model_linear_difference</td>\n",
       "      <td>2670.60</td>\n",
       "      <td>448.96</td>\n",
       "      <td>282206.66</td>\n",
       "    </tr>\n",
       "    <tr>\n",
       "      <th>6</th>\n",
       "      <td>model_linear_SGD_3d</td>\n",
       "      <td>2583.88</td>\n",
       "      <td>3397718904354.34</td>\n",
       "      <td>11631829390496383385993216.00</td>\n",
       "    </tr>\n",
       "    <tr>\n",
       "      <th>7</th>\n",
       "      <td>model_linear_SGD_7d</td>\n",
       "      <td>6534.22</td>\n",
       "      <td>147974625486.13</td>\n",
       "      <td>45778375565969033527296.00</td>\n",
       "    </tr>\n",
       "    <tr>\n",
       "      <th>8</th>\n",
       "      <td>model_linear_SGD</td>\n",
       "      <td>4647.19</td>\n",
       "      <td>2781503689.46</td>\n",
       "      <td>8538907542794445824.00</td>\n",
       "    </tr>\n",
       "    <tr>\n",
       "      <th>9</th>\n",
       "      <td>model_linear_cyclical</td>\n",
       "      <td>8029.52</td>\n",
       "      <td>448.96</td>\n",
       "      <td>282202.87</td>\n",
       "    </tr>\n",
       "    <tr>\n",
       "      <th>10</th>\n",
       "      <td>model_linear_cyclical_difference</td>\n",
       "      <td>7607.81</td>\n",
       "      <td>448.97</td>\n",
       "      <td>282207.14</td>\n",
       "    </tr>\n",
       "  </tbody>\n",
       "</table>\n",
       "</div>"
      ],
      "text/plain": [
       "                               Model  Training time [ms]              MAE  \\\n",
       "0                       model_bl_sum              360.44           145.63   \n",
       "1                      model_bl_mean              297.52           161.24   \n",
       "2                    model_linear_3d              517.65 3635090825535.14   \n",
       "3                    model_linear_7d             1052.58  410102272288.91   \n",
       "4                       model_linear             2419.72           448.97   \n",
       "5            model_linear_difference             2670.60           448.96   \n",
       "6                model_linear_SGD_3d             2583.88 3397718904354.34   \n",
       "7                model_linear_SGD_7d             6534.22  147974625486.13   \n",
       "8                   model_linear_SGD             4647.19    2781503689.46   \n",
       "9              model_linear_cyclical             8029.52           448.96   \n",
       "10  model_linear_cyclical_difference             7607.81           448.97   \n",
       "\n",
       "                             MSE  \n",
       "0                       52902.39  \n",
       "1                       64837.87  \n",
       "2  13307022853175335280705536.00  \n",
       "3    210175420819098912686080.00  \n",
       "4                      282205.93  \n",
       "5                      282206.66  \n",
       "6  11631829390496383385993216.00  \n",
       "7     45778375565969033527296.00  \n",
       "8         8538907542794445824.00  \n",
       "9                      282202.87  \n",
       "10                     282207.14  "
      ]
     },
     "execution_count": 80,
     "metadata": {},
     "output_type": "execute_result"
    }
   ],
   "source": [
    "models = ['model_bl_sum' , 'model_bl_mean', 'model_linear_3d', 'model_linear_7d', 'model_linear', 'model_linear_difference', 'model_linear_SGD_3d', 'model_linear_SGD_7d', 'model_linear_SGD', 'model_linear_cyclical', 'model_linear_cyclical_difference']\n",
    "\n",
    "data = []\n",
    "for model in models:\n",
    "    time_value = eval(model + '_time')\n",
    "    print(f\"Time to fit {model}: {time_value}\")\n",
    "    eval_value = eval(model + '_eval')\n",
    "    print(f\"Evaluation of {model}: {eval_value}\")\n",
    "    data.append([model, time_value / datetime.timedelta(milliseconds=1), eval_value[0], eval_value[1]])\n",
    "\n",
    "models_eval = pd.DataFrame(data, columns=['Model', 'Training time [ms]', 'MAE', 'MSE'])\n",
    "models_eval"
   ]
  }
 ],
 "metadata": {
  "kernelspec": {
   "display_name": "venv",
   "language": "python",
   "name": "python3"
  },
  "language_info": {
   "codemirror_mode": {
    "name": "ipython",
    "version": 3
   },
   "file_extension": ".py",
   "mimetype": "text/x-python",
   "name": "python",
   "nbconvert_exporter": "python",
   "pygments_lexer": "ipython3",
   "version": "3.12.0"
  }
 },
 "nbformat": 4,
 "nbformat_minor": 5
}
