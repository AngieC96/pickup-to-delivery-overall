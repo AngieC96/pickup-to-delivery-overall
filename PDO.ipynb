{
 "cells": [
  {
   "cell_type": "markdown",
   "id": "24ad314bf282ec83",
   "metadata": {
    "collapsed": false
   },
   "source": [
    "# Pickup to Delivery Overall"
   ]
  },
  {
   "cell_type": "code",
   "execution_count": 1,
   "id": "cb71195be0f3a22f",
   "metadata": {
    "collapsed": false,
    "ExecuteTime": {
     "end_time": "2024-11-28T11:12:28.753774Z",
     "start_time": "2024-11-28T11:12:26.077637Z"
    }
   },
   "outputs": [],
   "source": [
    "import os\n",
    "import sys\n",
    "import shutil\n",
    "import pandas as pd\n",
    "import numpy as np\n",
    "import pickle\n",
    "import matplotlib.pyplot as plt\n",
    "from haversine import haversine, Unit\n",
    "from sklearn.metrics.pairwise import haversine_distances, manhattan_distances\n",
    "from sklearn.model_selection import train_test_split, cross_val_score\n",
    "\n",
    "sys.path.insert(0, os.path.expanduser('./'))\n",
    "import query_runner as qr\n",
    "import utils\n",
    "from estimator import BaselineModel_sum, BaselineModel_mean, LinearModel"
   ]
  },
  {
   "cell_type": "code",
   "execution_count": 2,
   "id": "52eb5fbdb862edbe",
   "metadata": {
    "collapsed": false,
    "ExecuteTime": {
     "end_time": "2024-11-28T11:12:33.590601Z",
     "start_time": "2024-11-28T11:12:33.555312Z"
    }
   },
   "outputs": [],
   "source": [
    "base_query_path = './queries/'\n",
    "dwh_config, livedb_config, parameters_config = utils.load_config(config_file='./config.ini')\n",
    "datalake_connection = qr.create_connection(db='datalake')\n",
    "#monolith_connection = qr.create_connection(user=livedb_config['monolith_username'], password=livedb_config['monolith_password'], db='livedb')\n",
    "#dispatching_db_connection = qr.create_connection(user=livedb_config['dispatching_db_username'], password=livedb_config['dispatching_db_password'], db='dispatchingdb')"
   ]
  },
  {
   "cell_type": "code",
   "execution_count": 3,
   "id": "f26eb0ba80de7f8e",
   "metadata": {
    "collapsed": false,
    "ExecuteTime": {
     "end_time": "2024-11-28T11:12:34.141036Z",
     "start_time": "2024-11-28T11:12:34.103672Z"
    }
   },
   "outputs": [
    {
     "name": "stdout",
     "output_type": "stream",
     "text": [
      "Start date: 2024-09-30 | End date: 2024-10-20 | Countries: ES | Cities: 'MAD', 'BCN', 'SEV', 'ALC'\n"
     ]
    }
   ],
   "source": [
    "start_date = parameters_config['start_date']\n",
    "end_date = parameters_config['end_date']\n",
    "country_code = parameters_config['country_code']\n",
    "cities = parameters_config['cities']\n",
    "\n",
    "print(f'Start date: {start_date} | End date: {end_date} | Countries: {country_code} | Cities: {cities}')"
   ]
  },
  {
   "cell_type": "code",
   "execution_count": 4,
   "id": "e3c251ccf4f2beb1",
   "metadata": {
    "collapsed": false,
    "ExecuteTime": {
     "end_time": "2024-11-28T11:12:34.523934Z",
     "start_time": "2024-11-28T11:12:34.482329Z"
    }
   },
   "outputs": [],
   "source": [
    "parameters = {\n",
    "    'start_date': start_date,\n",
    "    'end_date': end_date,\n",
    "    'country_code': country_code,\n",
    "    'cities': cities\n",
    "}"
   ]
  },
  {
   "cell_type": "markdown",
   "id": "3c0d6dbf6375ce8",
   "metadata": {
    "collapsed": false
   },
   "source": [
    "## Load the data"
   ]
  },
  {
   "cell_type": "code",
   "execution_count": 5,
   "id": "1de21fec65a3d1b1",
   "metadata": {
    "ExecuteTime": {
     "end_time": "2024-11-20T09:38:27.883090Z",
     "start_time": "2024-11-20T09:34:01.465584Z"
    },
    "collapsed": false
   },
   "outputs": [
    {
     "name": "stdout",
     "output_type": "stream",
     "text": [
      "Open the following URL in browser for the external authentication:\n",
      "https://starburst.g8s-data-platform-prod.glovoint.com/oauth2/token/initiate/865ba916c7ef29553ae09178dc26fd811ce022072286dd70c767c5b3dab7d59a\n"
     ]
    },
    {
     "data": {
      "text/html": [
       "<div>\n",
       "<style scoped>\n",
       "    .dataframe tbody tr th:only-of-type {\n",
       "        vertical-align: middle;\n",
       "    }\n",
       "\n",
       "    .dataframe tbody tr th {\n",
       "        vertical-align: top;\n",
       "    }\n",
       "\n",
       "    .dataframe thead th {\n",
       "        text-align: right;\n",
       "    }\n",
       "</style>\n",
       "<table border=\"1\" class=\"dataframe\">\n",
       "  <thead>\n",
       "    <tr style=\"text-align: right;\">\n",
       "      <th></th>\n",
       "      <th>country_code</th>\n",
       "      <th>city_code</th>\n",
       "      <th>order_id</th>\n",
       "      <th>courier_id</th>\n",
       "      <th>creation_timestamp</th>\n",
       "      <th>activation_timestamp</th>\n",
       "      <th>transport</th>\n",
       "      <th>pickup_timestamp</th>\n",
       "      <th>delivery_entering_timestamp</th>\n",
       "      <th>delivery_timestamp</th>\n",
       "      <th>pickup_latitude</th>\n",
       "      <th>pickup_longitude</th>\n",
       "      <th>delivery_latitude</th>\n",
       "      <th>delivery_longitude</th>\n",
       "      <th>time_zone</th>\n",
       "      <th>p_creation_date</th>\n",
       "    </tr>\n",
       "  </thead>\n",
       "  <tbody>\n",
       "    <tr>\n",
       "      <th>0</th>\n",
       "      <td>ES</td>\n",
       "      <td>BCN</td>\n",
       "      <td>100907487116</td>\n",
       "      <td>8590944</td>\n",
       "      <td>2024-10-03 20:55:02+00:00</td>\n",
       "      <td>2024-10-03 20:55:04+00:00</td>\n",
       "      <td>BICYCLE</td>\n",
       "      <td>2024-10-03 21:21:44.215000+00:00</td>\n",
       "      <td>2024-10-03 21:29:37+00:00</td>\n",
       "      <td>2024-10-03 21:32:33+00:00</td>\n",
       "      <td>41.370594</td>\n",
       "      <td>2.113433</td>\n",
       "      <td>41.375412</td>\n",
       "      <td>2.104837</td>\n",
       "      <td>Europe/Madrid</td>\n",
       "      <td>2024-10-03</td>\n",
       "    </tr>\n",
       "    <tr>\n",
       "      <th>1</th>\n",
       "      <td>ES</td>\n",
       "      <td>MAD</td>\n",
       "      <td>100907489425</td>\n",
       "      <td>162535288</td>\n",
       "      <td>2024-10-03 20:55:43+00:00</td>\n",
       "      <td>2024-10-03 20:55:44+00:00</td>\n",
       "      <td>BICYCLE</td>\n",
       "      <td>2024-10-03 21:07:40.941000+00:00</td>\n",
       "      <td>2024-10-03 21:16:09+00:00</td>\n",
       "      <td>2024-10-03 21:19:10+00:00</td>\n",
       "      <td>40.382927</td>\n",
       "      <td>-3.626392</td>\n",
       "      <td>40.383490</td>\n",
       "      <td>-3.640969</td>\n",
       "      <td>Europe/Madrid</td>\n",
       "      <td>2024-10-03</td>\n",
       "    </tr>\n",
       "    <tr>\n",
       "      <th>2</th>\n",
       "      <td>ES</td>\n",
       "      <td>BCN</td>\n",
       "      <td>100907493124</td>\n",
       "      <td>146788593</td>\n",
       "      <td>2024-10-03 20:56:48+00:00</td>\n",
       "      <td>2024-10-03 20:56:49+00:00</td>\n",
       "      <td>BICYCLE</td>\n",
       "      <td>2024-10-03 21:07:40.560000+00:00</td>\n",
       "      <td>2024-10-03 21:12:00+00:00</td>\n",
       "      <td>2024-10-03 21:14:30+00:00</td>\n",
       "      <td>41.389874</td>\n",
       "      <td>2.159761</td>\n",
       "      <td>41.390520</td>\n",
       "      <td>2.148718</td>\n",
       "      <td>Europe/Madrid</td>\n",
       "      <td>2024-10-03</td>\n",
       "    </tr>\n",
       "    <tr>\n",
       "      <th>3</th>\n",
       "      <td>ES</td>\n",
       "      <td>MAD</td>\n",
       "      <td>100907498582</td>\n",
       "      <td>45695767</td>\n",
       "      <td>2024-10-03 20:58:25+00:00</td>\n",
       "      <td>2024-10-03 20:58:26+00:00</td>\n",
       "      <td>MOTORBIKE</td>\n",
       "      <td>2024-10-03 21:08:59.224000+00:00</td>\n",
       "      <td>2024-10-03 21:11:21+00:00</td>\n",
       "      <td>2024-10-03 21:14:21+00:00</td>\n",
       "      <td>40.409720</td>\n",
       "      <td>-3.670494</td>\n",
       "      <td>40.412880</td>\n",
       "      <td>-3.671840</td>\n",
       "      <td>Europe/Madrid</td>\n",
       "      <td>2024-10-03</td>\n",
       "    </tr>\n",
       "    <tr>\n",
       "      <th>4</th>\n",
       "      <td>ES</td>\n",
       "      <td>MAD</td>\n",
       "      <td>100907503468</td>\n",
       "      <td>166385377</td>\n",
       "      <td>2024-10-03 20:59:51+00:00</td>\n",
       "      <td>2024-10-03 20:59:53+00:00</td>\n",
       "      <td>MOTORBIKE</td>\n",
       "      <td>2024-10-03 21:09:49.060000+00:00</td>\n",
       "      <td>2024-10-03 21:16:45+00:00</td>\n",
       "      <td>2024-10-03 21:20:30+00:00</td>\n",
       "      <td>40.433780</td>\n",
       "      <td>-3.683620</td>\n",
       "      <td>40.430176</td>\n",
       "      <td>-3.673502</td>\n",
       "      <td>Europe/Madrid</td>\n",
       "      <td>2024-10-03</td>\n",
       "    </tr>\n",
       "  </tbody>\n",
       "</table>\n",
       "</div>"
      ],
      "text/plain": [
       "  country_code city_code      order_id  courier_id        creation_timestamp  \\\n",
       "0           ES       BCN  100907487116     8590944 2024-10-03 20:55:02+00:00   \n",
       "1           ES       MAD  100907489425   162535288 2024-10-03 20:55:43+00:00   \n",
       "2           ES       BCN  100907493124   146788593 2024-10-03 20:56:48+00:00   \n",
       "3           ES       MAD  100907498582    45695767 2024-10-03 20:58:25+00:00   \n",
       "4           ES       MAD  100907503468   166385377 2024-10-03 20:59:51+00:00   \n",
       "\n",
       "       activation_timestamp  transport                 pickup_timestamp  \\\n",
       "0 2024-10-03 20:55:04+00:00    BICYCLE 2024-10-03 21:21:44.215000+00:00   \n",
       "1 2024-10-03 20:55:44+00:00    BICYCLE 2024-10-03 21:07:40.941000+00:00   \n",
       "2 2024-10-03 20:56:49+00:00    BICYCLE 2024-10-03 21:07:40.560000+00:00   \n",
       "3 2024-10-03 20:58:26+00:00  MOTORBIKE 2024-10-03 21:08:59.224000+00:00   \n",
       "4 2024-10-03 20:59:53+00:00  MOTORBIKE 2024-10-03 21:09:49.060000+00:00   \n",
       "\n",
       "  delivery_entering_timestamp        delivery_timestamp  pickup_latitude  \\\n",
       "0   2024-10-03 21:29:37+00:00 2024-10-03 21:32:33+00:00        41.370594   \n",
       "1   2024-10-03 21:16:09+00:00 2024-10-03 21:19:10+00:00        40.382927   \n",
       "2   2024-10-03 21:12:00+00:00 2024-10-03 21:14:30+00:00        41.389874   \n",
       "3   2024-10-03 21:11:21+00:00 2024-10-03 21:14:21+00:00        40.409720   \n",
       "4   2024-10-03 21:16:45+00:00 2024-10-03 21:20:30+00:00        40.433780   \n",
       "\n",
       "   pickup_longitude  delivery_latitude  delivery_longitude      time_zone  \\\n",
       "0          2.113433          41.375412            2.104837  Europe/Madrid   \n",
       "1         -3.626392          40.383490           -3.640969  Europe/Madrid   \n",
       "2          2.159761          41.390520            2.148718  Europe/Madrid   \n",
       "3         -3.670494          40.412880           -3.671840  Europe/Madrid   \n",
       "4         -3.683620          40.430176           -3.673502  Europe/Madrid   \n",
       "\n",
       "  p_creation_date  \n",
       "0      2024-10-03  \n",
       "1      2024-10-03  \n",
       "2      2024-10-03  \n",
       "3      2024-10-03  \n",
       "4      2024-10-03  "
      ]
     },
     "execution_count": 5,
     "metadata": {},
     "output_type": "execute_result"
    }
   ],
   "source": [
    "query_name = '''\n",
    "SELECT\n",
    "    olf.country_code                                 AS country_code,\n",
    "    olf.city_code                                    AS city_code,\n",
    "    olf.order_id                                     AS order_id,\n",
    "    olf.courier_id                                   AS courier_id,\n",
    "    olf.order_created_local_datetime                 AS creation_timestamp,\n",
    "    olf.order_activated_local_datetime               AS activation_timestamp,\n",
    "    olf.courier_transport                            AS transport,\n",
    "    olf.order_picked_up_local_datetime               AS pickup_timestamp,\n",
    "    olf.order_arrival_to_delivery_local_datetime     AS delivery_entering_timestamp,\n",
    "    olf.order_delivered_local_datetime               AS delivery_timestamp,\n",
    "    olf.order_pickup_latitude                        AS pickup_latitude,\n",
    "    olf.order_pickup_longitude                       AS pickup_longitude,\n",
    "    olf.order_delivery_latitude                      AS delivery_latitude,\n",
    "    olf.order_delivery_longitude                     AS delivery_longitude,\n",
    "    olf.order_time_zone                              AS time_zone,\n",
    "    olf.p_creation_date\n",
    "FROM delta.courier_routing_courier_ml_features_odp.order_level_features AS olf\n",
    "WHERE order_final_status = 'DeliveredStatus'\n",
    "    AND order_number_of_assignments = 1\n",
    "    AND order_bundle_index IS NULL\n",
    "    AND p_creation_date >= DATE '[start_date]' AND p_creation_date < DATE '[end_date]'\n",
    "    AND country_code IN ('[country_code]')\n",
    "    AND city_code IN ([cities])\n",
    "'''\n",
    "\n",
    "query = qr.Query(base_query_path, query_name, datalake_connection, parameters_dict=parameters, query_from_file = False)\n",
    "\n",
    "df = query.run()\n",
    "df = df.fillna(value=np.nan)\n",
    "\n",
    "data = df.copy()\n",
    "data.head()"
   ]
  },
  {
   "cell_type": "markdown",
   "id": "cb60e56ce9b31a2",
   "metadata": {
    "collapsed": false
   },
   "source": [
    "## Clean the dataset"
   ]
  },
  {
   "cell_type": "code",
   "execution_count": 6,
   "id": "3269019e5c025a9d",
   "metadata": {
    "ExecuteTime": {
     "end_time": "2024-11-20T09:38:28.164225Z",
     "start_time": "2024-11-20T09:38:27.881372Z"
    },
    "collapsed": false
   },
   "outputs": [
    {
     "name": "stdout",
     "output_type": "stream",
     "text": [
      "<class 'pandas.core.frame.DataFrame'>\n",
      "Index: 987012 entries, 0 to 87011\n",
      "Data columns (total 16 columns):\n",
      " #   Column                       Non-Null Count   Dtype              \n",
      "---  ------                       --------------   -----              \n",
      " 0   country_code                 987012 non-null  object             \n",
      " 1   city_code                    987012 non-null  object             \n",
      " 2   order_id                     987012 non-null  int64              \n",
      " 3   courier_id                   987012 non-null  int64              \n",
      " 4   creation_timestamp           987012 non-null  datetime64[ns, UTC]\n",
      " 5   activation_timestamp         987012 non-null  datetime64[ns, UTC]\n",
      " 6   transport                    987012 non-null  object             \n",
      " 7   pickup_timestamp             986757 non-null  datetime64[ns, UTC]\n",
      " 8   delivery_entering_timestamp  972471 non-null  datetime64[ns, UTC]\n",
      " 9   delivery_timestamp           987012 non-null  datetime64[ns, UTC]\n",
      " 10  pickup_latitude              987012 non-null  float64            \n",
      " 11  pickup_longitude             987012 non-null  float64            \n",
      " 12  delivery_latitude            987012 non-null  float64            \n",
      " 13  delivery_longitude           987012 non-null  float64            \n",
      " 14  time_zone                    987012 non-null  object             \n",
      " 15  p_creation_date              987012 non-null  object             \n",
      "dtypes: datetime64[ns, UTC](5), float64(4), int64(2), object(5)\n",
      "memory usage: 128.0+ MB\n"
     ]
    }
   ],
   "source": [
    "data.info()"
   ]
  },
  {
   "cell_type": "code",
   "execution_count": 7,
   "id": "4ad7421cf883f255",
   "metadata": {
    "ExecuteTime": {
     "end_time": "2024-11-20T09:38:28.378548Z",
     "start_time": "2024-11-20T09:38:28.163473Z"
    },
    "collapsed": false
   },
   "outputs": [
    {
     "data": {
      "text/html": [
       "<div>\n",
       "<style scoped>\n",
       "    .dataframe tbody tr th:only-of-type {\n",
       "        vertical-align: middle;\n",
       "    }\n",
       "\n",
       "    .dataframe tbody tr th {\n",
       "        vertical-align: top;\n",
       "    }\n",
       "\n",
       "    .dataframe thead th {\n",
       "        text-align: right;\n",
       "    }\n",
       "</style>\n",
       "<table border=\"1\" class=\"dataframe\">\n",
       "  <thead>\n",
       "    <tr style=\"text-align: right;\">\n",
       "      <th></th>\n",
       "      <th>order_id</th>\n",
       "      <th>courier_id</th>\n",
       "      <th>pickup_latitude</th>\n",
       "      <th>pickup_longitude</th>\n",
       "      <th>delivery_latitude</th>\n",
       "      <th>delivery_longitude</th>\n",
       "    </tr>\n",
       "  </thead>\n",
       "  <tbody>\n",
       "    <tr>\n",
       "      <th>count</th>\n",
       "      <td>9.870120e+05</td>\n",
       "      <td>9.870120e+05</td>\n",
       "      <td>987012.000000</td>\n",
       "      <td>987012.000000</td>\n",
       "      <td>987012.000000</td>\n",
       "      <td>987012.000000</td>\n",
       "    </tr>\n",
       "    <tr>\n",
       "      <th>mean</th>\n",
       "      <td>1.009222e+11</td>\n",
       "      <td>1.218706e+08</td>\n",
       "      <td>40.673782</td>\n",
       "      <td>-0.851254</td>\n",
       "      <td>40.674140</td>\n",
       "      <td>-0.851210</td>\n",
       "    </tr>\n",
       "    <tr>\n",
       "      <th>std</th>\n",
       "      <td>1.301628e+07</td>\n",
       "      <td>5.590163e+07</td>\n",
       "      <td>0.993792</td>\n",
       "      <td>3.003208</td>\n",
       "      <td>0.993963</td>\n",
       "      <td>3.002620</td>\n",
       "    </tr>\n",
       "    <tr>\n",
       "      <th>min</th>\n",
       "      <td>1.008998e+11</td>\n",
       "      <td>1.127770e+05</td>\n",
       "      <td>37.282646</td>\n",
       "      <td>-6.085188</td>\n",
       "      <td>37.260975</td>\n",
       "      <td>-6.100339</td>\n",
       "    </tr>\n",
       "    <tr>\n",
       "      <th>25%</th>\n",
       "      <td>1.009108e+11</td>\n",
       "      <td>7.241826e+07</td>\n",
       "      <td>40.426132</td>\n",
       "      <td>-3.690008</td>\n",
       "      <td>40.426205</td>\n",
       "      <td>-3.689353</td>\n",
       "    </tr>\n",
       "    <tr>\n",
       "      <th>50%</th>\n",
       "      <td>1.009222e+11</td>\n",
       "      <td>1.482987e+08</td>\n",
       "      <td>40.530730</td>\n",
       "      <td>-0.483401</td>\n",
       "      <td>40.528835</td>\n",
       "      <td>-0.483956</td>\n",
       "    </tr>\n",
       "    <tr>\n",
       "      <th>75%</th>\n",
       "      <td>1.009337e+11</td>\n",
       "      <td>1.670841e+08</td>\n",
       "      <td>41.393280</td>\n",
       "      <td>2.159965</td>\n",
       "      <td>41.394840</td>\n",
       "      <td>2.159824</td>\n",
       "    </tr>\n",
       "    <tr>\n",
       "      <th>max</th>\n",
       "      <td>1.009444e+11</td>\n",
       "      <td>1.796540e+08</td>\n",
       "      <td>41.483086</td>\n",
       "      <td>2.268973</td>\n",
       "      <td>41.562153</td>\n",
       "      <td>2.277824</td>\n",
       "    </tr>\n",
       "  </tbody>\n",
       "</table>\n",
       "</div>"
      ],
      "text/plain": [
       "           order_id    courier_id  pickup_latitude  pickup_longitude  \\\n",
       "count  9.870120e+05  9.870120e+05    987012.000000     987012.000000   \n",
       "mean   1.009222e+11  1.218706e+08        40.673782         -0.851254   \n",
       "std    1.301628e+07  5.590163e+07         0.993792          3.003208   \n",
       "min    1.008998e+11  1.127770e+05        37.282646         -6.085188   \n",
       "25%    1.009108e+11  7.241826e+07        40.426132         -3.690008   \n",
       "50%    1.009222e+11  1.482987e+08        40.530730         -0.483401   \n",
       "75%    1.009337e+11  1.670841e+08        41.393280          2.159965   \n",
       "max    1.009444e+11  1.796540e+08        41.483086          2.268973   \n",
       "\n",
       "       delivery_latitude  delivery_longitude  \n",
       "count      987012.000000       987012.000000  \n",
       "mean           40.674140           -0.851210  \n",
       "std             0.993963            3.002620  \n",
       "min            37.260975           -6.100339  \n",
       "25%            40.426205           -3.689353  \n",
       "50%            40.528835           -0.483956  \n",
       "75%            41.394840            2.159824  \n",
       "max            41.562153            2.277824  "
      ]
     },
     "execution_count": 7,
     "metadata": {},
     "output_type": "execute_result"
    }
   ],
   "source": [
    "data.describe()"
   ]
  },
  {
   "cell_type": "code",
   "execution_count": 8,
   "id": "1df8f7cd6a104940",
   "metadata": {
    "ExecuteTime": {
     "end_time": "2024-11-20T09:38:28.664508Z",
     "start_time": "2024-11-20T09:38:28.377464Z"
    },
    "collapsed": false
   },
   "outputs": [
    {
     "data": {
      "text/plain": [
       "country_code                       0\n",
       "city_code                          0\n",
       "order_id                           0\n",
       "courier_id                         0\n",
       "creation_timestamp                 0\n",
       "activation_timestamp               0\n",
       "transport                          0\n",
       "pickup_timestamp                 255\n",
       "delivery_entering_timestamp    14541\n",
       "delivery_timestamp                 0\n",
       "pickup_latitude                    0\n",
       "pickup_longitude                   0\n",
       "delivery_latitude                  0\n",
       "delivery_longitude                 0\n",
       "time_zone                          0\n",
       "p_creation_date                    0\n",
       "dtype: int64"
      ]
     },
     "execution_count": 8,
     "metadata": {},
     "output_type": "execute_result"
    }
   ],
   "source": [
    "# Check for missing values\n",
    "data.isnull().sum()"
   ]
  },
  {
   "cell_type": "code",
   "execution_count": 9,
   "id": "4fc64e33e9ec8a4a",
   "metadata": {
    "ExecuteTime": {
     "end_time": "2024-11-20T09:38:28.936534Z",
     "start_time": "2024-11-20T09:38:28.663711Z"
    },
    "collapsed": false
   },
   "outputs": [
    {
     "data": {
      "text/plain": [
       "np.int64(14796)"
      ]
     },
     "execution_count": 9,
     "metadata": {},
     "output_type": "execute_result"
    }
   ],
   "source": [
    "# print the number of null rows\n",
    "data.isnull().sum().sum()"
   ]
  },
  {
   "cell_type": "code",
   "execution_count": 10,
   "id": "21a2d084be3ddfe8",
   "metadata": {
    "ExecuteTime": {
     "end_time": "2024-11-20T09:38:29.321759Z",
     "start_time": "2024-11-20T09:38:28.938822Z"
    },
    "collapsed": false
   },
   "outputs": [],
   "source": [
    "# Remove rows with null values: we have many rows, so we can afford to remove them\n",
    "data.dropna(inplace=True)"
   ]
  },
  {
   "cell_type": "code",
   "execution_count": 11,
   "id": "fea941235b67758e",
   "metadata": {
    "ExecuteTime": {
     "end_time": "2024-11-20T09:38:29.584339Z",
     "start_time": "2024-11-20T09:38:29.322316Z"
    },
    "collapsed": false
   },
   "outputs": [
    {
     "data": {
      "text/plain": [
       "country_code                   0\n",
       "city_code                      0\n",
       "order_id                       0\n",
       "courier_id                     0\n",
       "creation_timestamp             0\n",
       "activation_timestamp           0\n",
       "transport                      0\n",
       "pickup_timestamp               0\n",
       "delivery_entering_timestamp    0\n",
       "delivery_timestamp             0\n",
       "pickup_latitude                0\n",
       "pickup_longitude               0\n",
       "delivery_latitude              0\n",
       "delivery_longitude             0\n",
       "time_zone                      0\n",
       "p_creation_date                0\n",
       "dtype: int64"
      ]
     },
     "execution_count": 11,
     "metadata": {},
     "output_type": "execute_result"
    }
   ],
   "source": [
    "# Check for missing values\n",
    "data.isnull().sum()"
   ]
  },
  {
   "cell_type": "code",
   "execution_count": 12,
   "id": "83402ad003b2989e",
   "metadata": {
    "ExecuteTime": {
     "end_time": "2024-11-20T09:38:30.677001Z",
     "start_time": "2024-11-20T09:38:29.583330Z"
    },
    "collapsed": false
   },
   "outputs": [
    {
     "data": {
      "text/plain": [
       "np.int64(0)"
      ]
     },
     "execution_count": 12,
     "metadata": {},
     "output_type": "execute_result"
    }
   ],
   "source": [
    "# Check for duplicates\n",
    "data.duplicated().sum()"
   ]
  },
  {
   "cell_type": "markdown",
   "id": "9be4b81e03b7586",
   "metadata": {
    "collapsed": false
   },
   "source": [
    "## Compute new features"
   ]
  },
  {
   "cell_type": "code",
   "execution_count": 13,
   "id": "80163d0a54873861",
   "metadata": {
    "ExecuteTime": {
     "end_time": "2024-11-20T09:38:31.235833Z",
     "start_time": "2024-11-20T09:38:30.675858Z"
    },
    "collapsed": false
   },
   "outputs": [],
   "source": [
    "# Convert the creation time to datetime\n",
    "data['creation_timestamp'] = pd.to_datetime(data['creation_timestamp'])\n",
    "data['activation_timestamp'] = pd.to_datetime(data['activation_timestamp'])\n",
    "data['pickup_timestamp'] = pd.to_datetime(data['pickup_timestamp'])\n",
    "data['delivery_timestamp'] = pd.to_datetime(data['delivery_timestamp'])\n",
    "data['delivery_entering_timestamp'] = pd.to_datetime(data['delivery_entering_timestamp'])\n",
    "\n",
    "# Compute the delivery date and the delivery time\n",
    "data['creation_date'] = data['creation_timestamp'].dt.date\n",
    "data['creation_time'] = data['creation_timestamp'].dt.time\n",
    "data['creation_hour'] = data['creation_timestamp'].dt.hour"
   ]
  },
  {
   "cell_type": "markdown",
   "id": "7b6ea1be09344c80",
   "metadata": {
    "collapsed": false
   },
   "source": [
    "To determine whether a coordinate is in degrees or radians, you can consider the typical ranges and values for latitude and longitude:\n",
    "1. **Degrees:**\n",
    "   - Latitude ranges from -90 to 90 degrees.\n",
    "   - Longitude ranges from -180 to 180 degrees.\n",
    "   - Values are typically whole numbers or decimals within these ranges.\n",
    "2. **Radians:**\n",
    "   - Latitude and longitude in radians will range from approximately -π/2 to π/2 for latitude and -π to π for longitude.\n",
    "   - Values are typically small decimals (e.g., 0.5, 1.0, etc.).\n",
    "\n",
    "Given our dataset, as the values in the columns `pickup_latitude`, `pickup_longitude`, `delivery_latitude`, `delivery_longitude` fall within the typical range for degrees, it is safe to assume that these coordinates are in degrees.\n",
    "\n",
    "There is a difference in how the `haversine` library, the `sklearn`'s `haversine_distances`, and the `sklearn`'s `manhattan_distances` function compute and return the distances. Let's break down the differences and how to resolve them:\n",
    "1. **Haversine Library:**\n",
    "   - The `haversine` library directly computes the distance between two points and returns a single scalar value.\n",
    "2. **Sklearn's `haversine_distances`:**\n",
    "   - The `haversine_distances` function from `sklearn` returns a distance matrix. When you input two points, it returns a 1x1 matrix (a nested list) containing the distance. This is why you would see the result in squared parentheses like `[[]]`. We extract the single value using `[0][0]`.\n",
    "   - To use these coordinates with sklearn's `haversine_distances` function, you need to convert them to radians using `np.radians`.\n",
    "   - Additionally, the `haversine_distances` function returns the distance in radians, not in meters. To convert this to meters, you need to multiply by the Earth's radius (approximately 6371000 meters).\n",
    "3. **Sklearn's `manhattan_distances`:**\n",
    "   - The `manhattan_distances` function computes the Manhattan distance between two points and returns a distance matrix. We extract the single value from the 1x1 matrix using `[0][0]`.\n",
    "   - Additionally, the `manhattan_distances` function from sklearn computes the distance based on the Cartesian coordinates provided. Since latitude and longitude are angular measurements, the result will not be in meters but in degrees. To convert the Manhattan distance from degrees to meters, you need to account for the Earth's curvature. \n",
    "      - The conversion factor for latitude is approximately 111,320 meters per degree.\n",
    "      - The conversion factor for longitude varies based on the latitude. At the equator, it's approximately 111,320 meters per degree, but it decreases as you move towards the poles.\n",
    "      - Convert the latitude and longitude differences to meters.\n",
    "      - Sum the absolute differences to get the Manhattan distance in meters."
   ]
  },
  {
   "cell_type": "code",
   "execution_count": 14,
   "id": "808ab1bc4476de8a",
   "metadata": {
    "ExecuteTime": {
     "end_time": "2024-11-20T09:38:31.255351Z",
     "start_time": "2024-11-20T09:38:31.233397Z"
    },
    "collapsed": false
   },
   "outputs": [],
   "source": [
    "# Convert degrees to radians\n",
    "data['pickup_latitude_rad'] = np.radians(data['pickup_latitude'])\n",
    "data['pickup_longitude_rad'] = np.radians(data['pickup_longitude'])\n",
    "data['delivery_latitude_rad'] = np.radians(data['delivery_latitude'])\n",
    "data['delivery_longitude_rad'] = np.radians(data['delivery_longitude'])\n",
    "\n",
    "# Earth's radius in meters\n",
    "earth_radius_m = 6371.0088 * 1000  # average earth radius - https://en.wikipedia.org/wiki/Earth_radius#Mean_radius\n",
    "\n",
    "# Conversion factors\n",
    "meters_per_degree_lat = 111320  # Approximate meters per degree of latitude\n",
    "\n",
    "def manhattan_distance_in_meters(row):\n",
    "    # Convert latitude and longitude differences to meters\n",
    "    lat_diff_m = abs(row['pickup_latitude'] - row['delivery_latitude']) * meters_per_degree_lat\n",
    "    # Convert longitude difference to meters, considering the latitude\n",
    "    lon_diff_m = abs(row['pickup_longitude'] - row['delivery_longitude']) * meters_per_degree_lat * np.cos(np.radians((row['pickup_latitude'] + row['delivery_latitude']) / 2))\n",
    "    # Sum the absolute differences to get the Manhattan distance in meters\n",
    "    return lat_diff_m + lon_diff_m"
   ]
  },
  {
   "cell_type": "code",
   "execution_count": 15,
   "id": "c93468fe8bc656f1",
   "metadata": {
    "ExecuteTime": {
     "end_time": "2024-11-20T09:42:19.423679Z",
     "start_time": "2024-11-20T09:38:31.339077Z"
    },
    "collapsed": false
   },
   "outputs": [
    {
     "data": {
      "text/html": [
       "<div>\n",
       "<style scoped>\n",
       "    .dataframe tbody tr th:only-of-type {\n",
       "        vertical-align: middle;\n",
       "    }\n",
       "\n",
       "    .dataframe tbody tr th {\n",
       "        vertical-align: top;\n",
       "    }\n",
       "\n",
       "    .dataframe thead th {\n",
       "        text-align: right;\n",
       "    }\n",
       "</style>\n",
       "<table border=\"1\" class=\"dataframe\">\n",
       "  <thead>\n",
       "    <tr style=\"text-align: right;\">\n",
       "      <th></th>\n",
       "      <th>country_code</th>\n",
       "      <th>city_code</th>\n",
       "      <th>order_id</th>\n",
       "      <th>courier_id</th>\n",
       "      <th>creation_timestamp</th>\n",
       "      <th>activation_timestamp</th>\n",
       "      <th>transport</th>\n",
       "      <th>pickup_timestamp</th>\n",
       "      <th>delivery_entering_timestamp</th>\n",
       "      <th>delivery_timestamp</th>\n",
       "      <th>...</th>\n",
       "      <th>creation_date</th>\n",
       "      <th>creation_time</th>\n",
       "      <th>creation_hour</th>\n",
       "      <th>pickup_latitude_rad</th>\n",
       "      <th>pickup_longitude_rad</th>\n",
       "      <th>delivery_latitude_rad</th>\n",
       "      <th>delivery_longitude_rad</th>\n",
       "      <th>pd_distance_haversine_m</th>\n",
       "      <th>pd_distance_haversine_m_sk</th>\n",
       "      <th>pd_distance_manhattan_m</th>\n",
       "    </tr>\n",
       "  </thead>\n",
       "  <tbody>\n",
       "    <tr>\n",
       "      <th>0</th>\n",
       "      <td>ES</td>\n",
       "      <td>BCN</td>\n",
       "      <td>100907487116</td>\n",
       "      <td>8590944</td>\n",
       "      <td>2024-10-03 20:55:02+00:00</td>\n",
       "      <td>2024-10-03 20:55:04+00:00</td>\n",
       "      <td>BICYCLE</td>\n",
       "      <td>2024-10-03 21:21:44.215000+00:00</td>\n",
       "      <td>2024-10-03 21:29:37+00:00</td>\n",
       "      <td>2024-10-03 21:32:33+00:00</td>\n",
       "      <td>...</td>\n",
       "      <td>2024-10-03</td>\n",
       "      <td>20:55:02</td>\n",
       "      <td>20</td>\n",
       "      <td>0.722053</td>\n",
       "      <td>0.036886</td>\n",
       "      <td>0.722137</td>\n",
       "      <td>0.036736</td>\n",
       "      <td>895.267385</td>\n",
       "      <td>895.267385</td>\n",
       "      <td>1254.424177</td>\n",
       "    </tr>\n",
       "    <tr>\n",
       "      <th>1</th>\n",
       "      <td>ES</td>\n",
       "      <td>MAD</td>\n",
       "      <td>100907489425</td>\n",
       "      <td>162535288</td>\n",
       "      <td>2024-10-03 20:55:43+00:00</td>\n",
       "      <td>2024-10-03 20:55:44+00:00</td>\n",
       "      <td>BICYCLE</td>\n",
       "      <td>2024-10-03 21:07:40.941000+00:00</td>\n",
       "      <td>2024-10-03 21:16:09+00:00</td>\n",
       "      <td>2024-10-03 21:19:10+00:00</td>\n",
       "      <td>...</td>\n",
       "      <td>2024-10-03</td>\n",
       "      <td>20:55:43</td>\n",
       "      <td>20</td>\n",
       "      <td>0.704815</td>\n",
       "      <td>-0.063292</td>\n",
       "      <td>0.704825</td>\n",
       "      <td>-0.063547</td>\n",
       "      <td>1236.264251</td>\n",
       "      <td>1236.264251</td>\n",
       "      <td>1298.738405</td>\n",
       "    </tr>\n",
       "    <tr>\n",
       "      <th>2</th>\n",
       "      <td>ES</td>\n",
       "      <td>BCN</td>\n",
       "      <td>100907493124</td>\n",
       "      <td>146788593</td>\n",
       "      <td>2024-10-03 20:56:48+00:00</td>\n",
       "      <td>2024-10-03 20:56:49+00:00</td>\n",
       "      <td>BICYCLE</td>\n",
       "      <td>2024-10-03 21:07:40.560000+00:00</td>\n",
       "      <td>2024-10-03 21:12:00+00:00</td>\n",
       "      <td>2024-10-03 21:14:30+00:00</td>\n",
       "      <td>...</td>\n",
       "      <td>2024-10-03</td>\n",
       "      <td>20:56:48</td>\n",
       "      <td>20</td>\n",
       "      <td>0.722390</td>\n",
       "      <td>0.037695</td>\n",
       "      <td>0.722401</td>\n",
       "      <td>0.037502</td>\n",
       "      <td>924.017061</td>\n",
       "      <td>924.017061</td>\n",
       "      <td>994.168407</td>\n",
       "    </tr>\n",
       "    <tr>\n",
       "      <th>3</th>\n",
       "      <td>ES</td>\n",
       "      <td>MAD</td>\n",
       "      <td>100907498582</td>\n",
       "      <td>45695767</td>\n",
       "      <td>2024-10-03 20:58:25+00:00</td>\n",
       "      <td>2024-10-03 20:58:26+00:00</td>\n",
       "      <td>MOTORBIKE</td>\n",
       "      <td>2024-10-03 21:08:59.224000+00:00</td>\n",
       "      <td>2024-10-03 21:11:21+00:00</td>\n",
       "      <td>2024-10-03 21:14:21+00:00</td>\n",
       "      <td>...</td>\n",
       "      <td>2024-10-03</td>\n",
       "      <td>20:58:25</td>\n",
       "      <td>20</td>\n",
       "      <td>0.705283</td>\n",
       "      <td>-0.064062</td>\n",
       "      <td>0.705338</td>\n",
       "      <td>-0.064086</td>\n",
       "      <td>369.394256</td>\n",
       "      <td>369.394256</td>\n",
       "      <td>465.858447</td>\n",
       "    </tr>\n",
       "    <tr>\n",
       "      <th>4</th>\n",
       "      <td>ES</td>\n",
       "      <td>MAD</td>\n",
       "      <td>100907503468</td>\n",
       "      <td>166385377</td>\n",
       "      <td>2024-10-03 20:59:51+00:00</td>\n",
       "      <td>2024-10-03 20:59:53+00:00</td>\n",
       "      <td>MOTORBIKE</td>\n",
       "      <td>2024-10-03 21:09:49.060000+00:00</td>\n",
       "      <td>2024-10-03 21:16:45+00:00</td>\n",
       "      <td>2024-10-03 21:20:30+00:00</td>\n",
       "      <td>...</td>\n",
       "      <td>2024-10-03</td>\n",
       "      <td>20:59:51</td>\n",
       "      <td>20</td>\n",
       "      <td>0.705703</td>\n",
       "      <td>-0.064291</td>\n",
       "      <td>0.705640</td>\n",
       "      <td>-0.064115</td>\n",
       "      <td>945.506113</td>\n",
       "      <td>945.506113</td>\n",
       "      <td>1258.537546</td>\n",
       "    </tr>\n",
       "  </tbody>\n",
       "</table>\n",
       "<p>5 rows × 26 columns</p>\n",
       "</div>"
      ],
      "text/plain": [
       "  country_code city_code      order_id  courier_id        creation_timestamp  \\\n",
       "0           ES       BCN  100907487116     8590944 2024-10-03 20:55:02+00:00   \n",
       "1           ES       MAD  100907489425   162535288 2024-10-03 20:55:43+00:00   \n",
       "2           ES       BCN  100907493124   146788593 2024-10-03 20:56:48+00:00   \n",
       "3           ES       MAD  100907498582    45695767 2024-10-03 20:58:25+00:00   \n",
       "4           ES       MAD  100907503468   166385377 2024-10-03 20:59:51+00:00   \n",
       "\n",
       "       activation_timestamp  transport                 pickup_timestamp  \\\n",
       "0 2024-10-03 20:55:04+00:00    BICYCLE 2024-10-03 21:21:44.215000+00:00   \n",
       "1 2024-10-03 20:55:44+00:00    BICYCLE 2024-10-03 21:07:40.941000+00:00   \n",
       "2 2024-10-03 20:56:49+00:00    BICYCLE 2024-10-03 21:07:40.560000+00:00   \n",
       "3 2024-10-03 20:58:26+00:00  MOTORBIKE 2024-10-03 21:08:59.224000+00:00   \n",
       "4 2024-10-03 20:59:53+00:00  MOTORBIKE 2024-10-03 21:09:49.060000+00:00   \n",
       "\n",
       "  delivery_entering_timestamp        delivery_timestamp  ...  creation_date  \\\n",
       "0   2024-10-03 21:29:37+00:00 2024-10-03 21:32:33+00:00  ...     2024-10-03   \n",
       "1   2024-10-03 21:16:09+00:00 2024-10-03 21:19:10+00:00  ...     2024-10-03   \n",
       "2   2024-10-03 21:12:00+00:00 2024-10-03 21:14:30+00:00  ...     2024-10-03   \n",
       "3   2024-10-03 21:11:21+00:00 2024-10-03 21:14:21+00:00  ...     2024-10-03   \n",
       "4   2024-10-03 21:16:45+00:00 2024-10-03 21:20:30+00:00  ...     2024-10-03   \n",
       "\n",
       "   creation_time  creation_hour  pickup_latitude_rad pickup_longitude_rad  \\\n",
       "0       20:55:02             20             0.722053             0.036886   \n",
       "1       20:55:43             20             0.704815            -0.063292   \n",
       "2       20:56:48             20             0.722390             0.037695   \n",
       "3       20:58:25             20             0.705283            -0.064062   \n",
       "4       20:59:51             20             0.705703            -0.064291   \n",
       "\n",
       "  delivery_latitude_rad delivery_longitude_rad pd_distance_haversine_m  \\\n",
       "0              0.722137               0.036736              895.267385   \n",
       "1              0.704825              -0.063547             1236.264251   \n",
       "2              0.722401               0.037502              924.017061   \n",
       "3              0.705338              -0.064086              369.394256   \n",
       "4              0.705640              -0.064115              945.506113   \n",
       "\n",
       "   pd_distance_haversine_m_sk  pd_distance_manhattan_m  \n",
       "0                  895.267385              1254.424177  \n",
       "1                 1236.264251              1298.738405  \n",
       "2                  924.017061               994.168407  \n",
       "3                  369.394256               465.858447  \n",
       "4                  945.506113              1258.537546  \n",
       "\n",
       "[5 rows x 26 columns]"
      ]
     },
     "execution_count": 15,
     "metadata": {},
     "output_type": "execute_result"
    }
   ],
   "source": [
    "data['pd_distance_haversine_m'] = data.apply(\n",
    "    lambda x: haversine(\n",
    "        (x['pickup_latitude'], x['pickup_longitude']),\n",
    "        (x['delivery_latitude'], x['delivery_longitude']),\n",
    "        unit=Unit.METERS\n",
    "    ), axis=1\n",
    ")\n",
    "data['pd_distance_haversine_m_sk'] = data.apply(\n",
    "    lambda x: haversine_distances(\n",
    "        np.array([[x['pickup_latitude_rad'], x['pickup_longitude_rad']]]),\n",
    "        np.array([[x['delivery_latitude_rad'], x['delivery_longitude_rad']]])\n",
    "    )[0][0] * earth_radius_m, axis=1\n",
    ")\n",
    "data['pd_distance_manhattan_m'] = data.apply(manhattan_distance_in_meters, axis=1)\n",
    "data.head()"
   ]
  },
  {
   "cell_type": "code",
   "execution_count": 16,
   "id": "b6be2faf50c7f774",
   "metadata": {
    "ExecuteTime": {
     "end_time": "2024-11-20T09:42:19.773177Z",
     "start_time": "2024-11-20T09:42:19.423045Z"
    },
    "collapsed": false
   },
   "outputs": [
    {
     "data": {
      "text/plain": [
       "np.int64(0)"
      ]
     },
     "execution_count": 16,
     "metadata": {},
     "output_type": "execute_result"
    }
   ],
   "source": [
    "# print the number of null rows\n",
    "data.isnull().sum().sum()"
   ]
  },
  {
   "cell_type": "markdown",
   "id": "5da7791843042776",
   "metadata": {
    "collapsed": false
   },
   "source": [
    "## Save the dataset"
   ]
  },
  {
   "cell_type": "raw",
   "id": "400dcfe4569bd3da",
   "metadata": {
    "collapsed": false
   },
   "source": [
    "data.to_pickle(\"data/dataframe.pkl\")"
   ]
  },
  {
   "cell_type": "markdown",
   "id": "2da57697f71fdf68",
   "metadata": {
    "collapsed": false
   },
   "source": [
    "It's better to use the parquet format, as it is more efficient and faster to read and write. Besides, it is a columnar format, which is more suitable for analytical queries. We can also partition the data by creation date and city, which will help to speed up the queries and allows to analyze different timeframes and different cities if needed."
   ]
  },
  {
   "cell_type": "code",
   "execution_count": 17,
   "id": "c3198338e55332c9",
   "metadata": {
    "ExecuteTime": {
     "end_time": "2024-11-20T09:42:19.778276Z",
     "start_time": "2024-11-20T09:42:19.772899Z"
    },
    "collapsed": false
   },
   "outputs": [],
   "source": [
    "# parquet appends the data in the files, it doesn't overwrite them, so we need to manually remove the folder with its content to avoid duplicated data\n",
    "shutil.rmtree(\"data/parquet/\")\n",
    "os.makedirs(\"data/parquet/\")"
   ]
  },
  {
   "cell_type": "code",
   "execution_count": 18,
   "id": "4a357e3ed80c39b1",
   "metadata": {
    "ExecuteTime": {
     "end_time": "2024-11-20T09:42:21.881942Z",
     "start_time": "2024-11-20T09:42:19.773033Z"
    },
    "collapsed": false
   },
   "outputs": [],
   "source": [
    "data.to_parquet(\"data/parquet/dataframe.parquet\", index=False, partition_cols=['creation_date', 'city_code'])"
   ]
  },
  {
   "cell_type": "markdown",
   "id": "9f700ca8f9a310ca",
   "metadata": {
    "collapsed": false
   },
   "source": [
    "## Exploratory Data Analysis (EDA)"
   ]
  },
  {
   "cell_type": "raw",
   "id": "f459d6342f561915",
   "metadata": {
    "collapsed": false
   },
   "source": [
    "data = pd.read_pickle(\"data/dataframe.pkl\")"
   ]
  },
  {
   "cell_type": "code",
   "execution_count": 5,
   "id": "5ecce593d1c02912",
   "metadata": {
    "collapsed": false,
    "ExecuteTime": {
     "end_time": "2024-11-28T11:12:40.878468Z",
     "start_time": "2024-11-28T11:12:40.327697Z"
    }
   },
   "outputs": [],
   "source": [
    "data = pd.read_parquet(\"data/parquet/dataframe.parquet\")"
   ]
  },
  {
   "cell_type": "code",
   "execution_count": 20,
   "id": "71786bb2d8f08ad7",
   "metadata": {
    "ExecuteTime": {
     "end_time": "2024-11-20T09:42:32.534022Z",
     "start_time": "2024-11-20T09:42:22.072956Z"
    },
    "collapsed": false
   },
   "outputs": [
    {
     "data": {
      "image/png": "[encoded data removed]",
      "text/plain": [
       "<Figure size 1500x800 with 1 Axes>"
      ]
     },
     "metadata": {},
     "output_type": "display_data"
    }
   ],
   "source": [
    "# Histogram of the # of data per day / hour\n",
    "plt.figure(figsize=(15, 8))\n",
    "plt.hist(data['creation_timestamp'], bins = 1000)\n",
    "plt.title('Histogram of the # of data per day / hour')\n",
    "plt.xlabel('Day / Hour')\n",
    "plt.ylabel('Frequency')\n",
    "plt.show()"
   ]
  },
  {
   "cell_type": "code",
   "execution_count": 21,
   "id": "9b49b7bdfaf6dc14",
   "metadata": {
    "ExecuteTime": {
     "end_time": "2024-11-20T09:42:35.380259Z",
     "start_time": "2024-11-20T09:42:32.372699Z"
    },
    "collapsed": false
   },
   "outputs": [
    {
     "data": {
      "image/png": "[encoded data removed]",
      "text/plain": [
       "<Figure size 1500x800 with 1 Axes>"
      ]
     },
     "metadata": {},
     "output_type": "display_data"
    }
   ],
   "source": [
    "plt.figure(figsize=(15, 8))\n",
    "plt.hist(data['creation_date'], bins = 14)\n",
    "plt.title('Histogram of the # of data per day')\n",
    "plt.xlabel('Day')\n",
    "plt.ylabel('Frequency')\n",
    "plt.show()"
   ]
  },
  {
   "cell_type": "code",
   "execution_count": 22,
   "id": "76b3fb2c7e172f38",
   "metadata": {
    "ExecuteTime": {
     "end_time": "2024-11-20T09:42:35.382688Z",
     "start_time": "2024-11-20T09:42:32.822990Z"
    },
    "collapsed": false
   },
   "outputs": [
    {
     "data": {
      "image/png": "[encoded data removed]",
      "text/plain": [
       "<Figure size 1500x800 with 1 Axes>"
      ]
     },
     "metadata": {},
     "output_type": "display_data"
    }
   ],
   "source": [
    "plt.figure(figsize=(15, 8))\n",
    "plt.hist(data['creation_hour'])\n",
    "plt.title('Histogram of the # of data per hour')\n",
    "plt.xlabel('Hour')\n",
    "plt.ylabel('Frequency')\n",
    "plt.show()"
   ]
  },
  {
   "cell_type": "code",
   "execution_count": 23,
   "id": "e5d0cbff51d0870",
   "metadata": {
    "ExecuteTime": {
     "end_time": "2024-11-20T09:42:35.430733Z",
     "start_time": "2024-11-20T09:42:32.972843Z"
    },
    "collapsed": false
   },
   "outputs": [
    {
     "data": {
      "text/plain": [
       "transport\n",
       "BICYCLE      461295\n",
       "MOTORBIKE    393101\n",
       "CAR          117592\n",
       "WALKER          483\n",
       "Name: count, dtype: int64"
      ]
     },
     "execution_count": 23,
     "metadata": {},
     "output_type": "execute_result"
    }
   ],
   "source": [
    "# Check the distribution of the transport types\n",
    "data['transport'].value_counts()"
   ]
  },
  {
   "cell_type": "code",
   "execution_count": 24,
   "id": "47fa4556b397ea7b",
   "metadata": {
    "ExecuteTime": {
     "end_time": "2024-11-20T09:42:35.433100Z",
     "start_time": "2024-11-20T09:42:33.022826Z"
    },
    "collapsed": false
   },
   "outputs": [
    {
     "data": {
      "image/png": "[encoded data removed]",
      "text/plain": [
       "<Figure size 1500x800 with 1 Axes>"
      ]
     },
     "metadata": {},
     "output_type": "display_data"
    }
   ],
   "source": [
    "# Check the distribution of the distances\n",
    "plt.figure(figsize=(15, 8))\n",
    "plt.hist(data['pd_distance_haversine_m'], bins = 1000)\n",
    "plt.xlim(0, 10000)\n",
    "plt.title('Histogram of the distances')\n",
    "plt.xlabel('Distance (m)')\n",
    "plt.ylabel('Frequency')\n",
    "plt.show()"
   ]
  },
  {
   "cell_type": "markdown",
   "id": "b4f24b33b07b58e9",
   "metadata": {
    "collapsed": false
   },
   "source": [
    "## Hyperparameters"
   ]
  },
  {
   "cell_type": "code",
   "execution_count": 6,
   "id": "843f73749bdce7ee",
   "metadata": {
    "collapsed": false,
    "ExecuteTime": {
     "end_time": "2024-11-28T11:12:43.939012Z",
     "start_time": "2024-11-28T11:12:43.902896Z"
    }
   },
   "outputs": [],
   "source": [
    "test_set_perc = 0.1\n",
    "days_for_test = 7\n",
    "k_cv = 5"
   ]
  },
  {
   "cell_type": "markdown",
   "id": "3aed5934e3c1f8f",
   "metadata": {
    "collapsed": false
   },
   "source": [
    "## Database split"
   ]
  },
  {
   "cell_type": "code",
   "execution_count": 7,
   "id": "2574aa199337f236",
   "metadata": {
    "collapsed": false,
    "ExecuteTime": {
     "end_time": "2024-11-28T11:12:44.580286Z",
     "start_time": "2024-11-28T11:12:44.468215Z"
    }
   },
   "outputs": [
    {
     "data": {
      "text/plain": "0        0 days 00:12:22.108000\n1        0 days 00:04:47.417000\n2        0 days 00:08:15.392000\n3        0 days 00:02:55.062000\n4        0 days 00:06:16.423000\n                  ...          \n972466   0 days 00:00:10.821000\n972467   0 days 00:18:17.773000\n972468   0 days 00:10:55.618000\n972469   0 days 00:02:35.306000\n972470   0 days 00:06:11.268000\nName: pickup_to_delivery, Length: 972471, dtype: timedelta64[ns]"
     },
     "execution_count": 7,
     "metadata": {},
     "output_type": "execute_result"
    }
   ],
   "source": [
    "X = data\n",
    "y = data['delivery_entering_timestamp'] - data['pickup_timestamp']\n",
    "y = pd.Series(y, name='pickup_to_delivery')\n",
    "y"
   ]
  },
  {
   "cell_type": "markdown",
   "id": "fc1bd6034ee61016",
   "metadata": {
    "collapsed": false
   },
   "source": [
    "As we are dealing with a time-series dataset (orders are placed at different times), we will split the data based on the creation timestamp, leaving out the last 10% of the data for testing. This will help to understand the performance of the model on unseen data, as in reality we will have to test the model on data created on day+1 with respect to our training data."
   ]
  },
  {
   "cell_type": "code",
   "execution_count": 8,
   "id": "62cf1844840c2240",
   "metadata": {
    "collapsed": false,
    "ExecuteTime": {
     "end_time": "2024-11-28T11:12:46.046393Z",
     "start_time": "2024-11-28T11:12:45.208264Z"
    }
   },
   "outputs": [],
   "source": [
    "X.sort_values('creation_timestamp', inplace=True)\n",
    "X_train, X_test, y_train, y_test = train_test_split(X, y, test_size=test_set_perc, random_state=0)"
   ]
  },
  {
   "cell_type": "code",
   "execution_count": 9,
   "id": "fc0cc9098900ec66",
   "metadata": {
    "collapsed": false,
    "ExecuteTime": {
     "end_time": "2024-11-28T11:12:46.330350Z",
     "start_time": "2024-11-28T11:12:45.997179Z"
    }
   },
   "outputs": [
    {
     "data": {
      "text/plain": "       country_code      order_id  courier_id        creation_timestamp  \\\n820497           ES  100939319797   107746007 2024-10-17 23:34:35+00:00   \n663359           ES  100928878014   159994081 2024-10-13 10:15:57+00:00   \n164222           ES  100907146855   155789352 2024-10-03 19:11:31+00:00   \n431444           ES  100919437062    84525678 2024-10-09 00:44:00+00:00   \n317894           ES  100913100187     9128920 2024-10-06 10:39:27+00:00   \n...             ...           ...         ...                       ...   \n168988           ES  100906861608   108265471 2024-10-03 17:21:28+00:00   \n929474           ES  100944115213    98937795 2024-10-19 21:53:26+00:00   \n128132           ES  100905287909   164180848 2024-10-02 20:24:46+00:00   \n430094           ES  100919914573    25564120 2024-10-09 13:12:58+00:00   \n334989           ES  100913608829   158277364 2024-10-06 14:02:10+00:00   \n\n            activation_timestamp  transport                 pickup_timestamp  \\\n820497 2024-10-17 23:34:36+00:00    BICYCLE 2024-10-17 23:44:41.077000+00:00   \n663359 2024-10-13 10:15:58+00:00  MOTORBIKE 2024-10-13 10:54:50.678000+00:00   \n164222 2024-10-03 19:11:33+00:00    BICYCLE 2024-10-03 19:23:12.973000+00:00   \n431444 2024-10-09 00:44:00+00:00    BICYCLE 2024-10-09 00:52:46.420000+00:00   \n317894 2024-10-06 10:39:29+00:00        CAR 2024-10-06 10:57:47.651000+00:00   \n...                          ...        ...                              ...   \n168988 2024-10-03 17:21:29+00:00  MOTORBIKE 2024-10-03 17:30:44.205000+00:00   \n929474 2024-10-19 21:53:27+00:00  MOTORBIKE 2024-10-19 22:09:26.820000+00:00   \n128132 2024-10-02 20:24:48+00:00        CAR 2024-10-02 20:34:41.786000+00:00   \n430094 2024-10-09 13:12:59+00:00  MOTORBIKE 2024-10-09 13:32:35.416000+00:00   \n334989 2024-10-06 14:02:11+00:00    BICYCLE 2024-10-06 14:23:35.650000+00:00   \n\n       delivery_entering_timestamp        delivery_timestamp  pickup_latitude  \\\n820497   2024-10-17 23:54:16+00:00 2024-10-17 23:55:49+00:00        41.390423   \n663359   2024-10-13 11:12:48+00:00 2024-10-13 11:15:25+00:00        40.446358   \n164222   2024-10-03 19:25:45+00:00 2024-10-03 19:29:10+00:00        40.431015   \n431444   2024-10-09 01:07:02+00:00 2024-10-09 01:07:53+00:00        41.392460   \n317894   2024-10-06 11:00:02+00:00 2024-10-06 11:01:20+00:00        40.418365   \n...                            ...                       ...              ...   \n168988   2024-10-03 17:35:51+00:00 2024-10-03 17:38:36+00:00        40.432785   \n929474   2024-10-19 22:25:41+00:00 2024-10-19 22:28:15+00:00        41.377533   \n128132   2024-10-02 20:47:19+00:00 2024-10-02 20:53:22+00:00        37.380070   \n430094   2024-10-09 13:43:15+00:00 2024-10-09 13:44:38+00:00        41.435143   \n334989   2024-10-06 14:28:21+00:00 2024-10-06 14:32:11+00:00        40.433830   \n\n        ...  creation_hour  pickup_latitude_rad  pickup_longitude_rad  \\\n820497  ...             23             0.722399              0.037836   \n663359  ...             10             0.705922             -0.062614   \n164222  ...             19             0.705654             -0.064634   \n431444  ...              0             0.722435              0.038459   \n317894  ...             10             0.705434             -0.064176   \n...     ...            ...                  ...                   ...   \n168988  ...             17             0.705685             -0.064283   \n929474  ...             21             0.722174              0.036640   \n128132  ...             20             0.652405             -0.106169   \n430094  ...             13             0.723180              0.038061   \n334989  ...             14             0.705703             -0.064621   \n\n       delivery_latitude_rad delivery_longitude_rad pd_distance_haversine_m  \\\n820497              0.722325               0.037685              860.626737   \n663359              0.705962              -0.062928             1543.613921   \n164222              0.705646              -0.064682              237.369708   \n431444              0.722945               0.038384             3267.345470   \n317894              0.705491              -0.064168              370.807625   \n...                      ...                    ...                     ...   \n168988              0.705831              -0.064182             1046.507571   \n929474              0.721941               0.036172             2684.167581   \n128132              0.651708              -0.105637             5193.409393   \n430094              0.722814               0.037869             2500.692483   \n334989              0.705711              -0.064850             1112.474189   \n\n        pd_distance_haversine_m_sk  pd_distance_manhattan_m  creation_date  \\\n820497                  860.626737              1192.918831     2024-10-17   \n663359                 1543.613921              1778.636018     2024-10-13   \n164222                  237.369708               282.826318     2024-10-03   \n431444                 3267.345470              3607.004626     2024-10-09   \n317894                  370.807625               409.366432     2024-10-06   \n...                            ...                      ...            ...   \n168988                 1046.507571              1415.105660     2024-10-03   \n929474                 2684.167581              3725.071951     2024-10-19   \n128132                 5193.409393              7140.604919     2024-10-02   \n430094                 2500.692483              3247.075034     2024-10-09   \n334989                 1112.474189              1160.562431     2024-10-06   \n\n        city_code  \n820497        BCN  \n663359        MAD  \n164222        MAD  \n431444        BCN  \n317894        MAD  \n...           ...  \n168988        MAD  \n929474        BCN  \n128132        SEV  \n430094        BCN  \n334989        MAD  \n\n[875223 rows x 26 columns]",
      "text/html": "<div>\n<style scoped>\n    .dataframe tbody tr th:only-of-type {\n        vertical-align: middle;\n    }\n\n    .dataframe tbody tr th {\n        vertical-align: top;\n    }\n\n    .dataframe thead th {\n        text-align: right;\n    }\n</style>\n<table border=\"1\" class=\"dataframe\">\n  <thead>\n    <tr style=\"text-align: right;\">\n      <th></th>\n      <th>country_code</th>\n      <th>order_id</th>\n      <th>courier_id</th>\n      <th>creation_timestamp</th>\n      <th>activation_timestamp</th>\n      <th>transport</th>\n      <th>pickup_timestamp</th>\n      <th>delivery_entering_timestamp</th>\n      <th>delivery_timestamp</th>\n      <th>pickup_latitude</th>\n      <th>...</th>\n      <th>creation_hour</th>\n      <th>pickup_latitude_rad</th>\n      <th>pickup_longitude_rad</th>\n      <th>delivery_latitude_rad</th>\n      <th>delivery_longitude_rad</th>\n      <th>pd_distance_haversine_m</th>\n      <th>pd_distance_haversine_m_sk</th>\n      <th>pd_distance_manhattan_m</th>\n      <th>creation_date</th>\n      <th>city_code</th>\n    </tr>\n  </thead>\n  <tbody>\n    <tr>\n      <th>820497</th>\n      <td>ES</td>\n      <td>100939319797</td>\n      <td>107746007</td>\n      <td>2024-10-17 23:34:35+00:00</td>\n      <td>2024-10-17 23:34:36+00:00</td>\n      <td>BICYCLE</td>\n      <td>2024-10-17 23:44:41.077000+00:00</td>\n      <td>2024-10-17 23:54:16+00:00</td>\n      <td>2024-10-17 23:55:49+00:00</td>\n      <td>41.390423</td>\n      <td>...</td>\n      <td>23</td>\n      <td>0.722399</td>\n      <td>0.037836</td>\n      <td>0.722325</td>\n      <td>0.037685</td>\n      <td>860.626737</td>\n      <td>860.626737</td>\n      <td>1192.918831</td>\n      <td>2024-10-17</td>\n      <td>BCN</td>\n    </tr>\n    <tr>\n      <th>663359</th>\n      <td>ES</td>\n      <td>100928878014</td>\n      <td>159994081</td>\n      <td>2024-10-13 10:15:57+00:00</td>\n      <td>2024-10-13 10:15:58+00:00</td>\n      <td>MOTORBIKE</td>\n      <td>2024-10-13 10:54:50.678000+00:00</td>\n      <td>2024-10-13 11:12:48+00:00</td>\n      <td>2024-10-13 11:15:25+00:00</td>\n      <td>40.446358</td>\n      <td>...</td>\n      <td>10</td>\n      <td>0.705922</td>\n      <td>-0.062614</td>\n      <td>0.705962</td>\n      <td>-0.062928</td>\n      <td>1543.613921</td>\n      <td>1543.613921</td>\n      <td>1778.636018</td>\n      <td>2024-10-13</td>\n      <td>MAD</td>\n    </tr>\n    <tr>\n      <th>164222</th>\n      <td>ES</td>\n      <td>100907146855</td>\n      <td>155789352</td>\n      <td>2024-10-03 19:11:31+00:00</td>\n      <td>2024-10-03 19:11:33+00:00</td>\n      <td>BICYCLE</td>\n      <td>2024-10-03 19:23:12.973000+00:00</td>\n      <td>2024-10-03 19:25:45+00:00</td>\n      <td>2024-10-03 19:29:10+00:00</td>\n      <td>40.431015</td>\n      <td>...</td>\n      <td>19</td>\n      <td>0.705654</td>\n      <td>-0.064634</td>\n      <td>0.705646</td>\n      <td>-0.064682</td>\n      <td>237.369708</td>\n      <td>237.369708</td>\n      <td>282.826318</td>\n      <td>2024-10-03</td>\n      <td>MAD</td>\n    </tr>\n    <tr>\n      <th>431444</th>\n      <td>ES</td>\n      <td>100919437062</td>\n      <td>84525678</td>\n      <td>2024-10-09 00:44:00+00:00</td>\n      <td>2024-10-09 00:44:00+00:00</td>\n      <td>BICYCLE</td>\n      <td>2024-10-09 00:52:46.420000+00:00</td>\n      <td>2024-10-09 01:07:02+00:00</td>\n      <td>2024-10-09 01:07:53+00:00</td>\n      <td>41.392460</td>\n      <td>...</td>\n      <td>0</td>\n      <td>0.722435</td>\n      <td>0.038459</td>\n      <td>0.722945</td>\n      <td>0.038384</td>\n      <td>3267.345470</td>\n      <td>3267.345470</td>\n      <td>3607.004626</td>\n      <td>2024-10-09</td>\n      <td>BCN</td>\n    </tr>\n    <tr>\n      <th>317894</th>\n      <td>ES</td>\n      <td>100913100187</td>\n      <td>9128920</td>\n      <td>2024-10-06 10:39:27+00:00</td>\n      <td>2024-10-06 10:39:29+00:00</td>\n      <td>CAR</td>\n      <td>2024-10-06 10:57:47.651000+00:00</td>\n      <td>2024-10-06 11:00:02+00:00</td>\n      <td>2024-10-06 11:01:20+00:00</td>\n      <td>40.418365</td>\n      <td>...</td>\n      <td>10</td>\n      <td>0.705434</td>\n      <td>-0.064176</td>\n      <td>0.705491</td>\n      <td>-0.064168</td>\n      <td>370.807625</td>\n      <td>370.807625</td>\n      <td>409.366432</td>\n      <td>2024-10-06</td>\n      <td>MAD</td>\n    </tr>\n    <tr>\n      <th>...</th>\n      <td>...</td>\n      <td>...</td>\n      <td>...</td>\n      <td>...</td>\n      <td>...</td>\n      <td>...</td>\n      <td>...</td>\n      <td>...</td>\n      <td>...</td>\n      <td>...</td>\n      <td>...</td>\n      <td>...</td>\n      <td>...</td>\n      <td>...</td>\n      <td>...</td>\n      <td>...</td>\n      <td>...</td>\n      <td>...</td>\n      <td>...</td>\n      <td>...</td>\n      <td>...</td>\n    </tr>\n    <tr>\n      <th>168988</th>\n      <td>ES</td>\n      <td>100906861608</td>\n      <td>108265471</td>\n      <td>2024-10-03 17:21:28+00:00</td>\n      <td>2024-10-03 17:21:29+00:00</td>\n      <td>MOTORBIKE</td>\n      <td>2024-10-03 17:30:44.205000+00:00</td>\n      <td>2024-10-03 17:35:51+00:00</td>\n      <td>2024-10-03 17:38:36+00:00</td>\n      <td>40.432785</td>\n      <td>...</td>\n      <td>17</td>\n      <td>0.705685</td>\n      <td>-0.064283</td>\n      <td>0.705831</td>\n      <td>-0.064182</td>\n      <td>1046.507571</td>\n      <td>1046.507571</td>\n      <td>1415.105660</td>\n      <td>2024-10-03</td>\n      <td>MAD</td>\n    </tr>\n    <tr>\n      <th>929474</th>\n      <td>ES</td>\n      <td>100944115213</td>\n      <td>98937795</td>\n      <td>2024-10-19 21:53:26+00:00</td>\n      <td>2024-10-19 21:53:27+00:00</td>\n      <td>MOTORBIKE</td>\n      <td>2024-10-19 22:09:26.820000+00:00</td>\n      <td>2024-10-19 22:25:41+00:00</td>\n      <td>2024-10-19 22:28:15+00:00</td>\n      <td>41.377533</td>\n      <td>...</td>\n      <td>21</td>\n      <td>0.722174</td>\n      <td>0.036640</td>\n      <td>0.721941</td>\n      <td>0.036172</td>\n      <td>2684.167581</td>\n      <td>2684.167581</td>\n      <td>3725.071951</td>\n      <td>2024-10-19</td>\n      <td>BCN</td>\n    </tr>\n    <tr>\n      <th>128132</th>\n      <td>ES</td>\n      <td>100905287909</td>\n      <td>164180848</td>\n      <td>2024-10-02 20:24:46+00:00</td>\n      <td>2024-10-02 20:24:48+00:00</td>\n      <td>CAR</td>\n      <td>2024-10-02 20:34:41.786000+00:00</td>\n      <td>2024-10-02 20:47:19+00:00</td>\n      <td>2024-10-02 20:53:22+00:00</td>\n      <td>37.380070</td>\n      <td>...</td>\n      <td>20</td>\n      <td>0.652405</td>\n      <td>-0.106169</td>\n      <td>0.651708</td>\n      <td>-0.105637</td>\n      <td>5193.409393</td>\n      <td>5193.409393</td>\n      <td>7140.604919</td>\n      <td>2024-10-02</td>\n      <td>SEV</td>\n    </tr>\n    <tr>\n      <th>430094</th>\n      <td>ES</td>\n      <td>100919914573</td>\n      <td>25564120</td>\n      <td>2024-10-09 13:12:58+00:00</td>\n      <td>2024-10-09 13:12:59+00:00</td>\n      <td>MOTORBIKE</td>\n      <td>2024-10-09 13:32:35.416000+00:00</td>\n      <td>2024-10-09 13:43:15+00:00</td>\n      <td>2024-10-09 13:44:38+00:00</td>\n      <td>41.435143</td>\n      <td>...</td>\n      <td>13</td>\n      <td>0.723180</td>\n      <td>0.038061</td>\n      <td>0.722814</td>\n      <td>0.037869</td>\n      <td>2500.692483</td>\n      <td>2500.692483</td>\n      <td>3247.075034</td>\n      <td>2024-10-09</td>\n      <td>BCN</td>\n    </tr>\n    <tr>\n      <th>334989</th>\n      <td>ES</td>\n      <td>100913608829</td>\n      <td>158277364</td>\n      <td>2024-10-06 14:02:10+00:00</td>\n      <td>2024-10-06 14:02:11+00:00</td>\n      <td>BICYCLE</td>\n      <td>2024-10-06 14:23:35.650000+00:00</td>\n      <td>2024-10-06 14:28:21+00:00</td>\n      <td>2024-10-06 14:32:11+00:00</td>\n      <td>40.433830</td>\n      <td>...</td>\n      <td>14</td>\n      <td>0.705703</td>\n      <td>-0.064621</td>\n      <td>0.705711</td>\n      <td>-0.064850</td>\n      <td>1112.474189</td>\n      <td>1112.474189</td>\n      <td>1160.562431</td>\n      <td>2024-10-06</td>\n      <td>MAD</td>\n    </tr>\n  </tbody>\n</table>\n<p>875223 rows × 26 columns</p>\n</div>"
     },
     "execution_count": 9,
     "metadata": {},
     "output_type": "execute_result"
    }
   ],
   "source": [
    "X_train"
   ]
  },
  {
   "cell_type": "code",
   "execution_count": 10,
   "id": "578fea794feb9a3d",
   "metadata": {
    "collapsed": false,
    "ExecuteTime": {
     "end_time": "2024-11-28T11:12:46.333525Z",
     "start_time": "2024-11-28T11:12:46.276116Z"
    }
   },
   "outputs": [
    {
     "data": {
      "text/plain": "858031   0 days 00:09:54.426000\n626108   0 days 00:08:20.808000\n155855   0 days 00:00:09.370000\n427956   0 days 00:05:10.337000\n294097   0 days 00:01:29.167000\n                  ...          \n152315   0 days 00:02:58.639000\n963395   0 days 00:06:50.321000\n117952   0 days 00:07:05.523000\n435829   0 days 00:07:30.203000\n305711   0 days 00:03:32.325000\nName: pickup_to_delivery, Length: 875223, dtype: timedelta64[ns]"
     },
     "execution_count": 10,
     "metadata": {},
     "output_type": "execute_result"
    }
   ],
   "source": [
    "y_train"
   ]
  },
  {
   "cell_type": "code",
   "execution_count": 11,
   "id": "2e1aab43ff9f5211",
   "metadata": {
    "collapsed": false,
    "ExecuteTime": {
     "end_time": "2024-11-28T11:12:46.347913Z",
     "start_time": "2024-11-28T11:12:46.285798Z"
    }
   },
   "outputs": [
    {
     "name": "stdout",
     "output_type": "stream",
     "text": [
      "(875223, 26) (875223,)\n",
      "(97248, 26) (97248,)\n"
     ]
    }
   ],
   "source": [
    "print(X_train.shape, y_train.shape)\n",
    "print(X_test.shape, y_test.shape)"
   ]
  },
  {
   "cell_type": "code",
   "execution_count": 12,
   "id": "fdc44e42fd992ca8",
   "metadata": {
    "collapsed": false,
    "ExecuteTime": {
     "end_time": "2024-11-28T11:12:46.350250Z",
     "start_time": "2024-11-28T11:12:46.290293Z"
    }
   },
   "outputs": [],
   "source": [
    "# In case we want to test different hyperparameters, we will use cross-validation\n",
    "#scores = cross_val_score(<estimator>, X, y, cv=k_cv)"
   ]
  },
  {
   "cell_type": "markdown",
   "id": "7282f116c476aa5c",
   "metadata": {
    "collapsed": false
   },
   "source": [
    "### Database split using directly the creation date\n",
    "\n",
    "As we have partitioned the data by city and creation date, we can use this information to split the data. This will help to avoid data leakage, as we will not have data from the future in the training set.\n",
    "This is much better than just sorting the data by the creation timestamp and taking 10% of the dataset as test set, as we did before."
   ]
  },
  {
   "cell_type": "code",
   "execution_count": 13,
   "id": "75c872336bd56642",
   "metadata": {
    "collapsed": false,
    "ExecuteTime": {
     "end_time": "2024-11-28T11:12:50.715537Z",
     "start_time": "2024-11-28T11:12:50.638913Z"
    }
   },
   "outputs": [
    {
     "name": "stdout",
     "output_type": "stream",
     "text": [
      "Start date: 2024-09-30 | Begin test date: 2024-10-14 | End date: 2024-10-20\n"
     ]
    }
   ],
   "source": [
    "# We take the last week of the dataset to test the model\n",
    "begin_test_date = pd.to_datetime(end_date) - pd.Timedelta(days=days_for_test-1)\n",
    "begin_test_date = begin_test_date.strftime(\"%Y-%m-%d\")\n",
    "print(f'Start date: {start_date} | Begin test date: {begin_test_date} | End date: {end_date}')"
   ]
  },
  {
   "cell_type": "code",
   "execution_count": 14,
   "id": "3ac70f793bb888aa",
   "metadata": {
    "collapsed": false,
    "ExecuteTime": {
     "end_time": "2024-11-28T11:12:51.071888Z",
     "start_time": "2024-11-28T11:12:50.646451Z"
    }
   },
   "outputs": [
    {
     "data": {
      "text/plain": "  country_code      order_id  courier_id        creation_timestamp  \\\n0           ES  100901312508    24750184 2024-09-30 20:48:58+00:00   \n1           ES  100901502888   114878043 2024-09-30 22:02:24+00:00   \n2           ES  100901552273   169065712 2024-09-30 22:29:26+00:00   \n3           ES  100901587119    98812119 2024-09-30 22:53:13+00:00   \n4           ES  100901593554   170866593 2024-09-30 22:58:15+00:00   \n\n       activation_timestamp  transport                 pickup_timestamp  \\\n0 2024-09-30 20:48:59+00:00        CAR 2024-09-30 21:05:11.892000+00:00   \n1 2024-09-30 22:02:25+00:00  MOTORBIKE 2024-09-30 22:18:10.583000+00:00   \n2 2024-09-30 22:29:26+00:00        CAR 2024-09-30 22:42:27.608000+00:00   \n3 2024-09-30 22:53:13+00:00        CAR 2024-09-30 23:13:58.938000+00:00   \n4 2024-09-30 22:58:17+00:00  MOTORBIKE 2024-09-30 23:08:24.577000+00:00   \n\n  delivery_entering_timestamp        delivery_timestamp  pickup_latitude  ...  \\\n0   2024-09-30 21:17:34+00:00 2024-09-30 21:20:22+00:00        38.391617  ...   \n1   2024-09-30 22:22:58+00:00 2024-09-30 22:23:44+00:00        38.338440  ...   \n2   2024-09-30 22:50:43+00:00 2024-09-30 22:56:36+00:00        38.366512  ...   \n3   2024-09-30 23:16:54+00:00 2024-09-30 23:21:06+00:00        38.359184  ...   \n4   2024-09-30 23:14:41+00:00 2024-09-30 23:16:10+00:00        38.345978  ...   \n\n   creation_hour  pickup_latitude_rad  pickup_longitude_rad  \\\n0             20             0.670060             -0.008959   \n1             22             0.669132             -0.008492   \n2             22             0.669622             -0.008200   \n3             22             0.669494             -0.008437   \n4             22             0.669264             -0.008514   \n\n  delivery_latitude_rad delivery_longitude_rad pd_distance_haversine_m  \\\n0              0.670057              -0.009104              724.460401   \n1              0.669226              -0.008693             1166.853169   \n2              0.669375              -0.008726             3065.108653   \n3              0.669460              -0.008370              400.794655   \n4              0.669439              -0.008415             1225.327574   \n\n   pd_distance_haversine_m_sk  pd_distance_manhattan_m  creation_date  \\\n0                  724.460401               742.866745     2024-09-30   \n1                 1166.853169              1601.094467     2024-09-30   \n2                 3065.108653              4208.852129     2024-09-30   \n3                  400.794655               555.236086     2024-09-30   \n4                 1225.327574              1618.610270     2024-09-30   \n\n   city_code  \n0        ALC  \n1        ALC  \n2        ALC  \n3        ALC  \n4        ALC  \n\n[5 rows x 26 columns]",
      "text/html": "<div>\n<style scoped>\n    .dataframe tbody tr th:only-of-type {\n        vertical-align: middle;\n    }\n\n    .dataframe tbody tr th {\n        vertical-align: top;\n    }\n\n    .dataframe thead th {\n        text-align: right;\n    }\n</style>\n<table border=\"1\" class=\"dataframe\">\n  <thead>\n    <tr style=\"text-align: right;\">\n      <th></th>\n      <th>country_code</th>\n      <th>order_id</th>\n      <th>courier_id</th>\n      <th>creation_timestamp</th>\n      <th>activation_timestamp</th>\n      <th>transport</th>\n      <th>pickup_timestamp</th>\n      <th>delivery_entering_timestamp</th>\n      <th>delivery_timestamp</th>\n      <th>pickup_latitude</th>\n      <th>...</th>\n      <th>creation_hour</th>\n      <th>pickup_latitude_rad</th>\n      <th>pickup_longitude_rad</th>\n      <th>delivery_latitude_rad</th>\n      <th>delivery_longitude_rad</th>\n      <th>pd_distance_haversine_m</th>\n      <th>pd_distance_haversine_m_sk</th>\n      <th>pd_distance_manhattan_m</th>\n      <th>creation_date</th>\n      <th>city_code</th>\n    </tr>\n  </thead>\n  <tbody>\n    <tr>\n      <th>0</th>\n      <td>ES</td>\n      <td>100901312508</td>\n      <td>24750184</td>\n      <td>2024-09-30 20:48:58+00:00</td>\n      <td>2024-09-30 20:48:59+00:00</td>\n      <td>CAR</td>\n      <td>2024-09-30 21:05:11.892000+00:00</td>\n      <td>2024-09-30 21:17:34+00:00</td>\n      <td>2024-09-30 21:20:22+00:00</td>\n      <td>38.391617</td>\n      <td>...</td>\n      <td>20</td>\n      <td>0.670060</td>\n      <td>-0.008959</td>\n      <td>0.670057</td>\n      <td>-0.009104</td>\n      <td>724.460401</td>\n      <td>724.460401</td>\n      <td>742.866745</td>\n      <td>2024-09-30</td>\n      <td>ALC</td>\n    </tr>\n    <tr>\n      <th>1</th>\n      <td>ES</td>\n      <td>100901502888</td>\n      <td>114878043</td>\n      <td>2024-09-30 22:02:24+00:00</td>\n      <td>2024-09-30 22:02:25+00:00</td>\n      <td>MOTORBIKE</td>\n      <td>2024-09-30 22:18:10.583000+00:00</td>\n      <td>2024-09-30 22:22:58+00:00</td>\n      <td>2024-09-30 22:23:44+00:00</td>\n      <td>38.338440</td>\n      <td>...</td>\n      <td>22</td>\n      <td>0.669132</td>\n      <td>-0.008492</td>\n      <td>0.669226</td>\n      <td>-0.008693</td>\n      <td>1166.853169</td>\n      <td>1166.853169</td>\n      <td>1601.094467</td>\n      <td>2024-09-30</td>\n      <td>ALC</td>\n    </tr>\n    <tr>\n      <th>2</th>\n      <td>ES</td>\n      <td>100901552273</td>\n      <td>169065712</td>\n      <td>2024-09-30 22:29:26+00:00</td>\n      <td>2024-09-30 22:29:26+00:00</td>\n      <td>CAR</td>\n      <td>2024-09-30 22:42:27.608000+00:00</td>\n      <td>2024-09-30 22:50:43+00:00</td>\n      <td>2024-09-30 22:56:36+00:00</td>\n      <td>38.366512</td>\n      <td>...</td>\n      <td>22</td>\n      <td>0.669622</td>\n      <td>-0.008200</td>\n      <td>0.669375</td>\n      <td>-0.008726</td>\n      <td>3065.108653</td>\n      <td>3065.108653</td>\n      <td>4208.852129</td>\n      <td>2024-09-30</td>\n      <td>ALC</td>\n    </tr>\n    <tr>\n      <th>3</th>\n      <td>ES</td>\n      <td>100901587119</td>\n      <td>98812119</td>\n      <td>2024-09-30 22:53:13+00:00</td>\n      <td>2024-09-30 22:53:13+00:00</td>\n      <td>CAR</td>\n      <td>2024-09-30 23:13:58.938000+00:00</td>\n      <td>2024-09-30 23:16:54+00:00</td>\n      <td>2024-09-30 23:21:06+00:00</td>\n      <td>38.359184</td>\n      <td>...</td>\n      <td>22</td>\n      <td>0.669494</td>\n      <td>-0.008437</td>\n      <td>0.669460</td>\n      <td>-0.008370</td>\n      <td>400.794655</td>\n      <td>400.794655</td>\n      <td>555.236086</td>\n      <td>2024-09-30</td>\n      <td>ALC</td>\n    </tr>\n    <tr>\n      <th>4</th>\n      <td>ES</td>\n      <td>100901593554</td>\n      <td>170866593</td>\n      <td>2024-09-30 22:58:15+00:00</td>\n      <td>2024-09-30 22:58:17+00:00</td>\n      <td>MOTORBIKE</td>\n      <td>2024-09-30 23:08:24.577000+00:00</td>\n      <td>2024-09-30 23:14:41+00:00</td>\n      <td>2024-09-30 23:16:10+00:00</td>\n      <td>38.345978</td>\n      <td>...</td>\n      <td>22</td>\n      <td>0.669264</td>\n      <td>-0.008514</td>\n      <td>0.669439</td>\n      <td>-0.008415</td>\n      <td>1225.327574</td>\n      <td>1225.327574</td>\n      <td>1618.610270</td>\n      <td>2024-09-30</td>\n      <td>ALC</td>\n    </tr>\n  </tbody>\n</table>\n<p>5 rows × 26 columns</p>\n</div>"
     },
     "execution_count": 14,
     "metadata": {},
     "output_type": "execute_result"
    }
   ],
   "source": [
    "X_train = pd.read_parquet(\"data/parquet/dataframe.parquet/\", filters=[('creation_date', '<', begin_test_date)])\n",
    "X_train.head()"
   ]
  },
  {
   "cell_type": "code",
   "execution_count": 15,
   "id": "74662b30246725ca",
   "metadata": {
    "collapsed": false,
    "ExecuteTime": {
     "end_time": "2024-11-28T11:12:51.357405Z",
     "start_time": "2024-11-28T11:12:51.148188Z"
    }
   },
   "outputs": [
    {
     "data": {
      "text/plain": "np.int64(0)"
     },
     "execution_count": 15,
     "metadata": {},
     "output_type": "execute_result"
    }
   ],
   "source": [
    "# Check that there are no nulls deriving from a wrong writing of parquet files (appending instead of overwriting)\n",
    "X_train.isnull().sum().sum()"
   ]
  },
  {
   "cell_type": "code",
   "execution_count": 16,
   "id": "7062f2936f260656",
   "metadata": {
    "collapsed": false,
    "ExecuteTime": {
     "end_time": "2024-11-28T11:12:51.360654Z",
     "start_time": "2024-11-28T11:12:51.176328Z"
    }
   },
   "outputs": [
    {
     "data": {
      "text/plain": "0        0 days 00:12:22.108000\n1        0 days 00:04:47.417000\n2        0 days 00:08:15.392000\n3        0 days 00:02:55.062000\n4        0 days 00:06:16.423000\n                  ...          \n678013   0 days 00:05:37.792000\n678014   0 days 00:10:55.475000\n678015   0 days 00:01:50.011000\n678016   0 days 00:03:08.349000\n678017   0 days 00:04:58.098000\nName: pickup_to_delivery, Length: 678018, dtype: timedelta64[ns]"
     },
     "execution_count": 16,
     "metadata": {},
     "output_type": "execute_result"
    }
   ],
   "source": [
    "y_train = X_train['delivery_entering_timestamp'] - X_train['pickup_timestamp']\n",
    "y_train = pd.Series(y_train, name='pickup_to_delivery')\n",
    "y_train"
   ]
  },
  {
   "cell_type": "code",
   "execution_count": 17,
   "id": "ab7c005256b289b6",
   "metadata": {
    "collapsed": false,
    "ExecuteTime": {
     "end_time": "2024-11-28T11:12:51.380335Z",
     "start_time": "2024-11-28T11:12:51.195544Z"
    }
   },
   "outputs": [
    {
     "data": {
      "text/plain": "np.int64(0)"
     },
     "execution_count": 17,
     "metadata": {},
     "output_type": "execute_result"
    }
   ],
   "source": [
    "y_train.isnull().sum().sum()"
   ]
  },
  {
   "cell_type": "code",
   "execution_count": 18,
   "id": "1830d6e04cb2eed0",
   "metadata": {
    "collapsed": false,
    "ExecuteTime": {
     "end_time": "2024-11-28T11:12:51.589056Z",
     "start_time": "2024-11-28T11:12:51.202413Z"
    }
   },
   "outputs": [
    {
     "data": {
      "text/plain": "  country_code      order_id  courier_id        creation_timestamp  \\\n0           ES  100932167582    10191824 2024-10-14 15:51:51+00:00   \n1           ES  100932256816    50618208 2024-10-14 16:36:30+00:00   \n2           ES  100932496959   170202435 2024-10-14 18:26:33+00:00   \n3           ES  100932664161   166731686 2024-10-14 19:30:57+00:00   \n4           ES  100932854728   168741567 2024-10-14 20:35:29+00:00   \n\n       activation_timestamp  transport                 pickup_timestamp  \\\n0 2024-10-14 15:51:52+00:00  MOTORBIKE 2024-10-14 16:00:14.017000+00:00   \n1 2024-10-14 16:36:31+00:00        CAR 2024-10-14 16:45:53.061000+00:00   \n2 2024-10-14 18:26:34+00:00  MOTORBIKE 2024-10-14 18:35:05.220000+00:00   \n3 2024-10-14 19:30:59+00:00        CAR 2024-10-14 19:58:06.210000+00:00   \n4 2024-10-14 20:35:30+00:00        CAR 2024-10-14 20:57:11.030000+00:00   \n\n  delivery_entering_timestamp        delivery_timestamp  pickup_latitude  ...  \\\n0   2024-10-14 16:06:55+00:00 2024-10-14 16:08:56+00:00        38.360110  ...   \n1   2024-10-14 16:53:56+00:00 2024-10-14 16:56:21+00:00        38.354233  ...   \n2   2024-10-14 18:41:32+00:00 2024-10-14 18:43:20+00:00        38.429874  ...   \n3   2024-10-14 20:03:31+00:00 2024-10-14 20:04:48+00:00        38.398090  ...   \n4   2024-10-14 21:00:16+00:00 2024-10-14 21:04:55+00:00        38.355713  ...   \n\n   creation_hour  pickup_latitude_rad  pickup_longitude_rad  \\\n0             15             0.669510             -0.008658   \n1             16             0.669408             -0.008239   \n2             18             0.670728             -0.006992   \n3             19             0.670173             -0.007554   \n4             20             0.669433             -0.008372   \n\n  delivery_latitude_rad delivery_longitude_rad pd_distance_haversine_m  \\\n0              0.669291              -0.008891             1817.533836   \n1              0.669490              -0.008349              757.291206   \n2              0.670951              -0.006570             2541.011986   \n3              0.670373              -0.007686             1432.008005   \n4              0.669508              -0.008358              477.653498   \n\n   pd_distance_haversine_m_sk  pd_distance_manhattan_m  creation_date  \\\n0                 1817.533836              2562.964399     2024-10-14   \n1                  757.291206              1071.856530     2024-10-14   \n2                 2541.011986              3531.016499     2024-10-14   \n3                 1432.008005              1931.872080     2024-10-14   \n4                  477.653498               544.529748     2024-10-14   \n\n   city_code  \n0        ALC  \n1        ALC  \n2        ALC  \n3        ALC  \n4        ALC  \n\n[5 rows x 26 columns]",
      "text/html": "<div>\n<style scoped>\n    .dataframe tbody tr th:only-of-type {\n        vertical-align: middle;\n    }\n\n    .dataframe tbody tr th {\n        vertical-align: top;\n    }\n\n    .dataframe thead th {\n        text-align: right;\n    }\n</style>\n<table border=\"1\" class=\"dataframe\">\n  <thead>\n    <tr style=\"text-align: right;\">\n      <th></th>\n      <th>country_code</th>\n      <th>order_id</th>\n      <th>courier_id</th>\n      <th>creation_timestamp</th>\n      <th>activation_timestamp</th>\n      <th>transport</th>\n      <th>pickup_timestamp</th>\n      <th>delivery_entering_timestamp</th>\n      <th>delivery_timestamp</th>\n      <th>pickup_latitude</th>\n      <th>...</th>\n      <th>creation_hour</th>\n      <th>pickup_latitude_rad</th>\n      <th>pickup_longitude_rad</th>\n      <th>delivery_latitude_rad</th>\n      <th>delivery_longitude_rad</th>\n      <th>pd_distance_haversine_m</th>\n      <th>pd_distance_haversine_m_sk</th>\n      <th>pd_distance_manhattan_m</th>\n      <th>creation_date</th>\n      <th>city_code</th>\n    </tr>\n  </thead>\n  <tbody>\n    <tr>\n      <th>0</th>\n      <td>ES</td>\n      <td>100932167582</td>\n      <td>10191824</td>\n      <td>2024-10-14 15:51:51+00:00</td>\n      <td>2024-10-14 15:51:52+00:00</td>\n      <td>MOTORBIKE</td>\n      <td>2024-10-14 16:00:14.017000+00:00</td>\n      <td>2024-10-14 16:06:55+00:00</td>\n      <td>2024-10-14 16:08:56+00:00</td>\n      <td>38.360110</td>\n      <td>...</td>\n      <td>15</td>\n      <td>0.669510</td>\n      <td>-0.008658</td>\n      <td>0.669291</td>\n      <td>-0.008891</td>\n      <td>1817.533836</td>\n      <td>1817.533836</td>\n      <td>2562.964399</td>\n      <td>2024-10-14</td>\n      <td>ALC</td>\n    </tr>\n    <tr>\n      <th>1</th>\n      <td>ES</td>\n      <td>100932256816</td>\n      <td>50618208</td>\n      <td>2024-10-14 16:36:30+00:00</td>\n      <td>2024-10-14 16:36:31+00:00</td>\n      <td>CAR</td>\n      <td>2024-10-14 16:45:53.061000+00:00</td>\n      <td>2024-10-14 16:53:56+00:00</td>\n      <td>2024-10-14 16:56:21+00:00</td>\n      <td>38.354233</td>\n      <td>...</td>\n      <td>16</td>\n      <td>0.669408</td>\n      <td>-0.008239</td>\n      <td>0.669490</td>\n      <td>-0.008349</td>\n      <td>757.291206</td>\n      <td>757.291206</td>\n      <td>1071.856530</td>\n      <td>2024-10-14</td>\n      <td>ALC</td>\n    </tr>\n    <tr>\n      <th>2</th>\n      <td>ES</td>\n      <td>100932496959</td>\n      <td>170202435</td>\n      <td>2024-10-14 18:26:33+00:00</td>\n      <td>2024-10-14 18:26:34+00:00</td>\n      <td>MOTORBIKE</td>\n      <td>2024-10-14 18:35:05.220000+00:00</td>\n      <td>2024-10-14 18:41:32+00:00</td>\n      <td>2024-10-14 18:43:20+00:00</td>\n      <td>38.429874</td>\n      <td>...</td>\n      <td>18</td>\n      <td>0.670728</td>\n      <td>-0.006992</td>\n      <td>0.670951</td>\n      <td>-0.006570</td>\n      <td>2541.011986</td>\n      <td>2541.011986</td>\n      <td>3531.016499</td>\n      <td>2024-10-14</td>\n      <td>ALC</td>\n    </tr>\n    <tr>\n      <th>3</th>\n      <td>ES</td>\n      <td>100932664161</td>\n      <td>166731686</td>\n      <td>2024-10-14 19:30:57+00:00</td>\n      <td>2024-10-14 19:30:59+00:00</td>\n      <td>CAR</td>\n      <td>2024-10-14 19:58:06.210000+00:00</td>\n      <td>2024-10-14 20:03:31+00:00</td>\n      <td>2024-10-14 20:04:48+00:00</td>\n      <td>38.398090</td>\n      <td>...</td>\n      <td>19</td>\n      <td>0.670173</td>\n      <td>-0.007554</td>\n      <td>0.670373</td>\n      <td>-0.007686</td>\n      <td>1432.008005</td>\n      <td>1432.008005</td>\n      <td>1931.872080</td>\n      <td>2024-10-14</td>\n      <td>ALC</td>\n    </tr>\n    <tr>\n      <th>4</th>\n      <td>ES</td>\n      <td>100932854728</td>\n      <td>168741567</td>\n      <td>2024-10-14 20:35:29+00:00</td>\n      <td>2024-10-14 20:35:30+00:00</td>\n      <td>CAR</td>\n      <td>2024-10-14 20:57:11.030000+00:00</td>\n      <td>2024-10-14 21:00:16+00:00</td>\n      <td>2024-10-14 21:04:55+00:00</td>\n      <td>38.355713</td>\n      <td>...</td>\n      <td>20</td>\n      <td>0.669433</td>\n      <td>-0.008372</td>\n      <td>0.669508</td>\n      <td>-0.008358</td>\n      <td>477.653498</td>\n      <td>477.653498</td>\n      <td>544.529748</td>\n      <td>2024-10-14</td>\n      <td>ALC</td>\n    </tr>\n  </tbody>\n</table>\n<p>5 rows × 26 columns</p>\n</div>"
     },
     "execution_count": 18,
     "metadata": {},
     "output_type": "execute_result"
    }
   ],
   "source": [
    "X_test = pd.read_parquet(\"data/parquet/dataframe.parquet\", filters=[('creation_date', '>=', begin_test_date)])\n",
    "X_test.head()"
   ]
  },
  {
   "cell_type": "code",
   "execution_count": 19,
   "id": "273b4efbb39767db",
   "metadata": {
    "collapsed": false,
    "ExecuteTime": {
     "end_time": "2024-11-28T11:12:51.613232Z",
     "start_time": "2024-11-28T11:12:51.456875Z"
    }
   },
   "outputs": [
    {
     "data": {
      "text/plain": "np.int64(0)"
     },
     "execution_count": 19,
     "metadata": {},
     "output_type": "execute_result"
    }
   ],
   "source": [
    "X_test.isnull().sum().sum()"
   ]
  },
  {
   "cell_type": "markdown",
   "source": [
    "To compute the MAE, we need to do a power to 2, but if I use the type `np.timedelta64(1, \"ns\")` for `y_test` I get the following error:\n",
    "`TypeError: cannot perform __pow__ with this index type: TimedeltaArray`\n",
    "Therefore we will use the type `np.float64` for `y_test`."
   ],
   "metadata": {
    "collapsed": false
   },
   "id": "2bc643e6376ab1bb"
  },
  {
   "cell_type": "code",
   "execution_count": 20,
   "id": "52ce014a35efad12",
   "metadata": {
    "collapsed": false,
    "ExecuteTime": {
     "end_time": "2024-11-28T11:12:51.715853Z",
     "start_time": "2024-11-28T11:12:51.474219Z"
    }
   },
   "outputs": [
    {
     "data": {
      "text/plain": "0          400.983\n1          482.939\n2          386.780\n3          324.790\n4          184.970\n            ...   \n294448      10.821\n294449    1097.773\n294450     655.618\n294451     155.306\n294452     371.268\nName: pickup_to_delivery, Length: 294453, dtype: float64"
     },
     "execution_count": 20,
     "metadata": {},
     "output_type": "execute_result"
    }
   ],
   "source": [
    "y_test = (X_test['delivery_entering_timestamp'] - X_test['pickup_timestamp']).dt.total_seconds()\n",
    "y_test = pd.Series(y_test, dtype=np.float64, name='pickup_to_delivery')\n",
    "y_test"
   ]
  },
  {
   "cell_type": "code",
   "execution_count": 21,
   "id": "cfb62def0b2bf287",
   "metadata": {
    "collapsed": false,
    "ExecuteTime": {
     "end_time": "2024-11-28T11:12:51.718838Z",
     "start_time": "2024-11-28T11:12:51.491265Z"
    }
   },
   "outputs": [
    {
     "data": {
      "text/plain": "np.int64(0)"
     },
     "execution_count": 21,
     "metadata": {},
     "output_type": "execute_result"
    }
   ],
   "source": [
    "y_test.isnull().sum().sum()"
   ]
  },
  {
   "cell_type": "code",
   "execution_count": 22,
   "id": "2d2fff1089f25047",
   "metadata": {
    "collapsed": false,
    "ExecuteTime": {
     "end_time": "2024-11-28T11:12:51.738970Z",
     "start_time": "2024-11-28T11:12:51.500347Z"
    }
   },
   "outputs": [
    {
     "name": "stdout",
     "output_type": "stream",
     "text": [
      "(678018, 26) (678018,)\n",
      "(294453, 26) (294453,)\n"
     ]
    }
   ],
   "source": [
    "print(X_train.shape, y_train.shape)\n",
    "print(X_test.shape, y_test.shape)"
   ]
  },
  {
   "cell_type": "markdown",
   "id": "e01843bd221d9df1",
   "metadata": {
    "collapsed": false
   },
   "source": [
    "## Baseline Models\n",
    "\n",
    "### BaselineModel_sum"
   ]
  },
  {
   "cell_type": "code",
   "execution_count": 23,
   "id": "7319e4fbfc086581",
   "metadata": {
    "collapsed": false,
    "ExecuteTime": {
     "end_time": "2024-11-28T11:12:52.015786Z",
     "start_time": "2024-11-28T11:12:51.512706Z"
    }
   },
   "outputs": [
    {
     "data": {
      "text/plain": "<estimator.BaselineModel_sum at 0x119892390>"
     },
     "execution_count": 23,
     "metadata": {},
     "output_type": "execute_result"
    }
   ],
   "source": [
    "model_bl_sum = BaselineModel_sum()\n",
    "model_bl_sum.fit(X_train, y_train)"
   ]
  },
  {
   "cell_type": "code",
   "execution_count": 24,
   "id": "98ce61d074b1f290",
   "metadata": {
    "collapsed": false,
    "ExecuteTime": {
     "end_time": "2024-11-28T11:13:09.129992Z",
     "start_time": "2024-11-28T11:12:51.823451Z"
    }
   },
   "outputs": [
    {
     "data": {
      "text/plain": "       country_code      order_id  courier_id        creation_timestamp  \\\n0                ES  100932167582    10191824 2024-10-14 15:51:51+00:00   \n1                ES  100932256816    50618208 2024-10-14 16:36:30+00:00   \n2                ES  100932496959   170202435 2024-10-14 18:26:33+00:00   \n3                ES  100932664161   166731686 2024-10-14 19:30:57+00:00   \n4                ES  100932854728   168741567 2024-10-14 20:35:29+00:00   \n...             ...           ...         ...                       ...   \n294448           ES  100944396594   162589110 2024-10-20 00:29:03+00:00   \n294449           ES  100944419727   166315820 2024-10-20 01:04:34+00:00   \n294450           ES  100944420043    54073235 2024-10-20 01:05:07+00:00   \n294451           ES  100944442019   176937248 2024-10-20 01:52:02+00:00   \n294452           ES  100944429020   177365485 2024-10-20 01:22:22+00:00   \n\n            activation_timestamp  transport                 pickup_timestamp  \\\n0      2024-10-14 15:51:52+00:00  MOTORBIKE 2024-10-14 16:00:14.017000+00:00   \n1      2024-10-14 16:36:31+00:00        CAR 2024-10-14 16:45:53.061000+00:00   \n2      2024-10-14 18:26:34+00:00  MOTORBIKE 2024-10-14 18:35:05.220000+00:00   \n3      2024-10-14 19:30:59+00:00        CAR 2024-10-14 19:58:06.210000+00:00   \n4      2024-10-14 20:35:30+00:00        CAR 2024-10-14 20:57:11.030000+00:00   \n...                          ...        ...                              ...   \n294448 2024-10-20 00:29:05+00:00  MOTORBIKE 2024-10-20 00:45:18.179000+00:00   \n294449 2024-10-20 01:04:34+00:00  MOTORBIKE 2024-10-20 01:20:19.227000+00:00   \n294450 2024-10-20 01:05:08+00:00    BICYCLE 2024-10-20 01:20:37.382000+00:00   \n294451 2024-10-20 01:52:03+00:00    BICYCLE 2024-10-20 02:03:27.694000+00:00   \n294452 2024-10-20 01:22:24+00:00    BICYCLE 2024-10-20 01:26:50.732000+00:00   \n\n       delivery_entering_timestamp        delivery_timestamp  pickup_latitude  \\\n0        2024-10-14 16:06:55+00:00 2024-10-14 16:08:56+00:00        38.360110   \n1        2024-10-14 16:53:56+00:00 2024-10-14 16:56:21+00:00        38.354233   \n2        2024-10-14 18:41:32+00:00 2024-10-14 18:43:20+00:00        38.429874   \n3        2024-10-14 20:03:31+00:00 2024-10-14 20:04:48+00:00        38.398090   \n4        2024-10-14 21:00:16+00:00 2024-10-14 21:04:55+00:00        38.355713   \n...                            ...                       ...              ...   \n294448   2024-10-20 00:45:29+00:00 2024-10-20 00:49:49+00:00        37.387287   \n294449   2024-10-20 01:38:37+00:00 2024-10-20 01:41:15+00:00        37.390736   \n294450   2024-10-20 01:31:33+00:00 2024-10-20 01:32:15+00:00        37.381660   \n294451   2024-10-20 02:06:03+00:00 2024-10-20 02:08:10+00:00        37.381660   \n294452   2024-10-20 01:33:02+00:00 2024-10-20 01:33:49+00:00        37.377640   \n\n        ...  delivery_latitude_rad  delivery_longitude_rad  \\\n0       ...               0.669291               -0.008891   \n1       ...               0.669490               -0.008349   \n2       ...               0.670951               -0.006570   \n3       ...               0.670373               -0.007686   \n4       ...               0.669508               -0.008358   \n...     ...                    ...                     ...   \n294448  ...               0.652634               -0.104717   \n294449  ...               0.652395               -0.105635   \n294450  ...               0.652289               -0.104303   \n294451  ...               0.652397               -0.104685   \n294452  ...               0.652338               -0.104664   \n\n        pd_distance_haversine_m pd_distance_haversine_m_sk  \\\n0                   1817.533836                1817.533836   \n1                    757.291206                 757.291206   \n2                   2541.011986                2541.011986   \n3                   1432.008005                1432.008005   \n4                    477.653498                 477.653498   \n...                         ...                        ...   \n294448               658.065844                 658.065844   \n294449              2282.778223                2282.778223   \n294450              1909.884215                1909.884215   \n294451               344.207294                 344.207294   \n294452               465.768645                 465.768645   \n\n       pd_distance_manhattan_m creation_date  city_code  y_test_predicted  \\\n0                  2562.964399    2024-10-14        ALC        581.194266   \n1                  1071.856530    2024-10-14        ALC        213.726843   \n2                  3531.016499    2024-10-14        ALC        812.541460   \n3                  1931.872080    2024-10-14        ALC        404.149088   \n4                   544.529748    2024-10-14        ALC        134.805968   \n...                        ...           ...        ...               ...   \n294448              723.774987    2024-10-20        SEV        210.430248   \n294449             3163.270265    2024-10-20        SEV        729.965841   \n294450             2594.306316    2024-10-20        SEV        718.114342   \n294451              486.272035    2024-10-20        SEV        129.421560   \n294452              595.324438    2024-10-20        SEV        175.128493   \n\n          y_test        diff  \n0        400.983  180.211266  \n1        482.939 -269.212157  \n2        386.780  425.761460  \n3        324.790   79.359088  \n4        184.970  -50.164032  \n...          ...         ...  \n294448    10.821  199.609248  \n294449  1097.773 -367.807159  \n294450   655.618   62.496342  \n294451   155.306  -25.884440  \n294452   371.268 -196.139507  \n\n[294453 rows x 29 columns]",
      "text/html": "<div>\n<style scoped>\n    .dataframe tbody tr th:only-of-type {\n        vertical-align: middle;\n    }\n\n    .dataframe tbody tr th {\n        vertical-align: top;\n    }\n\n    .dataframe thead th {\n        text-align: right;\n    }\n</style>\n<table border=\"1\" class=\"dataframe\">\n  <thead>\n    <tr style=\"text-align: right;\">\n      <th></th>\n      <th>country_code</th>\n      <th>order_id</th>\n      <th>courier_id</th>\n      <th>creation_timestamp</th>\n      <th>activation_timestamp</th>\n      <th>transport</th>\n      <th>pickup_timestamp</th>\n      <th>delivery_entering_timestamp</th>\n      <th>delivery_timestamp</th>\n      <th>pickup_latitude</th>\n      <th>...</th>\n      <th>delivery_latitude_rad</th>\n      <th>delivery_longitude_rad</th>\n      <th>pd_distance_haversine_m</th>\n      <th>pd_distance_haversine_m_sk</th>\n      <th>pd_distance_manhattan_m</th>\n      <th>creation_date</th>\n      <th>city_code</th>\n      <th>y_test_predicted</th>\n      <th>y_test</th>\n      <th>diff</th>\n    </tr>\n  </thead>\n  <tbody>\n    <tr>\n      <th>0</th>\n      <td>ES</td>\n      <td>100932167582</td>\n      <td>10191824</td>\n      <td>2024-10-14 15:51:51+00:00</td>\n      <td>2024-10-14 15:51:52+00:00</td>\n      <td>MOTORBIKE</td>\n      <td>2024-10-14 16:00:14.017000+00:00</td>\n      <td>2024-10-14 16:06:55+00:00</td>\n      <td>2024-10-14 16:08:56+00:00</td>\n      <td>38.360110</td>\n      <td>...</td>\n      <td>0.669291</td>\n      <td>-0.008891</td>\n      <td>1817.533836</td>\n      <td>1817.533836</td>\n      <td>2562.964399</td>\n      <td>2024-10-14</td>\n      <td>ALC</td>\n      <td>581.194266</td>\n      <td>400.983</td>\n      <td>180.211266</td>\n    </tr>\n    <tr>\n      <th>1</th>\n      <td>ES</td>\n      <td>100932256816</td>\n      <td>50618208</td>\n      <td>2024-10-14 16:36:30+00:00</td>\n      <td>2024-10-14 16:36:31+00:00</td>\n      <td>CAR</td>\n      <td>2024-10-14 16:45:53.061000+00:00</td>\n      <td>2024-10-14 16:53:56+00:00</td>\n      <td>2024-10-14 16:56:21+00:00</td>\n      <td>38.354233</td>\n      <td>...</td>\n      <td>0.669490</td>\n      <td>-0.008349</td>\n      <td>757.291206</td>\n      <td>757.291206</td>\n      <td>1071.856530</td>\n      <td>2024-10-14</td>\n      <td>ALC</td>\n      <td>213.726843</td>\n      <td>482.939</td>\n      <td>-269.212157</td>\n    </tr>\n    <tr>\n      <th>2</th>\n      <td>ES</td>\n      <td>100932496959</td>\n      <td>170202435</td>\n      <td>2024-10-14 18:26:33+00:00</td>\n      <td>2024-10-14 18:26:34+00:00</td>\n      <td>MOTORBIKE</td>\n      <td>2024-10-14 18:35:05.220000+00:00</td>\n      <td>2024-10-14 18:41:32+00:00</td>\n      <td>2024-10-14 18:43:20+00:00</td>\n      <td>38.429874</td>\n      <td>...</td>\n      <td>0.670951</td>\n      <td>-0.006570</td>\n      <td>2541.011986</td>\n      <td>2541.011986</td>\n      <td>3531.016499</td>\n      <td>2024-10-14</td>\n      <td>ALC</td>\n      <td>812.541460</td>\n      <td>386.780</td>\n      <td>425.761460</td>\n    </tr>\n    <tr>\n      <th>3</th>\n      <td>ES</td>\n      <td>100932664161</td>\n      <td>166731686</td>\n      <td>2024-10-14 19:30:57+00:00</td>\n      <td>2024-10-14 19:30:59+00:00</td>\n      <td>CAR</td>\n      <td>2024-10-14 19:58:06.210000+00:00</td>\n      <td>2024-10-14 20:03:31+00:00</td>\n      <td>2024-10-14 20:04:48+00:00</td>\n      <td>38.398090</td>\n      <td>...</td>\n      <td>0.670373</td>\n      <td>-0.007686</td>\n      <td>1432.008005</td>\n      <td>1432.008005</td>\n      <td>1931.872080</td>\n      <td>2024-10-14</td>\n      <td>ALC</td>\n      <td>404.149088</td>\n      <td>324.790</td>\n      <td>79.359088</td>\n    </tr>\n    <tr>\n      <th>4</th>\n      <td>ES</td>\n      <td>100932854728</td>\n      <td>168741567</td>\n      <td>2024-10-14 20:35:29+00:00</td>\n      <td>2024-10-14 20:35:30+00:00</td>\n      <td>CAR</td>\n      <td>2024-10-14 20:57:11.030000+00:00</td>\n      <td>2024-10-14 21:00:16+00:00</td>\n      <td>2024-10-14 21:04:55+00:00</td>\n      <td>38.355713</td>\n      <td>...</td>\n      <td>0.669508</td>\n      <td>-0.008358</td>\n      <td>477.653498</td>\n      <td>477.653498</td>\n      <td>544.529748</td>\n      <td>2024-10-14</td>\n      <td>ALC</td>\n      <td>134.805968</td>\n      <td>184.970</td>\n      <td>-50.164032</td>\n    </tr>\n    <tr>\n      <th>...</th>\n      <td>...</td>\n      <td>...</td>\n      <td>...</td>\n      <td>...</td>\n      <td>...</td>\n      <td>...</td>\n      <td>...</td>\n      <td>...</td>\n      <td>...</td>\n      <td>...</td>\n      <td>...</td>\n      <td>...</td>\n      <td>...</td>\n      <td>...</td>\n      <td>...</td>\n      <td>...</td>\n      <td>...</td>\n      <td>...</td>\n      <td>...</td>\n      <td>...</td>\n      <td>...</td>\n    </tr>\n    <tr>\n      <th>294448</th>\n      <td>ES</td>\n      <td>100944396594</td>\n      <td>162589110</td>\n      <td>2024-10-20 00:29:03+00:00</td>\n      <td>2024-10-20 00:29:05+00:00</td>\n      <td>MOTORBIKE</td>\n      <td>2024-10-20 00:45:18.179000+00:00</td>\n      <td>2024-10-20 00:45:29+00:00</td>\n      <td>2024-10-20 00:49:49+00:00</td>\n      <td>37.387287</td>\n      <td>...</td>\n      <td>0.652634</td>\n      <td>-0.104717</td>\n      <td>658.065844</td>\n      <td>658.065844</td>\n      <td>723.774987</td>\n      <td>2024-10-20</td>\n      <td>SEV</td>\n      <td>210.430248</td>\n      <td>10.821</td>\n      <td>199.609248</td>\n    </tr>\n    <tr>\n      <th>294449</th>\n      <td>ES</td>\n      <td>100944419727</td>\n      <td>166315820</td>\n      <td>2024-10-20 01:04:34+00:00</td>\n      <td>2024-10-20 01:04:34+00:00</td>\n      <td>MOTORBIKE</td>\n      <td>2024-10-20 01:20:19.227000+00:00</td>\n      <td>2024-10-20 01:38:37+00:00</td>\n      <td>2024-10-20 01:41:15+00:00</td>\n      <td>37.390736</td>\n      <td>...</td>\n      <td>0.652395</td>\n      <td>-0.105635</td>\n      <td>2282.778223</td>\n      <td>2282.778223</td>\n      <td>3163.270265</td>\n      <td>2024-10-20</td>\n      <td>SEV</td>\n      <td>729.965841</td>\n      <td>1097.773</td>\n      <td>-367.807159</td>\n    </tr>\n    <tr>\n      <th>294450</th>\n      <td>ES</td>\n      <td>100944420043</td>\n      <td>54073235</td>\n      <td>2024-10-20 01:05:07+00:00</td>\n      <td>2024-10-20 01:05:08+00:00</td>\n      <td>BICYCLE</td>\n      <td>2024-10-20 01:20:37.382000+00:00</td>\n      <td>2024-10-20 01:31:33+00:00</td>\n      <td>2024-10-20 01:32:15+00:00</td>\n      <td>37.381660</td>\n      <td>...</td>\n      <td>0.652289</td>\n      <td>-0.104303</td>\n      <td>1909.884215</td>\n      <td>1909.884215</td>\n      <td>2594.306316</td>\n      <td>2024-10-20</td>\n      <td>SEV</td>\n      <td>718.114342</td>\n      <td>655.618</td>\n      <td>62.496342</td>\n    </tr>\n    <tr>\n      <th>294451</th>\n      <td>ES</td>\n      <td>100944442019</td>\n      <td>176937248</td>\n      <td>2024-10-20 01:52:02+00:00</td>\n      <td>2024-10-20 01:52:03+00:00</td>\n      <td>BICYCLE</td>\n      <td>2024-10-20 02:03:27.694000+00:00</td>\n      <td>2024-10-20 02:06:03+00:00</td>\n      <td>2024-10-20 02:08:10+00:00</td>\n      <td>37.381660</td>\n      <td>...</td>\n      <td>0.652397</td>\n      <td>-0.104685</td>\n      <td>344.207294</td>\n      <td>344.207294</td>\n      <td>486.272035</td>\n      <td>2024-10-20</td>\n      <td>SEV</td>\n      <td>129.421560</td>\n      <td>155.306</td>\n      <td>-25.884440</td>\n    </tr>\n    <tr>\n      <th>294452</th>\n      <td>ES</td>\n      <td>100944429020</td>\n      <td>177365485</td>\n      <td>2024-10-20 01:22:22+00:00</td>\n      <td>2024-10-20 01:22:24+00:00</td>\n      <td>BICYCLE</td>\n      <td>2024-10-20 01:26:50.732000+00:00</td>\n      <td>2024-10-20 01:33:02+00:00</td>\n      <td>2024-10-20 01:33:49+00:00</td>\n      <td>37.377640</td>\n      <td>...</td>\n      <td>0.652338</td>\n      <td>-0.104664</td>\n      <td>465.768645</td>\n      <td>465.768645</td>\n      <td>595.324438</td>\n      <td>2024-10-20</td>\n      <td>SEV</td>\n      <td>175.128493</td>\n      <td>371.268</td>\n      <td>-196.139507</td>\n    </tr>\n  </tbody>\n</table>\n<p>294453 rows × 29 columns</p>\n</div>"
     },
     "execution_count": 24,
     "metadata": {},
     "output_type": "execute_result"
    }
   ],
   "source": [
    "X_test_expanded = X_test.copy()\n",
    "X_test_expanded['y_test_predicted'] = model_bl_sum.predict(X_test)\n",
    "X_test_expanded['y_test'] = (X_test_expanded['delivery_entering_timestamp'] - X_test_expanded['pickup_timestamp']).dt.total_seconds()\n",
    "X_test_expanded['diff'] = X_test_expanded['y_test_predicted'] - X_test_expanded['y_test']\n",
    "X_test_expanded"
   ]
  },
  {
   "cell_type": "code",
   "execution_count": 25,
   "id": "db7ceb8d51efef42",
   "metadata": {
    "collapsed": false,
    "ExecuteTime": {
     "end_time": "2024-11-28T11:13:09.148241Z",
     "start_time": "2024-11-28T11:13:09.135002Z"
    }
   },
   "outputs": [
    {
     "data": {
      "text/plain": "0    581.194266\nName: pickup_to_delivery_predicted, dtype: float64"
     },
     "execution_count": 25,
     "metadata": {},
     "output_type": "execute_result"
    }
   ],
   "source": [
    "model_bl_sum.predict(X_test.iloc[0])"
   ]
  },
  {
   "cell_type": "markdown",
   "id": "3d31a26bb43bab07",
   "metadata": {
    "collapsed": false
   },
   "source": [
    "### BaselineModel_mean"
   ]
  },
  {
   "cell_type": "code",
   "execution_count": 26,
   "id": "199e5c6e339d7c1",
   "metadata": {
    "collapsed": false,
    "ExecuteTime": {
     "end_time": "2024-11-28T11:13:09.460191Z",
     "start_time": "2024-11-28T11:13:09.139774Z"
    }
   },
   "outputs": [
    {
     "data": {
      "text/plain": "<estimator.BaselineModel_mean at 0x119893410>"
     },
     "execution_count": 26,
     "metadata": {},
     "output_type": "execute_result"
    }
   ],
   "source": [
    "model_bl_mean = BaselineModel_mean()\n",
    "model_bl_mean.fit(X_train, y_train)"
   ]
  },
  {
   "cell_type": "code",
   "execution_count": 27,
   "id": "da2363ec8ae10e56",
   "metadata": {
    "collapsed": false,
    "ExecuteTime": {
     "end_time": "2024-11-28T11:13:26.347288Z",
     "start_time": "2024-11-28T11:13:09.461554Z"
    }
   },
   "outputs": [
    {
     "data": {
      "text/plain": "       country_code      order_id  courier_id        creation_timestamp  \\\n0                ES  100932167582    10191824 2024-10-14 15:51:51+00:00   \n1                ES  100932256816    50618208 2024-10-14 16:36:30+00:00   \n2                ES  100932496959   170202435 2024-10-14 18:26:33+00:00   \n3                ES  100932664161   166731686 2024-10-14 19:30:57+00:00   \n4                ES  100932854728   168741567 2024-10-14 20:35:29+00:00   \n...             ...           ...         ...                       ...   \n294448           ES  100944396594   162589110 2024-10-20 00:29:03+00:00   \n294449           ES  100944419727   166315820 2024-10-20 01:04:34+00:00   \n294450           ES  100944420043    54073235 2024-10-20 01:05:07+00:00   \n294451           ES  100944442019   176937248 2024-10-20 01:52:02+00:00   \n294452           ES  100944429020   177365485 2024-10-20 01:22:22+00:00   \n\n            activation_timestamp  transport                 pickup_timestamp  \\\n0      2024-10-14 15:51:52+00:00  MOTORBIKE 2024-10-14 16:00:14.017000+00:00   \n1      2024-10-14 16:36:31+00:00        CAR 2024-10-14 16:45:53.061000+00:00   \n2      2024-10-14 18:26:34+00:00  MOTORBIKE 2024-10-14 18:35:05.220000+00:00   \n3      2024-10-14 19:30:59+00:00        CAR 2024-10-14 19:58:06.210000+00:00   \n4      2024-10-14 20:35:30+00:00        CAR 2024-10-14 20:57:11.030000+00:00   \n...                          ...        ...                              ...   \n294448 2024-10-20 00:29:05+00:00  MOTORBIKE 2024-10-20 00:45:18.179000+00:00   \n294449 2024-10-20 01:04:34+00:00  MOTORBIKE 2024-10-20 01:20:19.227000+00:00   \n294450 2024-10-20 01:05:08+00:00    BICYCLE 2024-10-20 01:20:37.382000+00:00   \n294451 2024-10-20 01:52:03+00:00    BICYCLE 2024-10-20 02:03:27.694000+00:00   \n294452 2024-10-20 01:22:24+00:00    BICYCLE 2024-10-20 01:26:50.732000+00:00   \n\n       delivery_entering_timestamp        delivery_timestamp  pickup_latitude  \\\n0        2024-10-14 16:06:55+00:00 2024-10-14 16:08:56+00:00        38.360110   \n1        2024-10-14 16:53:56+00:00 2024-10-14 16:56:21+00:00        38.354233   \n2        2024-10-14 18:41:32+00:00 2024-10-14 18:43:20+00:00        38.429874   \n3        2024-10-14 20:03:31+00:00 2024-10-14 20:04:48+00:00        38.398090   \n4        2024-10-14 21:00:16+00:00 2024-10-14 21:04:55+00:00        38.355713   \n...                            ...                       ...              ...   \n294448   2024-10-20 00:45:29+00:00 2024-10-20 00:49:49+00:00        37.387287   \n294449   2024-10-20 01:38:37+00:00 2024-10-20 01:41:15+00:00        37.390736   \n294450   2024-10-20 01:31:33+00:00 2024-10-20 01:32:15+00:00        37.381660   \n294451   2024-10-20 02:06:03+00:00 2024-10-20 02:08:10+00:00        37.381660   \n294452   2024-10-20 01:33:02+00:00 2024-10-20 01:33:49+00:00        37.377640   \n\n        ...  delivery_latitude_rad  delivery_longitude_rad  \\\n0       ...               0.669291               -0.008891   \n1       ...               0.669490               -0.008349   \n2       ...               0.670951               -0.006570   \n3       ...               0.670373               -0.007686   \n4       ...               0.669508               -0.008358   \n...     ...                    ...                     ...   \n294448  ...               0.652634               -0.104717   \n294449  ...               0.652395               -0.105635   \n294450  ...               0.652289               -0.104303   \n294451  ...               0.652397               -0.104685   \n294452  ...               0.652338               -0.104664   \n\n        pd_distance_haversine_m pd_distance_haversine_m_sk  \\\n0                   1817.533836                1817.533836   \n1                    757.291206                 757.291206   \n2                   2541.011986                2541.011986   \n3                   1432.008005                1432.008005   \n4                    477.653498                 477.653498   \n...                         ...                        ...   \n294448               658.065844                 658.065844   \n294449              2282.778223                2282.778223   \n294450              1909.884215                1909.884215   \n294451               344.207294                 344.207294   \n294452               465.768645                 465.768645   \n\n       pd_distance_manhattan_m creation_date  city_code  y_test_predicted  \\\n0                  2562.964399    2024-10-14        ALC        408.655554   \n1                  1071.856530    2024-10-14        ALC        305.455921   \n2                  3531.016499    2024-10-14        ALC        571.322878   \n3                  1931.872080    2024-10-14        ALC        577.605181   \n4                   544.529748    2024-10-14        ALC        192.663123   \n...                        ...           ...        ...               ...   \n294448              723.774987    2024-10-20        SEV        147.959976   \n294449             3163.270265    2024-10-20        SEV        513.261421   \n294450             2594.306316    2024-10-20        SEV        627.701320   \n294451              486.272035    2024-10-20        SEV        113.126948   \n294452              595.324438    2024-10-20        SEV        153.079224   \n\n          y_test        diff  \n0        400.983    7.672554  \n1        482.939 -177.483079  \n2        386.780  184.542878  \n3        324.790  252.815181  \n4        184.970    7.693123  \n...          ...         ...  \n294448    10.821  137.138976  \n294449  1097.773 -584.511579  \n294450   655.618  -27.916680  \n294451   155.306  -42.179052  \n294452   371.268 -218.188776  \n\n[294453 rows x 29 columns]",
      "text/html": "<div>\n<style scoped>\n    .dataframe tbody tr th:only-of-type {\n        vertical-align: middle;\n    }\n\n    .dataframe tbody tr th {\n        vertical-align: top;\n    }\n\n    .dataframe thead th {\n        text-align: right;\n    }\n</style>\n<table border=\"1\" class=\"dataframe\">\n  <thead>\n    <tr style=\"text-align: right;\">\n      <th></th>\n      <th>country_code</th>\n      <th>order_id</th>\n      <th>courier_id</th>\n      <th>creation_timestamp</th>\n      <th>activation_timestamp</th>\n      <th>transport</th>\n      <th>pickup_timestamp</th>\n      <th>delivery_entering_timestamp</th>\n      <th>delivery_timestamp</th>\n      <th>pickup_latitude</th>\n      <th>...</th>\n      <th>delivery_latitude_rad</th>\n      <th>delivery_longitude_rad</th>\n      <th>pd_distance_haversine_m</th>\n      <th>pd_distance_haversine_m_sk</th>\n      <th>pd_distance_manhattan_m</th>\n      <th>creation_date</th>\n      <th>city_code</th>\n      <th>y_test_predicted</th>\n      <th>y_test</th>\n      <th>diff</th>\n    </tr>\n  </thead>\n  <tbody>\n    <tr>\n      <th>0</th>\n      <td>ES</td>\n      <td>100932167582</td>\n      <td>10191824</td>\n      <td>2024-10-14 15:51:51+00:00</td>\n      <td>2024-10-14 15:51:52+00:00</td>\n      <td>MOTORBIKE</td>\n      <td>2024-10-14 16:00:14.017000+00:00</td>\n      <td>2024-10-14 16:06:55+00:00</td>\n      <td>2024-10-14 16:08:56+00:00</td>\n      <td>38.360110</td>\n      <td>...</td>\n      <td>0.669291</td>\n      <td>-0.008891</td>\n      <td>1817.533836</td>\n      <td>1817.533836</td>\n      <td>2562.964399</td>\n      <td>2024-10-14</td>\n      <td>ALC</td>\n      <td>408.655554</td>\n      <td>400.983</td>\n      <td>7.672554</td>\n    </tr>\n    <tr>\n      <th>1</th>\n      <td>ES</td>\n      <td>100932256816</td>\n      <td>50618208</td>\n      <td>2024-10-14 16:36:30+00:00</td>\n      <td>2024-10-14 16:36:31+00:00</td>\n      <td>CAR</td>\n      <td>2024-10-14 16:45:53.061000+00:00</td>\n      <td>2024-10-14 16:53:56+00:00</td>\n      <td>2024-10-14 16:56:21+00:00</td>\n      <td>38.354233</td>\n      <td>...</td>\n      <td>0.669490</td>\n      <td>-0.008349</td>\n      <td>757.291206</td>\n      <td>757.291206</td>\n      <td>1071.856530</td>\n      <td>2024-10-14</td>\n      <td>ALC</td>\n      <td>305.455921</td>\n      <td>482.939</td>\n      <td>-177.483079</td>\n    </tr>\n    <tr>\n      <th>2</th>\n      <td>ES</td>\n      <td>100932496959</td>\n      <td>170202435</td>\n      <td>2024-10-14 18:26:33+00:00</td>\n      <td>2024-10-14 18:26:34+00:00</td>\n      <td>MOTORBIKE</td>\n      <td>2024-10-14 18:35:05.220000+00:00</td>\n      <td>2024-10-14 18:41:32+00:00</td>\n      <td>2024-10-14 18:43:20+00:00</td>\n      <td>38.429874</td>\n      <td>...</td>\n      <td>0.670951</td>\n      <td>-0.006570</td>\n      <td>2541.011986</td>\n      <td>2541.011986</td>\n      <td>3531.016499</td>\n      <td>2024-10-14</td>\n      <td>ALC</td>\n      <td>571.322878</td>\n      <td>386.780</td>\n      <td>184.542878</td>\n    </tr>\n    <tr>\n      <th>3</th>\n      <td>ES</td>\n      <td>100932664161</td>\n      <td>166731686</td>\n      <td>2024-10-14 19:30:57+00:00</td>\n      <td>2024-10-14 19:30:59+00:00</td>\n      <td>CAR</td>\n      <td>2024-10-14 19:58:06.210000+00:00</td>\n      <td>2024-10-14 20:03:31+00:00</td>\n      <td>2024-10-14 20:04:48+00:00</td>\n      <td>38.398090</td>\n      <td>...</td>\n      <td>0.670373</td>\n      <td>-0.007686</td>\n      <td>1432.008005</td>\n      <td>1432.008005</td>\n      <td>1931.872080</td>\n      <td>2024-10-14</td>\n      <td>ALC</td>\n      <td>577.605181</td>\n      <td>324.790</td>\n      <td>252.815181</td>\n    </tr>\n    <tr>\n      <th>4</th>\n      <td>ES</td>\n      <td>100932854728</td>\n      <td>168741567</td>\n      <td>2024-10-14 20:35:29+00:00</td>\n      <td>2024-10-14 20:35:30+00:00</td>\n      <td>CAR</td>\n      <td>2024-10-14 20:57:11.030000+00:00</td>\n      <td>2024-10-14 21:00:16+00:00</td>\n      <td>2024-10-14 21:04:55+00:00</td>\n      <td>38.355713</td>\n      <td>...</td>\n      <td>0.669508</td>\n      <td>-0.008358</td>\n      <td>477.653498</td>\n      <td>477.653498</td>\n      <td>544.529748</td>\n      <td>2024-10-14</td>\n      <td>ALC</td>\n      <td>192.663123</td>\n      <td>184.970</td>\n      <td>7.693123</td>\n    </tr>\n    <tr>\n      <th>...</th>\n      <td>...</td>\n      <td>...</td>\n      <td>...</td>\n      <td>...</td>\n      <td>...</td>\n      <td>...</td>\n      <td>...</td>\n      <td>...</td>\n      <td>...</td>\n      <td>...</td>\n      <td>...</td>\n      <td>...</td>\n      <td>...</td>\n      <td>...</td>\n      <td>...</td>\n      <td>...</td>\n      <td>...</td>\n      <td>...</td>\n      <td>...</td>\n      <td>...</td>\n      <td>...</td>\n    </tr>\n    <tr>\n      <th>294448</th>\n      <td>ES</td>\n      <td>100944396594</td>\n      <td>162589110</td>\n      <td>2024-10-20 00:29:03+00:00</td>\n      <td>2024-10-20 00:29:05+00:00</td>\n      <td>MOTORBIKE</td>\n      <td>2024-10-20 00:45:18.179000+00:00</td>\n      <td>2024-10-20 00:45:29+00:00</td>\n      <td>2024-10-20 00:49:49+00:00</td>\n      <td>37.387287</td>\n      <td>...</td>\n      <td>0.652634</td>\n      <td>-0.104717</td>\n      <td>658.065844</td>\n      <td>658.065844</td>\n      <td>723.774987</td>\n      <td>2024-10-20</td>\n      <td>SEV</td>\n      <td>147.959976</td>\n      <td>10.821</td>\n      <td>137.138976</td>\n    </tr>\n    <tr>\n      <th>294449</th>\n      <td>ES</td>\n      <td>100944419727</td>\n      <td>166315820</td>\n      <td>2024-10-20 01:04:34+00:00</td>\n      <td>2024-10-20 01:04:34+00:00</td>\n      <td>MOTORBIKE</td>\n      <td>2024-10-20 01:20:19.227000+00:00</td>\n      <td>2024-10-20 01:38:37+00:00</td>\n      <td>2024-10-20 01:41:15+00:00</td>\n      <td>37.390736</td>\n      <td>...</td>\n      <td>0.652395</td>\n      <td>-0.105635</td>\n      <td>2282.778223</td>\n      <td>2282.778223</td>\n      <td>3163.270265</td>\n      <td>2024-10-20</td>\n      <td>SEV</td>\n      <td>513.261421</td>\n      <td>1097.773</td>\n      <td>-584.511579</td>\n    </tr>\n    <tr>\n      <th>294450</th>\n      <td>ES</td>\n      <td>100944420043</td>\n      <td>54073235</td>\n      <td>2024-10-20 01:05:07+00:00</td>\n      <td>2024-10-20 01:05:08+00:00</td>\n      <td>BICYCLE</td>\n      <td>2024-10-20 01:20:37.382000+00:00</td>\n      <td>2024-10-20 01:31:33+00:00</td>\n      <td>2024-10-20 01:32:15+00:00</td>\n      <td>37.381660</td>\n      <td>...</td>\n      <td>0.652289</td>\n      <td>-0.104303</td>\n      <td>1909.884215</td>\n      <td>1909.884215</td>\n      <td>2594.306316</td>\n      <td>2024-10-20</td>\n      <td>SEV</td>\n      <td>627.701320</td>\n      <td>655.618</td>\n      <td>-27.916680</td>\n    </tr>\n    <tr>\n      <th>294451</th>\n      <td>ES</td>\n      <td>100944442019</td>\n      <td>176937248</td>\n      <td>2024-10-20 01:52:02+00:00</td>\n      <td>2024-10-20 01:52:03+00:00</td>\n      <td>BICYCLE</td>\n      <td>2024-10-20 02:03:27.694000+00:00</td>\n      <td>2024-10-20 02:06:03+00:00</td>\n      <td>2024-10-20 02:08:10+00:00</td>\n      <td>37.381660</td>\n      <td>...</td>\n      <td>0.652397</td>\n      <td>-0.104685</td>\n      <td>344.207294</td>\n      <td>344.207294</td>\n      <td>486.272035</td>\n      <td>2024-10-20</td>\n      <td>SEV</td>\n      <td>113.126948</td>\n      <td>155.306</td>\n      <td>-42.179052</td>\n    </tr>\n    <tr>\n      <th>294452</th>\n      <td>ES</td>\n      <td>100944429020</td>\n      <td>177365485</td>\n      <td>2024-10-20 01:22:22+00:00</td>\n      <td>2024-10-20 01:22:24+00:00</td>\n      <td>BICYCLE</td>\n      <td>2024-10-20 01:26:50.732000+00:00</td>\n      <td>2024-10-20 01:33:02+00:00</td>\n      <td>2024-10-20 01:33:49+00:00</td>\n      <td>37.377640</td>\n      <td>...</td>\n      <td>0.652338</td>\n      <td>-0.104664</td>\n      <td>465.768645</td>\n      <td>465.768645</td>\n      <td>595.324438</td>\n      <td>2024-10-20</td>\n      <td>SEV</td>\n      <td>153.079224</td>\n      <td>371.268</td>\n      <td>-218.188776</td>\n    </tr>\n  </tbody>\n</table>\n<p>294453 rows × 29 columns</p>\n</div>"
     },
     "execution_count": 27,
     "metadata": {},
     "output_type": "execute_result"
    }
   ],
   "source": [
    "X_test_expanded2 = X_test.copy()\n",
    "X_test_expanded2['y_test_predicted'] = model_bl_mean.predict(X_test)\n",
    "X_test_expanded2['y_test'] = (X_test_expanded2['delivery_entering_timestamp'] - X_test_expanded2['pickup_timestamp']).dt.total_seconds()\n",
    "X_test_expanded2['diff'] = X_test_expanded2['y_test_predicted'] - X_test_expanded2['y_test']\n",
    "X_test_expanded2"
   ]
  },
  {
   "cell_type": "code",
   "execution_count": 28,
   "id": "d7329630cd310504",
   "metadata": {
    "collapsed": false,
    "ExecuteTime": {
     "end_time": "2024-11-28T11:13:26.373369Z",
     "start_time": "2024-11-28T11:13:26.348596Z"
    }
   },
   "outputs": [
    {
     "data": {
      "text/plain": "0    408.655554\nName: pickup_to_delivery_predicted, dtype: float64"
     },
     "execution_count": 28,
     "metadata": {},
     "output_type": "execute_result"
    }
   ],
   "source": [
    "model_bl_mean.predict(X_test.iloc[0])"
   ]
  },
  {
   "cell_type": "markdown",
   "id": "b65c835da4563a72",
   "metadata": {
    "collapsed": false
   },
   "source": [
    "## Evaluation pipeline"
   ]
  },
  {
   "cell_type": "code",
   "execution_count": 29,
   "id": "92356bab8168e738",
   "metadata": {
    "collapsed": false,
    "ExecuteTime": {
     "end_time": "2024-11-28T11:13:46.246930Z",
     "start_time": "2024-11-28T11:13:26.355820Z"
    }
   },
   "outputs": [
    {
     "name": "stdout",
     "output_type": "stream",
     "text": [
      "y_hat <class 'pandas.core.series.Series'> float64\n",
      "y_test <class 'pandas.core.series.Series'> float64\n"
     ]
    },
    {
     "data": {
      "text/plain": "(np.float64(145.70644138823334), np.float64(52878.81809555446))"
     },
     "execution_count": 29,
     "metadata": {},
     "output_type": "execute_result"
    }
   ],
   "source": [
    "model_bl_sum.evaluate(X_test, y_test)"
   ]
  },
  {
   "cell_type": "code",
   "execution_count": 30,
   "id": "d06a05c54e737f56",
   "metadata": {
    "collapsed": false,
    "ExecuteTime": {
     "end_time": "2024-11-28T11:16:00.618681Z",
     "start_time": "2024-11-28T11:15:42.964622Z"
    }
   },
   "outputs": [
    {
     "data": {
      "text/plain": "(np.float64(162.83365419593642), np.float64(65601.18015357893))"
     },
     "execution_count": 30,
     "metadata": {},
     "output_type": "execute_result"
    }
   ],
   "source": [
    "model_bl_mean.evaluate(X_test, y_test)"
   ]
  },
  {
   "cell_type": "markdown",
   "id": "917c211d4ba0e732",
   "metadata": {
    "collapsed": false
   },
   "source": [
    "## Linear Model"
   ]
  },
  {
   "cell_type": "code",
   "execution_count": 31,
   "id": "52fd6a83d81004d2",
   "metadata": {
    "collapsed": false,
    "ExecuteTime": {
     "end_time": "2024-11-28T11:16:04.689649Z",
     "start_time": "2024-11-28T11:16:00.699354Z"
    }
   },
   "outputs": [
    {
     "ename": "ValueError",
     "evalue": "could not convert string to float: 'ES'",
     "output_type": "error",
     "traceback": [
      "\u001B[0;31m---------------------------------------------------------------------------\u001B[0m",
      "\u001B[0;31mValueError\u001B[0m                                Traceback (most recent call last)",
      "Cell \u001B[0;32mIn[31], line 2\u001B[0m\n\u001B[1;32m      1\u001B[0m model_linear \u001B[38;5;241m=\u001B[39m LinearModel()\n\u001B[0;32m----> 2\u001B[0m \u001B[43mmodel_linear\u001B[49m\u001B[38;5;241;43m.\u001B[39;49m\u001B[43mfit\u001B[49m\u001B[43m(\u001B[49m\u001B[43mX_train\u001B[49m\u001B[43m,\u001B[49m\u001B[43m \u001B[49m\u001B[43my_train\u001B[49m\u001B[43m)\u001B[49m\n",
      "File \u001B[0;32m~/Documents/GitHub/pickup-to-delivery-overall/estimator.py:201\u001B[0m, in \u001B[0;36mLinearModel.fit\u001B[0;34m(self, X_train, y_train)\u001B[0m\n\u001B[1;32m    199\u001B[0m \u001B[38;5;28mself\u001B[39m\u001B[38;5;241m.\u001B[39mX_train \u001B[38;5;241m=\u001B[39m X_train\n\u001B[1;32m    200\u001B[0m \u001B[38;5;28mself\u001B[39m\u001B[38;5;241m.\u001B[39my_train \u001B[38;5;241m=\u001B[39m y_train\n\u001B[0;32m--> 201\u001B[0m reg \u001B[38;5;241m=\u001B[39m \u001B[43mLinearRegression\u001B[49m\u001B[43m(\u001B[49m\u001B[43m)\u001B[49m\u001B[38;5;241;43m.\u001B[39;49m\u001B[43mfit\u001B[49m\u001B[43m(\u001B[49m\u001B[43mX_train\u001B[49m\u001B[43m,\u001B[49m\u001B[43m \u001B[49m\u001B[43my_train\u001B[49m\u001B[43m)\u001B[49m\n\u001B[1;32m    202\u001B[0m \u001B[38;5;28mself\u001B[39m\u001B[38;5;241m.\u001B[39mtheta \u001B[38;5;241m=\u001B[39m reg\n\u001B[1;32m    203\u001B[0m \u001B[38;5;28;01mreturn\u001B[39;00m \u001B[38;5;28mself\u001B[39m\n",
      "File \u001B[0;32m~/Documents/GitHub/pickup-to-delivery-overall/venv/lib/python3.12/site-packages/sklearn/base.py:1473\u001B[0m, in \u001B[0;36m_fit_context.<locals>.decorator.<locals>.wrapper\u001B[0;34m(estimator, *args, **kwargs)\u001B[0m\n\u001B[1;32m   1466\u001B[0m     estimator\u001B[38;5;241m.\u001B[39m_validate_params()\n\u001B[1;32m   1468\u001B[0m \u001B[38;5;28;01mwith\u001B[39;00m config_context(\n\u001B[1;32m   1469\u001B[0m     skip_parameter_validation\u001B[38;5;241m=\u001B[39m(\n\u001B[1;32m   1470\u001B[0m         prefer_skip_nested_validation \u001B[38;5;129;01mor\u001B[39;00m global_skip_validation\n\u001B[1;32m   1471\u001B[0m     )\n\u001B[1;32m   1472\u001B[0m ):\n\u001B[0;32m-> 1473\u001B[0m     \u001B[38;5;28;01mreturn\u001B[39;00m \u001B[43mfit_method\u001B[49m\u001B[43m(\u001B[49m\u001B[43mestimator\u001B[49m\u001B[43m,\u001B[49m\u001B[43m \u001B[49m\u001B[38;5;241;43m*\u001B[39;49m\u001B[43margs\u001B[49m\u001B[43m,\u001B[49m\u001B[43m \u001B[49m\u001B[38;5;241;43m*\u001B[39;49m\u001B[38;5;241;43m*\u001B[39;49m\u001B[43mkwargs\u001B[49m\u001B[43m)\u001B[49m\n",
      "File \u001B[0;32m~/Documents/GitHub/pickup-to-delivery-overall/venv/lib/python3.12/site-packages/sklearn/linear_model/_base.py:629\u001B[0m, in \u001B[0;36mLinearRegression.fit\u001B[0;34m(self, X, y, sample_weight)\u001B[0m\n\u001B[1;32m    624\u001B[0m \u001B[38;5;66;03m# Note that neither _rescale_data nor the rest of the fit method of\u001B[39;00m\n\u001B[1;32m    625\u001B[0m \u001B[38;5;66;03m# LinearRegression can benefit from in-place operations when X is a\u001B[39;00m\n\u001B[1;32m    626\u001B[0m \u001B[38;5;66;03m# sparse matrix. Therefore, let's not copy X when it is sparse.\u001B[39;00m\n\u001B[1;32m    627\u001B[0m copy_X_in_preprocess_data \u001B[38;5;241m=\u001B[39m \u001B[38;5;28mself\u001B[39m\u001B[38;5;241m.\u001B[39mcopy_X \u001B[38;5;129;01mand\u001B[39;00m \u001B[38;5;129;01mnot\u001B[39;00m sp\u001B[38;5;241m.\u001B[39missparse(X)\n\u001B[0;32m--> 629\u001B[0m X, y, X_offset, y_offset, X_scale \u001B[38;5;241m=\u001B[39m \u001B[43m_preprocess_data\u001B[49m\u001B[43m(\u001B[49m\n\u001B[1;32m    630\u001B[0m \u001B[43m    \u001B[49m\u001B[43mX\u001B[49m\u001B[43m,\u001B[49m\n\u001B[1;32m    631\u001B[0m \u001B[43m    \u001B[49m\u001B[43my\u001B[49m\u001B[43m,\u001B[49m\n\u001B[1;32m    632\u001B[0m \u001B[43m    \u001B[49m\u001B[43mfit_intercept\u001B[49m\u001B[38;5;241;43m=\u001B[39;49m\u001B[38;5;28;43mself\u001B[39;49m\u001B[38;5;241;43m.\u001B[39;49m\u001B[43mfit_intercept\u001B[49m\u001B[43m,\u001B[49m\n\u001B[1;32m    633\u001B[0m \u001B[43m    \u001B[49m\u001B[43mcopy\u001B[49m\u001B[38;5;241;43m=\u001B[39;49m\u001B[43mcopy_X_in_preprocess_data\u001B[49m\u001B[43m,\u001B[49m\n\u001B[1;32m    634\u001B[0m \u001B[43m    \u001B[49m\u001B[43msample_weight\u001B[49m\u001B[38;5;241;43m=\u001B[39;49m\u001B[43msample_weight\u001B[49m\u001B[43m,\u001B[49m\n\u001B[1;32m    635\u001B[0m \u001B[43m\u001B[49m\u001B[43m)\u001B[49m\n\u001B[1;32m    637\u001B[0m \u001B[38;5;28;01mif\u001B[39;00m has_sw:\n\u001B[1;32m    638\u001B[0m     \u001B[38;5;66;03m# Sample weight can be implemented via a simple rescaling. Note\u001B[39;00m\n\u001B[1;32m    639\u001B[0m     \u001B[38;5;66;03m# that we safely do inplace rescaling when _preprocess_data has\u001B[39;00m\n\u001B[1;32m    640\u001B[0m     \u001B[38;5;66;03m# already made a copy if requested.\u001B[39;00m\n\u001B[1;32m    641\u001B[0m     X, y, sample_weight_sqrt \u001B[38;5;241m=\u001B[39m _rescale_data(\n\u001B[1;32m    642\u001B[0m         X, y, sample_weight, inplace\u001B[38;5;241m=\u001B[39mcopy_X_in_preprocess_data\n\u001B[1;32m    643\u001B[0m     )\n",
      "File \u001B[0;32m~/Documents/GitHub/pickup-to-delivery-overall/venv/lib/python3.12/site-packages/sklearn/linear_model/_base.py:175\u001B[0m, in \u001B[0;36m_preprocess_data\u001B[0;34m(X, y, fit_intercept, copy, copy_y, sample_weight, check_input)\u001B[0m\n\u001B[1;32m    172\u001B[0m     sample_weight \u001B[38;5;241m=\u001B[39m xp\u001B[38;5;241m.\u001B[39masarray(sample_weight)\n\u001B[1;32m    174\u001B[0m \u001B[38;5;28;01mif\u001B[39;00m check_input:\n\u001B[0;32m--> 175\u001B[0m     X \u001B[38;5;241m=\u001B[39m \u001B[43mcheck_array\u001B[49m\u001B[43m(\u001B[49m\n\u001B[1;32m    176\u001B[0m \u001B[43m        \u001B[49m\u001B[43mX\u001B[49m\u001B[43m,\u001B[49m\u001B[43m \u001B[49m\u001B[43mcopy\u001B[49m\u001B[38;5;241;43m=\u001B[39;49m\u001B[43mcopy\u001B[49m\u001B[43m,\u001B[49m\u001B[43m \u001B[49m\u001B[43maccept_sparse\u001B[49m\u001B[38;5;241;43m=\u001B[39;49m\u001B[43m[\u001B[49m\u001B[38;5;124;43m\"\u001B[39;49m\u001B[38;5;124;43mcsr\u001B[39;49m\u001B[38;5;124;43m\"\u001B[39;49m\u001B[43m,\u001B[49m\u001B[43m \u001B[49m\u001B[38;5;124;43m\"\u001B[39;49m\u001B[38;5;124;43mcsc\u001B[39;49m\u001B[38;5;124;43m\"\u001B[39;49m\u001B[43m]\u001B[49m\u001B[43m,\u001B[49m\u001B[43m \u001B[49m\u001B[43mdtype\u001B[49m\u001B[38;5;241;43m=\u001B[39;49m\u001B[43msupported_float_dtypes\u001B[49m\u001B[43m(\u001B[49m\u001B[43mxp\u001B[49m\u001B[43m)\u001B[49m\n\u001B[1;32m    177\u001B[0m \u001B[43m    \u001B[49m\u001B[43m)\u001B[49m\n\u001B[1;32m    178\u001B[0m     y \u001B[38;5;241m=\u001B[39m check_array(y, dtype\u001B[38;5;241m=\u001B[39mX\u001B[38;5;241m.\u001B[39mdtype, copy\u001B[38;5;241m=\u001B[39mcopy_y, ensure_2d\u001B[38;5;241m=\u001B[39m\u001B[38;5;28;01mFalse\u001B[39;00m)\n\u001B[1;32m    179\u001B[0m \u001B[38;5;28;01melse\u001B[39;00m:\n",
      "File \u001B[0;32m~/Documents/GitHub/pickup-to-delivery-overall/venv/lib/python3.12/site-packages/sklearn/utils/validation.py:1012\u001B[0m, in \u001B[0;36mcheck_array\u001B[0;34m(array, accept_sparse, accept_large_sparse, dtype, order, copy, force_writeable, force_all_finite, ensure_2d, allow_nd, ensure_min_samples, ensure_min_features, estimator, input_name)\u001B[0m\n\u001B[1;32m   1010\u001B[0m         array \u001B[38;5;241m=\u001B[39m xp\u001B[38;5;241m.\u001B[39mastype(array, dtype, copy\u001B[38;5;241m=\u001B[39m\u001B[38;5;28;01mFalse\u001B[39;00m)\n\u001B[1;32m   1011\u001B[0m     \u001B[38;5;28;01melse\u001B[39;00m:\n\u001B[0;32m-> 1012\u001B[0m         array \u001B[38;5;241m=\u001B[39m \u001B[43m_asarray_with_order\u001B[49m\u001B[43m(\u001B[49m\u001B[43marray\u001B[49m\u001B[43m,\u001B[49m\u001B[43m \u001B[49m\u001B[43morder\u001B[49m\u001B[38;5;241;43m=\u001B[39;49m\u001B[43morder\u001B[49m\u001B[43m,\u001B[49m\u001B[43m \u001B[49m\u001B[43mdtype\u001B[49m\u001B[38;5;241;43m=\u001B[39;49m\u001B[43mdtype\u001B[49m\u001B[43m,\u001B[49m\u001B[43m \u001B[49m\u001B[43mxp\u001B[49m\u001B[38;5;241;43m=\u001B[39;49m\u001B[43mxp\u001B[49m\u001B[43m)\u001B[49m\n\u001B[1;32m   1013\u001B[0m \u001B[38;5;28;01mexcept\u001B[39;00m ComplexWarning \u001B[38;5;28;01mas\u001B[39;00m complex_warning:\n\u001B[1;32m   1014\u001B[0m     \u001B[38;5;28;01mraise\u001B[39;00m \u001B[38;5;167;01mValueError\u001B[39;00m(\n\u001B[1;32m   1015\u001B[0m         \u001B[38;5;124m\"\u001B[39m\u001B[38;5;124mComplex data not supported\u001B[39m\u001B[38;5;130;01m\\n\u001B[39;00m\u001B[38;5;132;01m{}\u001B[39;00m\u001B[38;5;130;01m\\n\u001B[39;00m\u001B[38;5;124m\"\u001B[39m\u001B[38;5;241m.\u001B[39mformat(array)\n\u001B[1;32m   1016\u001B[0m     ) \u001B[38;5;28;01mfrom\u001B[39;00m \u001B[38;5;21;01mcomplex_warning\u001B[39;00m\n",
      "File \u001B[0;32m~/Documents/GitHub/pickup-to-delivery-overall/venv/lib/python3.12/site-packages/sklearn/utils/_array_api.py:745\u001B[0m, in \u001B[0;36m_asarray_with_order\u001B[0;34m(array, dtype, order, copy, xp, device)\u001B[0m\n\u001B[1;32m    743\u001B[0m     array \u001B[38;5;241m=\u001B[39m numpy\u001B[38;5;241m.\u001B[39marray(array, order\u001B[38;5;241m=\u001B[39morder, dtype\u001B[38;5;241m=\u001B[39mdtype)\n\u001B[1;32m    744\u001B[0m \u001B[38;5;28;01melse\u001B[39;00m:\n\u001B[0;32m--> 745\u001B[0m     array \u001B[38;5;241m=\u001B[39m \u001B[43mnumpy\u001B[49m\u001B[38;5;241;43m.\u001B[39;49m\u001B[43masarray\u001B[49m\u001B[43m(\u001B[49m\u001B[43marray\u001B[49m\u001B[43m,\u001B[49m\u001B[43m \u001B[49m\u001B[43morder\u001B[49m\u001B[38;5;241;43m=\u001B[39;49m\u001B[43morder\u001B[49m\u001B[43m,\u001B[49m\u001B[43m \u001B[49m\u001B[43mdtype\u001B[49m\u001B[38;5;241;43m=\u001B[39;49m\u001B[43mdtype\u001B[49m\u001B[43m)\u001B[49m\n\u001B[1;32m    747\u001B[0m \u001B[38;5;66;03m# At this point array is a NumPy ndarray. We convert it to an array\u001B[39;00m\n\u001B[1;32m    748\u001B[0m \u001B[38;5;66;03m# container that is consistent with the input's namespace.\u001B[39;00m\n\u001B[1;32m    749\u001B[0m \u001B[38;5;28;01mreturn\u001B[39;00m xp\u001B[38;5;241m.\u001B[39masarray(array)\n",
      "\u001B[0;31mValueError\u001B[0m: could not convert string to float: 'ES'"
     ]
    }
   ],
   "source": [
    "model_linear = LinearModel()\n",
    "model_linear.fit(X_train, y_train)"
   ]
  },
  {
   "cell_type": "code",
   "execution_count": null,
   "id": "2e466c1357db9ecc",
   "metadata": {
    "collapsed": false,
    "ExecuteTime": {
     "end_time": "2024-11-28T11:16:04.697537Z",
     "start_time": "2024-11-28T11:16:04.690291Z"
    }
   },
   "outputs": [],
   "source": [
    "X_test_expanded3 = X_test.copy()\n",
    "X_test_expanded3['y_test_predicted'] = model_linear.predict(X_test)\n",
    "X_test_expanded3['y_test'] = (X_test_expanded3['delivery_entering_timestamp'] - X_test_expanded3['pickup_timestamp']).dt.total_seconds()\n",
    "X_test_expanded3['diff'] = X_test_expanded['y_test_predicted'] - X_test_expanded3['y_test']\n",
    "X_test_expanded3"
   ]
  },
  {
   "cell_type": "code",
   "execution_count": null,
   "id": "cd65b11375e85284",
   "metadata": {
    "collapsed": false,
    "ExecuteTime": {
     "start_time": "2024-11-28T11:16:04.691755Z"
    }
   },
   "outputs": [],
   "source": [
    "model_linear.predict(X_test.iloc[0])"
   ]
  },
  {
   "cell_type": "code",
   "execution_count": null,
   "id": "af9facbc14adebf3",
   "metadata": {
    "collapsed": false,
    "ExecuteTime": {
     "start_time": "2024-11-28T11:16:04.693091Z"
    }
   },
   "outputs": [],
   "source": [
    "model_linear.evaluate(X_test, y_test)"
   ]
  }
 ],
 "metadata": {
  "kernelspec": {
   "display_name": "venv",
   "language": "python",
   "name": "python3"
  },
  "language_info": {
   "codemirror_mode": {
    "name": "ipython",
    "version": 3
   },
   "file_extension": ".py",
   "mimetype": "text/x-python",
   "name": "python",
   "nbconvert_exporter": "python",
   "pygments_lexer": "ipython3",
   "version": "3.12.0"
  }
 },
 "nbformat": 4,
 "nbformat_minor": 5
}
