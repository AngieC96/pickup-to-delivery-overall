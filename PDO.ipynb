{
 "cells": [
  {
   "cell_type": "markdown",
   "source": [
    "# Pickup to Delivery Overall"
   ],
   "metadata": {
    "collapsed": false
   },
   "id": "24ad314bf282ec83"
  },
  {
   "cell_type": "code",
   "outputs": [],
   "source": [
    "import os\n",
    "import sys\n",
    "import warnings\n",
    "import pandas as pd\n",
    "import numpy as np\n",
    "import csv\n",
    "import pickle\n",
    "import matplotlib.pyplot as plt\n",
    "from haversine import haversine, Unit\n",
    "from sklearn.metrics.pairwise import haversine_distances, manhattan_distances\n",
    "from sklearn.model_selection import train_test_split, cross_val_score\n",
    "\n",
    "sys.path.insert(0, os.path.expanduser('./'))\n",
    "import query_runner as qr\n",
    "import utils"
   ],
   "metadata": {
    "collapsed": false,
    "ExecuteTime": {
     "end_time": "2024-10-23T10:40:16.084825Z",
     "start_time": "2024-10-23T10:40:10.515533Z"
    }
   },
   "id": "cb71195be0f3a22f",
   "execution_count": 1
  },
  {
   "cell_type": "code",
   "outputs": [],
   "source": [
    "base_query_path = './queries/'\n",
    "dwh_config, livedb_config, parameters_config = utils.load_config(config_file='./config.ini')\n",
    "datalake_connection = qr.create_connection(db='datalake')\n",
    "#monolith_connection = qr.create_connection(user=livedb_config['monolith_username'], password=livedb_config['monolith_password'], db='livedb')\n",
    "#dispatching_db_connection = qr.create_connection(user=livedb_config['dispatching_db_username'], password=livedb_config['dispatching_db_password'], db='dispatchingdb')"
   ],
   "metadata": {
    "collapsed": false,
    "ExecuteTime": {
     "end_time": "2024-10-23T10:40:16.102708Z",
     "start_time": "2024-10-23T10:40:16.087604Z"
    }
   },
   "id": "52eb5fbdb862edbe",
   "execution_count": 2
  },
  {
   "cell_type": "code",
   "outputs": [
    {
     "name": "stdout",
     "output_type": "stream",
     "text": [
      "Start date: 2024-09-30 | End date: 2024-10-20 | Countries: ES | Cities: 'MAD', 'BCN', 'SEV', 'ALC'\n"
     ]
    }
   ],
   "source": [
    "start_date = parameters_config['start_date']\n",
    "end_date = parameters_config['end_date']\n",
    "country_code = parameters_config['country_code']\n",
    "cities = parameters_config['cities']\n",
    "\n",
    "print(f'Start date: {start_date} | End date: {end_date} | Countries: {country_code} | Cities: {cities}')"
   ],
   "metadata": {
    "collapsed": false,
    "ExecuteTime": {
     "end_time": "2024-10-23T10:40:16.107946Z",
     "start_time": "2024-10-23T10:40:16.100806Z"
    }
   },
   "id": "f26eb0ba80de7f8e",
   "execution_count": 3
  },
  {
   "cell_type": "code",
   "outputs": [],
   "source": [
    "parameters = {\n",
    "    'start_date': start_date,\n",
    "    'end_date': end_date,\n",
    "    'country_code': country_code,\n",
    "    'cities': cities\n",
    "}"
   ],
   "metadata": {
    "collapsed": false,
    "ExecuteTime": {
     "end_time": "2024-10-23T10:40:16.171361Z",
     "start_time": "2024-10-23T10:40:16.108833Z"
    }
   },
   "id": "e3c251ccf4f2beb1",
   "execution_count": 4
  },
  {
   "cell_type": "markdown",
   "source": [
    "## Load the data"
   ],
   "metadata": {
    "collapsed": false
   },
   "id": "3c0d6dbf6375ce8"
  },
  {
   "cell_type": "code",
   "outputs": [
    {
     "name": "stdout",
     "output_type": "stream",
     "text": [
      "Open the following URL in browser for the external authentication:\n",
      "https://starburst.g8s-data-platform-prod.glovoint.com/oauth2/token/initiate/26578b11012706ca1c9e26727310675e872c61c059273c78d95c40bd00850af2\n"
     ]
    },
    {
     "data": {
      "text/plain": "  country_code city_code      order_id  courier_id        creation_timestamp  \\\n0           ES       BCN  100907487116     8590944 2024-10-03 20:55:02+00:00   \n1           ES       MAD  100907489425   162535288 2024-10-03 20:55:43+00:00   \n2           ES       BCN  100907493124   146788593 2024-10-03 20:56:48+00:00   \n3           ES       MAD  100907498582    45695767 2024-10-03 20:58:25+00:00   \n4           ES       MAD  100907503468   166385377 2024-10-03 20:59:51+00:00   \n\n       activation_timestamp  transport                 pickup_timestamp  \\\n0 2024-10-03 20:55:04+00:00    BICYCLE 2024-10-03 21:21:44.215000+00:00   \n1 2024-10-03 20:55:44+00:00    BICYCLE 2024-10-03 21:07:40.941000+00:00   \n2 2024-10-03 20:56:49+00:00    BICYCLE 2024-10-03 21:07:40.560000+00:00   \n3 2024-10-03 20:58:26+00:00  MOTORBIKE 2024-10-03 21:08:59.224000+00:00   \n4 2024-10-03 20:59:53+00:00  MOTORBIKE 2024-10-03 21:09:49.060000+00:00   \n\n         delivery_timestamp  pickup_latitude  pickup_longitude  \\\n0 2024-10-03 21:32:33+00:00        41.370594          2.113433   \n1 2024-10-03 21:19:10+00:00        40.382927         -3.626392   \n2 2024-10-03 21:14:30+00:00        41.389874          2.159761   \n3 2024-10-03 21:14:21+00:00        40.409720         -3.670494   \n4 2024-10-03 21:20:30+00:00        40.433780         -3.683620   \n\n   delivery_latitude  delivery_longitude delivery_entering_timestamp  \\\n0          41.375412            2.104837   2024-10-03 21:29:37+00:00   \n1          40.383490           -3.640969   2024-10-03 21:16:09+00:00   \n2          41.390520            2.148718   2024-10-03 21:12:00+00:00   \n3          40.412880           -3.671840   2024-10-03 21:11:21+00:00   \n4          40.430176           -3.673502   2024-10-03 21:16:45+00:00   \n\n       time_zone p_creation_date  \n0  Europe/Madrid      2024-10-03  \n1  Europe/Madrid      2024-10-03  \n2  Europe/Madrid      2024-10-03  \n3  Europe/Madrid      2024-10-03  \n4  Europe/Madrid      2024-10-03  ",
      "text/html": "<div>\n<style scoped>\n    .dataframe tbody tr th:only-of-type {\n        vertical-align: middle;\n    }\n\n    .dataframe tbody tr th {\n        vertical-align: top;\n    }\n\n    .dataframe thead th {\n        text-align: right;\n    }\n</style>\n<table border=\"1\" class=\"dataframe\">\n  <thead>\n    <tr style=\"text-align: right;\">\n      <th></th>\n      <th>country_code</th>\n      <th>city_code</th>\n      <th>order_id</th>\n      <th>courier_id</th>\n      <th>creation_timestamp</th>\n      <th>activation_timestamp</th>\n      <th>transport</th>\n      <th>pickup_timestamp</th>\n      <th>delivery_timestamp</th>\n      <th>pickup_latitude</th>\n      <th>pickup_longitude</th>\n      <th>delivery_latitude</th>\n      <th>delivery_longitude</th>\n      <th>delivery_entering_timestamp</th>\n      <th>time_zone</th>\n      <th>p_creation_date</th>\n    </tr>\n  </thead>\n  <tbody>\n    <tr>\n      <th>0</th>\n      <td>ES</td>\n      <td>BCN</td>\n      <td>100907487116</td>\n      <td>8590944</td>\n      <td>2024-10-03 20:55:02+00:00</td>\n      <td>2024-10-03 20:55:04+00:00</td>\n      <td>BICYCLE</td>\n      <td>2024-10-03 21:21:44.215000+00:00</td>\n      <td>2024-10-03 21:32:33+00:00</td>\n      <td>41.370594</td>\n      <td>2.113433</td>\n      <td>41.375412</td>\n      <td>2.104837</td>\n      <td>2024-10-03 21:29:37+00:00</td>\n      <td>Europe/Madrid</td>\n      <td>2024-10-03</td>\n    </tr>\n    <tr>\n      <th>1</th>\n      <td>ES</td>\n      <td>MAD</td>\n      <td>100907489425</td>\n      <td>162535288</td>\n      <td>2024-10-03 20:55:43+00:00</td>\n      <td>2024-10-03 20:55:44+00:00</td>\n      <td>BICYCLE</td>\n      <td>2024-10-03 21:07:40.941000+00:00</td>\n      <td>2024-10-03 21:19:10+00:00</td>\n      <td>40.382927</td>\n      <td>-3.626392</td>\n      <td>40.383490</td>\n      <td>-3.640969</td>\n      <td>2024-10-03 21:16:09+00:00</td>\n      <td>Europe/Madrid</td>\n      <td>2024-10-03</td>\n    </tr>\n    <tr>\n      <th>2</th>\n      <td>ES</td>\n      <td>BCN</td>\n      <td>100907493124</td>\n      <td>146788593</td>\n      <td>2024-10-03 20:56:48+00:00</td>\n      <td>2024-10-03 20:56:49+00:00</td>\n      <td>BICYCLE</td>\n      <td>2024-10-03 21:07:40.560000+00:00</td>\n      <td>2024-10-03 21:14:30+00:00</td>\n      <td>41.389874</td>\n      <td>2.159761</td>\n      <td>41.390520</td>\n      <td>2.148718</td>\n      <td>2024-10-03 21:12:00+00:00</td>\n      <td>Europe/Madrid</td>\n      <td>2024-10-03</td>\n    </tr>\n    <tr>\n      <th>3</th>\n      <td>ES</td>\n      <td>MAD</td>\n      <td>100907498582</td>\n      <td>45695767</td>\n      <td>2024-10-03 20:58:25+00:00</td>\n      <td>2024-10-03 20:58:26+00:00</td>\n      <td>MOTORBIKE</td>\n      <td>2024-10-03 21:08:59.224000+00:00</td>\n      <td>2024-10-03 21:14:21+00:00</td>\n      <td>40.409720</td>\n      <td>-3.670494</td>\n      <td>40.412880</td>\n      <td>-3.671840</td>\n      <td>2024-10-03 21:11:21+00:00</td>\n      <td>Europe/Madrid</td>\n      <td>2024-10-03</td>\n    </tr>\n    <tr>\n      <th>4</th>\n      <td>ES</td>\n      <td>MAD</td>\n      <td>100907503468</td>\n      <td>166385377</td>\n      <td>2024-10-03 20:59:51+00:00</td>\n      <td>2024-10-03 20:59:53+00:00</td>\n      <td>MOTORBIKE</td>\n      <td>2024-10-03 21:09:49.060000+00:00</td>\n      <td>2024-10-03 21:20:30+00:00</td>\n      <td>40.433780</td>\n      <td>-3.683620</td>\n      <td>40.430176</td>\n      <td>-3.673502</td>\n      <td>2024-10-03 21:16:45+00:00</td>\n      <td>Europe/Madrid</td>\n      <td>2024-10-03</td>\n    </tr>\n  </tbody>\n</table>\n</div>"
     },
     "execution_count": 5,
     "metadata": {},
     "output_type": "execute_result"
    }
   ],
   "source": [
    "query_name = '''\n",
    "SELECT\n",
    "    olf.country_code                                 AS country_code,\n",
    "    olf.city_code                                    AS city_code,\n",
    "    olf.order_id                                     AS order_id,\n",
    "    olf.courier_id                                   AS courier_id,\n",
    "    olf.order_created_local_datetime                 AS creation_timestamp,\n",
    "    olf.order_activated_local_datetime               AS activation_timestamp,\n",
    "    olf.courier_transport                            AS transport,\n",
    "    olf.order_picked_up_local_datetime               AS pickup_timestamp,\n",
    "    olf.order_delivered_local_datetime               AS delivery_timestamp,\n",
    "    olf.order_pickup_latitude                        AS pickup_latitude,\n",
    "    olf.order_pickup_longitude                       AS pickup_longitude,\n",
    "    olf.order_delivery_latitude                      AS delivery_latitude,\n",
    "    olf.order_delivery_longitude                     AS delivery_longitude,\n",
    "    olf.order_arrival_to_delivery_local_datetime     AS delivery_entering_timestamp,\n",
    "    olf.order_time_zone                              AS time_zone,\n",
    "    olf.p_creation_date\n",
    "FROM delta.courier_routing_courier_ml_features_odp.order_level_features AS olf\n",
    "WHERE order_final_status = 'DeliveredStatus'\n",
    "    AND order_number_of_assignments = 1\n",
    "    AND order_bundle_index IS NULL\n",
    "    AND p_creation_date >= DATE '[start_date]' AND p_creation_date < DATE '[end_date]'\n",
    "    AND country_code IN ('[country_code]')\n",
    "    AND city_code IN ([cities])\n",
    "'''\n",
    "\n",
    "query = qr.Query(base_query_path, query_name, datalake_connection, parameters_dict=parameters, query_from_file = False)\n",
    "\n",
    "df = query.run()\n",
    "df = df.fillna(value=np.nan)\n",
    "\n",
    "data = df.copy()\n",
    "data.head()"
   ],
   "metadata": {
    "collapsed": false,
    "ExecuteTime": {
     "end_time": "2024-10-23T10:41:32.466263Z",
     "start_time": "2024-10-23T10:40:16.120404Z"
    }
   },
   "id": "1de21fec65a3d1b1",
   "execution_count": 5
  },
  {
   "cell_type": "markdown",
   "source": [
    "## Clean the dataset"
   ],
   "metadata": {
    "collapsed": false
   },
   "id": "cb60e56ce9b31a2"
  },
  {
   "cell_type": "code",
   "outputs": [
    {
     "name": "stdout",
     "output_type": "stream",
     "text": [
      "<class 'pandas.core.frame.DataFrame'>\n",
      "Index: 987012 entries, 0 to 87011\n",
      "Data columns (total 16 columns):\n",
      " #   Column                       Non-Null Count   Dtype              \n",
      "---  ------                       --------------   -----              \n",
      " 0   country_code                 987012 non-null  object             \n",
      " 1   city_code                    987012 non-null  object             \n",
      " 2   order_id                     987012 non-null  int64              \n",
      " 3   courier_id                   987012 non-null  int64              \n",
      " 4   creation_timestamp           987012 non-null  datetime64[ns, UTC]\n",
      " 5   activation_timestamp         987012 non-null  datetime64[ns, UTC]\n",
      " 6   transport                    987012 non-null  object             \n",
      " 7   pickup_timestamp             986757 non-null  datetime64[ns, UTC]\n",
      " 8   delivery_timestamp           987012 non-null  datetime64[ns, UTC]\n",
      " 9   pickup_latitude              987012 non-null  float64            \n",
      " 10  pickup_longitude             987012 non-null  float64            \n",
      " 11  delivery_latitude            987012 non-null  float64            \n",
      " 12  delivery_longitude           987012 non-null  float64            \n",
      " 13  delivery_entering_timestamp  972471 non-null  datetime64[ns, UTC]\n",
      " 14  time_zone                    987012 non-null  object             \n",
      " 15  p_creation_date              987012 non-null  object             \n",
      "dtypes: datetime64[ns, UTC](5), float64(4), int64(2), object(5)\n",
      "memory usage: 128.0+ MB\n"
     ]
    }
   ],
   "source": [
    "data.info()"
   ],
   "metadata": {
    "collapsed": false,
    "ExecuteTime": {
     "end_time": "2024-10-23T10:41:33.072353Z",
     "start_time": "2024-10-23T10:41:32.467969Z"
    }
   },
   "id": "3269019e5c025a9d",
   "execution_count": 6
  },
  {
   "cell_type": "code",
   "outputs": [
    {
     "data": {
      "text/plain": "           order_id    courier_id  pickup_latitude  pickup_longitude  \\\ncount  9.870120e+05  9.870120e+05    987012.000000     987012.000000   \nmean   1.009222e+11  1.218706e+08        40.673782         -0.851254   \nstd    1.301628e+07  5.590163e+07         0.993792          3.003208   \nmin    1.008998e+11  1.127770e+05        37.282646         -6.085188   \n25%    1.009108e+11  7.241826e+07        40.426132         -3.690008   \n50%    1.009222e+11  1.482987e+08        40.530730         -0.483401   \n75%    1.009337e+11  1.670841e+08        41.393280          2.159965   \nmax    1.009444e+11  1.796540e+08        41.483086          2.268973   \n\n       delivery_latitude  delivery_longitude  \ncount      987012.000000       987012.000000  \nmean           40.674140           -0.851210  \nstd             0.993963            3.002620  \nmin            37.260975           -6.100339  \n25%            40.426205           -3.689353  \n50%            40.528835           -0.483956  \n75%            41.394840            2.159824  \nmax            41.562153            2.277824  ",
      "text/html": "<div>\n<style scoped>\n    .dataframe tbody tr th:only-of-type {\n        vertical-align: middle;\n    }\n\n    .dataframe tbody tr th {\n        vertical-align: top;\n    }\n\n    .dataframe thead th {\n        text-align: right;\n    }\n</style>\n<table border=\"1\" class=\"dataframe\">\n  <thead>\n    <tr style=\"text-align: right;\">\n      <th></th>\n      <th>order_id</th>\n      <th>courier_id</th>\n      <th>pickup_latitude</th>\n      <th>pickup_longitude</th>\n      <th>delivery_latitude</th>\n      <th>delivery_longitude</th>\n    </tr>\n  </thead>\n  <tbody>\n    <tr>\n      <th>count</th>\n      <td>9.870120e+05</td>\n      <td>9.870120e+05</td>\n      <td>987012.000000</td>\n      <td>987012.000000</td>\n      <td>987012.000000</td>\n      <td>987012.000000</td>\n    </tr>\n    <tr>\n      <th>mean</th>\n      <td>1.009222e+11</td>\n      <td>1.218706e+08</td>\n      <td>40.673782</td>\n      <td>-0.851254</td>\n      <td>40.674140</td>\n      <td>-0.851210</td>\n    </tr>\n    <tr>\n      <th>std</th>\n      <td>1.301628e+07</td>\n      <td>5.590163e+07</td>\n      <td>0.993792</td>\n      <td>3.003208</td>\n      <td>0.993963</td>\n      <td>3.002620</td>\n    </tr>\n    <tr>\n      <th>min</th>\n      <td>1.008998e+11</td>\n      <td>1.127770e+05</td>\n      <td>37.282646</td>\n      <td>-6.085188</td>\n      <td>37.260975</td>\n      <td>-6.100339</td>\n    </tr>\n    <tr>\n      <th>25%</th>\n      <td>1.009108e+11</td>\n      <td>7.241826e+07</td>\n      <td>40.426132</td>\n      <td>-3.690008</td>\n      <td>40.426205</td>\n      <td>-3.689353</td>\n    </tr>\n    <tr>\n      <th>50%</th>\n      <td>1.009222e+11</td>\n      <td>1.482987e+08</td>\n      <td>40.530730</td>\n      <td>-0.483401</td>\n      <td>40.528835</td>\n      <td>-0.483956</td>\n    </tr>\n    <tr>\n      <th>75%</th>\n      <td>1.009337e+11</td>\n      <td>1.670841e+08</td>\n      <td>41.393280</td>\n      <td>2.159965</td>\n      <td>41.394840</td>\n      <td>2.159824</td>\n    </tr>\n    <tr>\n      <th>max</th>\n      <td>1.009444e+11</td>\n      <td>1.796540e+08</td>\n      <td>41.483086</td>\n      <td>2.268973</td>\n      <td>41.562153</td>\n      <td>2.277824</td>\n    </tr>\n  </tbody>\n</table>\n</div>"
     },
     "execution_count": 7,
     "metadata": {},
     "output_type": "execute_result"
    }
   ],
   "source": [
    "data.describe()"
   ],
   "metadata": {
    "collapsed": false,
    "ExecuteTime": {
     "end_time": "2024-10-23T10:41:33.395010Z",
     "start_time": "2024-10-23T10:41:32.841642Z"
    }
   },
   "id": "4ad7421cf883f255",
   "execution_count": 7
  },
  {
   "cell_type": "code",
   "outputs": [
    {
     "data": {
      "text/plain": "country_code                       0\ncity_code                          0\norder_id                           0\ncourier_id                         0\ncreation_timestamp                 0\nactivation_timestamp               0\ntransport                          0\npickup_timestamp                 255\ndelivery_timestamp                 0\npickup_latitude                    0\npickup_longitude                   0\ndelivery_latitude                  0\ndelivery_longitude                 0\ndelivery_entering_timestamp    14541\ntime_zone                          0\np_creation_date                    0\ndtype: int64"
     },
     "execution_count": 8,
     "metadata": {},
     "output_type": "execute_result"
    }
   ],
   "source": [
    "# Check for missing values\n",
    "data.isnull().sum()"
   ],
   "metadata": {
    "collapsed": false,
    "ExecuteTime": {
     "end_time": "2024-10-23T10:41:34.059959Z",
     "start_time": "2024-10-23T10:41:33.351220Z"
    }
   },
   "id": "1df8f7cd6a104940",
   "execution_count": 8
  },
  {
   "cell_type": "code",
   "outputs": [],
   "source": [
    "# Remove rows with null values: we have many rows, so we can afford to remove them\n",
    "data = data.dropna()"
   ],
   "metadata": {
    "collapsed": false,
    "ExecuteTime": {
     "end_time": "2024-10-23T10:41:35.158787Z",
     "start_time": "2024-10-23T10:41:33.904601Z"
    }
   },
   "id": "21a2d084be3ddfe8",
   "execution_count": 9
  },
  {
   "cell_type": "code",
   "outputs": [
    {
     "data": {
      "text/plain": "country_code                   0\ncity_code                      0\norder_id                       0\ncourier_id                     0\ncreation_timestamp             0\nactivation_timestamp           0\ntransport                      0\npickup_timestamp               0\ndelivery_timestamp             0\npickup_latitude                0\npickup_longitude               0\ndelivery_latitude              0\ndelivery_longitude             0\ndelivery_entering_timestamp    0\ntime_zone                      0\np_creation_date                0\ndtype: int64"
     },
     "execution_count": 10,
     "metadata": {},
     "output_type": "execute_result"
    }
   ],
   "source": [
    "# Check for missing values\n",
    "data.isnull().sum()"
   ],
   "metadata": {
    "collapsed": false,
    "ExecuteTime": {
     "end_time": "2024-10-23T10:41:35.812985Z",
     "start_time": "2024-10-23T10:41:35.163121Z"
    }
   },
   "id": "fea941235b67758e",
   "execution_count": 10
  },
  {
   "cell_type": "code",
   "outputs": [
    {
     "data": {
      "text/plain": "np.int64(0)"
     },
     "execution_count": 11,
     "metadata": {},
     "output_type": "execute_result"
    }
   ],
   "source": [
    "# Check for duplicates\n",
    "data.duplicated().sum()"
   ],
   "metadata": {
    "collapsed": false,
    "ExecuteTime": {
     "end_time": "2024-10-23T10:41:38.050186Z",
     "start_time": "2024-10-23T10:41:35.701390Z"
    }
   },
   "id": "83402ad003b2989e",
   "execution_count": 11
  },
  {
   "cell_type": "markdown",
   "source": [
    "## Compute new features"
   ],
   "metadata": {
    "collapsed": false
   },
   "id": "9be4b81e03b7586"
  },
  {
   "cell_type": "code",
   "outputs": [],
   "source": [
    "# Convert the creation time to datetime\n",
    "data['creation_timestamp'] = pd.to_datetime(data['creation_timestamp'])\n",
    "data['activation_timestamp'] = pd.to_datetime(data['activation_timestamp'])\n",
    "data['pickup_timestamp'] = pd.to_datetime(data['pickup_timestamp'])\n",
    "data['delivery_timestamp'] = pd.to_datetime(data['delivery_timestamp'])\n",
    "data['delivery_entering_timestamp'] = pd.to_datetime(data['delivery_entering_timestamp'])\n",
    "\n",
    "# Compute the delivery date and the delivery time\n",
    "data['creation_date'] = data['creation_timestamp'].dt.date\n",
    "data['creation_time'] = data['creation_timestamp'].dt.time\n",
    "data['creation_hour'] = data['creation_timestamp'].dt.hour"
   ],
   "metadata": {
    "collapsed": false,
    "ExecuteTime": {
     "end_time": "2024-10-23T10:41:38.766970Z",
     "start_time": "2024-10-23T10:41:38.042320Z"
    }
   },
   "id": "80163d0a54873861",
   "execution_count": 12
  },
  {
   "cell_type": "markdown",
   "source": [
    "To determine whether a coordinate is in degrees or radians, you can consider the typical ranges and values for latitude and longitude:\n",
    "1. **Degrees:**\n",
    "   - Latitude ranges from -90 to 90 degrees.\n",
    "   - Longitude ranges from -180 to 180 degrees.\n",
    "   - Values are typically whole numbers or decimals within these ranges.\n",
    "2. **Radians:**\n",
    "   - Latitude and longitude in radians will range from approximately -π/2 to π/2 for latitude and -π to π for longitude.\n",
    "   - Values are typically small decimals (e.g., 0.5, 1.0, etc.).\n",
    "\n",
    "Given our dataset, as the values in the columns `pickup_latitude`, `pickup_longitude`, `delivery_latitude`, `delivery_longitude` fall within the typical range for degrees, it is safe to assume that these coordinates are in degrees.\n",
    "\n",
    "There is a difference in how the `haversine` library, the `sklearn`'s `haversine_distances`, and the `sklearn`'s `manhattan_distances` function compute and return the distances. Let's break down the differences and how to resolve them:\n",
    "1. **Haversine Library:**\n",
    "   - The `haversine` library directly computes the distance between two points and returns a single scalar value.\n",
    "2. **Sklearn's `haversine_distances`:**\n",
    "   - The `haversine_distances` function from `sklearn` returns a distance matrix. When you input two points, it returns a 1x1 matrix (a nested list) containing the distance. This is why you would see the result in squared parentheses like `[[]]`. We extract the single value using `[0][0]`.\n",
    "   - To use these coordinates with sklearn's `haversine_distances` function, you need to convert them to radians using `np.radians`.\n",
    "   - Additionally, the `haversine_distances` function returns the distance in radians, not in meters. To convert this to meters, you need to multiply by the Earth's radius (approximately 6371000 meters).\n",
    "3. **Sklearn's `manhattan_distances`:**\n",
    "   - The `manhattan_distances` function computes the Manhattan distance between two points and returns a distance matrix. We extract the single value from the 1x1 matrix using `[0][0]`.\n",
    "   - Additionally, the `manhattan_distances` function from sklearn computes the distance based on the Cartesian coordinates provided. Since latitude and longitude are angular measurements, the result will not be in meters but in degrees. To convert the Manhattan distance from degrees to meters, you need to account for the Earth's curvature. \n",
    "      - The conversion factor for latitude is approximately 111,320 meters per degree.\n",
    "      - The conversion factor for longitude varies based on the latitude. At the equator, it's approximately 111,320 meters per degree, but it decreases as you move towards the poles.\n",
    "      - Convert the latitude and longitude differences to meters.\n",
    "      - Sum the absolute differences to get the Manhattan distance in meters."
   ],
   "metadata": {
    "collapsed": false
   },
   "id": "7b6ea1be09344c80"
  },
  {
   "cell_type": "code",
   "outputs": [],
   "source": [
    "# Convert degrees to radians\n",
    "data['pickup_latitude_rad'] = np.radians(data['pickup_latitude'])\n",
    "data['pickup_longitude_rad'] = np.radians(data['pickup_longitude'])\n",
    "data['delivery_latitude_rad'] = np.radians(data['delivery_latitude'])\n",
    "data['delivery_longitude_rad'] = np.radians(data['delivery_longitude'])\n",
    "\n",
    "# Earth's radius in meters\n",
    "earth_radius_m = 6371.0088 * 1000  # average earth radius - https://en.wikipedia.org/wiki/Earth_radius#Mean_radius\n",
    "\n",
    "# Conversion factors\n",
    "meters_per_degree_lat = 111320  # Approximate meters per degree of latitude\n",
    "\n",
    "def manhattan_distance_in_meters(row):\n",
    "    # Convert latitude and longitude differences to meters\n",
    "    lat_diff_m = abs(row['pickup_latitude'] - row['delivery_latitude']) * meters_per_degree_lat\n",
    "    # Convert longitude difference to meters, considering the latitude\n",
    "    lon_diff_m = abs(row['pickup_longitude'] - row['delivery_longitude']) * meters_per_degree_lat * np.cos(np.radians((row['pickup_latitude'] + row['delivery_latitude']) / 2))\n",
    "    # Sum the absolute differences to get the Manhattan distance in meters\n",
    "    return lat_diff_m + lon_diff_m"
   ],
   "metadata": {
    "collapsed": false,
    "ExecuteTime": {
     "end_time": "2024-10-23T10:41:38.817538Z",
     "start_time": "2024-10-23T10:41:38.765250Z"
    }
   },
   "id": "808ab1bc4476de8a",
   "execution_count": 13
  },
  {
   "cell_type": "code",
   "outputs": [
    {
     "data": {
      "text/plain": "  country_code city_code      order_id  courier_id        creation_timestamp  \\\n0           ES       BCN  100907487116     8590944 2024-10-03 20:55:02+00:00   \n1           ES       MAD  100907489425   162535288 2024-10-03 20:55:43+00:00   \n2           ES       BCN  100907493124   146788593 2024-10-03 20:56:48+00:00   \n3           ES       MAD  100907498582    45695767 2024-10-03 20:58:25+00:00   \n4           ES       MAD  100907503468   166385377 2024-10-03 20:59:51+00:00   \n\n       activation_timestamp  transport                 pickup_timestamp  \\\n0 2024-10-03 20:55:04+00:00    BICYCLE 2024-10-03 21:21:44.215000+00:00   \n1 2024-10-03 20:55:44+00:00    BICYCLE 2024-10-03 21:07:40.941000+00:00   \n2 2024-10-03 20:56:49+00:00    BICYCLE 2024-10-03 21:07:40.560000+00:00   \n3 2024-10-03 20:58:26+00:00  MOTORBIKE 2024-10-03 21:08:59.224000+00:00   \n4 2024-10-03 20:59:53+00:00  MOTORBIKE 2024-10-03 21:09:49.060000+00:00   \n\n         delivery_timestamp  pickup_latitude  ...  creation_date  \\\n0 2024-10-03 21:32:33+00:00        41.370594  ...     2024-10-03   \n1 2024-10-03 21:19:10+00:00        40.382927  ...     2024-10-03   \n2 2024-10-03 21:14:30+00:00        41.389874  ...     2024-10-03   \n3 2024-10-03 21:14:21+00:00        40.409720  ...     2024-10-03   \n4 2024-10-03 21:20:30+00:00        40.433780  ...     2024-10-03   \n\n   creation_time  creation_hour pickup_latitude_rad pickup_longitude_rad  \\\n0       20:55:02             20            0.722053             0.036886   \n1       20:55:43             20            0.704815            -0.063292   \n2       20:56:48             20            0.722390             0.037695   \n3       20:58:25             20            0.705283            -0.064062   \n4       20:59:51             20            0.705703            -0.064291   \n\n  delivery_latitude_rad delivery_longitude_rad pd_distance_haversine_m  \\\n0              0.722137               0.036736              895.267385   \n1              0.704825              -0.063547             1236.264251   \n2              0.722401               0.037502              924.017061   \n3              0.705338              -0.064086              369.394256   \n4              0.705640              -0.064115              945.506113   \n\n   pd_distance_haversine_m_sk  pd_distance_manhattan_m  \n0                  895.267385              1254.424177  \n1                 1236.264251              1298.738405  \n2                  924.017061               994.168407  \n3                  369.394256               465.858447  \n4                  945.506113              1258.537546  \n\n[5 rows x 26 columns]",
      "text/html": "<div>\n<style scoped>\n    .dataframe tbody tr th:only-of-type {\n        vertical-align: middle;\n    }\n\n    .dataframe tbody tr th {\n        vertical-align: top;\n    }\n\n    .dataframe thead th {\n        text-align: right;\n    }\n</style>\n<table border=\"1\" class=\"dataframe\">\n  <thead>\n    <tr style=\"text-align: right;\">\n      <th></th>\n      <th>country_code</th>\n      <th>city_code</th>\n      <th>order_id</th>\n      <th>courier_id</th>\n      <th>creation_timestamp</th>\n      <th>activation_timestamp</th>\n      <th>transport</th>\n      <th>pickup_timestamp</th>\n      <th>delivery_timestamp</th>\n      <th>pickup_latitude</th>\n      <th>...</th>\n      <th>creation_date</th>\n      <th>creation_time</th>\n      <th>creation_hour</th>\n      <th>pickup_latitude_rad</th>\n      <th>pickup_longitude_rad</th>\n      <th>delivery_latitude_rad</th>\n      <th>delivery_longitude_rad</th>\n      <th>pd_distance_haversine_m</th>\n      <th>pd_distance_haversine_m_sk</th>\n      <th>pd_distance_manhattan_m</th>\n    </tr>\n  </thead>\n  <tbody>\n    <tr>\n      <th>0</th>\n      <td>ES</td>\n      <td>BCN</td>\n      <td>100907487116</td>\n      <td>8590944</td>\n      <td>2024-10-03 20:55:02+00:00</td>\n      <td>2024-10-03 20:55:04+00:00</td>\n      <td>BICYCLE</td>\n      <td>2024-10-03 21:21:44.215000+00:00</td>\n      <td>2024-10-03 21:32:33+00:00</td>\n      <td>41.370594</td>\n      <td>...</td>\n      <td>2024-10-03</td>\n      <td>20:55:02</td>\n      <td>20</td>\n      <td>0.722053</td>\n      <td>0.036886</td>\n      <td>0.722137</td>\n      <td>0.036736</td>\n      <td>895.267385</td>\n      <td>895.267385</td>\n      <td>1254.424177</td>\n    </tr>\n    <tr>\n      <th>1</th>\n      <td>ES</td>\n      <td>MAD</td>\n      <td>100907489425</td>\n      <td>162535288</td>\n      <td>2024-10-03 20:55:43+00:00</td>\n      <td>2024-10-03 20:55:44+00:00</td>\n      <td>BICYCLE</td>\n      <td>2024-10-03 21:07:40.941000+00:00</td>\n      <td>2024-10-03 21:19:10+00:00</td>\n      <td>40.382927</td>\n      <td>...</td>\n      <td>2024-10-03</td>\n      <td>20:55:43</td>\n      <td>20</td>\n      <td>0.704815</td>\n      <td>-0.063292</td>\n      <td>0.704825</td>\n      <td>-0.063547</td>\n      <td>1236.264251</td>\n      <td>1236.264251</td>\n      <td>1298.738405</td>\n    </tr>\n    <tr>\n      <th>2</th>\n      <td>ES</td>\n      <td>BCN</td>\n      <td>100907493124</td>\n      <td>146788593</td>\n      <td>2024-10-03 20:56:48+00:00</td>\n      <td>2024-10-03 20:56:49+00:00</td>\n      <td>BICYCLE</td>\n      <td>2024-10-03 21:07:40.560000+00:00</td>\n      <td>2024-10-03 21:14:30+00:00</td>\n      <td>41.389874</td>\n      <td>...</td>\n      <td>2024-10-03</td>\n      <td>20:56:48</td>\n      <td>20</td>\n      <td>0.722390</td>\n      <td>0.037695</td>\n      <td>0.722401</td>\n      <td>0.037502</td>\n      <td>924.017061</td>\n      <td>924.017061</td>\n      <td>994.168407</td>\n    </tr>\n    <tr>\n      <th>3</th>\n      <td>ES</td>\n      <td>MAD</td>\n      <td>100907498582</td>\n      <td>45695767</td>\n      <td>2024-10-03 20:58:25+00:00</td>\n      <td>2024-10-03 20:58:26+00:00</td>\n      <td>MOTORBIKE</td>\n      <td>2024-10-03 21:08:59.224000+00:00</td>\n      <td>2024-10-03 21:14:21+00:00</td>\n      <td>40.409720</td>\n      <td>...</td>\n      <td>2024-10-03</td>\n      <td>20:58:25</td>\n      <td>20</td>\n      <td>0.705283</td>\n      <td>-0.064062</td>\n      <td>0.705338</td>\n      <td>-0.064086</td>\n      <td>369.394256</td>\n      <td>369.394256</td>\n      <td>465.858447</td>\n    </tr>\n    <tr>\n      <th>4</th>\n      <td>ES</td>\n      <td>MAD</td>\n      <td>100907503468</td>\n      <td>166385377</td>\n      <td>2024-10-03 20:59:51+00:00</td>\n      <td>2024-10-03 20:59:53+00:00</td>\n      <td>MOTORBIKE</td>\n      <td>2024-10-03 21:09:49.060000+00:00</td>\n      <td>2024-10-03 21:20:30+00:00</td>\n      <td>40.433780</td>\n      <td>...</td>\n      <td>2024-10-03</td>\n      <td>20:59:51</td>\n      <td>20</td>\n      <td>0.705703</td>\n      <td>-0.064291</td>\n      <td>0.705640</td>\n      <td>-0.064115</td>\n      <td>945.506113</td>\n      <td>945.506113</td>\n      <td>1258.537546</td>\n    </tr>\n  </tbody>\n</table>\n<p>5 rows × 26 columns</p>\n</div>"
     },
     "execution_count": 14,
     "metadata": {},
     "output_type": "execute_result"
    }
   ],
   "source": [
    "data['pd_distance_haversine_m'] = data.apply(\n",
    "    lambda x: haversine(\n",
    "        (x['pickup_latitude'], x['pickup_longitude']),\n",
    "        (x['delivery_latitude'], x['delivery_longitude']),\n",
    "        unit=Unit.METERS\n",
    "    ), axis=1\n",
    ")\n",
    "data['pd_distance_haversine_m_sk'] = data.apply(\n",
    "    lambda x: haversine_distances(\n",
    "        np.array([[x['pickup_latitude_rad'], x['pickup_longitude_rad']]]),\n",
    "        np.array([[x['delivery_latitude_rad'], x['delivery_longitude_rad']]])\n",
    "    )[0][0] * earth_radius_m, axis=1\n",
    ")\n",
    "data['pd_distance_manhattan_m'] = data.apply(manhattan_distance_in_meters, axis=1)\n",
    "data.head()"
   ],
   "metadata": {
    "collapsed": false,
    "ExecuteTime": {
     "end_time": "2024-10-23T10:47:09.656871Z",
     "start_time": "2024-10-23T10:41:38.799211Z"
    }
   },
   "id": "c93468fe8bc656f1",
   "execution_count": 14
  },
  {
   "cell_type": "markdown",
   "source": [
    "## Save the dataset"
   ],
   "metadata": {
    "collapsed": false
   },
   "id": "5da7791843042776"
  },
  {
   "cell_type": "raw",
   "source": [
    "data.to_pickle(\"data/dataframe.pkl\")"
   ],
   "metadata": {
    "collapsed": false
   },
   "id": "400dcfe4569bd3da"
  },
  {
   "cell_type": "markdown",
   "source": [
    "It's better to use the parquet format, as it is more efficient and faster to read and write. Besides, it is a columnar format, which is more suitable for analytical queries. We can also partition the data by creation date and city, which will help to speed up the queries and allows to analyze different timeframes and different cities if needed."
   ],
   "metadata": {
    "collapsed": false
   },
   "id": "2da57697f71fdf68"
  },
  {
   "cell_type": "code",
   "outputs": [],
   "source": [
    "data.to_parquet(\"data/dataframe.parquet\", partition_cols=['creation_date', 'city_code'])"
   ],
   "metadata": {
    "collapsed": false,
    "ExecuteTime": {
     "end_time": "2024-10-23T10:47:12.595187Z",
     "start_time": "2024-10-23T10:47:09.656800Z"
    }
   },
   "id": "4a357e3ed80c39b1",
   "execution_count": 15
  },
  {
   "cell_type": "markdown",
   "source": [
    "## Exploratory Data Analysis (EDA)"
   ],
   "metadata": {
    "collapsed": false
   },
   "id": "9f700ca8f9a310ca"
  },
  {
   "cell_type": "raw",
   "source": [
    "data = pd.read_pickle(\"data/dataframe.pkl\")"
   ],
   "metadata": {
    "collapsed": false
   },
   "id": "f459d6342f561915"
  },
  {
   "cell_type": "code",
   "outputs": [],
   "source": [
    "data = pd.read_parquet(\"data/dataframe.parquet\")"
   ],
   "metadata": {
    "collapsed": false,
    "ExecuteTime": {
     "end_time": "2024-10-23T10:47:13.849843Z",
     "start_time": "2024-10-23T10:47:12.596587Z"
    }
   },
   "id": "5ecce593d1c02912",
   "execution_count": 16
  },
  {
   "cell_type": "code",
   "outputs": [
    {
     "data": {
      "text/plain": "<Figure size 1500x800 with 1 Axes>",
      "image/png": "[encoded data removed]"
     },
     "metadata": {},
     "output_type": "display_data"
    }
   ],
   "source": [
    "# Histogram of the # of data per day / hour\n",
    "plt.figure(figsize=(15, 8))\n",
    "plt.hist(data['creation_timestamp'], bins = 1000)\n",
    "plt.title('Histogram of the # of data per day / hour')\n",
    "plt.xlabel('Day / Hour')\n",
    "plt.ylabel('Frequency')\n",
    "plt.show()"
   ],
   "metadata": {
    "collapsed": false,
    "ExecuteTime": {
     "end_time": "2024-10-23T10:47:32.684358Z",
     "start_time": "2024-10-23T10:47:13.851155Z"
    }
   },
   "id": "71786bb2d8f08ad7",
   "execution_count": 17
  },
  {
   "cell_type": "code",
   "outputs": [
    {
     "data": {
      "text/plain": "<Figure size 1500x800 with 1 Axes>",
      "image/png": "[encoded data removed]"
     },
     "metadata": {},
     "output_type": "display_data"
    }
   ],
   "source": [
    "plt.figure(figsize=(15, 8))\n",
    "plt.hist(data['creation_date'], bins = 14)\n",
    "plt.title('Histogram of the # of data per day')\n",
    "plt.xlabel('Day')\n",
    "plt.ylabel('Frequency')\n",
    "plt.show()"
   ],
   "metadata": {
    "collapsed": false,
    "ExecuteTime": {
     "end_time": "2024-10-23T10:47:33.386230Z",
     "start_time": "2024-10-23T10:47:32.692325Z"
    }
   },
   "id": "9b49b7bdfaf6dc14",
   "execution_count": 18
  },
  {
   "cell_type": "code",
   "outputs": [
    {
     "data": {
      "text/plain": "<Figure size 1500x800 with 1 Axes>",
      "image/png": "[encoded data removed]"
     },
     "metadata": {},
     "output_type": "display_data"
    }
   ],
   "source": [
    "plt.figure(figsize=(15, 8))\n",
    "plt.hist(data['creation_hour'])\n",
    "plt.title('Histogram of the # of data per hour')\n",
    "plt.xlabel('Hour')\n",
    "plt.ylabel('Frequency')\n",
    "plt.show()"
   ],
   "metadata": {
    "collapsed": false,
    "ExecuteTime": {
     "end_time": "2024-10-23T10:47:33.661873Z",
     "start_time": "2024-10-23T10:47:33.393863Z"
    }
   },
   "id": "76b3fb2c7e172f38",
   "execution_count": 19
  },
  {
   "cell_type": "code",
   "outputs": [
    {
     "data": {
      "text/plain": "transport\nBICYCLE      922590\nMOTORBIKE    786202\nCAR          235184\nWALKER          966\nName: count, dtype: int64"
     },
     "execution_count": 20,
     "metadata": {},
     "output_type": "execute_result"
    }
   ],
   "source": [
    "# Check the distribution of the transport types\n",
    "data['transport'].value_counts()"
   ],
   "metadata": {
    "collapsed": false,
    "ExecuteTime": {
     "end_time": "2024-10-23T10:47:33.751697Z",
     "start_time": "2024-10-23T10:47:33.747313Z"
    }
   },
   "id": "e5d0cbff51d0870",
   "execution_count": 20
  },
  {
   "cell_type": "code",
   "outputs": [
    {
     "data": {
      "text/plain": "<Figure size 1500x800 with 1 Axes>",
      "image/png": "[encoded data removed]"
     },
     "metadata": {},
     "output_type": "display_data"
    }
   ],
   "source": [
    "# Check the distribution of the distances\n",
    "plt.figure(figsize=(15, 8))\n",
    "plt.hist(data['pd_distance_haversine_m'], bins = 1000)\n",
    "plt.xlim(0, 10000)\n",
    "plt.title('Histogram of the distances')\n",
    "plt.xlabel('Distance (m)')\n",
    "plt.ylabel('Frequency')\n",
    "plt.show()"
   ],
   "metadata": {
    "collapsed": false,
    "ExecuteTime": {
     "end_time": "2024-10-23T10:47:34.822449Z",
     "start_time": "2024-10-23T10:47:33.764593Z"
    }
   },
   "id": "47fa4556b397ea7b",
   "execution_count": 21
  },
  {
   "cell_type": "markdown",
   "source": [
    "## Hyperparameters"
   ],
   "metadata": {
    "collapsed": false
   },
   "id": "b4f24b33b07b58e9"
  },
  {
   "cell_type": "code",
   "outputs": [],
   "source": [
    "test_set_perc = 0.1\n",
    "days_for_test = 7\n",
    "k_cv = 5"
   ],
   "metadata": {
    "collapsed": false,
    "ExecuteTime": {
     "end_time": "2024-10-23T10:47:34.835491Z",
     "start_time": "2024-10-23T10:47:34.823380Z"
    }
   },
   "id": "843f73749bdce7ee",
   "execution_count": 22
  },
  {
   "cell_type": "markdown",
   "source": [
    "## Database split"
   ],
   "metadata": {
    "collapsed": false
   },
   "id": "3aed5934e3c1f8f"
  },
  {
   "cell_type": "code",
   "outputs": [
    {
     "data": {
      "text/plain": "19770    779000000000\n19821    366918000000\n19862    331825000000\n19864    496886000000\n19868     87720000000\n             ...     \n68825    150065000000\n69405    558499000000\n69964    742575000000\n70230    786619000000\n70533    194149000000\nName: pickup_to_delivery, Length: 1944942, dtype: int64"
     },
     "execution_count": 23,
     "metadata": {},
     "output_type": "execute_result"
    }
   ],
   "source": [
    "X = data\n",
    "y = data['delivery_entering_timestamp'] - data['pickup_timestamp']\n",
    "y = pd.Series(y, name='pickup_to_delivery')\n",
    "y"
   ],
   "metadata": {
    "collapsed": false,
    "ExecuteTime": {
     "end_time": "2024-10-23T10:47:34.897286Z",
     "start_time": "2024-10-23T10:47:34.828267Z"
    }
   },
   "id": "2574aa199337f236",
   "execution_count": 23
  },
  {
   "cell_type": "markdown",
   "source": [
    "As we are dealing with a time-series dataset (orders are placed at different times), we will split the data based on the creation timestamp, leaving out the last 10% of the data for testing. This will help to understand the performance of the model on unseen data, as in reality we will have to test the model on data created on day+1 with respect to our training data."
   ],
   "metadata": {
    "collapsed": false
   },
   "id": "fc1bd6034ee61016"
  },
  {
   "cell_type": "code",
   "outputs": [],
   "source": [
    "X.sort_values('creation_timestamp', inplace=True)\n",
    "X_train, X_test, y_train, y_test = train_test_split(X, y, test_size=test_set_perc, random_state=0)"
   ],
   "metadata": {
    "collapsed": false,
    "ExecuteTime": {
     "end_time": "2024-10-23T10:47:36.769247Z",
     "start_time": "2024-10-23T10:47:34.858878Z"
    }
   },
   "id": "62cf1844840c2240",
   "execution_count": 24
  },
  {
   "cell_type": "code",
   "outputs": [
    {
     "data": {
      "text/plain": "      country_code      order_id  courier_id        creation_timestamp  \\\n53889           ES  100900277932   105015393 2024-09-30 13:39:56+00:00   \n70130           ES  100924350624   159558961 2024-10-11 14:32:22+00:00   \n88957           ES  100918768940   108223144 2024-10-08 19:14:04+00:00   \n4013            ES  100933843382   176973879 2024-10-15 14:07:29+00:00   \n13618           ES  100903345651    54241613 2024-10-01 21:05:21+00:00   \n...            ...           ...         ...                       ...   \n52473           ES  100903301229     8047290 2024-10-01 20:51:35+00:00   \n20076           ES  100922036918    74737414 2024-10-10 13:31:25+00:00   \n84994           ES  100902409871   147457017 2024-10-01 14:54:44+00:00   \n90858           ES  100934320697    88290470 2024-10-15 17:45:43+00:00   \n7013            ES  100906904216    26067019 2024-10-03 17:40:33+00:00   \n\n           activation_timestamp  transport                 pickup_timestamp  \\\n53889 2024-09-30 13:39:57+00:00    BICYCLE 2024-09-30 13:49:42.061000+00:00   \n70130 2024-10-11 14:32:22+00:00    BICYCLE 2024-10-11 14:41:53.789000+00:00   \n88957 2024-10-08 19:14:05+00:00    BICYCLE 2024-10-08 19:25:29.724000+00:00   \n4013  2024-10-15 14:07:30+00:00  MOTORBIKE 2024-10-15 14:14:04.332000+00:00   \n13618 2024-10-01 21:05:22+00:00    BICYCLE 2024-10-01 21:14:43.972000+00:00   \n...                         ...        ...                              ...   \n52473 2024-10-01 20:51:37+00:00        CAR 2024-10-01 20:59:18.960000+00:00   \n20076 2024-10-10 13:31:27+00:00  MOTORBIKE 2024-10-10 13:44:50.729000+00:00   \n84994 2024-10-01 14:54:45+00:00    BICYCLE 2024-10-01 15:01:14.898000+00:00   \n90858 2024-10-15 17:45:45+00:00    BICYCLE 2024-10-15 17:58:03.741000+00:00   \n7013  2024-10-03 17:40:36+00:00  MOTORBIKE 2024-10-03 17:55:33.404000+00:00   \n\n             delivery_timestamp  pickup_latitude  pickup_longitude  ...  \\\n53889 2024-09-30 14:01:30+00:00        41.429688          2.189959  ...   \n70130 2024-10-11 14:56:10+00:00        40.439228         -3.696312  ...   \n88957 2024-10-08 19:31:57+00:00        41.377300          2.097891  ...   \n4013  2024-10-15 14:19:40+00:00        41.429756          2.161242  ...   \n13618 2024-10-01 21:28:05+00:00        41.388300          2.140600  ...   \n...                         ...              ...               ...  ...   \n52473 2024-10-01 21:08:45+00:00        40.439373         -3.622343  ...   \n20076 2024-10-10 13:51:36+00:00        40.479706         -3.707206  ...   \n84994 2024-10-01 15:12:48+00:00        41.384686          2.168798  ...   \n90858 2024-10-15 18:10:37+00:00        41.398815          2.172954  ...   \n7013  2024-10-03 17:58:17+00:00        41.374462          2.116439  ...   \n\n       creation_hour  pickup_latitude_rad pickup_longitude_rad  \\\n53889             13                  NaN                  NaN   \n70130             14             0.705798            -0.064513   \n88957             19                  NaN                  NaN   \n4013              14                  NaN                  NaN   \n13618             21                  NaN                  NaN   \n...              ...                  ...                  ...   \n52473             20             0.705800            -0.063222   \n20076             13             0.706504            -0.064703   \n84994             14                  NaN                  NaN   \n90858             17             0.722546             0.037925   \n7013              17             0.722121             0.036939   \n\n      delivery_latitude_rad delivery_longitude_rad pd_distance_haversine_m  \\\n53889                   NaN                    NaN             1232.140153   \n70130              0.705801              -0.064849             1628.337647   \n88957                   NaN                    NaN              402.615391   \n4013                    NaN                    NaN              405.944675   \n13618                   NaN                    NaN             1739.745655   \n...                     ...                    ...                     ...   \n52473              0.705703              -0.062980             1323.654237   \n20076              0.706489              -0.064643              305.680635   \n84994                   NaN                    NaN             1396.602242   \n90858              0.722225               0.037800             2126.279603   \n7013               0.722106               0.036935               92.759921   \n\n       pd_distance_haversine_m_sk  pd_distance_manhattan_m  creation_date  \\\n53889                74505.358603              1744.172472     2024-09-30   \n70130                 1628.337647              1651.729837     2024-10-11   \n88957                24982.715455               569.277819     2024-10-08   \n4013                 23382.745650               484.022589     2024-10-15   \n13618               103623.455589              2389.313273     2024-10-01   \n...                           ...                      ...            ...   \n52473                 1323.654237              1790.127336     2024-10-01   \n20076                  305.680635               385.123128     2024-10-10   \n84994                83060.423915              1918.427079     2024-10-01   \n90858                 2126.279603              2641.752121     2024-10-15   \n7013                    92.759921               110.133865     2024-10-03   \n\n       city_code  \n53889        BCN  \n70130        MAD  \n88957        BCN  \n4013         BCN  \n13618        BCN  \n...          ...  \n52473        MAD  \n20076        MAD  \n84994        BCN  \n90858        BCN  \n7013         BCN  \n\n[1750447 rows x 26 columns]",
      "text/html": "<div>\n<style scoped>\n    .dataframe tbody tr th:only-of-type {\n        vertical-align: middle;\n    }\n\n    .dataframe tbody tr th {\n        vertical-align: top;\n    }\n\n    .dataframe thead th {\n        text-align: right;\n    }\n</style>\n<table border=\"1\" class=\"dataframe\">\n  <thead>\n    <tr style=\"text-align: right;\">\n      <th></th>\n      <th>country_code</th>\n      <th>order_id</th>\n      <th>courier_id</th>\n      <th>creation_timestamp</th>\n      <th>activation_timestamp</th>\n      <th>transport</th>\n      <th>pickup_timestamp</th>\n      <th>delivery_timestamp</th>\n      <th>pickup_latitude</th>\n      <th>pickup_longitude</th>\n      <th>...</th>\n      <th>creation_hour</th>\n      <th>pickup_latitude_rad</th>\n      <th>pickup_longitude_rad</th>\n      <th>delivery_latitude_rad</th>\n      <th>delivery_longitude_rad</th>\n      <th>pd_distance_haversine_m</th>\n      <th>pd_distance_haversine_m_sk</th>\n      <th>pd_distance_manhattan_m</th>\n      <th>creation_date</th>\n      <th>city_code</th>\n    </tr>\n  </thead>\n  <tbody>\n    <tr>\n      <th>53889</th>\n      <td>ES</td>\n      <td>100900277932</td>\n      <td>105015393</td>\n      <td>2024-09-30 13:39:56+00:00</td>\n      <td>2024-09-30 13:39:57+00:00</td>\n      <td>BICYCLE</td>\n      <td>2024-09-30 13:49:42.061000+00:00</td>\n      <td>2024-09-30 14:01:30+00:00</td>\n      <td>41.429688</td>\n      <td>2.189959</td>\n      <td>...</td>\n      <td>13</td>\n      <td>NaN</td>\n      <td>NaN</td>\n      <td>NaN</td>\n      <td>NaN</td>\n      <td>1232.140153</td>\n      <td>74505.358603</td>\n      <td>1744.172472</td>\n      <td>2024-09-30</td>\n      <td>BCN</td>\n    </tr>\n    <tr>\n      <th>70130</th>\n      <td>ES</td>\n      <td>100924350624</td>\n      <td>159558961</td>\n      <td>2024-10-11 14:32:22+00:00</td>\n      <td>2024-10-11 14:32:22+00:00</td>\n      <td>BICYCLE</td>\n      <td>2024-10-11 14:41:53.789000+00:00</td>\n      <td>2024-10-11 14:56:10+00:00</td>\n      <td>40.439228</td>\n      <td>-3.696312</td>\n      <td>...</td>\n      <td>14</td>\n      <td>0.705798</td>\n      <td>-0.064513</td>\n      <td>0.705801</td>\n      <td>-0.064849</td>\n      <td>1628.337647</td>\n      <td>1628.337647</td>\n      <td>1651.729837</td>\n      <td>2024-10-11</td>\n      <td>MAD</td>\n    </tr>\n    <tr>\n      <th>88957</th>\n      <td>ES</td>\n      <td>100918768940</td>\n      <td>108223144</td>\n      <td>2024-10-08 19:14:04+00:00</td>\n      <td>2024-10-08 19:14:05+00:00</td>\n      <td>BICYCLE</td>\n      <td>2024-10-08 19:25:29.724000+00:00</td>\n      <td>2024-10-08 19:31:57+00:00</td>\n      <td>41.377300</td>\n      <td>2.097891</td>\n      <td>...</td>\n      <td>19</td>\n      <td>NaN</td>\n      <td>NaN</td>\n      <td>NaN</td>\n      <td>NaN</td>\n      <td>402.615391</td>\n      <td>24982.715455</td>\n      <td>569.277819</td>\n      <td>2024-10-08</td>\n      <td>BCN</td>\n    </tr>\n    <tr>\n      <th>4013</th>\n      <td>ES</td>\n      <td>100933843382</td>\n      <td>176973879</td>\n      <td>2024-10-15 14:07:29+00:00</td>\n      <td>2024-10-15 14:07:30+00:00</td>\n      <td>MOTORBIKE</td>\n      <td>2024-10-15 14:14:04.332000+00:00</td>\n      <td>2024-10-15 14:19:40+00:00</td>\n      <td>41.429756</td>\n      <td>2.161242</td>\n      <td>...</td>\n      <td>14</td>\n      <td>NaN</td>\n      <td>NaN</td>\n      <td>NaN</td>\n      <td>NaN</td>\n      <td>405.944675</td>\n      <td>23382.745650</td>\n      <td>484.022589</td>\n      <td>2024-10-15</td>\n      <td>BCN</td>\n    </tr>\n    <tr>\n      <th>13618</th>\n      <td>ES</td>\n      <td>100903345651</td>\n      <td>54241613</td>\n      <td>2024-10-01 21:05:21+00:00</td>\n      <td>2024-10-01 21:05:22+00:00</td>\n      <td>BICYCLE</td>\n      <td>2024-10-01 21:14:43.972000+00:00</td>\n      <td>2024-10-01 21:28:05+00:00</td>\n      <td>41.388300</td>\n      <td>2.140600</td>\n      <td>...</td>\n      <td>21</td>\n      <td>NaN</td>\n      <td>NaN</td>\n      <td>NaN</td>\n      <td>NaN</td>\n      <td>1739.745655</td>\n      <td>103623.455589</td>\n      <td>2389.313273</td>\n      <td>2024-10-01</td>\n      <td>BCN</td>\n    </tr>\n    <tr>\n      <th>...</th>\n      <td>...</td>\n      <td>...</td>\n      <td>...</td>\n      <td>...</td>\n      <td>...</td>\n      <td>...</td>\n      <td>...</td>\n      <td>...</td>\n      <td>...</td>\n      <td>...</td>\n      <td>...</td>\n      <td>...</td>\n      <td>...</td>\n      <td>...</td>\n      <td>...</td>\n      <td>...</td>\n      <td>...</td>\n      <td>...</td>\n      <td>...</td>\n      <td>...</td>\n      <td>...</td>\n    </tr>\n    <tr>\n      <th>52473</th>\n      <td>ES</td>\n      <td>100903301229</td>\n      <td>8047290</td>\n      <td>2024-10-01 20:51:35+00:00</td>\n      <td>2024-10-01 20:51:37+00:00</td>\n      <td>CAR</td>\n      <td>2024-10-01 20:59:18.960000+00:00</td>\n      <td>2024-10-01 21:08:45+00:00</td>\n      <td>40.439373</td>\n      <td>-3.622343</td>\n      <td>...</td>\n      <td>20</td>\n      <td>0.705800</td>\n      <td>-0.063222</td>\n      <td>0.705703</td>\n      <td>-0.062980</td>\n      <td>1323.654237</td>\n      <td>1323.654237</td>\n      <td>1790.127336</td>\n      <td>2024-10-01</td>\n      <td>MAD</td>\n    </tr>\n    <tr>\n      <th>20076</th>\n      <td>ES</td>\n      <td>100922036918</td>\n      <td>74737414</td>\n      <td>2024-10-10 13:31:25+00:00</td>\n      <td>2024-10-10 13:31:27+00:00</td>\n      <td>MOTORBIKE</td>\n      <td>2024-10-10 13:44:50.729000+00:00</td>\n      <td>2024-10-10 13:51:36+00:00</td>\n      <td>40.479706</td>\n      <td>-3.707206</td>\n      <td>...</td>\n      <td>13</td>\n      <td>0.706504</td>\n      <td>-0.064703</td>\n      <td>0.706489</td>\n      <td>-0.064643</td>\n      <td>305.680635</td>\n      <td>305.680635</td>\n      <td>385.123128</td>\n      <td>2024-10-10</td>\n      <td>MAD</td>\n    </tr>\n    <tr>\n      <th>84994</th>\n      <td>ES</td>\n      <td>100902409871</td>\n      <td>147457017</td>\n      <td>2024-10-01 14:54:44+00:00</td>\n      <td>2024-10-01 14:54:45+00:00</td>\n      <td>BICYCLE</td>\n      <td>2024-10-01 15:01:14.898000+00:00</td>\n      <td>2024-10-01 15:12:48+00:00</td>\n      <td>41.384686</td>\n      <td>2.168798</td>\n      <td>...</td>\n      <td>14</td>\n      <td>NaN</td>\n      <td>NaN</td>\n      <td>NaN</td>\n      <td>NaN</td>\n      <td>1396.602242</td>\n      <td>83060.423915</td>\n      <td>1918.427079</td>\n      <td>2024-10-01</td>\n      <td>BCN</td>\n    </tr>\n    <tr>\n      <th>90858</th>\n      <td>ES</td>\n      <td>100934320697</td>\n      <td>88290470</td>\n      <td>2024-10-15 17:45:43+00:00</td>\n      <td>2024-10-15 17:45:45+00:00</td>\n      <td>BICYCLE</td>\n      <td>2024-10-15 17:58:03.741000+00:00</td>\n      <td>2024-10-15 18:10:37+00:00</td>\n      <td>41.398815</td>\n      <td>2.172954</td>\n      <td>...</td>\n      <td>17</td>\n      <td>0.722546</td>\n      <td>0.037925</td>\n      <td>0.722225</td>\n      <td>0.037800</td>\n      <td>2126.279603</td>\n      <td>2126.279603</td>\n      <td>2641.752121</td>\n      <td>2024-10-15</td>\n      <td>BCN</td>\n    </tr>\n    <tr>\n      <th>7013</th>\n      <td>ES</td>\n      <td>100906904216</td>\n      <td>26067019</td>\n      <td>2024-10-03 17:40:33+00:00</td>\n      <td>2024-10-03 17:40:36+00:00</td>\n      <td>MOTORBIKE</td>\n      <td>2024-10-03 17:55:33.404000+00:00</td>\n      <td>2024-10-03 17:58:17+00:00</td>\n      <td>41.374462</td>\n      <td>2.116439</td>\n      <td>...</td>\n      <td>17</td>\n      <td>0.722121</td>\n      <td>0.036939</td>\n      <td>0.722106</td>\n      <td>0.036935</td>\n      <td>92.759921</td>\n      <td>92.759921</td>\n      <td>110.133865</td>\n      <td>2024-10-03</td>\n      <td>BCN</td>\n    </tr>\n  </tbody>\n</table>\n<p>1750447 rows × 26 columns</p>\n</div>"
     },
     "execution_count": 25,
     "metadata": {},
     "output_type": "execute_result"
    }
   ],
   "source": [
    "X_train"
   ],
   "metadata": {
    "collapsed": false,
    "ExecuteTime": {
     "end_time": "2024-10-23T10:47:37.376047Z",
     "start_time": "2024-10-23T10:47:36.815458Z"
    }
   },
   "id": "fc0cc9098900ec66",
   "execution_count": 25
  },
  {
   "cell_type": "code",
   "outputs": [
    {
     "data": {
      "text/plain": "52085    427431000000\n652      311913000000\n71799    530023000000\n48642    538957000000\n67928    317986000000\n             ...     \n42893    415733000000\n96394    198415000000\n50159    657688000000\n90902    286079000000\n95895    360789000000\nName: pickup_to_delivery, Length: 1750447, dtype: int64"
     },
     "execution_count": 26,
     "metadata": {},
     "output_type": "execute_result"
    }
   ],
   "source": [
    "y_train"
   ],
   "metadata": {
    "collapsed": false,
    "ExecuteTime": {
     "end_time": "2024-10-23T10:47:37.381847Z",
     "start_time": "2024-10-23T10:47:37.376268Z"
    }
   },
   "id": "578fea794feb9a3d",
   "execution_count": 26
  },
  {
   "cell_type": "code",
   "outputs": [
    {
     "name": "stdout",
     "output_type": "stream",
     "text": [
      "(1750447, 26) (1750447,)\n",
      "(194495, 26) (194495,)\n"
     ]
    }
   ],
   "source": [
    "print(X_train.shape, y_train.shape)\n",
    "print(X_test.shape, y_test.shape)"
   ],
   "metadata": {
    "collapsed": false,
    "ExecuteTime": {
     "end_time": "2024-10-23T10:47:37.396292Z",
     "start_time": "2024-10-23T10:47:37.382900Z"
    }
   },
   "id": "2e1aab43ff9f5211",
   "execution_count": 27
  },
  {
   "cell_type": "code",
   "outputs": [],
   "source": [
    "# In case we want to test different hyperparameters, we will use cross-validation\n",
    "#scores = cross_val_score(<estimator>, X, y, cv=k_cv)"
   ],
   "metadata": {
    "collapsed": false,
    "ExecuteTime": {
     "end_time": "2024-10-23T10:47:37.429022Z",
     "start_time": "2024-10-23T10:47:37.392425Z"
    }
   },
   "id": "fdc44e42fd992ca8",
   "execution_count": 28
  },
  {
   "cell_type": "markdown",
   "source": [
    "### Database split using directly the creation date\n",
    "\n",
    "As we have partitioned the data by city and creation date, we can use this information to split the data. This will help to avoid data leakage, as we will not have data from the future in the training set.\n",
    "This is much better than just sorting the data by the creation timestamp and taking 10% of the dataset as test set, as we did before."
   ],
   "metadata": {
    "collapsed": false
   },
   "id": "7282f116c476aa5c"
  },
  {
   "cell_type": "code",
   "outputs": [
    {
     "name": "stdout",
     "output_type": "stream",
     "text": [
      "Start date: 2024-09-30 | Begin test date: 2024-10-14 | End date: 2024-10-20\n"
     ]
    }
   ],
   "source": [
    "# We take the last week of the dataset to test the model\n",
    "begin_test_date = pd.to_datetime(end_date) - pd.Timedelta(days=days_for_test-1)\n",
    "begin_test_date = begin_test_date.strftime(\"%Y-%m-%d\")\n",
    "print(f'Start date: {start_date} | Begin test date: {begin_test_date} | End date: {end_date}')"
   ],
   "metadata": {
    "collapsed": false,
    "ExecuteTime": {
     "end_time": "2024-10-23T10:47:37.552484Z",
     "start_time": "2024-10-23T10:47:37.399603Z"
    }
   },
   "id": "75c872336bd56642",
   "execution_count": 29
  },
  {
   "cell_type": "code",
   "outputs": [
    {
     "data": {
      "text/plain": "      country_code      order_id  courier_id        creation_timestamp  \\\n19770           ES  100899883502   166015865 2024-09-30 10:05:31+00:00   \n19821           ES  100900284118   157369264 2024-09-30 13:42:20+00:00   \n19862           ES  100900514765   176279014 2024-09-30 15:15:51+00:00   \n19864           ES  100900517471   173230048 2024-09-30 15:17:03+00:00   \n19868           ES  100900606611   165214923 2024-09-30 15:59:24+00:00   \n\n           activation_timestamp  transport                 pickup_timestamp  \\\n19770 2024-09-30 10:05:34+00:00        CAR        2024-09-30 10:40:49+00:00   \n19821 2024-09-30 13:42:21+00:00  MOTORBIKE 2024-09-30 13:51:19.082000+00:00   \n19862 2024-09-30 15:15:53+00:00  MOTORBIKE 2024-09-30 15:40:37.175000+00:00   \n19864 2024-09-30 15:17:04+00:00  MOTORBIKE 2024-09-30 15:38:09.114000+00:00   \n19868 2024-09-30 15:59:26+00:00        CAR 2024-09-30 16:09:12.280000+00:00   \n\n             delivery_timestamp  pickup_latitude  pickup_longitude  ...  \\\n19770 2024-09-30 10:55:21+00:00        38.354984         -0.470788  ...   \n19821 2024-09-30 14:08:16+00:00        38.338870         -0.516630  ...   \n19862 2024-09-30 15:46:54+00:00        38.391617         -0.513310  ...   \n19864 2024-09-30 15:55:25+00:00        38.428850         -0.394868  ...   \n19868 2024-09-30 16:11:30+00:00        38.344795         -0.484257  ...   \n\n       creation_hour  pickup_latitude_rad pickup_longitude_rad  \\\n19770             10             0.669421            -0.008217   \n19821             13             0.669140            -0.009017   \n19862             15             0.670060            -0.008959   \n19864             15             0.670710            -0.006892   \n19868             15             0.669243            -0.008452   \n\n      delivery_latitude_rad delivery_longitude_rad pd_distance_haversine_m  \\\n19770              0.669275              -0.008738             2763.186813   \n19821              0.669173              -0.008800             1106.367198   \n19862              0.670198              -0.009175             1391.554868   \n19864              0.670976              -0.007713             4433.090322   \n19868              0.669260              -0.008486              203.358663   \n\n       pd_distance_haversine_m_sk  pd_distance_manhattan_m  creation_date  \\\n19770                 2763.186813              3533.822837     2024-09-30   \n19821                 1106.367198              1302.313007     2024-09-30   \n19862                 1391.554868              1959.883768     2024-09-30   \n19864                 4433.090322              5796.876236     2024-09-30   \n19868                  203.358663               281.024598     2024-09-30   \n\n       city_code  \n19770        ALC  \n19821        ALC  \n19862        ALC  \n19864        ALC  \n19868        ALC  \n\n[5 rows x 26 columns]",
      "text/html": "<div>\n<style scoped>\n    .dataframe tbody tr th:only-of-type {\n        vertical-align: middle;\n    }\n\n    .dataframe tbody tr th {\n        vertical-align: top;\n    }\n\n    .dataframe thead th {\n        text-align: right;\n    }\n</style>\n<table border=\"1\" class=\"dataframe\">\n  <thead>\n    <tr style=\"text-align: right;\">\n      <th></th>\n      <th>country_code</th>\n      <th>order_id</th>\n      <th>courier_id</th>\n      <th>creation_timestamp</th>\n      <th>activation_timestamp</th>\n      <th>transport</th>\n      <th>pickup_timestamp</th>\n      <th>delivery_timestamp</th>\n      <th>pickup_latitude</th>\n      <th>pickup_longitude</th>\n      <th>...</th>\n      <th>creation_hour</th>\n      <th>pickup_latitude_rad</th>\n      <th>pickup_longitude_rad</th>\n      <th>delivery_latitude_rad</th>\n      <th>delivery_longitude_rad</th>\n      <th>pd_distance_haversine_m</th>\n      <th>pd_distance_haversine_m_sk</th>\n      <th>pd_distance_manhattan_m</th>\n      <th>creation_date</th>\n      <th>city_code</th>\n    </tr>\n  </thead>\n  <tbody>\n    <tr>\n      <th>19770</th>\n      <td>ES</td>\n      <td>100899883502</td>\n      <td>166015865</td>\n      <td>2024-09-30 10:05:31+00:00</td>\n      <td>2024-09-30 10:05:34+00:00</td>\n      <td>CAR</td>\n      <td>2024-09-30 10:40:49+00:00</td>\n      <td>2024-09-30 10:55:21+00:00</td>\n      <td>38.354984</td>\n      <td>-0.470788</td>\n      <td>...</td>\n      <td>10</td>\n      <td>0.669421</td>\n      <td>-0.008217</td>\n      <td>0.669275</td>\n      <td>-0.008738</td>\n      <td>2763.186813</td>\n      <td>2763.186813</td>\n      <td>3533.822837</td>\n      <td>2024-09-30</td>\n      <td>ALC</td>\n    </tr>\n    <tr>\n      <th>19821</th>\n      <td>ES</td>\n      <td>100900284118</td>\n      <td>157369264</td>\n      <td>2024-09-30 13:42:20+00:00</td>\n      <td>2024-09-30 13:42:21+00:00</td>\n      <td>MOTORBIKE</td>\n      <td>2024-09-30 13:51:19.082000+00:00</td>\n      <td>2024-09-30 14:08:16+00:00</td>\n      <td>38.338870</td>\n      <td>-0.516630</td>\n      <td>...</td>\n      <td>13</td>\n      <td>0.669140</td>\n      <td>-0.009017</td>\n      <td>0.669173</td>\n      <td>-0.008800</td>\n      <td>1106.367198</td>\n      <td>1106.367198</td>\n      <td>1302.313007</td>\n      <td>2024-09-30</td>\n      <td>ALC</td>\n    </tr>\n    <tr>\n      <th>19862</th>\n      <td>ES</td>\n      <td>100900514765</td>\n      <td>176279014</td>\n      <td>2024-09-30 15:15:51+00:00</td>\n      <td>2024-09-30 15:15:53+00:00</td>\n      <td>MOTORBIKE</td>\n      <td>2024-09-30 15:40:37.175000+00:00</td>\n      <td>2024-09-30 15:46:54+00:00</td>\n      <td>38.391617</td>\n      <td>-0.513310</td>\n      <td>...</td>\n      <td>15</td>\n      <td>0.670060</td>\n      <td>-0.008959</td>\n      <td>0.670198</td>\n      <td>-0.009175</td>\n      <td>1391.554868</td>\n      <td>1391.554868</td>\n      <td>1959.883768</td>\n      <td>2024-09-30</td>\n      <td>ALC</td>\n    </tr>\n    <tr>\n      <th>19864</th>\n      <td>ES</td>\n      <td>100900517471</td>\n      <td>173230048</td>\n      <td>2024-09-30 15:17:03+00:00</td>\n      <td>2024-09-30 15:17:04+00:00</td>\n      <td>MOTORBIKE</td>\n      <td>2024-09-30 15:38:09.114000+00:00</td>\n      <td>2024-09-30 15:55:25+00:00</td>\n      <td>38.428850</td>\n      <td>-0.394868</td>\n      <td>...</td>\n      <td>15</td>\n      <td>0.670710</td>\n      <td>-0.006892</td>\n      <td>0.670976</td>\n      <td>-0.007713</td>\n      <td>4433.090322</td>\n      <td>4433.090322</td>\n      <td>5796.876236</td>\n      <td>2024-09-30</td>\n      <td>ALC</td>\n    </tr>\n    <tr>\n      <th>19868</th>\n      <td>ES</td>\n      <td>100900606611</td>\n      <td>165214923</td>\n      <td>2024-09-30 15:59:24+00:00</td>\n      <td>2024-09-30 15:59:26+00:00</td>\n      <td>CAR</td>\n      <td>2024-09-30 16:09:12.280000+00:00</td>\n      <td>2024-09-30 16:11:30+00:00</td>\n      <td>38.344795</td>\n      <td>-0.484257</td>\n      <td>...</td>\n      <td>15</td>\n      <td>0.669243</td>\n      <td>-0.008452</td>\n      <td>0.669260</td>\n      <td>-0.008486</td>\n      <td>203.358663</td>\n      <td>203.358663</td>\n      <td>281.024598</td>\n      <td>2024-09-30</td>\n      <td>ALC</td>\n    </tr>\n  </tbody>\n</table>\n<p>5 rows × 26 columns</p>\n</div>"
     },
     "execution_count": 30,
     "metadata": {},
     "output_type": "execute_result"
    }
   ],
   "source": [
    "X_train = pd.read_parquet(\"data/dataframe.parquet\", filters=[('creation_date', '<', begin_test_date)])\n",
    "X_train.head()"
   ],
   "metadata": {
    "collapsed": false,
    "ExecuteTime": {
     "end_time": "2024-10-23T10:47:38.102112Z",
     "start_time": "2024-10-23T10:47:37.408409Z"
    }
   },
   "id": "3ac70f793bb888aa",
   "execution_count": 30
  },
  {
   "cell_type": "code",
   "outputs": [
    {
     "data": {
      "text/plain": "19770    779000000000\n19821    366918000000\n19862    331825000000\n19864    496886000000\n19868     87720000000\n             ...     \n68825    150065000000\n69405    558499000000\n69964    742575000000\n70230    786619000000\n70533    194149000000\nName: pickup_to_delivery, Length: 1944942, dtype: int64"
     },
     "execution_count": 31,
     "metadata": {},
     "output_type": "execute_result"
    }
   ],
   "source": [
    "y_train = X_train['delivery_entering_timestamp'] - X_train['pickup_timestamp']\n",
    "y = pd.Series(y, name='pickup_to_delivery')\n",
    "y"
   ],
   "metadata": {
    "collapsed": false,
    "ExecuteTime": {
     "end_time": "2024-10-23T10:47:38.315213Z",
     "start_time": "2024-10-23T10:47:38.068476Z"
    }
   },
   "id": "7062f2936f260656",
   "execution_count": 31
  },
  {
   "cell_type": "code",
   "outputs": [
    {
     "data": {
      "text/plain": "     country_code      order_id  courier_id        creation_timestamp  \\\n4718           ES  100932167582    10191824 2024-10-14 15:51:51+00:00   \n4727           ES  100932256816    50618208 2024-10-14 16:36:30+00:00   \n4746           ES  100932496959   170202435 2024-10-14 18:26:33+00:00   \n4767           ES  100932664161   166731686 2024-10-14 19:30:57+00:00   \n4794           ES  100932854728   168741567 2024-10-14 20:35:29+00:00   \n\n          activation_timestamp  transport                 pickup_timestamp  \\\n4718 2024-10-14 15:51:52+00:00  MOTORBIKE 2024-10-14 16:00:14.017000+00:00   \n4727 2024-10-14 16:36:31+00:00        CAR 2024-10-14 16:45:53.061000+00:00   \n4746 2024-10-14 18:26:34+00:00  MOTORBIKE 2024-10-14 18:35:05.220000+00:00   \n4767 2024-10-14 19:30:59+00:00        CAR 2024-10-14 19:58:06.210000+00:00   \n4794 2024-10-14 20:35:30+00:00        CAR 2024-10-14 20:57:11.030000+00:00   \n\n            delivery_timestamp  pickup_latitude  pickup_longitude  ...  \\\n4718 2024-10-14 16:08:56+00:00        38.360110         -0.496079  ...   \n4727 2024-10-14 16:56:21+00:00        38.354233         -0.472088  ...   \n4746 2024-10-14 18:43:20+00:00        38.429874         -0.400611  ...   \n4767 2024-10-14 20:04:48+00:00        38.398090         -0.432838  ...   \n4794 2024-10-14 21:04:55+00:00        38.355713         -0.479695  ...   \n\n      creation_hour  pickup_latitude_rad pickup_longitude_rad  \\\n4718             15             0.669510            -0.008658   \n4727             16             0.669408            -0.008239   \n4746             18             0.670728            -0.006992   \n4767             19             0.670173            -0.007554   \n4794             20             0.669433            -0.008372   \n\n     delivery_latitude_rad delivery_longitude_rad pd_distance_haversine_m  \\\n4718              0.669291              -0.008891             1817.533836   \n4727              0.669490              -0.008349              757.291206   \n4746              0.670951              -0.006570             2541.011986   \n4767              0.670373              -0.007686             1432.008005   \n4794              0.669508              -0.008358              477.653498   \n\n      pd_distance_haversine_m_sk  pd_distance_manhattan_m  creation_date  \\\n4718                 1817.533836              2562.964399     2024-10-14   \n4727                  757.291206              1071.856530     2024-10-14   \n4746                 2541.011986              3531.016499     2024-10-14   \n4767                 1432.008005              1931.872080     2024-10-14   \n4794                  477.653498               544.529748     2024-10-14   \n\n      city_code  \n4718        ALC  \n4727        ALC  \n4746        ALC  \n4767        ALC  \n4794        ALC  \n\n[5 rows x 26 columns]",
      "text/html": "<div>\n<style scoped>\n    .dataframe tbody tr th:only-of-type {\n        vertical-align: middle;\n    }\n\n    .dataframe tbody tr th {\n        vertical-align: top;\n    }\n\n    .dataframe thead th {\n        text-align: right;\n    }\n</style>\n<table border=\"1\" class=\"dataframe\">\n  <thead>\n    <tr style=\"text-align: right;\">\n      <th></th>\n      <th>country_code</th>\n      <th>order_id</th>\n      <th>courier_id</th>\n      <th>creation_timestamp</th>\n      <th>activation_timestamp</th>\n      <th>transport</th>\n      <th>pickup_timestamp</th>\n      <th>delivery_timestamp</th>\n      <th>pickup_latitude</th>\n      <th>pickup_longitude</th>\n      <th>...</th>\n      <th>creation_hour</th>\n      <th>pickup_latitude_rad</th>\n      <th>pickup_longitude_rad</th>\n      <th>delivery_latitude_rad</th>\n      <th>delivery_longitude_rad</th>\n      <th>pd_distance_haversine_m</th>\n      <th>pd_distance_haversine_m_sk</th>\n      <th>pd_distance_manhattan_m</th>\n      <th>creation_date</th>\n      <th>city_code</th>\n    </tr>\n  </thead>\n  <tbody>\n    <tr>\n      <th>4718</th>\n      <td>ES</td>\n      <td>100932167582</td>\n      <td>10191824</td>\n      <td>2024-10-14 15:51:51+00:00</td>\n      <td>2024-10-14 15:51:52+00:00</td>\n      <td>MOTORBIKE</td>\n      <td>2024-10-14 16:00:14.017000+00:00</td>\n      <td>2024-10-14 16:08:56+00:00</td>\n      <td>38.360110</td>\n      <td>-0.496079</td>\n      <td>...</td>\n      <td>15</td>\n      <td>0.669510</td>\n      <td>-0.008658</td>\n      <td>0.669291</td>\n      <td>-0.008891</td>\n      <td>1817.533836</td>\n      <td>1817.533836</td>\n      <td>2562.964399</td>\n      <td>2024-10-14</td>\n      <td>ALC</td>\n    </tr>\n    <tr>\n      <th>4727</th>\n      <td>ES</td>\n      <td>100932256816</td>\n      <td>50618208</td>\n      <td>2024-10-14 16:36:30+00:00</td>\n      <td>2024-10-14 16:36:31+00:00</td>\n      <td>CAR</td>\n      <td>2024-10-14 16:45:53.061000+00:00</td>\n      <td>2024-10-14 16:56:21+00:00</td>\n      <td>38.354233</td>\n      <td>-0.472088</td>\n      <td>...</td>\n      <td>16</td>\n      <td>0.669408</td>\n      <td>-0.008239</td>\n      <td>0.669490</td>\n      <td>-0.008349</td>\n      <td>757.291206</td>\n      <td>757.291206</td>\n      <td>1071.856530</td>\n      <td>2024-10-14</td>\n      <td>ALC</td>\n    </tr>\n    <tr>\n      <th>4746</th>\n      <td>ES</td>\n      <td>100932496959</td>\n      <td>170202435</td>\n      <td>2024-10-14 18:26:33+00:00</td>\n      <td>2024-10-14 18:26:34+00:00</td>\n      <td>MOTORBIKE</td>\n      <td>2024-10-14 18:35:05.220000+00:00</td>\n      <td>2024-10-14 18:43:20+00:00</td>\n      <td>38.429874</td>\n      <td>-0.400611</td>\n      <td>...</td>\n      <td>18</td>\n      <td>0.670728</td>\n      <td>-0.006992</td>\n      <td>0.670951</td>\n      <td>-0.006570</td>\n      <td>2541.011986</td>\n      <td>2541.011986</td>\n      <td>3531.016499</td>\n      <td>2024-10-14</td>\n      <td>ALC</td>\n    </tr>\n    <tr>\n      <th>4767</th>\n      <td>ES</td>\n      <td>100932664161</td>\n      <td>166731686</td>\n      <td>2024-10-14 19:30:57+00:00</td>\n      <td>2024-10-14 19:30:59+00:00</td>\n      <td>CAR</td>\n      <td>2024-10-14 19:58:06.210000+00:00</td>\n      <td>2024-10-14 20:04:48+00:00</td>\n      <td>38.398090</td>\n      <td>-0.432838</td>\n      <td>...</td>\n      <td>19</td>\n      <td>0.670173</td>\n      <td>-0.007554</td>\n      <td>0.670373</td>\n      <td>-0.007686</td>\n      <td>1432.008005</td>\n      <td>1432.008005</td>\n      <td>1931.872080</td>\n      <td>2024-10-14</td>\n      <td>ALC</td>\n    </tr>\n    <tr>\n      <th>4794</th>\n      <td>ES</td>\n      <td>100932854728</td>\n      <td>168741567</td>\n      <td>2024-10-14 20:35:29+00:00</td>\n      <td>2024-10-14 20:35:30+00:00</td>\n      <td>CAR</td>\n      <td>2024-10-14 20:57:11.030000+00:00</td>\n      <td>2024-10-14 21:04:55+00:00</td>\n      <td>38.355713</td>\n      <td>-0.479695</td>\n      <td>...</td>\n      <td>20</td>\n      <td>0.669433</td>\n      <td>-0.008372</td>\n      <td>0.669508</td>\n      <td>-0.008358</td>\n      <td>477.653498</td>\n      <td>477.653498</td>\n      <td>544.529748</td>\n      <td>2024-10-14</td>\n      <td>ALC</td>\n    </tr>\n  </tbody>\n</table>\n<p>5 rows × 26 columns</p>\n</div>"
     },
     "execution_count": 32,
     "metadata": {},
     "output_type": "execute_result"
    }
   ],
   "source": [
    "X_test = pd.read_parquet(\"data/dataframe.parquet\", filters=[('creation_date', '>=', begin_test_date)])\n",
    "X_test.head()"
   ],
   "metadata": {
    "collapsed": false,
    "ExecuteTime": {
     "end_time": "2024-10-23T10:47:38.686273Z",
     "start_time": "2024-10-23T10:47:38.123378Z"
    }
   },
   "id": "1830d6e04cb2eed0",
   "execution_count": 32
  },
  {
   "cell_type": "code",
   "outputs": [
    {
     "data": {
      "text/plain": "4718     400983000000\n4727     482939000000\n4746     386780000000\n4767     324790000000\n4794     184970000000\n             ...     \n68825    150065000000\n69405    558499000000\n69964    742575000000\n70230    786619000000\n70533    194149000000\nName: pickup_to_delivery, Length: 588906, dtype: int64"
     },
     "execution_count": 33,
     "metadata": {},
     "output_type": "execute_result"
    }
   ],
   "source": [
    "y_test\n",
    "y = X_test['delivery_entering_timestamp'] - X_test['pickup_timestamp']\n",
    "y = pd.Series(y, dtype=np.int64, name='pickup_to_delivery')\n",
    "y"
   ],
   "metadata": {
    "collapsed": false,
    "ExecuteTime": {
     "end_time": "2024-10-23T10:47:38.690487Z",
     "start_time": "2024-10-23T10:47:38.598031Z"
    }
   },
   "id": "52ce014a35efad12",
   "execution_count": 33
  },
  {
   "cell_type": "code",
   "outputs": [
    {
     "name": "stdout",
     "output_type": "stream",
     "text": [
      "(1356036, 26) (1356036,)\n",
      "(588906, 26) (194495,)\n"
     ]
    }
   ],
   "source": [
    "print(X_train.shape, y_train.shape)\n",
    "print(X_test.shape, y_test.shape)"
   ],
   "metadata": {
    "collapsed": false,
    "ExecuteTime": {
     "end_time": "2024-10-23T10:47:38.748995Z",
     "start_time": "2024-10-23T10:47:38.615363Z"
    }
   },
   "id": "2d2fff1089f25047",
   "execution_count": 34
  },
  {
   "cell_type": "markdown",
   "source": [
    "Compute the column for velocity "
   ],
   "metadata": {
    "collapsed": false
   },
   "id": "e01843bd221d9df1"
  },
  {
   "cell_type": "code",
   "outputs": [
    {
     "data": {
      "text/plain": "19770    3.547095\n19821    3.015298\n19862    4.193641\n19864    8.921745\n19868    2.318270\n           ...   \n84190    3.829951\n84192    2.854189\n84663    3.992609\n85111    3.630421\n85969    5.106117\nLength: 1356036, dtype: float64"
     },
     "execution_count": 35,
     "metadata": {},
     "output_type": "execute_result"
    }
   ],
   "source": [
    "velocity = X_train['pd_distance_haversine_m'] / y_train.dt.total_seconds()\n",
    "velocity"
   ],
   "metadata": {
    "collapsed": false,
    "ExecuteTime": {
     "end_time": "2024-10-23T10:47:38.751268Z",
     "start_time": "2024-10-23T10:47:38.626033Z"
    }
   },
   "id": "7319e4fbfc086581",
   "execution_count": 35
  }
 ],
 "metadata": {
  "kernelspec": {
   "display_name": "Python 3",
   "language": "python",
   "name": "python3"
  },
  "language_info": {
   "codemirror_mode": {
    "name": "ipython",
    "version": 2
   },
   "file_extension": ".py",
   "mimetype": "text/x-python",
   "name": "python",
   "nbconvert_exporter": "python",
   "pygments_lexer": "ipython2",
   "version": "2.7.6"
  }
 },
 "nbformat": 4,
 "nbformat_minor": 5
}
