{
 "cells": [
  {
   "cell_type": "markdown",
   "id": "24ad314bf282ec83",
   "metadata": {
    "collapsed": false
   },
   "source": [
    "# Pickup to Delivery Overall"
   ]
  },
  {
   "cell_type": "code",
   "execution_count": 1,
   "id": "cb71195be0f3a22f",
   "metadata": {
    "collapsed": false,
    "ExecuteTime": {
     "end_time": "2025-01-16T14:14:55.966582Z",
     "start_time": "2025-01-16T14:14:43.355674Z"
    }
   },
   "outputs": [],
   "source": [
    "import os\n",
    "import sys\n",
    "import shutil\n",
    "import pandas as pd\n",
    "import numpy as np\n",
    "import pickle\n",
    "import matplotlib.pyplot as plt\n",
    "from haversine import haversine, Unit\n",
    "from sklearn.metrics.pairwise import haversine_distances, manhattan_distances\n",
    "from sklearn.model_selection import train_test_split, cross_val_score\n",
    "\n",
    "sys.path.insert(0, os.path.expanduser('./'))\n",
    "import query_runner as qr\n",
    "import utils\n",
    "from estimator import BaselineModel_sum, BaselineModel_mean, LinearModel"
   ]
  },
  {
   "cell_type": "code",
   "execution_count": 2,
   "id": "52eb5fbdb862edbe",
   "metadata": {
    "collapsed": false,
    "ExecuteTime": {
     "end_time": "2025-01-16T14:14:55.975800Z",
     "start_time": "2025-01-16T14:14:55.969307Z"
    }
   },
   "outputs": [
    {
     "name": "stderr",
     "output_type": "stream",
     "text": [
      "INFO:trino.auth:keyring module not found. OAuth2 token will not be stored in keyring.\n"
     ]
    }
   ],
   "source": [
    "base_query_path = './queries/'\n",
    "dwh_config, livedb_config, parameters_config = utils.load_config(config_file='./config.ini')\n",
    "datalake_connection = qr.create_connection(db='datalake')\n",
    "#monolith_connection = qr.create_connection(user=livedb_config['monolith_username'], password=livedb_config['monolith_password'], db='livedb')\n",
    "#dispatching_db_connection = qr.create_connection(user=livedb_config['dispatching_db_username'], password=livedb_config['dispatching_db_password'], db='dispatchingdb')"
   ]
  },
  {
   "cell_type": "code",
   "execution_count": 3,
   "id": "f26eb0ba80de7f8e",
   "metadata": {
    "collapsed": false,
    "ExecuteTime": {
     "end_time": "2025-01-16T14:14:55.991088Z",
     "start_time": "2025-01-16T14:14:55.977064Z"
    }
   },
   "outputs": [
    {
     "name": "stdout",
     "output_type": "stream",
     "text": [
      "Start date: 2024-09-30 | End date: 2024-10-20 | Countries: ES | Cities: 'MAD', 'BCN', 'SEV', 'ALC'\n"
     ]
    }
   ],
   "source": [
    "start_date = parameters_config['start_date']\n",
    "end_date = parameters_config['end_date']\n",
    "country_code = parameters_config['country_code']\n",
    "cities = parameters_config['cities']\n",
    "\n",
    "print(f'Start date: {start_date} | End date: {end_date} | Countries: {country_code} | Cities: {cities}')"
   ]
  },
  {
   "cell_type": "code",
   "execution_count": 4,
   "id": "e3c251ccf4f2beb1",
   "metadata": {
    "collapsed": false,
    "ExecuteTime": {
     "end_time": "2025-01-16T14:14:55.993528Z",
     "start_time": "2025-01-16T14:14:55.981768Z"
    }
   },
   "outputs": [],
   "source": [
    "parameters = {\n",
    "    'start_date': start_date,\n",
    "    'end_date': end_date,\n",
    "    'country_code': country_code,\n",
    "    'cities': cities\n",
    "}"
   ]
  },
  {
   "cell_type": "markdown",
   "id": "3c0d6dbf6375ce8",
   "metadata": {
    "collapsed": false
   },
   "source": [
    "## Load the data"
   ]
  },
  {
   "cell_type": "code",
   "execution_count": null,
   "id": "1de21fec65a3d1b1",
   "metadata": {
    "collapsed": false
   },
   "outputs": [],
   "source": [
    "query_name = '''\n",
    "SELECT\n",
    "    olf.country_code                                 AS country_code,\n",
    "    olf.city_code                                    AS city_code,\n",
    "    olf.order_id                                     AS order_id,\n",
    "    olf.courier_id                                   AS courier_id,\n",
    "    olf.order_created_local_datetime                 AS creation_timestamp,\n",
    "    olf.order_activated_local_datetime               AS activation_timestamp,\n",
    "    olf.courier_transport                            AS transport,\n",
    "    olf.order_picked_up_local_datetime               AS pickup_timestamp,\n",
    "    olf.order_arrival_to_delivery_local_datetime     AS delivery_entering_timestamp,\n",
    "    olf.order_delivered_local_datetime               AS delivery_timestamp,\n",
    "    olf.order_pickup_latitude                        AS pickup_latitude,\n",
    "    olf.order_pickup_longitude                       AS pickup_longitude,\n",
    "    olf.order_delivery_latitude                      AS delivery_latitude,\n",
    "    olf.order_delivery_longitude                     AS delivery_longitude,\n",
    "    olf.order_time_zone                              AS time_zone,\n",
    "    olf.p_creation_date\n",
    "FROM delta.courier_routing_courier_ml_features_odp.order_level_features AS olf\n",
    "WHERE order_final_status = 'DeliveredStatus'\n",
    "    AND order_number_of_assignments = 1\n",
    "    AND order_bundle_index IS NULL\n",
    "    AND p_creation_date >= DATE '[start_date]' AND p_creation_date < DATE '[end_date]'\n",
    "    AND country_code IN ('[country_code]')\n",
    "    AND city_code IN ([cities])\n",
    "'''\n",
    "\n",
    "query = qr.Query(base_query_path, query_name, datalake_connection, parameters_dict=parameters, query_from_file = False)\n",
    "\n",
    "df = query.run()\n",
    "df = df.fillna(value=np.nan)\n",
    "\n",
    "data = df.copy()\n",
    "data.head()"
   ]
  },
  {
   "cell_type": "markdown",
   "id": "cb60e56ce9b31a2",
   "metadata": {
    "collapsed": false
   },
   "source": [
    "## Clean the dataset"
   ]
  },
  {
   "cell_type": "code",
   "execution_count": null,
   "id": "3269019e5c025a9d",
   "metadata": {
    "collapsed": false
   },
   "outputs": [],
   "source": [
    "data.info()"
   ]
  },
  {
   "cell_type": "code",
   "execution_count": null,
   "id": "4ad7421cf883f255",
   "metadata": {
    "collapsed": false
   },
   "outputs": [],
   "source": [
    "data.describe()"
   ]
  },
  {
   "cell_type": "code",
   "execution_count": null,
   "id": "1df8f7cd6a104940",
   "metadata": {
    "collapsed": false
   },
   "outputs": [],
   "source": [
    "# Check for missing values\n",
    "data.isnull().sum()"
   ]
  },
  {
   "cell_type": "code",
   "execution_count": null,
   "id": "4fc64e33e9ec8a4a",
   "metadata": {
    "collapsed": false
   },
   "outputs": [],
   "source": [
    "# print the number of null rows\n",
    "data.isnull().sum().sum()"
   ]
  },
  {
   "cell_type": "code",
   "execution_count": null,
   "id": "21a2d084be3ddfe8",
   "metadata": {
    "collapsed": false
   },
   "outputs": [],
   "source": [
    "# Remove rows with null values: we have many rows, so we can afford to remove them\n",
    "data.dropna(inplace=True)"
   ]
  },
  {
   "cell_type": "code",
   "execution_count": null,
   "id": "fea941235b67758e",
   "metadata": {
    "collapsed": false
   },
   "outputs": [],
   "source": [
    "# Check for missing values\n",
    "data.isnull().sum()"
   ]
  },
  {
   "cell_type": "code",
   "execution_count": null,
   "id": "83402ad003b2989e",
   "metadata": {
    "collapsed": false
   },
   "outputs": [],
   "source": [
    "# Check for duplicates\n",
    "data.duplicated().sum()"
   ]
  },
  {
   "cell_type": "markdown",
   "id": "9be4b81e03b7586",
   "metadata": {
    "collapsed": false
   },
   "source": [
    "## Compute new features"
   ]
  },
  {
   "cell_type": "code",
   "execution_count": null,
   "id": "80163d0a54873861",
   "metadata": {
    "collapsed": false
   },
   "outputs": [],
   "source": [
    "# Convert the creation time to datetime\n",
    "data['creation_timestamp'] = pd.to_datetime(data['creation_timestamp'])\n",
    "data['activation_timestamp'] = pd.to_datetime(data['activation_timestamp'])\n",
    "data['pickup_timestamp'] = pd.to_datetime(data['pickup_timestamp'])\n",
    "data['delivery_timestamp'] = pd.to_datetime(data['delivery_timestamp'])\n",
    "data['delivery_entering_timestamp'] = pd.to_datetime(data['delivery_entering_timestamp'])\n",
    "\n",
    "# Compute the delivery date and the delivery time\n",
    "data['creation_date'] = data['creation_timestamp'].dt.date\n",
    "data['creation_time'] = data['creation_timestamp'].dt.time\n",
    "data['creation_hour'] = data['creation_timestamp'].dt.hour"
   ]
  },
  {
   "cell_type": "markdown",
   "id": "7b6ea1be09344c80",
   "metadata": {
    "collapsed": false
   },
   "source": [
    "To determine whether a coordinate is in degrees or radians, you can consider the typical ranges and values for latitude and longitude:\n",
    "1. **Degrees:**\n",
    "   - Latitude ranges from -90 to 90 degrees.\n",
    "   - Longitude ranges from -180 to 180 degrees.\n",
    "   - Values are typically whole numbers or decimals within these ranges.\n",
    "2. **Radians:**\n",
    "   - Latitude and longitude in radians will range from approximately -π/2 to π/2 for latitude and -π to π for longitude.\n",
    "   - Values are typically small decimals (e.g., 0.5, 1.0, etc.).\n",
    "\n",
    "Given our dataset, as the values in the columns `pickup_latitude`, `pickup_longitude`, `delivery_latitude`, `delivery_longitude` fall within the typical range for degrees, it is safe to assume that these coordinates are in degrees.\n",
    "\n",
    "There is a difference in how the `haversine` library, the `sklearn`'s `haversine_distances`, and the `sklearn`'s `manhattan_distances` function compute and return the distances. Let's break down the differences and how to resolve them:\n",
    "1. **Haversine Library:**\n",
    "   - The `haversine` library directly computes the distance between two points and returns a single scalar value.\n",
    "2. **Sklearn's `haversine_distances`:**\n",
    "   - The `haversine_distances` function from `sklearn` returns a distance matrix. When you input two points, it returns a 1x1 matrix (a nested list) containing the distance. This is why you would see the result in squared parentheses like `[[]]`. We extract the single value using `[0][0]`.\n",
    "   - To use these coordinates with sklearn's `haversine_distances` function, you need to convert them to radians using `np.radians`.\n",
    "   - Additionally, the `haversine_distances` function returns the distance in radians, not in meters. To convert this to meters, you need to multiply by the Earth's radius (approximately 6371000 meters).\n",
    "3. **Sklearn's `manhattan_distances`:**\n",
    "   - The `manhattan_distances` function computes the Manhattan distance between two points and returns a distance matrix. We extract the single value from the 1x1 matrix using `[0][0]`.\n",
    "   - Additionally, the `manhattan_distances` function from sklearn computes the distance based on the Cartesian coordinates provided. Since latitude and longitude are angular measurements, the result will not be in meters but in degrees. To convert the Manhattan distance from degrees to meters, you need to account for the Earth's curvature. \n",
    "      - The conversion factor for latitude is approximately 111,320 meters per degree.\n",
    "      - The conversion factor for longitude varies based on the latitude. At the equator, it's approximately 111,320 meters per degree, but it decreases as you move towards the poles.\n",
    "      - Convert the latitude and longitude differences to meters.\n",
    "      - Sum the absolute differences to get the Manhattan distance in meters."
   ]
  },
  {
   "cell_type": "code",
   "execution_count": null,
   "id": "808ab1bc4476de8a",
   "metadata": {
    "collapsed": false
   },
   "outputs": [],
   "source": [
    "# Convert degrees to radians\n",
    "data['pickup_latitude_rad'] = np.radians(data['pickup_latitude'])\n",
    "data['pickup_longitude_rad'] = np.radians(data['pickup_longitude'])\n",
    "data['delivery_latitude_rad'] = np.radians(data['delivery_latitude'])\n",
    "data['delivery_longitude_rad'] = np.radians(data['delivery_longitude'])\n",
    "\n",
    "# Earth's radius in meters\n",
    "earth_radius_m = 6371.0088 * 1000  # average earth radius - https://en.wikipedia.org/wiki/Earth_radius#Mean_radius\n",
    "\n",
    "# Conversion factors\n",
    "meters_per_degree_lat = 111320  # Approximate meters per degree of latitude\n",
    "\n",
    "def manhattan_distance_in_meters(row):\n",
    "    # Convert latitude and longitude differences to meters\n",
    "    lat_diff_m = abs(row['pickup_latitude'] - row['delivery_latitude']) * meters_per_degree_lat\n",
    "    # Convert longitude difference to meters, considering the latitude\n",
    "    lon_diff_m = abs(row['pickup_longitude'] - row['delivery_longitude']) * meters_per_degree_lat * np.cos(np.radians((row['pickup_latitude'] + row['delivery_latitude']) / 2))\n",
    "    # Sum the absolute differences to get the Manhattan distance in meters\n",
    "    return lat_diff_m + lon_diff_m"
   ]
  },
  {
   "cell_type": "code",
   "execution_count": null,
   "id": "c93468fe8bc656f1",
   "metadata": {
    "collapsed": false
   },
   "outputs": [],
   "source": [
    "data['pd_distance_haversine_m'] = data.apply(\n",
    "    lambda x: haversine(\n",
    "        (x['pickup_latitude'], x['pickup_longitude']),\n",
    "        (x['delivery_latitude'], x['delivery_longitude']),\n",
    "        unit=Unit.METERS\n",
    "    ), axis=1\n",
    ")\n",
    "data['pd_distance_haversine_m_sk'] = data.apply(\n",
    "    lambda x: haversine_distances(\n",
    "        np.array([[x['pickup_latitude_rad'], x['pickup_longitude_rad']]]),\n",
    "        np.array([[x['delivery_latitude_rad'], x['delivery_longitude_rad']]])\n",
    "    )[0][0] * earth_radius_m, axis=1\n",
    ")\n",
    "data['pd_distance_manhattan_m'] = data.apply(manhattan_distance_in_meters, axis=1)\n",
    "data.head()"
   ]
  },
  {
   "cell_type": "code",
   "execution_count": null,
   "id": "b6be2faf50c7f774",
   "metadata": {
    "collapsed": false
   },
   "outputs": [],
   "source": [
    "# print the number of null rows\n",
    "data.isnull().sum().sum()"
   ]
  },
  {
   "cell_type": "markdown",
   "id": "5da7791843042776",
   "metadata": {
    "collapsed": false
   },
   "source": [
    "## Save the dataset"
   ]
  },
  {
   "cell_type": "raw",
   "id": "400dcfe4569bd3da",
   "metadata": {
    "collapsed": false
   },
   "source": [
    "data.to_pickle(\"data/dataframe.pkl\")"
   ]
  },
  {
   "cell_type": "markdown",
   "id": "2da57697f71fdf68",
   "metadata": {
    "collapsed": false
   },
   "source": [
    "It's better to use the parquet format, as it is more efficient and faster to read and write. Besides, it is a columnar format, which is more suitable for analytical queries. We can also partition the data by creation date and city, which will help to speed up the queries and allows to analyze different timeframes and different cities if needed."
   ]
  },
  {
   "cell_type": "code",
   "execution_count": null,
   "id": "c3198338e55332c9",
   "metadata": {
    "collapsed": false
   },
   "outputs": [],
   "source": [
    "# parquet appends the data in the files, it doesn't overwrite them, so we need to manually remove the folder with its content to avoid duplicated data\n",
    "shutil.rmtree(\"data/parquet/\")\n",
    "os.makedirs(\"data/parquet/\")"
   ]
  },
  {
   "cell_type": "code",
   "execution_count": null,
   "id": "4a357e3ed80c39b1",
   "metadata": {
    "collapsed": false
   },
   "outputs": [],
   "source": [
    "data.to_parquet(\"data/parquet/dataframe.parquet\", index=False, partition_cols=['creation_date', 'city_code'])"
   ]
  },
  {
   "cell_type": "markdown",
   "id": "9f700ca8f9a310ca",
   "metadata": {
    "collapsed": false
   },
   "source": [
    "## Load the dataset"
   ]
  },
  {
   "cell_type": "raw",
   "id": "f459d6342f561915",
   "metadata": {
    "collapsed": false
   },
   "source": [
    "data = pd.read_pickle(\"data/dataframe.pkl\")"
   ]
  },
  {
   "cell_type": "code",
   "execution_count": 5,
   "id": "5ecce593d1c02912",
   "metadata": {
    "collapsed": false,
    "ExecuteTime": {
     "end_time": "2025-01-16T14:14:57.250789Z",
     "start_time": "2025-01-16T14:14:55.985779Z"
    }
   },
   "outputs": [],
   "source": [
    "data = pd.read_parquet(\"data/parquet/dataframe.parquet\")"
   ]
  },
  {
   "cell_type": "markdown",
   "source": [
    "## Exploratory Data Analysis (EDA)"
   ],
   "metadata": {
    "collapsed": false
   },
   "id": "933c8f1d588226ce"
  },
  {
   "cell_type": "code",
   "execution_count": null,
   "id": "71786bb2d8f08ad7",
   "metadata": {
    "collapsed": false
   },
   "outputs": [],
   "source": [
    "# Histogram of the # of data per day / hour\n",
    "plt.figure(figsize=(15, 8))\n",
    "plt.hist(data['creation_timestamp'], bins = 1000)\n",
    "plt.title('Histogram of the # of data per day / hour')\n",
    "plt.xlabel('Day / Hour')\n",
    "plt.ylabel('Frequency')\n",
    "plt.show()"
   ]
  },
  {
   "cell_type": "code",
   "execution_count": null,
   "id": "9b49b7bdfaf6dc14",
   "metadata": {
    "collapsed": false
   },
   "outputs": [],
   "source": [
    "plt.figure(figsize=(15, 8))\n",
    "plt.hist(data['creation_date'], bins = 14)\n",
    "plt.title('Histogram of the # of data per day')\n",
    "plt.xlabel('Day')\n",
    "plt.ylabel('Frequency')\n",
    "plt.show()"
   ]
  },
  {
   "cell_type": "code",
   "execution_count": null,
   "id": "76b3fb2c7e172f38",
   "metadata": {
    "collapsed": false
   },
   "outputs": [],
   "source": [
    "plt.figure(figsize=(15, 8))\n",
    "plt.hist(data['creation_hour'])\n",
    "plt.title('Histogram of the # of data per hour')\n",
    "plt.xlabel('Hour')\n",
    "plt.ylabel('Frequency')\n",
    "plt.show()"
   ]
  },
  {
   "cell_type": "code",
   "execution_count": null,
   "id": "e5d0cbff51d0870",
   "metadata": {
    "collapsed": false
   },
   "outputs": [],
   "source": [
    "# Check the distribution of the transport types\n",
    "data['transport'].value_counts()"
   ]
  },
  {
   "cell_type": "code",
   "execution_count": null,
   "id": "47fa4556b397ea7b",
   "metadata": {
    "collapsed": false
   },
   "outputs": [],
   "source": [
    "# Check the distribution of the distances\n",
    "plt.figure(figsize=(15, 8))\n",
    "plt.hist(data['pd_distance_haversine_m'], bins = 1000)\n",
    "plt.xlim(0, 10000)\n",
    "plt.title('Histogram of the distances')\n",
    "plt.xlabel('Distance (m)')\n",
    "plt.ylabel('Frequency')\n",
    "plt.show()"
   ]
  },
  {
   "cell_type": "markdown",
   "id": "b4f24b33b07b58e9",
   "metadata": {
    "collapsed": false
   },
   "source": [
    "## Hyperparameters"
   ]
  },
  {
   "cell_type": "code",
   "execution_count": 6,
   "id": "843f73749bdce7ee",
   "metadata": {
    "collapsed": false,
    "ExecuteTime": {
     "end_time": "2025-01-16T14:14:57.308505Z",
     "start_time": "2025-01-16T14:14:57.239701Z"
    }
   },
   "outputs": [],
   "source": [
    "test_set_perc = 0.1\n",
    "days_for_test = 7\n",
    "k_cv = 5"
   ]
  },
  {
   "cell_type": "markdown",
   "id": "3aed5934e3c1f8f",
   "metadata": {
    "collapsed": false
   },
   "source": [
    "## Database split"
   ]
  },
  {
   "cell_type": "code",
   "execution_count": 7,
   "id": "2574aa199337f236",
   "metadata": {
    "collapsed": false,
    "ExecuteTime": {
     "end_time": "2025-01-16T14:14:57.327521Z",
     "start_time": "2025-01-16T14:14:57.245241Z"
    }
   },
   "outputs": [
    {
     "data": {
      "text/plain": "0        0 days 00:12:22.108000\n1        0 days 00:04:47.417000\n2        0 days 00:08:15.392000\n3        0 days 00:02:55.062000\n4        0 days 00:06:16.423000\n                  ...          \n972466   0 days 00:02:35.306000\n972467   0 days 00:06:11.268000\n972468   0 days 00:12:22.575000\n972469   0 days 00:13:06.619000\n972470   0 days 00:03:14.149000\nName: pickup_to_delivery, Length: 972471, dtype: timedelta64[ns]"
     },
     "execution_count": 7,
     "metadata": {},
     "output_type": "execute_result"
    }
   ],
   "source": [
    "X = data\n",
    "y = data['delivery_entering_timestamp'] - data['pickup_timestamp']\n",
    "y = pd.Series(y, name='pickup_to_delivery')\n",
    "y"
   ]
  },
  {
   "cell_type": "markdown",
   "id": "fc1bd6034ee61016",
   "metadata": {
    "collapsed": false
   },
   "source": [
    "As we are dealing with a time-series dataset (orders are placed at different times), we will split the data based on the creation timestamp, leaving out the last 10% of the data for testing. This will help to understand the performance of the model on unseen data, as in reality we will have to test the model on data created on day+1 with respect to our training data."
   ]
  },
  {
   "cell_type": "code",
   "execution_count": 8,
   "id": "62cf1844840c2240",
   "metadata": {
    "collapsed": false,
    "ExecuteTime": {
     "end_time": "2025-01-16T14:14:58.146326Z",
     "start_time": "2025-01-16T14:14:57.273894Z"
    }
   },
   "outputs": [],
   "source": [
    "X.sort_values('creation_timestamp', inplace=True)\n",
    "X_train, X_test, y_train, y_test = train_test_split(X, y, test_size=test_set_perc, random_state=0)"
   ]
  },
  {
   "cell_type": "code",
   "execution_count": 9,
   "id": "fc0cc9098900ec66",
   "metadata": {
    "collapsed": false,
    "ExecuteTime": {
     "end_time": "2025-01-16T14:14:58.547985Z",
     "start_time": "2025-01-16T14:14:58.173320Z"
    }
   },
   "outputs": [
    {
     "data": {
      "text/plain": "       country_code      order_id  courier_id        creation_timestamp  \\\n829953           ES  100939319797   107746007 2024-10-17 23:34:35+00:00   \n669859           ES  100928878014   159994081 2024-10-13 10:15:57+00:00   \n140760           ES  100907146806    56424684 2024-10-03 19:11:31+00:00   \n452412           ES  100919437062    84525678 2024-10-09 00:44:00+00:00   \n321294           ES  100913100187     9128920 2024-10-06 10:39:27+00:00   \n...             ...           ...         ...                       ...   \n172666           ES  100906861608   108265471 2024-10-03 17:21:28+00:00   \n918618           ES  100944115229   169107249 2024-10-19 21:53:26+00:00   \n111084           ES  100905287793   177356926 2024-10-02 20:24:46+00:00   \n437374           ES  100919914573    25564120 2024-10-09 13:12:58+00:00   \n334062           ES  100913608829   158277364 2024-10-06 14:02:10+00:00   \n\n            activation_timestamp  transport                 pickup_timestamp  \\\n829953 2024-10-17 23:34:36+00:00    BICYCLE 2024-10-17 23:44:41.077000+00:00   \n669859 2024-10-13 10:15:58+00:00  MOTORBIKE 2024-10-13 10:54:50.678000+00:00   \n140760 2024-10-03 19:11:31+00:00    BICYCLE 2024-10-03 19:17:37.563000+00:00   \n452412 2024-10-09 00:44:00+00:00    BICYCLE 2024-10-09 00:52:46.420000+00:00   \n321294 2024-10-06 10:39:29+00:00        CAR 2024-10-06 10:57:47.651000+00:00   \n...                          ...        ...                              ...   \n172666 2024-10-03 17:21:29+00:00  MOTORBIKE 2024-10-03 17:30:44.205000+00:00   \n918618 2024-10-19 21:53:28+00:00    BICYCLE 2024-10-19 22:01:57.618000+00:00   \n111084 2024-10-02 20:28:42+00:00  MOTORBIKE 2024-10-02 20:44:55.616000+00:00   \n437374 2024-10-09 13:12:59+00:00  MOTORBIKE 2024-10-09 13:32:35.416000+00:00   \n334062 2024-10-06 14:02:11+00:00    BICYCLE 2024-10-06 14:23:35.650000+00:00   \n\n       delivery_entering_timestamp        delivery_timestamp  pickup_latitude  \\\n829953   2024-10-17 23:54:16+00:00 2024-10-17 23:55:49+00:00        41.390423   \n669859   2024-10-13 11:12:48+00:00 2024-10-13 11:15:25+00:00        40.446358   \n140760   2024-10-03 19:21:24+00:00 2024-10-03 19:24:36+00:00        41.404724   \n452412   2024-10-09 01:07:02+00:00 2024-10-09 01:07:53+00:00        41.392460   \n321294   2024-10-06 11:00:02+00:00 2024-10-06 11:01:20+00:00        40.418365   \n...                            ...                       ...              ...   \n172666   2024-10-03 17:35:51+00:00 2024-10-03 17:38:36+00:00        40.432785   \n918618   2024-10-19 22:04:29+00:00 2024-10-19 22:06:33+00:00        41.393707   \n111084   2024-10-02 21:13:39+00:00 2024-10-02 21:20:03+00:00        40.338730   \n437374   2024-10-09 13:43:15+00:00 2024-10-09 13:44:38+00:00        41.435143   \n334062   2024-10-06 14:28:21+00:00 2024-10-06 14:32:11+00:00        40.433830   \n\n        ...  creation_hour  pickup_latitude_rad  pickup_longitude_rad  \\\n829953  ...             23             0.722399              0.037836   \n669859  ...             10             0.705922             -0.062614   \n140760  ...             19             0.722649              0.038259   \n452412  ...              0             0.722435              0.038459   \n321294  ...             10             0.705434             -0.064176   \n...     ...            ...                  ...                   ...   \n172666  ...             17             0.705685             -0.064283   \n918618  ...             21             0.722456              0.037507   \n111084  ...             20             0.704044             -0.065159   \n437374  ...             13             0.723180              0.038061   \n334062  ...             14             0.705703             -0.064621   \n\n       delivery_latitude_rad delivery_longitude_rad pd_distance_haversine_m  \\\n829953              0.722325               0.037685              860.626737   \n669859              0.705962              -0.062928             1543.613921   \n140760              0.722660               0.038404              695.706194   \n452412              0.722945               0.038384             3267.345470   \n321294              0.705491              -0.064168              370.807625   \n...                      ...                    ...                     ...   \n172666              0.705831              -0.064182             1046.507571   \n918618              0.722471               0.037606              481.520294   \n111084              0.703370              -0.065534             4660.618245   \n437374              0.722814               0.037869             2500.692483   \n334062              0.705711              -0.064850             1112.474189   \n\n        pd_distance_haversine_m_sk  pd_distance_manhattan_m  creation_date  \\\n829953                  860.626737              1192.918831     2024-10-17   \n669859                 1543.613921              1778.636018     2024-10-13   \n140760                  695.706194               764.678030     2024-10-03   \n452412                 3267.345470              3607.004626     2024-10-09   \n321294                  370.807625               409.366432     2024-10-06   \n...                            ...                      ...            ...   \n172666                 1046.507571              1415.105660     2024-10-03   \n918618                  481.520294               565.340153     2024-10-19   \n111084                 4660.618245              6117.422493     2024-10-02   \n437374                 2500.692483              3247.075034     2024-10-09   \n334062                 1112.474189              1160.562431     2024-10-06   \n\n        city_code  \n829953        BCN  \n669859        MAD  \n140760        BCN  \n452412        BCN  \n321294        MAD  \n...           ...  \n172666        MAD  \n918618        BCN  \n111084        MAD  \n437374        BCN  \n334062        MAD  \n\n[875223 rows x 26 columns]",
      "text/html": "<div>\n<style scoped>\n    .dataframe tbody tr th:only-of-type {\n        vertical-align: middle;\n    }\n\n    .dataframe tbody tr th {\n        vertical-align: top;\n    }\n\n    .dataframe thead th {\n        text-align: right;\n    }\n</style>\n<table border=\"1\" class=\"dataframe\">\n  <thead>\n    <tr style=\"text-align: right;\">\n      <th></th>\n      <th>country_code</th>\n      <th>order_id</th>\n      <th>courier_id</th>\n      <th>creation_timestamp</th>\n      <th>activation_timestamp</th>\n      <th>transport</th>\n      <th>pickup_timestamp</th>\n      <th>delivery_entering_timestamp</th>\n      <th>delivery_timestamp</th>\n      <th>pickup_latitude</th>\n      <th>...</th>\n      <th>creation_hour</th>\n      <th>pickup_latitude_rad</th>\n      <th>pickup_longitude_rad</th>\n      <th>delivery_latitude_rad</th>\n      <th>delivery_longitude_rad</th>\n      <th>pd_distance_haversine_m</th>\n      <th>pd_distance_haversine_m_sk</th>\n      <th>pd_distance_manhattan_m</th>\n      <th>creation_date</th>\n      <th>city_code</th>\n    </tr>\n  </thead>\n  <tbody>\n    <tr>\n      <th>829953</th>\n      <td>ES</td>\n      <td>100939319797</td>\n      <td>107746007</td>\n      <td>2024-10-17 23:34:35+00:00</td>\n      <td>2024-10-17 23:34:36+00:00</td>\n      <td>BICYCLE</td>\n      <td>2024-10-17 23:44:41.077000+00:00</td>\n      <td>2024-10-17 23:54:16+00:00</td>\n      <td>2024-10-17 23:55:49+00:00</td>\n      <td>41.390423</td>\n      <td>...</td>\n      <td>23</td>\n      <td>0.722399</td>\n      <td>0.037836</td>\n      <td>0.722325</td>\n      <td>0.037685</td>\n      <td>860.626737</td>\n      <td>860.626737</td>\n      <td>1192.918831</td>\n      <td>2024-10-17</td>\n      <td>BCN</td>\n    </tr>\n    <tr>\n      <th>669859</th>\n      <td>ES</td>\n      <td>100928878014</td>\n      <td>159994081</td>\n      <td>2024-10-13 10:15:57+00:00</td>\n      <td>2024-10-13 10:15:58+00:00</td>\n      <td>MOTORBIKE</td>\n      <td>2024-10-13 10:54:50.678000+00:00</td>\n      <td>2024-10-13 11:12:48+00:00</td>\n      <td>2024-10-13 11:15:25+00:00</td>\n      <td>40.446358</td>\n      <td>...</td>\n      <td>10</td>\n      <td>0.705922</td>\n      <td>-0.062614</td>\n      <td>0.705962</td>\n      <td>-0.062928</td>\n      <td>1543.613921</td>\n      <td>1543.613921</td>\n      <td>1778.636018</td>\n      <td>2024-10-13</td>\n      <td>MAD</td>\n    </tr>\n    <tr>\n      <th>140760</th>\n      <td>ES</td>\n      <td>100907146806</td>\n      <td>56424684</td>\n      <td>2024-10-03 19:11:31+00:00</td>\n      <td>2024-10-03 19:11:31+00:00</td>\n      <td>BICYCLE</td>\n      <td>2024-10-03 19:17:37.563000+00:00</td>\n      <td>2024-10-03 19:21:24+00:00</td>\n      <td>2024-10-03 19:24:36+00:00</td>\n      <td>41.404724</td>\n      <td>...</td>\n      <td>19</td>\n      <td>0.722649</td>\n      <td>0.038259</td>\n      <td>0.722660</td>\n      <td>0.038404</td>\n      <td>695.706194</td>\n      <td>695.706194</td>\n      <td>764.678030</td>\n      <td>2024-10-03</td>\n      <td>BCN</td>\n    </tr>\n    <tr>\n      <th>452412</th>\n      <td>ES</td>\n      <td>100919437062</td>\n      <td>84525678</td>\n      <td>2024-10-09 00:44:00+00:00</td>\n      <td>2024-10-09 00:44:00+00:00</td>\n      <td>BICYCLE</td>\n      <td>2024-10-09 00:52:46.420000+00:00</td>\n      <td>2024-10-09 01:07:02+00:00</td>\n      <td>2024-10-09 01:07:53+00:00</td>\n      <td>41.392460</td>\n      <td>...</td>\n      <td>0</td>\n      <td>0.722435</td>\n      <td>0.038459</td>\n      <td>0.722945</td>\n      <td>0.038384</td>\n      <td>3267.345470</td>\n      <td>3267.345470</td>\n      <td>3607.004626</td>\n      <td>2024-10-09</td>\n      <td>BCN</td>\n    </tr>\n    <tr>\n      <th>321294</th>\n      <td>ES</td>\n      <td>100913100187</td>\n      <td>9128920</td>\n      <td>2024-10-06 10:39:27+00:00</td>\n      <td>2024-10-06 10:39:29+00:00</td>\n      <td>CAR</td>\n      <td>2024-10-06 10:57:47.651000+00:00</td>\n      <td>2024-10-06 11:00:02+00:00</td>\n      <td>2024-10-06 11:01:20+00:00</td>\n      <td>40.418365</td>\n      <td>...</td>\n      <td>10</td>\n      <td>0.705434</td>\n      <td>-0.064176</td>\n      <td>0.705491</td>\n      <td>-0.064168</td>\n      <td>370.807625</td>\n      <td>370.807625</td>\n      <td>409.366432</td>\n      <td>2024-10-06</td>\n      <td>MAD</td>\n    </tr>\n    <tr>\n      <th>...</th>\n      <td>...</td>\n      <td>...</td>\n      <td>...</td>\n      <td>...</td>\n      <td>...</td>\n      <td>...</td>\n      <td>...</td>\n      <td>...</td>\n      <td>...</td>\n      <td>...</td>\n      <td>...</td>\n      <td>...</td>\n      <td>...</td>\n      <td>...</td>\n      <td>...</td>\n      <td>...</td>\n      <td>...</td>\n      <td>...</td>\n      <td>...</td>\n      <td>...</td>\n      <td>...</td>\n    </tr>\n    <tr>\n      <th>172666</th>\n      <td>ES</td>\n      <td>100906861608</td>\n      <td>108265471</td>\n      <td>2024-10-03 17:21:28+00:00</td>\n      <td>2024-10-03 17:21:29+00:00</td>\n      <td>MOTORBIKE</td>\n      <td>2024-10-03 17:30:44.205000+00:00</td>\n      <td>2024-10-03 17:35:51+00:00</td>\n      <td>2024-10-03 17:38:36+00:00</td>\n      <td>40.432785</td>\n      <td>...</td>\n      <td>17</td>\n      <td>0.705685</td>\n      <td>-0.064283</td>\n      <td>0.705831</td>\n      <td>-0.064182</td>\n      <td>1046.507571</td>\n      <td>1046.507571</td>\n      <td>1415.105660</td>\n      <td>2024-10-03</td>\n      <td>MAD</td>\n    </tr>\n    <tr>\n      <th>918618</th>\n      <td>ES</td>\n      <td>100944115229</td>\n      <td>169107249</td>\n      <td>2024-10-19 21:53:26+00:00</td>\n      <td>2024-10-19 21:53:28+00:00</td>\n      <td>BICYCLE</td>\n      <td>2024-10-19 22:01:57.618000+00:00</td>\n      <td>2024-10-19 22:04:29+00:00</td>\n      <td>2024-10-19 22:06:33+00:00</td>\n      <td>41.393707</td>\n      <td>...</td>\n      <td>21</td>\n      <td>0.722456</td>\n      <td>0.037507</td>\n      <td>0.722471</td>\n      <td>0.037606</td>\n      <td>481.520294</td>\n      <td>481.520294</td>\n      <td>565.340153</td>\n      <td>2024-10-19</td>\n      <td>BCN</td>\n    </tr>\n    <tr>\n      <th>111084</th>\n      <td>ES</td>\n      <td>100905287793</td>\n      <td>177356926</td>\n      <td>2024-10-02 20:24:46+00:00</td>\n      <td>2024-10-02 20:28:42+00:00</td>\n      <td>MOTORBIKE</td>\n      <td>2024-10-02 20:44:55.616000+00:00</td>\n      <td>2024-10-02 21:13:39+00:00</td>\n      <td>2024-10-02 21:20:03+00:00</td>\n      <td>40.338730</td>\n      <td>...</td>\n      <td>20</td>\n      <td>0.704044</td>\n      <td>-0.065159</td>\n      <td>0.703370</td>\n      <td>-0.065534</td>\n      <td>4660.618245</td>\n      <td>4660.618245</td>\n      <td>6117.422493</td>\n      <td>2024-10-02</td>\n      <td>MAD</td>\n    </tr>\n    <tr>\n      <th>437374</th>\n      <td>ES</td>\n      <td>100919914573</td>\n      <td>25564120</td>\n      <td>2024-10-09 13:12:58+00:00</td>\n      <td>2024-10-09 13:12:59+00:00</td>\n      <td>MOTORBIKE</td>\n      <td>2024-10-09 13:32:35.416000+00:00</td>\n      <td>2024-10-09 13:43:15+00:00</td>\n      <td>2024-10-09 13:44:38+00:00</td>\n      <td>41.435143</td>\n      <td>...</td>\n      <td>13</td>\n      <td>0.723180</td>\n      <td>0.038061</td>\n      <td>0.722814</td>\n      <td>0.037869</td>\n      <td>2500.692483</td>\n      <td>2500.692483</td>\n      <td>3247.075034</td>\n      <td>2024-10-09</td>\n      <td>BCN</td>\n    </tr>\n    <tr>\n      <th>334062</th>\n      <td>ES</td>\n      <td>100913608829</td>\n      <td>158277364</td>\n      <td>2024-10-06 14:02:10+00:00</td>\n      <td>2024-10-06 14:02:11+00:00</td>\n      <td>BICYCLE</td>\n      <td>2024-10-06 14:23:35.650000+00:00</td>\n      <td>2024-10-06 14:28:21+00:00</td>\n      <td>2024-10-06 14:32:11+00:00</td>\n      <td>40.433830</td>\n      <td>...</td>\n      <td>14</td>\n      <td>0.705703</td>\n      <td>-0.064621</td>\n      <td>0.705711</td>\n      <td>-0.064850</td>\n      <td>1112.474189</td>\n      <td>1112.474189</td>\n      <td>1160.562431</td>\n      <td>2024-10-06</td>\n      <td>MAD</td>\n    </tr>\n  </tbody>\n</table>\n<p>875223 rows × 26 columns</p>\n</div>"
     },
     "execution_count": 9,
     "metadata": {},
     "output_type": "execute_result"
    }
   ],
   "source": [
    "X_train"
   ]
  },
  {
   "cell_type": "code",
   "execution_count": 10,
   "id": "578fea794feb9a3d",
   "metadata": {
    "collapsed": false,
    "ExecuteTime": {
     "end_time": "2025-01-16T14:14:58.555283Z",
     "start_time": "2025-01-16T14:14:58.548663Z"
    }
   },
   "outputs": [
    {
     "data": {
      "text/plain": "858031   0 days 00:12:10.939000\n626108   0 days 00:07:52.667000\n155855   0 days 00:00:03.892000\n427956   0 days 00:03:16.071000\n294097   0 days 00:08:52.655000\n                  ...          \n152315   0 days 00:14:41.211000\n963395   0 days 00:04:11.996000\n117952   0 days 00:05:22.682000\n435829   0 days 00:17:50.353000\n305711   0 days 00:05:46.393000\nName: pickup_to_delivery, Length: 875223, dtype: timedelta64[ns]"
     },
     "execution_count": 10,
     "metadata": {},
     "output_type": "execute_result"
    }
   ],
   "source": [
    "y_train"
   ]
  },
  {
   "cell_type": "code",
   "execution_count": 11,
   "id": "2e1aab43ff9f5211",
   "metadata": {
    "collapsed": false,
    "ExecuteTime": {
     "end_time": "2025-01-16T14:14:58.617298Z",
     "start_time": "2025-01-16T14:14:58.555442Z"
    }
   },
   "outputs": [
    {
     "name": "stdout",
     "output_type": "stream",
     "text": [
      "(875223, 26) (875223,)\n",
      "(97248, 26) (97248,)\n"
     ]
    }
   ],
   "source": [
    "print(X_train.shape, y_train.shape)\n",
    "print(X_test.shape, y_test.shape)"
   ]
  },
  {
   "cell_type": "code",
   "execution_count": 12,
   "id": "fdc44e42fd992ca8",
   "metadata": {
    "collapsed": false,
    "ExecuteTime": {
     "end_time": "2025-01-16T14:14:58.739421Z",
     "start_time": "2025-01-16T14:14:58.681416Z"
    }
   },
   "outputs": [],
   "source": [
    "# In case we want to test different hyperparameters, we will use cross-validation\n",
    "#scores = cross_val_score(<estimator>, X, y, cv=k_cv)"
   ]
  },
  {
   "cell_type": "markdown",
   "id": "7282f116c476aa5c",
   "metadata": {
    "collapsed": false
   },
   "source": [
    "### Database split using directly the creation date\n",
    "\n",
    "As we have partitioned the data by city and creation date, we can use this information to split the data. This will help to avoid data leakage, as we will not have data from the future in the training set.\n",
    "This is much better than just sorting the data by the creation timestamp and taking 10% of the dataset as test set, as we did before."
   ]
  },
  {
   "cell_type": "code",
   "execution_count": 13,
   "id": "75c872336bd56642",
   "metadata": {
    "collapsed": false,
    "ExecuteTime": {
     "end_time": "2025-01-16T14:15:03.951575Z",
     "start_time": "2025-01-16T14:15:03.938881Z"
    }
   },
   "outputs": [
    {
     "name": "stdout",
     "output_type": "stream",
     "text": [
      "Start date: 2024-09-30 | Begin test date: 2024-10-14 | End date: 2024-10-20\n"
     ]
    }
   ],
   "source": [
    "# We take the last week of the dataset to test the model\n",
    "begin_test_date = pd.to_datetime(end_date) - pd.Timedelta(days=days_for_test-1)\n",
    "begin_test_date = begin_test_date.strftime(\"%Y-%m-%d\")\n",
    "print(f'Start date: {start_date} | Begin test date: {begin_test_date} | End date: {end_date}')"
   ]
  },
  {
   "cell_type": "code",
   "execution_count": 14,
   "id": "3ac70f793bb888aa",
   "metadata": {
    "collapsed": false,
    "ExecuteTime": {
     "end_time": "2025-01-16T14:15:04.337629Z",
     "start_time": "2025-01-16T14:15:03.954618Z"
    }
   },
   "outputs": [
    {
     "data": {
      "text/plain": "  country_code      order_id  courier_id        creation_timestamp  \\\n0           ES  100901312508    24750184 2024-09-30 20:48:58+00:00   \n1           ES  100901502888   114878043 2024-09-30 22:02:24+00:00   \n2           ES  100901552273   169065712 2024-09-30 22:29:26+00:00   \n3           ES  100901587119    98812119 2024-09-30 22:53:13+00:00   \n4           ES  100901593554   170866593 2024-09-30 22:58:15+00:00   \n\n       activation_timestamp  transport                 pickup_timestamp  \\\n0 2024-09-30 20:48:59+00:00        CAR 2024-09-30 21:05:11.892000+00:00   \n1 2024-09-30 22:02:25+00:00  MOTORBIKE 2024-09-30 22:18:10.583000+00:00   \n2 2024-09-30 22:29:26+00:00        CAR 2024-09-30 22:42:27.608000+00:00   \n3 2024-09-30 22:53:13+00:00        CAR 2024-09-30 23:13:58.938000+00:00   \n4 2024-09-30 22:58:17+00:00  MOTORBIKE 2024-09-30 23:08:24.577000+00:00   \n\n  delivery_entering_timestamp        delivery_timestamp  pickup_latitude  ...  \\\n0   2024-09-30 21:17:34+00:00 2024-09-30 21:20:22+00:00        38.391617  ...   \n1   2024-09-30 22:22:58+00:00 2024-09-30 22:23:44+00:00        38.338440  ...   \n2   2024-09-30 22:50:43+00:00 2024-09-30 22:56:36+00:00        38.366512  ...   \n3   2024-09-30 23:16:54+00:00 2024-09-30 23:21:06+00:00        38.359184  ...   \n4   2024-09-30 23:14:41+00:00 2024-09-30 23:16:10+00:00        38.345978  ...   \n\n   creation_hour  pickup_latitude_rad  pickup_longitude_rad  \\\n0             20             0.670060             -0.008959   \n1             22             0.669132             -0.008492   \n2             22             0.669622             -0.008200   \n3             22             0.669494             -0.008437   \n4             22             0.669264             -0.008514   \n\n  delivery_latitude_rad delivery_longitude_rad pd_distance_haversine_m  \\\n0              0.670057              -0.009104              724.460401   \n1              0.669226              -0.008693             1166.853169   \n2              0.669375              -0.008726             3065.108653   \n3              0.669460              -0.008370              400.794655   \n4              0.669439              -0.008415             1225.327574   \n\n   pd_distance_haversine_m_sk  pd_distance_manhattan_m  creation_date  \\\n0                  724.460401               742.866745     2024-09-30   \n1                 1166.853169              1601.094467     2024-09-30   \n2                 3065.108653              4208.852129     2024-09-30   \n3                  400.794655               555.236086     2024-09-30   \n4                 1225.327574              1618.610270     2024-09-30   \n\n   city_code  \n0        ALC  \n1        ALC  \n2        ALC  \n3        ALC  \n4        ALC  \n\n[5 rows x 26 columns]",
      "text/html": "<div>\n<style scoped>\n    .dataframe tbody tr th:only-of-type {\n        vertical-align: middle;\n    }\n\n    .dataframe tbody tr th {\n        vertical-align: top;\n    }\n\n    .dataframe thead th {\n        text-align: right;\n    }\n</style>\n<table border=\"1\" class=\"dataframe\">\n  <thead>\n    <tr style=\"text-align: right;\">\n      <th></th>\n      <th>country_code</th>\n      <th>order_id</th>\n      <th>courier_id</th>\n      <th>creation_timestamp</th>\n      <th>activation_timestamp</th>\n      <th>transport</th>\n      <th>pickup_timestamp</th>\n      <th>delivery_entering_timestamp</th>\n      <th>delivery_timestamp</th>\n      <th>pickup_latitude</th>\n      <th>...</th>\n      <th>creation_hour</th>\n      <th>pickup_latitude_rad</th>\n      <th>pickup_longitude_rad</th>\n      <th>delivery_latitude_rad</th>\n      <th>delivery_longitude_rad</th>\n      <th>pd_distance_haversine_m</th>\n      <th>pd_distance_haversine_m_sk</th>\n      <th>pd_distance_manhattan_m</th>\n      <th>creation_date</th>\n      <th>city_code</th>\n    </tr>\n  </thead>\n  <tbody>\n    <tr>\n      <th>0</th>\n      <td>ES</td>\n      <td>100901312508</td>\n      <td>24750184</td>\n      <td>2024-09-30 20:48:58+00:00</td>\n      <td>2024-09-30 20:48:59+00:00</td>\n      <td>CAR</td>\n      <td>2024-09-30 21:05:11.892000+00:00</td>\n      <td>2024-09-30 21:17:34+00:00</td>\n      <td>2024-09-30 21:20:22+00:00</td>\n      <td>38.391617</td>\n      <td>...</td>\n      <td>20</td>\n      <td>0.670060</td>\n      <td>-0.008959</td>\n      <td>0.670057</td>\n      <td>-0.009104</td>\n      <td>724.460401</td>\n      <td>724.460401</td>\n      <td>742.866745</td>\n      <td>2024-09-30</td>\n      <td>ALC</td>\n    </tr>\n    <tr>\n      <th>1</th>\n      <td>ES</td>\n      <td>100901502888</td>\n      <td>114878043</td>\n      <td>2024-09-30 22:02:24+00:00</td>\n      <td>2024-09-30 22:02:25+00:00</td>\n      <td>MOTORBIKE</td>\n      <td>2024-09-30 22:18:10.583000+00:00</td>\n      <td>2024-09-30 22:22:58+00:00</td>\n      <td>2024-09-30 22:23:44+00:00</td>\n      <td>38.338440</td>\n      <td>...</td>\n      <td>22</td>\n      <td>0.669132</td>\n      <td>-0.008492</td>\n      <td>0.669226</td>\n      <td>-0.008693</td>\n      <td>1166.853169</td>\n      <td>1166.853169</td>\n      <td>1601.094467</td>\n      <td>2024-09-30</td>\n      <td>ALC</td>\n    </tr>\n    <tr>\n      <th>2</th>\n      <td>ES</td>\n      <td>100901552273</td>\n      <td>169065712</td>\n      <td>2024-09-30 22:29:26+00:00</td>\n      <td>2024-09-30 22:29:26+00:00</td>\n      <td>CAR</td>\n      <td>2024-09-30 22:42:27.608000+00:00</td>\n      <td>2024-09-30 22:50:43+00:00</td>\n      <td>2024-09-30 22:56:36+00:00</td>\n      <td>38.366512</td>\n      <td>...</td>\n      <td>22</td>\n      <td>0.669622</td>\n      <td>-0.008200</td>\n      <td>0.669375</td>\n      <td>-0.008726</td>\n      <td>3065.108653</td>\n      <td>3065.108653</td>\n      <td>4208.852129</td>\n      <td>2024-09-30</td>\n      <td>ALC</td>\n    </tr>\n    <tr>\n      <th>3</th>\n      <td>ES</td>\n      <td>100901587119</td>\n      <td>98812119</td>\n      <td>2024-09-30 22:53:13+00:00</td>\n      <td>2024-09-30 22:53:13+00:00</td>\n      <td>CAR</td>\n      <td>2024-09-30 23:13:58.938000+00:00</td>\n      <td>2024-09-30 23:16:54+00:00</td>\n      <td>2024-09-30 23:21:06+00:00</td>\n      <td>38.359184</td>\n      <td>...</td>\n      <td>22</td>\n      <td>0.669494</td>\n      <td>-0.008437</td>\n      <td>0.669460</td>\n      <td>-0.008370</td>\n      <td>400.794655</td>\n      <td>400.794655</td>\n      <td>555.236086</td>\n      <td>2024-09-30</td>\n      <td>ALC</td>\n    </tr>\n    <tr>\n      <th>4</th>\n      <td>ES</td>\n      <td>100901593554</td>\n      <td>170866593</td>\n      <td>2024-09-30 22:58:15+00:00</td>\n      <td>2024-09-30 22:58:17+00:00</td>\n      <td>MOTORBIKE</td>\n      <td>2024-09-30 23:08:24.577000+00:00</td>\n      <td>2024-09-30 23:14:41+00:00</td>\n      <td>2024-09-30 23:16:10+00:00</td>\n      <td>38.345978</td>\n      <td>...</td>\n      <td>22</td>\n      <td>0.669264</td>\n      <td>-0.008514</td>\n      <td>0.669439</td>\n      <td>-0.008415</td>\n      <td>1225.327574</td>\n      <td>1225.327574</td>\n      <td>1618.610270</td>\n      <td>2024-09-30</td>\n      <td>ALC</td>\n    </tr>\n  </tbody>\n</table>\n<p>5 rows × 26 columns</p>\n</div>"
     },
     "execution_count": 14,
     "metadata": {},
     "output_type": "execute_result"
    }
   ],
   "source": [
    "X_train = pd.read_parquet(\"data/parquet/dataframe.parquet/\", filters=[('creation_date', '<', begin_test_date)])\n",
    "X_train.head()"
   ]
  },
  {
   "cell_type": "code",
   "execution_count": 15,
   "id": "74662b30246725ca",
   "metadata": {
    "collapsed": false,
    "ExecuteTime": {
     "end_time": "2025-01-16T14:15:04.518192Z",
     "start_time": "2025-01-16T14:15:04.451699Z"
    }
   },
   "outputs": [
    {
     "data": {
      "text/plain": "np.int64(0)"
     },
     "execution_count": 15,
     "metadata": {},
     "output_type": "execute_result"
    }
   ],
   "source": [
    "# Check that there are no nulls deriving from a wrong writing of parquet files (appending instead of overwriting)\n",
    "X_train.isnull().sum().sum()"
   ]
  },
  {
   "cell_type": "code",
   "execution_count": 16,
   "id": "7062f2936f260656",
   "metadata": {
    "collapsed": false,
    "ExecuteTime": {
     "end_time": "2025-01-16T14:15:04.520944Z",
     "start_time": "2025-01-16T14:15:04.485727Z"
    }
   },
   "outputs": [
    {
     "data": {
      "text/plain": "0        0 days 00:12:22.108000\n1        0 days 00:04:47.417000\n2        0 days 00:08:15.392000\n3        0 days 00:02:55.062000\n4        0 days 00:06:16.423000\n                  ...          \n678013   0 days 00:04:27.832000\n678014   0 days 00:05:29.981000\n678015   0 days 00:12:19.778000\n678016   0 days 00:08:33.237000\n678017   0 days 00:09:04.232000\nName: pickup_to_delivery, Length: 678018, dtype: timedelta64[ns]"
     },
     "execution_count": 16,
     "metadata": {},
     "output_type": "execute_result"
    }
   ],
   "source": [
    "y_train = X_train['delivery_entering_timestamp'] - X_train['pickup_timestamp']\n",
    "y_train = pd.Series(y_train, name='pickup_to_delivery')\n",
    "y_train"
   ]
  },
  {
   "cell_type": "code",
   "execution_count": 17,
   "id": "ab7c005256b289b6",
   "metadata": {
    "collapsed": false,
    "ExecuteTime": {
     "end_time": "2025-01-16T14:15:04.655974Z",
     "start_time": "2025-01-16T14:15:04.502116Z"
    }
   },
   "outputs": [
    {
     "data": {
      "text/plain": "np.int64(0)"
     },
     "execution_count": 17,
     "metadata": {},
     "output_type": "execute_result"
    }
   ],
   "source": [
    "y_train.isnull().sum().sum()"
   ]
  },
  {
   "cell_type": "code",
   "execution_count": 18,
   "id": "1830d6e04cb2eed0",
   "metadata": {
    "collapsed": false,
    "ExecuteTime": {
     "end_time": "2025-01-16T14:15:04.777365Z",
     "start_time": "2025-01-16T14:15:04.511854Z"
    }
   },
   "outputs": [
    {
     "data": {
      "text/plain": "  country_code      order_id  courier_id        creation_timestamp  \\\n0           ES  100931299686   172175095 2024-10-14 00:09:32+00:00   \n1           ES  100931323115   170201413 2024-10-14 00:50:44+00:00   \n2           ES  100931293587     2320936 2024-10-14 00:00:33+00:00   \n3           ES  100931297084    48156385 2024-10-14 00:05:52+00:00   \n4           ES  100931307238   177355044 2024-10-14 00:20:58+00:00   \n\n       activation_timestamp  transport                 pickup_timestamp  \\\n0 2024-10-14 00:09:34+00:00  MOTORBIKE 2024-10-14 00:28:54.317000+00:00   \n1 2024-10-14 10:12:43+00:00        CAR 2024-10-14 10:36:43.867000+00:00   \n2 2024-10-14 00:00:34+00:00        CAR 2024-10-14 00:11:05.783000+00:00   \n3 2024-10-14 00:05:53+00:00  MOTORBIKE 2024-10-14 00:25:18.815000+00:00   \n4 2024-10-14 00:20:59+00:00  MOTORBIKE 2024-10-14 00:39:33.601000+00:00   \n\n  delivery_entering_timestamp        delivery_timestamp  pickup_latitude  ...  \\\n0   2024-10-14 00:34:47+00:00 2024-10-14 00:36:48+00:00        38.382520  ...   \n1   2024-10-14 10:48:41+00:00 2024-10-14 10:53:34+00:00        38.348476  ...   \n2   2024-10-14 00:16:49+00:00 2024-10-14 00:17:38+00:00        38.425022  ...   \n3   2024-10-14 00:33:40+00:00 2024-10-14 00:40:31+00:00        38.348465  ...   \n4   2024-10-14 00:51:56+00:00 2024-10-14 00:57:26+00:00        38.338870  ...   \n\n   creation_hour  pickup_latitude_rad  pickup_longitude_rad  \\\n0              0             0.669901             -0.007882   \n1              0             0.669307             -0.008489   \n2              0             0.670643             -0.007077   \n3              0             0.669307             -0.008617   \n4              0             0.669140             -0.009017   \n\n  delivery_latitude_rad delivery_longitude_rad pd_distance_haversine_m  \\\n0              0.669500              -0.008304             3310.852444   \n1              0.669187              -0.008794             1705.517814   \n2              0.670889              -0.006727             2345.425073   \n3              0.669430              -0.008205             2201.177479   \n4              0.669468              -0.008548             3138.707723   \n\n   pd_distance_haversine_m_sk  pd_distance_manhattan_m  creation_date  \\\n0                 3310.852444              4665.700375     2024-10-14   \n1                 1705.517814              2292.240241     2024-10-14   \n2                 2345.425073              3315.503069     2024-10-14   \n3                 2201.177479              2843.624975     2024-10-14   \n4                 3138.707723              4436.739653     2024-10-14   \n\n   city_code  \n0        ALC  \n1        ALC  \n2        ALC  \n3        ALC  \n4        ALC  \n\n[5 rows x 26 columns]",
      "text/html": "<div>\n<style scoped>\n    .dataframe tbody tr th:only-of-type {\n        vertical-align: middle;\n    }\n\n    .dataframe tbody tr th {\n        vertical-align: top;\n    }\n\n    .dataframe thead th {\n        text-align: right;\n    }\n</style>\n<table border=\"1\" class=\"dataframe\">\n  <thead>\n    <tr style=\"text-align: right;\">\n      <th></th>\n      <th>country_code</th>\n      <th>order_id</th>\n      <th>courier_id</th>\n      <th>creation_timestamp</th>\n      <th>activation_timestamp</th>\n      <th>transport</th>\n      <th>pickup_timestamp</th>\n      <th>delivery_entering_timestamp</th>\n      <th>delivery_timestamp</th>\n      <th>pickup_latitude</th>\n      <th>...</th>\n      <th>creation_hour</th>\n      <th>pickup_latitude_rad</th>\n      <th>pickup_longitude_rad</th>\n      <th>delivery_latitude_rad</th>\n      <th>delivery_longitude_rad</th>\n      <th>pd_distance_haversine_m</th>\n      <th>pd_distance_haversine_m_sk</th>\n      <th>pd_distance_manhattan_m</th>\n      <th>creation_date</th>\n      <th>city_code</th>\n    </tr>\n  </thead>\n  <tbody>\n    <tr>\n      <th>0</th>\n      <td>ES</td>\n      <td>100931299686</td>\n      <td>172175095</td>\n      <td>2024-10-14 00:09:32+00:00</td>\n      <td>2024-10-14 00:09:34+00:00</td>\n      <td>MOTORBIKE</td>\n      <td>2024-10-14 00:28:54.317000+00:00</td>\n      <td>2024-10-14 00:34:47+00:00</td>\n      <td>2024-10-14 00:36:48+00:00</td>\n      <td>38.382520</td>\n      <td>...</td>\n      <td>0</td>\n      <td>0.669901</td>\n      <td>-0.007882</td>\n      <td>0.669500</td>\n      <td>-0.008304</td>\n      <td>3310.852444</td>\n      <td>3310.852444</td>\n      <td>4665.700375</td>\n      <td>2024-10-14</td>\n      <td>ALC</td>\n    </tr>\n    <tr>\n      <th>1</th>\n      <td>ES</td>\n      <td>100931323115</td>\n      <td>170201413</td>\n      <td>2024-10-14 00:50:44+00:00</td>\n      <td>2024-10-14 10:12:43+00:00</td>\n      <td>CAR</td>\n      <td>2024-10-14 10:36:43.867000+00:00</td>\n      <td>2024-10-14 10:48:41+00:00</td>\n      <td>2024-10-14 10:53:34+00:00</td>\n      <td>38.348476</td>\n      <td>...</td>\n      <td>0</td>\n      <td>0.669307</td>\n      <td>-0.008489</td>\n      <td>0.669187</td>\n      <td>-0.008794</td>\n      <td>1705.517814</td>\n      <td>1705.517814</td>\n      <td>2292.240241</td>\n      <td>2024-10-14</td>\n      <td>ALC</td>\n    </tr>\n    <tr>\n      <th>2</th>\n      <td>ES</td>\n      <td>100931293587</td>\n      <td>2320936</td>\n      <td>2024-10-14 00:00:33+00:00</td>\n      <td>2024-10-14 00:00:34+00:00</td>\n      <td>CAR</td>\n      <td>2024-10-14 00:11:05.783000+00:00</td>\n      <td>2024-10-14 00:16:49+00:00</td>\n      <td>2024-10-14 00:17:38+00:00</td>\n      <td>38.425022</td>\n      <td>...</td>\n      <td>0</td>\n      <td>0.670643</td>\n      <td>-0.007077</td>\n      <td>0.670889</td>\n      <td>-0.006727</td>\n      <td>2345.425073</td>\n      <td>2345.425073</td>\n      <td>3315.503069</td>\n      <td>2024-10-14</td>\n      <td>ALC</td>\n    </tr>\n    <tr>\n      <th>3</th>\n      <td>ES</td>\n      <td>100931297084</td>\n      <td>48156385</td>\n      <td>2024-10-14 00:05:52+00:00</td>\n      <td>2024-10-14 00:05:53+00:00</td>\n      <td>MOTORBIKE</td>\n      <td>2024-10-14 00:25:18.815000+00:00</td>\n      <td>2024-10-14 00:33:40+00:00</td>\n      <td>2024-10-14 00:40:31+00:00</td>\n      <td>38.348465</td>\n      <td>...</td>\n      <td>0</td>\n      <td>0.669307</td>\n      <td>-0.008617</td>\n      <td>0.669430</td>\n      <td>-0.008205</td>\n      <td>2201.177479</td>\n      <td>2201.177479</td>\n      <td>2843.624975</td>\n      <td>2024-10-14</td>\n      <td>ALC</td>\n    </tr>\n    <tr>\n      <th>4</th>\n      <td>ES</td>\n      <td>100931307238</td>\n      <td>177355044</td>\n      <td>2024-10-14 00:20:58+00:00</td>\n      <td>2024-10-14 00:20:59+00:00</td>\n      <td>MOTORBIKE</td>\n      <td>2024-10-14 00:39:33.601000+00:00</td>\n      <td>2024-10-14 00:51:56+00:00</td>\n      <td>2024-10-14 00:57:26+00:00</td>\n      <td>38.338870</td>\n      <td>...</td>\n      <td>0</td>\n      <td>0.669140</td>\n      <td>-0.009017</td>\n      <td>0.669468</td>\n      <td>-0.008548</td>\n      <td>3138.707723</td>\n      <td>3138.707723</td>\n      <td>4436.739653</td>\n      <td>2024-10-14</td>\n      <td>ALC</td>\n    </tr>\n  </tbody>\n</table>\n<p>5 rows × 26 columns</p>\n</div>"
     },
     "execution_count": 18,
     "metadata": {},
     "output_type": "execute_result"
    }
   ],
   "source": [
    "X_test = pd.read_parquet(\"data/parquet/dataframe.parquet\", filters=[('creation_date', '>=', begin_test_date)])\n",
    "X_test.head()"
   ]
  },
  {
   "cell_type": "code",
   "execution_count": 19,
   "id": "273b4efbb39767db",
   "metadata": {
    "collapsed": false,
    "ExecuteTime": {
     "end_time": "2025-01-16T14:15:04.836320Z",
     "start_time": "2025-01-16T14:15:04.686476Z"
    }
   },
   "outputs": [
    {
     "data": {
      "text/plain": "np.int64(0)"
     },
     "execution_count": 19,
     "metadata": {},
     "output_type": "execute_result"
    }
   ],
   "source": [
    "X_test.isnull().sum().sum()"
   ]
  },
  {
   "cell_type": "markdown",
   "source": [
    "To compute the MAE, we need to do a power to 2, but if I use the type `np.timedelta64(1, \"ns\")` for `y_test` I get the following error:\n",
    "`TypeError: cannot perform __pow__ with this index type: TimedeltaArray`\n",
    "Therefore we will use the type `np.float64` for `y_test`."
   ],
   "metadata": {
    "collapsed": false
   },
   "id": "2bc643e6376ab1bb"
  },
  {
   "cell_type": "code",
   "execution_count": 20,
   "id": "52ce014a35efad12",
   "metadata": {
    "collapsed": false,
    "ExecuteTime": {
     "end_time": "2025-01-16T14:15:04.865895Z",
     "start_time": "2025-01-16T14:15:04.767231Z"
    }
   },
   "outputs": [
    {
     "data": {
      "text/plain": "0         352.683\n1         717.133\n2         343.217\n3         501.185\n4         742.399\n           ...   \n294448    155.306\n294449    371.268\n294450    742.575\n294451    786.619\n294452    194.149\nName: pickup_to_delivery, Length: 294453, dtype: float64"
     },
     "execution_count": 20,
     "metadata": {},
     "output_type": "execute_result"
    }
   ],
   "source": [
    "y_test = (X_test['delivery_entering_timestamp'] - X_test['pickup_timestamp']).dt.total_seconds()\n",
    "y_test = pd.Series(y_test, dtype=np.float64, name='pickup_to_delivery')\n",
    "y_test"
   ]
  },
  {
   "cell_type": "code",
   "execution_count": 21,
   "id": "cfb62def0b2bf287",
   "metadata": {
    "collapsed": false,
    "ExecuteTime": {
     "end_time": "2025-01-16T14:15:04.869404Z",
     "start_time": "2025-01-16T14:15:04.783834Z"
    }
   },
   "outputs": [
    {
     "data": {
      "text/plain": "np.int64(0)"
     },
     "execution_count": 21,
     "metadata": {},
     "output_type": "execute_result"
    }
   ],
   "source": [
    "y_test.isnull().sum().sum()"
   ]
  },
  {
   "cell_type": "code",
   "execution_count": 22,
   "id": "2d2fff1089f25047",
   "metadata": {
    "collapsed": false,
    "ExecuteTime": {
     "end_time": "2025-01-16T14:15:04.908922Z",
     "start_time": "2025-01-16T14:15:04.789145Z"
    }
   },
   "outputs": [
    {
     "name": "stdout",
     "output_type": "stream",
     "text": [
      "(678018, 26) (678018,)\n",
      "(294453, 26) (294453,)\n"
     ]
    }
   ],
   "source": [
    "print(X_train.shape, y_train.shape)\n",
    "print(X_test.shape, y_test.shape)"
   ]
  },
  {
   "cell_type": "markdown",
   "id": "e01843bd221d9df1",
   "metadata": {
    "collapsed": false
   },
   "source": [
    "## Baseline Models\n",
    "\n",
    "### BaselineModel_sum"
   ]
  },
  {
   "cell_type": "code",
   "execution_count": null,
   "id": "7319e4fbfc086581",
   "metadata": {
    "collapsed": false
   },
   "outputs": [],
   "source": [
    "model_bl_sum = BaselineModel_sum()\n",
    "model_bl_sum.fit(X_train, y_train)"
   ]
  },
  {
   "cell_type": "code",
   "execution_count": null,
   "id": "98ce61d074b1f290",
   "metadata": {
    "collapsed": false
   },
   "outputs": [],
   "source": [
    "X_test_expanded = X_test.copy()\n",
    "X_test_expanded['y_test_predicted'] = model_bl_sum.predict(X_test)\n",
    "X_test_expanded['y_test'] = (X_test_expanded['delivery_entering_timestamp'] - X_test_expanded['pickup_timestamp']).dt.total_seconds()\n",
    "X_test_expanded['diff'] = X_test_expanded['y_test_predicted'] - X_test_expanded['y_test']\n",
    "X_test_expanded"
   ]
  },
  {
   "cell_type": "code",
   "execution_count": null,
   "id": "db7ceb8d51efef42",
   "metadata": {
    "collapsed": false
   },
   "outputs": [],
   "source": [
    "model_bl_sum.predict(X_test.iloc[0])"
   ]
  },
  {
   "cell_type": "markdown",
   "id": "3d31a26bb43bab07",
   "metadata": {
    "collapsed": false
   },
   "source": [
    "### BaselineModel_mean"
   ]
  },
  {
   "cell_type": "code",
   "execution_count": null,
   "id": "199e5c6e339d7c1",
   "metadata": {
    "collapsed": false
   },
   "outputs": [],
   "source": [
    "model_bl_mean = BaselineModel_mean()\n",
    "model_bl_mean.fit(X_train, y_train)"
   ]
  },
  {
   "cell_type": "code",
   "execution_count": null,
   "id": "da2363ec8ae10e56",
   "metadata": {
    "collapsed": false
   },
   "outputs": [],
   "source": [
    "X_test_expanded2 = X_test.copy()\n",
    "X_test_expanded2['y_test_predicted'] = model_bl_mean.predict(X_test)\n",
    "X_test_expanded2['y_test'] = (X_test_expanded2['delivery_entering_timestamp'] - X_test_expanded2['pickup_timestamp']).dt.total_seconds()\n",
    "X_test_expanded2['diff'] = X_test_expanded2['y_test_predicted'] - X_test_expanded2['y_test']\n",
    "X_test_expanded2"
   ]
  },
  {
   "cell_type": "code",
   "execution_count": null,
   "id": "d7329630cd310504",
   "metadata": {
    "collapsed": false
   },
   "outputs": [],
   "source": [
    "model_bl_mean.predict(X_test.iloc[0])"
   ]
  },
  {
   "cell_type": "markdown",
   "id": "b65c835da4563a72",
   "metadata": {
    "collapsed": false
   },
   "source": [
    "## Evaluation pipeline"
   ]
  },
  {
   "cell_type": "code",
   "execution_count": null,
   "id": "92356bab8168e738",
   "metadata": {
    "collapsed": false
   },
   "outputs": [],
   "source": [
    "model_bl_sum.evaluate(X_test, y_test)"
   ]
  },
  {
   "cell_type": "code",
   "outputs": [],
   "source": [
    "X_test.shape"
   ],
   "metadata": {
    "collapsed": false
   },
   "id": "313c80aa93b215c9",
   "execution_count": null
  },
  {
   "cell_type": "code",
   "execution_count": null,
   "id": "d06a05c54e737f56",
   "metadata": {
    "collapsed": false
   },
   "outputs": [],
   "source": [
    "model_bl_mean.evaluate(X_test, y_test)"
   ]
  },
  {
   "cell_type": "markdown",
   "id": "917c211d4ba0e732",
   "metadata": {
    "collapsed": false
   },
   "source": [
    "## Linear Model"
   ]
  },
  {
   "cell_type": "code",
   "outputs": [],
   "source": [
    "model_linear = LinearModel()\n",
    "model_linear.fit(X_train, y_train)"
   ],
   "metadata": {
    "collapsed": false,
    "is_executing": true,
    "ExecuteTime": {
     "start_time": "2025-01-16T14:15:08.278995Z"
    }
   },
   "id": "b2d2c2a91e10ae5a",
   "execution_count": null
  },
  {
   "cell_type": "code",
   "outputs": [],
   "source": [
    "X_test_expanded3 = X_test.copy()\n",
    "X_test_expanded3['y_test_predicted'] = model_linear.predict(X_test)\n",
    "X_test_expanded3['y_test'] = (X_test_expanded3['delivery_entering_timestamp'] - X_test_expanded3['pickup_timestamp']).dt.total_seconds()\n",
    "X_test_expanded3['diff'] = X_test_expanded['y_test_predicted'] - X_test_expanded3['y_test']\n",
    "X_test_expanded3"
   ],
   "metadata": {
    "collapsed": false
   },
   "id": "a4cd0ab5e1851cb8"
  },
  {
   "cell_type": "code",
   "outputs": [],
   "source": [
    "model_linear.predict(X_test.iloc[0])"
   ],
   "metadata": {
    "collapsed": false
   },
   "id": "babc08482a5042c8"
  },
  {
   "cell_type": "code",
   "outputs": [],
   "source": [
    "model_linear.evaluate(X_test, y_test)"
   ],
   "metadata": {
    "collapsed": false
   },
   "id": "e8a5ec496dd8bbd5"
  },
  {
   "cell_type": "markdown",
   "source": [
    "Compare performance of the model with and without standardization"
   ],
   "metadata": {
    "collapsed": false
   },
   "id": "6e4c36a63345826c"
  },
  {
   "cell_type": "code",
   "outputs": [],
   "source": [
    "model_linear = LinearModel(standardize=True)\n",
    "model_linear.fit(X_train, y_train)"
   ],
   "metadata": {
    "collapsed": false
   },
   "id": "61d8880b07f55872"
  }
 ],
 "metadata": {
  "kernelspec": {
   "display_name": "venv",
   "language": "python",
   "name": "python3"
  },
  "language_info": {
   "codemirror_mode": {
    "name": "ipython",
    "version": 3
   },
   "file_extension": ".py",
   "mimetype": "text/x-python",
   "name": "python",
   "nbconvert_exporter": "python",
   "pygments_lexer": "ipython3",
   "version": "3.12.0"
  }
 },
 "nbformat": 4,
 "nbformat_minor": 5
}
