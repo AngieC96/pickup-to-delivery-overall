{
 "cells": [
  {
   "cell_type": "markdown",
   "source": [
    "# Pickup to Delivery Overall"
   ],
   "metadata": {
    "collapsed": false
   },
   "id": "24ad314bf282ec83"
  },
  {
   "cell_type": "code",
   "outputs": [],
   "source": [
    "import os\n",
    "import sys\n",
    "import warnings\n",
    "import pandas as pd\n",
    "import numpy as np\n",
    "import csv\n",
    "import pickle\n",
    "import matplotlib.pyplot as plt\n",
    "from haversine import haversine, Unit\n",
    "from sklearn.metrics.pairwise import haversine_distances, manhattan_distances\n",
    "from sklearn.model_selection import train_test_split, cross_val_score\n",
    "\n",
    "sys.path.insert(0, os.path.expanduser('./'))\n",
    "import query_runner as qr\n",
    "import utils"
   ],
   "metadata": {
    "collapsed": false,
    "ExecuteTime": {
     "end_time": "2024-10-23T09:02:31.066898Z",
     "start_time": "2024-10-23T09:02:26.982739Z"
    }
   },
   "id": "cb71195be0f3a22f",
   "execution_count": 1
  },
  {
   "cell_type": "code",
   "outputs": [],
   "source": [
    "base_query_path = './queries/'\n",
    "dwh_config, livedb_config, parameters_config = utils.load_config(config_file='./config.ini')\n",
    "datalake_connection = qr.create_connection(db='datalake')\n",
    "#monolith_connection = qr.create_connection(user=livedb_config['monolith_username'], password=livedb_config['monolith_password'], db='livedb')\n",
    "#dispatching_db_connection = qr.create_connection(user=livedb_config['dispatching_db_username'], password=livedb_config['dispatching_db_password'], db='dispatchingdb')"
   ],
   "metadata": {
    "collapsed": false,
    "ExecuteTime": {
     "end_time": "2024-10-23T09:02:31.076840Z",
     "start_time": "2024-10-23T09:02:31.071616Z"
    }
   },
   "id": "52eb5fbdb862edbe",
   "execution_count": 2
  },
  {
   "cell_type": "code",
   "outputs": [
    {
     "name": "stdout",
     "output_type": "stream",
     "text": [
      "Start date: 2024-09-30 | End date: 2024-10-20 | Countries: ES | Cities: 'MAD', 'BCN', 'SEV', 'ALC'\n"
     ]
    }
   ],
   "source": [
    "start_date = parameters_config['start_date']\n",
    "end_date = parameters_config['end_date']\n",
    "country_code = parameters_config['country_code']\n",
    "cities = parameters_config['cities']\n",
    "\n",
    "print(f'Start date: {start_date} | End date: {end_date} | Countries: {country_code} | Cities: {cities}')"
   ],
   "metadata": {
    "collapsed": false,
    "ExecuteTime": {
     "end_time": "2024-10-23T09:02:31.089467Z",
     "start_time": "2024-10-23T09:02:31.080356Z"
    }
   },
   "id": "f26eb0ba80de7f8e",
   "execution_count": 3
  },
  {
   "cell_type": "code",
   "outputs": [],
   "source": [
    "parameters = {\n",
    "    'start_date': start_date,\n",
    "    'end_date': end_date,\n",
    "    'country_code': country_code,\n",
    "    'cities': cities\n",
    "}"
   ],
   "metadata": {
    "collapsed": false,
    "ExecuteTime": {
     "end_time": "2024-10-23T09:02:31.129074Z",
     "start_time": "2024-10-23T09:02:31.089547Z"
    }
   },
   "id": "e3c251ccf4f2beb1",
   "execution_count": 4
  },
  {
   "cell_type": "markdown",
   "source": [
    "## Load the data"
   ],
   "metadata": {
    "collapsed": false
   },
   "id": "3c0d6dbf6375ce8"
  },
  {
   "cell_type": "code",
   "outputs": [
    {
     "name": "stdout",
     "output_type": "stream",
     "text": [
      "Open the following URL in browser for the external authentication:\n",
      "https://starburst.g8s-data-platform-prod.glovoint.com/oauth2/token/initiate/ddb626736a4a4e375dfc8ad34af7842030a2b1b275912186850c26d29aa7b046\n"
     ]
    },
    {
     "data": {
      "text/plain": "  country_code city_code      order_id  courier_id        creation_timestamp  \\\n0           ES       BCN  100907487116     8590944 2024-10-03 20:55:02+00:00   \n1           ES       MAD  100907489425   162535288 2024-10-03 20:55:43+00:00   \n2           ES       BCN  100907493124   146788593 2024-10-03 20:56:48+00:00   \n3           ES       MAD  100907498582    45695767 2024-10-03 20:58:25+00:00   \n4           ES       MAD  100907503468   166385377 2024-10-03 20:59:51+00:00   \n\n       activation_timestamp  transport                 pickup_timestamp  \\\n0 2024-10-03 20:55:04+00:00    BICYCLE 2024-10-03 21:21:44.215000+00:00   \n1 2024-10-03 20:55:44+00:00    BICYCLE 2024-10-03 21:07:40.941000+00:00   \n2 2024-10-03 20:56:49+00:00    BICYCLE 2024-10-03 21:07:40.560000+00:00   \n3 2024-10-03 20:58:26+00:00  MOTORBIKE 2024-10-03 21:08:59.224000+00:00   \n4 2024-10-03 20:59:53+00:00  MOTORBIKE 2024-10-03 21:09:49.060000+00:00   \n\n         delivery_timestamp  pickup_latitude  pickup_longitude  \\\n0 2024-10-03 21:32:33+00:00        41.370594          2.113433   \n1 2024-10-03 21:19:10+00:00        40.382927         -3.626392   \n2 2024-10-03 21:14:30+00:00        41.389874          2.159761   \n3 2024-10-03 21:14:21+00:00        40.409720         -3.670494   \n4 2024-10-03 21:20:30+00:00        40.433780         -3.683620   \n\n   delivery_latitude  delivery_longitude delivery_entering_timestamp  \\\n0          41.375412            2.104837   2024-10-03 21:29:37+00:00   \n1          40.383490           -3.640969   2024-10-03 21:16:09+00:00   \n2          41.390520            2.148718   2024-10-03 21:12:00+00:00   \n3          40.412880           -3.671840   2024-10-03 21:11:21+00:00   \n4          40.430176           -3.673502   2024-10-03 21:16:45+00:00   \n\n       time_zone p_creation_date  \n0  Europe/Madrid      2024-10-03  \n1  Europe/Madrid      2024-10-03  \n2  Europe/Madrid      2024-10-03  \n3  Europe/Madrid      2024-10-03  \n4  Europe/Madrid      2024-10-03  ",
      "text/html": "<div>\n<style scoped>\n    .dataframe tbody tr th:only-of-type {\n        vertical-align: middle;\n    }\n\n    .dataframe tbody tr th {\n        vertical-align: top;\n    }\n\n    .dataframe thead th {\n        text-align: right;\n    }\n</style>\n<table border=\"1\" class=\"dataframe\">\n  <thead>\n    <tr style=\"text-align: right;\">\n      <th></th>\n      <th>country_code</th>\n      <th>city_code</th>\n      <th>order_id</th>\n      <th>courier_id</th>\n      <th>creation_timestamp</th>\n      <th>activation_timestamp</th>\n      <th>transport</th>\n      <th>pickup_timestamp</th>\n      <th>delivery_timestamp</th>\n      <th>pickup_latitude</th>\n      <th>pickup_longitude</th>\n      <th>delivery_latitude</th>\n      <th>delivery_longitude</th>\n      <th>delivery_entering_timestamp</th>\n      <th>time_zone</th>\n      <th>p_creation_date</th>\n    </tr>\n  </thead>\n  <tbody>\n    <tr>\n      <th>0</th>\n      <td>ES</td>\n      <td>BCN</td>\n      <td>100907487116</td>\n      <td>8590944</td>\n      <td>2024-10-03 20:55:02+00:00</td>\n      <td>2024-10-03 20:55:04+00:00</td>\n      <td>BICYCLE</td>\n      <td>2024-10-03 21:21:44.215000+00:00</td>\n      <td>2024-10-03 21:32:33+00:00</td>\n      <td>41.370594</td>\n      <td>2.113433</td>\n      <td>41.375412</td>\n      <td>2.104837</td>\n      <td>2024-10-03 21:29:37+00:00</td>\n      <td>Europe/Madrid</td>\n      <td>2024-10-03</td>\n    </tr>\n    <tr>\n      <th>1</th>\n      <td>ES</td>\n      <td>MAD</td>\n      <td>100907489425</td>\n      <td>162535288</td>\n      <td>2024-10-03 20:55:43+00:00</td>\n      <td>2024-10-03 20:55:44+00:00</td>\n      <td>BICYCLE</td>\n      <td>2024-10-03 21:07:40.941000+00:00</td>\n      <td>2024-10-03 21:19:10+00:00</td>\n      <td>40.382927</td>\n      <td>-3.626392</td>\n      <td>40.383490</td>\n      <td>-3.640969</td>\n      <td>2024-10-03 21:16:09+00:00</td>\n      <td>Europe/Madrid</td>\n      <td>2024-10-03</td>\n    </tr>\n    <tr>\n      <th>2</th>\n      <td>ES</td>\n      <td>BCN</td>\n      <td>100907493124</td>\n      <td>146788593</td>\n      <td>2024-10-03 20:56:48+00:00</td>\n      <td>2024-10-03 20:56:49+00:00</td>\n      <td>BICYCLE</td>\n      <td>2024-10-03 21:07:40.560000+00:00</td>\n      <td>2024-10-03 21:14:30+00:00</td>\n      <td>41.389874</td>\n      <td>2.159761</td>\n      <td>41.390520</td>\n      <td>2.148718</td>\n      <td>2024-10-03 21:12:00+00:00</td>\n      <td>Europe/Madrid</td>\n      <td>2024-10-03</td>\n    </tr>\n    <tr>\n      <th>3</th>\n      <td>ES</td>\n      <td>MAD</td>\n      <td>100907498582</td>\n      <td>45695767</td>\n      <td>2024-10-03 20:58:25+00:00</td>\n      <td>2024-10-03 20:58:26+00:00</td>\n      <td>MOTORBIKE</td>\n      <td>2024-10-03 21:08:59.224000+00:00</td>\n      <td>2024-10-03 21:14:21+00:00</td>\n      <td>40.409720</td>\n      <td>-3.670494</td>\n      <td>40.412880</td>\n      <td>-3.671840</td>\n      <td>2024-10-03 21:11:21+00:00</td>\n      <td>Europe/Madrid</td>\n      <td>2024-10-03</td>\n    </tr>\n    <tr>\n      <th>4</th>\n      <td>ES</td>\n      <td>MAD</td>\n      <td>100907503468</td>\n      <td>166385377</td>\n      <td>2024-10-03 20:59:51+00:00</td>\n      <td>2024-10-03 20:59:53+00:00</td>\n      <td>MOTORBIKE</td>\n      <td>2024-10-03 21:09:49.060000+00:00</td>\n      <td>2024-10-03 21:20:30+00:00</td>\n      <td>40.433780</td>\n      <td>-3.683620</td>\n      <td>40.430176</td>\n      <td>-3.673502</td>\n      <td>2024-10-03 21:16:45+00:00</td>\n      <td>Europe/Madrid</td>\n      <td>2024-10-03</td>\n    </tr>\n  </tbody>\n</table>\n</div>"
     },
     "execution_count": 5,
     "metadata": {},
     "output_type": "execute_result"
    }
   ],
   "source": [
    "query_name = '''\n",
    "SELECT\n",
    "    olf.country_code                                 AS country_code,\n",
    "    olf.city_code                                    AS city_code,\n",
    "    olf.order_id                                     AS order_id,\n",
    "    olf.courier_id                                   AS courier_id,\n",
    "    olf.order_created_local_datetime                 AS creation_timestamp,\n",
    "    olf.order_activated_local_datetime               AS activation_timestamp,\n",
    "    olf.courier_transport                            AS transport,\n",
    "    olf.order_picked_up_local_datetime               AS pickup_timestamp,\n",
    "    olf.order_delivered_local_datetime               AS delivery_timestamp,\n",
    "    olf.order_pickup_latitude                        AS pickup_latitude,\n",
    "    olf.order_pickup_longitude                       AS pickup_longitude,\n",
    "    olf.order_delivery_latitude                      AS delivery_latitude,\n",
    "    olf.order_delivery_longitude                     AS delivery_longitude,\n",
    "    olf.order_arrival_to_delivery_local_datetime     AS delivery_entering_timestamp,\n",
    "    olf.order_time_zone                              AS time_zone,\n",
    "    olf.p_creation_date\n",
    "FROM delta.courier_routing_courier_ml_features_odp.order_level_features AS olf\n",
    "WHERE order_final_status = 'DeliveredStatus'\n",
    "    AND order_number_of_assignments = 1\n",
    "    AND order_bundle_index IS NULL\n",
    "    AND p_creation_date >= DATE '[start_date]' AND p_creation_date < DATE '[end_date]'\n",
    "    AND country_code IN ('[country_code]')\n",
    "    AND city_code IN ([cities])\n",
    "'''\n",
    "\n",
    "query = qr.Query(base_query_path, query_name, datalake_connection, parameters_dict=parameters, query_from_file = False)\n",
    "\n",
    "df = query.run()\n",
    "df = df.fillna(value=np.nan)\n",
    "\n",
    "data = df.copy()\n",
    "data.head()"
   ],
   "metadata": {
    "collapsed": false,
    "ExecuteTime": {
     "end_time": "2024-10-23T09:03:55.081655Z",
     "start_time": "2024-10-23T09:02:31.096894Z"
    }
   },
   "id": "1de21fec65a3d1b1",
   "execution_count": 5
  },
  {
   "cell_type": "markdown",
   "source": [
    "## Clean the dataset"
   ],
   "metadata": {
    "collapsed": false
   },
   "id": "cb60e56ce9b31a2"
  },
  {
   "cell_type": "code",
   "outputs": [
    {
     "name": "stdout",
     "output_type": "stream",
     "text": [
      "<class 'pandas.core.frame.DataFrame'>\n",
      "Index: 987012 entries, 0 to 87011\n",
      "Data columns (total 16 columns):\n",
      " #   Column                       Non-Null Count   Dtype              \n",
      "---  ------                       --------------   -----              \n",
      " 0   country_code                 987012 non-null  object             \n",
      " 1   city_code                    987012 non-null  object             \n",
      " 2   order_id                     987012 non-null  int64              \n",
      " 3   courier_id                   987012 non-null  int64              \n",
      " 4   creation_timestamp           987012 non-null  datetime64[ns, UTC]\n",
      " 5   activation_timestamp         987012 non-null  datetime64[ns, UTC]\n",
      " 6   transport                    987012 non-null  object             \n",
      " 7   pickup_timestamp             986757 non-null  datetime64[ns, UTC]\n",
      " 8   delivery_timestamp           987012 non-null  datetime64[ns, UTC]\n",
      " 9   pickup_latitude              987012 non-null  float64            \n",
      " 10  pickup_longitude             987012 non-null  float64            \n",
      " 11  delivery_latitude            987012 non-null  float64            \n",
      " 12  delivery_longitude           987012 non-null  float64            \n",
      " 13  delivery_entering_timestamp  972471 non-null  datetime64[ns, UTC]\n",
      " 14  time_zone                    987012 non-null  object             \n",
      " 15  p_creation_date              987012 non-null  object             \n",
      "dtypes: datetime64[ns, UTC](5), float64(4), int64(2), object(5)\n",
      "memory usage: 128.0+ MB\n"
     ]
    }
   ],
   "source": [
    "data.info()"
   ],
   "metadata": {
    "collapsed": false,
    "ExecuteTime": {
     "end_time": "2024-10-23T09:03:55.482703Z",
     "start_time": "2024-10-23T09:03:55.083982Z"
    }
   },
   "id": "3269019e5c025a9d",
   "execution_count": 6
  },
  {
   "cell_type": "code",
   "outputs": [
    {
     "data": {
      "text/plain": "           order_id    courier_id  pickup_latitude  pickup_longitude  \\\ncount  9.870120e+05  9.870120e+05    987012.000000     987012.000000   \nmean   1.009222e+11  1.218706e+08        40.673782         -0.851254   \nstd    1.301628e+07  5.590163e+07         0.993792          3.003208   \nmin    1.008998e+11  1.127770e+05        37.282646         -6.085188   \n25%    1.009108e+11  7.241826e+07        40.426132         -3.690008   \n50%    1.009222e+11  1.482987e+08        40.530730         -0.483401   \n75%    1.009337e+11  1.670841e+08        41.393280          2.159965   \nmax    1.009444e+11  1.796540e+08        41.483086          2.268973   \n\n       delivery_latitude  delivery_longitude  \ncount      987012.000000       987012.000000  \nmean           40.674140           -0.851210  \nstd             0.993963            3.002620  \nmin            37.260975           -6.100339  \n25%            40.426205           -3.689353  \n50%            40.528835           -0.483956  \n75%            41.394840            2.159824  \nmax            41.562153            2.277824  ",
      "text/html": "<div>\n<style scoped>\n    .dataframe tbody tr th:only-of-type {\n        vertical-align: middle;\n    }\n\n    .dataframe tbody tr th {\n        vertical-align: top;\n    }\n\n    .dataframe thead th {\n        text-align: right;\n    }\n</style>\n<table border=\"1\" class=\"dataframe\">\n  <thead>\n    <tr style=\"text-align: right;\">\n      <th></th>\n      <th>order_id</th>\n      <th>courier_id</th>\n      <th>pickup_latitude</th>\n      <th>pickup_longitude</th>\n      <th>delivery_latitude</th>\n      <th>delivery_longitude</th>\n    </tr>\n  </thead>\n  <tbody>\n    <tr>\n      <th>count</th>\n      <td>9.870120e+05</td>\n      <td>9.870120e+05</td>\n      <td>987012.000000</td>\n      <td>987012.000000</td>\n      <td>987012.000000</td>\n      <td>987012.000000</td>\n    </tr>\n    <tr>\n      <th>mean</th>\n      <td>1.009222e+11</td>\n      <td>1.218706e+08</td>\n      <td>40.673782</td>\n      <td>-0.851254</td>\n      <td>40.674140</td>\n      <td>-0.851210</td>\n    </tr>\n    <tr>\n      <th>std</th>\n      <td>1.301628e+07</td>\n      <td>5.590163e+07</td>\n      <td>0.993792</td>\n      <td>3.003208</td>\n      <td>0.993963</td>\n      <td>3.002620</td>\n    </tr>\n    <tr>\n      <th>min</th>\n      <td>1.008998e+11</td>\n      <td>1.127770e+05</td>\n      <td>37.282646</td>\n      <td>-6.085188</td>\n      <td>37.260975</td>\n      <td>-6.100339</td>\n    </tr>\n    <tr>\n      <th>25%</th>\n      <td>1.009108e+11</td>\n      <td>7.241826e+07</td>\n      <td>40.426132</td>\n      <td>-3.690008</td>\n      <td>40.426205</td>\n      <td>-3.689353</td>\n    </tr>\n    <tr>\n      <th>50%</th>\n      <td>1.009222e+11</td>\n      <td>1.482987e+08</td>\n      <td>40.530730</td>\n      <td>-0.483401</td>\n      <td>40.528835</td>\n      <td>-0.483956</td>\n    </tr>\n    <tr>\n      <th>75%</th>\n      <td>1.009337e+11</td>\n      <td>1.670841e+08</td>\n      <td>41.393280</td>\n      <td>2.159965</td>\n      <td>41.394840</td>\n      <td>2.159824</td>\n    </tr>\n    <tr>\n      <th>max</th>\n      <td>1.009444e+11</td>\n      <td>1.796540e+08</td>\n      <td>41.483086</td>\n      <td>2.268973</td>\n      <td>41.562153</td>\n      <td>2.277824</td>\n    </tr>\n  </tbody>\n</table>\n</div>"
     },
     "execution_count": 7,
     "metadata": {},
     "output_type": "execute_result"
    }
   ],
   "source": [
    "data.describe()"
   ],
   "metadata": {
    "collapsed": false,
    "ExecuteTime": {
     "end_time": "2024-10-23T09:03:55.719032Z",
     "start_time": "2024-10-23T09:03:55.485591Z"
    }
   },
   "id": "4ad7421cf883f255",
   "execution_count": 7
  },
  {
   "cell_type": "code",
   "outputs": [
    {
     "data": {
      "text/plain": "country_code                       0\ncity_code                          0\norder_id                           0\ncourier_id                         0\ncreation_timestamp                 0\nactivation_timestamp               0\ntransport                          0\npickup_timestamp                 255\ndelivery_timestamp                 0\npickup_latitude                    0\npickup_longitude                   0\ndelivery_latitude                  0\ndelivery_longitude                 0\ndelivery_entering_timestamp    14541\ntime_zone                          0\np_creation_date                    0\ndtype: int64"
     },
     "execution_count": 8,
     "metadata": {},
     "output_type": "execute_result"
    }
   ],
   "source": [
    "# Check for missing values\n",
    "data.isnull().sum()"
   ],
   "metadata": {
    "collapsed": false,
    "ExecuteTime": {
     "end_time": "2024-10-23T09:03:56.031708Z",
     "start_time": "2024-10-23T09:03:55.720421Z"
    }
   },
   "id": "1df8f7cd6a104940",
   "execution_count": 8
  },
  {
   "cell_type": "code",
   "outputs": [],
   "source": [
    "# Remove rows with null values: we have 1.5 M rows, so we can afford to remove them\n",
    "data = data.dropna()"
   ],
   "metadata": {
    "collapsed": false,
    "ExecuteTime": {
     "end_time": "2024-10-23T09:03:56.529398Z",
     "start_time": "2024-10-23T09:03:56.031885Z"
    }
   },
   "id": "21a2d084be3ddfe8",
   "execution_count": 9
  },
  {
   "cell_type": "code",
   "outputs": [
    {
     "data": {
      "text/plain": "country_code                   0\ncity_code                      0\norder_id                       0\ncourier_id                     0\ncreation_timestamp             0\nactivation_timestamp           0\ntransport                      0\npickup_timestamp               0\ndelivery_timestamp             0\npickup_latitude                0\npickup_longitude               0\ndelivery_latitude              0\ndelivery_longitude             0\ndelivery_entering_timestamp    0\ntime_zone                      0\np_creation_date                0\ndtype: int64"
     },
     "execution_count": 10,
     "metadata": {},
     "output_type": "execute_result"
    }
   ],
   "source": [
    "# Check for missing values\n",
    "data.isnull().sum()"
   ],
   "metadata": {
    "collapsed": false,
    "ExecuteTime": {
     "end_time": "2024-10-23T09:03:56.820087Z",
     "start_time": "2024-10-23T09:03:56.535349Z"
    }
   },
   "id": "fea941235b67758e",
   "execution_count": 10
  },
  {
   "cell_type": "code",
   "outputs": [
    {
     "data": {
      "text/plain": "np.int64(0)"
     },
     "execution_count": 11,
     "metadata": {},
     "output_type": "execute_result"
    }
   ],
   "source": [
    "# Check for duplicates\n",
    "data.duplicated().sum()"
   ],
   "metadata": {
    "collapsed": false,
    "ExecuteTime": {
     "end_time": "2024-10-23T09:03:58.202235Z",
     "start_time": "2024-10-23T09:03:56.838593Z"
    }
   },
   "id": "83402ad003b2989e",
   "execution_count": 11
  },
  {
   "cell_type": "markdown",
   "source": [
    "## Compute new features"
   ],
   "metadata": {
    "collapsed": false
   },
   "id": "9be4b81e03b7586"
  },
  {
   "cell_type": "code",
   "outputs": [],
   "source": [
    "# Convert the creation time to datetime\n",
    "data['creation_timestamp'] = pd.to_datetime(data['creation_timestamp'])\n",
    "data['activation_timestamp'] = pd.to_datetime(data['activation_timestamp'])\n",
    "data['pickup_timestamp'] = pd.to_datetime(data['pickup_timestamp'])\n",
    "data['delivery_timestamp'] = pd.to_datetime(data['delivery_timestamp'])\n",
    "data['delivery_entering_timestamp'] = pd.to_datetime(data['delivery_entering_timestamp'])\n",
    "\n",
    "# Compute the delivery date and the delivery time\n",
    "data['creation_date'] = data['creation_timestamp'].dt.date\n",
    "data['creation_time'] = data['creation_timestamp'].dt.time\n",
    "data['creation_hour'] = data['creation_timestamp'].dt.hour"
   ],
   "metadata": {
    "collapsed": false,
    "ExecuteTime": {
     "end_time": "2024-10-23T09:03:58.781793Z",
     "start_time": "2024-10-23T09:03:58.202452Z"
    }
   },
   "id": "80163d0a54873861",
   "execution_count": 12
  },
  {
   "cell_type": "code",
   "outputs": [
    {
     "data": {
      "text/plain": "  country_code city_code      order_id  courier_id        creation_timestamp  \\\n0           ES       BCN  100907487116     8590944 2024-10-03 20:55:02+00:00   \n1           ES       MAD  100907489425   162535288 2024-10-03 20:55:43+00:00   \n2           ES       BCN  100907493124   146788593 2024-10-03 20:56:48+00:00   \n3           ES       MAD  100907498582    45695767 2024-10-03 20:58:25+00:00   \n4           ES       MAD  100907503468   166385377 2024-10-03 20:59:51+00:00   \n\n       activation_timestamp  transport                 pickup_timestamp  \\\n0 2024-10-03 20:55:04+00:00    BICYCLE 2024-10-03 21:21:44.215000+00:00   \n1 2024-10-03 20:55:44+00:00    BICYCLE 2024-10-03 21:07:40.941000+00:00   \n2 2024-10-03 20:56:49+00:00    BICYCLE 2024-10-03 21:07:40.560000+00:00   \n3 2024-10-03 20:58:26+00:00  MOTORBIKE 2024-10-03 21:08:59.224000+00:00   \n4 2024-10-03 20:59:53+00:00  MOTORBIKE 2024-10-03 21:09:49.060000+00:00   \n\n         delivery_timestamp  pickup_latitude  ...  delivery_longitude  \\\n0 2024-10-03 21:32:33+00:00        41.370594  ...            2.104837   \n1 2024-10-03 21:19:10+00:00        40.382927  ...           -3.640969   \n2 2024-10-03 21:14:30+00:00        41.389874  ...            2.148718   \n3 2024-10-03 21:14:21+00:00        40.409720  ...           -3.671840   \n4 2024-10-03 21:20:30+00:00        40.433780  ...           -3.673502   \n\n   delivery_entering_timestamp      time_zone p_creation_date creation_date  \\\n0    2024-10-03 21:29:37+00:00  Europe/Madrid      2024-10-03    2024-10-03   \n1    2024-10-03 21:16:09+00:00  Europe/Madrid      2024-10-03    2024-10-03   \n2    2024-10-03 21:12:00+00:00  Europe/Madrid      2024-10-03    2024-10-03   \n3    2024-10-03 21:11:21+00:00  Europe/Madrid      2024-10-03    2024-10-03   \n4    2024-10-03 21:16:45+00:00  Europe/Madrid      2024-10-03    2024-10-03   \n\n  creation_time creation_hour pd_distance_haversine_m  \\\n0      20:55:02            20              895.267385   \n1      20:55:43            20             1236.264251   \n2      20:56:48            20              924.017061   \n3      20:58:25            20              369.394256   \n4      20:59:51            20              945.506113   \n\n   pd_distance_haversine_m_sk   pd_distance_manhattan_m  \n0    [[0.008835822216147426]]  [[0.013414000000000481]]  \n1    [[0.013090010777783042]]   [[0.01513999999999971]]  \n2    [[0.009439473750393588]]  [[0.011689000000003169]]  \n3    [[0.003388700168894049]]  [[0.004506000000001009]]  \n4    [[0.009959495756425248]]  [[0.013721999999995571]]  \n\n[5 rows x 22 columns]",
      "text/html": "<div>\n<style scoped>\n    .dataframe tbody tr th:only-of-type {\n        vertical-align: middle;\n    }\n\n    .dataframe tbody tr th {\n        vertical-align: top;\n    }\n\n    .dataframe thead th {\n        text-align: right;\n    }\n</style>\n<table border=\"1\" class=\"dataframe\">\n  <thead>\n    <tr style=\"text-align: right;\">\n      <th></th>\n      <th>country_code</th>\n      <th>city_code</th>\n      <th>order_id</th>\n      <th>courier_id</th>\n      <th>creation_timestamp</th>\n      <th>activation_timestamp</th>\n      <th>transport</th>\n      <th>pickup_timestamp</th>\n      <th>delivery_timestamp</th>\n      <th>pickup_latitude</th>\n      <th>...</th>\n      <th>delivery_longitude</th>\n      <th>delivery_entering_timestamp</th>\n      <th>time_zone</th>\n      <th>p_creation_date</th>\n      <th>creation_date</th>\n      <th>creation_time</th>\n      <th>creation_hour</th>\n      <th>pd_distance_haversine_m</th>\n      <th>pd_distance_haversine_m_sk</th>\n      <th>pd_distance_manhattan_m</th>\n    </tr>\n  </thead>\n  <tbody>\n    <tr>\n      <th>0</th>\n      <td>ES</td>\n      <td>BCN</td>\n      <td>100907487116</td>\n      <td>8590944</td>\n      <td>2024-10-03 20:55:02+00:00</td>\n      <td>2024-10-03 20:55:04+00:00</td>\n      <td>BICYCLE</td>\n      <td>2024-10-03 21:21:44.215000+00:00</td>\n      <td>2024-10-03 21:32:33+00:00</td>\n      <td>41.370594</td>\n      <td>...</td>\n      <td>2.104837</td>\n      <td>2024-10-03 21:29:37+00:00</td>\n      <td>Europe/Madrid</td>\n      <td>2024-10-03</td>\n      <td>2024-10-03</td>\n      <td>20:55:02</td>\n      <td>20</td>\n      <td>895.267385</td>\n      <td>[[0.008835822216147426]]</td>\n      <td>[[0.013414000000000481]]</td>\n    </tr>\n    <tr>\n      <th>1</th>\n      <td>ES</td>\n      <td>MAD</td>\n      <td>100907489425</td>\n      <td>162535288</td>\n      <td>2024-10-03 20:55:43+00:00</td>\n      <td>2024-10-03 20:55:44+00:00</td>\n      <td>BICYCLE</td>\n      <td>2024-10-03 21:07:40.941000+00:00</td>\n      <td>2024-10-03 21:19:10+00:00</td>\n      <td>40.382927</td>\n      <td>...</td>\n      <td>-3.640969</td>\n      <td>2024-10-03 21:16:09+00:00</td>\n      <td>Europe/Madrid</td>\n      <td>2024-10-03</td>\n      <td>2024-10-03</td>\n      <td>20:55:43</td>\n      <td>20</td>\n      <td>1236.264251</td>\n      <td>[[0.013090010777783042]]</td>\n      <td>[[0.01513999999999971]]</td>\n    </tr>\n    <tr>\n      <th>2</th>\n      <td>ES</td>\n      <td>BCN</td>\n      <td>100907493124</td>\n      <td>146788593</td>\n      <td>2024-10-03 20:56:48+00:00</td>\n      <td>2024-10-03 20:56:49+00:00</td>\n      <td>BICYCLE</td>\n      <td>2024-10-03 21:07:40.560000+00:00</td>\n      <td>2024-10-03 21:14:30+00:00</td>\n      <td>41.389874</td>\n      <td>...</td>\n      <td>2.148718</td>\n      <td>2024-10-03 21:12:00+00:00</td>\n      <td>Europe/Madrid</td>\n      <td>2024-10-03</td>\n      <td>2024-10-03</td>\n      <td>20:56:48</td>\n      <td>20</td>\n      <td>924.017061</td>\n      <td>[[0.009439473750393588]]</td>\n      <td>[[0.011689000000003169]]</td>\n    </tr>\n    <tr>\n      <th>3</th>\n      <td>ES</td>\n      <td>MAD</td>\n      <td>100907498582</td>\n      <td>45695767</td>\n      <td>2024-10-03 20:58:25+00:00</td>\n      <td>2024-10-03 20:58:26+00:00</td>\n      <td>MOTORBIKE</td>\n      <td>2024-10-03 21:08:59.224000+00:00</td>\n      <td>2024-10-03 21:14:21+00:00</td>\n      <td>40.409720</td>\n      <td>...</td>\n      <td>-3.671840</td>\n      <td>2024-10-03 21:11:21+00:00</td>\n      <td>Europe/Madrid</td>\n      <td>2024-10-03</td>\n      <td>2024-10-03</td>\n      <td>20:58:25</td>\n      <td>20</td>\n      <td>369.394256</td>\n      <td>[[0.003388700168894049]]</td>\n      <td>[[0.004506000000001009]]</td>\n    </tr>\n    <tr>\n      <th>4</th>\n      <td>ES</td>\n      <td>MAD</td>\n      <td>100907503468</td>\n      <td>166385377</td>\n      <td>2024-10-03 20:59:51+00:00</td>\n      <td>2024-10-03 20:59:53+00:00</td>\n      <td>MOTORBIKE</td>\n      <td>2024-10-03 21:09:49.060000+00:00</td>\n      <td>2024-10-03 21:20:30+00:00</td>\n      <td>40.433780</td>\n      <td>...</td>\n      <td>-3.673502</td>\n      <td>2024-10-03 21:16:45+00:00</td>\n      <td>Europe/Madrid</td>\n      <td>2024-10-03</td>\n      <td>2024-10-03</td>\n      <td>20:59:51</td>\n      <td>20</td>\n      <td>945.506113</td>\n      <td>[[0.009959495756425248]]</td>\n      <td>[[0.013721999999995571]]</td>\n    </tr>\n  </tbody>\n</table>\n<p>5 rows × 22 columns</p>\n</div>"
     },
     "execution_count": 24,
     "metadata": {},
     "output_type": "execute_result"
    }
   ],
   "source": [
    "# Compute the distance between the pickup and delivery points\n",
    "data['pd_distance_haversine_m'] = data.apply(lambda x: haversine((x['pickup_latitude'], x['pickup_longitude']), (x['delivery_latitude'], x['delivery_longitude']), unit=Unit.METERS), axis=1)\n",
    "data['pd_distance_haversine_m_sk'] = data.apply(lambda x: haversine_distances(np.array([[x['pickup_latitude'], x['pickup_longitude']]]), np.array([[x['delivery_latitude'], x['delivery_longitude']]])), axis=1)\n",
    "data['pd_distance_manhattan_m'] = data.apply(lambda x: manhattan_distances(np.array([[x['pickup_latitude'], x['pickup_longitude']]]), np.array([[x['delivery_latitude'], x['delivery_longitude']]])), axis=1)\n",
    "data.head()"
   ],
   "metadata": {
    "collapsed": false,
    "ExecuteTime": {
     "end_time": "2024-10-23T09:37:27.586038Z",
     "start_time": "2024-10-23T09:28:01.304362Z"
    }
   },
   "id": "c1f7b9a860a43cc9",
   "execution_count": 24
  },
  {
   "cell_type": "markdown",
   "source": [
    "There is a difference in how the `haversine` library, the `sklearn`'s `haversine_distances`, and the `sklearn`'s `manhattan_distances` function compute and return the distances. Let's break down the differences and how to resolve them:\n",
    "1. **Haversine Library:**\n",
    "   - The `haversine` library directly computes the distance between two points and returns a single scalar value.\n",
    "2. **Sklearn's `haversine_distances`:**\n",
    "   - The `haversine_distances` function from `sklearn` returns a distance matrix. When you input two points, it returns a 1x1 matrix (a nested list) containing the distance. This is why you would see the result in squared parentheses like `[[]]`. We extract the single value using `[0][0]`.\n",
    "   - Additionally, the `haversine_distances` function returns the distance in radians, not in meters. To convert this to meters, you need to multiply by the Earth's radius (approximately 6371000 meters).\n",
    "3. **Sklearn's `manhattan_distances`:**\n",
    "   - The `manhattan_distances` function computes the Manhattan distance between two points and returns a distance matrix. We extract the single value from the 1x1 matrix using `[0][0]`.\n",
    "   - Additionally, the `manhattan_distances` function from sklearn computes the distance based on the Cartesian coordinates provided. Since latitude and longitude are angular measurements, the result will not be in meters but in degrees. To convert the Manhattan distance from degrees to meters, you need to account for the Earth's curvature."
   ],
   "metadata": {
    "collapsed": false
   },
   "id": "7b6ea1be09344c80"
  },
  {
   "cell_type": "code",
   "outputs": [],
   "source": [
    "# Earth's radius in meters\n",
    "earth_radius_m = 6371.0088 * 1000\n",
    "\n",
    "# Conversion factors\n",
    "meters_per_degree_lat = 111320  # Approximate meters per degree of latitude\n",
    "\n",
    "def manhattan_distance_in_meters(row):\n",
    "    # Convert latitude and longitude differences to meters\n",
    "    lat_diff_m = abs(row['pickup_latitude'] - row['delivery_latitude']) * meters_per_degree_lat\n",
    "    # Convert longitude difference to meters, considering the latitude\n",
    "    lon_diff_m = abs(row['pickup_longitude'] - row['delivery_longitude']) * meters_per_degree_lat * np.cos(np.radians((row['pickup_latitude'] + row['delivery_latitude']) / 2))\n",
    "    # Sum the absolute differences to get the Manhattan distance in meters\n",
    "    return lat_diff_m + lon_diff_m"
   ],
   "metadata": {
    "collapsed": false,
    "ExecuteTime": {
     "end_time": "2024-10-23T09:55:40.069409Z",
     "start_time": "2024-10-23T09:55:40.013399Z"
    }
   },
   "id": "808ab1bc4476de8a",
   "execution_count": 27
  },
  {
   "cell_type": "code",
   "outputs": [
    {
     "data": {
      "text/plain": "  country_code city_code      order_id  courier_id        creation_timestamp  \\\n0           ES       BCN  100907487116     8590944 2024-10-03 20:55:02+00:00   \n1           ES       MAD  100907489425   162535288 2024-10-03 20:55:43+00:00   \n2           ES       BCN  100907493124   146788593 2024-10-03 20:56:48+00:00   \n3           ES       MAD  100907498582    45695767 2024-10-03 20:58:25+00:00   \n4           ES       MAD  100907503468   166385377 2024-10-03 20:59:51+00:00   \n\n       activation_timestamp  transport                 pickup_timestamp  \\\n0 2024-10-03 20:55:04+00:00    BICYCLE 2024-10-03 21:21:44.215000+00:00   \n1 2024-10-03 20:55:44+00:00    BICYCLE 2024-10-03 21:07:40.941000+00:00   \n2 2024-10-03 20:56:49+00:00    BICYCLE 2024-10-03 21:07:40.560000+00:00   \n3 2024-10-03 20:58:26+00:00  MOTORBIKE 2024-10-03 21:08:59.224000+00:00   \n4 2024-10-03 20:59:53+00:00  MOTORBIKE 2024-10-03 21:09:49.060000+00:00   \n\n         delivery_timestamp  pickup_latitude  ...  \\\n0 2024-10-03 21:32:33+00:00        41.370594  ...   \n1 2024-10-03 21:19:10+00:00        40.382927  ...   \n2 2024-10-03 21:14:30+00:00        41.389874  ...   \n3 2024-10-03 21:14:21+00:00        40.409720  ...   \n4 2024-10-03 21:20:30+00:00        40.433780  ...   \n\n   delivery_entering_timestamp      time_zone  p_creation_date creation_date  \\\n0    2024-10-03 21:29:37+00:00  Europe/Madrid       2024-10-03    2024-10-03   \n1    2024-10-03 21:16:09+00:00  Europe/Madrid       2024-10-03    2024-10-03   \n2    2024-10-03 21:12:00+00:00  Europe/Madrid       2024-10-03    2024-10-03   \n3    2024-10-03 21:11:21+00:00  Europe/Madrid       2024-10-03    2024-10-03   \n4    2024-10-03 21:16:45+00:00  Europe/Madrid       2024-10-03    2024-10-03   \n\n  creation_time creation_hour pd_distance_haversine_m  \\\n0      20:55:02            20              895.267385   \n1      20:55:43            20             1236.264251   \n2      20:56:48            20              924.017061   \n3      20:58:25            20              369.394256   \n4      20:59:51            20              945.506113   \n\n  pd_distance_haversine_m_sk  pd_distance_manhattan_m  pd_distance_manhattan  \n0               56293.101094              1254.424177               0.013414  \n1               83396.573857              1298.738405               0.015140  \n2               60138.970331               994.168407               0.011689  \n3               21589.438597               465.858447               0.004506  \n4               63452.035108              1258.537546               0.013722  \n\n[5 rows x 23 columns]",
      "text/html": "<div>\n<style scoped>\n    .dataframe tbody tr th:only-of-type {\n        vertical-align: middle;\n    }\n\n    .dataframe tbody tr th {\n        vertical-align: top;\n    }\n\n    .dataframe thead th {\n        text-align: right;\n    }\n</style>\n<table border=\"1\" class=\"dataframe\">\n  <thead>\n    <tr style=\"text-align: right;\">\n      <th></th>\n      <th>country_code</th>\n      <th>city_code</th>\n      <th>order_id</th>\n      <th>courier_id</th>\n      <th>creation_timestamp</th>\n      <th>activation_timestamp</th>\n      <th>transport</th>\n      <th>pickup_timestamp</th>\n      <th>delivery_timestamp</th>\n      <th>pickup_latitude</th>\n      <th>...</th>\n      <th>delivery_entering_timestamp</th>\n      <th>time_zone</th>\n      <th>p_creation_date</th>\n      <th>creation_date</th>\n      <th>creation_time</th>\n      <th>creation_hour</th>\n      <th>pd_distance_haversine_m</th>\n      <th>pd_distance_haversine_m_sk</th>\n      <th>pd_distance_manhattan_m</th>\n      <th>pd_distance_manhattan</th>\n    </tr>\n  </thead>\n  <tbody>\n    <tr>\n      <th>0</th>\n      <td>ES</td>\n      <td>BCN</td>\n      <td>100907487116</td>\n      <td>8590944</td>\n      <td>2024-10-03 20:55:02+00:00</td>\n      <td>2024-10-03 20:55:04+00:00</td>\n      <td>BICYCLE</td>\n      <td>2024-10-03 21:21:44.215000+00:00</td>\n      <td>2024-10-03 21:32:33+00:00</td>\n      <td>41.370594</td>\n      <td>...</td>\n      <td>2024-10-03 21:29:37+00:00</td>\n      <td>Europe/Madrid</td>\n      <td>2024-10-03</td>\n      <td>2024-10-03</td>\n      <td>20:55:02</td>\n      <td>20</td>\n      <td>895.267385</td>\n      <td>56293.101094</td>\n      <td>1254.424177</td>\n      <td>0.013414</td>\n    </tr>\n    <tr>\n      <th>1</th>\n      <td>ES</td>\n      <td>MAD</td>\n      <td>100907489425</td>\n      <td>162535288</td>\n      <td>2024-10-03 20:55:43+00:00</td>\n      <td>2024-10-03 20:55:44+00:00</td>\n      <td>BICYCLE</td>\n      <td>2024-10-03 21:07:40.941000+00:00</td>\n      <td>2024-10-03 21:19:10+00:00</td>\n      <td>40.382927</td>\n      <td>...</td>\n      <td>2024-10-03 21:16:09+00:00</td>\n      <td>Europe/Madrid</td>\n      <td>2024-10-03</td>\n      <td>2024-10-03</td>\n      <td>20:55:43</td>\n      <td>20</td>\n      <td>1236.264251</td>\n      <td>83396.573857</td>\n      <td>1298.738405</td>\n      <td>0.015140</td>\n    </tr>\n    <tr>\n      <th>2</th>\n      <td>ES</td>\n      <td>BCN</td>\n      <td>100907493124</td>\n      <td>146788593</td>\n      <td>2024-10-03 20:56:48+00:00</td>\n      <td>2024-10-03 20:56:49+00:00</td>\n      <td>BICYCLE</td>\n      <td>2024-10-03 21:07:40.560000+00:00</td>\n      <td>2024-10-03 21:14:30+00:00</td>\n      <td>41.389874</td>\n      <td>...</td>\n      <td>2024-10-03 21:12:00+00:00</td>\n      <td>Europe/Madrid</td>\n      <td>2024-10-03</td>\n      <td>2024-10-03</td>\n      <td>20:56:48</td>\n      <td>20</td>\n      <td>924.017061</td>\n      <td>60138.970331</td>\n      <td>994.168407</td>\n      <td>0.011689</td>\n    </tr>\n    <tr>\n      <th>3</th>\n      <td>ES</td>\n      <td>MAD</td>\n      <td>100907498582</td>\n      <td>45695767</td>\n      <td>2024-10-03 20:58:25+00:00</td>\n      <td>2024-10-03 20:58:26+00:00</td>\n      <td>MOTORBIKE</td>\n      <td>2024-10-03 21:08:59.224000+00:00</td>\n      <td>2024-10-03 21:14:21+00:00</td>\n      <td>40.409720</td>\n      <td>...</td>\n      <td>2024-10-03 21:11:21+00:00</td>\n      <td>Europe/Madrid</td>\n      <td>2024-10-03</td>\n      <td>2024-10-03</td>\n      <td>20:58:25</td>\n      <td>20</td>\n      <td>369.394256</td>\n      <td>21589.438597</td>\n      <td>465.858447</td>\n      <td>0.004506</td>\n    </tr>\n    <tr>\n      <th>4</th>\n      <td>ES</td>\n      <td>MAD</td>\n      <td>100907503468</td>\n      <td>166385377</td>\n      <td>2024-10-03 20:59:51+00:00</td>\n      <td>2024-10-03 20:59:53+00:00</td>\n      <td>MOTORBIKE</td>\n      <td>2024-10-03 21:09:49.060000+00:00</td>\n      <td>2024-10-03 21:20:30+00:00</td>\n      <td>40.433780</td>\n      <td>...</td>\n      <td>2024-10-03 21:16:45+00:00</td>\n      <td>Europe/Madrid</td>\n      <td>2024-10-03</td>\n      <td>2024-10-03</td>\n      <td>20:59:51</td>\n      <td>20</td>\n      <td>945.506113</td>\n      <td>63452.035108</td>\n      <td>1258.537546</td>\n      <td>0.013722</td>\n    </tr>\n  </tbody>\n</table>\n<p>5 rows × 23 columns</p>\n</div>"
     },
     "execution_count": 28,
     "metadata": {},
     "output_type": "execute_result"
    }
   ],
   "source": [
    "data['pd_distance_haversine_m'] = data.apply(\n",
    "    lambda x: haversine(\n",
    "        (x['pickup_latitude'], x['pickup_longitude']),\n",
    "        (x['delivery_latitude'], x['delivery_longitude']),\n",
    "        unit=Unit.METERS\n",
    "    ), axis=1\n",
    ")\n",
    "data['pd_distance_haversine_m_sk'] = data.apply(\n",
    "    lambda x: haversine_distances(\n",
    "        np.array([[x['pickup_latitude'], x['pickup_longitude']]]),\n",
    "        np.array([[x['delivery_latitude'], x['delivery_longitude']]])\n",
    "    )[0][0] * earth_radius_m, axis=1\n",
    ")\n",
    "data['pd_distance_manhattan_m'] = data.apply(manhattan_distance_in_meters, axis=1)\n",
    "data.head()"
   ],
   "metadata": {
    "collapsed": false,
    "ExecuteTime": {
     "end_time": "2024-10-23T09:59:54.911739Z",
     "start_time": "2024-10-23T09:55:42.287285Z"
    }
   },
   "id": "c93468fe8bc656f1",
   "execution_count": 28
  },
  {
   "cell_type": "markdown",
   "source": [
    "## Save the dataset"
   ],
   "metadata": {
    "collapsed": false
   },
   "id": "5da7791843042776"
  },
  {
   "cell_type": "raw",
   "source": [
    "data.to_pickle(\"data/dataframe.pkl\")"
   ],
   "metadata": {
    "collapsed": false
   },
   "id": "400dcfe4569bd3da"
  },
  {
   "cell_type": "markdown",
   "source": [
    "It's better to use the parquet format, as it is more efficient and faster to read and write. Besides, it is a columnar format, which is more suitable for analytical queries. We can also partition the data by city and creation date, which will help to speed up the queries."
   ],
   "metadata": {
    "collapsed": false
   },
   "id": "2da57697f71fdf68"
  },
  {
   "cell_type": "code",
   "outputs": [],
   "source": [
    "data.to_parquet(\"data/dataframe.parquet\", partition_cols=['creation_date', 'city_code'])"
   ],
   "metadata": {
    "collapsed": false
   },
   "id": "4a357e3ed80c39b1"
  },
  {
   "cell_type": "markdown",
   "source": [
    "## Exploratory Data Analysis (EDA)"
   ],
   "metadata": {
    "collapsed": false
   },
   "id": "9f700ca8f9a310ca"
  },
  {
   "cell_type": "raw",
   "source": [
    "data = pd.read_pickle(\"data/dataframe.pkl\")"
   ],
   "metadata": {
    "collapsed": false
   },
   "id": "f459d6342f561915"
  },
  {
   "cell_type": "code",
   "outputs": [],
   "source": [
    "data = pd.read_parquet(\"data/dataframe.parquet\")"
   ],
   "metadata": {
    "collapsed": false,
    "ExecuteTime": {
     "end_time": "2024-10-23T09:13:07.064544Z",
     "start_time": "2024-10-23T09:13:07.061415Z"
    }
   },
   "id": "5ecce593d1c02912"
  },
  {
   "cell_type": "code",
   "outputs": [],
   "source": [
    "# Histogram of the # of data per day / hour\n",
    "plt.figure(figsize=(15, 8))\n",
    "plt.hist(data['creation_timestamp'], bins = 1000)\n",
    "plt.title('Histogram of the # of data per day / hour')\n",
    "plt.xlabel('Day / Hour')\n",
    "plt.ylabel('Frequency')\n",
    "plt.show()"
   ],
   "metadata": {
    "collapsed": false,
    "ExecuteTime": {
     "start_time": "2024-10-23T09:13:07.063616Z"
    }
   },
   "id": "71786bb2d8f08ad7",
   "execution_count": null
  },
  {
   "cell_type": "code",
   "outputs": [],
   "source": [
    "plt.figure(figsize=(15, 8))\n",
    "plt.hist(data['creation_date'], bins = 14)\n",
    "plt.title('Histogram of the # of data per day')\n",
    "plt.xlabel('Day')\n",
    "plt.ylabel('Frequency')\n",
    "plt.show()"
   ],
   "metadata": {
    "collapsed": false,
    "ExecuteTime": {
     "start_time": "2024-10-23T09:13:07.065782Z"
    }
   },
   "id": "9b49b7bdfaf6dc14",
   "execution_count": null
  },
  {
   "cell_type": "code",
   "outputs": [],
   "source": [
    "plt.figure(figsize=(15, 8))\n",
    "plt.hist(data['creation_hour'])\n",
    "plt.title('Histogram of the # of data per hour')\n",
    "plt.xlabel('Hour')\n",
    "plt.ylabel('Frequency')\n",
    "plt.show()"
   ],
   "metadata": {
    "collapsed": false,
    "ExecuteTime": {
     "start_time": "2024-10-23T09:13:07.067940Z"
    }
   },
   "id": "76b3fb2c7e172f38",
   "execution_count": null
  },
  {
   "cell_type": "code",
   "outputs": [],
   "source": [
    "# Check the distribution of the transport types\n",
    "data['transport'].value_counts()"
   ],
   "metadata": {
    "collapsed": false,
    "ExecuteTime": {
     "start_time": "2024-10-23T09:13:07.070176Z"
    }
   },
   "id": "e5d0cbff51d0870",
   "execution_count": null
  },
  {
   "cell_type": "code",
   "outputs": [],
   "source": [
    "# Check the distribution of the distances\n",
    "plt.figure(figsize=(15, 8))\n",
    "plt.hist(data['pd_distance_haversine_m'], bins = 1000)\n",
    "plt.xlim(0, 10000)\n",
    "plt.title('Histogram of the distances')\n",
    "plt.xlabel('Distance (m)')\n",
    "plt.ylabel('Frequency')\n",
    "plt.show()"
   ],
   "metadata": {
    "collapsed": false,
    "ExecuteTime": {
     "start_time": "2024-10-23T09:13:07.072583Z"
    }
   },
   "id": "47fa4556b397ea7b",
   "execution_count": null
  },
  {
   "cell_type": "markdown",
   "source": [
    "## Hyperparameters"
   ],
   "metadata": {
    "collapsed": false
   },
   "id": "b4f24b33b07b58e9"
  },
  {
   "cell_type": "code",
   "outputs": [],
   "source": [
    "test_set_perc = 0.1\n",
    "days_for_test = 7\n",
    "k_cv = 5"
   ],
   "metadata": {
    "collapsed": false,
    "ExecuteTime": {
     "start_time": "2024-10-23T09:13:07.075327Z"
    }
   },
   "id": "843f73749bdce7ee",
   "execution_count": null
  },
  {
   "cell_type": "markdown",
   "source": [
    "## Database split"
   ],
   "metadata": {
    "collapsed": false
   },
   "id": "3aed5934e3c1f8f"
  },
  {
   "cell_type": "code",
   "outputs": [],
   "source": [
    "X = data\n",
    "y = data['delivery_entering_timestamp'] - data['pickup_timestamp']\n",
    "y"
   ],
   "metadata": {
    "collapsed": false,
    "ExecuteTime": {
     "start_time": "2024-10-23T09:13:07.077478Z"
    }
   },
   "id": "2574aa199337f236",
   "execution_count": null
  },
  {
   "cell_type": "markdown",
   "source": [
    "As we are dealing with a time-series dataset (orders are placed at different times), we will split the data based on the creation timestamp, leaving out the last 10% of the data for testing. This will help to understand the performance of the model on unseen data, as in reality we will have to test the model on data created on day+1 with respect to our training data."
   ],
   "metadata": {
    "collapsed": false
   },
   "id": "fc1bd6034ee61016"
  },
  {
   "cell_type": "code",
   "outputs": [],
   "source": [
    "X.sort_values('creation_timestamp', inplace=True)\n",
    "X_train, X_test, y_train, y_test = train_test_split(X, y, test_size=test_set_perc, random_state=0)"
   ],
   "metadata": {
    "collapsed": false,
    "ExecuteTime": {
     "start_time": "2024-10-23T09:13:07.079839Z"
    }
   },
   "id": "62cf1844840c2240",
   "execution_count": null
  },
  {
   "cell_type": "code",
   "outputs": [],
   "source": [
    "X_train"
   ],
   "metadata": {
    "collapsed": false,
    "ExecuteTime": {
     "start_time": "2024-10-23T09:13:07.081383Z"
    }
   },
   "id": "fc0cc9098900ec66",
   "execution_count": null
  },
  {
   "cell_type": "code",
   "outputs": [],
   "source": [
    "y_train"
   ],
   "metadata": {
    "collapsed": false,
    "ExecuteTime": {
     "start_time": "2024-10-23T09:13:07.083642Z"
    }
   },
   "id": "578fea794feb9a3d",
   "execution_count": null
  },
  {
   "cell_type": "code",
   "outputs": [],
   "source": [
    "print(X_train.shape, y_train.shape)\n",
    "print(X_test.shape, y_test.shape)"
   ],
   "metadata": {
    "collapsed": false,
    "ExecuteTime": {
     "start_time": "2024-10-23T09:13:07.085831Z"
    }
   },
   "id": "2e1aab43ff9f5211",
   "execution_count": null
  },
  {
   "cell_type": "code",
   "outputs": [],
   "source": [
    "# In case we want to test different hyperparameters, we will use cross-validation\n",
    "#scores = cross_val_score(<estimator>, X, y, cv=k_cv)"
   ],
   "metadata": {
    "collapsed": false,
    "ExecuteTime": {
     "start_time": "2024-10-23T09:13:07.090041Z"
    }
   },
   "id": "fdc44e42fd992ca8",
   "execution_count": null
  },
  {
   "cell_type": "markdown",
   "source": [
    "### Database split using directly the creation date\n",
    "\n",
    "As we have partitioned the data by city and creation date, we can use this information to split the data. This will help to avoid data leakage, as we will not have data from the future in the training set.\n",
    "This is much better than just sorting the data by the creation timestamp and taking 10% of the dataset as test set, as we did before."
   ],
   "metadata": {
    "collapsed": false
   },
   "id": "7282f116c476aa5c"
  },
  {
   "cell_type": "code",
   "outputs": [],
   "source": [
    "begin_test_date = X['creation_date'].unique()[-int(test_set_perc * len(X['creation_date'].unique()))]\n",
    "begin_test_date"
   ],
   "metadata": {
    "collapsed": false,
    "ExecuteTime": {
     "start_time": "2024-10-23T09:13:07.092040Z"
    }
   },
   "id": "3f98b315ada92e6f",
   "execution_count": null
  },
  {
   "cell_type": "code",
   "outputs": [],
   "source": [
    "# We take the last week of the dataset to test the model\n",
    "begin_test_date = end_date - pd.Timedelta(days=days_for_test)"
   ],
   "metadata": {
    "collapsed": false,
    "ExecuteTime": {
     "end_time": "2024-10-23T09:13:07.099969Z",
     "start_time": "2024-10-23T09:13:07.093595Z"
    }
   },
   "id": "75c872336bd56642",
   "execution_count": null
  },
  {
   "cell_type": "code",
   "outputs": [],
   "source": [
    "X_train = pd.read_parquet(\"data/dataframe.parquet\", filters=[('creation_date', '<=', begin_test_date)])"
   ],
   "metadata": {
    "collapsed": false,
    "ExecuteTime": {
     "start_time": "2024-10-23T09:13:07.095293Z"
    }
   },
   "id": "3ac70f793bb888aa",
   "execution_count": null
  },
  {
   "cell_type": "code",
   "outputs": [],
   "source": [
    "y_train"
   ],
   "metadata": {
    "collapsed": false,
    "ExecuteTime": {
     "start_time": "2024-10-23T09:13:07.096907Z"
    }
   },
   "id": "7062f2936f260656",
   "execution_count": null
  },
  {
   "cell_type": "code",
   "outputs": [],
   "source": [
    "X_test"
   ],
   "metadata": {
    "collapsed": false,
    "ExecuteTime": {
     "start_time": "2024-10-23T09:13:07.098627Z"
    }
   },
   "id": "1830d6e04cb2eed0",
   "execution_count": null
  },
  {
   "cell_type": "code",
   "outputs": [],
   "source": [
    "y_test"
   ],
   "metadata": {
    "collapsed": false,
    "ExecuteTime": {
     "end_time": "2024-10-23T09:13:07.101338Z",
     "start_time": "2024-10-23T09:13:07.100107Z"
    }
   },
   "id": "52ce014a35efad12",
   "execution_count": null
  },
  {
   "cell_type": "markdown",
   "source": [
    "Compute the column for velocity "
   ],
   "metadata": {
    "collapsed": false
   },
   "id": "e01843bd221d9df1"
  },
  {
   "cell_type": "code",
   "outputs": [],
   "source": [
    "X_train['velocity'] = X_train['pd_distance_haversine_m'] / y_train.dt.total_seconds()"
   ],
   "metadata": {
    "collapsed": false,
    "ExecuteTime": {
     "end_time": "2024-10-23T09:13:07.101924Z",
     "start_time": "2024-10-23T09:13:07.101712Z"
    }
   },
   "id": "7319e4fbfc086581",
   "execution_count": null
  }
 ],
 "metadata": {
  "kernelspec": {
   "display_name": "Python 3",
   "language": "python",
   "name": "python3"
  },
  "language_info": {
   "codemirror_mode": {
    "name": "ipython",
    "version": 2
   },
   "file_extension": ".py",
   "mimetype": "text/x-python",
   "name": "python",
   "nbconvert_exporter": "python",
   "pygments_lexer": "ipython2",
   "version": "2.7.6"
  }
 },
 "nbformat": 4,
 "nbformat_minor": 5
}
