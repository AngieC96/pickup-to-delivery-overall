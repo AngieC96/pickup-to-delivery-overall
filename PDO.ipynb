{
 "cells": [
  {
   "cell_type": "markdown",
   "source": [
    "# Pickup to Delivery Overall"
   ],
   "metadata": {
    "collapsed": false
   },
   "id": "24ad314bf282ec83"
  },
  {
   "cell_type": "code",
   "outputs": [],
   "source": [
    "import os\n",
    "import sys\n",
    "import warnings\n",
    "import pandas as pd\n",
    "import numpy as np\n",
    "import csv\n",
    "import pickle\n",
    "import matplotlib.pyplot as plt\n",
    "from haversine import haversine, Unit\n",
    "from sklearn.metrics.pairwise import haversine_distances, manhattan_distances\n",
    "from sklearn.model_selection import train_test_split, cross_val_score\n",
    "\n",
    "sys.path.insert(0, os.path.expanduser('./'))\n",
    "import query_runner as qr\n",
    "import utils\n",
    "from estimator import BaselineModel_sum, BaselineModel_mean"
   ],
   "metadata": {
    "collapsed": false,
    "ExecuteTime": {
     "end_time": "2024-11-04T19:53:15.530725Z",
     "start_time": "2024-11-04T19:53:12.019177Z"
    }
   },
   "id": "cb71195be0f3a22f",
   "execution_count": 1
  },
  {
   "cell_type": "code",
   "outputs": [],
   "source": [
    "base_query_path = './queries/'\n",
    "dwh_config, livedb_config, parameters_config = utils.load_config(config_file='./config.ini')\n",
    "datalake_connection = qr.create_connection(db='datalake')\n",
    "#monolith_connection = qr.create_connection(user=livedb_config['monolith_username'], password=livedb_config['monolith_password'], db='livedb')\n",
    "#dispatching_db_connection = qr.create_connection(user=livedb_config['dispatching_db_username'], password=livedb_config['dispatching_db_password'], db='dispatchingdb')"
   ],
   "metadata": {
    "collapsed": false,
    "ExecuteTime": {
     "end_time": "2024-11-04T19:53:15.544257Z",
     "start_time": "2024-11-04T19:53:15.533890Z"
    }
   },
   "id": "52eb5fbdb862edbe",
   "execution_count": 2
  },
  {
   "cell_type": "code",
   "outputs": [
    {
     "name": "stdout",
     "output_type": "stream",
     "text": [
      "Start date: 2024-09-30 | End date: 2024-10-20 | Countries: ES | Cities: 'MAD', 'BCN', 'SEV', 'ALC'\n"
     ]
    }
   ],
   "source": [
    "start_date = parameters_config['start_date']\n",
    "end_date = parameters_config['end_date']\n",
    "country_code = parameters_config['country_code']\n",
    "cities = parameters_config['cities']\n",
    "\n",
    "print(f'Start date: {start_date} | End date: {end_date} | Countries: {country_code} | Cities: {cities}')"
   ],
   "metadata": {
    "collapsed": false,
    "ExecuteTime": {
     "end_time": "2024-11-04T19:53:15.549555Z",
     "start_time": "2024-11-04T19:53:15.542368Z"
    }
   },
   "id": "f26eb0ba80de7f8e",
   "execution_count": 3
  },
  {
   "cell_type": "code",
   "outputs": [],
   "source": [
    "parameters = {\n",
    "    'start_date': start_date,\n",
    "    'end_date': end_date,\n",
    "    'country_code': country_code,\n",
    "    'cities': cities\n",
    "}"
   ],
   "metadata": {
    "collapsed": false,
    "ExecuteTime": {
     "end_time": "2024-11-04T19:53:15.557105Z",
     "start_time": "2024-11-04T19:53:15.548912Z"
    }
   },
   "id": "e3c251ccf4f2beb1",
   "execution_count": 4
  },
  {
   "cell_type": "markdown",
   "source": [
    "## Load the data"
   ],
   "metadata": {
    "collapsed": false
   },
   "id": "3c0d6dbf6375ce8"
  },
  {
   "cell_type": "code",
   "outputs": [
    {
     "name": "stdout",
     "output_type": "stream",
     "text": [
      "Open the following URL in browser for the external authentication:\n",
      "https://starburst.g8s-data-platform-prod.glovoint.com/oauth2/token/initiate/43b203b873db333a960faddee33877cff858dc210480b4219e65a5ef80eec8d8\n"
     ]
    },
    {
     "data": {
      "text/plain": "  country_code city_code      order_id  courier_id        creation_timestamp  \\\n0           ES       BCN  100907487116     8590944 2024-10-03 20:55:02+00:00   \n1           ES       MAD  100907489425   162535288 2024-10-03 20:55:43+00:00   \n2           ES       BCN  100907493124   146788593 2024-10-03 20:56:48+00:00   \n3           ES       MAD  100907498582    45695767 2024-10-03 20:58:25+00:00   \n4           ES       MAD  100907503468   166385377 2024-10-03 20:59:51+00:00   \n\n       activation_timestamp  transport                 pickup_timestamp  \\\n0 2024-10-03 20:55:04+00:00    BICYCLE 2024-10-03 21:21:44.215000+00:00   \n1 2024-10-03 20:55:44+00:00    BICYCLE 2024-10-03 21:07:40.941000+00:00   \n2 2024-10-03 20:56:49+00:00    BICYCLE 2024-10-03 21:07:40.560000+00:00   \n3 2024-10-03 20:58:26+00:00  MOTORBIKE 2024-10-03 21:08:59.224000+00:00   \n4 2024-10-03 20:59:53+00:00  MOTORBIKE 2024-10-03 21:09:49.060000+00:00   \n\n  delivery_entering_timestamp        delivery_timestamp  pickup_latitude  \\\n0   2024-10-03 21:29:37+00:00 2024-10-03 21:32:33+00:00        41.370594   \n1   2024-10-03 21:16:09+00:00 2024-10-03 21:19:10+00:00        40.382927   \n2   2024-10-03 21:12:00+00:00 2024-10-03 21:14:30+00:00        41.389874   \n3   2024-10-03 21:11:21+00:00 2024-10-03 21:14:21+00:00        40.409720   \n4   2024-10-03 21:16:45+00:00 2024-10-03 21:20:30+00:00        40.433780   \n\n   pickup_longitude  delivery_latitude  delivery_longitude      time_zone  \\\n0          2.113433          41.375412            2.104837  Europe/Madrid   \n1         -3.626392          40.383490           -3.640969  Europe/Madrid   \n2          2.159761          41.390520            2.148718  Europe/Madrid   \n3         -3.670494          40.412880           -3.671840  Europe/Madrid   \n4         -3.683620          40.430176           -3.673502  Europe/Madrid   \n\n  p_creation_date  \n0      2024-10-03  \n1      2024-10-03  \n2      2024-10-03  \n3      2024-10-03  \n4      2024-10-03  ",
      "text/html": "<div>\n<style scoped>\n    .dataframe tbody tr th:only-of-type {\n        vertical-align: middle;\n    }\n\n    .dataframe tbody tr th {\n        vertical-align: top;\n    }\n\n    .dataframe thead th {\n        text-align: right;\n    }\n</style>\n<table border=\"1\" class=\"dataframe\">\n  <thead>\n    <tr style=\"text-align: right;\">\n      <th></th>\n      <th>country_code</th>\n      <th>city_code</th>\n      <th>order_id</th>\n      <th>courier_id</th>\n      <th>creation_timestamp</th>\n      <th>activation_timestamp</th>\n      <th>transport</th>\n      <th>pickup_timestamp</th>\n      <th>delivery_entering_timestamp</th>\n      <th>delivery_timestamp</th>\n      <th>pickup_latitude</th>\n      <th>pickup_longitude</th>\n      <th>delivery_latitude</th>\n      <th>delivery_longitude</th>\n      <th>time_zone</th>\n      <th>p_creation_date</th>\n    </tr>\n  </thead>\n  <tbody>\n    <tr>\n      <th>0</th>\n      <td>ES</td>\n      <td>BCN</td>\n      <td>100907487116</td>\n      <td>8590944</td>\n      <td>2024-10-03 20:55:02+00:00</td>\n      <td>2024-10-03 20:55:04+00:00</td>\n      <td>BICYCLE</td>\n      <td>2024-10-03 21:21:44.215000+00:00</td>\n      <td>2024-10-03 21:29:37+00:00</td>\n      <td>2024-10-03 21:32:33+00:00</td>\n      <td>41.370594</td>\n      <td>2.113433</td>\n      <td>41.375412</td>\n      <td>2.104837</td>\n      <td>Europe/Madrid</td>\n      <td>2024-10-03</td>\n    </tr>\n    <tr>\n      <th>1</th>\n      <td>ES</td>\n      <td>MAD</td>\n      <td>100907489425</td>\n      <td>162535288</td>\n      <td>2024-10-03 20:55:43+00:00</td>\n      <td>2024-10-03 20:55:44+00:00</td>\n      <td>BICYCLE</td>\n      <td>2024-10-03 21:07:40.941000+00:00</td>\n      <td>2024-10-03 21:16:09+00:00</td>\n      <td>2024-10-03 21:19:10+00:00</td>\n      <td>40.382927</td>\n      <td>-3.626392</td>\n      <td>40.383490</td>\n      <td>-3.640969</td>\n      <td>Europe/Madrid</td>\n      <td>2024-10-03</td>\n    </tr>\n    <tr>\n      <th>2</th>\n      <td>ES</td>\n      <td>BCN</td>\n      <td>100907493124</td>\n      <td>146788593</td>\n      <td>2024-10-03 20:56:48+00:00</td>\n      <td>2024-10-03 20:56:49+00:00</td>\n      <td>BICYCLE</td>\n      <td>2024-10-03 21:07:40.560000+00:00</td>\n      <td>2024-10-03 21:12:00+00:00</td>\n      <td>2024-10-03 21:14:30+00:00</td>\n      <td>41.389874</td>\n      <td>2.159761</td>\n      <td>41.390520</td>\n      <td>2.148718</td>\n      <td>Europe/Madrid</td>\n      <td>2024-10-03</td>\n    </tr>\n    <tr>\n      <th>3</th>\n      <td>ES</td>\n      <td>MAD</td>\n      <td>100907498582</td>\n      <td>45695767</td>\n      <td>2024-10-03 20:58:25+00:00</td>\n      <td>2024-10-03 20:58:26+00:00</td>\n      <td>MOTORBIKE</td>\n      <td>2024-10-03 21:08:59.224000+00:00</td>\n      <td>2024-10-03 21:11:21+00:00</td>\n      <td>2024-10-03 21:14:21+00:00</td>\n      <td>40.409720</td>\n      <td>-3.670494</td>\n      <td>40.412880</td>\n      <td>-3.671840</td>\n      <td>Europe/Madrid</td>\n      <td>2024-10-03</td>\n    </tr>\n    <tr>\n      <th>4</th>\n      <td>ES</td>\n      <td>MAD</td>\n      <td>100907503468</td>\n      <td>166385377</td>\n      <td>2024-10-03 20:59:51+00:00</td>\n      <td>2024-10-03 20:59:53+00:00</td>\n      <td>MOTORBIKE</td>\n      <td>2024-10-03 21:09:49.060000+00:00</td>\n      <td>2024-10-03 21:16:45+00:00</td>\n      <td>2024-10-03 21:20:30+00:00</td>\n      <td>40.433780</td>\n      <td>-3.683620</td>\n      <td>40.430176</td>\n      <td>-3.673502</td>\n      <td>Europe/Madrid</td>\n      <td>2024-10-03</td>\n    </tr>\n  </tbody>\n</table>\n</div>"
     },
     "execution_count": 5,
     "metadata": {},
     "output_type": "execute_result"
    }
   ],
   "source": [
    "query_name = '''\n",
    "SELECT\n",
    "    olf.country_code                                 AS country_code,\n",
    "    olf.city_code                                    AS city_code,\n",
    "    olf.order_id                                     AS order_id,\n",
    "    olf.courier_id                                   AS courier_id,\n",
    "    olf.order_created_local_datetime                 AS creation_timestamp,\n",
    "    olf.order_activated_local_datetime               AS activation_timestamp,\n",
    "    olf.courier_transport                            AS transport,\n",
    "    olf.order_picked_up_local_datetime               AS pickup_timestamp,\n",
    "    olf.order_arrival_to_delivery_local_datetime     AS delivery_entering_timestamp,\n",
    "    olf.order_delivered_local_datetime               AS delivery_timestamp,\n",
    "    olf.order_pickup_latitude                        AS pickup_latitude,\n",
    "    olf.order_pickup_longitude                       AS pickup_longitude,\n",
    "    olf.order_delivery_latitude                      AS delivery_latitude,\n",
    "    olf.order_delivery_longitude                     AS delivery_longitude,\n",
    "    olf.order_time_zone                              AS time_zone,\n",
    "    olf.p_creation_date\n",
    "FROM delta.courier_routing_courier_ml_features_odp.order_level_features AS olf\n",
    "WHERE order_final_status = 'DeliveredStatus'\n",
    "    AND order_number_of_assignments = 1\n",
    "    AND order_bundle_index IS NULL\n",
    "    AND p_creation_date >= DATE '[start_date]' AND p_creation_date < DATE '[end_date]'\n",
    "    AND country_code IN ('[country_code]')\n",
    "    AND city_code IN ([cities])\n",
    "'''\n",
    "\n",
    "query = qr.Query(base_query_path, query_name, datalake_connection, parameters_dict=parameters, query_from_file = False)\n",
    "\n",
    "df = query.run()\n",
    "df = df.fillna(value=np.nan)\n",
    "\n",
    "data = df.copy()\n",
    "data.head()"
   ],
   "metadata": {
    "collapsed": false,
    "ExecuteTime": {
     "end_time": "2024-11-04T19:54:40.330420Z",
     "start_time": "2024-11-04T19:53:15.551192Z"
    }
   },
   "id": "1de21fec65a3d1b1",
   "execution_count": 5
  },
  {
   "cell_type": "markdown",
   "source": [
    "## Clean the dataset"
   ],
   "metadata": {
    "collapsed": false
   },
   "id": "cb60e56ce9b31a2"
  },
  {
   "cell_type": "code",
   "outputs": [
    {
     "name": "stdout",
     "output_type": "stream",
     "text": [
      "<class 'pandas.core.frame.DataFrame'>\n",
      "Index: 987012 entries, 0 to 87011\n",
      "Data columns (total 16 columns):\n",
      " #   Column                       Non-Null Count   Dtype              \n",
      "---  ------                       --------------   -----              \n",
      " 0   country_code                 987012 non-null  object             \n",
      " 1   city_code                    987012 non-null  object             \n",
      " 2   order_id                     987012 non-null  int64              \n",
      " 3   courier_id                   987012 non-null  int64              \n",
      " 4   creation_timestamp           987012 non-null  datetime64[ns, UTC]\n",
      " 5   activation_timestamp         987012 non-null  datetime64[ns, UTC]\n",
      " 6   transport                    987012 non-null  object             \n",
      " 7   pickup_timestamp             986757 non-null  datetime64[ns, UTC]\n",
      " 8   delivery_entering_timestamp  972471 non-null  datetime64[ns, UTC]\n",
      " 9   delivery_timestamp           987012 non-null  datetime64[ns, UTC]\n",
      " 10  pickup_latitude              987012 non-null  float64            \n",
      " 11  pickup_longitude             987012 non-null  float64            \n",
      " 12  delivery_latitude            987012 non-null  float64            \n",
      " 13  delivery_longitude           987012 non-null  float64            \n",
      " 14  time_zone                    987012 non-null  object             \n",
      " 15  p_creation_date              987012 non-null  object             \n",
      "dtypes: datetime64[ns, UTC](5), float64(4), int64(2), object(5)\n",
      "memory usage: 128.0+ MB\n"
     ]
    }
   ],
   "source": [
    "data.info()"
   ],
   "metadata": {
    "collapsed": false,
    "ExecuteTime": {
     "end_time": "2024-11-04T19:54:40.680359Z",
     "start_time": "2024-11-04T19:54:40.327202Z"
    }
   },
   "id": "3269019e5c025a9d",
   "execution_count": 6
  },
  {
   "cell_type": "code",
   "outputs": [
    {
     "data": {
      "text/plain": "           order_id    courier_id  pickup_latitude  pickup_longitude  \\\ncount  9.870120e+05  9.870120e+05    987012.000000     987012.000000   \nmean   1.009222e+11  1.218706e+08        40.673782         -0.851254   \nstd    1.301628e+07  5.590163e+07         0.993792          3.003208   \nmin    1.008998e+11  1.127770e+05        37.282646         -6.085188   \n25%    1.009108e+11  7.241826e+07        40.426132         -3.690008   \n50%    1.009222e+11  1.482987e+08        40.530730         -0.483401   \n75%    1.009337e+11  1.670841e+08        41.393280          2.159965   \nmax    1.009444e+11  1.796540e+08        41.483086          2.268973   \n\n       delivery_latitude  delivery_longitude  \ncount      987012.000000       987012.000000  \nmean           40.674140           -0.851210  \nstd             0.993963            3.002620  \nmin            37.260975           -6.100339  \n25%            40.426205           -3.689353  \n50%            40.528835           -0.483956  \n75%            41.394840            2.159824  \nmax            41.562153            2.277824  ",
      "text/html": "<div>\n<style scoped>\n    .dataframe tbody tr th:only-of-type {\n        vertical-align: middle;\n    }\n\n    .dataframe tbody tr th {\n        vertical-align: top;\n    }\n\n    .dataframe thead th {\n        text-align: right;\n    }\n</style>\n<table border=\"1\" class=\"dataframe\">\n  <thead>\n    <tr style=\"text-align: right;\">\n      <th></th>\n      <th>order_id</th>\n      <th>courier_id</th>\n      <th>pickup_latitude</th>\n      <th>pickup_longitude</th>\n      <th>delivery_latitude</th>\n      <th>delivery_longitude</th>\n    </tr>\n  </thead>\n  <tbody>\n    <tr>\n      <th>count</th>\n      <td>9.870120e+05</td>\n      <td>9.870120e+05</td>\n      <td>987012.000000</td>\n      <td>987012.000000</td>\n      <td>987012.000000</td>\n      <td>987012.000000</td>\n    </tr>\n    <tr>\n      <th>mean</th>\n      <td>1.009222e+11</td>\n      <td>1.218706e+08</td>\n      <td>40.673782</td>\n      <td>-0.851254</td>\n      <td>40.674140</td>\n      <td>-0.851210</td>\n    </tr>\n    <tr>\n      <th>std</th>\n      <td>1.301628e+07</td>\n      <td>5.590163e+07</td>\n      <td>0.993792</td>\n      <td>3.003208</td>\n      <td>0.993963</td>\n      <td>3.002620</td>\n    </tr>\n    <tr>\n      <th>min</th>\n      <td>1.008998e+11</td>\n      <td>1.127770e+05</td>\n      <td>37.282646</td>\n      <td>-6.085188</td>\n      <td>37.260975</td>\n      <td>-6.100339</td>\n    </tr>\n    <tr>\n      <th>25%</th>\n      <td>1.009108e+11</td>\n      <td>7.241826e+07</td>\n      <td>40.426132</td>\n      <td>-3.690008</td>\n      <td>40.426205</td>\n      <td>-3.689353</td>\n    </tr>\n    <tr>\n      <th>50%</th>\n      <td>1.009222e+11</td>\n      <td>1.482987e+08</td>\n      <td>40.530730</td>\n      <td>-0.483401</td>\n      <td>40.528835</td>\n      <td>-0.483956</td>\n    </tr>\n    <tr>\n      <th>75%</th>\n      <td>1.009337e+11</td>\n      <td>1.670841e+08</td>\n      <td>41.393280</td>\n      <td>2.159965</td>\n      <td>41.394840</td>\n      <td>2.159824</td>\n    </tr>\n    <tr>\n      <th>max</th>\n      <td>1.009444e+11</td>\n      <td>1.796540e+08</td>\n      <td>41.483086</td>\n      <td>2.268973</td>\n      <td>41.562153</td>\n      <td>2.277824</td>\n    </tr>\n  </tbody>\n</table>\n</div>"
     },
     "execution_count": 7,
     "metadata": {},
     "output_type": "execute_result"
    }
   ],
   "source": [
    "data.describe()"
   ],
   "metadata": {
    "collapsed": false,
    "ExecuteTime": {
     "end_time": "2024-11-04T19:54:40.974558Z",
     "start_time": "2024-11-04T19:54:40.681537Z"
    }
   },
   "id": "4ad7421cf883f255",
   "execution_count": 7
  },
  {
   "cell_type": "code",
   "outputs": [
    {
     "data": {
      "text/plain": "country_code                       0\ncity_code                          0\norder_id                           0\ncourier_id                         0\ncreation_timestamp                 0\nactivation_timestamp               0\ntransport                          0\npickup_timestamp                 255\ndelivery_entering_timestamp    14541\ndelivery_timestamp                 0\npickup_latitude                    0\npickup_longitude                   0\ndelivery_latitude                  0\ndelivery_longitude                 0\ntime_zone                          0\np_creation_date                    0\ndtype: int64"
     },
     "execution_count": 8,
     "metadata": {},
     "output_type": "execute_result"
    }
   ],
   "source": [
    "# Check for missing values\n",
    "data.isnull().sum()"
   ],
   "metadata": {
    "collapsed": false,
    "ExecuteTime": {
     "end_time": "2024-11-04T19:54:41.389895Z",
     "start_time": "2024-11-04T19:54:40.972932Z"
    }
   },
   "id": "1df8f7cd6a104940",
   "execution_count": 8
  },
  {
   "cell_type": "code",
   "outputs": [],
   "source": [
    "# Remove rows with null values: we have many rows, so we can afford to remove them\n",
    "data = data.dropna()"
   ],
   "metadata": {
    "collapsed": false,
    "ExecuteTime": {
     "end_time": "2024-11-04T19:54:41.901242Z",
     "start_time": "2024-11-04T19:54:41.391893Z"
    }
   },
   "id": "21a2d084be3ddfe8",
   "execution_count": 9
  },
  {
   "cell_type": "code",
   "outputs": [
    {
     "data": {
      "text/plain": "country_code                   0\ncity_code                      0\norder_id                       0\ncourier_id                     0\ncreation_timestamp             0\nactivation_timestamp           0\ntransport                      0\npickup_timestamp               0\ndelivery_entering_timestamp    0\ndelivery_timestamp             0\npickup_latitude                0\npickup_longitude               0\ndelivery_latitude              0\ndelivery_longitude             0\ntime_zone                      0\np_creation_date                0\ndtype: int64"
     },
     "execution_count": 10,
     "metadata": {},
     "output_type": "execute_result"
    }
   ],
   "source": [
    "# Check for missing values\n",
    "data.isnull().sum()"
   ],
   "metadata": {
    "collapsed": false,
    "ExecuteTime": {
     "end_time": "2024-11-04T19:54:42.226579Z",
     "start_time": "2024-11-04T19:54:41.908386Z"
    }
   },
   "id": "fea941235b67758e",
   "execution_count": 10
  },
  {
   "cell_type": "code",
   "outputs": [
    {
     "data": {
      "text/plain": "np.int64(0)"
     },
     "execution_count": 11,
     "metadata": {},
     "output_type": "execute_result"
    }
   ],
   "source": [
    "# Check for duplicates\n",
    "data.duplicated().sum()"
   ],
   "metadata": {
    "collapsed": false,
    "ExecuteTime": {
     "end_time": "2024-11-04T19:54:43.567814Z",
     "start_time": "2024-11-04T19:54:42.245448Z"
    }
   },
   "id": "83402ad003b2989e",
   "execution_count": 11
  },
  {
   "cell_type": "markdown",
   "source": [
    "## Compute new features"
   ],
   "metadata": {
    "collapsed": false
   },
   "id": "9be4b81e03b7586"
  },
  {
   "cell_type": "code",
   "outputs": [],
   "source": [
    "# Convert the creation time to datetime\n",
    "data['creation_timestamp'] = pd.to_datetime(data['creation_timestamp'])\n",
    "data['activation_timestamp'] = pd.to_datetime(data['activation_timestamp'])\n",
    "data['pickup_timestamp'] = pd.to_datetime(data['pickup_timestamp'])\n",
    "data['delivery_timestamp'] = pd.to_datetime(data['delivery_timestamp'])\n",
    "data['delivery_entering_timestamp'] = pd.to_datetime(data['delivery_entering_timestamp'])\n",
    "\n",
    "# Compute the delivery date and the delivery time\n",
    "data['creation_date'] = data['creation_timestamp'].dt.date\n",
    "data['creation_time'] = data['creation_timestamp'].dt.time\n",
    "data['creation_hour'] = data['creation_timestamp'].dt.hour"
   ],
   "metadata": {
    "collapsed": false,
    "ExecuteTime": {
     "end_time": "2024-11-04T19:54:44.185208Z",
     "start_time": "2024-11-04T19:54:43.567241Z"
    }
   },
   "id": "80163d0a54873861",
   "execution_count": 12
  },
  {
   "cell_type": "markdown",
   "source": [
    "To determine whether a coordinate is in degrees or radians, you can consider the typical ranges and values for latitude and longitude:\n",
    "1. **Degrees:**\n",
    "   - Latitude ranges from -90 to 90 degrees.\n",
    "   - Longitude ranges from -180 to 180 degrees.\n",
    "   - Values are typically whole numbers or decimals within these ranges.\n",
    "2. **Radians:**\n",
    "   - Latitude and longitude in radians will range from approximately -π/2 to π/2 for latitude and -π to π for longitude.\n",
    "   - Values are typically small decimals (e.g., 0.5, 1.0, etc.).\n",
    "\n",
    "Given our dataset, as the values in the columns `pickup_latitude`, `pickup_longitude`, `delivery_latitude`, `delivery_longitude` fall within the typical range for degrees, it is safe to assume that these coordinates are in degrees.\n",
    "\n",
    "There is a difference in how the `haversine` library, the `sklearn`'s `haversine_distances`, and the `sklearn`'s `manhattan_distances` function compute and return the distances. Let's break down the differences and how to resolve them:\n",
    "1. **Haversine Library:**\n",
    "   - The `haversine` library directly computes the distance between two points and returns a single scalar value.\n",
    "2. **Sklearn's `haversine_distances`:**\n",
    "   - The `haversine_distances` function from `sklearn` returns a distance matrix. When you input two points, it returns a 1x1 matrix (a nested list) containing the distance. This is why you would see the result in squared parentheses like `[[]]`. We extract the single value using `[0][0]`.\n",
    "   - To use these coordinates with sklearn's `haversine_distances` function, you need to convert them to radians using `np.radians`.\n",
    "   - Additionally, the `haversine_distances` function returns the distance in radians, not in meters. To convert this to meters, you need to multiply by the Earth's radius (approximately 6371000 meters).\n",
    "3. **Sklearn's `manhattan_distances`:**\n",
    "   - The `manhattan_distances` function computes the Manhattan distance between two points and returns a distance matrix. We extract the single value from the 1x1 matrix using `[0][0]`.\n",
    "   - Additionally, the `manhattan_distances` function from sklearn computes the distance based on the Cartesian coordinates provided. Since latitude and longitude are angular measurements, the result will not be in meters but in degrees. To convert the Manhattan distance from degrees to meters, you need to account for the Earth's curvature. \n",
    "      - The conversion factor for latitude is approximately 111,320 meters per degree.\n",
    "      - The conversion factor for longitude varies based on the latitude. At the equator, it's approximately 111,320 meters per degree, but it decreases as you move towards the poles.\n",
    "      - Convert the latitude and longitude differences to meters.\n",
    "      - Sum the absolute differences to get the Manhattan distance in meters."
   ],
   "metadata": {
    "collapsed": false
   },
   "id": "7b6ea1be09344c80"
  },
  {
   "cell_type": "code",
   "outputs": [],
   "source": [
    "# Convert degrees to radians\n",
    "data['pickup_latitude_rad'] = np.radians(data['pickup_latitude'])\n",
    "data['pickup_longitude_rad'] = np.radians(data['pickup_longitude'])\n",
    "data['delivery_latitude_rad'] = np.radians(data['delivery_latitude'])\n",
    "data['delivery_longitude_rad'] = np.radians(data['delivery_longitude'])\n",
    "\n",
    "# Earth's radius in meters\n",
    "earth_radius_m = 6371.0088 * 1000  # average earth radius - https://en.wikipedia.org/wiki/Earth_radius#Mean_radius\n",
    "\n",
    "# Conversion factors\n",
    "meters_per_degree_lat = 111320  # Approximate meters per degree of latitude\n",
    "\n",
    "def manhattan_distance_in_meters(row):\n",
    "    # Convert latitude and longitude differences to meters\n",
    "    lat_diff_m = abs(row['pickup_latitude'] - row['delivery_latitude']) * meters_per_degree_lat\n",
    "    # Convert longitude difference to meters, considering the latitude\n",
    "    lon_diff_m = abs(row['pickup_longitude'] - row['delivery_longitude']) * meters_per_degree_lat * np.cos(np.radians((row['pickup_latitude'] + row['delivery_latitude']) / 2))\n",
    "    # Sum the absolute differences to get the Manhattan distance in meters\n",
    "    return lat_diff_m + lon_diff_m"
   ],
   "metadata": {
    "collapsed": false,
    "ExecuteTime": {
     "end_time": "2024-11-04T19:54:44.237376Z",
     "start_time": "2024-11-04T19:54:44.188814Z"
    }
   },
   "id": "808ab1bc4476de8a",
   "execution_count": 13
  },
  {
   "cell_type": "code",
   "outputs": [
    {
     "data": {
      "text/plain": "  country_code city_code      order_id  courier_id        creation_timestamp  \\\n0           ES       BCN  100907487116     8590944 2024-10-03 20:55:02+00:00   \n1           ES       MAD  100907489425   162535288 2024-10-03 20:55:43+00:00   \n2           ES       BCN  100907493124   146788593 2024-10-03 20:56:48+00:00   \n3           ES       MAD  100907498582    45695767 2024-10-03 20:58:25+00:00   \n4           ES       MAD  100907503468   166385377 2024-10-03 20:59:51+00:00   \n\n       activation_timestamp  transport                 pickup_timestamp  \\\n0 2024-10-03 20:55:04+00:00    BICYCLE 2024-10-03 21:21:44.215000+00:00   \n1 2024-10-03 20:55:44+00:00    BICYCLE 2024-10-03 21:07:40.941000+00:00   \n2 2024-10-03 20:56:49+00:00    BICYCLE 2024-10-03 21:07:40.560000+00:00   \n3 2024-10-03 20:58:26+00:00  MOTORBIKE 2024-10-03 21:08:59.224000+00:00   \n4 2024-10-03 20:59:53+00:00  MOTORBIKE 2024-10-03 21:09:49.060000+00:00   \n\n  delivery_entering_timestamp        delivery_timestamp  ...  creation_date  \\\n0   2024-10-03 21:29:37+00:00 2024-10-03 21:32:33+00:00  ...     2024-10-03   \n1   2024-10-03 21:16:09+00:00 2024-10-03 21:19:10+00:00  ...     2024-10-03   \n2   2024-10-03 21:12:00+00:00 2024-10-03 21:14:30+00:00  ...     2024-10-03   \n3   2024-10-03 21:11:21+00:00 2024-10-03 21:14:21+00:00  ...     2024-10-03   \n4   2024-10-03 21:16:45+00:00 2024-10-03 21:20:30+00:00  ...     2024-10-03   \n\n   creation_time  creation_hour  pickup_latitude_rad pickup_longitude_rad  \\\n0       20:55:02             20             0.722053             0.036886   \n1       20:55:43             20             0.704815            -0.063292   \n2       20:56:48             20             0.722390             0.037695   \n3       20:58:25             20             0.705283            -0.064062   \n4       20:59:51             20             0.705703            -0.064291   \n\n  delivery_latitude_rad delivery_longitude_rad pd_distance_haversine_m  \\\n0              0.722137               0.036736              895.267385   \n1              0.704825              -0.063547             1236.264251   \n2              0.722401               0.037502              924.017061   \n3              0.705338              -0.064086              369.394256   \n4              0.705640              -0.064115              945.506113   \n\n   pd_distance_haversine_m_sk  pd_distance_manhattan_m  \n0                  895.267385              1254.424177  \n1                 1236.264251              1298.738405  \n2                  924.017061               994.168407  \n3                  369.394256               465.858447  \n4                  945.506113              1258.537546  \n\n[5 rows x 26 columns]",
      "text/html": "<div>\n<style scoped>\n    .dataframe tbody tr th:only-of-type {\n        vertical-align: middle;\n    }\n\n    .dataframe tbody tr th {\n        vertical-align: top;\n    }\n\n    .dataframe thead th {\n        text-align: right;\n    }\n</style>\n<table border=\"1\" class=\"dataframe\">\n  <thead>\n    <tr style=\"text-align: right;\">\n      <th></th>\n      <th>country_code</th>\n      <th>city_code</th>\n      <th>order_id</th>\n      <th>courier_id</th>\n      <th>creation_timestamp</th>\n      <th>activation_timestamp</th>\n      <th>transport</th>\n      <th>pickup_timestamp</th>\n      <th>delivery_entering_timestamp</th>\n      <th>delivery_timestamp</th>\n      <th>...</th>\n      <th>creation_date</th>\n      <th>creation_time</th>\n      <th>creation_hour</th>\n      <th>pickup_latitude_rad</th>\n      <th>pickup_longitude_rad</th>\n      <th>delivery_latitude_rad</th>\n      <th>delivery_longitude_rad</th>\n      <th>pd_distance_haversine_m</th>\n      <th>pd_distance_haversine_m_sk</th>\n      <th>pd_distance_manhattan_m</th>\n    </tr>\n  </thead>\n  <tbody>\n    <tr>\n      <th>0</th>\n      <td>ES</td>\n      <td>BCN</td>\n      <td>100907487116</td>\n      <td>8590944</td>\n      <td>2024-10-03 20:55:02+00:00</td>\n      <td>2024-10-03 20:55:04+00:00</td>\n      <td>BICYCLE</td>\n      <td>2024-10-03 21:21:44.215000+00:00</td>\n      <td>2024-10-03 21:29:37+00:00</td>\n      <td>2024-10-03 21:32:33+00:00</td>\n      <td>...</td>\n      <td>2024-10-03</td>\n      <td>20:55:02</td>\n      <td>20</td>\n      <td>0.722053</td>\n      <td>0.036886</td>\n      <td>0.722137</td>\n      <td>0.036736</td>\n      <td>895.267385</td>\n      <td>895.267385</td>\n      <td>1254.424177</td>\n    </tr>\n    <tr>\n      <th>1</th>\n      <td>ES</td>\n      <td>MAD</td>\n      <td>100907489425</td>\n      <td>162535288</td>\n      <td>2024-10-03 20:55:43+00:00</td>\n      <td>2024-10-03 20:55:44+00:00</td>\n      <td>BICYCLE</td>\n      <td>2024-10-03 21:07:40.941000+00:00</td>\n      <td>2024-10-03 21:16:09+00:00</td>\n      <td>2024-10-03 21:19:10+00:00</td>\n      <td>...</td>\n      <td>2024-10-03</td>\n      <td>20:55:43</td>\n      <td>20</td>\n      <td>0.704815</td>\n      <td>-0.063292</td>\n      <td>0.704825</td>\n      <td>-0.063547</td>\n      <td>1236.264251</td>\n      <td>1236.264251</td>\n      <td>1298.738405</td>\n    </tr>\n    <tr>\n      <th>2</th>\n      <td>ES</td>\n      <td>BCN</td>\n      <td>100907493124</td>\n      <td>146788593</td>\n      <td>2024-10-03 20:56:48+00:00</td>\n      <td>2024-10-03 20:56:49+00:00</td>\n      <td>BICYCLE</td>\n      <td>2024-10-03 21:07:40.560000+00:00</td>\n      <td>2024-10-03 21:12:00+00:00</td>\n      <td>2024-10-03 21:14:30+00:00</td>\n      <td>...</td>\n      <td>2024-10-03</td>\n      <td>20:56:48</td>\n      <td>20</td>\n      <td>0.722390</td>\n      <td>0.037695</td>\n      <td>0.722401</td>\n      <td>0.037502</td>\n      <td>924.017061</td>\n      <td>924.017061</td>\n      <td>994.168407</td>\n    </tr>\n    <tr>\n      <th>3</th>\n      <td>ES</td>\n      <td>MAD</td>\n      <td>100907498582</td>\n      <td>45695767</td>\n      <td>2024-10-03 20:58:25+00:00</td>\n      <td>2024-10-03 20:58:26+00:00</td>\n      <td>MOTORBIKE</td>\n      <td>2024-10-03 21:08:59.224000+00:00</td>\n      <td>2024-10-03 21:11:21+00:00</td>\n      <td>2024-10-03 21:14:21+00:00</td>\n      <td>...</td>\n      <td>2024-10-03</td>\n      <td>20:58:25</td>\n      <td>20</td>\n      <td>0.705283</td>\n      <td>-0.064062</td>\n      <td>0.705338</td>\n      <td>-0.064086</td>\n      <td>369.394256</td>\n      <td>369.394256</td>\n      <td>465.858447</td>\n    </tr>\n    <tr>\n      <th>4</th>\n      <td>ES</td>\n      <td>MAD</td>\n      <td>100907503468</td>\n      <td>166385377</td>\n      <td>2024-10-03 20:59:51+00:00</td>\n      <td>2024-10-03 20:59:53+00:00</td>\n      <td>MOTORBIKE</td>\n      <td>2024-10-03 21:09:49.060000+00:00</td>\n      <td>2024-10-03 21:16:45+00:00</td>\n      <td>2024-10-03 21:20:30+00:00</td>\n      <td>...</td>\n      <td>2024-10-03</td>\n      <td>20:59:51</td>\n      <td>20</td>\n      <td>0.705703</td>\n      <td>-0.064291</td>\n      <td>0.705640</td>\n      <td>-0.064115</td>\n      <td>945.506113</td>\n      <td>945.506113</td>\n      <td>1258.537546</td>\n    </tr>\n  </tbody>\n</table>\n<p>5 rows × 26 columns</p>\n</div>"
     },
     "execution_count": 14,
     "metadata": {},
     "output_type": "execute_result"
    }
   ],
   "source": [
    "data['pd_distance_haversine_m'] = data.apply(\n",
    "    lambda x: haversine(\n",
    "        (x['pickup_latitude'], x['pickup_longitude']),\n",
    "        (x['delivery_latitude'], x['delivery_longitude']),\n",
    "        unit=Unit.METERS\n",
    "    ), axis=1\n",
    ")\n",
    "data['pd_distance_haversine_m_sk'] = data.apply(\n",
    "    lambda x: haversine_distances(\n",
    "        np.array([[x['pickup_latitude_rad'], x['pickup_longitude_rad']]]),\n",
    "        np.array([[x['delivery_latitude_rad'], x['delivery_longitude_rad']]])\n",
    "    )[0][0] * earth_radius_m, axis=1\n",
    ")\n",
    "data['pd_distance_manhattan_m'] = data.apply(manhattan_distance_in_meters, axis=1)\n",
    "data.head()"
   ],
   "metadata": {
    "collapsed": false,
    "ExecuteTime": {
     "end_time": "2024-11-04T19:58:49.776036Z",
     "start_time": "2024-11-04T19:54:44.482901Z"
    }
   },
   "id": "c93468fe8bc656f1",
   "execution_count": 14
  },
  {
   "cell_type": "markdown",
   "source": [
    "## Save the dataset"
   ],
   "metadata": {
    "collapsed": false
   },
   "id": "5da7791843042776"
  },
  {
   "cell_type": "raw",
   "source": [
    "data.to_pickle(\"data/dataframe.pkl\")"
   ],
   "metadata": {
    "collapsed": false
   },
   "id": "400dcfe4569bd3da"
  },
  {
   "cell_type": "markdown",
   "source": [
    "It's better to use the parquet format, as it is more efficient and faster to read and write. Besides, it is a columnar format, which is more suitable for analytical queries. We can also partition the data by creation date and city, which will help to speed up the queries and allows to analyze different timeframes and different cities if needed."
   ],
   "metadata": {
    "collapsed": false
   },
   "id": "2da57697f71fdf68"
  },
  {
   "cell_type": "code",
   "outputs": [],
   "source": [
    "data.to_parquet(\"data/dataframe.parquet\", partition_cols=['creation_date', 'city_code'])"
   ],
   "metadata": {
    "collapsed": false,
    "ExecuteTime": {
     "end_time": "2024-11-04T19:58:51.673509Z",
     "start_time": "2024-11-04T19:58:49.776296Z"
    }
   },
   "id": "4a357e3ed80c39b1",
   "execution_count": 15
  },
  {
   "cell_type": "markdown",
   "source": [
    "## Exploratory Data Analysis (EDA)"
   ],
   "metadata": {
    "collapsed": false
   },
   "id": "9f700ca8f9a310ca"
  },
  {
   "cell_type": "raw",
   "source": [
    "data = pd.read_pickle(\"data/dataframe.pkl\")"
   ],
   "metadata": {
    "collapsed": false
   },
   "id": "f459d6342f561915"
  },
  {
   "cell_type": "code",
   "outputs": [],
   "source": [
    "data = pd.read_parquet(\"data/dataframe.parquet\")"
   ],
   "metadata": {
    "collapsed": false,
    "ExecuteTime": {
     "end_time": "2024-11-04T19:59:03.719408Z",
     "start_time": "2024-11-04T19:58:51.366074Z"
    }
   },
   "id": "5ecce593d1c02912",
   "execution_count": 16
  },
  {
   "cell_type": "code",
   "outputs": [
    {
     "data": {
      "text/plain": "<Figure size 1500x800 with 1 Axes>",
      "image/png": "[encoded data removed]"
     },
     "metadata": {},
     "output_type": "display_data"
    }
   ],
   "source": [
    "# Histogram of the # of data per day / hour\n",
    "plt.figure(figsize=(15, 8))\n",
    "plt.hist(data['creation_timestamp'], bins = 1000)\n",
    "plt.title('Histogram of the # of data per day / hour')\n",
    "plt.xlabel('Day / Hour')\n",
    "plt.ylabel('Frequency')\n",
    "plt.show()"
   ],
   "metadata": {
    "collapsed": false,
    "ExecuteTime": {
     "end_time": "2024-11-04T19:59:23.366701Z",
     "start_time": "2024-11-04T19:58:53.414790Z"
    }
   },
   "id": "71786bb2d8f08ad7",
   "execution_count": 17
  },
  {
   "cell_type": "code",
   "outputs": [
    {
     "data": {
      "text/plain": "<Figure size 1500x800 with 1 Axes>",
      "image/png": "[encoded data removed]"
     },
     "metadata": {},
     "output_type": "display_data"
    }
   ],
   "source": [
    "plt.figure(figsize=(15, 8))\n",
    "plt.hist(data['creation_date'], bins = 14)\n",
    "plt.title('Histogram of the # of data per day')\n",
    "plt.xlabel('Day')\n",
    "plt.ylabel('Frequency')\n",
    "plt.show()"
   ],
   "metadata": {
    "collapsed": false,
    "ExecuteTime": {
     "end_time": "2024-11-04T19:59:23.568743Z",
     "start_time": "2024-11-04T19:59:22.623684Z"
    }
   },
   "id": "9b49b7bdfaf6dc14",
   "execution_count": 18
  },
  {
   "cell_type": "code",
   "outputs": [
    {
     "data": {
      "text/plain": "<Figure size 1500x800 with 1 Axes>",
      "image/png": "[encoded data removed]"
     },
     "metadata": {},
     "output_type": "display_data"
    }
   ],
   "source": [
    "plt.figure(figsize=(15, 8))\n",
    "plt.hist(data['creation_hour'])\n",
    "plt.title('Histogram of the # of data per hour')\n",
    "plt.xlabel('Hour')\n",
    "plt.ylabel('Frequency')\n",
    "plt.show()"
   ],
   "metadata": {
    "collapsed": false,
    "ExecuteTime": {
     "end_time": "2024-11-04T19:59:23.671961Z",
     "start_time": "2024-11-04T19:59:23.465877Z"
    }
   },
   "id": "76b3fb2c7e172f38",
   "execution_count": 19
  },
  {
   "cell_type": "code",
   "outputs": [
    {
     "data": {
      "text/plain": "transport\nBICYCLE      1383885\nMOTORBIKE    1179303\nCAR           352776\nWALKER          1449\nName: count, dtype: int64"
     },
     "execution_count": 20,
     "metadata": {},
     "output_type": "execute_result"
    }
   ],
   "source": [
    "# Check the distribution of the transport types\n",
    "data['transport'].value_counts()"
   ],
   "metadata": {
    "collapsed": false,
    "ExecuteTime": {
     "end_time": "2024-11-04T19:59:23.868546Z",
     "start_time": "2024-11-04T19:59:23.815065Z"
    }
   },
   "id": "e5d0cbff51d0870",
   "execution_count": 20
  },
  {
   "cell_type": "code",
   "outputs": [
    {
     "data": {
      "text/plain": "<Figure size 1500x800 with 1 Axes>",
      "image/png": "[encoded data removed]"
     },
     "metadata": {},
     "output_type": "display_data"
    }
   ],
   "source": [
    "# Check the distribution of the distances\n",
    "plt.figure(figsize=(15, 8))\n",
    "plt.hist(data['pd_distance_haversine_m'], bins = 1000)\n",
    "plt.xlim(0, 10000)\n",
    "plt.title('Histogram of the distances')\n",
    "plt.xlabel('Distance (m)')\n",
    "plt.ylabel('Frequency')\n",
    "plt.show()"
   ],
   "metadata": {
    "collapsed": false,
    "ExecuteTime": {
     "end_time": "2024-11-04T19:59:24.765788Z",
     "start_time": "2024-11-04T19:59:23.816165Z"
    }
   },
   "id": "47fa4556b397ea7b",
   "execution_count": 21
  },
  {
   "cell_type": "markdown",
   "source": [
    "## Hyperparameters"
   ],
   "metadata": {
    "collapsed": false
   },
   "id": "b4f24b33b07b58e9"
  },
  {
   "cell_type": "code",
   "outputs": [],
   "source": [
    "test_set_perc = 0.1\n",
    "days_for_test = 7\n",
    "k_cv = 5"
   ],
   "metadata": {
    "collapsed": false,
    "ExecuteTime": {
     "end_time": "2024-11-04T19:59:24.768876Z",
     "start_time": "2024-11-04T19:59:24.765519Z"
    }
   },
   "id": "843f73749bdce7ee",
   "execution_count": 22
  },
  {
   "cell_type": "markdown",
   "source": [
    "## Database split"
   ],
   "metadata": {
    "collapsed": false
   },
   "id": "3aed5934e3c1f8f"
  },
  {
   "cell_type": "code",
   "outputs": [
    {
     "data": {
      "text/plain": "4806    0 days 00:07:39.308000\n4811    0 days 00:03:08.860000\n4850    0 days 00:04:44.029000\n4906    0 days 00:10:23.377000\n4912    0 days 00:08:29.043000\n                 ...          \n68825   0 days 00:02:30.065000\n69405   0 days 00:09:18.499000\n69964   0 days 00:12:22.575000\n70230   0 days 00:13:06.619000\n70533   0 days 00:03:14.149000\nName: pickup_to_delivery, Length: 2917413, dtype: timedelta64[ns]"
     },
     "execution_count": 23,
     "metadata": {},
     "output_type": "execute_result"
    }
   ],
   "source": [
    "X = data\n",
    "y = data['delivery_entering_timestamp'] - data['pickup_timestamp']\n",
    "y = pd.Series(y, name='pickup_to_delivery')\n",
    "y"
   ],
   "metadata": {
    "collapsed": false,
    "ExecuteTime": {
     "end_time": "2024-11-04T19:59:24.823201Z",
     "start_time": "2024-11-04T19:59:24.765666Z"
    }
   },
   "id": "2574aa199337f236",
   "execution_count": 23
  },
  {
   "cell_type": "markdown",
   "source": [
    "As we are dealing with a time-series dataset (orders are placed at different times), we will split the data based on the creation timestamp, leaving out the last 10% of the data for testing. This will help to understand the performance of the model on unseen data, as in reality we will have to test the model on data created on day+1 with respect to our training data."
   ],
   "metadata": {
    "collapsed": false
   },
   "id": "fc1bd6034ee61016"
  },
  {
   "cell_type": "code",
   "outputs": [],
   "source": [
    "X.sort_values('creation_timestamp', inplace=True)\n",
    "X_train, X_test, y_train, y_test = train_test_split(X, y, test_size=test_set_perc, random_state=0)"
   ],
   "metadata": {
    "collapsed": false,
    "ExecuteTime": {
     "end_time": "2024-11-04T19:59:28.465430Z",
     "start_time": "2024-11-04T19:59:24.815356Z"
    }
   },
   "id": "62cf1844840c2240",
   "execution_count": 24
  },
  {
   "cell_type": "code",
   "outputs": [
    {
     "data": {
      "text/plain": "      country_code      order_id  courier_id        creation_timestamp  \\\n79074           ES  100931929959   133416554 2024-10-14 14:08:08+00:00   \n91360           ES  100914402117   168789920 2024-10-06 18:13:26+00:00   \n74547           ES  100904230837    40858206 2024-10-02 13:34:30+00:00   \n97183           ES  100923309023   173834951 2024-10-10 21:25:33+00:00   \n52532           ES  100915253989   176935150 2024-10-06 21:39:28+00:00   \n...            ...           ...         ...                       ...   \n46181           ES  100934732241   108223137 2024-10-15 20:14:53+00:00   \n19215           ES  100914354908   107836771 2024-10-06 18:00:56+00:00   \n63117           ES  100934035754   170516955 2024-10-15 15:28:59+00:00   \n6162            ES  100922670589    52130315 2024-10-10 17:58:52+00:00   \n2970            ES  100904362975   172035862 2024-10-02 14:22:49+00:00   \n\n           activation_timestamp  transport                 pickup_timestamp  \\\n79074 2024-10-14 14:08:09+00:00    BICYCLE 2024-10-14 14:15:44.144000+00:00   \n91360 2024-10-06 18:13:28+00:00    BICYCLE 2024-10-06 18:35:34.616000+00:00   \n74547 2024-10-02 13:34:32+00:00  MOTORBIKE 2024-10-02 13:37:43.578000+00:00   \n97183 2024-10-10 21:25:35+00:00  MOTORBIKE 2024-10-10 21:37:24.879000+00:00   \n52532 2024-10-06 21:39:30+00:00    BICYCLE 2024-10-06 21:44:54.619000+00:00   \n...                         ...        ...                              ...   \n46181 2024-10-15 20:14:54+00:00    BICYCLE 2024-10-15 20:21:16.392000+00:00   \n19215 2024-10-06 18:00:59+00:00    BICYCLE 2024-10-06 18:13:40.996000+00:00   \n63117 2024-10-15 15:29:00+00:00    BICYCLE 2024-10-15 15:41:51.671000+00:00   \n6162  2024-10-10 20:20:45+00:00  MOTORBIKE 2024-10-10 20:29:04.298000+00:00   \n2970  2024-10-02 14:22:50+00:00  MOTORBIKE 2024-10-02 14:29:03.455000+00:00   \n\n      delivery_entering_timestamp        delivery_timestamp  pickup_latitude  \\\n79074   2024-10-14 14:31:29+00:00 2024-10-14 14:34:37+00:00        40.457504   \n91360   2024-10-06 18:55:50+00:00 2024-10-06 18:56:50+00:00        41.363490   \n74547   2024-10-02 13:40:38+00:00 2024-10-02 13:43:56+00:00        40.421330   \n97183   2024-10-10 21:42:39+00:00 2024-10-10 21:45:18+00:00        40.434360   \n52532   2024-10-06 21:50:13+00:00 2024-10-06 21:52:33+00:00        40.409542   \n...                           ...                       ...              ...   \n46181   2024-10-15 20:24:32+00:00 2024-10-15 20:27:06+00:00        41.405510   \n19215   2024-10-06 18:15:43+00:00 2024-10-06 18:17:21+00:00        41.378900   \n63117   2024-10-15 15:45:17+00:00 2024-10-15 15:47:21+00:00        41.381226   \n6162    2024-10-10 20:42:00+00:00 2024-10-10 20:43:33+00:00        41.440150   \n2970    2024-10-02 14:33:34+00:00 2024-10-02 14:35:05+00:00        41.429110   \n\n       ...  creation_hour  pickup_latitude_rad  pickup_longitude_rad  \\\n79074  ...             14             0.706117             -0.064179   \n91360  ...             18             0.721929              0.036722   \n74547  ...             13             0.705485             -0.064614   \n97183  ...             21                  NaN                   NaN   \n52532  ...             21             0.705280             -0.064452   \n...    ...            ...                  ...                   ...   \n46181  ...             20                  NaN                   NaN   \n19215  ...             18             0.722198              0.037650   \n63117  ...             15             0.722239              0.037647   \n6162   ...             17                  NaN                   NaN   \n2970   ...             14             0.723074              0.038599   \n\n      delivery_latitude_rad delivery_longitude_rad pd_distance_haversine_m  \\\n79074              0.706307              -0.064721             2894.966021   \n91360              0.722228               0.037356             3579.331367   \n74547              0.705455              -0.064582              244.888351   \n97183                   NaN                    NaN              795.552655   \n52532              0.705362              -0.064408              565.834116   \n...                     ...                    ...                     ...   \n46181                   NaN                    NaN              803.835992   \n19215              0.722229               0.037711              351.118225   \n63117              0.722218               0.037506              688.169593   \n6162                    NaN                    NaN             1532.169323   \n2970               0.722901               0.038440             1339.124526   \n\n       pd_distance_haversine_m_sk  pd_distance_manhattan_m  creation_date  \\\n79074                 2894.966021              3847.352546     2024-10-14   \n91360                 3579.331367              4940.075833     2024-10-06   \n74547                  244.888351               344.854000     2024-10-02   \n97183                48713.894848              1104.747372     2024-10-10   \n52532                  565.834116               737.445439     2024-10-06   \n...                           ...                      ...            ...   \n46181                49309.143691              1137.276943     2024-10-15   \n19215                  351.118225               487.771216     2024-10-06   \n63117                  688.169593               809.987423     2024-10-15   \n6162                 93540.485357              2142.109333     2024-10-10   \n2970                  1339.124526              1864.940475     2024-10-02   \n\n       city_code  \n79074        MAD  \n91360        BCN  \n74547        MAD  \n97183        MAD  \n52532        MAD  \n...          ...  \n46181        BCN  \n19215        BCN  \n63117        BCN  \n6162         BCN  \n2970         BCN  \n\n[2625671 rows x 26 columns]",
      "text/html": "<div>\n<style scoped>\n    .dataframe tbody tr th:only-of-type {\n        vertical-align: middle;\n    }\n\n    .dataframe tbody tr th {\n        vertical-align: top;\n    }\n\n    .dataframe thead th {\n        text-align: right;\n    }\n</style>\n<table border=\"1\" class=\"dataframe\">\n  <thead>\n    <tr style=\"text-align: right;\">\n      <th></th>\n      <th>country_code</th>\n      <th>order_id</th>\n      <th>courier_id</th>\n      <th>creation_timestamp</th>\n      <th>activation_timestamp</th>\n      <th>transport</th>\n      <th>pickup_timestamp</th>\n      <th>delivery_entering_timestamp</th>\n      <th>delivery_timestamp</th>\n      <th>pickup_latitude</th>\n      <th>...</th>\n      <th>creation_hour</th>\n      <th>pickup_latitude_rad</th>\n      <th>pickup_longitude_rad</th>\n      <th>delivery_latitude_rad</th>\n      <th>delivery_longitude_rad</th>\n      <th>pd_distance_haversine_m</th>\n      <th>pd_distance_haversine_m_sk</th>\n      <th>pd_distance_manhattan_m</th>\n      <th>creation_date</th>\n      <th>city_code</th>\n    </tr>\n  </thead>\n  <tbody>\n    <tr>\n      <th>79074</th>\n      <td>ES</td>\n      <td>100931929959</td>\n      <td>133416554</td>\n      <td>2024-10-14 14:08:08+00:00</td>\n      <td>2024-10-14 14:08:09+00:00</td>\n      <td>BICYCLE</td>\n      <td>2024-10-14 14:15:44.144000+00:00</td>\n      <td>2024-10-14 14:31:29+00:00</td>\n      <td>2024-10-14 14:34:37+00:00</td>\n      <td>40.457504</td>\n      <td>...</td>\n      <td>14</td>\n      <td>0.706117</td>\n      <td>-0.064179</td>\n      <td>0.706307</td>\n      <td>-0.064721</td>\n      <td>2894.966021</td>\n      <td>2894.966021</td>\n      <td>3847.352546</td>\n      <td>2024-10-14</td>\n      <td>MAD</td>\n    </tr>\n    <tr>\n      <th>91360</th>\n      <td>ES</td>\n      <td>100914402117</td>\n      <td>168789920</td>\n      <td>2024-10-06 18:13:26+00:00</td>\n      <td>2024-10-06 18:13:28+00:00</td>\n      <td>BICYCLE</td>\n      <td>2024-10-06 18:35:34.616000+00:00</td>\n      <td>2024-10-06 18:55:50+00:00</td>\n      <td>2024-10-06 18:56:50+00:00</td>\n      <td>41.363490</td>\n      <td>...</td>\n      <td>18</td>\n      <td>0.721929</td>\n      <td>0.036722</td>\n      <td>0.722228</td>\n      <td>0.037356</td>\n      <td>3579.331367</td>\n      <td>3579.331367</td>\n      <td>4940.075833</td>\n      <td>2024-10-06</td>\n      <td>BCN</td>\n    </tr>\n    <tr>\n      <th>74547</th>\n      <td>ES</td>\n      <td>100904230837</td>\n      <td>40858206</td>\n      <td>2024-10-02 13:34:30+00:00</td>\n      <td>2024-10-02 13:34:32+00:00</td>\n      <td>MOTORBIKE</td>\n      <td>2024-10-02 13:37:43.578000+00:00</td>\n      <td>2024-10-02 13:40:38+00:00</td>\n      <td>2024-10-02 13:43:56+00:00</td>\n      <td>40.421330</td>\n      <td>...</td>\n      <td>13</td>\n      <td>0.705485</td>\n      <td>-0.064614</td>\n      <td>0.705455</td>\n      <td>-0.064582</td>\n      <td>244.888351</td>\n      <td>244.888351</td>\n      <td>344.854000</td>\n      <td>2024-10-02</td>\n      <td>MAD</td>\n    </tr>\n    <tr>\n      <th>97183</th>\n      <td>ES</td>\n      <td>100923309023</td>\n      <td>173834951</td>\n      <td>2024-10-10 21:25:33+00:00</td>\n      <td>2024-10-10 21:25:35+00:00</td>\n      <td>MOTORBIKE</td>\n      <td>2024-10-10 21:37:24.879000+00:00</td>\n      <td>2024-10-10 21:42:39+00:00</td>\n      <td>2024-10-10 21:45:18+00:00</td>\n      <td>40.434360</td>\n      <td>...</td>\n      <td>21</td>\n      <td>NaN</td>\n      <td>NaN</td>\n      <td>NaN</td>\n      <td>NaN</td>\n      <td>795.552655</td>\n      <td>48713.894848</td>\n      <td>1104.747372</td>\n      <td>2024-10-10</td>\n      <td>MAD</td>\n    </tr>\n    <tr>\n      <th>52532</th>\n      <td>ES</td>\n      <td>100915253989</td>\n      <td>176935150</td>\n      <td>2024-10-06 21:39:28+00:00</td>\n      <td>2024-10-06 21:39:30+00:00</td>\n      <td>BICYCLE</td>\n      <td>2024-10-06 21:44:54.619000+00:00</td>\n      <td>2024-10-06 21:50:13+00:00</td>\n      <td>2024-10-06 21:52:33+00:00</td>\n      <td>40.409542</td>\n      <td>...</td>\n      <td>21</td>\n      <td>0.705280</td>\n      <td>-0.064452</td>\n      <td>0.705362</td>\n      <td>-0.064408</td>\n      <td>565.834116</td>\n      <td>565.834116</td>\n      <td>737.445439</td>\n      <td>2024-10-06</td>\n      <td>MAD</td>\n    </tr>\n    <tr>\n      <th>...</th>\n      <td>...</td>\n      <td>...</td>\n      <td>...</td>\n      <td>...</td>\n      <td>...</td>\n      <td>...</td>\n      <td>...</td>\n      <td>...</td>\n      <td>...</td>\n      <td>...</td>\n      <td>...</td>\n      <td>...</td>\n      <td>...</td>\n      <td>...</td>\n      <td>...</td>\n      <td>...</td>\n      <td>...</td>\n      <td>...</td>\n      <td>...</td>\n      <td>...</td>\n      <td>...</td>\n    </tr>\n    <tr>\n      <th>46181</th>\n      <td>ES</td>\n      <td>100934732241</td>\n      <td>108223137</td>\n      <td>2024-10-15 20:14:53+00:00</td>\n      <td>2024-10-15 20:14:54+00:00</td>\n      <td>BICYCLE</td>\n      <td>2024-10-15 20:21:16.392000+00:00</td>\n      <td>2024-10-15 20:24:32+00:00</td>\n      <td>2024-10-15 20:27:06+00:00</td>\n      <td>41.405510</td>\n      <td>...</td>\n      <td>20</td>\n      <td>NaN</td>\n      <td>NaN</td>\n      <td>NaN</td>\n      <td>NaN</td>\n      <td>803.835992</td>\n      <td>49309.143691</td>\n      <td>1137.276943</td>\n      <td>2024-10-15</td>\n      <td>BCN</td>\n    </tr>\n    <tr>\n      <th>19215</th>\n      <td>ES</td>\n      <td>100914354908</td>\n      <td>107836771</td>\n      <td>2024-10-06 18:00:56+00:00</td>\n      <td>2024-10-06 18:00:59+00:00</td>\n      <td>BICYCLE</td>\n      <td>2024-10-06 18:13:40.996000+00:00</td>\n      <td>2024-10-06 18:15:43+00:00</td>\n      <td>2024-10-06 18:17:21+00:00</td>\n      <td>41.378900</td>\n      <td>...</td>\n      <td>18</td>\n      <td>0.722198</td>\n      <td>0.037650</td>\n      <td>0.722229</td>\n      <td>0.037711</td>\n      <td>351.118225</td>\n      <td>351.118225</td>\n      <td>487.771216</td>\n      <td>2024-10-06</td>\n      <td>BCN</td>\n    </tr>\n    <tr>\n      <th>63117</th>\n      <td>ES</td>\n      <td>100934035754</td>\n      <td>170516955</td>\n      <td>2024-10-15 15:28:59+00:00</td>\n      <td>2024-10-15 15:29:00+00:00</td>\n      <td>BICYCLE</td>\n      <td>2024-10-15 15:41:51.671000+00:00</td>\n      <td>2024-10-15 15:45:17+00:00</td>\n      <td>2024-10-15 15:47:21+00:00</td>\n      <td>41.381226</td>\n      <td>...</td>\n      <td>15</td>\n      <td>0.722239</td>\n      <td>0.037647</td>\n      <td>0.722218</td>\n      <td>0.037506</td>\n      <td>688.169593</td>\n      <td>688.169593</td>\n      <td>809.987423</td>\n      <td>2024-10-15</td>\n      <td>BCN</td>\n    </tr>\n    <tr>\n      <th>6162</th>\n      <td>ES</td>\n      <td>100922670589</td>\n      <td>52130315</td>\n      <td>2024-10-10 17:58:52+00:00</td>\n      <td>2024-10-10 20:20:45+00:00</td>\n      <td>MOTORBIKE</td>\n      <td>2024-10-10 20:29:04.298000+00:00</td>\n      <td>2024-10-10 20:42:00+00:00</td>\n      <td>2024-10-10 20:43:33+00:00</td>\n      <td>41.440150</td>\n      <td>...</td>\n      <td>17</td>\n      <td>NaN</td>\n      <td>NaN</td>\n      <td>NaN</td>\n      <td>NaN</td>\n      <td>1532.169323</td>\n      <td>93540.485357</td>\n      <td>2142.109333</td>\n      <td>2024-10-10</td>\n      <td>BCN</td>\n    </tr>\n    <tr>\n      <th>2970</th>\n      <td>ES</td>\n      <td>100904362975</td>\n      <td>172035862</td>\n      <td>2024-10-02 14:22:49+00:00</td>\n      <td>2024-10-02 14:22:50+00:00</td>\n      <td>MOTORBIKE</td>\n      <td>2024-10-02 14:29:03.455000+00:00</td>\n      <td>2024-10-02 14:33:34+00:00</td>\n      <td>2024-10-02 14:35:05+00:00</td>\n      <td>41.429110</td>\n      <td>...</td>\n      <td>14</td>\n      <td>0.723074</td>\n      <td>0.038599</td>\n      <td>0.722901</td>\n      <td>0.038440</td>\n      <td>1339.124526</td>\n      <td>1339.124526</td>\n      <td>1864.940475</td>\n      <td>2024-10-02</td>\n      <td>BCN</td>\n    </tr>\n  </tbody>\n</table>\n<p>2625671 rows × 26 columns</p>\n</div>"
     },
     "execution_count": 25,
     "metadata": {},
     "output_type": "execute_result"
    }
   ],
   "source": [
    "X_train"
   ],
   "metadata": {
    "collapsed": false,
    "ExecuteTime": {
     "end_time": "2024-11-04T19:59:29.316969Z",
     "start_time": "2024-11-04T19:59:28.465289Z"
    }
   },
   "id": "fc0cc9098900ec66",
   "execution_count": 25
  },
  {
   "cell_type": "code",
   "outputs": [
    {
     "data": {
      "text/plain": "67850   0 days 00:05:26.955000\n69149   0 days 00:06:19.477000\n65086   0 days 00:08:20.483000\n24059   0 days 00:13:04.026000\n40988   0 days 00:05:21.046000\n                 ...          \n45194   0 days 00:08:37.794000\n65297   0 days 00:09:36.581000\n28221   0 days 00:05:05.848000\n21417   0 days 00:06:13.152000\n77016   0 days 00:08:34.575000\nName: pickup_to_delivery, Length: 2625671, dtype: timedelta64[ns]"
     },
     "execution_count": 26,
     "metadata": {},
     "output_type": "execute_result"
    }
   ],
   "source": [
    "y_train"
   ],
   "metadata": {
    "collapsed": false,
    "ExecuteTime": {
     "end_time": "2024-11-04T19:59:29.324006Z",
     "start_time": "2024-11-04T19:59:29.315581Z"
    }
   },
   "id": "578fea794feb9a3d",
   "execution_count": 26
  },
  {
   "cell_type": "code",
   "outputs": [
    {
     "name": "stdout",
     "output_type": "stream",
     "text": [
      "(2625671, 26) (2625671,)\n",
      "(291742, 26) (291742,)\n"
     ]
    }
   ],
   "source": [
    "print(X_train.shape, y_train.shape)\n",
    "print(X_test.shape, y_test.shape)"
   ],
   "metadata": {
    "collapsed": false,
    "ExecuteTime": {
     "end_time": "2024-11-04T19:59:29.326244Z",
     "start_time": "2024-11-04T19:59:29.315820Z"
    }
   },
   "id": "2e1aab43ff9f5211",
   "execution_count": 27
  },
  {
   "cell_type": "code",
   "outputs": [],
   "source": [
    "# In case we want to test different hyperparameters, we will use cross-validation\n",
    "#scores = cross_val_score(<estimator>, X, y, cv=k_cv)"
   ],
   "metadata": {
    "collapsed": false,
    "ExecuteTime": {
     "end_time": "2024-11-04T19:59:29.718906Z",
     "start_time": "2024-11-04T19:59:29.316089Z"
    }
   },
   "id": "fdc44e42fd992ca8",
   "execution_count": 28
  },
  {
   "cell_type": "markdown",
   "source": [
    "### Database split using directly the creation date\n",
    "\n",
    "As we have partitioned the data by city and creation date, we can use this information to split the data. This will help to avoid data leakage, as we will not have data from the future in the training set.\n",
    "This is much better than just sorting the data by the creation timestamp and taking 10% of the dataset as test set, as we did before."
   ],
   "metadata": {
    "collapsed": false
   },
   "id": "7282f116c476aa5c"
  },
  {
   "cell_type": "code",
   "outputs": [
    {
     "name": "stdout",
     "output_type": "stream",
     "text": [
      "Start date: 2024-09-30 | Begin test date: 2024-10-14 | End date: 2024-10-20\n"
     ]
    }
   ],
   "source": [
    "# We take the last week of the dataset to test the model\n",
    "begin_test_date = pd.to_datetime(end_date) - pd.Timedelta(days=days_for_test-1)\n",
    "begin_test_date = begin_test_date.strftime(\"%Y-%m-%d\")\n",
    "print(f'Start date: {start_date} | Begin test date: {begin_test_date} | End date: {end_date}')"
   ],
   "metadata": {
    "collapsed": false,
    "ExecuteTime": {
     "end_time": "2024-11-04T19:59:29.976081Z",
     "start_time": "2024-11-04T19:59:29.316595Z"
    }
   },
   "id": "75c872336bd56642",
   "execution_count": 29
  },
  {
   "cell_type": "code",
   "outputs": [
    {
     "data": {
      "text/plain": "     country_code      order_id  courier_id        creation_timestamp  \\\n4806           ES  100901465337   169809943 2024-09-30 21:45:07+00:00   \n4811           ES  100901489101     9516729 2024-09-30 21:55:46+00:00   \n4850           ES  100899913152   172855743 2024-09-30 10:30:55+00:00   \n4906           ES  100900447439   170201413 2024-09-30 14:46:15+00:00   \n4912           ES  100900529830   176424631 2024-09-30 15:22:32+00:00   \n\n          activation_timestamp  transport                 pickup_timestamp  \\\n4806 2024-09-30 21:45:08+00:00  MOTORBIKE 2024-09-30 22:00:36.692000+00:00   \n4811 2024-09-30 21:55:47+00:00        CAR 2024-09-30 22:01:33.140000+00:00   \n4850 2024-09-30 10:30:57+00:00  MOTORBIKE 2024-09-30 10:41:24.971000+00:00   \n4906 2024-09-30 14:46:16+00:00        CAR 2024-09-30 14:56:29.623000+00:00   \n4912 2024-09-30 15:22:33+00:00  MOTORBIKE 2024-09-30 15:44:46.957000+00:00   \n\n     delivery_entering_timestamp        delivery_timestamp  pickup_latitude  \\\n4806   2024-09-30 22:08:16+00:00 2024-09-30 22:10:01+00:00        38.363853   \n4811   2024-09-30 22:04:42+00:00 2024-09-30 22:09:18+00:00        38.367390   \n4850   2024-09-30 10:46:09+00:00 2024-09-30 10:49:56+00:00        38.345226   \n4906   2024-09-30 15:06:53+00:00 2024-09-30 15:11:36+00:00        38.365310   \n4912   2024-09-30 15:53:16+00:00 2024-09-30 15:56:07+00:00        38.345670   \n\n      ...  creation_hour  pickup_latitude_rad  pickup_longitude_rad  \\\n4806  ...             21             0.669576             -0.008555   \n4811  ...             21             0.669637             -0.007405   \n4850  ...             10             0.669250             -0.008591   \n4906  ...             14             0.669601             -0.008192   \n4912  ...             15             0.669258             -0.008450   \n\n     delivery_latitude_rad delivery_longitude_rad pd_distance_haversine_m  \\\n4806              0.669944              -0.008598             2355.545318   \n4811              0.669590              -0.007284              673.661802   \n4850              0.669252              -0.008468              614.688869   \n4906              0.669539              -0.007604             2962.480499   \n4912              0.669258              -0.008792             1708.759794   \n\n      pd_distance_haversine_m_sk  pd_distance_manhattan_m  creation_date  \\\n4806                 2355.545318              2561.897200     2024-09-30   \n4811                  673.661802               903.518684     2024-09-30   \n4850                  614.688869               622.462666     2024-09-30   \n4906                 2962.480499              3332.041363     2024-09-30   \n4912                 1708.759794              1711.235976     2024-09-30   \n\n      city_code  \n4806        ALC  \n4811        ALC  \n4850        ALC  \n4906        ALC  \n4912        ALC  \n\n[5 rows x 26 columns]",
      "text/html": "<div>\n<style scoped>\n    .dataframe tbody tr th:only-of-type {\n        vertical-align: middle;\n    }\n\n    .dataframe tbody tr th {\n        vertical-align: top;\n    }\n\n    .dataframe thead th {\n        text-align: right;\n    }\n</style>\n<table border=\"1\" class=\"dataframe\">\n  <thead>\n    <tr style=\"text-align: right;\">\n      <th></th>\n      <th>country_code</th>\n      <th>order_id</th>\n      <th>courier_id</th>\n      <th>creation_timestamp</th>\n      <th>activation_timestamp</th>\n      <th>transport</th>\n      <th>pickup_timestamp</th>\n      <th>delivery_entering_timestamp</th>\n      <th>delivery_timestamp</th>\n      <th>pickup_latitude</th>\n      <th>...</th>\n      <th>creation_hour</th>\n      <th>pickup_latitude_rad</th>\n      <th>pickup_longitude_rad</th>\n      <th>delivery_latitude_rad</th>\n      <th>delivery_longitude_rad</th>\n      <th>pd_distance_haversine_m</th>\n      <th>pd_distance_haversine_m_sk</th>\n      <th>pd_distance_manhattan_m</th>\n      <th>creation_date</th>\n      <th>city_code</th>\n    </tr>\n  </thead>\n  <tbody>\n    <tr>\n      <th>4806</th>\n      <td>ES</td>\n      <td>100901465337</td>\n      <td>169809943</td>\n      <td>2024-09-30 21:45:07+00:00</td>\n      <td>2024-09-30 21:45:08+00:00</td>\n      <td>MOTORBIKE</td>\n      <td>2024-09-30 22:00:36.692000+00:00</td>\n      <td>2024-09-30 22:08:16+00:00</td>\n      <td>2024-09-30 22:10:01+00:00</td>\n      <td>38.363853</td>\n      <td>...</td>\n      <td>21</td>\n      <td>0.669576</td>\n      <td>-0.008555</td>\n      <td>0.669944</td>\n      <td>-0.008598</td>\n      <td>2355.545318</td>\n      <td>2355.545318</td>\n      <td>2561.897200</td>\n      <td>2024-09-30</td>\n      <td>ALC</td>\n    </tr>\n    <tr>\n      <th>4811</th>\n      <td>ES</td>\n      <td>100901489101</td>\n      <td>9516729</td>\n      <td>2024-09-30 21:55:46+00:00</td>\n      <td>2024-09-30 21:55:47+00:00</td>\n      <td>CAR</td>\n      <td>2024-09-30 22:01:33.140000+00:00</td>\n      <td>2024-09-30 22:04:42+00:00</td>\n      <td>2024-09-30 22:09:18+00:00</td>\n      <td>38.367390</td>\n      <td>...</td>\n      <td>21</td>\n      <td>0.669637</td>\n      <td>-0.007405</td>\n      <td>0.669590</td>\n      <td>-0.007284</td>\n      <td>673.661802</td>\n      <td>673.661802</td>\n      <td>903.518684</td>\n      <td>2024-09-30</td>\n      <td>ALC</td>\n    </tr>\n    <tr>\n      <th>4850</th>\n      <td>ES</td>\n      <td>100899913152</td>\n      <td>172855743</td>\n      <td>2024-09-30 10:30:55+00:00</td>\n      <td>2024-09-30 10:30:57+00:00</td>\n      <td>MOTORBIKE</td>\n      <td>2024-09-30 10:41:24.971000+00:00</td>\n      <td>2024-09-30 10:46:09+00:00</td>\n      <td>2024-09-30 10:49:56+00:00</td>\n      <td>38.345226</td>\n      <td>...</td>\n      <td>10</td>\n      <td>0.669250</td>\n      <td>-0.008591</td>\n      <td>0.669252</td>\n      <td>-0.008468</td>\n      <td>614.688869</td>\n      <td>614.688869</td>\n      <td>622.462666</td>\n      <td>2024-09-30</td>\n      <td>ALC</td>\n    </tr>\n    <tr>\n      <th>4906</th>\n      <td>ES</td>\n      <td>100900447439</td>\n      <td>170201413</td>\n      <td>2024-09-30 14:46:15+00:00</td>\n      <td>2024-09-30 14:46:16+00:00</td>\n      <td>CAR</td>\n      <td>2024-09-30 14:56:29.623000+00:00</td>\n      <td>2024-09-30 15:06:53+00:00</td>\n      <td>2024-09-30 15:11:36+00:00</td>\n      <td>38.365310</td>\n      <td>...</td>\n      <td>14</td>\n      <td>0.669601</td>\n      <td>-0.008192</td>\n      <td>0.669539</td>\n      <td>-0.007604</td>\n      <td>2962.480499</td>\n      <td>2962.480499</td>\n      <td>3332.041363</td>\n      <td>2024-09-30</td>\n      <td>ALC</td>\n    </tr>\n    <tr>\n      <th>4912</th>\n      <td>ES</td>\n      <td>100900529830</td>\n      <td>176424631</td>\n      <td>2024-09-30 15:22:32+00:00</td>\n      <td>2024-09-30 15:22:33+00:00</td>\n      <td>MOTORBIKE</td>\n      <td>2024-09-30 15:44:46.957000+00:00</td>\n      <td>2024-09-30 15:53:16+00:00</td>\n      <td>2024-09-30 15:56:07+00:00</td>\n      <td>38.345670</td>\n      <td>...</td>\n      <td>15</td>\n      <td>0.669258</td>\n      <td>-0.008450</td>\n      <td>0.669258</td>\n      <td>-0.008792</td>\n      <td>1708.759794</td>\n      <td>1708.759794</td>\n      <td>1711.235976</td>\n      <td>2024-09-30</td>\n      <td>ALC</td>\n    </tr>\n  </tbody>\n</table>\n<p>5 rows × 26 columns</p>\n</div>"
     },
     "execution_count": 30,
     "metadata": {},
     "output_type": "execute_result"
    }
   ],
   "source": [
    "X_train = pd.read_parquet(\"data/dataframe.parquet\", filters=[('creation_date', '<', begin_test_date)])\n",
    "X_train.head()"
   ],
   "metadata": {
    "collapsed": false,
    "ExecuteTime": {
     "end_time": "2024-11-04T19:59:30.316020Z",
     "start_time": "2024-11-04T19:59:29.322586Z"
    }
   },
   "id": "3ac70f793bb888aa",
   "execution_count": 30
  },
  {
   "cell_type": "code",
   "outputs": [
    {
     "data": {
      "text/plain": "4806    0 days 00:07:39.308000\n4811    0 days 00:03:08.860000\n4850    0 days 00:04:44.029000\n4906    0 days 00:10:23.377000\n4912    0 days 00:08:29.043000\n                 ...          \n84190   0 days 00:04:27.832000\n84192   0 days 00:05:29.981000\n84663   0 days 00:12:19.778000\n85111   0 days 00:08:33.237000\n85969   0 days 00:09:04.232000\nName: pickup_to_delivery, Length: 2034054, dtype: timedelta64[ns]"
     },
     "execution_count": 31,
     "metadata": {},
     "output_type": "execute_result"
    }
   ],
   "source": [
    "y_train = X_train['delivery_entering_timestamp'] - X_train['pickup_timestamp']\n",
    "y_train = pd.Series(y_train, name='pickup_to_delivery')\n",
    "y_train"
   ],
   "metadata": {
    "collapsed": false,
    "ExecuteTime": {
     "end_time": "2024-11-04T19:59:30.324611Z",
     "start_time": "2024-11-04T19:59:30.315321Z"
    }
   },
   "id": "7062f2936f260656",
   "execution_count": 31
  },
  {
   "cell_type": "code",
   "outputs": [
    {
     "data": {
      "text/plain": "      country_code      order_id  courier_id        creation_timestamp  \\\n9605            ES  100931299686   172175095 2024-10-14 00:09:32+00:00   \n14786           ES  100931323115   170201413 2024-10-14 00:50:44+00:00   \n25221           ES  100933187613   176241347 2024-10-14 23:24:53+00:00   \n25225           ES  100933198445    10191824 2024-10-14 23:37:45+00:00   \n25277           ES  100931749423   169099229 2024-10-14 12:57:37+00:00   \n\n           activation_timestamp  transport                 pickup_timestamp  \\\n9605  2024-10-14 00:09:34+00:00  MOTORBIKE 2024-10-14 00:28:54.317000+00:00   \n14786 2024-10-14 10:12:43+00:00        CAR 2024-10-14 10:36:43.867000+00:00   \n25221 2024-10-14 23:24:54+00:00    BICYCLE 2024-10-14 23:40:38.323000+00:00   \n25225 2024-10-14 23:37:46+00:00  MOTORBIKE 2024-10-14 23:50:58.351000+00:00   \n25277 2024-10-14 12:57:38+00:00        CAR 2024-10-14 13:11:50.300000+00:00   \n\n      delivery_entering_timestamp        delivery_timestamp  pickup_latitude  \\\n9605    2024-10-14 00:34:47+00:00 2024-10-14 00:36:48+00:00        38.382520   \n14786   2024-10-14 10:48:41+00:00 2024-10-14 10:53:34+00:00        38.348476   \n25221   2024-10-14 23:45:02+00:00 2024-10-14 23:45:58+00:00        38.345078   \n25225   2024-10-15 00:03:18+00:00 2024-10-15 00:04:30+00:00        38.345078   \n25277   2024-10-14 13:21:17+00:00 2024-10-14 13:22:05+00:00        38.361095   \n\n       ...  creation_hour  pickup_latitude_rad  pickup_longitude_rad  \\\n9605   ...              0             0.669901             -0.007882   \n14786  ...              0             0.669307             -0.008489   \n25221  ...             23             0.669248             -0.008438   \n25225  ...             23             0.669248             -0.008438   \n25277  ...             12             0.669527             -0.008637   \n\n      delivery_latitude_rad delivery_longitude_rad pd_distance_haversine_m  \\\n9605               0.669500              -0.008304             3310.852444   \n14786              0.669187              -0.008794             1705.517814   \n25221              0.669327              -0.008516              636.152666   \n25225              0.669202              -0.008581              774.114259   \n25277              0.669182              -0.008611             2205.902313   \n\n       pd_distance_haversine_m_sk  pd_distance_manhattan_m  creation_date  \\\n9605                  3310.852444              4665.700375     2024-10-14   \n14786                 1705.517814              2292.240241     2024-10-14   \n25221                  636.152666               893.835525     2024-10-14   \n25225                  774.114259              1012.032964     2024-10-14   \n25277                 2205.902313              2337.577867     2024-10-14   \n\n       city_code  \n9605         ALC  \n14786        ALC  \n25221        ALC  \n25225        ALC  \n25277        ALC  \n\n[5 rows x 26 columns]",
      "text/html": "<div>\n<style scoped>\n    .dataframe tbody tr th:only-of-type {\n        vertical-align: middle;\n    }\n\n    .dataframe tbody tr th {\n        vertical-align: top;\n    }\n\n    .dataframe thead th {\n        text-align: right;\n    }\n</style>\n<table border=\"1\" class=\"dataframe\">\n  <thead>\n    <tr style=\"text-align: right;\">\n      <th></th>\n      <th>country_code</th>\n      <th>order_id</th>\n      <th>courier_id</th>\n      <th>creation_timestamp</th>\n      <th>activation_timestamp</th>\n      <th>transport</th>\n      <th>pickup_timestamp</th>\n      <th>delivery_entering_timestamp</th>\n      <th>delivery_timestamp</th>\n      <th>pickup_latitude</th>\n      <th>...</th>\n      <th>creation_hour</th>\n      <th>pickup_latitude_rad</th>\n      <th>pickup_longitude_rad</th>\n      <th>delivery_latitude_rad</th>\n      <th>delivery_longitude_rad</th>\n      <th>pd_distance_haversine_m</th>\n      <th>pd_distance_haversine_m_sk</th>\n      <th>pd_distance_manhattan_m</th>\n      <th>creation_date</th>\n      <th>city_code</th>\n    </tr>\n  </thead>\n  <tbody>\n    <tr>\n      <th>9605</th>\n      <td>ES</td>\n      <td>100931299686</td>\n      <td>172175095</td>\n      <td>2024-10-14 00:09:32+00:00</td>\n      <td>2024-10-14 00:09:34+00:00</td>\n      <td>MOTORBIKE</td>\n      <td>2024-10-14 00:28:54.317000+00:00</td>\n      <td>2024-10-14 00:34:47+00:00</td>\n      <td>2024-10-14 00:36:48+00:00</td>\n      <td>38.382520</td>\n      <td>...</td>\n      <td>0</td>\n      <td>0.669901</td>\n      <td>-0.007882</td>\n      <td>0.669500</td>\n      <td>-0.008304</td>\n      <td>3310.852444</td>\n      <td>3310.852444</td>\n      <td>4665.700375</td>\n      <td>2024-10-14</td>\n      <td>ALC</td>\n    </tr>\n    <tr>\n      <th>14786</th>\n      <td>ES</td>\n      <td>100931323115</td>\n      <td>170201413</td>\n      <td>2024-10-14 00:50:44+00:00</td>\n      <td>2024-10-14 10:12:43+00:00</td>\n      <td>CAR</td>\n      <td>2024-10-14 10:36:43.867000+00:00</td>\n      <td>2024-10-14 10:48:41+00:00</td>\n      <td>2024-10-14 10:53:34+00:00</td>\n      <td>38.348476</td>\n      <td>...</td>\n      <td>0</td>\n      <td>0.669307</td>\n      <td>-0.008489</td>\n      <td>0.669187</td>\n      <td>-0.008794</td>\n      <td>1705.517814</td>\n      <td>1705.517814</td>\n      <td>2292.240241</td>\n      <td>2024-10-14</td>\n      <td>ALC</td>\n    </tr>\n    <tr>\n      <th>25221</th>\n      <td>ES</td>\n      <td>100933187613</td>\n      <td>176241347</td>\n      <td>2024-10-14 23:24:53+00:00</td>\n      <td>2024-10-14 23:24:54+00:00</td>\n      <td>BICYCLE</td>\n      <td>2024-10-14 23:40:38.323000+00:00</td>\n      <td>2024-10-14 23:45:02+00:00</td>\n      <td>2024-10-14 23:45:58+00:00</td>\n      <td>38.345078</td>\n      <td>...</td>\n      <td>23</td>\n      <td>0.669248</td>\n      <td>-0.008438</td>\n      <td>0.669327</td>\n      <td>-0.008516</td>\n      <td>636.152666</td>\n      <td>636.152666</td>\n      <td>893.835525</td>\n      <td>2024-10-14</td>\n      <td>ALC</td>\n    </tr>\n    <tr>\n      <th>25225</th>\n      <td>ES</td>\n      <td>100933198445</td>\n      <td>10191824</td>\n      <td>2024-10-14 23:37:45+00:00</td>\n      <td>2024-10-14 23:37:46+00:00</td>\n      <td>MOTORBIKE</td>\n      <td>2024-10-14 23:50:58.351000+00:00</td>\n      <td>2024-10-15 00:03:18+00:00</td>\n      <td>2024-10-15 00:04:30+00:00</td>\n      <td>38.345078</td>\n      <td>...</td>\n      <td>23</td>\n      <td>0.669248</td>\n      <td>-0.008438</td>\n      <td>0.669202</td>\n      <td>-0.008581</td>\n      <td>774.114259</td>\n      <td>774.114259</td>\n      <td>1012.032964</td>\n      <td>2024-10-14</td>\n      <td>ALC</td>\n    </tr>\n    <tr>\n      <th>25277</th>\n      <td>ES</td>\n      <td>100931749423</td>\n      <td>169099229</td>\n      <td>2024-10-14 12:57:37+00:00</td>\n      <td>2024-10-14 12:57:38+00:00</td>\n      <td>CAR</td>\n      <td>2024-10-14 13:11:50.300000+00:00</td>\n      <td>2024-10-14 13:21:17+00:00</td>\n      <td>2024-10-14 13:22:05+00:00</td>\n      <td>38.361095</td>\n      <td>...</td>\n      <td>12</td>\n      <td>0.669527</td>\n      <td>-0.008637</td>\n      <td>0.669182</td>\n      <td>-0.008611</td>\n      <td>2205.902313</td>\n      <td>2205.902313</td>\n      <td>2337.577867</td>\n      <td>2024-10-14</td>\n      <td>ALC</td>\n    </tr>\n  </tbody>\n</table>\n<p>5 rows × 26 columns</p>\n</div>"
     },
     "execution_count": 32,
     "metadata": {},
     "output_type": "execute_result"
    }
   ],
   "source": [
    "X_test = pd.read_parquet(\"data/dataframe.parquet\", filters=[('creation_date', '>=', begin_test_date)])\n",
    "X_test.head()"
   ],
   "metadata": {
    "collapsed": false,
    "ExecuteTime": {
     "end_time": "2024-11-04T19:59:30.815933Z",
     "start_time": "2024-11-04T19:59:30.325946Z"
    }
   },
   "id": "1830d6e04cb2eed0",
   "execution_count": 32
  },
  {
   "cell_type": "code",
   "outputs": [
    {
     "data": {
      "text/plain": "9605     352683000000\n14786    717133000000\n25221    263677000000\n25225    739649000000\n25277    566700000000\n             ...     \n68825    150065000000\n69405    558499000000\n69964    742575000000\n70230    786619000000\n70533    194149000000\nName: pickup_to_delivery, Length: 883359, dtype: int64"
     },
     "execution_count": 33,
     "metadata": {},
     "output_type": "execute_result"
    }
   ],
   "source": [
    "y_test = X_test['delivery_entering_timestamp'] - X_test['pickup_timestamp']\n",
    "y_test = pd.Series(y_test, dtype=np.int64, name='pickup_to_delivery')\n",
    "y_test"
   ],
   "metadata": {
    "collapsed": false,
    "ExecuteTime": {
     "end_time": "2024-11-04T19:59:30.820049Z",
     "start_time": "2024-11-04T19:59:30.815337Z"
    }
   },
   "id": "52ce014a35efad12",
   "execution_count": 33
  },
  {
   "cell_type": "code",
   "outputs": [
    {
     "name": "stdout",
     "output_type": "stream",
     "text": [
      "(2034054, 26) (2034054,)\n",
      "(883359, 26) (883359,)\n"
     ]
    }
   ],
   "source": [
    "print(X_train.shape, y_train.shape)\n",
    "print(X_test.shape, y_test.shape)"
   ],
   "metadata": {
    "collapsed": false,
    "ExecuteTime": {
     "end_time": "2024-11-04T19:59:30.821876Z",
     "start_time": "2024-11-04T19:59:30.815463Z"
    }
   },
   "id": "2d2fff1089f25047",
   "execution_count": 34
  },
  {
   "cell_type": "markdown",
   "source": [
    "## Baseline Models\n",
    "\n",
    "### BaselineModel_sum"
   ],
   "metadata": {
    "collapsed": false
   },
   "id": "e01843bd221d9df1"
  },
  {
   "cell_type": "code",
   "outputs": [],
   "source": [
    "model_bl_sum = BaselineModel_sum()\n",
    "model_bl_sum.fit(X_test, y_test)"
   ],
   "metadata": {
    "collapsed": false,
    "ExecuteTime": {
     "end_time": "2024-11-04T19:59:31.267458Z",
     "start_time": "2024-11-04T19:59:30.819380Z"
    }
   },
   "id": "7319e4fbfc086581",
   "execution_count": 35
  },
  {
   "cell_type": "code",
   "outputs": [
    {
     "data": {
      "text/plain": "      country_code      order_id  courier_id        creation_timestamp  \\\n9605            ES  100931299686   172175095 2024-10-14 00:09:32+00:00   \n14786           ES  100931323115   170201413 2024-10-14 00:50:44+00:00   \n25221           ES  100933187613   176241347 2024-10-14 23:24:53+00:00   \n25225           ES  100933198445    10191824 2024-10-14 23:37:45+00:00   \n25277           ES  100931749423   169099229 2024-10-14 12:57:37+00:00   \n...            ...           ...         ...                       ...   \n68825           ES  100944409080   147454989 2024-10-20 00:46:55+00:00   \n69405           ES  100944420353   176969361 2024-10-20 01:05:42+00:00   \n69964           ES  100944376912   175206228 2024-10-20 00:06:02+00:00   \n70230           ES  100944400312   174198829 2024-10-20 00:34:03+00:00   \n70533           ES  100944380973   168406068 2024-10-20 00:10:34+00:00   \n\n           activation_timestamp  transport                 pickup_timestamp  \\\n9605  2024-10-14 00:09:34+00:00  MOTORBIKE 2024-10-14 00:28:54.317000+00:00   \n14786 2024-10-14 10:12:43+00:00        CAR 2024-10-14 10:36:43.867000+00:00   \n25221 2024-10-14 23:24:54+00:00    BICYCLE 2024-10-14 23:40:38.323000+00:00   \n25225 2024-10-14 23:37:46+00:00  MOTORBIKE 2024-10-14 23:50:58.351000+00:00   \n25277 2024-10-14 12:57:38+00:00        CAR 2024-10-14 13:11:50.300000+00:00   \n...                         ...        ...                              ...   \n68825 2024-10-20 00:46:56+00:00  MOTORBIKE 2024-10-20 01:01:08.935000+00:00   \n69405 2024-10-20 01:05:43+00:00  MOTORBIKE 2024-10-20 01:30:10.501000+00:00   \n69964 2024-10-20 00:06:03+00:00  MOTORBIKE 2024-10-20 00:15:41.425000+00:00   \n70230 2024-10-20 00:34:04+00:00    BICYCLE 2024-10-20 00:37:07.381000+00:00   \n70533 2024-10-20 00:10:35+00:00  MOTORBIKE 2024-10-20 00:22:44.851000+00:00   \n\n      delivery_entering_timestamp        delivery_timestamp  pickup_latitude  \\\n9605    2024-10-14 00:34:47+00:00 2024-10-14 00:36:48+00:00        38.382520   \n14786   2024-10-14 10:48:41+00:00 2024-10-14 10:53:34+00:00        38.348476   \n25221   2024-10-14 23:45:02+00:00 2024-10-14 23:45:58+00:00        38.345078   \n25225   2024-10-15 00:03:18+00:00 2024-10-15 00:04:30+00:00        38.345078   \n25277   2024-10-14 13:21:17+00:00 2024-10-14 13:22:05+00:00        38.361095   \n...                           ...                       ...              ...   \n68825   2024-10-20 01:03:39+00:00 2024-10-20 01:04:31+00:00        37.394580   \n69405   2024-10-20 01:39:29+00:00 2024-10-20 01:52:39+00:00        37.371475   \n69964   2024-10-20 00:28:04+00:00 2024-10-20 00:30:14+00:00        37.378030   \n70230   2024-10-20 00:50:14+00:00 2024-10-20 00:52:55+00:00        37.377640   \n70533   2024-10-20 00:25:59+00:00 2024-10-20 00:28:42+00:00        37.392517   \n\n       ...  delivery_latitude_rad  delivery_longitude_rad  \\\n9605   ...               0.669500               -0.008304   \n14786  ...               0.669187               -0.008794   \n25221  ...               0.669327               -0.008516   \n25225  ...               0.669202               -0.008581   \n25277  ...               0.669182               -0.008611   \n...    ...                    ...                     ...   \n68825  ...                    NaN                     NaN   \n69405  ...                    NaN                     NaN   \n69964  ...                    NaN                     NaN   \n70230  ...                    NaN                     NaN   \n70533  ...                    NaN                     NaN   \n\n       pd_distance_haversine_m pd_distance_haversine_m_sk  \\\n9605               3310.852444                3310.852444   \n14786              1705.517814                1705.517814   \n25221               636.152666                 636.152666   \n25225               774.114259                 774.114259   \n25277              2205.902313                2205.902313   \n...                        ...                        ...   \n68825               422.299379               25245.687311   \n69405              3131.145748              211357.960688   \n69964              1338.584915               76882.004286   \n70230              2425.338748              148308.288934   \n70533               383.352616               25898.994466   \n\n      pd_distance_manhattan_m creation_date  city_code  y_train_predicted  \\\n9605              4665.700375    2024-10-14        ALC         149.286270   \n14786             2292.240241    2024-10-14        ALC         135.129621   \n25221              893.835525    2024-10-14        ALC         443.034897   \n25225             1012.032964    2024-10-14        ALC         975.858110   \n25277             2337.577867    2024-10-14        ALC         913.959150   \n...                       ...           ...        ...                ...   \n68825              567.529529    2024-10-20        SEV         186.612157   \n69405             3907.369182    2024-10-20        SEV         333.936075   \n69964             1474.909884    2024-10-20        SEV         720.573325   \n70230             3384.627931    2024-10-20        SEV        2385.875616   \n70533              490.752279    2024-10-20        SEV         781.299674   \n\n       y_train         diff  \n9605   352.683  -203.396730  \n14786  717.133  -582.003379  \n25221  263.677   179.357897  \n25225  739.649   236.209110  \n25277  566.700   347.259150  \n...        ...          ...  \n68825  150.065    36.547157  \n69405  558.499  -224.562925  \n69964  742.575   -22.001675  \n70230  786.619  1599.256616  \n70533  194.149   587.150674  \n\n[883359 rows x 29 columns]",
      "text/html": "<div>\n<style scoped>\n    .dataframe tbody tr th:only-of-type {\n        vertical-align: middle;\n    }\n\n    .dataframe tbody tr th {\n        vertical-align: top;\n    }\n\n    .dataframe thead th {\n        text-align: right;\n    }\n</style>\n<table border=\"1\" class=\"dataframe\">\n  <thead>\n    <tr style=\"text-align: right;\">\n      <th></th>\n      <th>country_code</th>\n      <th>order_id</th>\n      <th>courier_id</th>\n      <th>creation_timestamp</th>\n      <th>activation_timestamp</th>\n      <th>transport</th>\n      <th>pickup_timestamp</th>\n      <th>delivery_entering_timestamp</th>\n      <th>delivery_timestamp</th>\n      <th>pickup_latitude</th>\n      <th>...</th>\n      <th>delivery_latitude_rad</th>\n      <th>delivery_longitude_rad</th>\n      <th>pd_distance_haversine_m</th>\n      <th>pd_distance_haversine_m_sk</th>\n      <th>pd_distance_manhattan_m</th>\n      <th>creation_date</th>\n      <th>city_code</th>\n      <th>y_train_predicted</th>\n      <th>y_train</th>\n      <th>diff</th>\n    </tr>\n  </thead>\n  <tbody>\n    <tr>\n      <th>9605</th>\n      <td>ES</td>\n      <td>100931299686</td>\n      <td>172175095</td>\n      <td>2024-10-14 00:09:32+00:00</td>\n      <td>2024-10-14 00:09:34+00:00</td>\n      <td>MOTORBIKE</td>\n      <td>2024-10-14 00:28:54.317000+00:00</td>\n      <td>2024-10-14 00:34:47+00:00</td>\n      <td>2024-10-14 00:36:48+00:00</td>\n      <td>38.382520</td>\n      <td>...</td>\n      <td>0.669500</td>\n      <td>-0.008304</td>\n      <td>3310.852444</td>\n      <td>3310.852444</td>\n      <td>4665.700375</td>\n      <td>2024-10-14</td>\n      <td>ALC</td>\n      <td>149.286270</td>\n      <td>352.683</td>\n      <td>-203.396730</td>\n    </tr>\n    <tr>\n      <th>14786</th>\n      <td>ES</td>\n      <td>100931323115</td>\n      <td>170201413</td>\n      <td>2024-10-14 00:50:44+00:00</td>\n      <td>2024-10-14 10:12:43+00:00</td>\n      <td>CAR</td>\n      <td>2024-10-14 10:36:43.867000+00:00</td>\n      <td>2024-10-14 10:48:41+00:00</td>\n      <td>2024-10-14 10:53:34+00:00</td>\n      <td>38.348476</td>\n      <td>...</td>\n      <td>0.669187</td>\n      <td>-0.008794</td>\n      <td>1705.517814</td>\n      <td>1705.517814</td>\n      <td>2292.240241</td>\n      <td>2024-10-14</td>\n      <td>ALC</td>\n      <td>135.129621</td>\n      <td>717.133</td>\n      <td>-582.003379</td>\n    </tr>\n    <tr>\n      <th>25221</th>\n      <td>ES</td>\n      <td>100933187613</td>\n      <td>176241347</td>\n      <td>2024-10-14 23:24:53+00:00</td>\n      <td>2024-10-14 23:24:54+00:00</td>\n      <td>BICYCLE</td>\n      <td>2024-10-14 23:40:38.323000+00:00</td>\n      <td>2024-10-14 23:45:02+00:00</td>\n      <td>2024-10-14 23:45:58+00:00</td>\n      <td>38.345078</td>\n      <td>...</td>\n      <td>0.669327</td>\n      <td>-0.008516</td>\n      <td>636.152666</td>\n      <td>636.152666</td>\n      <td>893.835525</td>\n      <td>2024-10-14</td>\n      <td>ALC</td>\n      <td>443.034897</td>\n      <td>263.677</td>\n      <td>179.357897</td>\n    </tr>\n    <tr>\n      <th>25225</th>\n      <td>ES</td>\n      <td>100933198445</td>\n      <td>10191824</td>\n      <td>2024-10-14 23:37:45+00:00</td>\n      <td>2024-10-14 23:37:46+00:00</td>\n      <td>MOTORBIKE</td>\n      <td>2024-10-14 23:50:58.351000+00:00</td>\n      <td>2024-10-15 00:03:18+00:00</td>\n      <td>2024-10-15 00:04:30+00:00</td>\n      <td>38.345078</td>\n      <td>...</td>\n      <td>0.669202</td>\n      <td>-0.008581</td>\n      <td>774.114259</td>\n      <td>774.114259</td>\n      <td>1012.032964</td>\n      <td>2024-10-14</td>\n      <td>ALC</td>\n      <td>975.858110</td>\n      <td>739.649</td>\n      <td>236.209110</td>\n    </tr>\n    <tr>\n      <th>25277</th>\n      <td>ES</td>\n      <td>100931749423</td>\n      <td>169099229</td>\n      <td>2024-10-14 12:57:37+00:00</td>\n      <td>2024-10-14 12:57:38+00:00</td>\n      <td>CAR</td>\n      <td>2024-10-14 13:11:50.300000+00:00</td>\n      <td>2024-10-14 13:21:17+00:00</td>\n      <td>2024-10-14 13:22:05+00:00</td>\n      <td>38.361095</td>\n      <td>...</td>\n      <td>0.669182</td>\n      <td>-0.008611</td>\n      <td>2205.902313</td>\n      <td>2205.902313</td>\n      <td>2337.577867</td>\n      <td>2024-10-14</td>\n      <td>ALC</td>\n      <td>913.959150</td>\n      <td>566.700</td>\n      <td>347.259150</td>\n    </tr>\n    <tr>\n      <th>...</th>\n      <td>...</td>\n      <td>...</td>\n      <td>...</td>\n      <td>...</td>\n      <td>...</td>\n      <td>...</td>\n      <td>...</td>\n      <td>...</td>\n      <td>...</td>\n      <td>...</td>\n      <td>...</td>\n      <td>...</td>\n      <td>...</td>\n      <td>...</td>\n      <td>...</td>\n      <td>...</td>\n      <td>...</td>\n      <td>...</td>\n      <td>...</td>\n      <td>...</td>\n      <td>...</td>\n    </tr>\n    <tr>\n      <th>68825</th>\n      <td>ES</td>\n      <td>100944409080</td>\n      <td>147454989</td>\n      <td>2024-10-20 00:46:55+00:00</td>\n      <td>2024-10-20 00:46:56+00:00</td>\n      <td>MOTORBIKE</td>\n      <td>2024-10-20 01:01:08.935000+00:00</td>\n      <td>2024-10-20 01:03:39+00:00</td>\n      <td>2024-10-20 01:04:31+00:00</td>\n      <td>37.394580</td>\n      <td>...</td>\n      <td>NaN</td>\n      <td>NaN</td>\n      <td>422.299379</td>\n      <td>25245.687311</td>\n      <td>567.529529</td>\n      <td>2024-10-20</td>\n      <td>SEV</td>\n      <td>186.612157</td>\n      <td>150.065</td>\n      <td>36.547157</td>\n    </tr>\n    <tr>\n      <th>69405</th>\n      <td>ES</td>\n      <td>100944420353</td>\n      <td>176969361</td>\n      <td>2024-10-20 01:05:42+00:00</td>\n      <td>2024-10-20 01:05:43+00:00</td>\n      <td>MOTORBIKE</td>\n      <td>2024-10-20 01:30:10.501000+00:00</td>\n      <td>2024-10-20 01:39:29+00:00</td>\n      <td>2024-10-20 01:52:39+00:00</td>\n      <td>37.371475</td>\n      <td>...</td>\n      <td>NaN</td>\n      <td>NaN</td>\n      <td>3131.145748</td>\n      <td>211357.960688</td>\n      <td>3907.369182</td>\n      <td>2024-10-20</td>\n      <td>SEV</td>\n      <td>333.936075</td>\n      <td>558.499</td>\n      <td>-224.562925</td>\n    </tr>\n    <tr>\n      <th>69964</th>\n      <td>ES</td>\n      <td>100944376912</td>\n      <td>175206228</td>\n      <td>2024-10-20 00:06:02+00:00</td>\n      <td>2024-10-20 00:06:03+00:00</td>\n      <td>MOTORBIKE</td>\n      <td>2024-10-20 00:15:41.425000+00:00</td>\n      <td>2024-10-20 00:28:04+00:00</td>\n      <td>2024-10-20 00:30:14+00:00</td>\n      <td>37.378030</td>\n      <td>...</td>\n      <td>NaN</td>\n      <td>NaN</td>\n      <td>1338.584915</td>\n      <td>76882.004286</td>\n      <td>1474.909884</td>\n      <td>2024-10-20</td>\n      <td>SEV</td>\n      <td>720.573325</td>\n      <td>742.575</td>\n      <td>-22.001675</td>\n    </tr>\n    <tr>\n      <th>70230</th>\n      <td>ES</td>\n      <td>100944400312</td>\n      <td>174198829</td>\n      <td>2024-10-20 00:34:03+00:00</td>\n      <td>2024-10-20 00:34:04+00:00</td>\n      <td>BICYCLE</td>\n      <td>2024-10-20 00:37:07.381000+00:00</td>\n      <td>2024-10-20 00:50:14+00:00</td>\n      <td>2024-10-20 00:52:55+00:00</td>\n      <td>37.377640</td>\n      <td>...</td>\n      <td>NaN</td>\n      <td>NaN</td>\n      <td>2425.338748</td>\n      <td>148308.288934</td>\n      <td>3384.627931</td>\n      <td>2024-10-20</td>\n      <td>SEV</td>\n      <td>2385.875616</td>\n      <td>786.619</td>\n      <td>1599.256616</td>\n    </tr>\n    <tr>\n      <th>70533</th>\n      <td>ES</td>\n      <td>100944380973</td>\n      <td>168406068</td>\n      <td>2024-10-20 00:10:34+00:00</td>\n      <td>2024-10-20 00:10:35+00:00</td>\n      <td>MOTORBIKE</td>\n      <td>2024-10-20 00:22:44.851000+00:00</td>\n      <td>2024-10-20 00:25:59+00:00</td>\n      <td>2024-10-20 00:28:42+00:00</td>\n      <td>37.392517</td>\n      <td>...</td>\n      <td>NaN</td>\n      <td>NaN</td>\n      <td>383.352616</td>\n      <td>25898.994466</td>\n      <td>490.752279</td>\n      <td>2024-10-20</td>\n      <td>SEV</td>\n      <td>781.299674</td>\n      <td>194.149</td>\n      <td>587.150674</td>\n    </tr>\n  </tbody>\n</table>\n<p>883359 rows × 29 columns</p>\n</div>"
     },
     "execution_count": 36,
     "metadata": {},
     "output_type": "execute_result"
    }
   ],
   "source": [
    "X_test_expanded = X_test.copy()\n",
    "X_test_expanded['y_train_predicted'] = model_bl_sum.predict(X_test)\n",
    "X_test_expanded['y_train'] = (X_test_expanded['delivery_entering_timestamp'] - X_test_expanded['pickup_timestamp']).dt.total_seconds()\n",
    "X_test_expanded['diff'] = X_test_expanded['y_train_predicted'] - X_test_expanded['y_train']\n",
    "X_test_expanded"
   ],
   "metadata": {
    "collapsed": false,
    "ExecuteTime": {
     "end_time": "2024-11-04T20:00:17.317032Z",
     "start_time": "2024-11-04T19:59:31.265176Z"
    }
   },
   "id": "98ce61d074b1f290",
   "execution_count": 36
  },
  {
   "cell_type": "code",
   "outputs": [
    {
     "data": {
      "text/plain": "0    1071.952465\nName: pickup_to_delivery_predicted, dtype: float64"
     },
     "execution_count": 37,
     "metadata": {},
     "output_type": "execute_result"
    }
   ],
   "source": [
    "model_bl_sum.predict(X_test.iloc[0])"
   ],
   "metadata": {
    "collapsed": false,
    "ExecuteTime": {
     "end_time": "2024-11-04T20:00:17.321050Z",
     "start_time": "2024-11-04T20:00:17.315979Z"
    }
   },
   "id": "db7ceb8d51efef42",
   "execution_count": 37
  },
  {
   "cell_type": "markdown",
   "source": [
    "### BaselineModel_mean"
   ],
   "metadata": {
    "collapsed": false
   },
   "id": "3d31a26bb43bab07"
  },
  {
   "cell_type": "code",
   "outputs": [],
   "source": [
    "model_bl_mean = BaselineModel_mean()\n",
    "model_bl_mean.fit(X_test, y_test)"
   ],
   "metadata": {
    "collapsed": false
   },
   "id": "199e5c6e339d7c1"
  },
  {
   "cell_type": "code",
   "outputs": [
    {
     "data": {
      "text/plain": "      country_code      order_id  courier_id        creation_timestamp  \\\n9605            ES  100931299686   172175095 2024-10-14 00:09:32+00:00   \n14786           ES  100931323115   170201413 2024-10-14 00:50:44+00:00   \n25221           ES  100933187613   176241347 2024-10-14 23:24:53+00:00   \n25225           ES  100933198445    10191824 2024-10-14 23:37:45+00:00   \n25277           ES  100931749423   169099229 2024-10-14 12:57:37+00:00   \n...            ...           ...         ...                       ...   \n68825           ES  100944409080   147454989 2024-10-20 00:46:55+00:00   \n69405           ES  100944420353   176969361 2024-10-20 01:05:42+00:00   \n69964           ES  100944376912   175206228 2024-10-20 00:06:02+00:00   \n70230           ES  100944400312   174198829 2024-10-20 00:34:03+00:00   \n70533           ES  100944380973   168406068 2024-10-20 00:10:34+00:00   \n\n           activation_timestamp  transport                 pickup_timestamp  \\\n9605  2024-10-14 00:09:34+00:00  MOTORBIKE 2024-10-14 00:28:54.317000+00:00   \n14786 2024-10-14 10:12:43+00:00        CAR 2024-10-14 10:36:43.867000+00:00   \n25221 2024-10-14 23:24:54+00:00    BICYCLE 2024-10-14 23:40:38.323000+00:00   \n25225 2024-10-14 23:37:46+00:00  MOTORBIKE 2024-10-14 23:50:58.351000+00:00   \n25277 2024-10-14 12:57:38+00:00        CAR 2024-10-14 13:11:50.300000+00:00   \n...                         ...        ...                              ...   \n68825 2024-10-20 00:46:56+00:00  MOTORBIKE 2024-10-20 01:01:08.935000+00:00   \n69405 2024-10-20 01:05:43+00:00  MOTORBIKE 2024-10-20 01:30:10.501000+00:00   \n69964 2024-10-20 00:06:03+00:00  MOTORBIKE 2024-10-20 00:15:41.425000+00:00   \n70230 2024-10-20 00:34:04+00:00    BICYCLE 2024-10-20 00:37:07.381000+00:00   \n70533 2024-10-20 00:10:35+00:00  MOTORBIKE 2024-10-20 00:22:44.851000+00:00   \n\n      delivery_entering_timestamp        delivery_timestamp  pickup_latitude  \\\n9605    2024-10-14 00:34:47+00:00 2024-10-14 00:36:48+00:00        38.382520   \n14786   2024-10-14 10:48:41+00:00 2024-10-14 10:53:34+00:00        38.348476   \n25221   2024-10-14 23:45:02+00:00 2024-10-14 23:45:58+00:00        38.345078   \n25225   2024-10-15 00:03:18+00:00 2024-10-15 00:04:30+00:00        38.345078   \n25277   2024-10-14 13:21:17+00:00 2024-10-14 13:22:05+00:00        38.361095   \n...                           ...                       ...              ...   \n68825   2024-10-20 01:03:39+00:00 2024-10-20 01:04:31+00:00        37.394580   \n69405   2024-10-20 01:39:29+00:00 2024-10-20 01:52:39+00:00        37.371475   \n69964   2024-10-20 00:28:04+00:00 2024-10-20 00:30:14+00:00        37.378030   \n70230   2024-10-20 00:50:14+00:00 2024-10-20 00:52:55+00:00        37.377640   \n70533   2024-10-20 00:25:59+00:00 2024-10-20 00:28:42+00:00        37.392517   \n\n       ...  pd_distance_haversine_m  pd_distance_haversine_m_sk  \\\n9605   ...              3310.852444                 3310.852444   \n14786  ...              1705.517814                 1705.517814   \n25221  ...               636.152666                  636.152666   \n25225  ...               774.114259                  774.114259   \n25277  ...              2205.902313                 2205.902313   \n...    ...                      ...                         ...   \n68825  ...               422.299379                25245.687311   \n69405  ...              3131.145748               211357.960688   \n69964  ...              1338.584915                76882.004286   \n70230  ...              2425.338748               148308.288934   \n70533  ...               383.352616                25898.994466   \n\n       pd_distance_manhattan_m creation_date city_code     time  velocity  \\\n9605               4665.700375    2024-10-14       ALC  352.683  9.387616   \n14786              2292.240241    2024-10-14       ALC  717.133  2.378245   \n25221               893.835525    2024-10-14       ALC  263.677  2.412621   \n25225              1012.032964    2024-10-14       ALC  739.649  1.046597   \n25277              2337.577867    2024-10-14       ALC  566.700  3.892540   \n...                        ...           ...       ...      ...       ...   \n68825               567.529529    2024-10-20       SEV  150.065  2.814110   \n69405              3907.369182    2024-10-20       SEV  558.499  5.606359   \n69964              1474.909884    2024-10-20       SEV  742.575  1.802626   \n70230              3384.627931    2024-10-20       SEV  786.619  3.083245   \n70533               490.752279    2024-10-20       SEV  194.149  1.974528   \n\n       y_train_predicted  y_train        diff  \n9605          577.440005  352.683  224.757005  \n14786         203.505814  717.133 -513.627186  \n25221         177.873293  263.677  -85.803707  \n25225        1013.261752  739.649  273.612752  \n25277         744.731125  566.700  178.031125  \n...                  ...      ...         ...  \n68825         309.802478  150.065  159.737478  \n69405         665.073121  558.499  106.574121  \n69964          63.238848  742.575 -679.336152  \n70230         992.455873  786.619  205.836873  \n70533         371.929951  194.149  177.780951  \n\n[883359 rows x 31 columns]",
      "text/html": "<div>\n<style scoped>\n    .dataframe tbody tr th:only-of-type {\n        vertical-align: middle;\n    }\n\n    .dataframe tbody tr th {\n        vertical-align: top;\n    }\n\n    .dataframe thead th {\n        text-align: right;\n    }\n</style>\n<table border=\"1\" class=\"dataframe\">\n  <thead>\n    <tr style=\"text-align: right;\">\n      <th></th>\n      <th>country_code</th>\n      <th>order_id</th>\n      <th>courier_id</th>\n      <th>creation_timestamp</th>\n      <th>activation_timestamp</th>\n      <th>transport</th>\n      <th>pickup_timestamp</th>\n      <th>delivery_entering_timestamp</th>\n      <th>delivery_timestamp</th>\n      <th>pickup_latitude</th>\n      <th>...</th>\n      <th>pd_distance_haversine_m</th>\n      <th>pd_distance_haversine_m_sk</th>\n      <th>pd_distance_manhattan_m</th>\n      <th>creation_date</th>\n      <th>city_code</th>\n      <th>time</th>\n      <th>velocity</th>\n      <th>y_train_predicted</th>\n      <th>y_train</th>\n      <th>diff</th>\n    </tr>\n  </thead>\n  <tbody>\n    <tr>\n      <th>9605</th>\n      <td>ES</td>\n      <td>100931299686</td>\n      <td>172175095</td>\n      <td>2024-10-14 00:09:32+00:00</td>\n      <td>2024-10-14 00:09:34+00:00</td>\n      <td>MOTORBIKE</td>\n      <td>2024-10-14 00:28:54.317000+00:00</td>\n      <td>2024-10-14 00:34:47+00:00</td>\n      <td>2024-10-14 00:36:48+00:00</td>\n      <td>38.382520</td>\n      <td>...</td>\n      <td>3310.852444</td>\n      <td>3310.852444</td>\n      <td>4665.700375</td>\n      <td>2024-10-14</td>\n      <td>ALC</td>\n      <td>352.683</td>\n      <td>9.387616</td>\n      <td>577.440005</td>\n      <td>352.683</td>\n      <td>224.757005</td>\n    </tr>\n    <tr>\n      <th>14786</th>\n      <td>ES</td>\n      <td>100931323115</td>\n      <td>170201413</td>\n      <td>2024-10-14 00:50:44+00:00</td>\n      <td>2024-10-14 10:12:43+00:00</td>\n      <td>CAR</td>\n      <td>2024-10-14 10:36:43.867000+00:00</td>\n      <td>2024-10-14 10:48:41+00:00</td>\n      <td>2024-10-14 10:53:34+00:00</td>\n      <td>38.348476</td>\n      <td>...</td>\n      <td>1705.517814</td>\n      <td>1705.517814</td>\n      <td>2292.240241</td>\n      <td>2024-10-14</td>\n      <td>ALC</td>\n      <td>717.133</td>\n      <td>2.378245</td>\n      <td>203.505814</td>\n      <td>717.133</td>\n      <td>-513.627186</td>\n    </tr>\n    <tr>\n      <th>25221</th>\n      <td>ES</td>\n      <td>100933187613</td>\n      <td>176241347</td>\n      <td>2024-10-14 23:24:53+00:00</td>\n      <td>2024-10-14 23:24:54+00:00</td>\n      <td>BICYCLE</td>\n      <td>2024-10-14 23:40:38.323000+00:00</td>\n      <td>2024-10-14 23:45:02+00:00</td>\n      <td>2024-10-14 23:45:58+00:00</td>\n      <td>38.345078</td>\n      <td>...</td>\n      <td>636.152666</td>\n      <td>636.152666</td>\n      <td>893.835525</td>\n      <td>2024-10-14</td>\n      <td>ALC</td>\n      <td>263.677</td>\n      <td>2.412621</td>\n      <td>177.873293</td>\n      <td>263.677</td>\n      <td>-85.803707</td>\n    </tr>\n    <tr>\n      <th>25225</th>\n      <td>ES</td>\n      <td>100933198445</td>\n      <td>10191824</td>\n      <td>2024-10-14 23:37:45+00:00</td>\n      <td>2024-10-14 23:37:46+00:00</td>\n      <td>MOTORBIKE</td>\n      <td>2024-10-14 23:50:58.351000+00:00</td>\n      <td>2024-10-15 00:03:18+00:00</td>\n      <td>2024-10-15 00:04:30+00:00</td>\n      <td>38.345078</td>\n      <td>...</td>\n      <td>774.114259</td>\n      <td>774.114259</td>\n      <td>1012.032964</td>\n      <td>2024-10-14</td>\n      <td>ALC</td>\n      <td>739.649</td>\n      <td>1.046597</td>\n      <td>1013.261752</td>\n      <td>739.649</td>\n      <td>273.612752</td>\n    </tr>\n    <tr>\n      <th>25277</th>\n      <td>ES</td>\n      <td>100931749423</td>\n      <td>169099229</td>\n      <td>2024-10-14 12:57:37+00:00</td>\n      <td>2024-10-14 12:57:38+00:00</td>\n      <td>CAR</td>\n      <td>2024-10-14 13:11:50.300000+00:00</td>\n      <td>2024-10-14 13:21:17+00:00</td>\n      <td>2024-10-14 13:22:05+00:00</td>\n      <td>38.361095</td>\n      <td>...</td>\n      <td>2205.902313</td>\n      <td>2205.902313</td>\n      <td>2337.577867</td>\n      <td>2024-10-14</td>\n      <td>ALC</td>\n      <td>566.700</td>\n      <td>3.892540</td>\n      <td>744.731125</td>\n      <td>566.700</td>\n      <td>178.031125</td>\n    </tr>\n    <tr>\n      <th>...</th>\n      <td>...</td>\n      <td>...</td>\n      <td>...</td>\n      <td>...</td>\n      <td>...</td>\n      <td>...</td>\n      <td>...</td>\n      <td>...</td>\n      <td>...</td>\n      <td>...</td>\n      <td>...</td>\n      <td>...</td>\n      <td>...</td>\n      <td>...</td>\n      <td>...</td>\n      <td>...</td>\n      <td>...</td>\n      <td>...</td>\n      <td>...</td>\n      <td>...</td>\n      <td>...</td>\n    </tr>\n    <tr>\n      <th>68825</th>\n      <td>ES</td>\n      <td>100944409080</td>\n      <td>147454989</td>\n      <td>2024-10-20 00:46:55+00:00</td>\n      <td>2024-10-20 00:46:56+00:00</td>\n      <td>MOTORBIKE</td>\n      <td>2024-10-20 01:01:08.935000+00:00</td>\n      <td>2024-10-20 01:03:39+00:00</td>\n      <td>2024-10-20 01:04:31+00:00</td>\n      <td>37.394580</td>\n      <td>...</td>\n      <td>422.299379</td>\n      <td>25245.687311</td>\n      <td>567.529529</td>\n      <td>2024-10-20</td>\n      <td>SEV</td>\n      <td>150.065</td>\n      <td>2.814110</td>\n      <td>309.802478</td>\n      <td>150.065</td>\n      <td>159.737478</td>\n    </tr>\n    <tr>\n      <th>69405</th>\n      <td>ES</td>\n      <td>100944420353</td>\n      <td>176969361</td>\n      <td>2024-10-20 01:05:42+00:00</td>\n      <td>2024-10-20 01:05:43+00:00</td>\n      <td>MOTORBIKE</td>\n      <td>2024-10-20 01:30:10.501000+00:00</td>\n      <td>2024-10-20 01:39:29+00:00</td>\n      <td>2024-10-20 01:52:39+00:00</td>\n      <td>37.371475</td>\n      <td>...</td>\n      <td>3131.145748</td>\n      <td>211357.960688</td>\n      <td>3907.369182</td>\n      <td>2024-10-20</td>\n      <td>SEV</td>\n      <td>558.499</td>\n      <td>5.606359</td>\n      <td>665.073121</td>\n      <td>558.499</td>\n      <td>106.574121</td>\n    </tr>\n    <tr>\n      <th>69964</th>\n      <td>ES</td>\n      <td>100944376912</td>\n      <td>175206228</td>\n      <td>2024-10-20 00:06:02+00:00</td>\n      <td>2024-10-20 00:06:03+00:00</td>\n      <td>MOTORBIKE</td>\n      <td>2024-10-20 00:15:41.425000+00:00</td>\n      <td>2024-10-20 00:28:04+00:00</td>\n      <td>2024-10-20 00:30:14+00:00</td>\n      <td>37.378030</td>\n      <td>...</td>\n      <td>1338.584915</td>\n      <td>76882.004286</td>\n      <td>1474.909884</td>\n      <td>2024-10-20</td>\n      <td>SEV</td>\n      <td>742.575</td>\n      <td>1.802626</td>\n      <td>63.238848</td>\n      <td>742.575</td>\n      <td>-679.336152</td>\n    </tr>\n    <tr>\n      <th>70230</th>\n      <td>ES</td>\n      <td>100944400312</td>\n      <td>174198829</td>\n      <td>2024-10-20 00:34:03+00:00</td>\n      <td>2024-10-20 00:34:04+00:00</td>\n      <td>BICYCLE</td>\n      <td>2024-10-20 00:37:07.381000+00:00</td>\n      <td>2024-10-20 00:50:14+00:00</td>\n      <td>2024-10-20 00:52:55+00:00</td>\n      <td>37.377640</td>\n      <td>...</td>\n      <td>2425.338748</td>\n      <td>148308.288934</td>\n      <td>3384.627931</td>\n      <td>2024-10-20</td>\n      <td>SEV</td>\n      <td>786.619</td>\n      <td>3.083245</td>\n      <td>992.455873</td>\n      <td>786.619</td>\n      <td>205.836873</td>\n    </tr>\n    <tr>\n      <th>70533</th>\n      <td>ES</td>\n      <td>100944380973</td>\n      <td>168406068</td>\n      <td>2024-10-20 00:10:34+00:00</td>\n      <td>2024-10-20 00:10:35+00:00</td>\n      <td>MOTORBIKE</td>\n      <td>2024-10-20 00:22:44.851000+00:00</td>\n      <td>2024-10-20 00:25:59+00:00</td>\n      <td>2024-10-20 00:28:42+00:00</td>\n      <td>37.392517</td>\n      <td>...</td>\n      <td>383.352616</td>\n      <td>25898.994466</td>\n      <td>490.752279</td>\n      <td>2024-10-20</td>\n      <td>SEV</td>\n      <td>194.149</td>\n      <td>1.974528</td>\n      <td>371.929951</td>\n      <td>194.149</td>\n      <td>177.780951</td>\n    </tr>\n  </tbody>\n</table>\n<p>883359 rows × 31 columns</p>\n</div>"
     },
     "execution_count": 42,
     "metadata": {},
     "output_type": "execute_result"
    }
   ],
   "source": [
    "X_test_expanded2 = X_test.copy()\n",
    "X_test_expanded2['y_train_predicted'] = model_bl_mean.predict(X_train)\n",
    "X_test_expanded2['y_train'] = (X_test_expanded2['delivery_entering_timestamp'] - X_test_expanded2['pickup_timestamp']).dt.total_seconds()\n",
    "X_test_expanded2['diff'] = X_test_expanded2['y_train_predicted'] - X_test_expanded2['y_train']\n",
    "X_test_expanded2"
   ],
   "metadata": {
    "collapsed": false,
    "ExecuteTime": {
     "end_time": "2024-11-04T20:33:00.502610Z",
     "start_time": "2024-11-04T20:31:02.647030Z"
    }
   },
   "id": "da2363ec8ae10e56",
   "execution_count": 42
  },
  {
   "cell_type": "code",
   "outputs": [
    {
     "data": {
      "text/plain": "0    840.431273\nName: pickup_to_delivery_predicted, dtype: float64"
     },
     "execution_count": 40,
     "metadata": {},
     "output_type": "execute_result"
    }
   ],
   "source": [
    "model_bl_mean.predict(X_test.iloc[0])"
   ],
   "metadata": {
    "collapsed": false,
    "ExecuteTime": {
     "end_time": "2024-11-04T20:02:03.626194Z",
     "start_time": "2024-11-04T20:02:03.616926Z"
    }
   },
   "id": "d7329630cd310504",
   "execution_count": 40
  }
 ],
 "metadata": {
  "kernelspec": {
   "display_name": "Python 3",
   "language": "python",
   "name": "python3"
  },
  "language_info": {
   "codemirror_mode": {
    "name": "ipython",
    "version": 2
   },
   "file_extension": ".py",
   "mimetype": "text/x-python",
   "name": "python",
   "nbconvert_exporter": "python",
   "pygments_lexer": "ipython2",
   "version": "2.7.6"
  }
 },
 "nbformat": 4,
 "nbformat_minor": 5
}
