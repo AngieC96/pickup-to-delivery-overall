{
 "cells": [
  {
   "cell_type": "markdown",
   "source": [
    "# Pickup to Delivery Overall"
   ],
   "metadata": {
    "collapsed": false
   },
   "id": "24ad314bf282ec83"
  },
  {
   "cell_type": "code",
   "outputs": [],
   "source": [
    "import os\n",
    "import sys\n",
    "import warnings\n",
    "import pandas as pd\n",
    "import numpy as np\n",
    "import csv\n",
    "import pickle\n",
    "import matplotlib.pyplot as plt\n",
    "from haversine import haversine, Unit\n",
    "from sklearn.metrics.pairwise import haversine_distances, manhattan_distances\n",
    "from sklearn.model_selection import train_test_split, cross_val_score\n",
    "\n",
    "sys.path.insert(0, os.path.expanduser('./'))\n",
    "import query_runner as qr\n",
    "import utils"
   ],
   "metadata": {
    "collapsed": false,
    "ExecuteTime": {
     "end_time": "2024-10-21T13:26:02.203631Z",
     "start_time": "2024-10-21T13:25:51.795921Z"
    }
   },
   "id": "cb71195be0f3a22f",
   "execution_count": 1
  },
  {
   "cell_type": "code",
   "outputs": [],
   "source": [
    "base_query_path = './queries/'\n",
    "dwh_config, livedb_config, parameters_config = utils.load_config(config_file='./config.ini')\n",
    "datalake_connection = qr.create_connection(db='datalake')\n",
    "#monolith_connection = qr.create_connection(user=livedb_config['monolith_username'], password=livedb_config['monolith_password'], db='livedb')\n",
    "#dispatching_db_connection = qr.create_connection(user=livedb_config['dispatching_db_username'], password=livedb_config['dispatching_db_password'], db='dispatchingdb')"
   ],
   "metadata": {
    "collapsed": false,
    "ExecuteTime": {
     "end_time": "2024-10-21T13:26:02.212701Z",
     "start_time": "2024-10-21T13:26:02.205965Z"
    }
   },
   "id": "52eb5fbdb862edbe",
   "execution_count": 2
  },
  {
   "cell_type": "code",
   "outputs": [
    {
     "name": "stdout",
     "output_type": "stream",
     "text": [
      "Start date: 2024-09-23 | End date: 2024-10-06 | Countries: ES\n"
     ]
    }
   ],
   "source": [
    "start_date = parameters_config['start_date']\n",
    "end_date = parameters_config['end_date']\n",
    "country_code = parameters_config['country_code']\n",
    "\n",
    "print(f'Start date: {start_date} | End date: {end_date} | Countries: {country_code}')"
   ],
   "metadata": {
    "collapsed": false,
    "ExecuteTime": {
     "end_time": "2024-10-21T13:26:02.222648Z",
     "start_time": "2024-10-21T13:26:02.214163Z"
    }
   },
   "id": "f26eb0ba80de7f8e",
   "execution_count": 3
  },
  {
   "cell_type": "code",
   "outputs": [],
   "source": [
    "parameters = {\n",
    "    'start_date': start_date,\n",
    "    'end_date': end_date,\n",
    "    'country_code': country_code\n",
    "}"
   ],
   "metadata": {
    "collapsed": false,
    "ExecuteTime": {
     "end_time": "2024-10-21T13:26:02.225635Z",
     "start_time": "2024-10-21T13:26:02.220704Z"
    }
   },
   "id": "e3c251ccf4f2beb1",
   "execution_count": 4
  },
  {
   "cell_type": "markdown",
   "source": [
    "## Load the data"
   ],
   "metadata": {
    "collapsed": false
   },
   "id": "3c0d6dbf6375ce8"
  },
  {
   "cell_type": "code",
   "outputs": [
    {
     "name": "stdout",
     "output_type": "stream",
     "text": [
      "Open the following URL in browser for the external authentication:\n",
      "https://starburst.g8s-data-platform-prod.glovoint.com/oauth2/token/initiate/7ce2cca5cbbd6b6f7c095a9644bd84988b8d555476b70bf1177ea118d3591b2b\n"
     ]
    },
    {
     "data": {
      "text/plain": "  country_code city_code      order_id  courier_id        creation_timestamp  \\\n0           ES       ZAR  100894902837   175840697 2024-09-28 11:08:38+00:00   \n1           ES       CAL  100894903481   168755278 2024-09-28 11:09:02+00:00   \n2           ES       BCN  100894905484   146788592 2024-09-28 11:10:20+00:00   \n3           ES       NOM  100894909339   167720126 2024-09-28 11:12:44+00:00   \n4           ES       NOM  100894914820   176602268 2024-09-28 11:16:03+00:00   \n\n       activation_timestamp  transport                 pickup_timestamp  \\\n0 2024-09-28 11:08:41+00:00  MOTORBIKE 2024-09-28 11:17:58.096000+00:00   \n1 2024-09-28 11:38:48+00:00  MOTORBIKE 2024-09-28 12:01:07.283000+00:00   \n2 2024-09-28 11:10:21+00:00  MOTORBIKE 2024-09-28 11:14:32.118000+00:00   \n3 2024-09-28 11:12:44+00:00        CAR 2024-09-28 11:44:13.154000+00:00   \n4 2024-09-28 11:16:04+00:00        CAR 2024-09-28 11:31:20.290000+00:00   \n\n         delivery_timestamp  pickup_latitude  pickup_longitude  \\\n0 2024-09-28 11:31:17+00:00        41.648980         -0.877411   \n1 2024-09-28 12:08:46+00:00        41.675400          2.789956   \n2 2024-09-28 11:19:04+00:00        41.357388          2.127895   \n3 2024-09-28 11:58:59+00:00        40.439137         -3.792211   \n4 2024-09-28 11:42:54+00:00        40.436962         -3.796514   \n\n   delivery_latitude  delivery_longitude delivery_entering_timestamp  \\\n0          41.653435           -0.869934   2024-09-28 11:25:47+00:00   \n1          41.675820            2.794698   2024-09-28 12:05:23+00:00   \n2          41.360992            2.128997   2024-09-28 11:16:59+00:00   \n3          40.459340           -3.781351   2024-09-28 11:54:08+00:00   \n4          40.402916           -3.786705   2024-09-28 11:40:08+00:00   \n\n       time_zone p_creation_date  \n0  Europe/Madrid      2024-09-28  \n1  Europe/Madrid      2024-09-28  \n2  Europe/Madrid      2024-09-28  \n3  Europe/Madrid      2024-09-28  \n4  Europe/Madrid      2024-09-28  ",
      "text/html": "<div>\n<style scoped>\n    .dataframe tbody tr th:only-of-type {\n        vertical-align: middle;\n    }\n\n    .dataframe tbody tr th {\n        vertical-align: top;\n    }\n\n    .dataframe thead th {\n        text-align: right;\n    }\n</style>\n<table border=\"1\" class=\"dataframe\">\n  <thead>\n    <tr style=\"text-align: right;\">\n      <th></th>\n      <th>country_code</th>\n      <th>city_code</th>\n      <th>order_id</th>\n      <th>courier_id</th>\n      <th>creation_timestamp</th>\n      <th>activation_timestamp</th>\n      <th>transport</th>\n      <th>pickup_timestamp</th>\n      <th>delivery_timestamp</th>\n      <th>pickup_latitude</th>\n      <th>pickup_longitude</th>\n      <th>delivery_latitude</th>\n      <th>delivery_longitude</th>\n      <th>delivery_entering_timestamp</th>\n      <th>time_zone</th>\n      <th>p_creation_date</th>\n    </tr>\n  </thead>\n  <tbody>\n    <tr>\n      <th>0</th>\n      <td>ES</td>\n      <td>ZAR</td>\n      <td>100894902837</td>\n      <td>175840697</td>\n      <td>2024-09-28 11:08:38+00:00</td>\n      <td>2024-09-28 11:08:41+00:00</td>\n      <td>MOTORBIKE</td>\n      <td>2024-09-28 11:17:58.096000+00:00</td>\n      <td>2024-09-28 11:31:17+00:00</td>\n      <td>41.648980</td>\n      <td>-0.877411</td>\n      <td>41.653435</td>\n      <td>-0.869934</td>\n      <td>2024-09-28 11:25:47+00:00</td>\n      <td>Europe/Madrid</td>\n      <td>2024-09-28</td>\n    </tr>\n    <tr>\n      <th>1</th>\n      <td>ES</td>\n      <td>CAL</td>\n      <td>100894903481</td>\n      <td>168755278</td>\n      <td>2024-09-28 11:09:02+00:00</td>\n      <td>2024-09-28 11:38:48+00:00</td>\n      <td>MOTORBIKE</td>\n      <td>2024-09-28 12:01:07.283000+00:00</td>\n      <td>2024-09-28 12:08:46+00:00</td>\n      <td>41.675400</td>\n      <td>2.789956</td>\n      <td>41.675820</td>\n      <td>2.794698</td>\n      <td>2024-09-28 12:05:23+00:00</td>\n      <td>Europe/Madrid</td>\n      <td>2024-09-28</td>\n    </tr>\n    <tr>\n      <th>2</th>\n      <td>ES</td>\n      <td>BCN</td>\n      <td>100894905484</td>\n      <td>146788592</td>\n      <td>2024-09-28 11:10:20+00:00</td>\n      <td>2024-09-28 11:10:21+00:00</td>\n      <td>MOTORBIKE</td>\n      <td>2024-09-28 11:14:32.118000+00:00</td>\n      <td>2024-09-28 11:19:04+00:00</td>\n      <td>41.357388</td>\n      <td>2.127895</td>\n      <td>41.360992</td>\n      <td>2.128997</td>\n      <td>2024-09-28 11:16:59+00:00</td>\n      <td>Europe/Madrid</td>\n      <td>2024-09-28</td>\n    </tr>\n    <tr>\n      <th>3</th>\n      <td>ES</td>\n      <td>NOM</td>\n      <td>100894909339</td>\n      <td>167720126</td>\n      <td>2024-09-28 11:12:44+00:00</td>\n      <td>2024-09-28 11:12:44+00:00</td>\n      <td>CAR</td>\n      <td>2024-09-28 11:44:13.154000+00:00</td>\n      <td>2024-09-28 11:58:59+00:00</td>\n      <td>40.439137</td>\n      <td>-3.792211</td>\n      <td>40.459340</td>\n      <td>-3.781351</td>\n      <td>2024-09-28 11:54:08+00:00</td>\n      <td>Europe/Madrid</td>\n      <td>2024-09-28</td>\n    </tr>\n    <tr>\n      <th>4</th>\n      <td>ES</td>\n      <td>NOM</td>\n      <td>100894914820</td>\n      <td>176602268</td>\n      <td>2024-09-28 11:16:03+00:00</td>\n      <td>2024-09-28 11:16:04+00:00</td>\n      <td>CAR</td>\n      <td>2024-09-28 11:31:20.290000+00:00</td>\n      <td>2024-09-28 11:42:54+00:00</td>\n      <td>40.436962</td>\n      <td>-3.796514</td>\n      <td>40.402916</td>\n      <td>-3.786705</td>\n      <td>2024-09-28 11:40:08+00:00</td>\n      <td>Europe/Madrid</td>\n      <td>2024-09-28</td>\n    </tr>\n  </tbody>\n</table>\n</div>"
     },
     "execution_count": 5,
     "metadata": {},
     "output_type": "execute_result"
    }
   ],
   "source": [
    "query_name = '''\n",
    "SELECT\n",
    "    olf.country_code                                 AS country_code,\n",
    "    olf.city_code                                    AS city_code,\n",
    "    olf.order_id                                     AS order_id,\n",
    "    olf.courier_id                                   AS courier_id,\n",
    "    olf.order_created_local_datetime                 AS creation_timestamp,\n",
    "    olf.order_activated_local_datetime               AS activation_timestamp,\n",
    "    olf.courier_transport                            AS transport,\n",
    "    olf.order_picked_up_local_datetime               AS pickup_timestamp,\n",
    "    olf.order_delivered_local_datetime               AS delivery_timestamp,\n",
    "    olf.order_pickup_latitude                        AS pickup_latitude,\n",
    "    olf.order_pickup_longitude                       AS pickup_longitude,\n",
    "    olf.order_delivery_latitude                      AS delivery_latitude,\n",
    "    olf.order_delivery_longitude                     AS delivery_longitude,\n",
    "    olf.order_arrival_to_delivery_local_datetime     AS delivery_entering_timestamp,\n",
    "    olf.order_time_zone                              AS time_zone,\n",
    "    olf.p_creation_date\n",
    "FROM delta.courier_routing_courier_ml_features_odp.order_level_features AS olf\n",
    "WHERE order_final_status = 'DeliveredStatus'\n",
    "    AND order_number_of_assignments = 1\n",
    "    AND order_bundle_index IS NULL\n",
    "    AND p_creation_date >= DATE '[start_date]' AND p_creation_date < DATE '[end_date]'\n",
    "    AND country_code IN ('[country_code]')\n",
    "'''\n",
    "\n",
    "query = qr.Query(base_query_path, query_name, datalake_connection, parameters_dict=parameters, query_from_file = False)\n",
    "\n",
    "df = query.run()\n",
    "df = df.fillna(value=np.nan)\n",
    "\n",
    "data = df.copy()\n",
    "data.head()"
   ],
   "metadata": {
    "collapsed": false,
    "ExecuteTime": {
     "end_time": "2024-10-21T13:27:47.121944Z",
     "start_time": "2024-10-21T13:26:02.225244Z"
    }
   },
   "id": "1de21fec65a3d1b1",
   "execution_count": 5
  },
  {
   "cell_type": "markdown",
   "source": [
    "## Clean the dataset"
   ],
   "metadata": {
    "collapsed": false
   },
   "id": "cb60e56ce9b31a2"
  },
  {
   "cell_type": "code",
   "outputs": [
    {
     "name": "stdout",
     "output_type": "stream",
     "text": [
      "<class 'pandas.core.frame.DataFrame'>\n",
      "Index: 1536205 entries, 0 to 36204\n",
      "Data columns (total 16 columns):\n",
      " #   Column                       Non-Null Count    Dtype              \n",
      "---  ------                       --------------    -----              \n",
      " 0   country_code                 1536205 non-null  object             \n",
      " 1   city_code                    1536205 non-null  object             \n",
      " 2   order_id                     1536205 non-null  int64              \n",
      " 3   courier_id                   1536205 non-null  int64              \n",
      " 4   creation_timestamp           1536205 non-null  datetime64[ns, UTC]\n",
      " 5   activation_timestamp         1536205 non-null  datetime64[ns, UTC]\n",
      " 6   transport                    1536205 non-null  object             \n",
      " 7   pickup_timestamp             1535647 non-null  datetime64[ns, UTC]\n",
      " 8   delivery_timestamp           1536205 non-null  datetime64[ns, UTC]\n",
      " 9   pickup_latitude              1536205 non-null  float64            \n",
      " 10  pickup_longitude             1536205 non-null  float64            \n",
      " 11  delivery_latitude            1536205 non-null  float64            \n",
      " 12  delivery_longitude           1536205 non-null  float64            \n",
      " 13  delivery_entering_timestamp  1502259 non-null  datetime64[ns, UTC]\n",
      " 14  time_zone                    1536205 non-null  object             \n",
      " 15  p_creation_date              1536205 non-null  object             \n",
      "dtypes: datetime64[ns, UTC](5), float64(4), int64(2), object(5)\n",
      "memory usage: 199.2+ MB\n"
     ]
    }
   ],
   "source": [
    "data.info()"
   ],
   "metadata": {
    "collapsed": false,
    "ExecuteTime": {
     "end_time": "2024-10-21T13:27:47.658644Z",
     "start_time": "2024-10-21T13:27:47.116496Z"
    }
   },
   "id": "3269019e5c025a9d",
   "execution_count": 6
  },
  {
   "cell_type": "code",
   "outputs": [
    {
     "data": {
      "text/plain": "           order_id    courier_id  pickup_latitude  pickup_longitude  \\\ncount  1.536205e+06  1.536205e+06     1.536205e+06      1.536205e+06   \nmean   1.008989e+11  1.308424e+08     3.979646e+01     -2.437437e+00   \nstd    8.173440e+06  5.069962e+07     3.270964e+00      4.486772e+00   \nmin    1.008847e+11  1.160000e+04     2.773856e+01     -1.778775e+01   \n25%    1.008919e+11  1.079144e+08     3.946703e+01     -3.810658e+00   \n50%    1.008987e+11  1.549434e+08     4.046509e+01     -2.994206e+00   \n75%    1.009062e+11  1.687019e+08     4.141026e+01      2.081995e+00   \nmax    1.009129e+11  1.789302e+08     4.357925e+01      4.290346e+00   \n\n       delivery_latitude  delivery_longitude  \ncount       1.536205e+06        1.536205e+06  \nmean        3.979665e+01       -2.437684e+00  \nstd         3.270975e+00        4.486684e+00  \nmin         2.773566e+01       -1.779950e+01  \n25%         3.946503e+01       -3.814944e+00  \n50%         4.046810e+01       -2.994632e+00  \n75%         4.141481e+01        2.078547e+00  \nmax         4.358983e+01        4.297597e+00  ",
      "text/html": "<div>\n<style scoped>\n    .dataframe tbody tr th:only-of-type {\n        vertical-align: middle;\n    }\n\n    .dataframe tbody tr th {\n        vertical-align: top;\n    }\n\n    .dataframe thead th {\n        text-align: right;\n    }\n</style>\n<table border=\"1\" class=\"dataframe\">\n  <thead>\n    <tr style=\"text-align: right;\">\n      <th></th>\n      <th>order_id</th>\n      <th>courier_id</th>\n      <th>pickup_latitude</th>\n      <th>pickup_longitude</th>\n      <th>delivery_latitude</th>\n      <th>delivery_longitude</th>\n    </tr>\n  </thead>\n  <tbody>\n    <tr>\n      <th>count</th>\n      <td>1.536205e+06</td>\n      <td>1.536205e+06</td>\n      <td>1.536205e+06</td>\n      <td>1.536205e+06</td>\n      <td>1.536205e+06</td>\n      <td>1.536205e+06</td>\n    </tr>\n    <tr>\n      <th>mean</th>\n      <td>1.008989e+11</td>\n      <td>1.308424e+08</td>\n      <td>3.979646e+01</td>\n      <td>-2.437437e+00</td>\n      <td>3.979665e+01</td>\n      <td>-2.437684e+00</td>\n    </tr>\n    <tr>\n      <th>std</th>\n      <td>8.173440e+06</td>\n      <td>5.069962e+07</td>\n      <td>3.270964e+00</td>\n      <td>4.486772e+00</td>\n      <td>3.270975e+00</td>\n      <td>4.486684e+00</td>\n    </tr>\n    <tr>\n      <th>min</th>\n      <td>1.008847e+11</td>\n      <td>1.160000e+04</td>\n      <td>2.773856e+01</td>\n      <td>-1.778775e+01</td>\n      <td>2.773566e+01</td>\n      <td>-1.779950e+01</td>\n    </tr>\n    <tr>\n      <th>25%</th>\n      <td>1.008919e+11</td>\n      <td>1.079144e+08</td>\n      <td>3.946703e+01</td>\n      <td>-3.810658e+00</td>\n      <td>3.946503e+01</td>\n      <td>-3.814944e+00</td>\n    </tr>\n    <tr>\n      <th>50%</th>\n      <td>1.008987e+11</td>\n      <td>1.549434e+08</td>\n      <td>4.046509e+01</td>\n      <td>-2.994206e+00</td>\n      <td>4.046810e+01</td>\n      <td>-2.994632e+00</td>\n    </tr>\n    <tr>\n      <th>75%</th>\n      <td>1.009062e+11</td>\n      <td>1.687019e+08</td>\n      <td>4.141026e+01</td>\n      <td>2.081995e+00</td>\n      <td>4.141481e+01</td>\n      <td>2.078547e+00</td>\n    </tr>\n    <tr>\n      <th>max</th>\n      <td>1.009129e+11</td>\n      <td>1.789302e+08</td>\n      <td>4.357925e+01</td>\n      <td>4.290346e+00</td>\n      <td>4.358983e+01</td>\n      <td>4.297597e+00</td>\n    </tr>\n  </tbody>\n</table>\n</div>"
     },
     "execution_count": 7,
     "metadata": {},
     "output_type": "execute_result"
    }
   ],
   "source": [
    "data.describe()"
   ],
   "metadata": {
    "collapsed": false,
    "ExecuteTime": {
     "end_time": "2024-10-21T13:27:47.955387Z",
     "start_time": "2024-10-21T13:27:47.643851Z"
    }
   },
   "id": "4ad7421cf883f255",
   "execution_count": 7
  },
  {
   "cell_type": "code",
   "outputs": [
    {
     "data": {
      "text/plain": "country_code                       0\ncity_code                          0\norder_id                           0\ncourier_id                         0\ncreation_timestamp                 0\nactivation_timestamp               0\ntransport                          0\npickup_timestamp                 558\ndelivery_timestamp                 0\npickup_latitude                    0\npickup_longitude                   0\ndelivery_latitude                  0\ndelivery_longitude                 0\ndelivery_entering_timestamp    33946\ntime_zone                          0\np_creation_date                    0\ndtype: int64"
     },
     "execution_count": 8,
     "metadata": {},
     "output_type": "execute_result"
    }
   ],
   "source": [
    "# Check for missing values\n",
    "data.isnull().sum()"
   ],
   "metadata": {
    "collapsed": false,
    "ExecuteTime": {
     "end_time": "2024-10-21T13:27:48.365996Z",
     "start_time": "2024-10-21T13:27:47.950678Z"
    }
   },
   "id": "1df8f7cd6a104940",
   "execution_count": 8
  },
  {
   "cell_type": "code",
   "outputs": [],
   "source": [
    "# Remove rows with null values: we have 1.5 M rows, so we can afford to remove them\n",
    "data = data.dropna()"
   ],
   "metadata": {
    "collapsed": false,
    "ExecuteTime": {
     "end_time": "2024-10-21T13:27:49.119291Z",
     "start_time": "2024-10-21T13:27:48.360520Z"
    }
   },
   "id": "21a2d084be3ddfe8",
   "execution_count": 9
  },
  {
   "cell_type": "code",
   "outputs": [
    {
     "data": {
      "text/plain": "country_code                   0\ncity_code                      0\norder_id                       0\ncourier_id                     0\ncreation_timestamp             0\nactivation_timestamp           0\ntransport                      0\npickup_timestamp               0\ndelivery_timestamp             0\npickup_latitude                0\npickup_longitude               0\ndelivery_latitude              0\ndelivery_longitude             0\ndelivery_entering_timestamp    0\ntime_zone                      0\np_creation_date                0\ndtype: int64"
     },
     "execution_count": 10,
     "metadata": {},
     "output_type": "execute_result"
    }
   ],
   "source": [
    "# Check for missing values\n",
    "data.isnull().sum()"
   ],
   "metadata": {
    "collapsed": false,
    "ExecuteTime": {
     "end_time": "2024-10-21T13:27:49.546148Z",
     "start_time": "2024-10-21T13:27:49.105569Z"
    }
   },
   "id": "fea941235b67758e",
   "execution_count": 10
  },
  {
   "cell_type": "code",
   "outputs": [
    {
     "data": {
      "text/plain": "np.int64(0)"
     },
     "execution_count": 11,
     "metadata": {},
     "output_type": "execute_result"
    }
   ],
   "source": [
    "# Check for duplicates\n",
    "data.duplicated().sum()"
   ],
   "metadata": {
    "collapsed": false,
    "ExecuteTime": {
     "end_time": "2024-10-21T13:27:51.396393Z",
     "start_time": "2024-10-21T13:27:49.569267Z"
    }
   },
   "id": "83402ad003b2989e",
   "execution_count": 11
  },
  {
   "cell_type": "markdown",
   "source": [
    "## Compute new features"
   ],
   "metadata": {
    "collapsed": false
   },
   "id": "9be4b81e03b7586"
  },
  {
   "cell_type": "code",
   "outputs": [],
   "source": [
    "# Convert the creation time to datetime\n",
    "data['creation_timestamp'] = pd.to_datetime(data['creation_timestamp'])\n",
    "data['activation_timestamp'] = pd.to_datetime(data['activation_timestamp'])\n",
    "data['pickup_timestamp'] = pd.to_datetime(data['pickup_timestamp'])\n",
    "data['delivery_timestamp'] = pd.to_datetime(data['delivery_timestamp'])\n",
    "data['delivery_entering_timestamp'] = pd.to_datetime(data['delivery_entering_timestamp'])\n",
    "\n",
    "# Compute the delivery date and the delivery time\n",
    "data['creation_date'] = data['creation_timestamp'].dt.date\n",
    "data['creation_time'] = data['creation_timestamp'].dt.time\n",
    "data['creation_hour'] = data['creation_timestamp'].dt.hour"
   ],
   "metadata": {
    "collapsed": false,
    "ExecuteTime": {
     "end_time": "2024-10-21T13:27:52.273638Z",
     "start_time": "2024-10-21T13:27:51.402692Z"
    }
   },
   "id": "80163d0a54873861",
   "execution_count": 12
  },
  {
   "cell_type": "code",
   "outputs": [],
   "source": [
    "# Compute the distance between the pickup and delivery points\n",
    "data['pd_distance_haversine_m'] = data.apply(lambda x: haversine((x['pickup_latitude'], x['pickup_longitude']), (x['delivery_latitude'], x['delivery_longitude']), unit=Unit.METERS), axis=1)\n",
    "data['pd_distance_haversine_m_sk'] = data.apply(lambda x: haversine_distances(np.array([[x['pickup_latitude'], x['pickup_longitude']]]), np.array([[x['delivery_latitude'], x['delivery_longitude']]])), axis=1)\n",
    "data['pd_distance_manhattan_m'] = data.apply(lambda x: manhattan_distances(np.array([[x['pickup_latitude'], x['pickup_longitude']]]), np.array([[x['delivery_latitude'], x['delivery_longitude']]])), axis=1)\n",
    "data.head()"
   ],
   "metadata": {
    "collapsed": false,
    "is_executing": true,
    "ExecuteTime": {
     "start_time": "2024-10-21T13:27:52.274333Z"
    }
   },
   "id": "c1f7b9a860a43cc9",
   "execution_count": null
  },
  {
   "cell_type": "markdown",
   "source": [
    "## Save the dataset"
   ],
   "metadata": {
    "collapsed": false
   },
   "id": "5da7791843042776"
  },
  {
   "cell_type": "code",
   "outputs": [],
   "source": [
    "data.to_pickle(\"data/dataframe.pkl\")"
   ],
   "metadata": {
    "collapsed": false
   },
   "id": "55f903c48687f12a"
  },
  {
   "cell_type": "markdown",
   "source": [
    "## Exploratory Data Analysis (EDA)"
   ],
   "metadata": {
    "collapsed": false
   },
   "id": "9f700ca8f9a310ca"
  },
  {
   "cell_type": "code",
   "outputs": [],
   "source": [
    "data = pd.read_pickle(\"data/dataframe.pkl\")"
   ],
   "metadata": {
    "collapsed": false
   },
   "id": "ab3ddac391750ee8"
  },
  {
   "cell_type": "code",
   "outputs": [],
   "source": [
    "# Histogram of the # of data per day / hour\n",
    "plt.figure(figsize=(15, 8))\n",
    "plt.hist(data['creation_timestamp'], bins = 1000)\n",
    "plt.show()"
   ],
   "metadata": {
    "collapsed": false,
    "is_executing": true
   },
   "id": "71786bb2d8f08ad7",
   "execution_count": null
  },
  {
   "cell_type": "code",
   "outputs": [],
   "source": [
    "plt.figure(figsize=(15, 8))\n",
    "plt.hist(data['creation_date'], bins = 14)\n",
    "plt.show()"
   ],
   "metadata": {
    "collapsed": false,
    "is_executing": true
   },
   "id": "9b49b7bdfaf6dc14",
   "execution_count": null
  },
  {
   "cell_type": "code",
   "outputs": [],
   "source": [
    "plt.figure(figsize=(15, 8))\n",
    "plt.hist(data['creation_hour'])\n",
    "plt.show()"
   ],
   "metadata": {
    "collapsed": false,
    "is_executing": true
   },
   "id": "76b3fb2c7e172f38",
   "execution_count": null
  },
  {
   "cell_type": "code",
   "outputs": [],
   "source": [
    "# Check the distribution of the transport types\n",
    "data['transport'].value_counts()"
   ],
   "metadata": {
    "collapsed": false,
    "is_executing": true
   },
   "id": "e5d0cbff51d0870"
  },
  {
   "cell_type": "code",
   "outputs": [],
   "source": [
    "# Check the distribution of the distances\n",
    "plt.figure(figsize=(15, 8))\n",
    "plt.hist(data['pd_distance_haversine_m'], bins = 1000)\n",
    "plt.show()"
   ],
   "metadata": {
    "collapsed": false,
    "is_executing": true
   },
   "id": "47fa4556b397ea7b"
  },
  {
   "cell_type": "markdown",
   "source": [
    "## Hyperparameters"
   ],
   "metadata": {
    "collapsed": false
   },
   "id": "b4f24b33b07b58e9"
  },
  {
   "cell_type": "code",
   "outputs": [],
   "source": [
    "test_set_perc = 0.1\n",
    "#k_cv = 5"
   ],
   "metadata": {
    "collapsed": false,
    "is_executing": true
   },
   "id": "843f73749bdce7ee",
   "execution_count": null
  },
  {
   "cell_type": "markdown",
   "source": [
    "## Database split"
   ],
   "metadata": {
    "collapsed": false
   },
   "id": "3aed5934e3c1f8f"
  },
  {
   "cell_type": "code",
   "outputs": [],
   "source": [
    "X = data\n",
    "y = data['delivery_entering_timestamp'] - data['pickup_timestamp']\n",
    "y"
   ],
   "metadata": {
    "collapsed": false,
    "is_executing": true
   },
   "id": "2574aa199337f236",
   "execution_count": null
  },
  {
   "cell_type": "markdown",
   "source": [
    "As we are dealing with a time-series dataset (orders are placed at different times), we will split the data based on the creation timestamp, leaving out the last 10% of the data for testing. This will help to understand the performance of the model on unseen data, as in reality we will have to test the model on data created on day+1 with respect to our training data."
   ],
   "metadata": {
    "collapsed": false
   },
   "id": "fc1bd6034ee61016"
  },
  {
   "cell_type": "code",
   "outputs": [],
   "source": [
    "X.sort_values('creation_timestamp', inplace=True)\n",
    "X_train, X_test, y_train, y_test = train_test_split(X, y, test_size=test_set_perc, random_state=0)"
   ],
   "metadata": {
    "collapsed": false,
    "is_executing": true
   },
   "id": "62cf1844840c2240",
   "execution_count": null
  },
  {
   "cell_type": "code",
   "outputs": [],
   "source": [
    "X_train"
   ],
   "metadata": {
    "collapsed": false,
    "is_executing": true
   },
   "id": "fc0cc9098900ec66",
   "execution_count": null
  },
  {
   "cell_type": "code",
   "outputs": [],
   "source": [
    "y_train"
   ],
   "metadata": {
    "collapsed": false,
    "is_executing": true
   },
   "id": "578fea794feb9a3d"
  },
  {
   "cell_type": "code",
   "outputs": [],
   "source": [
    "print(X_train.shape, y_train.shape)\n",
    "print(X_test.shape, y_test.shape)"
   ],
   "metadata": {
    "collapsed": false,
    "is_executing": true
   },
   "id": "2e1aab43ff9f5211"
  },
  {
   "cell_type": "code",
   "outputs": [],
   "source": [
    "# In case we want to test different hyperparameters, we will use cross-validation\n",
    "#scores = cross_val_score(<estimator>, X, y, cv=k_cv)"
   ],
   "metadata": {
    "collapsed": false,
    "is_executing": true
   },
   "id": "fdc44e42fd992ca8"
  }
 ],
 "metadata": {
  "kernelspec": {
   "display_name": "Python 3",
   "language": "python",
   "name": "python3"
  },
  "language_info": {
   "codemirror_mode": {
    "name": "ipython",
    "version": 2
   },
   "file_extension": ".py",
   "mimetype": "text/x-python",
   "name": "python",
   "nbconvert_exporter": "python",
   "pygments_lexer": "ipython2",
   "version": "2.7.6"
  }
 },
 "nbformat": 4,
 "nbformat_minor": 5
}
