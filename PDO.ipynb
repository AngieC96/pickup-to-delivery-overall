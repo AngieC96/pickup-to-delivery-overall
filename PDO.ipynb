{
 "cells": [
  {
   "cell_type": "markdown",
   "source": [
    "# Pickup to Delivery Overall"
   ],
   "metadata": {
    "collapsed": false
   },
   "id": "24ad314bf282ec83"
  },
  {
   "cell_type": "code",
   "outputs": [],
   "source": [
    "import os\n",
    "import sys\n",
    "import warnings\n",
    "import pandas as pd\n",
    "import numpy as np\n",
    "import csv\n",
    "import pickle\n",
    "import matplotlib.pyplot as plt\n",
    "from haversine import haversine, Unit\n",
    "from sklearn.metrics.pairwise import haversine_distances, manhattan_distances\n",
    "from sklearn.model_selection import train_test_split, cross_val_score\n",
    "\n",
    "sys.path.insert(0, os.path.expanduser('./'))\n",
    "import query_runner as qr\n",
    "import utils\n",
    "from estimator import BaselineModel_sum, BaselineModel_mean, LinearModel"
   ],
   "metadata": {
    "collapsed": false,
    "ExecuteTime": {
     "end_time": "2024-11-06T08:52:06.064593Z",
     "start_time": "2024-11-06T08:52:02.889132Z"
    }
   },
   "id": "cb71195be0f3a22f",
   "execution_count": 34
  },
  {
   "cell_type": "code",
   "outputs": [],
   "source": [
    "base_query_path = './queries/'\n",
    "dwh_config, livedb_config, parameters_config = utils.load_config(config_file='./config.ini')\n",
    "datalake_connection = qr.create_connection(db='datalake')\n",
    "#monolith_connection = qr.create_connection(user=livedb_config['monolith_username'], password=livedb_config['monolith_password'], db='livedb')\n",
    "#dispatching_db_connection = qr.create_connection(user=livedb_config['dispatching_db_username'], password=livedb_config['dispatching_db_password'], db='dispatchingdb')"
   ],
   "metadata": {
    "collapsed": false,
    "ExecuteTime": {
     "end_time": "2024-11-06T08:52:06.069806Z",
     "start_time": "2024-11-06T08:52:06.063982Z"
    }
   },
   "id": "52eb5fbdb862edbe",
   "execution_count": 35
  },
  {
   "cell_type": "code",
   "outputs": [
    {
     "name": "stdout",
     "output_type": "stream",
     "text": [
      "Start date: 2024-09-30 | End date: 2024-10-20 | Countries: ES | Cities: 'MAD', 'BCN', 'SEV', 'ALC'\n"
     ]
    }
   ],
   "source": [
    "start_date = parameters_config['start_date']\n",
    "end_date = parameters_config['end_date']\n",
    "country_code = parameters_config['country_code']\n",
    "cities = parameters_config['cities']\n",
    "\n",
    "print(f'Start date: {start_date} | End date: {end_date} | Countries: {country_code} | Cities: {cities}')"
   ],
   "metadata": {
    "collapsed": false,
    "ExecuteTime": {
     "end_time": "2024-11-06T08:52:06.074543Z",
     "start_time": "2024-11-06T08:52:06.068972Z"
    }
   },
   "id": "f26eb0ba80de7f8e",
   "execution_count": 36
  },
  {
   "cell_type": "code",
   "outputs": [],
   "source": [
    "parameters = {\n",
    "    'start_date': start_date,\n",
    "    'end_date': end_date,\n",
    "    'country_code': country_code,\n",
    "    'cities': cities\n",
    "}"
   ],
   "metadata": {
    "collapsed": false,
    "ExecuteTime": {
     "end_time": "2024-11-06T08:52:06.088690Z",
     "start_time": "2024-11-06T08:52:06.073909Z"
    }
   },
   "id": "e3c251ccf4f2beb1",
   "execution_count": 37
  },
  {
   "cell_type": "markdown",
   "source": [
    "## Load the data"
   ],
   "metadata": {
    "collapsed": false
   },
   "id": "3c0d6dbf6375ce8"
  },
  {
   "cell_type": "code",
   "outputs": [
    {
     "name": "stdout",
     "output_type": "stream",
     "text": [
      "Open the following URL in browser for the external authentication:\n",
      "https://starburst.g8s-data-platform-prod.glovoint.com/oauth2/token/initiate/cae9087f033f52b2195a66567aeb0585150d7f541f6842b100c7145df9cec5e2\n"
     ]
    },
    {
     "data": {
      "text/plain": "  country_code city_code      order_id  courier_id        creation_timestamp  \\\n0           ES       BCN  100907487116     8590944 2024-10-03 20:55:02+00:00   \n1           ES       MAD  100907489425   162535288 2024-10-03 20:55:43+00:00   \n2           ES       BCN  100907493124   146788593 2024-10-03 20:56:48+00:00   \n3           ES       MAD  100907498582    45695767 2024-10-03 20:58:25+00:00   \n4           ES       MAD  100907503468   166385377 2024-10-03 20:59:51+00:00   \n\n       activation_timestamp  transport                 pickup_timestamp  \\\n0 2024-10-03 20:55:04+00:00    BICYCLE 2024-10-03 21:21:44.215000+00:00   \n1 2024-10-03 20:55:44+00:00    BICYCLE 2024-10-03 21:07:40.941000+00:00   \n2 2024-10-03 20:56:49+00:00    BICYCLE 2024-10-03 21:07:40.560000+00:00   \n3 2024-10-03 20:58:26+00:00  MOTORBIKE 2024-10-03 21:08:59.224000+00:00   \n4 2024-10-03 20:59:53+00:00  MOTORBIKE 2024-10-03 21:09:49.060000+00:00   \n\n  delivery_entering_timestamp        delivery_timestamp  pickup_latitude  \\\n0   2024-10-03 21:29:37+00:00 2024-10-03 21:32:33+00:00        41.370594   \n1   2024-10-03 21:16:09+00:00 2024-10-03 21:19:10+00:00        40.382927   \n2   2024-10-03 21:12:00+00:00 2024-10-03 21:14:30+00:00        41.389874   \n3   2024-10-03 21:11:21+00:00 2024-10-03 21:14:21+00:00        40.409720   \n4   2024-10-03 21:16:45+00:00 2024-10-03 21:20:30+00:00        40.433780   \n\n   pickup_longitude  delivery_latitude  delivery_longitude      time_zone  \\\n0          2.113433          41.375412            2.104837  Europe/Madrid   \n1         -3.626392          40.383490           -3.640969  Europe/Madrid   \n2          2.159761          41.390520            2.148718  Europe/Madrid   \n3         -3.670494          40.412880           -3.671840  Europe/Madrid   \n4         -3.683620          40.430176           -3.673502  Europe/Madrid   \n\n  p_creation_date  \n0      2024-10-03  \n1      2024-10-03  \n2      2024-10-03  \n3      2024-10-03  \n4      2024-10-03  ",
      "text/html": "<div>\n<style scoped>\n    .dataframe tbody tr th:only-of-type {\n        vertical-align: middle;\n    }\n\n    .dataframe tbody tr th {\n        vertical-align: top;\n    }\n\n    .dataframe thead th {\n        text-align: right;\n    }\n</style>\n<table border=\"1\" class=\"dataframe\">\n  <thead>\n    <tr style=\"text-align: right;\">\n      <th></th>\n      <th>country_code</th>\n      <th>city_code</th>\n      <th>order_id</th>\n      <th>courier_id</th>\n      <th>creation_timestamp</th>\n      <th>activation_timestamp</th>\n      <th>transport</th>\n      <th>pickup_timestamp</th>\n      <th>delivery_entering_timestamp</th>\n      <th>delivery_timestamp</th>\n      <th>pickup_latitude</th>\n      <th>pickup_longitude</th>\n      <th>delivery_latitude</th>\n      <th>delivery_longitude</th>\n      <th>time_zone</th>\n      <th>p_creation_date</th>\n    </tr>\n  </thead>\n  <tbody>\n    <tr>\n      <th>0</th>\n      <td>ES</td>\n      <td>BCN</td>\n      <td>100907487116</td>\n      <td>8590944</td>\n      <td>2024-10-03 20:55:02+00:00</td>\n      <td>2024-10-03 20:55:04+00:00</td>\n      <td>BICYCLE</td>\n      <td>2024-10-03 21:21:44.215000+00:00</td>\n      <td>2024-10-03 21:29:37+00:00</td>\n      <td>2024-10-03 21:32:33+00:00</td>\n      <td>41.370594</td>\n      <td>2.113433</td>\n      <td>41.375412</td>\n      <td>2.104837</td>\n      <td>Europe/Madrid</td>\n      <td>2024-10-03</td>\n    </tr>\n    <tr>\n      <th>1</th>\n      <td>ES</td>\n      <td>MAD</td>\n      <td>100907489425</td>\n      <td>162535288</td>\n      <td>2024-10-03 20:55:43+00:00</td>\n      <td>2024-10-03 20:55:44+00:00</td>\n      <td>BICYCLE</td>\n      <td>2024-10-03 21:07:40.941000+00:00</td>\n      <td>2024-10-03 21:16:09+00:00</td>\n      <td>2024-10-03 21:19:10+00:00</td>\n      <td>40.382927</td>\n      <td>-3.626392</td>\n      <td>40.383490</td>\n      <td>-3.640969</td>\n      <td>Europe/Madrid</td>\n      <td>2024-10-03</td>\n    </tr>\n    <tr>\n      <th>2</th>\n      <td>ES</td>\n      <td>BCN</td>\n      <td>100907493124</td>\n      <td>146788593</td>\n      <td>2024-10-03 20:56:48+00:00</td>\n      <td>2024-10-03 20:56:49+00:00</td>\n      <td>BICYCLE</td>\n      <td>2024-10-03 21:07:40.560000+00:00</td>\n      <td>2024-10-03 21:12:00+00:00</td>\n      <td>2024-10-03 21:14:30+00:00</td>\n      <td>41.389874</td>\n      <td>2.159761</td>\n      <td>41.390520</td>\n      <td>2.148718</td>\n      <td>Europe/Madrid</td>\n      <td>2024-10-03</td>\n    </tr>\n    <tr>\n      <th>3</th>\n      <td>ES</td>\n      <td>MAD</td>\n      <td>100907498582</td>\n      <td>45695767</td>\n      <td>2024-10-03 20:58:25+00:00</td>\n      <td>2024-10-03 20:58:26+00:00</td>\n      <td>MOTORBIKE</td>\n      <td>2024-10-03 21:08:59.224000+00:00</td>\n      <td>2024-10-03 21:11:21+00:00</td>\n      <td>2024-10-03 21:14:21+00:00</td>\n      <td>40.409720</td>\n      <td>-3.670494</td>\n      <td>40.412880</td>\n      <td>-3.671840</td>\n      <td>Europe/Madrid</td>\n      <td>2024-10-03</td>\n    </tr>\n    <tr>\n      <th>4</th>\n      <td>ES</td>\n      <td>MAD</td>\n      <td>100907503468</td>\n      <td>166385377</td>\n      <td>2024-10-03 20:59:51+00:00</td>\n      <td>2024-10-03 20:59:53+00:00</td>\n      <td>MOTORBIKE</td>\n      <td>2024-10-03 21:09:49.060000+00:00</td>\n      <td>2024-10-03 21:16:45+00:00</td>\n      <td>2024-10-03 21:20:30+00:00</td>\n      <td>40.433780</td>\n      <td>-3.683620</td>\n      <td>40.430176</td>\n      <td>-3.673502</td>\n      <td>Europe/Madrid</td>\n      <td>2024-10-03</td>\n    </tr>\n  </tbody>\n</table>\n</div>"
     },
     "execution_count": 38,
     "metadata": {},
     "output_type": "execute_result"
    }
   ],
   "source": [
    "query_name = '''\n",
    "SELECT\n",
    "    olf.country_code                                 AS country_code,\n",
    "    olf.city_code                                    AS city_code,\n",
    "    olf.order_id                                     AS order_id,\n",
    "    olf.courier_id                                   AS courier_id,\n",
    "    olf.order_created_local_datetime                 AS creation_timestamp,\n",
    "    olf.order_activated_local_datetime               AS activation_timestamp,\n",
    "    olf.courier_transport                            AS transport,\n",
    "    olf.order_picked_up_local_datetime               AS pickup_timestamp,\n",
    "    olf.order_arrival_to_delivery_local_datetime     AS delivery_entering_timestamp,\n",
    "    olf.order_delivered_local_datetime               AS delivery_timestamp,\n",
    "    olf.order_pickup_latitude                        AS pickup_latitude,\n",
    "    olf.order_pickup_longitude                       AS pickup_longitude,\n",
    "    olf.order_delivery_latitude                      AS delivery_latitude,\n",
    "    olf.order_delivery_longitude                     AS delivery_longitude,\n",
    "    olf.order_time_zone                              AS time_zone,\n",
    "    olf.p_creation_date\n",
    "FROM delta.courier_routing_courier_ml_features_odp.order_level_features AS olf\n",
    "WHERE order_final_status = 'DeliveredStatus'\n",
    "    AND order_number_of_assignments = 1\n",
    "    AND order_bundle_index IS NULL\n",
    "    AND p_creation_date >= DATE '[start_date]' AND p_creation_date < DATE '[end_date]'\n",
    "    AND country_code IN ('[country_code]')\n",
    "    AND city_code IN ([cities])\n",
    "'''\n",
    "\n",
    "query = qr.Query(base_query_path, query_name, datalake_connection, parameters_dict=parameters, query_from_file = False)\n",
    "\n",
    "df = query.run()\n",
    "df = df.fillna(value=np.nan)\n",
    "\n",
    "data = df.copy()\n",
    "data.head()"
   ],
   "metadata": {
    "collapsed": false,
    "ExecuteTime": {
     "end_time": "2024-11-06T08:53:32.696689Z",
     "start_time": "2024-11-06T08:52:06.078268Z"
    }
   },
   "id": "1de21fec65a3d1b1",
   "execution_count": 38
  },
  {
   "cell_type": "markdown",
   "source": [
    "## Clean the dataset"
   ],
   "metadata": {
    "collapsed": false
   },
   "id": "cb60e56ce9b31a2"
  },
  {
   "cell_type": "code",
   "outputs": [
    {
     "name": "stdout",
     "output_type": "stream",
     "text": [
      "<class 'pandas.core.frame.DataFrame'>\n",
      "Index: 987012 entries, 0 to 87011\n",
      "Data columns (total 16 columns):\n",
      " #   Column                       Non-Null Count   Dtype              \n",
      "---  ------                       --------------   -----              \n",
      " 0   country_code                 987012 non-null  object             \n",
      " 1   city_code                    987012 non-null  object             \n",
      " 2   order_id                     987012 non-null  int64              \n",
      " 3   courier_id                   987012 non-null  int64              \n",
      " 4   creation_timestamp           987012 non-null  datetime64[ns, UTC]\n",
      " 5   activation_timestamp         987012 non-null  datetime64[ns, UTC]\n",
      " 6   transport                    987012 non-null  object             \n",
      " 7   pickup_timestamp             986757 non-null  datetime64[ns, UTC]\n",
      " 8   delivery_entering_timestamp  972471 non-null  datetime64[ns, UTC]\n",
      " 9   delivery_timestamp           987012 non-null  datetime64[ns, UTC]\n",
      " 10  pickup_latitude              987012 non-null  float64            \n",
      " 11  pickup_longitude             987012 non-null  float64            \n",
      " 12  delivery_latitude            987012 non-null  float64            \n",
      " 13  delivery_longitude           987012 non-null  float64            \n",
      " 14  time_zone                    987012 non-null  object             \n",
      " 15  p_creation_date              987012 non-null  object             \n",
      "dtypes: datetime64[ns, UTC](5), float64(4), int64(2), object(5)\n",
      "memory usage: 128.0+ MB\n"
     ]
    }
   ],
   "source": [
    "data.info()"
   ],
   "metadata": {
    "collapsed": false,
    "ExecuteTime": {
     "end_time": "2024-11-06T08:53:33.017118Z",
     "start_time": "2024-11-06T08:53:32.691355Z"
    }
   },
   "id": "3269019e5c025a9d",
   "execution_count": 39
  },
  {
   "cell_type": "code",
   "outputs": [
    {
     "data": {
      "text/plain": "           order_id    courier_id  pickup_latitude  pickup_longitude  \\\ncount  9.870120e+05  9.870120e+05    987012.000000     987012.000000   \nmean   1.009222e+11  1.218706e+08        40.673782         -0.851254   \nstd    1.301628e+07  5.590163e+07         0.993792          3.003208   \nmin    1.008998e+11  1.127770e+05        37.282646         -6.085188   \n25%    1.009108e+11  7.241826e+07        40.426132         -3.690008   \n50%    1.009222e+11  1.482987e+08        40.530730         -0.483401   \n75%    1.009337e+11  1.670841e+08        41.393280          2.159965   \nmax    1.009444e+11  1.796540e+08        41.483086          2.268973   \n\n       delivery_latitude  delivery_longitude  \ncount      987012.000000       987012.000000  \nmean           40.674140           -0.851210  \nstd             0.993963            3.002620  \nmin            37.260975           -6.100339  \n25%            40.426205           -3.689353  \n50%            40.528835           -0.483956  \n75%            41.394840            2.159824  \nmax            41.562153            2.277824  ",
      "text/html": "<div>\n<style scoped>\n    .dataframe tbody tr th:only-of-type {\n        vertical-align: middle;\n    }\n\n    .dataframe tbody tr th {\n        vertical-align: top;\n    }\n\n    .dataframe thead th {\n        text-align: right;\n    }\n</style>\n<table border=\"1\" class=\"dataframe\">\n  <thead>\n    <tr style=\"text-align: right;\">\n      <th></th>\n      <th>order_id</th>\n      <th>courier_id</th>\n      <th>pickup_latitude</th>\n      <th>pickup_longitude</th>\n      <th>delivery_latitude</th>\n      <th>delivery_longitude</th>\n    </tr>\n  </thead>\n  <tbody>\n    <tr>\n      <th>count</th>\n      <td>9.870120e+05</td>\n      <td>9.870120e+05</td>\n      <td>987012.000000</td>\n      <td>987012.000000</td>\n      <td>987012.000000</td>\n      <td>987012.000000</td>\n    </tr>\n    <tr>\n      <th>mean</th>\n      <td>1.009222e+11</td>\n      <td>1.218706e+08</td>\n      <td>40.673782</td>\n      <td>-0.851254</td>\n      <td>40.674140</td>\n      <td>-0.851210</td>\n    </tr>\n    <tr>\n      <th>std</th>\n      <td>1.301628e+07</td>\n      <td>5.590163e+07</td>\n      <td>0.993792</td>\n      <td>3.003208</td>\n      <td>0.993963</td>\n      <td>3.002620</td>\n    </tr>\n    <tr>\n      <th>min</th>\n      <td>1.008998e+11</td>\n      <td>1.127770e+05</td>\n      <td>37.282646</td>\n      <td>-6.085188</td>\n      <td>37.260975</td>\n      <td>-6.100339</td>\n    </tr>\n    <tr>\n      <th>25%</th>\n      <td>1.009108e+11</td>\n      <td>7.241826e+07</td>\n      <td>40.426132</td>\n      <td>-3.690008</td>\n      <td>40.426205</td>\n      <td>-3.689353</td>\n    </tr>\n    <tr>\n      <th>50%</th>\n      <td>1.009222e+11</td>\n      <td>1.482987e+08</td>\n      <td>40.530730</td>\n      <td>-0.483401</td>\n      <td>40.528835</td>\n      <td>-0.483956</td>\n    </tr>\n    <tr>\n      <th>75%</th>\n      <td>1.009337e+11</td>\n      <td>1.670841e+08</td>\n      <td>41.393280</td>\n      <td>2.159965</td>\n      <td>41.394840</td>\n      <td>2.159824</td>\n    </tr>\n    <tr>\n      <th>max</th>\n      <td>1.009444e+11</td>\n      <td>1.796540e+08</td>\n      <td>41.483086</td>\n      <td>2.268973</td>\n      <td>41.562153</td>\n      <td>2.277824</td>\n    </tr>\n  </tbody>\n</table>\n</div>"
     },
     "execution_count": 40,
     "metadata": {},
     "output_type": "execute_result"
    }
   ],
   "source": [
    "data.describe()"
   ],
   "metadata": {
    "collapsed": false,
    "ExecuteTime": {
     "end_time": "2024-11-06T08:53:33.254199Z",
     "start_time": "2024-11-06T08:53:33.016488Z"
    }
   },
   "id": "4ad7421cf883f255",
   "execution_count": 40
  },
  {
   "cell_type": "code",
   "outputs": [
    {
     "data": {
      "text/plain": "country_code                       0\ncity_code                          0\norder_id                           0\ncourier_id                         0\ncreation_timestamp                 0\nactivation_timestamp               0\ntransport                          0\npickup_timestamp                 255\ndelivery_entering_timestamp    14541\ndelivery_timestamp                 0\npickup_latitude                    0\npickup_longitude                   0\ndelivery_latitude                  0\ndelivery_longitude                 0\ntime_zone                          0\np_creation_date                    0\ndtype: int64"
     },
     "execution_count": 41,
     "metadata": {},
     "output_type": "execute_result"
    }
   ],
   "source": [
    "# Check for missing values\n",
    "data.isnull().sum()"
   ],
   "metadata": {
    "collapsed": false,
    "ExecuteTime": {
     "end_time": "2024-11-06T08:53:33.553299Z",
     "start_time": "2024-11-06T08:53:33.251011Z"
    }
   },
   "id": "1df8f7cd6a104940",
   "execution_count": 41
  },
  {
   "cell_type": "code",
   "outputs": [
    {
     "data": {
      "text/plain": "np.int64(14796)"
     },
     "execution_count": 42,
     "metadata": {},
     "output_type": "execute_result"
    }
   ],
   "source": [
    "# print the number of null rows\n",
    "data.isnull().sum().sum()"
   ],
   "metadata": {
    "collapsed": false,
    "ExecuteTime": {
     "end_time": "2024-11-06T08:53:33.831943Z",
     "start_time": "2024-11-06T08:53:33.553382Z"
    }
   },
   "id": "4fc64e33e9ec8a4a",
   "execution_count": 42
  },
  {
   "cell_type": "code",
   "outputs": [],
   "source": [
    "# Remove rows with null values: we have many rows, so we can afford to remove them\n",
    "data.dropna(inplace=True)"
   ],
   "metadata": {
    "collapsed": false,
    "ExecuteTime": {
     "end_time": "2024-11-06T08:53:34.240535Z",
     "start_time": "2024-11-06T08:53:33.835807Z"
    }
   },
   "id": "21a2d084be3ddfe8",
   "execution_count": 43
  },
  {
   "cell_type": "code",
   "outputs": [
    {
     "data": {
      "text/plain": "country_code                   0\ncity_code                      0\norder_id                       0\ncourier_id                     0\ncreation_timestamp             0\nactivation_timestamp           0\ntransport                      0\npickup_timestamp               0\ndelivery_entering_timestamp    0\ndelivery_timestamp             0\npickup_latitude                0\npickup_longitude               0\ndelivery_latitude              0\ndelivery_longitude             0\ntime_zone                      0\np_creation_date                0\ndtype: int64"
     },
     "execution_count": 44,
     "metadata": {},
     "output_type": "execute_result"
    }
   ],
   "source": [
    "# Check for missing values\n",
    "data.isnull().sum()"
   ],
   "metadata": {
    "collapsed": false,
    "ExecuteTime": {
     "end_time": "2024-11-06T08:53:34.541511Z",
     "start_time": "2024-11-06T08:53:34.240405Z"
    }
   },
   "id": "fea941235b67758e",
   "execution_count": 44
  },
  {
   "cell_type": "code",
   "outputs": [
    {
     "data": {
      "text/plain": "np.int64(0)"
     },
     "execution_count": 45,
     "metadata": {},
     "output_type": "execute_result"
    }
   ],
   "source": [
    "# Check for duplicates\n",
    "data.duplicated().sum()"
   ],
   "metadata": {
    "collapsed": false,
    "ExecuteTime": {
     "end_time": "2024-11-06T08:53:35.777458Z",
     "start_time": "2024-11-06T08:53:34.558441Z"
    }
   },
   "id": "83402ad003b2989e",
   "execution_count": 45
  },
  {
   "cell_type": "markdown",
   "source": [
    "## Compute new features"
   ],
   "metadata": {
    "collapsed": false
   },
   "id": "9be4b81e03b7586"
  },
  {
   "cell_type": "code",
   "outputs": [],
   "source": [
    "# Convert the creation time to datetime\n",
    "data['creation_timestamp'] = pd.to_datetime(data['creation_timestamp'])\n",
    "data['activation_timestamp'] = pd.to_datetime(data['activation_timestamp'])\n",
    "data['pickup_timestamp'] = pd.to_datetime(data['pickup_timestamp'])\n",
    "data['delivery_timestamp'] = pd.to_datetime(data['delivery_timestamp'])\n",
    "data['delivery_entering_timestamp'] = pd.to_datetime(data['delivery_entering_timestamp'])\n",
    "\n",
    "# Compute the delivery date and the delivery time\n",
    "data['creation_date'] = data['creation_timestamp'].dt.date\n",
    "data['creation_time'] = data['creation_timestamp'].dt.time\n",
    "data['creation_hour'] = data['creation_timestamp'].dt.hour"
   ],
   "metadata": {
    "collapsed": false,
    "ExecuteTime": {
     "end_time": "2024-11-06T08:53:36.335276Z",
     "start_time": "2024-11-06T08:53:35.787575Z"
    }
   },
   "id": "80163d0a54873861",
   "execution_count": 46
  },
  {
   "cell_type": "markdown",
   "source": [
    "To determine whether a coordinate is in degrees or radians, you can consider the typical ranges and values for latitude and longitude:\n",
    "1. **Degrees:**\n",
    "   - Latitude ranges from -90 to 90 degrees.\n",
    "   - Longitude ranges from -180 to 180 degrees.\n",
    "   - Values are typically whole numbers or decimals within these ranges.\n",
    "2. **Radians:**\n",
    "   - Latitude and longitude in radians will range from approximately -π/2 to π/2 for latitude and -π to π for longitude.\n",
    "   - Values are typically small decimals (e.g., 0.5, 1.0, etc.).\n",
    "\n",
    "Given our dataset, as the values in the columns `pickup_latitude`, `pickup_longitude`, `delivery_latitude`, `delivery_longitude` fall within the typical range for degrees, it is safe to assume that these coordinates are in degrees.\n",
    "\n",
    "There is a difference in how the `haversine` library, the `sklearn`'s `haversine_distances`, and the `sklearn`'s `manhattan_distances` function compute and return the distances. Let's break down the differences and how to resolve them:\n",
    "1. **Haversine Library:**\n",
    "   - The `haversine` library directly computes the distance between two points and returns a single scalar value.\n",
    "2. **Sklearn's `haversine_distances`:**\n",
    "   - The `haversine_distances` function from `sklearn` returns a distance matrix. When you input two points, it returns a 1x1 matrix (a nested list) containing the distance. This is why you would see the result in squared parentheses like `[[]]`. We extract the single value using `[0][0]`.\n",
    "   - To use these coordinates with sklearn's `haversine_distances` function, you need to convert them to radians using `np.radians`.\n",
    "   - Additionally, the `haversine_distances` function returns the distance in radians, not in meters. To convert this to meters, you need to multiply by the Earth's radius (approximately 6371000 meters).\n",
    "3. **Sklearn's `manhattan_distances`:**\n",
    "   - The `manhattan_distances` function computes the Manhattan distance between two points and returns a distance matrix. We extract the single value from the 1x1 matrix using `[0][0]`.\n",
    "   - Additionally, the `manhattan_distances` function from sklearn computes the distance based on the Cartesian coordinates provided. Since latitude and longitude are angular measurements, the result will not be in meters but in degrees. To convert the Manhattan distance from degrees to meters, you need to account for the Earth's curvature. \n",
    "      - The conversion factor for latitude is approximately 111,320 meters per degree.\n",
    "      - The conversion factor for longitude varies based on the latitude. At the equator, it's approximately 111,320 meters per degree, but it decreases as you move towards the poles.\n",
    "      - Convert the latitude and longitude differences to meters.\n",
    "      - Sum the absolute differences to get the Manhattan distance in meters."
   ],
   "metadata": {
    "collapsed": false
   },
   "id": "7b6ea1be09344c80"
  },
  {
   "cell_type": "code",
   "outputs": [],
   "source": [
    "# Convert degrees to radians\n",
    "data['pickup_latitude_rad'] = np.radians(data['pickup_latitude'])\n",
    "data['pickup_longitude_rad'] = np.radians(data['pickup_longitude'])\n",
    "data['delivery_latitude_rad'] = np.radians(data['delivery_latitude'])\n",
    "data['delivery_longitude_rad'] = np.radians(data['delivery_longitude'])\n",
    "\n",
    "# Earth's radius in meters\n",
    "earth_radius_m = 6371.0088 * 1000  # average earth radius - https://en.wikipedia.org/wiki/Earth_radius#Mean_radius\n",
    "\n",
    "# Conversion factors\n",
    "meters_per_degree_lat = 111320  # Approximate meters per degree of latitude\n",
    "\n",
    "def manhattan_distance_in_meters(row):\n",
    "    # Convert latitude and longitude differences to meters\n",
    "    lat_diff_m = abs(row['pickup_latitude'] - row['delivery_latitude']) * meters_per_degree_lat\n",
    "    # Convert longitude difference to meters, considering the latitude\n",
    "    lon_diff_m = abs(row['pickup_longitude'] - row['delivery_longitude']) * meters_per_degree_lat * np.cos(np.radians((row['pickup_latitude'] + row['delivery_latitude']) / 2))\n",
    "    # Sum the absolute differences to get the Manhattan distance in meters\n",
    "    return lat_diff_m + lon_diff_m"
   ],
   "metadata": {
    "collapsed": false,
    "ExecuteTime": {
     "end_time": "2024-11-06T08:53:36.359336Z",
     "start_time": "2024-11-06T08:53:36.338120Z"
    }
   },
   "id": "808ab1bc4476de8a",
   "execution_count": 47
  },
  {
   "cell_type": "code",
   "outputs": [
    {
     "data": {
      "text/plain": "  country_code city_code      order_id  courier_id        creation_timestamp  \\\n0           ES       BCN  100907487116     8590944 2024-10-03 20:55:02+00:00   \n1           ES       MAD  100907489425   162535288 2024-10-03 20:55:43+00:00   \n2           ES       BCN  100907493124   146788593 2024-10-03 20:56:48+00:00   \n3           ES       MAD  100907498582    45695767 2024-10-03 20:58:25+00:00   \n4           ES       MAD  100907503468   166385377 2024-10-03 20:59:51+00:00   \n\n       activation_timestamp  transport                 pickup_timestamp  \\\n0 2024-10-03 20:55:04+00:00    BICYCLE 2024-10-03 21:21:44.215000+00:00   \n1 2024-10-03 20:55:44+00:00    BICYCLE 2024-10-03 21:07:40.941000+00:00   \n2 2024-10-03 20:56:49+00:00    BICYCLE 2024-10-03 21:07:40.560000+00:00   \n3 2024-10-03 20:58:26+00:00  MOTORBIKE 2024-10-03 21:08:59.224000+00:00   \n4 2024-10-03 20:59:53+00:00  MOTORBIKE 2024-10-03 21:09:49.060000+00:00   \n\n  delivery_entering_timestamp        delivery_timestamp  ...  creation_date  \\\n0   2024-10-03 21:29:37+00:00 2024-10-03 21:32:33+00:00  ...     2024-10-03   \n1   2024-10-03 21:16:09+00:00 2024-10-03 21:19:10+00:00  ...     2024-10-03   \n2   2024-10-03 21:12:00+00:00 2024-10-03 21:14:30+00:00  ...     2024-10-03   \n3   2024-10-03 21:11:21+00:00 2024-10-03 21:14:21+00:00  ...     2024-10-03   \n4   2024-10-03 21:16:45+00:00 2024-10-03 21:20:30+00:00  ...     2024-10-03   \n\n   creation_time  creation_hour  pickup_latitude_rad pickup_longitude_rad  \\\n0       20:55:02             20             0.722053             0.036886   \n1       20:55:43             20             0.704815            -0.063292   \n2       20:56:48             20             0.722390             0.037695   \n3       20:58:25             20             0.705283            -0.064062   \n4       20:59:51             20             0.705703            -0.064291   \n\n  delivery_latitude_rad delivery_longitude_rad pd_distance_haversine_m  \\\n0              0.722137               0.036736              895.267385   \n1              0.704825              -0.063547             1236.264251   \n2              0.722401               0.037502              924.017061   \n3              0.705338              -0.064086              369.394256   \n4              0.705640              -0.064115              945.506113   \n\n   pd_distance_haversine_m_sk  pd_distance_manhattan_m  \n0                  895.267385              1254.424177  \n1                 1236.264251              1298.738405  \n2                  924.017061               994.168407  \n3                  369.394256               465.858447  \n4                  945.506113              1258.537546  \n\n[5 rows x 26 columns]",
      "text/html": "<div>\n<style scoped>\n    .dataframe tbody tr th:only-of-type {\n        vertical-align: middle;\n    }\n\n    .dataframe tbody tr th {\n        vertical-align: top;\n    }\n\n    .dataframe thead th {\n        text-align: right;\n    }\n</style>\n<table border=\"1\" class=\"dataframe\">\n  <thead>\n    <tr style=\"text-align: right;\">\n      <th></th>\n      <th>country_code</th>\n      <th>city_code</th>\n      <th>order_id</th>\n      <th>courier_id</th>\n      <th>creation_timestamp</th>\n      <th>activation_timestamp</th>\n      <th>transport</th>\n      <th>pickup_timestamp</th>\n      <th>delivery_entering_timestamp</th>\n      <th>delivery_timestamp</th>\n      <th>...</th>\n      <th>creation_date</th>\n      <th>creation_time</th>\n      <th>creation_hour</th>\n      <th>pickup_latitude_rad</th>\n      <th>pickup_longitude_rad</th>\n      <th>delivery_latitude_rad</th>\n      <th>delivery_longitude_rad</th>\n      <th>pd_distance_haversine_m</th>\n      <th>pd_distance_haversine_m_sk</th>\n      <th>pd_distance_manhattan_m</th>\n    </tr>\n  </thead>\n  <tbody>\n    <tr>\n      <th>0</th>\n      <td>ES</td>\n      <td>BCN</td>\n      <td>100907487116</td>\n      <td>8590944</td>\n      <td>2024-10-03 20:55:02+00:00</td>\n      <td>2024-10-03 20:55:04+00:00</td>\n      <td>BICYCLE</td>\n      <td>2024-10-03 21:21:44.215000+00:00</td>\n      <td>2024-10-03 21:29:37+00:00</td>\n      <td>2024-10-03 21:32:33+00:00</td>\n      <td>...</td>\n      <td>2024-10-03</td>\n      <td>20:55:02</td>\n      <td>20</td>\n      <td>0.722053</td>\n      <td>0.036886</td>\n      <td>0.722137</td>\n      <td>0.036736</td>\n      <td>895.267385</td>\n      <td>895.267385</td>\n      <td>1254.424177</td>\n    </tr>\n    <tr>\n      <th>1</th>\n      <td>ES</td>\n      <td>MAD</td>\n      <td>100907489425</td>\n      <td>162535288</td>\n      <td>2024-10-03 20:55:43+00:00</td>\n      <td>2024-10-03 20:55:44+00:00</td>\n      <td>BICYCLE</td>\n      <td>2024-10-03 21:07:40.941000+00:00</td>\n      <td>2024-10-03 21:16:09+00:00</td>\n      <td>2024-10-03 21:19:10+00:00</td>\n      <td>...</td>\n      <td>2024-10-03</td>\n      <td>20:55:43</td>\n      <td>20</td>\n      <td>0.704815</td>\n      <td>-0.063292</td>\n      <td>0.704825</td>\n      <td>-0.063547</td>\n      <td>1236.264251</td>\n      <td>1236.264251</td>\n      <td>1298.738405</td>\n    </tr>\n    <tr>\n      <th>2</th>\n      <td>ES</td>\n      <td>BCN</td>\n      <td>100907493124</td>\n      <td>146788593</td>\n      <td>2024-10-03 20:56:48+00:00</td>\n      <td>2024-10-03 20:56:49+00:00</td>\n      <td>BICYCLE</td>\n      <td>2024-10-03 21:07:40.560000+00:00</td>\n      <td>2024-10-03 21:12:00+00:00</td>\n      <td>2024-10-03 21:14:30+00:00</td>\n      <td>...</td>\n      <td>2024-10-03</td>\n      <td>20:56:48</td>\n      <td>20</td>\n      <td>0.722390</td>\n      <td>0.037695</td>\n      <td>0.722401</td>\n      <td>0.037502</td>\n      <td>924.017061</td>\n      <td>924.017061</td>\n      <td>994.168407</td>\n    </tr>\n    <tr>\n      <th>3</th>\n      <td>ES</td>\n      <td>MAD</td>\n      <td>100907498582</td>\n      <td>45695767</td>\n      <td>2024-10-03 20:58:25+00:00</td>\n      <td>2024-10-03 20:58:26+00:00</td>\n      <td>MOTORBIKE</td>\n      <td>2024-10-03 21:08:59.224000+00:00</td>\n      <td>2024-10-03 21:11:21+00:00</td>\n      <td>2024-10-03 21:14:21+00:00</td>\n      <td>...</td>\n      <td>2024-10-03</td>\n      <td>20:58:25</td>\n      <td>20</td>\n      <td>0.705283</td>\n      <td>-0.064062</td>\n      <td>0.705338</td>\n      <td>-0.064086</td>\n      <td>369.394256</td>\n      <td>369.394256</td>\n      <td>465.858447</td>\n    </tr>\n    <tr>\n      <th>4</th>\n      <td>ES</td>\n      <td>MAD</td>\n      <td>100907503468</td>\n      <td>166385377</td>\n      <td>2024-10-03 20:59:51+00:00</td>\n      <td>2024-10-03 20:59:53+00:00</td>\n      <td>MOTORBIKE</td>\n      <td>2024-10-03 21:09:49.060000+00:00</td>\n      <td>2024-10-03 21:16:45+00:00</td>\n      <td>2024-10-03 21:20:30+00:00</td>\n      <td>...</td>\n      <td>2024-10-03</td>\n      <td>20:59:51</td>\n      <td>20</td>\n      <td>0.705703</td>\n      <td>-0.064291</td>\n      <td>0.705640</td>\n      <td>-0.064115</td>\n      <td>945.506113</td>\n      <td>945.506113</td>\n      <td>1258.537546</td>\n    </tr>\n  </tbody>\n</table>\n<p>5 rows × 26 columns</p>\n</div>"
     },
     "execution_count": 48,
     "metadata": {},
     "output_type": "execute_result"
    }
   ],
   "source": [
    "data['pd_distance_haversine_m'] = data.apply(\n",
    "    lambda x: haversine(\n",
    "        (x['pickup_latitude'], x['pickup_longitude']),\n",
    "        (x['delivery_latitude'], x['delivery_longitude']),\n",
    "        unit=Unit.METERS\n",
    "    ), axis=1\n",
    ")\n",
    "data['pd_distance_haversine_m_sk'] = data.apply(\n",
    "    lambda x: haversine_distances(\n",
    "        np.array([[x['pickup_latitude_rad'], x['pickup_longitude_rad']]]),\n",
    "        np.array([[x['delivery_latitude_rad'], x['delivery_longitude_rad']]])\n",
    "    )[0][0] * earth_radius_m, axis=1\n",
    ")\n",
    "data['pd_distance_manhattan_m'] = data.apply(manhattan_distance_in_meters, axis=1)\n",
    "data.head()"
   ],
   "metadata": {
    "collapsed": false,
    "ExecuteTime": {
     "end_time": "2024-11-06T08:57:27.285440Z",
     "start_time": "2024-11-06T08:53:36.436350Z"
    }
   },
   "id": "c93468fe8bc656f1",
   "execution_count": 48
  },
  {
   "cell_type": "code",
   "outputs": [
    {
     "data": {
      "text/plain": "np.int64(0)"
     },
     "execution_count": 49,
     "metadata": {},
     "output_type": "execute_result"
    }
   ],
   "source": [
    "# print the number of null rows\n",
    "data.isnull().sum().sum()"
   ],
   "metadata": {
    "collapsed": false,
    "ExecuteTime": {
     "end_time": "2024-11-06T08:57:27.642357Z",
     "start_time": "2024-11-06T08:57:27.284090Z"
    }
   },
   "id": "b6be2faf50c7f774",
   "execution_count": 49
  },
  {
   "cell_type": "markdown",
   "source": [
    "## Save the dataset"
   ],
   "metadata": {
    "collapsed": false
   },
   "id": "5da7791843042776"
  },
  {
   "cell_type": "raw",
   "source": [
    "data.to_pickle(\"data/dataframe.pkl\")"
   ],
   "metadata": {
    "collapsed": false
   },
   "id": "400dcfe4569bd3da"
  },
  {
   "cell_type": "markdown",
   "source": [
    "It's better to use the parquet format, as it is more efficient and faster to read and write. Besides, it is a columnar format, which is more suitable for analytical queries. We can also partition the data by creation date and city, which will help to speed up the queries and allows to analyze different timeframes and different cities if needed."
   ],
   "metadata": {
    "collapsed": false
   },
   "id": "2da57697f71fdf68"
  },
  {
   "cell_type": "code",
   "outputs": [],
   "source": [
    "data.to_parquet(\"data/dataframe.parquet\", index=False, partition_cols=['creation_date', 'city_code'])"
   ],
   "metadata": {
    "collapsed": false,
    "ExecuteTime": {
     "end_time": "2024-11-06T08:57:29.157175Z",
     "start_time": "2024-11-06T08:57:27.642732Z"
    }
   },
   "id": "4a357e3ed80c39b1",
   "execution_count": 50
  },
  {
   "cell_type": "markdown",
   "source": [
    "## Exploratory Data Analysis (EDA)"
   ],
   "metadata": {
    "collapsed": false
   },
   "id": "9f700ca8f9a310ca"
  },
  {
   "cell_type": "raw",
   "source": [
    "data = pd.read_pickle(\"data/dataframe.pkl\")"
   ],
   "metadata": {
    "collapsed": false
   },
   "id": "f459d6342f561915"
  },
  {
   "cell_type": "code",
   "outputs": [],
   "source": [
    "data = pd.read_parquet(\"data/dataframe.parquet\")"
   ],
   "metadata": {
    "collapsed": false,
    "ExecuteTime": {
     "end_time": "2024-11-06T08:57:33.643436Z",
     "start_time": "2024-11-06T08:57:29.159826Z"
    }
   },
   "id": "5ecce593d1c02912",
   "execution_count": 51
  },
  {
   "cell_type": "code",
   "outputs": [
    {
     "data": {
      "text/plain": "<Figure size 1500x800 with 1 Axes>",
      "image/png": "[encoded data removed]"
     },
     "metadata": {},
     "output_type": "display_data"
    }
   ],
   "source": [
    "# Histogram of the # of data per day / hour\n",
    "plt.figure(figsize=(15, 8))\n",
    "plt.hist(data['creation_timestamp'], bins = 1000)\n",
    "plt.title('Histogram of the # of data per day / hour')\n",
    "plt.xlabel('Day / Hour')\n",
    "plt.ylabel('Frequency')\n",
    "plt.show()"
   ],
   "metadata": {
    "collapsed": false,
    "ExecuteTime": {
     "end_time": "2024-11-06T08:58:51.528945Z",
     "start_time": "2024-11-06T08:57:33.648360Z"
    }
   },
   "id": "71786bb2d8f08ad7",
   "execution_count": 52
  },
  {
   "cell_type": "code",
   "outputs": [
    {
     "data": {
      "text/plain": "<Figure size 1500x800 with 1 Axes>",
      "image/png": "[encoded data removed]"
     },
     "metadata": {},
     "output_type": "display_data"
    }
   ],
   "source": [
    "plt.figure(figsize=(15, 8))\n",
    "plt.hist(data['creation_date'], bins = 14)\n",
    "plt.title('Histogram of the # of data per day')\n",
    "plt.xlabel('Day')\n",
    "plt.ylabel('Frequency')\n",
    "plt.show()"
   ],
   "metadata": {
    "collapsed": false,
    "ExecuteTime": {
     "end_time": "2024-11-06T08:58:53.492667Z",
     "start_time": "2024-11-06T08:58:51.532553Z"
    }
   },
   "id": "9b49b7bdfaf6dc14",
   "execution_count": 53
  },
  {
   "cell_type": "code",
   "outputs": [
    {
     "data": {
      "text/plain": "<Figure size 1500x800 with 1 Axes>",
      "image/png": "[encoded data removed]"
     },
     "metadata": {},
     "output_type": "display_data"
    }
   ],
   "source": [
    "plt.figure(figsize=(15, 8))\n",
    "plt.hist(data['creation_hour'])\n",
    "plt.title('Histogram of the # of data per hour')\n",
    "plt.xlabel('Hour')\n",
    "plt.ylabel('Frequency')\n",
    "plt.show()"
   ],
   "metadata": {
    "collapsed": false,
    "ExecuteTime": {
     "end_time": "2024-11-06T08:58:53.771304Z",
     "start_time": "2024-11-06T08:58:53.501300Z"
    }
   },
   "id": "76b3fb2c7e172f38",
   "execution_count": 54
  },
  {
   "cell_type": "code",
   "outputs": [
    {
     "data": {
      "text/plain": "transport\nBICYCLE      3690360\nMOTORBIKE    3144808\nCAR           940736\nWALKER          3864\nName: count, dtype: int64"
     },
     "execution_count": 55,
     "metadata": {},
     "output_type": "execute_result"
    }
   ],
   "source": [
    "# Check the distribution of the transport types\n",
    "data['transport'].value_counts()"
   ],
   "metadata": {
    "collapsed": false,
    "ExecuteTime": {
     "end_time": "2024-11-06T08:58:54.093205Z",
     "start_time": "2024-11-06T08:58:54.090096Z"
    }
   },
   "id": "e5d0cbff51d0870",
   "execution_count": 55
  },
  {
   "cell_type": "code",
   "outputs": [
    {
     "data": {
      "text/plain": "<Figure size 1500x800 with 1 Axes>",
      "image/png": "[encoded data removed]"
     },
     "metadata": {},
     "output_type": "display_data"
    }
   ],
   "source": [
    "# Check the distribution of the distances\n",
    "plt.figure(figsize=(15, 8))\n",
    "plt.hist(data['pd_distance_haversine_m'], bins = 1000)\n",
    "plt.xlim(0, 10000)\n",
    "plt.title('Histogram of the distances')\n",
    "plt.xlabel('Distance (m)')\n",
    "plt.ylabel('Frequency')\n",
    "plt.show()"
   ],
   "metadata": {
    "collapsed": false,
    "ExecuteTime": {
     "end_time": "2024-11-06T08:58:55.111049Z",
     "start_time": "2024-11-06T08:58:54.103893Z"
    }
   },
   "id": "47fa4556b397ea7b",
   "execution_count": 56
  },
  {
   "cell_type": "markdown",
   "source": [
    "## Hyperparameters"
   ],
   "metadata": {
    "collapsed": false
   },
   "id": "b4f24b33b07b58e9"
  },
  {
   "cell_type": "code",
   "outputs": [],
   "source": [
    "test_set_perc = 0.1\n",
    "days_for_test = 7\n",
    "k_cv = 5"
   ],
   "metadata": {
    "collapsed": false,
    "ExecuteTime": {
     "end_time": "2024-11-06T08:58:55.115566Z",
     "start_time": "2024-11-06T08:58:55.111936Z"
    }
   },
   "id": "843f73749bdce7ee",
   "execution_count": 57
  },
  {
   "cell_type": "markdown",
   "source": [
    "## Database split"
   ],
   "metadata": {
    "collapsed": false
   },
   "id": "3aed5934e3c1f8f"
  },
  {
   "cell_type": "code",
   "outputs": [
    {
     "data": {
      "text/plain": "4806.0    0 days 00:07:39.308000\n4811.0    0 days 00:03:08.860000\n4850.0    0 days 00:04:44.029000\n4906.0    0 days 00:10:23.377000\n4912.0    0 days 00:08:29.043000\n                   ...          \n68825.0   0 days 00:02:30.065000\n69405.0   0 days 00:09:18.499000\n69964.0   0 days 00:12:22.575000\n70230.0   0 days 00:13:06.619000\n70533.0   0 days 00:03:14.149000\nName: pickup_to_delivery, Length: 7779768, dtype: timedelta64[ns]"
     },
     "execution_count": 58,
     "metadata": {},
     "output_type": "execute_result"
    }
   ],
   "source": [
    "X = data\n",
    "y = data['delivery_entering_timestamp'] - data['pickup_timestamp']\n",
    "y = pd.Series(y, name='pickup_to_delivery')\n",
    "y"
   ],
   "metadata": {
    "collapsed": false,
    "ExecuteTime": {
     "end_time": "2024-11-06T08:58:55.358915Z",
     "start_time": "2024-11-06T08:58:55.113767Z"
    }
   },
   "id": "2574aa199337f236",
   "execution_count": 58
  },
  {
   "cell_type": "markdown",
   "source": [
    "As we are dealing with a time-series dataset (orders are placed at different times), we will split the data based on the creation timestamp, leaving out the last 10% of the data for testing. This will help to understand the performance of the model on unseen data, as in reality we will have to test the model on data created on day+1 with respect to our training data."
   ],
   "metadata": {
    "collapsed": false
   },
   "id": "fc1bd6034ee61016"
  },
  {
   "cell_type": "code",
   "outputs": [],
   "source": [
    "X.sort_values('creation_timestamp', inplace=True)\n",
    "X_train, X_test, y_train, y_test = train_test_split(X, y, test_size=test_set_perc, random_state=0)"
   ],
   "metadata": {
    "collapsed": false,
    "ExecuteTime": {
     "end_time": "2024-11-06T08:59:05.348378Z",
     "start_time": "2024-11-06T08:58:55.202337Z"
    }
   },
   "id": "62cf1844840c2240",
   "execution_count": 59
  },
  {
   "cell_type": "code",
   "outputs": [
    {
     "data": {
      "text/plain": "        country_code      order_id  courier_id        creation_timestamp  \\\nNaN               ES  100912945341    82116848 2024-10-06 04:39:51+00:00   \n18878.0           ES  100907445811   108374116 2024-10-03 20:43:09+00:00   \nNaN               ES  100936177156   134731488 2024-10-16 16:30:55+00:00   \nNaN               ES  100942773602   160541528 2024-10-19 15:23:48+00:00   \n71594.0           ES  100918548292    31382174 2024-10-08 17:46:44+00:00   \n...              ...           ...         ...                       ...   \n135.0             ES  100912560380   155116258 2024-10-05 21:47:58+00:00   \n62153.0           ES  100929677286    92118362 2024-10-13 15:16:20+00:00   \n5928.0            ES  100912376936     5210543 2024-10-05 21:04:08+00:00   \n75818.0           ES  100908284873   162934084 2024-10-04 12:31:17+00:00   \n43766.0           ES  100925625274   179060334 2024-10-11 21:16:37+00:00   \n\n             activation_timestamp  transport                 pickup_timestamp  \\\nNaN     2024-10-06 04:39:52+00:00  MOTORBIKE 2024-10-06 04:54:06.033000+00:00   \n18878.0 2024-10-03 20:43:10+00:00        CAR 2024-10-03 20:58:26.182000+00:00   \nNaN     2024-10-16 16:30:56+00:00  MOTORBIKE 2024-10-16 16:38:29.143000+00:00   \nNaN     2024-10-19 15:23:49+00:00    BICYCLE 2024-10-19 15:35:59.329000+00:00   \n71594.0 2024-10-08 17:46:45+00:00    BICYCLE 2024-10-08 17:52:59.464000+00:00   \n...                           ...        ...                              ...   \n135.0   2024-10-05 21:48:00+00:00    BICYCLE 2024-10-05 22:15:04.840000+00:00   \n62153.0 2024-10-13 15:16:22+00:00    BICYCLE 2024-10-13 15:27:50.553000+00:00   \n5928.0  2024-10-05 21:04:10+00:00    BICYCLE 2024-10-05 21:15:11.989000+00:00   \n75818.0 2024-10-04 12:31:20+00:00    BICYCLE 2024-10-04 12:50:41.867000+00:00   \n43766.0 2024-10-11 21:16:38+00:00    BICYCLE 2024-10-11 21:38:20.664000+00:00   \n\n        delivery_entering_timestamp        delivery_timestamp  \\\nNaN       2024-10-06 05:12:39+00:00 2024-10-06 05:15:51+00:00   \n18878.0   2024-10-03 21:02:33+00:00 2024-10-03 21:05:04+00:00   \nNaN       2024-10-16 16:41:10+00:00 2024-10-16 16:43:44+00:00   \nNaN       2024-10-19 15:39:20+00:00 2024-10-19 15:40:59+00:00   \n71594.0   2024-10-08 17:57:39+00:00 2024-10-08 18:01:07+00:00   \n...                             ...                       ...   \n135.0     2024-10-05 22:19:52+00:00 2024-10-05 22:26:19+00:00   \n62153.0   2024-10-13 15:31:01+00:00 2024-10-13 15:33:33+00:00   \n5928.0    2024-10-05 21:22:57+00:00 2024-10-05 21:26:36+00:00   \n75818.0   2024-10-04 13:01:17+00:00 2024-10-04 13:05:15+00:00   \n43766.0   2024-10-11 21:43:39+00:00 2024-10-11 21:45:05+00:00   \n\n         pickup_latitude  ...  creation_hour  pickup_latitude_rad  \\\nNaN            40.405037  ...              4             0.705201   \n18878.0        40.449734  ...             20                  NaN   \nNaN            40.435170  ...             16             0.705727   \nNaN            40.430096  ...             15             0.705638   \n71594.0        41.357826  ...             17             0.721830   \n...                  ...  ...            ...                  ...   \n135.0          40.467260  ...             21                  NaN   \n62153.0        41.400146  ...             15             0.722569   \n5928.0         41.375170  ...             21             0.722133   \n75818.0        40.461890  ...             12             0.706193   \n43766.0        41.412450  ...             21                  NaN   \n\n         pickup_longitude_rad delivery_latitude_rad delivery_longitude_rad  \\\nNaN                 -0.063836              0.705516              -0.064597   \n18878.0                   NaN                   NaN                    NaN   \nNaN                 -0.064146              0.705739              -0.064195   \nNaN                 -0.064653              0.705706              -0.064590   \n71594.0              0.037159              0.721936               0.037038   \n...                       ...                   ...                    ...   \n135.0                     NaN                   NaN                    NaN   \n62153.0              0.037281              0.722527               0.037187   \n5928.0               0.037132              0.722153               0.037584   \n75818.0             -0.064378              0.706229              -0.063984   \n43766.0                   NaN                   NaN                    NaN   \n\n        pd_distance_haversine_m  pd_distance_haversine_m_sk  \\\nNaN                 4197.904729                 4197.904729   \n18878.0             1263.196587                74664.885804   \nNaN                  251.227543                  251.227543   \nNaN                  526.470464                  526.470464   \n71594.0              889.905456                  889.905456   \n...                         ...                         ...   \n135.0                991.543508                69503.124596   \n62153.0              521.237117                  521.237117   \n5928.0              2165.387513                 2165.387513   \n75818.0             1922.659871                 1922.659871   \n43766.0             1287.690326                73850.933815   \n\n         pd_distance_manhattan_m  creation_date  city_code  \nNaN                  5699.771260     2024-10-06        MAD  \n18878.0              1642.771209     2024-10-03        MAD  \nNaN                   317.805477     2024-10-16        MAD  \nNaN                   734.262801     2024-10-19        MAD  \n71594.0              1256.263593     2024-10-08        BCN  \n...                          ...            ...        ...  \n135.0                1043.387128     2024-10-05        MAD  \n62153.0               714.775973     2024-10-13        BCN  \n5928.0               2289.644488     2024-10-05        BCN  \n75818.0              2141.409207     2024-10-04        MAD  \n43766.0              1398.191929     2024-10-11        BCN  \n\n[7001791 rows x 26 columns]",
      "text/html": "<div>\n<style scoped>\n    .dataframe tbody tr th:only-of-type {\n        vertical-align: middle;\n    }\n\n    .dataframe tbody tr th {\n        vertical-align: top;\n    }\n\n    .dataframe thead th {\n        text-align: right;\n    }\n</style>\n<table border=\"1\" class=\"dataframe\">\n  <thead>\n    <tr style=\"text-align: right;\">\n      <th></th>\n      <th>country_code</th>\n      <th>order_id</th>\n      <th>courier_id</th>\n      <th>creation_timestamp</th>\n      <th>activation_timestamp</th>\n      <th>transport</th>\n      <th>pickup_timestamp</th>\n      <th>delivery_entering_timestamp</th>\n      <th>delivery_timestamp</th>\n      <th>pickup_latitude</th>\n      <th>...</th>\n      <th>creation_hour</th>\n      <th>pickup_latitude_rad</th>\n      <th>pickup_longitude_rad</th>\n      <th>delivery_latitude_rad</th>\n      <th>delivery_longitude_rad</th>\n      <th>pd_distance_haversine_m</th>\n      <th>pd_distance_haversine_m_sk</th>\n      <th>pd_distance_manhattan_m</th>\n      <th>creation_date</th>\n      <th>city_code</th>\n    </tr>\n  </thead>\n  <tbody>\n    <tr>\n      <th>NaN</th>\n      <td>ES</td>\n      <td>100912945341</td>\n      <td>82116848</td>\n      <td>2024-10-06 04:39:51+00:00</td>\n      <td>2024-10-06 04:39:52+00:00</td>\n      <td>MOTORBIKE</td>\n      <td>2024-10-06 04:54:06.033000+00:00</td>\n      <td>2024-10-06 05:12:39+00:00</td>\n      <td>2024-10-06 05:15:51+00:00</td>\n      <td>40.405037</td>\n      <td>...</td>\n      <td>4</td>\n      <td>0.705201</td>\n      <td>-0.063836</td>\n      <td>0.705516</td>\n      <td>-0.064597</td>\n      <td>4197.904729</td>\n      <td>4197.904729</td>\n      <td>5699.771260</td>\n      <td>2024-10-06</td>\n      <td>MAD</td>\n    </tr>\n    <tr>\n      <th>18878.0</th>\n      <td>ES</td>\n      <td>100907445811</td>\n      <td>108374116</td>\n      <td>2024-10-03 20:43:09+00:00</td>\n      <td>2024-10-03 20:43:10+00:00</td>\n      <td>CAR</td>\n      <td>2024-10-03 20:58:26.182000+00:00</td>\n      <td>2024-10-03 21:02:33+00:00</td>\n      <td>2024-10-03 21:05:04+00:00</td>\n      <td>40.449734</td>\n      <td>...</td>\n      <td>20</td>\n      <td>NaN</td>\n      <td>NaN</td>\n      <td>NaN</td>\n      <td>NaN</td>\n      <td>1263.196587</td>\n      <td>74664.885804</td>\n      <td>1642.771209</td>\n      <td>2024-10-03</td>\n      <td>MAD</td>\n    </tr>\n    <tr>\n      <th>NaN</th>\n      <td>ES</td>\n      <td>100936177156</td>\n      <td>134731488</td>\n      <td>2024-10-16 16:30:55+00:00</td>\n      <td>2024-10-16 16:30:56+00:00</td>\n      <td>MOTORBIKE</td>\n      <td>2024-10-16 16:38:29.143000+00:00</td>\n      <td>2024-10-16 16:41:10+00:00</td>\n      <td>2024-10-16 16:43:44+00:00</td>\n      <td>40.435170</td>\n      <td>...</td>\n      <td>16</td>\n      <td>0.705727</td>\n      <td>-0.064146</td>\n      <td>0.705739</td>\n      <td>-0.064195</td>\n      <td>251.227543</td>\n      <td>251.227543</td>\n      <td>317.805477</td>\n      <td>2024-10-16</td>\n      <td>MAD</td>\n    </tr>\n    <tr>\n      <th>NaN</th>\n      <td>ES</td>\n      <td>100942773602</td>\n      <td>160541528</td>\n      <td>2024-10-19 15:23:48+00:00</td>\n      <td>2024-10-19 15:23:49+00:00</td>\n      <td>BICYCLE</td>\n      <td>2024-10-19 15:35:59.329000+00:00</td>\n      <td>2024-10-19 15:39:20+00:00</td>\n      <td>2024-10-19 15:40:59+00:00</td>\n      <td>40.430096</td>\n      <td>...</td>\n      <td>15</td>\n      <td>0.705638</td>\n      <td>-0.064653</td>\n      <td>0.705706</td>\n      <td>-0.064590</td>\n      <td>526.470464</td>\n      <td>526.470464</td>\n      <td>734.262801</td>\n      <td>2024-10-19</td>\n      <td>MAD</td>\n    </tr>\n    <tr>\n      <th>71594.0</th>\n      <td>ES</td>\n      <td>100918548292</td>\n      <td>31382174</td>\n      <td>2024-10-08 17:46:44+00:00</td>\n      <td>2024-10-08 17:46:45+00:00</td>\n      <td>BICYCLE</td>\n      <td>2024-10-08 17:52:59.464000+00:00</td>\n      <td>2024-10-08 17:57:39+00:00</td>\n      <td>2024-10-08 18:01:07+00:00</td>\n      <td>41.357826</td>\n      <td>...</td>\n      <td>17</td>\n      <td>0.721830</td>\n      <td>0.037159</td>\n      <td>0.721936</td>\n      <td>0.037038</td>\n      <td>889.905456</td>\n      <td>889.905456</td>\n      <td>1256.263593</td>\n      <td>2024-10-08</td>\n      <td>BCN</td>\n    </tr>\n    <tr>\n      <th>...</th>\n      <td>...</td>\n      <td>...</td>\n      <td>...</td>\n      <td>...</td>\n      <td>...</td>\n      <td>...</td>\n      <td>...</td>\n      <td>...</td>\n      <td>...</td>\n      <td>...</td>\n      <td>...</td>\n      <td>...</td>\n      <td>...</td>\n      <td>...</td>\n      <td>...</td>\n      <td>...</td>\n      <td>...</td>\n      <td>...</td>\n      <td>...</td>\n      <td>...</td>\n      <td>...</td>\n    </tr>\n    <tr>\n      <th>135.0</th>\n      <td>ES</td>\n      <td>100912560380</td>\n      <td>155116258</td>\n      <td>2024-10-05 21:47:58+00:00</td>\n      <td>2024-10-05 21:48:00+00:00</td>\n      <td>BICYCLE</td>\n      <td>2024-10-05 22:15:04.840000+00:00</td>\n      <td>2024-10-05 22:19:52+00:00</td>\n      <td>2024-10-05 22:26:19+00:00</td>\n      <td>40.467260</td>\n      <td>...</td>\n      <td>21</td>\n      <td>NaN</td>\n      <td>NaN</td>\n      <td>NaN</td>\n      <td>NaN</td>\n      <td>991.543508</td>\n      <td>69503.124596</td>\n      <td>1043.387128</td>\n      <td>2024-10-05</td>\n      <td>MAD</td>\n    </tr>\n    <tr>\n      <th>62153.0</th>\n      <td>ES</td>\n      <td>100929677286</td>\n      <td>92118362</td>\n      <td>2024-10-13 15:16:20+00:00</td>\n      <td>2024-10-13 15:16:22+00:00</td>\n      <td>BICYCLE</td>\n      <td>2024-10-13 15:27:50.553000+00:00</td>\n      <td>2024-10-13 15:31:01+00:00</td>\n      <td>2024-10-13 15:33:33+00:00</td>\n      <td>41.400146</td>\n      <td>...</td>\n      <td>15</td>\n      <td>0.722569</td>\n      <td>0.037281</td>\n      <td>0.722527</td>\n      <td>0.037187</td>\n      <td>521.237117</td>\n      <td>521.237117</td>\n      <td>714.775973</td>\n      <td>2024-10-13</td>\n      <td>BCN</td>\n    </tr>\n    <tr>\n      <th>5928.0</th>\n      <td>ES</td>\n      <td>100912376936</td>\n      <td>5210543</td>\n      <td>2024-10-05 21:04:08+00:00</td>\n      <td>2024-10-05 21:04:10+00:00</td>\n      <td>BICYCLE</td>\n      <td>2024-10-05 21:15:11.989000+00:00</td>\n      <td>2024-10-05 21:22:57+00:00</td>\n      <td>2024-10-05 21:26:36+00:00</td>\n      <td>41.375170</td>\n      <td>...</td>\n      <td>21</td>\n      <td>0.722133</td>\n      <td>0.037132</td>\n      <td>0.722153</td>\n      <td>0.037584</td>\n      <td>2165.387513</td>\n      <td>2165.387513</td>\n      <td>2289.644488</td>\n      <td>2024-10-05</td>\n      <td>BCN</td>\n    </tr>\n    <tr>\n      <th>75818.0</th>\n      <td>ES</td>\n      <td>100908284873</td>\n      <td>162934084</td>\n      <td>2024-10-04 12:31:17+00:00</td>\n      <td>2024-10-04 12:31:20+00:00</td>\n      <td>BICYCLE</td>\n      <td>2024-10-04 12:50:41.867000+00:00</td>\n      <td>2024-10-04 13:01:17+00:00</td>\n      <td>2024-10-04 13:05:15+00:00</td>\n      <td>40.461890</td>\n      <td>...</td>\n      <td>12</td>\n      <td>0.706193</td>\n      <td>-0.064378</td>\n      <td>0.706229</td>\n      <td>-0.063984</td>\n      <td>1922.659871</td>\n      <td>1922.659871</td>\n      <td>2141.409207</td>\n      <td>2024-10-04</td>\n      <td>MAD</td>\n    </tr>\n    <tr>\n      <th>43766.0</th>\n      <td>ES</td>\n      <td>100925625274</td>\n      <td>179060334</td>\n      <td>2024-10-11 21:16:37+00:00</td>\n      <td>2024-10-11 21:16:38+00:00</td>\n      <td>BICYCLE</td>\n      <td>2024-10-11 21:38:20.664000+00:00</td>\n      <td>2024-10-11 21:43:39+00:00</td>\n      <td>2024-10-11 21:45:05+00:00</td>\n      <td>41.412450</td>\n      <td>...</td>\n      <td>21</td>\n      <td>NaN</td>\n      <td>NaN</td>\n      <td>NaN</td>\n      <td>NaN</td>\n      <td>1287.690326</td>\n      <td>73850.933815</td>\n      <td>1398.191929</td>\n      <td>2024-10-11</td>\n      <td>BCN</td>\n    </tr>\n  </tbody>\n</table>\n<p>7001791 rows × 26 columns</p>\n</div>"
     },
     "execution_count": 60,
     "metadata": {},
     "output_type": "execute_result"
    }
   ],
   "source": [
    "X_train"
   ],
   "metadata": {
    "collapsed": false,
    "ExecuteTime": {
     "end_time": "2024-11-06T08:59:07.324555Z",
     "start_time": "2024-11-06T08:59:05.348596Z"
    }
   },
   "id": "fc0cc9098900ec66",
   "execution_count": 60
  },
  {
   "cell_type": "code",
   "outputs": [
    {
     "data": {
      "text/plain": "64837.0   0 days 00:07:57.668000\n24418.0   0 days 00:05:50.431000\n80877.0   0 days 00:08:34.420000\n88543.0   0 days 00:02:30.516000\n44287.0   0 days 00:03:23.280000\n                   ...          \n35129.0   0 days 00:05:47.646000\n97009.0   0 days 00:09:44.488000\n15440.0   0 days 00:09:08.724000\n50350.0   0 days 00:06:47.836000\n66648.0   0 days 00:07:50.532000\nName: pickup_to_delivery, Length: 7001791, dtype: timedelta64[ns]"
     },
     "execution_count": 61,
     "metadata": {},
     "output_type": "execute_result"
    }
   ],
   "source": [
    "y_train"
   ],
   "metadata": {
    "collapsed": false,
    "ExecuteTime": {
     "end_time": "2024-11-06T08:59:07.340723Z",
     "start_time": "2024-11-06T08:59:07.328977Z"
    }
   },
   "id": "578fea794feb9a3d",
   "execution_count": 61
  },
  {
   "cell_type": "code",
   "outputs": [
    {
     "name": "stdout",
     "output_type": "stream",
     "text": [
      "(7001791, 26) (7001791,)\n",
      "(777977, 26) (777977,)\n"
     ]
    }
   ],
   "source": [
    "print(X_train.shape, y_train.shape)\n",
    "print(X_test.shape, y_test.shape)"
   ],
   "metadata": {
    "collapsed": false,
    "ExecuteTime": {
     "end_time": "2024-11-06T08:59:07.352047Z",
     "start_time": "2024-11-06T08:59:07.333820Z"
    }
   },
   "id": "2e1aab43ff9f5211",
   "execution_count": 62
  },
  {
   "cell_type": "code",
   "outputs": [],
   "source": [
    "# In case we want to test different hyperparameters, we will use cross-validation\n",
    "#scores = cross_val_score(<estimator>, X, y, cv=k_cv)"
   ],
   "metadata": {
    "collapsed": false,
    "ExecuteTime": {
     "end_time": "2024-11-06T08:59:07.355689Z",
     "start_time": "2024-11-06T08:59:07.337798Z"
    }
   },
   "id": "fdc44e42fd992ca8",
   "execution_count": 63
  },
  {
   "cell_type": "markdown",
   "source": [
    "### Database split using directly the creation date\n",
    "\n",
    "As we have partitioned the data by city and creation date, we can use this information to split the data. This will help to avoid data leakage, as we will not have data from the future in the training set.\n",
    "This is much better than just sorting the data by the creation timestamp and taking 10% of the dataset as test set, as we did before."
   ],
   "metadata": {
    "collapsed": false
   },
   "id": "7282f116c476aa5c"
  },
  {
   "cell_type": "code",
   "outputs": [
    {
     "name": "stdout",
     "output_type": "stream",
     "text": [
      "Start date: 2024-09-30 | Begin test date: 2024-10-14 | End date: 2024-10-20\n"
     ]
    }
   ],
   "source": [
    "# We take the last week of the dataset to test the model\n",
    "begin_test_date = pd.to_datetime(end_date) - pd.Timedelta(days=days_for_test-1)\n",
    "begin_test_date = begin_test_date.strftime(\"%Y-%m-%d\")\n",
    "print(f'Start date: {start_date} | Begin test date: {begin_test_date} | End date: {end_date}')"
   ],
   "metadata": {
    "collapsed": false,
    "ExecuteTime": {
     "end_time": "2024-11-06T08:59:07.460989Z",
     "start_time": "2024-11-06T08:59:07.346498Z"
    }
   },
   "id": "75c872336bd56642",
   "execution_count": 64
  },
  {
   "cell_type": "code",
   "outputs": [
    {
     "data": {
      "text/plain": "       country_code      order_id  courier_id        creation_timestamp  \\\n4806.0           ES  100901465337   169809943 2024-09-30 21:45:07+00:00   \n4811.0           ES  100901489101     9516729 2024-09-30 21:55:46+00:00   \n4850.0           ES  100899913152   172855743 2024-09-30 10:30:55+00:00   \n4906.0           ES  100900447439   170201413 2024-09-30 14:46:15+00:00   \n4912.0           ES  100900529830   176424631 2024-09-30 15:22:32+00:00   \n\n            activation_timestamp  transport                 pickup_timestamp  \\\n4806.0 2024-09-30 21:45:08+00:00  MOTORBIKE 2024-09-30 22:00:36.692000+00:00   \n4811.0 2024-09-30 21:55:47+00:00        CAR 2024-09-30 22:01:33.140000+00:00   \n4850.0 2024-09-30 10:30:57+00:00  MOTORBIKE 2024-09-30 10:41:24.971000+00:00   \n4906.0 2024-09-30 14:46:16+00:00        CAR 2024-09-30 14:56:29.623000+00:00   \n4912.0 2024-09-30 15:22:33+00:00  MOTORBIKE 2024-09-30 15:44:46.957000+00:00   \n\n       delivery_entering_timestamp        delivery_timestamp  pickup_latitude  \\\n4806.0   2024-09-30 22:08:16+00:00 2024-09-30 22:10:01+00:00        38.363853   \n4811.0   2024-09-30 22:04:42+00:00 2024-09-30 22:09:18+00:00        38.367390   \n4850.0   2024-09-30 10:46:09+00:00 2024-09-30 10:49:56+00:00        38.345226   \n4906.0   2024-09-30 15:06:53+00:00 2024-09-30 15:11:36+00:00        38.365310   \n4912.0   2024-09-30 15:53:16+00:00 2024-09-30 15:56:07+00:00        38.345670   \n\n        ...  creation_hour  pickup_latitude_rad  pickup_longitude_rad  \\\n4806.0  ...             21             0.669576             -0.008555   \n4811.0  ...             21             0.669637             -0.007405   \n4850.0  ...             10             0.669250             -0.008591   \n4906.0  ...             14             0.669601             -0.008192   \n4912.0  ...             15             0.669258             -0.008450   \n\n       delivery_latitude_rad delivery_longitude_rad pd_distance_haversine_m  \\\n4806.0              0.669944              -0.008598             2355.545318   \n4811.0              0.669590              -0.007284              673.661802   \n4850.0              0.669252              -0.008468              614.688869   \n4906.0              0.669539              -0.007604             2962.480499   \n4912.0              0.669258              -0.008792             1708.759794   \n\n        pd_distance_haversine_m_sk  pd_distance_manhattan_m  creation_date  \\\n4806.0                 2355.545318              2561.897200     2024-09-30   \n4811.0                  673.661802               903.518684     2024-09-30   \n4850.0                  614.688869               622.462666     2024-09-30   \n4906.0                 2962.480499              3332.041363     2024-09-30   \n4912.0                 1708.759794              1711.235976     2024-09-30   \n\n        city_code  \n4806.0        ALC  \n4811.0        ALC  \n4850.0        ALC  \n4906.0        ALC  \n4912.0        ALC  \n\n[5 rows x 26 columns]",
      "text/html": "<div>\n<style scoped>\n    .dataframe tbody tr th:only-of-type {\n        vertical-align: middle;\n    }\n\n    .dataframe tbody tr th {\n        vertical-align: top;\n    }\n\n    .dataframe thead th {\n        text-align: right;\n    }\n</style>\n<table border=\"1\" class=\"dataframe\">\n  <thead>\n    <tr style=\"text-align: right;\">\n      <th></th>\n      <th>country_code</th>\n      <th>order_id</th>\n      <th>courier_id</th>\n      <th>creation_timestamp</th>\n      <th>activation_timestamp</th>\n      <th>transport</th>\n      <th>pickup_timestamp</th>\n      <th>delivery_entering_timestamp</th>\n      <th>delivery_timestamp</th>\n      <th>pickup_latitude</th>\n      <th>...</th>\n      <th>creation_hour</th>\n      <th>pickup_latitude_rad</th>\n      <th>pickup_longitude_rad</th>\n      <th>delivery_latitude_rad</th>\n      <th>delivery_longitude_rad</th>\n      <th>pd_distance_haversine_m</th>\n      <th>pd_distance_haversine_m_sk</th>\n      <th>pd_distance_manhattan_m</th>\n      <th>creation_date</th>\n      <th>city_code</th>\n    </tr>\n  </thead>\n  <tbody>\n    <tr>\n      <th>4806.0</th>\n      <td>ES</td>\n      <td>100901465337</td>\n      <td>169809943</td>\n      <td>2024-09-30 21:45:07+00:00</td>\n      <td>2024-09-30 21:45:08+00:00</td>\n      <td>MOTORBIKE</td>\n      <td>2024-09-30 22:00:36.692000+00:00</td>\n      <td>2024-09-30 22:08:16+00:00</td>\n      <td>2024-09-30 22:10:01+00:00</td>\n      <td>38.363853</td>\n      <td>...</td>\n      <td>21</td>\n      <td>0.669576</td>\n      <td>-0.008555</td>\n      <td>0.669944</td>\n      <td>-0.008598</td>\n      <td>2355.545318</td>\n      <td>2355.545318</td>\n      <td>2561.897200</td>\n      <td>2024-09-30</td>\n      <td>ALC</td>\n    </tr>\n    <tr>\n      <th>4811.0</th>\n      <td>ES</td>\n      <td>100901489101</td>\n      <td>9516729</td>\n      <td>2024-09-30 21:55:46+00:00</td>\n      <td>2024-09-30 21:55:47+00:00</td>\n      <td>CAR</td>\n      <td>2024-09-30 22:01:33.140000+00:00</td>\n      <td>2024-09-30 22:04:42+00:00</td>\n      <td>2024-09-30 22:09:18+00:00</td>\n      <td>38.367390</td>\n      <td>...</td>\n      <td>21</td>\n      <td>0.669637</td>\n      <td>-0.007405</td>\n      <td>0.669590</td>\n      <td>-0.007284</td>\n      <td>673.661802</td>\n      <td>673.661802</td>\n      <td>903.518684</td>\n      <td>2024-09-30</td>\n      <td>ALC</td>\n    </tr>\n    <tr>\n      <th>4850.0</th>\n      <td>ES</td>\n      <td>100899913152</td>\n      <td>172855743</td>\n      <td>2024-09-30 10:30:55+00:00</td>\n      <td>2024-09-30 10:30:57+00:00</td>\n      <td>MOTORBIKE</td>\n      <td>2024-09-30 10:41:24.971000+00:00</td>\n      <td>2024-09-30 10:46:09+00:00</td>\n      <td>2024-09-30 10:49:56+00:00</td>\n      <td>38.345226</td>\n      <td>...</td>\n      <td>10</td>\n      <td>0.669250</td>\n      <td>-0.008591</td>\n      <td>0.669252</td>\n      <td>-0.008468</td>\n      <td>614.688869</td>\n      <td>614.688869</td>\n      <td>622.462666</td>\n      <td>2024-09-30</td>\n      <td>ALC</td>\n    </tr>\n    <tr>\n      <th>4906.0</th>\n      <td>ES</td>\n      <td>100900447439</td>\n      <td>170201413</td>\n      <td>2024-09-30 14:46:15+00:00</td>\n      <td>2024-09-30 14:46:16+00:00</td>\n      <td>CAR</td>\n      <td>2024-09-30 14:56:29.623000+00:00</td>\n      <td>2024-09-30 15:06:53+00:00</td>\n      <td>2024-09-30 15:11:36+00:00</td>\n      <td>38.365310</td>\n      <td>...</td>\n      <td>14</td>\n      <td>0.669601</td>\n      <td>-0.008192</td>\n      <td>0.669539</td>\n      <td>-0.007604</td>\n      <td>2962.480499</td>\n      <td>2962.480499</td>\n      <td>3332.041363</td>\n      <td>2024-09-30</td>\n      <td>ALC</td>\n    </tr>\n    <tr>\n      <th>4912.0</th>\n      <td>ES</td>\n      <td>100900529830</td>\n      <td>176424631</td>\n      <td>2024-09-30 15:22:32+00:00</td>\n      <td>2024-09-30 15:22:33+00:00</td>\n      <td>MOTORBIKE</td>\n      <td>2024-09-30 15:44:46.957000+00:00</td>\n      <td>2024-09-30 15:53:16+00:00</td>\n      <td>2024-09-30 15:56:07+00:00</td>\n      <td>38.345670</td>\n      <td>...</td>\n      <td>15</td>\n      <td>0.669258</td>\n      <td>-0.008450</td>\n      <td>0.669258</td>\n      <td>-0.008792</td>\n      <td>1708.759794</td>\n      <td>1708.759794</td>\n      <td>1711.235976</td>\n      <td>2024-09-30</td>\n      <td>ALC</td>\n    </tr>\n  </tbody>\n</table>\n<p>5 rows × 26 columns</p>\n</div>"
     },
     "execution_count": 65,
     "metadata": {},
     "output_type": "execute_result"
    }
   ],
   "source": [
    "X_train = pd.read_parquet(\"data/dataframe.parquet/\", filters=[('creation_date', '<', begin_test_date)])\n",
    "X_train.head()"
   ],
   "metadata": {
    "collapsed": false,
    "ExecuteTime": {
     "end_time": "2024-11-06T08:59:09.528403Z",
     "start_time": "2024-11-06T08:59:07.352405Z"
    }
   },
   "id": "3ac70f793bb888aa",
   "execution_count": 65
  },
  {
   "cell_type": "code",
   "outputs": [
    {
     "data": {
      "text/plain": "np.int64(2712072)"
     },
     "execution_count": 66,
     "metadata": {},
     "output_type": "execute_result"
    }
   ],
   "source": [
    "X_train.isnull().sum().sum()"
   ],
   "metadata": {
    "collapsed": false,
    "ExecuteTime": {
     "end_time": "2024-11-06T08:59:10.571026Z",
     "start_time": "2024-11-06T08:59:09.526753Z"
    }
   },
   "id": "74662b30246725ca",
   "execution_count": 66
  },
  {
   "cell_type": "code",
   "outputs": [
    {
     "data": {
      "text/plain": "country_code                        0\norder_id                            0\ncourier_id                          0\ncreation_timestamp                  0\nactivation_timestamp                0\ntransport                           0\npickup_timestamp                    0\ndelivery_entering_timestamp         0\ndelivery_timestamp                  0\npickup_latitude                     0\npickup_longitude                    0\ndelivery_latitude                   0\ndelivery_longitude                  0\ntime_zone                           0\np_creation_date                     0\ncreation_time                       0\ncreation_hour                       0\npickup_latitude_rad            678018\npickup_longitude_rad           678018\ndelivery_latitude_rad          678018\ndelivery_longitude_rad         678018\npd_distance_haversine_m             0\npd_distance_haversine_m_sk          0\npd_distance_manhattan_m             0\ncreation_date                       0\ncity_code                           0\ndtype: int64"
     },
     "execution_count": 67,
     "metadata": {},
     "output_type": "execute_result"
    }
   ],
   "source": [
    "X_train.isnull().sum()"
   ],
   "metadata": {
    "collapsed": false,
    "ExecuteTime": {
     "end_time": "2024-11-06T08:59:11.560870Z",
     "start_time": "2024-11-06T08:59:11.430102Z"
    }
   },
   "id": "798b13937869ed97",
   "execution_count": 67
  },
  {
   "cell_type": "code",
   "outputs": [
    {
     "data": {
      "text/plain": "4806.0    0 days 00:07:39.308000\n4811.0    0 days 00:03:08.860000\n4850.0    0 days 00:04:44.029000\n4906.0    0 days 00:10:23.377000\n4912.0    0 days 00:08:29.043000\n                   ...          \n84190.0   0 days 00:04:27.832000\n84192.0   0 days 00:05:29.981000\n84663.0   0 days 00:12:19.778000\n85111.0   0 days 00:08:33.237000\n85969.0   0 days 00:09:04.232000\nName: pickup_to_delivery, Length: 5424144, dtype: timedelta64[ns]"
     },
     "execution_count": 68,
     "metadata": {},
     "output_type": "execute_result"
    }
   ],
   "source": [
    "y_train = X_train['delivery_entering_timestamp'] - X_train['pickup_timestamp']\n",
    "y_train = pd.Series(y_train, name='pickup_to_delivery')\n",
    "y_train"
   ],
   "metadata": {
    "collapsed": false,
    "ExecuteTime": {
     "end_time": "2024-11-06T08:59:11.626913Z",
     "start_time": "2024-11-06T08:59:11.560152Z"
    }
   },
   "id": "7062f2936f260656",
   "execution_count": 68
  },
  {
   "cell_type": "code",
   "outputs": [
    {
     "data": {
      "text/plain": "np.int64(0)"
     },
     "execution_count": 69,
     "metadata": {},
     "output_type": "execute_result"
    }
   ],
   "source": [
    "y_train.isnull().sum().sum()"
   ],
   "metadata": {
    "collapsed": false,
    "ExecuteTime": {
     "end_time": "2024-11-06T08:59:11.641650Z",
     "start_time": "2024-11-06T08:59:11.625120Z"
    }
   },
   "id": "ab7c005256b289b6",
   "execution_count": 69
  },
  {
   "cell_type": "code",
   "outputs": [
    {
     "data": {
      "text/plain": "        country_code      order_id  courier_id        creation_timestamp  \\\n9605.0            ES  100931299686   172175095 2024-10-14 00:09:32+00:00   \n14786.0           ES  100931323115   170201413 2024-10-14 00:50:44+00:00   \n25221.0           ES  100933187613   176241347 2024-10-14 23:24:53+00:00   \n25225.0           ES  100933198445    10191824 2024-10-14 23:37:45+00:00   \n25277.0           ES  100931749423   169099229 2024-10-14 12:57:37+00:00   \n\n             activation_timestamp  transport                 pickup_timestamp  \\\n9605.0  2024-10-14 00:09:34+00:00  MOTORBIKE 2024-10-14 00:28:54.317000+00:00   \n14786.0 2024-10-14 10:12:43+00:00        CAR 2024-10-14 10:36:43.867000+00:00   \n25221.0 2024-10-14 23:24:54+00:00    BICYCLE 2024-10-14 23:40:38.323000+00:00   \n25225.0 2024-10-14 23:37:46+00:00  MOTORBIKE 2024-10-14 23:50:58.351000+00:00   \n25277.0 2024-10-14 12:57:38+00:00        CAR 2024-10-14 13:11:50.300000+00:00   \n\n        delivery_entering_timestamp        delivery_timestamp  \\\n9605.0    2024-10-14 00:34:47+00:00 2024-10-14 00:36:48+00:00   \n14786.0   2024-10-14 10:48:41+00:00 2024-10-14 10:53:34+00:00   \n25221.0   2024-10-14 23:45:02+00:00 2024-10-14 23:45:58+00:00   \n25225.0   2024-10-15 00:03:18+00:00 2024-10-15 00:04:30+00:00   \n25277.0   2024-10-14 13:21:17+00:00 2024-10-14 13:22:05+00:00   \n\n         pickup_latitude  ...  creation_hour  pickup_latitude_rad  \\\n9605.0         38.382520  ...              0             0.669901   \n14786.0        38.348476  ...              0             0.669307   \n25221.0        38.345078  ...             23             0.669248   \n25225.0        38.345078  ...             23             0.669248   \n25277.0        38.361095  ...             12             0.669527   \n\n         pickup_longitude_rad delivery_latitude_rad delivery_longitude_rad  \\\n9605.0              -0.007882              0.669500              -0.008304   \n14786.0             -0.008489              0.669187              -0.008794   \n25221.0             -0.008438              0.669327              -0.008516   \n25225.0             -0.008438              0.669202              -0.008581   \n25277.0             -0.008637              0.669182              -0.008611   \n\n        pd_distance_haversine_m  pd_distance_haversine_m_sk  \\\n9605.0              3310.852444                 3310.852444   \n14786.0             1705.517814                 1705.517814   \n25221.0              636.152666                  636.152666   \n25225.0              774.114259                  774.114259   \n25277.0             2205.902313                 2205.902313   \n\n         pd_distance_manhattan_m  creation_date  city_code  \n9605.0               4665.700375     2024-10-14        ALC  \n14786.0              2292.240241     2024-10-14        ALC  \n25221.0               893.835525     2024-10-14        ALC  \n25225.0              1012.032964     2024-10-14        ALC  \n25277.0              2337.577867     2024-10-14        ALC  \n\n[5 rows x 26 columns]",
      "text/html": "<div>\n<style scoped>\n    .dataframe tbody tr th:only-of-type {\n        vertical-align: middle;\n    }\n\n    .dataframe tbody tr th {\n        vertical-align: top;\n    }\n\n    .dataframe thead th {\n        text-align: right;\n    }\n</style>\n<table border=\"1\" class=\"dataframe\">\n  <thead>\n    <tr style=\"text-align: right;\">\n      <th></th>\n      <th>country_code</th>\n      <th>order_id</th>\n      <th>courier_id</th>\n      <th>creation_timestamp</th>\n      <th>activation_timestamp</th>\n      <th>transport</th>\n      <th>pickup_timestamp</th>\n      <th>delivery_entering_timestamp</th>\n      <th>delivery_timestamp</th>\n      <th>pickup_latitude</th>\n      <th>...</th>\n      <th>creation_hour</th>\n      <th>pickup_latitude_rad</th>\n      <th>pickup_longitude_rad</th>\n      <th>delivery_latitude_rad</th>\n      <th>delivery_longitude_rad</th>\n      <th>pd_distance_haversine_m</th>\n      <th>pd_distance_haversine_m_sk</th>\n      <th>pd_distance_manhattan_m</th>\n      <th>creation_date</th>\n      <th>city_code</th>\n    </tr>\n  </thead>\n  <tbody>\n    <tr>\n      <th>9605.0</th>\n      <td>ES</td>\n      <td>100931299686</td>\n      <td>172175095</td>\n      <td>2024-10-14 00:09:32+00:00</td>\n      <td>2024-10-14 00:09:34+00:00</td>\n      <td>MOTORBIKE</td>\n      <td>2024-10-14 00:28:54.317000+00:00</td>\n      <td>2024-10-14 00:34:47+00:00</td>\n      <td>2024-10-14 00:36:48+00:00</td>\n      <td>38.382520</td>\n      <td>...</td>\n      <td>0</td>\n      <td>0.669901</td>\n      <td>-0.007882</td>\n      <td>0.669500</td>\n      <td>-0.008304</td>\n      <td>3310.852444</td>\n      <td>3310.852444</td>\n      <td>4665.700375</td>\n      <td>2024-10-14</td>\n      <td>ALC</td>\n    </tr>\n    <tr>\n      <th>14786.0</th>\n      <td>ES</td>\n      <td>100931323115</td>\n      <td>170201413</td>\n      <td>2024-10-14 00:50:44+00:00</td>\n      <td>2024-10-14 10:12:43+00:00</td>\n      <td>CAR</td>\n      <td>2024-10-14 10:36:43.867000+00:00</td>\n      <td>2024-10-14 10:48:41+00:00</td>\n      <td>2024-10-14 10:53:34+00:00</td>\n      <td>38.348476</td>\n      <td>...</td>\n      <td>0</td>\n      <td>0.669307</td>\n      <td>-0.008489</td>\n      <td>0.669187</td>\n      <td>-0.008794</td>\n      <td>1705.517814</td>\n      <td>1705.517814</td>\n      <td>2292.240241</td>\n      <td>2024-10-14</td>\n      <td>ALC</td>\n    </tr>\n    <tr>\n      <th>25221.0</th>\n      <td>ES</td>\n      <td>100933187613</td>\n      <td>176241347</td>\n      <td>2024-10-14 23:24:53+00:00</td>\n      <td>2024-10-14 23:24:54+00:00</td>\n      <td>BICYCLE</td>\n      <td>2024-10-14 23:40:38.323000+00:00</td>\n      <td>2024-10-14 23:45:02+00:00</td>\n      <td>2024-10-14 23:45:58+00:00</td>\n      <td>38.345078</td>\n      <td>...</td>\n      <td>23</td>\n      <td>0.669248</td>\n      <td>-0.008438</td>\n      <td>0.669327</td>\n      <td>-0.008516</td>\n      <td>636.152666</td>\n      <td>636.152666</td>\n      <td>893.835525</td>\n      <td>2024-10-14</td>\n      <td>ALC</td>\n    </tr>\n    <tr>\n      <th>25225.0</th>\n      <td>ES</td>\n      <td>100933198445</td>\n      <td>10191824</td>\n      <td>2024-10-14 23:37:45+00:00</td>\n      <td>2024-10-14 23:37:46+00:00</td>\n      <td>MOTORBIKE</td>\n      <td>2024-10-14 23:50:58.351000+00:00</td>\n      <td>2024-10-15 00:03:18+00:00</td>\n      <td>2024-10-15 00:04:30+00:00</td>\n      <td>38.345078</td>\n      <td>...</td>\n      <td>23</td>\n      <td>0.669248</td>\n      <td>-0.008438</td>\n      <td>0.669202</td>\n      <td>-0.008581</td>\n      <td>774.114259</td>\n      <td>774.114259</td>\n      <td>1012.032964</td>\n      <td>2024-10-14</td>\n      <td>ALC</td>\n    </tr>\n    <tr>\n      <th>25277.0</th>\n      <td>ES</td>\n      <td>100931749423</td>\n      <td>169099229</td>\n      <td>2024-10-14 12:57:37+00:00</td>\n      <td>2024-10-14 12:57:38+00:00</td>\n      <td>CAR</td>\n      <td>2024-10-14 13:11:50.300000+00:00</td>\n      <td>2024-10-14 13:21:17+00:00</td>\n      <td>2024-10-14 13:22:05+00:00</td>\n      <td>38.361095</td>\n      <td>...</td>\n      <td>12</td>\n      <td>0.669527</td>\n      <td>-0.008637</td>\n      <td>0.669182</td>\n      <td>-0.008611</td>\n      <td>2205.902313</td>\n      <td>2205.902313</td>\n      <td>2337.577867</td>\n      <td>2024-10-14</td>\n      <td>ALC</td>\n    </tr>\n  </tbody>\n</table>\n<p>5 rows × 26 columns</p>\n</div>"
     },
     "execution_count": 70,
     "metadata": {},
     "output_type": "execute_result"
    }
   ],
   "source": [
    "X_test = pd.read_parquet(\"data/dataframe.parquet\", filters=[('creation_date', '>=', begin_test_date)])\n",
    "X_test.head()"
   ],
   "metadata": {
    "collapsed": false,
    "ExecuteTime": {
     "end_time": "2024-11-06T08:59:12.691429Z",
     "start_time": "2024-11-06T08:59:11.638877Z"
    }
   },
   "id": "1830d6e04cb2eed0",
   "execution_count": 70
  },
  {
   "cell_type": "code",
   "outputs": [
    {
     "data": {
      "text/plain": "np.int64(1177812)"
     },
     "execution_count": 71,
     "metadata": {},
     "output_type": "execute_result"
    }
   ],
   "source": [
    "X_test.isnull().sum().sum()"
   ],
   "metadata": {
    "collapsed": false,
    "ExecuteTime": {
     "end_time": "2024-11-06T08:59:13.154067Z",
     "start_time": "2024-11-06T08:59:13.084410Z"
    }
   },
   "id": "273b4efbb39767db",
   "execution_count": 71
  },
  {
   "cell_type": "code",
   "outputs": [
    {
     "data": {
      "text/plain": "9605.0     352683000000\n14786.0    717133000000\n25221.0    263677000000\n25225.0    739649000000\n25277.0    566700000000\n               ...     \n68825.0    150065000000\n69405.0    558499000000\n69964.0    742575000000\n70230.0    786619000000\n70533.0    194149000000\nName: pickup_to_delivery, Length: 2355624, dtype: int64"
     },
     "execution_count": 72,
     "metadata": {},
     "output_type": "execute_result"
    }
   ],
   "source": [
    "y_test = X_test['delivery_entering_timestamp'] - X_test['pickup_timestamp']\n",
    "y_test = pd.Series(y_test, dtype=np.int64, name='pickup_to_delivery')\n",
    "y_test"
   ],
   "metadata": {
    "collapsed": false,
    "ExecuteTime": {
     "end_time": "2024-11-06T08:59:13.198685Z",
     "start_time": "2024-11-06T08:59:13.154522Z"
    }
   },
   "id": "52ce014a35efad12",
   "execution_count": 72
  },
  {
   "cell_type": "code",
   "outputs": [
    {
     "data": {
      "text/plain": "np.int64(0)"
     },
     "execution_count": 73,
     "metadata": {},
     "output_type": "execute_result"
    }
   ],
   "source": [
    "y_test.isnull().sum().sum()"
   ],
   "metadata": {
    "collapsed": false,
    "ExecuteTime": {
     "end_time": "2024-11-06T08:59:13.201234Z",
     "start_time": "2024-11-06T08:59:13.185106Z"
    }
   },
   "id": "cfb62def0b2bf287",
   "execution_count": 73
  },
  {
   "cell_type": "code",
   "outputs": [
    {
     "name": "stdout",
     "output_type": "stream",
     "text": [
      "(5424144, 26) (5424144,)\n",
      "(2355624, 26) (2355624,)\n"
     ]
    }
   ],
   "source": [
    "print(X_train.shape, y_train.shape)\n",
    "print(X_test.shape, y_test.shape)"
   ],
   "metadata": {
    "collapsed": false,
    "ExecuteTime": {
     "end_time": "2024-11-06T08:59:13.215861Z",
     "start_time": "2024-11-06T08:59:13.191309Z"
    }
   },
   "id": "2d2fff1089f25047",
   "execution_count": 74
  },
  {
   "cell_type": "code",
   "outputs": [
    {
     "data": {
      "text/plain": "country_code                        0\norder_id                            0\ncourier_id                          0\ncreation_timestamp                  0\nactivation_timestamp                0\ntransport                           0\npickup_timestamp                    0\ndelivery_entering_timestamp         0\ndelivery_timestamp                  0\npickup_latitude                     0\npickup_longitude                    0\ndelivery_latitude                   0\ndelivery_longitude                  0\ntime_zone                           0\np_creation_date                     0\ncreation_time                       0\ncreation_hour                       0\npickup_latitude_rad            678018\npickup_longitude_rad           678018\ndelivery_latitude_rad          678018\ndelivery_longitude_rad         678018\npd_distance_haversine_m             0\npd_distance_haversine_m_sk          0\npd_distance_manhattan_m             0\ncreation_date                       0\ncity_code                           0\ndtype: int64"
     },
     "execution_count": 75,
     "metadata": {},
     "output_type": "execute_result"
    }
   ],
   "source": [
    "# check nan values\n",
    "X_train.isnull().sum()"
   ],
   "metadata": {
    "collapsed": false,
    "ExecuteTime": {
     "end_time": "2024-11-06T08:59:14.195784Z",
     "start_time": "2024-11-06T08:59:14.059157Z"
    }
   },
   "id": "d2edb0796a51d7e7",
   "execution_count": 75
  },
  {
   "cell_type": "code",
   "outputs": [
    {
     "data": {
      "text/plain": "        country_code      order_id  courier_id        creation_timestamp  \\\n30737.0           ES  100899883502   166015865 2024-09-30 10:05:31+00:00   \n30788.0           ES  100900284118   157369264 2024-09-30 13:42:20+00:00   \n30829.0           ES  100900514765   176279014 2024-09-30 15:15:51+00:00   \n30831.0           ES  100900517471   173230048 2024-09-30 15:17:03+00:00   \n30835.0           ES  100900606611   165214923 2024-09-30 15:59:24+00:00   \n...              ...           ...         ...                       ...   \n84190.0           ES  100928671286   153689739 2024-10-13 00:28:02+00:00   \n84192.0           ES  100928694365    47322857 2024-10-13 01:01:47+00:00   \n84663.0           ES  100928684412   161064501 2024-10-13 00:45:40+00:00   \n85111.0           ES  100928674045   116722332 2024-10-13 00:31:28+00:00   \n85969.0           ES  100928695147   176278944 2024-10-13 01:03:15+00:00   \n\n             activation_timestamp  transport                 pickup_timestamp  \\\n30737.0 2024-09-30 10:05:34+00:00        CAR        2024-09-30 10:40:49+00:00   \n30788.0 2024-09-30 13:42:21+00:00  MOTORBIKE 2024-09-30 13:51:19.082000+00:00   \n30829.0 2024-09-30 15:15:53+00:00  MOTORBIKE 2024-09-30 15:40:37.175000+00:00   \n30831.0 2024-09-30 15:17:04+00:00  MOTORBIKE 2024-09-30 15:38:09.114000+00:00   \n30835.0 2024-09-30 15:59:26+00:00        CAR 2024-09-30 16:09:12.280000+00:00   \n...                           ...        ...                              ...   \n84190.0 2024-10-13 00:28:03+00:00  MOTORBIKE 2024-10-13 00:41:39.168000+00:00   \n84192.0 2024-10-13 01:01:48+00:00  MOTORBIKE 2024-10-13 01:13:34.019000+00:00   \n84663.0 2024-10-13 00:45:41+00:00  MOTORBIKE 2024-10-13 00:48:59.222000+00:00   \n85111.0 2024-10-13 00:31:30+00:00    BICYCLE 2024-10-13 00:38:09.763000+00:00   \n85969.0 2024-10-13 01:03:17+00:00  MOTORBIKE 2024-10-13 01:12:47.768000+00:00   \n\n        delivery_entering_timestamp        delivery_timestamp  \\\n30737.0   2024-09-30 10:53:48+00:00 2024-09-30 10:55:21+00:00   \n30788.0   2024-09-30 13:57:26+00:00 2024-09-30 14:08:16+00:00   \n30829.0   2024-09-30 15:46:09+00:00 2024-09-30 15:46:54+00:00   \n30831.0   2024-09-30 15:46:26+00:00 2024-09-30 15:55:25+00:00   \n30835.0   2024-09-30 16:10:40+00:00 2024-09-30 16:11:30+00:00   \n...                             ...                       ...   \n84190.0   2024-10-13 00:46:07+00:00 2024-10-13 00:47:31+00:00   \n84192.0   2024-10-13 01:19:04+00:00 2024-10-13 01:19:57+00:00   \n84663.0   2024-10-13 01:01:19+00:00 2024-10-13 01:03:45+00:00   \n85111.0   2024-10-13 00:46:43+00:00 2024-10-13 00:50:11+00:00   \n85969.0   2024-10-13 01:21:52+00:00 2024-10-13 01:27:15+00:00   \n\n         pickup_latitude  ...  creation_hour  pickup_latitude_rad  \\\n30737.0        38.354984  ...             10                  NaN   \n30788.0        38.338870  ...             13                  NaN   \n30829.0        38.391617  ...             15                  NaN   \n30831.0        38.428850  ...             15                  NaN   \n30835.0        38.344795  ...             15                  NaN   \n...                  ...  ...            ...                  ...   \n84190.0        37.378075  ...              0                  NaN   \n84192.0        37.387486  ...              1                  NaN   \n84663.0        37.387287  ...              0                  NaN   \n85111.0        37.399765  ...              0                  NaN   \n85969.0        37.404610  ...              1                  NaN   \n\n         pickup_longitude_rad delivery_latitude_rad delivery_longitude_rad  \\\n30737.0                   NaN                   NaN                    NaN   \n30788.0                   NaN                   NaN                    NaN   \n30829.0                   NaN                   NaN                    NaN   \n30831.0                   NaN                   NaN                    NaN   \n30835.0                   NaN                   NaN                    NaN   \n...                       ...                   ...                    ...   \n84190.0                   NaN                   NaN                    NaN   \n84192.0                   NaN                   NaN                    NaN   \n84663.0                   NaN                   NaN                    NaN   \n85111.0                   NaN                   NaN                    NaN   \n85969.0                   NaN                   NaN                    NaN   \n\n        pd_distance_haversine_m  pd_distance_haversine_m_sk  \\\n30737.0             2763.186813               160256.773776   \n30788.0             1106.367198                64736.775491   \n30829.0             1391.554868                78717.050870   \n30831.0             4433.090322               242110.504770   \n30835.0              203.358663                11801.253034   \n...                         ...                         ...   \n84190.0             1025.783470                66127.090550   \n84192.0              941.828214                62771.946428   \n84663.0             2953.644386               183983.117770   \n85111.0             1863.266164               126973.442730   \n85969.0             2778.912106               191684.301238   \n\n         pd_distance_manhattan_m  creation_date  city_code  \n30737.0              3533.822837     2024-09-30        ALC  \n30788.0              1302.313007     2024-09-30        ALC  \n30829.0              1959.883768     2024-09-30        ALC  \n30831.0              5796.876236     2024-09-30        ALC  \n30835.0               281.024598     2024-09-30        ALC  \n...                          ...            ...        ...  \n84190.0              1441.614259     2024-10-13        SEV  \n84192.0              1256.815499     2024-10-13        SEV  \n84663.0              4164.380647     2024-10-13        SEV  \n85111.0              2286.464880     2024-10-13        SEV  \n85969.0              2924.354959     2024-10-13        SEV  \n\n[678018 rows x 26 columns]",
      "text/html": "<div>\n<style scoped>\n    .dataframe tbody tr th:only-of-type {\n        vertical-align: middle;\n    }\n\n    .dataframe tbody tr th {\n        vertical-align: top;\n    }\n\n    .dataframe thead th {\n        text-align: right;\n    }\n</style>\n<table border=\"1\" class=\"dataframe\">\n  <thead>\n    <tr style=\"text-align: right;\">\n      <th></th>\n      <th>country_code</th>\n      <th>order_id</th>\n      <th>courier_id</th>\n      <th>creation_timestamp</th>\n      <th>activation_timestamp</th>\n      <th>transport</th>\n      <th>pickup_timestamp</th>\n      <th>delivery_entering_timestamp</th>\n      <th>delivery_timestamp</th>\n      <th>pickup_latitude</th>\n      <th>...</th>\n      <th>creation_hour</th>\n      <th>pickup_latitude_rad</th>\n      <th>pickup_longitude_rad</th>\n      <th>delivery_latitude_rad</th>\n      <th>delivery_longitude_rad</th>\n      <th>pd_distance_haversine_m</th>\n      <th>pd_distance_haversine_m_sk</th>\n      <th>pd_distance_manhattan_m</th>\n      <th>creation_date</th>\n      <th>city_code</th>\n    </tr>\n  </thead>\n  <tbody>\n    <tr>\n      <th>30737.0</th>\n      <td>ES</td>\n      <td>100899883502</td>\n      <td>166015865</td>\n      <td>2024-09-30 10:05:31+00:00</td>\n      <td>2024-09-30 10:05:34+00:00</td>\n      <td>CAR</td>\n      <td>2024-09-30 10:40:49+00:00</td>\n      <td>2024-09-30 10:53:48+00:00</td>\n      <td>2024-09-30 10:55:21+00:00</td>\n      <td>38.354984</td>\n      <td>...</td>\n      <td>10</td>\n      <td>NaN</td>\n      <td>NaN</td>\n      <td>NaN</td>\n      <td>NaN</td>\n      <td>2763.186813</td>\n      <td>160256.773776</td>\n      <td>3533.822837</td>\n      <td>2024-09-30</td>\n      <td>ALC</td>\n    </tr>\n    <tr>\n      <th>30788.0</th>\n      <td>ES</td>\n      <td>100900284118</td>\n      <td>157369264</td>\n      <td>2024-09-30 13:42:20+00:00</td>\n      <td>2024-09-30 13:42:21+00:00</td>\n      <td>MOTORBIKE</td>\n      <td>2024-09-30 13:51:19.082000+00:00</td>\n      <td>2024-09-30 13:57:26+00:00</td>\n      <td>2024-09-30 14:08:16+00:00</td>\n      <td>38.338870</td>\n      <td>...</td>\n      <td>13</td>\n      <td>NaN</td>\n      <td>NaN</td>\n      <td>NaN</td>\n      <td>NaN</td>\n      <td>1106.367198</td>\n      <td>64736.775491</td>\n      <td>1302.313007</td>\n      <td>2024-09-30</td>\n      <td>ALC</td>\n    </tr>\n    <tr>\n      <th>30829.0</th>\n      <td>ES</td>\n      <td>100900514765</td>\n      <td>176279014</td>\n      <td>2024-09-30 15:15:51+00:00</td>\n      <td>2024-09-30 15:15:53+00:00</td>\n      <td>MOTORBIKE</td>\n      <td>2024-09-30 15:40:37.175000+00:00</td>\n      <td>2024-09-30 15:46:09+00:00</td>\n      <td>2024-09-30 15:46:54+00:00</td>\n      <td>38.391617</td>\n      <td>...</td>\n      <td>15</td>\n      <td>NaN</td>\n      <td>NaN</td>\n      <td>NaN</td>\n      <td>NaN</td>\n      <td>1391.554868</td>\n      <td>78717.050870</td>\n      <td>1959.883768</td>\n      <td>2024-09-30</td>\n      <td>ALC</td>\n    </tr>\n    <tr>\n      <th>30831.0</th>\n      <td>ES</td>\n      <td>100900517471</td>\n      <td>173230048</td>\n      <td>2024-09-30 15:17:03+00:00</td>\n      <td>2024-09-30 15:17:04+00:00</td>\n      <td>MOTORBIKE</td>\n      <td>2024-09-30 15:38:09.114000+00:00</td>\n      <td>2024-09-30 15:46:26+00:00</td>\n      <td>2024-09-30 15:55:25+00:00</td>\n      <td>38.428850</td>\n      <td>...</td>\n      <td>15</td>\n      <td>NaN</td>\n      <td>NaN</td>\n      <td>NaN</td>\n      <td>NaN</td>\n      <td>4433.090322</td>\n      <td>242110.504770</td>\n      <td>5796.876236</td>\n      <td>2024-09-30</td>\n      <td>ALC</td>\n    </tr>\n    <tr>\n      <th>30835.0</th>\n      <td>ES</td>\n      <td>100900606611</td>\n      <td>165214923</td>\n      <td>2024-09-30 15:59:24+00:00</td>\n      <td>2024-09-30 15:59:26+00:00</td>\n      <td>CAR</td>\n      <td>2024-09-30 16:09:12.280000+00:00</td>\n      <td>2024-09-30 16:10:40+00:00</td>\n      <td>2024-09-30 16:11:30+00:00</td>\n      <td>38.344795</td>\n      <td>...</td>\n      <td>15</td>\n      <td>NaN</td>\n      <td>NaN</td>\n      <td>NaN</td>\n      <td>NaN</td>\n      <td>203.358663</td>\n      <td>11801.253034</td>\n      <td>281.024598</td>\n      <td>2024-09-30</td>\n      <td>ALC</td>\n    </tr>\n    <tr>\n      <th>...</th>\n      <td>...</td>\n      <td>...</td>\n      <td>...</td>\n      <td>...</td>\n      <td>...</td>\n      <td>...</td>\n      <td>...</td>\n      <td>...</td>\n      <td>...</td>\n      <td>...</td>\n      <td>...</td>\n      <td>...</td>\n      <td>...</td>\n      <td>...</td>\n      <td>...</td>\n      <td>...</td>\n      <td>...</td>\n      <td>...</td>\n      <td>...</td>\n      <td>...</td>\n      <td>...</td>\n    </tr>\n    <tr>\n      <th>84190.0</th>\n      <td>ES</td>\n      <td>100928671286</td>\n      <td>153689739</td>\n      <td>2024-10-13 00:28:02+00:00</td>\n      <td>2024-10-13 00:28:03+00:00</td>\n      <td>MOTORBIKE</td>\n      <td>2024-10-13 00:41:39.168000+00:00</td>\n      <td>2024-10-13 00:46:07+00:00</td>\n      <td>2024-10-13 00:47:31+00:00</td>\n      <td>37.378075</td>\n      <td>...</td>\n      <td>0</td>\n      <td>NaN</td>\n      <td>NaN</td>\n      <td>NaN</td>\n      <td>NaN</td>\n      <td>1025.783470</td>\n      <td>66127.090550</td>\n      <td>1441.614259</td>\n      <td>2024-10-13</td>\n      <td>SEV</td>\n    </tr>\n    <tr>\n      <th>84192.0</th>\n      <td>ES</td>\n      <td>100928694365</td>\n      <td>47322857</td>\n      <td>2024-10-13 01:01:47+00:00</td>\n      <td>2024-10-13 01:01:48+00:00</td>\n      <td>MOTORBIKE</td>\n      <td>2024-10-13 01:13:34.019000+00:00</td>\n      <td>2024-10-13 01:19:04+00:00</td>\n      <td>2024-10-13 01:19:57+00:00</td>\n      <td>37.387486</td>\n      <td>...</td>\n      <td>1</td>\n      <td>NaN</td>\n      <td>NaN</td>\n      <td>NaN</td>\n      <td>NaN</td>\n      <td>941.828214</td>\n      <td>62771.946428</td>\n      <td>1256.815499</td>\n      <td>2024-10-13</td>\n      <td>SEV</td>\n    </tr>\n    <tr>\n      <th>84663.0</th>\n      <td>ES</td>\n      <td>100928684412</td>\n      <td>161064501</td>\n      <td>2024-10-13 00:45:40+00:00</td>\n      <td>2024-10-13 00:45:41+00:00</td>\n      <td>MOTORBIKE</td>\n      <td>2024-10-13 00:48:59.222000+00:00</td>\n      <td>2024-10-13 01:01:19+00:00</td>\n      <td>2024-10-13 01:03:45+00:00</td>\n      <td>37.387287</td>\n      <td>...</td>\n      <td>0</td>\n      <td>NaN</td>\n      <td>NaN</td>\n      <td>NaN</td>\n      <td>NaN</td>\n      <td>2953.644386</td>\n      <td>183983.117770</td>\n      <td>4164.380647</td>\n      <td>2024-10-13</td>\n      <td>SEV</td>\n    </tr>\n    <tr>\n      <th>85111.0</th>\n      <td>ES</td>\n      <td>100928674045</td>\n      <td>116722332</td>\n      <td>2024-10-13 00:31:28+00:00</td>\n      <td>2024-10-13 00:31:30+00:00</td>\n      <td>BICYCLE</td>\n      <td>2024-10-13 00:38:09.763000+00:00</td>\n      <td>2024-10-13 00:46:43+00:00</td>\n      <td>2024-10-13 00:50:11+00:00</td>\n      <td>37.399765</td>\n      <td>...</td>\n      <td>0</td>\n      <td>NaN</td>\n      <td>NaN</td>\n      <td>NaN</td>\n      <td>NaN</td>\n      <td>1863.266164</td>\n      <td>126973.442730</td>\n      <td>2286.464880</td>\n      <td>2024-10-13</td>\n      <td>SEV</td>\n    </tr>\n    <tr>\n      <th>85969.0</th>\n      <td>ES</td>\n      <td>100928695147</td>\n      <td>176278944</td>\n      <td>2024-10-13 01:03:15+00:00</td>\n      <td>2024-10-13 01:03:17+00:00</td>\n      <td>MOTORBIKE</td>\n      <td>2024-10-13 01:12:47.768000+00:00</td>\n      <td>2024-10-13 01:21:52+00:00</td>\n      <td>2024-10-13 01:27:15+00:00</td>\n      <td>37.404610</td>\n      <td>...</td>\n      <td>1</td>\n      <td>NaN</td>\n      <td>NaN</td>\n      <td>NaN</td>\n      <td>NaN</td>\n      <td>2778.912106</td>\n      <td>191684.301238</td>\n      <td>2924.354959</td>\n      <td>2024-10-13</td>\n      <td>SEV</td>\n    </tr>\n  </tbody>\n</table>\n<p>678018 rows × 26 columns</p>\n</div>"
     },
     "execution_count": 76,
     "metadata": {},
     "output_type": "execute_result"
    }
   ],
   "source": [
    "# print rows that have nulls\n",
    "a = X_train[X_train.isnull().any(axis=1)]\n",
    "a"
   ],
   "metadata": {
    "collapsed": false,
    "ExecuteTime": {
     "end_time": "2024-11-06T08:59:15.443317Z",
     "start_time": "2024-11-06T08:59:15.089952Z"
    }
   },
   "id": "72a6c2a98e99de14",
   "execution_count": 76
  },
  {
   "cell_type": "code",
   "outputs": [
    {
     "name": "stderr",
     "output_type": "stream",
     "text": [
      "/var/folders/qp/z1bxlpj52x79nk6kr9rf00h40000gp/T/ipykernel_88977/3906174715.py:1: SettingWithCopyWarning: \n",
      "A value is trying to be set on a copy of a slice from a DataFrame.\n",
      "Try using .loc[row_indexer,col_indexer] = value instead\n",
      "\n",
      "See the caveats in the documentation: https://pandas.pydata.org/pandas-docs/stable/user_guide/indexing.html#returning-a-view-versus-a-copy\n",
      "  a['pickup_latitude_rad'] = np.radians(a['pickup_latitude'])\n",
      "/var/folders/qp/z1bxlpj52x79nk6kr9rf00h40000gp/T/ipykernel_88977/3906174715.py:2: SettingWithCopyWarning: \n",
      "A value is trying to be set on a copy of a slice from a DataFrame.\n",
      "Try using .loc[row_indexer,col_indexer] = value instead\n",
      "\n",
      "See the caveats in the documentation: https://pandas.pydata.org/pandas-docs/stable/user_guide/indexing.html#returning-a-view-versus-a-copy\n",
      "  a['pickup_longitude_rad'] = np.radians(a['pickup_longitude'])\n",
      "/var/folders/qp/z1bxlpj52x79nk6kr9rf00h40000gp/T/ipykernel_88977/3906174715.py:3: SettingWithCopyWarning: \n",
      "A value is trying to be set on a copy of a slice from a DataFrame.\n",
      "Try using .loc[row_indexer,col_indexer] = value instead\n",
      "\n",
      "See the caveats in the documentation: https://pandas.pydata.org/pandas-docs/stable/user_guide/indexing.html#returning-a-view-versus-a-copy\n",
      "  a['delivery_latitude_rad'] = np.radians(a['delivery_latitude'])\n",
      "/var/folders/qp/z1bxlpj52x79nk6kr9rf00h40000gp/T/ipykernel_88977/3906174715.py:4: SettingWithCopyWarning: \n",
      "A value is trying to be set on a copy of a slice from a DataFrame.\n",
      "Try using .loc[row_indexer,col_indexer] = value instead\n",
      "\n",
      "See the caveats in the documentation: https://pandas.pydata.org/pandas-docs/stable/user_guide/indexing.html#returning-a-view-versus-a-copy\n",
      "  a['delivery_longitude_rad'] = np.radians(a['delivery_longitude'])\n"
     ]
    },
    {
     "data": {
      "text/plain": "        country_code      order_id  courier_id        creation_timestamp  \\\n30737.0           ES  100899883502   166015865 2024-09-30 10:05:31+00:00   \n30788.0           ES  100900284118   157369264 2024-09-30 13:42:20+00:00   \n30829.0           ES  100900514765   176279014 2024-09-30 15:15:51+00:00   \n30831.0           ES  100900517471   173230048 2024-09-30 15:17:03+00:00   \n30835.0           ES  100900606611   165214923 2024-09-30 15:59:24+00:00   \n...              ...           ...         ...                       ...   \n84190.0           ES  100928671286   153689739 2024-10-13 00:28:02+00:00   \n84192.0           ES  100928694365    47322857 2024-10-13 01:01:47+00:00   \n84663.0           ES  100928684412   161064501 2024-10-13 00:45:40+00:00   \n85111.0           ES  100928674045   116722332 2024-10-13 00:31:28+00:00   \n85969.0           ES  100928695147   176278944 2024-10-13 01:03:15+00:00   \n\n             activation_timestamp  transport                 pickup_timestamp  \\\n30737.0 2024-09-30 10:05:34+00:00        CAR        2024-09-30 10:40:49+00:00   \n30788.0 2024-09-30 13:42:21+00:00  MOTORBIKE 2024-09-30 13:51:19.082000+00:00   \n30829.0 2024-09-30 15:15:53+00:00  MOTORBIKE 2024-09-30 15:40:37.175000+00:00   \n30831.0 2024-09-30 15:17:04+00:00  MOTORBIKE 2024-09-30 15:38:09.114000+00:00   \n30835.0 2024-09-30 15:59:26+00:00        CAR 2024-09-30 16:09:12.280000+00:00   \n...                           ...        ...                              ...   \n84190.0 2024-10-13 00:28:03+00:00  MOTORBIKE 2024-10-13 00:41:39.168000+00:00   \n84192.0 2024-10-13 01:01:48+00:00  MOTORBIKE 2024-10-13 01:13:34.019000+00:00   \n84663.0 2024-10-13 00:45:41+00:00  MOTORBIKE 2024-10-13 00:48:59.222000+00:00   \n85111.0 2024-10-13 00:31:30+00:00    BICYCLE 2024-10-13 00:38:09.763000+00:00   \n85969.0 2024-10-13 01:03:17+00:00  MOTORBIKE 2024-10-13 01:12:47.768000+00:00   \n\n        delivery_entering_timestamp        delivery_timestamp  \\\n30737.0   2024-09-30 10:53:48+00:00 2024-09-30 10:55:21+00:00   \n30788.0   2024-09-30 13:57:26+00:00 2024-09-30 14:08:16+00:00   \n30829.0   2024-09-30 15:46:09+00:00 2024-09-30 15:46:54+00:00   \n30831.0   2024-09-30 15:46:26+00:00 2024-09-30 15:55:25+00:00   \n30835.0   2024-09-30 16:10:40+00:00 2024-09-30 16:11:30+00:00   \n...                             ...                       ...   \n84190.0   2024-10-13 00:46:07+00:00 2024-10-13 00:47:31+00:00   \n84192.0   2024-10-13 01:19:04+00:00 2024-10-13 01:19:57+00:00   \n84663.0   2024-10-13 01:01:19+00:00 2024-10-13 01:03:45+00:00   \n85111.0   2024-10-13 00:46:43+00:00 2024-10-13 00:50:11+00:00   \n85969.0   2024-10-13 01:21:52+00:00 2024-10-13 01:27:15+00:00   \n\n         pickup_latitude  ...  creation_hour  pickup_latitude_rad  \\\n30737.0        38.354984  ...             10             0.669421   \n30788.0        38.338870  ...             13             0.669140   \n30829.0        38.391617  ...             15             0.670060   \n30831.0        38.428850  ...             15             0.670710   \n30835.0        38.344795  ...             15             0.669243   \n...                  ...  ...            ...                  ...   \n84190.0        37.378075  ...              0             0.652370   \n84192.0        37.387486  ...              1             0.652535   \n84663.0        37.387287  ...              0             0.652531   \n85111.0        37.399765  ...              0             0.652749   \n85969.0        37.404610  ...              1             0.652834   \n\n         pickup_longitude_rad delivery_latitude_rad delivery_longitude_rad  \\\n30737.0             -0.008217              0.669275              -0.008738   \n30788.0             -0.009017              0.669173              -0.008800   \n30829.0             -0.008959              0.670198              -0.009175   \n30831.0             -0.006892              0.670976              -0.007713   \n30835.0             -0.008452              0.669260              -0.008486   \n...                       ...                   ...                    ...   \n84190.0             -0.104744              0.652470              -0.104904   \n84192.0             -0.104622              0.652471              -0.104454   \n84663.0             -0.104703              0.652888              -0.104330   \n85111.0             -0.104704              0.652673              -0.104349   \n85969.0             -0.103950              0.652811              -0.104499   \n\n        pd_distance_haversine_m  pd_distance_haversine_m_sk  \\\n30737.0             2763.186813               160256.773776   \n30788.0             1106.367198                64736.775491   \n30829.0             1391.554868                78717.050870   \n30831.0             4433.090322               242110.504770   \n30835.0              203.358663                11801.253034   \n...                         ...                         ...   \n84190.0             1025.783470                66127.090550   \n84192.0              941.828214                62771.946428   \n84663.0             2953.644386               183983.117770   \n85111.0             1863.266164               126973.442730   \n85969.0             2778.912106               191684.301238   \n\n         pd_distance_manhattan_m  creation_date  city_code  \n30737.0              3533.822837     2024-09-30        ALC  \n30788.0              1302.313007     2024-09-30        ALC  \n30829.0              1959.883768     2024-09-30        ALC  \n30831.0              5796.876236     2024-09-30        ALC  \n30835.0               281.024598     2024-09-30        ALC  \n...                          ...            ...        ...  \n84190.0              1441.614259     2024-10-13        SEV  \n84192.0              1256.815499     2024-10-13        SEV  \n84663.0              4164.380647     2024-10-13        SEV  \n85111.0              2286.464880     2024-10-13        SEV  \n85969.0              2924.354959     2024-10-13        SEV  \n\n[678018 rows x 26 columns]",
      "text/html": "<div>\n<style scoped>\n    .dataframe tbody tr th:only-of-type {\n        vertical-align: middle;\n    }\n\n    .dataframe tbody tr th {\n        vertical-align: top;\n    }\n\n    .dataframe thead th {\n        text-align: right;\n    }\n</style>\n<table border=\"1\" class=\"dataframe\">\n  <thead>\n    <tr style=\"text-align: right;\">\n      <th></th>\n      <th>country_code</th>\n      <th>order_id</th>\n      <th>courier_id</th>\n      <th>creation_timestamp</th>\n      <th>activation_timestamp</th>\n      <th>transport</th>\n      <th>pickup_timestamp</th>\n      <th>delivery_entering_timestamp</th>\n      <th>delivery_timestamp</th>\n      <th>pickup_latitude</th>\n      <th>...</th>\n      <th>creation_hour</th>\n      <th>pickup_latitude_rad</th>\n      <th>pickup_longitude_rad</th>\n      <th>delivery_latitude_rad</th>\n      <th>delivery_longitude_rad</th>\n      <th>pd_distance_haversine_m</th>\n      <th>pd_distance_haversine_m_sk</th>\n      <th>pd_distance_manhattan_m</th>\n      <th>creation_date</th>\n      <th>city_code</th>\n    </tr>\n  </thead>\n  <tbody>\n    <tr>\n      <th>30737.0</th>\n      <td>ES</td>\n      <td>100899883502</td>\n      <td>166015865</td>\n      <td>2024-09-30 10:05:31+00:00</td>\n      <td>2024-09-30 10:05:34+00:00</td>\n      <td>CAR</td>\n      <td>2024-09-30 10:40:49+00:00</td>\n      <td>2024-09-30 10:53:48+00:00</td>\n      <td>2024-09-30 10:55:21+00:00</td>\n      <td>38.354984</td>\n      <td>...</td>\n      <td>10</td>\n      <td>0.669421</td>\n      <td>-0.008217</td>\n      <td>0.669275</td>\n      <td>-0.008738</td>\n      <td>2763.186813</td>\n      <td>160256.773776</td>\n      <td>3533.822837</td>\n      <td>2024-09-30</td>\n      <td>ALC</td>\n    </tr>\n    <tr>\n      <th>30788.0</th>\n      <td>ES</td>\n      <td>100900284118</td>\n      <td>157369264</td>\n      <td>2024-09-30 13:42:20+00:00</td>\n      <td>2024-09-30 13:42:21+00:00</td>\n      <td>MOTORBIKE</td>\n      <td>2024-09-30 13:51:19.082000+00:00</td>\n      <td>2024-09-30 13:57:26+00:00</td>\n      <td>2024-09-30 14:08:16+00:00</td>\n      <td>38.338870</td>\n      <td>...</td>\n      <td>13</td>\n      <td>0.669140</td>\n      <td>-0.009017</td>\n      <td>0.669173</td>\n      <td>-0.008800</td>\n      <td>1106.367198</td>\n      <td>64736.775491</td>\n      <td>1302.313007</td>\n      <td>2024-09-30</td>\n      <td>ALC</td>\n    </tr>\n    <tr>\n      <th>30829.0</th>\n      <td>ES</td>\n      <td>100900514765</td>\n      <td>176279014</td>\n      <td>2024-09-30 15:15:51+00:00</td>\n      <td>2024-09-30 15:15:53+00:00</td>\n      <td>MOTORBIKE</td>\n      <td>2024-09-30 15:40:37.175000+00:00</td>\n      <td>2024-09-30 15:46:09+00:00</td>\n      <td>2024-09-30 15:46:54+00:00</td>\n      <td>38.391617</td>\n      <td>...</td>\n      <td>15</td>\n      <td>0.670060</td>\n      <td>-0.008959</td>\n      <td>0.670198</td>\n      <td>-0.009175</td>\n      <td>1391.554868</td>\n      <td>78717.050870</td>\n      <td>1959.883768</td>\n      <td>2024-09-30</td>\n      <td>ALC</td>\n    </tr>\n    <tr>\n      <th>30831.0</th>\n      <td>ES</td>\n      <td>100900517471</td>\n      <td>173230048</td>\n      <td>2024-09-30 15:17:03+00:00</td>\n      <td>2024-09-30 15:17:04+00:00</td>\n      <td>MOTORBIKE</td>\n      <td>2024-09-30 15:38:09.114000+00:00</td>\n      <td>2024-09-30 15:46:26+00:00</td>\n      <td>2024-09-30 15:55:25+00:00</td>\n      <td>38.428850</td>\n      <td>...</td>\n      <td>15</td>\n      <td>0.670710</td>\n      <td>-0.006892</td>\n      <td>0.670976</td>\n      <td>-0.007713</td>\n      <td>4433.090322</td>\n      <td>242110.504770</td>\n      <td>5796.876236</td>\n      <td>2024-09-30</td>\n      <td>ALC</td>\n    </tr>\n    <tr>\n      <th>30835.0</th>\n      <td>ES</td>\n      <td>100900606611</td>\n      <td>165214923</td>\n      <td>2024-09-30 15:59:24+00:00</td>\n      <td>2024-09-30 15:59:26+00:00</td>\n      <td>CAR</td>\n      <td>2024-09-30 16:09:12.280000+00:00</td>\n      <td>2024-09-30 16:10:40+00:00</td>\n      <td>2024-09-30 16:11:30+00:00</td>\n      <td>38.344795</td>\n      <td>...</td>\n      <td>15</td>\n      <td>0.669243</td>\n      <td>-0.008452</td>\n      <td>0.669260</td>\n      <td>-0.008486</td>\n      <td>203.358663</td>\n      <td>11801.253034</td>\n      <td>281.024598</td>\n      <td>2024-09-30</td>\n      <td>ALC</td>\n    </tr>\n    <tr>\n      <th>...</th>\n      <td>...</td>\n      <td>...</td>\n      <td>...</td>\n      <td>...</td>\n      <td>...</td>\n      <td>...</td>\n      <td>...</td>\n      <td>...</td>\n      <td>...</td>\n      <td>...</td>\n      <td>...</td>\n      <td>...</td>\n      <td>...</td>\n      <td>...</td>\n      <td>...</td>\n      <td>...</td>\n      <td>...</td>\n      <td>...</td>\n      <td>...</td>\n      <td>...</td>\n      <td>...</td>\n    </tr>\n    <tr>\n      <th>84190.0</th>\n      <td>ES</td>\n      <td>100928671286</td>\n      <td>153689739</td>\n      <td>2024-10-13 00:28:02+00:00</td>\n      <td>2024-10-13 00:28:03+00:00</td>\n      <td>MOTORBIKE</td>\n      <td>2024-10-13 00:41:39.168000+00:00</td>\n      <td>2024-10-13 00:46:07+00:00</td>\n      <td>2024-10-13 00:47:31+00:00</td>\n      <td>37.378075</td>\n      <td>...</td>\n      <td>0</td>\n      <td>0.652370</td>\n      <td>-0.104744</td>\n      <td>0.652470</td>\n      <td>-0.104904</td>\n      <td>1025.783470</td>\n      <td>66127.090550</td>\n      <td>1441.614259</td>\n      <td>2024-10-13</td>\n      <td>SEV</td>\n    </tr>\n    <tr>\n      <th>84192.0</th>\n      <td>ES</td>\n      <td>100928694365</td>\n      <td>47322857</td>\n      <td>2024-10-13 01:01:47+00:00</td>\n      <td>2024-10-13 01:01:48+00:00</td>\n      <td>MOTORBIKE</td>\n      <td>2024-10-13 01:13:34.019000+00:00</td>\n      <td>2024-10-13 01:19:04+00:00</td>\n      <td>2024-10-13 01:19:57+00:00</td>\n      <td>37.387486</td>\n      <td>...</td>\n      <td>1</td>\n      <td>0.652535</td>\n      <td>-0.104622</td>\n      <td>0.652471</td>\n      <td>-0.104454</td>\n      <td>941.828214</td>\n      <td>62771.946428</td>\n      <td>1256.815499</td>\n      <td>2024-10-13</td>\n      <td>SEV</td>\n    </tr>\n    <tr>\n      <th>84663.0</th>\n      <td>ES</td>\n      <td>100928684412</td>\n      <td>161064501</td>\n      <td>2024-10-13 00:45:40+00:00</td>\n      <td>2024-10-13 00:45:41+00:00</td>\n      <td>MOTORBIKE</td>\n      <td>2024-10-13 00:48:59.222000+00:00</td>\n      <td>2024-10-13 01:01:19+00:00</td>\n      <td>2024-10-13 01:03:45+00:00</td>\n      <td>37.387287</td>\n      <td>...</td>\n      <td>0</td>\n      <td>0.652531</td>\n      <td>-0.104703</td>\n      <td>0.652888</td>\n      <td>-0.104330</td>\n      <td>2953.644386</td>\n      <td>183983.117770</td>\n      <td>4164.380647</td>\n      <td>2024-10-13</td>\n      <td>SEV</td>\n    </tr>\n    <tr>\n      <th>85111.0</th>\n      <td>ES</td>\n      <td>100928674045</td>\n      <td>116722332</td>\n      <td>2024-10-13 00:31:28+00:00</td>\n      <td>2024-10-13 00:31:30+00:00</td>\n      <td>BICYCLE</td>\n      <td>2024-10-13 00:38:09.763000+00:00</td>\n      <td>2024-10-13 00:46:43+00:00</td>\n      <td>2024-10-13 00:50:11+00:00</td>\n      <td>37.399765</td>\n      <td>...</td>\n      <td>0</td>\n      <td>0.652749</td>\n      <td>-0.104704</td>\n      <td>0.652673</td>\n      <td>-0.104349</td>\n      <td>1863.266164</td>\n      <td>126973.442730</td>\n      <td>2286.464880</td>\n      <td>2024-10-13</td>\n      <td>SEV</td>\n    </tr>\n    <tr>\n      <th>85969.0</th>\n      <td>ES</td>\n      <td>100928695147</td>\n      <td>176278944</td>\n      <td>2024-10-13 01:03:15+00:00</td>\n      <td>2024-10-13 01:03:17+00:00</td>\n      <td>MOTORBIKE</td>\n      <td>2024-10-13 01:12:47.768000+00:00</td>\n      <td>2024-10-13 01:21:52+00:00</td>\n      <td>2024-10-13 01:27:15+00:00</td>\n      <td>37.404610</td>\n      <td>...</td>\n      <td>1</td>\n      <td>0.652834</td>\n      <td>-0.103950</td>\n      <td>0.652811</td>\n      <td>-0.104499</td>\n      <td>2778.912106</td>\n      <td>191684.301238</td>\n      <td>2924.354959</td>\n      <td>2024-10-13</td>\n      <td>SEV</td>\n    </tr>\n  </tbody>\n</table>\n<p>678018 rows × 26 columns</p>\n</div>"
     },
     "execution_count": 77,
     "metadata": {},
     "output_type": "execute_result"
    }
   ],
   "source": [
    "a['pickup_latitude_rad'] = np.radians(a['pickup_latitude'])\n",
    "a['pickup_longitude_rad'] = np.radians(a['pickup_longitude'])\n",
    "a['delivery_latitude_rad'] = np.radians(a['delivery_latitude'])\n",
    "a['delivery_longitude_rad'] = np.radians(a['delivery_longitude'])\n",
    "a"
   ],
   "metadata": {
    "collapsed": false,
    "ExecuteTime": {
     "end_time": "2024-11-06T08:59:15.708314Z",
     "start_time": "2024-11-06T08:59:15.442746Z"
    }
   },
   "id": "a2ebb461db68761a",
   "execution_count": 77
  },
  {
   "cell_type": "code",
   "outputs": [
    {
     "name": "stdout",
     "output_type": "stream",
     "text": [
      "country_code                   0\n",
      "order_id                       0\n",
      "courier_id                     0\n",
      "creation_timestamp             0\n",
      "activation_timestamp           0\n",
      "transport                      0\n",
      "pickup_timestamp               0\n",
      "delivery_entering_timestamp    0\n",
      "delivery_timestamp             0\n",
      "pickup_latitude                0\n",
      "pickup_longitude               0\n",
      "delivery_latitude              0\n",
      "delivery_longitude             0\n",
      "time_zone                      0\n",
      "p_creation_date                0\n",
      "creation_time                  0\n",
      "creation_hour                  0\n",
      "pickup_latitude_rad            0\n",
      "pickup_longitude_rad           0\n",
      "delivery_latitude_rad          0\n",
      "delivery_longitude_rad         0\n",
      "pd_distance_haversine_m        0\n",
      "pd_distance_haversine_m_sk     0\n",
      "pd_distance_manhattan_m        0\n",
      "creation_date                  0\n",
      "city_code                      0\n",
      "dtype: int64\n"
     ]
    }
   ],
   "source": [
    "print(a.isnull().sum())"
   ],
   "metadata": {
    "collapsed": false,
    "ExecuteTime": {
     "end_time": "2024-11-06T08:59:15.990757Z",
     "start_time": "2024-11-06T08:59:15.814579Z"
    }
   },
   "id": "bcb41a6b76257897",
   "execution_count": 78
  },
  {
   "cell_type": "code",
   "outputs": [
    {
     "name": "stdout",
     "output_type": "stream",
     "text": [
      "0\n"
     ]
    }
   ],
   "source": [
    "print(y_train.isnull().sum())"
   ],
   "metadata": {
    "collapsed": false,
    "ExecuteTime": {
     "end_time": "2024-11-06T08:59:16.042459Z",
     "start_time": "2024-11-06T08:59:15.833296Z"
    }
   },
   "id": "71109bd3f9c0c8f7",
   "execution_count": 79
  },
  {
   "cell_type": "markdown",
   "source": [
    "## Baseline Models\n",
    "\n",
    "### BaselineModel_sum"
   ],
   "metadata": {
    "collapsed": false
   },
   "id": "e01843bd221d9df1"
  },
  {
   "cell_type": "code",
   "outputs": [
    {
     "data": {
      "text/plain": "<estimator.BaselineModel_sum at 0x12b240e30>"
     },
     "execution_count": 80,
     "metadata": {},
     "output_type": "execute_result"
    }
   ],
   "source": [
    "model_bl_sum = BaselineModel_sum()\n",
    "model_bl_sum.fit(X_train, y_train)"
   ],
   "metadata": {
    "collapsed": false,
    "ExecuteTime": {
     "end_time": "2024-11-06T08:59:18.136826Z",
     "start_time": "2024-11-06T08:59:15.893456Z"
    }
   },
   "id": "7319e4fbfc086581",
   "execution_count": 80
  },
  {
   "cell_type": "code",
   "outputs": [
    {
     "data": {
      "text/plain": "        country_code      order_id  courier_id        creation_timestamp  \\\n9605.0            ES  100931299686   172175095 2024-10-14 00:09:32+00:00   \n14786.0           ES  100931323115   170201413 2024-10-14 00:50:44+00:00   \n25221.0           ES  100933187613   176241347 2024-10-14 23:24:53+00:00   \n25225.0           ES  100933198445    10191824 2024-10-14 23:37:45+00:00   \n25277.0           ES  100931749423   169099229 2024-10-14 12:57:37+00:00   \n...              ...           ...         ...                       ...   \n68825.0           ES  100944409080   147454989 2024-10-20 00:46:55+00:00   \n69405.0           ES  100944420353   176969361 2024-10-20 01:05:42+00:00   \n69964.0           ES  100944376912   175206228 2024-10-20 00:06:02+00:00   \n70230.0           ES  100944400312   174198829 2024-10-20 00:34:03+00:00   \n70533.0           ES  100944380973   168406068 2024-10-20 00:10:34+00:00   \n\n             activation_timestamp  transport                 pickup_timestamp  \\\n9605.0  2024-10-14 00:09:34+00:00  MOTORBIKE 2024-10-14 00:28:54.317000+00:00   \n14786.0 2024-10-14 10:12:43+00:00        CAR 2024-10-14 10:36:43.867000+00:00   \n25221.0 2024-10-14 23:24:54+00:00    BICYCLE 2024-10-14 23:40:38.323000+00:00   \n25225.0 2024-10-14 23:37:46+00:00  MOTORBIKE 2024-10-14 23:50:58.351000+00:00   \n25277.0 2024-10-14 12:57:38+00:00        CAR 2024-10-14 13:11:50.300000+00:00   \n...                           ...        ...                              ...   \n68825.0 2024-10-20 00:46:56+00:00  MOTORBIKE 2024-10-20 01:01:08.935000+00:00   \n69405.0 2024-10-20 01:05:43+00:00  MOTORBIKE 2024-10-20 01:30:10.501000+00:00   \n69964.0 2024-10-20 00:06:03+00:00  MOTORBIKE 2024-10-20 00:15:41.425000+00:00   \n70230.0 2024-10-20 00:34:04+00:00    BICYCLE 2024-10-20 00:37:07.381000+00:00   \n70533.0 2024-10-20 00:10:35+00:00  MOTORBIKE 2024-10-20 00:22:44.851000+00:00   \n\n        delivery_entering_timestamp        delivery_timestamp  \\\n9605.0    2024-10-14 00:34:47+00:00 2024-10-14 00:36:48+00:00   \n14786.0   2024-10-14 10:48:41+00:00 2024-10-14 10:53:34+00:00   \n25221.0   2024-10-14 23:45:02+00:00 2024-10-14 23:45:58+00:00   \n25225.0   2024-10-15 00:03:18+00:00 2024-10-15 00:04:30+00:00   \n25277.0   2024-10-14 13:21:17+00:00 2024-10-14 13:22:05+00:00   \n...                             ...                       ...   \n68825.0   2024-10-20 01:03:39+00:00 2024-10-20 01:04:31+00:00   \n69405.0   2024-10-20 01:39:29+00:00 2024-10-20 01:52:39+00:00   \n69964.0   2024-10-20 00:28:04+00:00 2024-10-20 00:30:14+00:00   \n70230.0   2024-10-20 00:50:14+00:00 2024-10-20 00:52:55+00:00   \n70533.0   2024-10-20 00:25:59+00:00 2024-10-20 00:28:42+00:00   \n\n         pickup_latitude  ...  delivery_latitude_rad  delivery_longitude_rad  \\\n9605.0         38.382520  ...               0.669500               -0.008304   \n14786.0        38.348476  ...               0.669187               -0.008794   \n25221.0        38.345078  ...               0.669327               -0.008516   \n25225.0        38.345078  ...               0.669202               -0.008581   \n25277.0        38.361095  ...               0.669182               -0.008611   \n...                  ...  ...                    ...                     ...   \n68825.0        37.394580  ...                    NaN                     NaN   \n69405.0        37.371475  ...                    NaN                     NaN   \n69964.0        37.378030  ...                    NaN                     NaN   \n70230.0        37.377640  ...                    NaN                     NaN   \n70533.0        37.392517  ...                    NaN                     NaN   \n\n         pd_distance_haversine_m pd_distance_haversine_m_sk  \\\n9605.0               3310.852444                3310.852444   \n14786.0              1705.517814                1705.517814   \n25221.0               636.152666                 636.152666   \n25225.0               774.114259                 774.114259   \n25277.0              2205.902313                2205.902313   \n...                          ...                        ...   \n68825.0               422.299379               25245.687311   \n69405.0              3131.145748              211357.960688   \n69964.0              1338.584915               76882.004286   \n70230.0              2425.338748              148308.288934   \n70533.0               383.352616               25898.994466   \n\n        pd_distance_manhattan_m creation_date  city_code  y_test_predicted  \\\n9605.0              4665.700375    2024-10-14        ALC        740.903890   \n14786.0             2292.240241    2024-10-14        ALC        371.866705   \n25221.0              893.835525    2024-10-14        ALC         70.327965   \n25225.0             1012.032964    2024-10-14        ALC        285.962146   \n25277.0             2337.577867    2024-10-14        ALC         32.686960   \n...                         ...           ...        ...               ...   \n68825.0              567.529529    2024-10-20        SEV        497.429384   \n69405.0             3907.369182    2024-10-20        SEV        168.525163   \n69964.0             1474.909884    2024-10-20        SEV        324.976805   \n70230.0             3384.627931    2024-10-20        SEV        158.185789   \n70533.0              490.752279    2024-10-20        SEV        633.274614   \n\n          y_test        diff  \n9605.0   352.683  388.220890  \n14786.0  717.133 -345.266295  \n25221.0  263.677 -193.349035  \n25225.0  739.649 -453.686854  \n25277.0  566.700 -534.013040  \n...          ...         ...  \n68825.0  150.065  347.364384  \n69405.0  558.499 -389.973837  \n69964.0  742.575 -417.598195  \n70230.0  786.619 -628.433211  \n70533.0  194.149  439.125614  \n\n[2355624 rows x 29 columns]",
      "text/html": "<div>\n<style scoped>\n    .dataframe tbody tr th:only-of-type {\n        vertical-align: middle;\n    }\n\n    .dataframe tbody tr th {\n        vertical-align: top;\n    }\n\n    .dataframe thead th {\n        text-align: right;\n    }\n</style>\n<table border=\"1\" class=\"dataframe\">\n  <thead>\n    <tr style=\"text-align: right;\">\n      <th></th>\n      <th>country_code</th>\n      <th>order_id</th>\n      <th>courier_id</th>\n      <th>creation_timestamp</th>\n      <th>activation_timestamp</th>\n      <th>transport</th>\n      <th>pickup_timestamp</th>\n      <th>delivery_entering_timestamp</th>\n      <th>delivery_timestamp</th>\n      <th>pickup_latitude</th>\n      <th>...</th>\n      <th>delivery_latitude_rad</th>\n      <th>delivery_longitude_rad</th>\n      <th>pd_distance_haversine_m</th>\n      <th>pd_distance_haversine_m_sk</th>\n      <th>pd_distance_manhattan_m</th>\n      <th>creation_date</th>\n      <th>city_code</th>\n      <th>y_test_predicted</th>\n      <th>y_test</th>\n      <th>diff</th>\n    </tr>\n  </thead>\n  <tbody>\n    <tr>\n      <th>9605.0</th>\n      <td>ES</td>\n      <td>100931299686</td>\n      <td>172175095</td>\n      <td>2024-10-14 00:09:32+00:00</td>\n      <td>2024-10-14 00:09:34+00:00</td>\n      <td>MOTORBIKE</td>\n      <td>2024-10-14 00:28:54.317000+00:00</td>\n      <td>2024-10-14 00:34:47+00:00</td>\n      <td>2024-10-14 00:36:48+00:00</td>\n      <td>38.382520</td>\n      <td>...</td>\n      <td>0.669500</td>\n      <td>-0.008304</td>\n      <td>3310.852444</td>\n      <td>3310.852444</td>\n      <td>4665.700375</td>\n      <td>2024-10-14</td>\n      <td>ALC</td>\n      <td>740.903890</td>\n      <td>352.683</td>\n      <td>388.220890</td>\n    </tr>\n    <tr>\n      <th>14786.0</th>\n      <td>ES</td>\n      <td>100931323115</td>\n      <td>170201413</td>\n      <td>2024-10-14 00:50:44+00:00</td>\n      <td>2024-10-14 10:12:43+00:00</td>\n      <td>CAR</td>\n      <td>2024-10-14 10:36:43.867000+00:00</td>\n      <td>2024-10-14 10:48:41+00:00</td>\n      <td>2024-10-14 10:53:34+00:00</td>\n      <td>38.348476</td>\n      <td>...</td>\n      <td>0.669187</td>\n      <td>-0.008794</td>\n      <td>1705.517814</td>\n      <td>1705.517814</td>\n      <td>2292.240241</td>\n      <td>2024-10-14</td>\n      <td>ALC</td>\n      <td>371.866705</td>\n      <td>717.133</td>\n      <td>-345.266295</td>\n    </tr>\n    <tr>\n      <th>25221.0</th>\n      <td>ES</td>\n      <td>100933187613</td>\n      <td>176241347</td>\n      <td>2024-10-14 23:24:53+00:00</td>\n      <td>2024-10-14 23:24:54+00:00</td>\n      <td>BICYCLE</td>\n      <td>2024-10-14 23:40:38.323000+00:00</td>\n      <td>2024-10-14 23:45:02+00:00</td>\n      <td>2024-10-14 23:45:58+00:00</td>\n      <td>38.345078</td>\n      <td>...</td>\n      <td>0.669327</td>\n      <td>-0.008516</td>\n      <td>636.152666</td>\n      <td>636.152666</td>\n      <td>893.835525</td>\n      <td>2024-10-14</td>\n      <td>ALC</td>\n      <td>70.327965</td>\n      <td>263.677</td>\n      <td>-193.349035</td>\n    </tr>\n    <tr>\n      <th>25225.0</th>\n      <td>ES</td>\n      <td>100933198445</td>\n      <td>10191824</td>\n      <td>2024-10-14 23:37:45+00:00</td>\n      <td>2024-10-14 23:37:46+00:00</td>\n      <td>MOTORBIKE</td>\n      <td>2024-10-14 23:50:58.351000+00:00</td>\n      <td>2024-10-15 00:03:18+00:00</td>\n      <td>2024-10-15 00:04:30+00:00</td>\n      <td>38.345078</td>\n      <td>...</td>\n      <td>0.669202</td>\n      <td>-0.008581</td>\n      <td>774.114259</td>\n      <td>774.114259</td>\n      <td>1012.032964</td>\n      <td>2024-10-14</td>\n      <td>ALC</td>\n      <td>285.962146</td>\n      <td>739.649</td>\n      <td>-453.686854</td>\n    </tr>\n    <tr>\n      <th>25277.0</th>\n      <td>ES</td>\n      <td>100931749423</td>\n      <td>169099229</td>\n      <td>2024-10-14 12:57:37+00:00</td>\n      <td>2024-10-14 12:57:38+00:00</td>\n      <td>CAR</td>\n      <td>2024-10-14 13:11:50.300000+00:00</td>\n      <td>2024-10-14 13:21:17+00:00</td>\n      <td>2024-10-14 13:22:05+00:00</td>\n      <td>38.361095</td>\n      <td>...</td>\n      <td>0.669182</td>\n      <td>-0.008611</td>\n      <td>2205.902313</td>\n      <td>2205.902313</td>\n      <td>2337.577867</td>\n      <td>2024-10-14</td>\n      <td>ALC</td>\n      <td>32.686960</td>\n      <td>566.700</td>\n      <td>-534.013040</td>\n    </tr>\n    <tr>\n      <th>...</th>\n      <td>...</td>\n      <td>...</td>\n      <td>...</td>\n      <td>...</td>\n      <td>...</td>\n      <td>...</td>\n      <td>...</td>\n      <td>...</td>\n      <td>...</td>\n      <td>...</td>\n      <td>...</td>\n      <td>...</td>\n      <td>...</td>\n      <td>...</td>\n      <td>...</td>\n      <td>...</td>\n      <td>...</td>\n      <td>...</td>\n      <td>...</td>\n      <td>...</td>\n      <td>...</td>\n    </tr>\n    <tr>\n      <th>68825.0</th>\n      <td>ES</td>\n      <td>100944409080</td>\n      <td>147454989</td>\n      <td>2024-10-20 00:46:55+00:00</td>\n      <td>2024-10-20 00:46:56+00:00</td>\n      <td>MOTORBIKE</td>\n      <td>2024-10-20 01:01:08.935000+00:00</td>\n      <td>2024-10-20 01:03:39+00:00</td>\n      <td>2024-10-20 01:04:31+00:00</td>\n      <td>37.394580</td>\n      <td>...</td>\n      <td>NaN</td>\n      <td>NaN</td>\n      <td>422.299379</td>\n      <td>25245.687311</td>\n      <td>567.529529</td>\n      <td>2024-10-20</td>\n      <td>SEV</td>\n      <td>497.429384</td>\n      <td>150.065</td>\n      <td>347.364384</td>\n    </tr>\n    <tr>\n      <th>69405.0</th>\n      <td>ES</td>\n      <td>100944420353</td>\n      <td>176969361</td>\n      <td>2024-10-20 01:05:42+00:00</td>\n      <td>2024-10-20 01:05:43+00:00</td>\n      <td>MOTORBIKE</td>\n      <td>2024-10-20 01:30:10.501000+00:00</td>\n      <td>2024-10-20 01:39:29+00:00</td>\n      <td>2024-10-20 01:52:39+00:00</td>\n      <td>37.371475</td>\n      <td>...</td>\n      <td>NaN</td>\n      <td>NaN</td>\n      <td>3131.145748</td>\n      <td>211357.960688</td>\n      <td>3907.369182</td>\n      <td>2024-10-20</td>\n      <td>SEV</td>\n      <td>168.525163</td>\n      <td>558.499</td>\n      <td>-389.973837</td>\n    </tr>\n    <tr>\n      <th>69964.0</th>\n      <td>ES</td>\n      <td>100944376912</td>\n      <td>175206228</td>\n      <td>2024-10-20 00:06:02+00:00</td>\n      <td>2024-10-20 00:06:03+00:00</td>\n      <td>MOTORBIKE</td>\n      <td>2024-10-20 00:15:41.425000+00:00</td>\n      <td>2024-10-20 00:28:04+00:00</td>\n      <td>2024-10-20 00:30:14+00:00</td>\n      <td>37.378030</td>\n      <td>...</td>\n      <td>NaN</td>\n      <td>NaN</td>\n      <td>1338.584915</td>\n      <td>76882.004286</td>\n      <td>1474.909884</td>\n      <td>2024-10-20</td>\n      <td>SEV</td>\n      <td>324.976805</td>\n      <td>742.575</td>\n      <td>-417.598195</td>\n    </tr>\n    <tr>\n      <th>70230.0</th>\n      <td>ES</td>\n      <td>100944400312</td>\n      <td>174198829</td>\n      <td>2024-10-20 00:34:03+00:00</td>\n      <td>2024-10-20 00:34:04+00:00</td>\n      <td>BICYCLE</td>\n      <td>2024-10-20 00:37:07.381000+00:00</td>\n      <td>2024-10-20 00:50:14+00:00</td>\n      <td>2024-10-20 00:52:55+00:00</td>\n      <td>37.377640</td>\n      <td>...</td>\n      <td>NaN</td>\n      <td>NaN</td>\n      <td>2425.338748</td>\n      <td>148308.288934</td>\n      <td>3384.627931</td>\n      <td>2024-10-20</td>\n      <td>SEV</td>\n      <td>158.185789</td>\n      <td>786.619</td>\n      <td>-628.433211</td>\n    </tr>\n    <tr>\n      <th>70533.0</th>\n      <td>ES</td>\n      <td>100944380973</td>\n      <td>168406068</td>\n      <td>2024-10-20 00:10:34+00:00</td>\n      <td>2024-10-20 00:10:35+00:00</td>\n      <td>MOTORBIKE</td>\n      <td>2024-10-20 00:22:44.851000+00:00</td>\n      <td>2024-10-20 00:25:59+00:00</td>\n      <td>2024-10-20 00:28:42+00:00</td>\n      <td>37.392517</td>\n      <td>...</td>\n      <td>NaN</td>\n      <td>NaN</td>\n      <td>383.352616</td>\n      <td>25898.994466</td>\n      <td>490.752279</td>\n      <td>2024-10-20</td>\n      <td>SEV</td>\n      <td>633.274614</td>\n      <td>194.149</td>\n      <td>439.125614</td>\n    </tr>\n  </tbody>\n</table>\n<p>2355624 rows × 29 columns</p>\n</div>"
     },
     "execution_count": 81,
     "metadata": {},
     "output_type": "execute_result"
    }
   ],
   "source": [
    "X_test_expanded = X_test.copy()\n",
    "X_test_expanded['y_test_predicted'] = model_bl_sum.predict(X_test)\n",
    "X_test_expanded['y_test'] = (X_test_expanded['delivery_entering_timestamp'] - X_test_expanded['pickup_timestamp']).dt.total_seconds()\n",
    "X_test_expanded['diff'] = X_test_expanded['y_test_predicted'] - X_test_expanded['y_test']\n",
    "X_test_expanded"
   ],
   "metadata": {
    "collapsed": false,
    "ExecuteTime": {
     "end_time": "2024-11-06T09:01:26.366179Z",
     "start_time": "2024-11-06T08:59:18.137320Z"
    }
   },
   "id": "98ce61d074b1f290",
   "execution_count": 81
  },
  {
   "cell_type": "code",
   "outputs": [
    {
     "data": {
      "text/plain": "0    1058.713967\nName: pickup_to_delivery_predicted, dtype: float64"
     },
     "execution_count": 82,
     "metadata": {},
     "output_type": "execute_result"
    }
   ],
   "source": [
    "model_bl_sum.predict(X_test.iloc[0])"
   ],
   "metadata": {
    "collapsed": false,
    "ExecuteTime": {
     "end_time": "2024-11-06T09:01:26.463210Z",
     "start_time": "2024-11-06T09:01:26.362889Z"
    }
   },
   "id": "db7ceb8d51efef42",
   "execution_count": 82
  },
  {
   "cell_type": "markdown",
   "source": [
    "### BaselineModel_mean"
   ],
   "metadata": {
    "collapsed": false
   },
   "id": "3d31a26bb43bab07"
  },
  {
   "cell_type": "code",
   "outputs": [
    {
     "data": {
      "text/plain": "<estimator.BaselineModel_mean at 0x12b243140>"
     },
     "execution_count": 83,
     "metadata": {},
     "output_type": "execute_result"
    }
   ],
   "source": [
    "model_bl_mean = BaselineModel_mean()\n",
    "model_bl_mean.fit(X_train, y_train)"
   ],
   "metadata": {
    "collapsed": false,
    "ExecuteTime": {
     "end_time": "2024-11-06T09:01:28.927435Z",
     "start_time": "2024-11-06T09:01:26.363153Z"
    }
   },
   "id": "199e5c6e339d7c1",
   "execution_count": 83
  },
  {
   "cell_type": "code",
   "outputs": [
    {
     "data": {
      "text/plain": "        country_code      order_id  courier_id        creation_timestamp  \\\n9605.0            ES  100931299686   172175095 2024-10-14 00:09:32+00:00   \n14786.0           ES  100931323115   170201413 2024-10-14 00:50:44+00:00   \n25221.0           ES  100933187613   176241347 2024-10-14 23:24:53+00:00   \n25225.0           ES  100933198445    10191824 2024-10-14 23:37:45+00:00   \n25277.0           ES  100931749423   169099229 2024-10-14 12:57:37+00:00   \n...              ...           ...         ...                       ...   \n68825.0           ES  100944409080   147454989 2024-10-20 00:46:55+00:00   \n69405.0           ES  100944420353   176969361 2024-10-20 01:05:42+00:00   \n69964.0           ES  100944376912   175206228 2024-10-20 00:06:02+00:00   \n70230.0           ES  100944400312   174198829 2024-10-20 00:34:03+00:00   \n70533.0           ES  100944380973   168406068 2024-10-20 00:10:34+00:00   \n\n             activation_timestamp  transport                 pickup_timestamp  \\\n9605.0  2024-10-14 00:09:34+00:00  MOTORBIKE 2024-10-14 00:28:54.317000+00:00   \n14786.0 2024-10-14 10:12:43+00:00        CAR 2024-10-14 10:36:43.867000+00:00   \n25221.0 2024-10-14 23:24:54+00:00    BICYCLE 2024-10-14 23:40:38.323000+00:00   \n25225.0 2024-10-14 23:37:46+00:00  MOTORBIKE 2024-10-14 23:50:58.351000+00:00   \n25277.0 2024-10-14 12:57:38+00:00        CAR 2024-10-14 13:11:50.300000+00:00   \n...                           ...        ...                              ...   \n68825.0 2024-10-20 00:46:56+00:00  MOTORBIKE 2024-10-20 01:01:08.935000+00:00   \n69405.0 2024-10-20 01:05:43+00:00  MOTORBIKE 2024-10-20 01:30:10.501000+00:00   \n69964.0 2024-10-20 00:06:03+00:00  MOTORBIKE 2024-10-20 00:15:41.425000+00:00   \n70230.0 2024-10-20 00:34:04+00:00    BICYCLE 2024-10-20 00:37:07.381000+00:00   \n70533.0 2024-10-20 00:10:35+00:00  MOTORBIKE 2024-10-20 00:22:44.851000+00:00   \n\n        delivery_entering_timestamp        delivery_timestamp  \\\n9605.0    2024-10-14 00:34:47+00:00 2024-10-14 00:36:48+00:00   \n14786.0   2024-10-14 10:48:41+00:00 2024-10-14 10:53:34+00:00   \n25221.0   2024-10-14 23:45:02+00:00 2024-10-14 23:45:58+00:00   \n25225.0   2024-10-15 00:03:18+00:00 2024-10-15 00:04:30+00:00   \n25277.0   2024-10-14 13:21:17+00:00 2024-10-14 13:22:05+00:00   \n...                             ...                       ...   \n68825.0   2024-10-20 01:03:39+00:00 2024-10-20 01:04:31+00:00   \n69405.0   2024-10-20 01:39:29+00:00 2024-10-20 01:52:39+00:00   \n69964.0   2024-10-20 00:28:04+00:00 2024-10-20 00:30:14+00:00   \n70230.0   2024-10-20 00:50:14+00:00 2024-10-20 00:52:55+00:00   \n70533.0   2024-10-20 00:25:59+00:00 2024-10-20 00:28:42+00:00   \n\n         pickup_latitude  ...  delivery_latitude_rad  delivery_longitude_rad  \\\n9605.0         38.382520  ...               0.669500               -0.008304   \n14786.0        38.348476  ...               0.669187               -0.008794   \n25221.0        38.345078  ...               0.669327               -0.008516   \n25225.0        38.345078  ...               0.669202               -0.008581   \n25277.0        38.361095  ...               0.669182               -0.008611   \n...                  ...  ...                    ...                     ...   \n68825.0        37.394580  ...                    NaN                     NaN   \n69405.0        37.371475  ...                    NaN                     NaN   \n69964.0        37.378030  ...                    NaN                     NaN   \n70230.0        37.377640  ...                    NaN                     NaN   \n70533.0        37.392517  ...                    NaN                     NaN   \n\n         pd_distance_haversine_m pd_distance_haversine_m_sk  \\\n9605.0               3310.852444                3310.852444   \n14786.0              1705.517814                1705.517814   \n25221.0               636.152666                 636.152666   \n25225.0               774.114259                 774.114259   \n25277.0              2205.902313                2205.902313   \n...                          ...                        ...   \n68825.0               422.299379               25245.687311   \n69405.0              3131.145748              211357.960688   \n69964.0              1338.584915               76882.004286   \n70230.0              2425.338748              148308.288934   \n70533.0               383.352616               25898.994466   \n\n        pd_distance_manhattan_m creation_date  city_code  y_test_predicted  \\\n9605.0              4665.700375    2024-10-14        ALC       1058.891232   \n14786.0             2292.240241    2024-10-14        ALC        261.470911   \n25221.0              893.835525    2024-10-14        ALC         61.473436   \n25225.0             1012.032964    2024-10-14        ALC        201.068775   \n25277.0             2337.577867    2024-10-14        ALC         22.983207   \n...                         ...           ...        ...               ...   \n68825.0              567.529529    2024-10-20        SEV        434.801344   \n69405.0             3907.369182    2024-10-20        SEV        147.307276   \n69964.0             1474.909884    2024-10-20        SEV        284.061128   \n70230.0             3384.627931    2024-10-20        SEV        138.269664   \n70533.0              490.752279    2024-10-20        SEV        553.543201   \n\n          y_test        diff  \n9605.0   352.683  706.208232  \n14786.0  717.133 -455.662089  \n25221.0  263.677 -202.203564  \n25225.0  739.649 -538.580225  \n25277.0  566.700 -543.716793  \n...          ...         ...  \n68825.0  150.065  284.736344  \n69405.0  558.499 -411.191724  \n69964.0  742.575 -458.513872  \n70230.0  786.619 -648.349336  \n70533.0  194.149  359.394201  \n\n[2355624 rows x 29 columns]",
      "text/html": "<div>\n<style scoped>\n    .dataframe tbody tr th:only-of-type {\n        vertical-align: middle;\n    }\n\n    .dataframe tbody tr th {\n        vertical-align: top;\n    }\n\n    .dataframe thead th {\n        text-align: right;\n    }\n</style>\n<table border=\"1\" class=\"dataframe\">\n  <thead>\n    <tr style=\"text-align: right;\">\n      <th></th>\n      <th>country_code</th>\n      <th>order_id</th>\n      <th>courier_id</th>\n      <th>creation_timestamp</th>\n      <th>activation_timestamp</th>\n      <th>transport</th>\n      <th>pickup_timestamp</th>\n      <th>delivery_entering_timestamp</th>\n      <th>delivery_timestamp</th>\n      <th>pickup_latitude</th>\n      <th>...</th>\n      <th>delivery_latitude_rad</th>\n      <th>delivery_longitude_rad</th>\n      <th>pd_distance_haversine_m</th>\n      <th>pd_distance_haversine_m_sk</th>\n      <th>pd_distance_manhattan_m</th>\n      <th>creation_date</th>\n      <th>city_code</th>\n      <th>y_test_predicted</th>\n      <th>y_test</th>\n      <th>diff</th>\n    </tr>\n  </thead>\n  <tbody>\n    <tr>\n      <th>9605.0</th>\n      <td>ES</td>\n      <td>100931299686</td>\n      <td>172175095</td>\n      <td>2024-10-14 00:09:32+00:00</td>\n      <td>2024-10-14 00:09:34+00:00</td>\n      <td>MOTORBIKE</td>\n      <td>2024-10-14 00:28:54.317000+00:00</td>\n      <td>2024-10-14 00:34:47+00:00</td>\n      <td>2024-10-14 00:36:48+00:00</td>\n      <td>38.382520</td>\n      <td>...</td>\n      <td>0.669500</td>\n      <td>-0.008304</td>\n      <td>3310.852444</td>\n      <td>3310.852444</td>\n      <td>4665.700375</td>\n      <td>2024-10-14</td>\n      <td>ALC</td>\n      <td>1058.891232</td>\n      <td>352.683</td>\n      <td>706.208232</td>\n    </tr>\n    <tr>\n      <th>14786.0</th>\n      <td>ES</td>\n      <td>100931323115</td>\n      <td>170201413</td>\n      <td>2024-10-14 00:50:44+00:00</td>\n      <td>2024-10-14 10:12:43+00:00</td>\n      <td>CAR</td>\n      <td>2024-10-14 10:36:43.867000+00:00</td>\n      <td>2024-10-14 10:48:41+00:00</td>\n      <td>2024-10-14 10:53:34+00:00</td>\n      <td>38.348476</td>\n      <td>...</td>\n      <td>0.669187</td>\n      <td>-0.008794</td>\n      <td>1705.517814</td>\n      <td>1705.517814</td>\n      <td>2292.240241</td>\n      <td>2024-10-14</td>\n      <td>ALC</td>\n      <td>261.470911</td>\n      <td>717.133</td>\n      <td>-455.662089</td>\n    </tr>\n    <tr>\n      <th>25221.0</th>\n      <td>ES</td>\n      <td>100933187613</td>\n      <td>176241347</td>\n      <td>2024-10-14 23:24:53+00:00</td>\n      <td>2024-10-14 23:24:54+00:00</td>\n      <td>BICYCLE</td>\n      <td>2024-10-14 23:40:38.323000+00:00</td>\n      <td>2024-10-14 23:45:02+00:00</td>\n      <td>2024-10-14 23:45:58+00:00</td>\n      <td>38.345078</td>\n      <td>...</td>\n      <td>0.669327</td>\n      <td>-0.008516</td>\n      <td>636.152666</td>\n      <td>636.152666</td>\n      <td>893.835525</td>\n      <td>2024-10-14</td>\n      <td>ALC</td>\n      <td>61.473436</td>\n      <td>263.677</td>\n      <td>-202.203564</td>\n    </tr>\n    <tr>\n      <th>25225.0</th>\n      <td>ES</td>\n      <td>100933198445</td>\n      <td>10191824</td>\n      <td>2024-10-14 23:37:45+00:00</td>\n      <td>2024-10-14 23:37:46+00:00</td>\n      <td>MOTORBIKE</td>\n      <td>2024-10-14 23:50:58.351000+00:00</td>\n      <td>2024-10-15 00:03:18+00:00</td>\n      <td>2024-10-15 00:04:30+00:00</td>\n      <td>38.345078</td>\n      <td>...</td>\n      <td>0.669202</td>\n      <td>-0.008581</td>\n      <td>774.114259</td>\n      <td>774.114259</td>\n      <td>1012.032964</td>\n      <td>2024-10-14</td>\n      <td>ALC</td>\n      <td>201.068775</td>\n      <td>739.649</td>\n      <td>-538.580225</td>\n    </tr>\n    <tr>\n      <th>25277.0</th>\n      <td>ES</td>\n      <td>100931749423</td>\n      <td>169099229</td>\n      <td>2024-10-14 12:57:37+00:00</td>\n      <td>2024-10-14 12:57:38+00:00</td>\n      <td>CAR</td>\n      <td>2024-10-14 13:11:50.300000+00:00</td>\n      <td>2024-10-14 13:21:17+00:00</td>\n      <td>2024-10-14 13:22:05+00:00</td>\n      <td>38.361095</td>\n      <td>...</td>\n      <td>0.669182</td>\n      <td>-0.008611</td>\n      <td>2205.902313</td>\n      <td>2205.902313</td>\n      <td>2337.577867</td>\n      <td>2024-10-14</td>\n      <td>ALC</td>\n      <td>22.983207</td>\n      <td>566.700</td>\n      <td>-543.716793</td>\n    </tr>\n    <tr>\n      <th>...</th>\n      <td>...</td>\n      <td>...</td>\n      <td>...</td>\n      <td>...</td>\n      <td>...</td>\n      <td>...</td>\n      <td>...</td>\n      <td>...</td>\n      <td>...</td>\n      <td>...</td>\n      <td>...</td>\n      <td>...</td>\n      <td>...</td>\n      <td>...</td>\n      <td>...</td>\n      <td>...</td>\n      <td>...</td>\n      <td>...</td>\n      <td>...</td>\n      <td>...</td>\n      <td>...</td>\n    </tr>\n    <tr>\n      <th>68825.0</th>\n      <td>ES</td>\n      <td>100944409080</td>\n      <td>147454989</td>\n      <td>2024-10-20 00:46:55+00:00</td>\n      <td>2024-10-20 00:46:56+00:00</td>\n      <td>MOTORBIKE</td>\n      <td>2024-10-20 01:01:08.935000+00:00</td>\n      <td>2024-10-20 01:03:39+00:00</td>\n      <td>2024-10-20 01:04:31+00:00</td>\n      <td>37.394580</td>\n      <td>...</td>\n      <td>NaN</td>\n      <td>NaN</td>\n      <td>422.299379</td>\n      <td>25245.687311</td>\n      <td>567.529529</td>\n      <td>2024-10-20</td>\n      <td>SEV</td>\n      <td>434.801344</td>\n      <td>150.065</td>\n      <td>284.736344</td>\n    </tr>\n    <tr>\n      <th>69405.0</th>\n      <td>ES</td>\n      <td>100944420353</td>\n      <td>176969361</td>\n      <td>2024-10-20 01:05:42+00:00</td>\n      <td>2024-10-20 01:05:43+00:00</td>\n      <td>MOTORBIKE</td>\n      <td>2024-10-20 01:30:10.501000+00:00</td>\n      <td>2024-10-20 01:39:29+00:00</td>\n      <td>2024-10-20 01:52:39+00:00</td>\n      <td>37.371475</td>\n      <td>...</td>\n      <td>NaN</td>\n      <td>NaN</td>\n      <td>3131.145748</td>\n      <td>211357.960688</td>\n      <td>3907.369182</td>\n      <td>2024-10-20</td>\n      <td>SEV</td>\n      <td>147.307276</td>\n      <td>558.499</td>\n      <td>-411.191724</td>\n    </tr>\n    <tr>\n      <th>69964.0</th>\n      <td>ES</td>\n      <td>100944376912</td>\n      <td>175206228</td>\n      <td>2024-10-20 00:06:02+00:00</td>\n      <td>2024-10-20 00:06:03+00:00</td>\n      <td>MOTORBIKE</td>\n      <td>2024-10-20 00:15:41.425000+00:00</td>\n      <td>2024-10-20 00:28:04+00:00</td>\n      <td>2024-10-20 00:30:14+00:00</td>\n      <td>37.378030</td>\n      <td>...</td>\n      <td>NaN</td>\n      <td>NaN</td>\n      <td>1338.584915</td>\n      <td>76882.004286</td>\n      <td>1474.909884</td>\n      <td>2024-10-20</td>\n      <td>SEV</td>\n      <td>284.061128</td>\n      <td>742.575</td>\n      <td>-458.513872</td>\n    </tr>\n    <tr>\n      <th>70230.0</th>\n      <td>ES</td>\n      <td>100944400312</td>\n      <td>174198829</td>\n      <td>2024-10-20 00:34:03+00:00</td>\n      <td>2024-10-20 00:34:04+00:00</td>\n      <td>BICYCLE</td>\n      <td>2024-10-20 00:37:07.381000+00:00</td>\n      <td>2024-10-20 00:50:14+00:00</td>\n      <td>2024-10-20 00:52:55+00:00</td>\n      <td>37.377640</td>\n      <td>...</td>\n      <td>NaN</td>\n      <td>NaN</td>\n      <td>2425.338748</td>\n      <td>148308.288934</td>\n      <td>3384.627931</td>\n      <td>2024-10-20</td>\n      <td>SEV</td>\n      <td>138.269664</td>\n      <td>786.619</td>\n      <td>-648.349336</td>\n    </tr>\n    <tr>\n      <th>70533.0</th>\n      <td>ES</td>\n      <td>100944380973</td>\n      <td>168406068</td>\n      <td>2024-10-20 00:10:34+00:00</td>\n      <td>2024-10-20 00:10:35+00:00</td>\n      <td>MOTORBIKE</td>\n      <td>2024-10-20 00:22:44.851000+00:00</td>\n      <td>2024-10-20 00:25:59+00:00</td>\n      <td>2024-10-20 00:28:42+00:00</td>\n      <td>37.392517</td>\n      <td>...</td>\n      <td>NaN</td>\n      <td>NaN</td>\n      <td>383.352616</td>\n      <td>25898.994466</td>\n      <td>490.752279</td>\n      <td>2024-10-20</td>\n      <td>SEV</td>\n      <td>553.543201</td>\n      <td>194.149</td>\n      <td>359.394201</td>\n    </tr>\n  </tbody>\n</table>\n<p>2355624 rows × 29 columns</p>\n</div>"
     },
     "execution_count": 84,
     "metadata": {},
     "output_type": "execute_result"
    }
   ],
   "source": [
    "X_test_expanded2 = X_test.copy()\n",
    "X_test_expanded2['y_test_predicted'] = model_bl_mean.predict(X_test)\n",
    "X_test_expanded2['y_test'] = (X_test_expanded2['delivery_entering_timestamp'] - X_test_expanded2['pickup_timestamp']).dt.total_seconds()\n",
    "X_test_expanded2['diff'] = X_test_expanded2['y_test_predicted'] - X_test_expanded2['y_test']\n",
    "X_test_expanded2"
   ],
   "metadata": {
    "collapsed": false,
    "ExecuteTime": {
     "end_time": "2024-11-06T09:03:38.167553Z",
     "start_time": "2024-11-06T09:01:28.762881Z"
    }
   },
   "id": "da2363ec8ae10e56",
   "execution_count": 84
  },
  {
   "cell_type": "code",
   "outputs": [
    {
     "data": {
      "text/plain": "0    744.414334\nName: pickup_to_delivery_predicted, dtype: float64"
     },
     "execution_count": 85,
     "metadata": {},
     "output_type": "execute_result"
    }
   ],
   "source": [
    "model_bl_mean.predict(X_test.iloc[0])"
   ],
   "metadata": {
    "collapsed": false,
    "ExecuteTime": {
     "end_time": "2024-11-06T09:03:38.223290Z",
     "start_time": "2024-11-06T09:03:38.164862Z"
    }
   },
   "id": "d7329630cd310504",
   "execution_count": 85
  },
  {
   "cell_type": "markdown",
   "source": [
    "## Evaluation pipeline"
   ],
   "metadata": {
    "collapsed": false
   },
   "id": "b65c835da4563a72"
  },
  {
   "cell_type": "code",
   "outputs": [
    {
     "data": {
      "text/plain": "(np.float64(452553676615.8744), np.float64(2.8705866566261753e+23))"
     },
     "execution_count": 86,
     "metadata": {},
     "output_type": "execute_result"
    }
   ],
   "source": [
    "model_bl_sum.evaluate(X_test, y_test)"
   ],
   "metadata": {
    "collapsed": false,
    "ExecuteTime": {
     "end_time": "2024-11-06T09:06:12.716266Z",
     "start_time": "2024-11-06T09:03:38.172894Z"
    }
   },
   "id": "92356bab8168e738",
   "execution_count": 86
  },
  {
   "cell_type": "code",
   "outputs": [
    {
     "data": {
      "text/plain": "(np.float64(452553676660.9587), np.float64(2.8705866570349458e+23))"
     },
     "execution_count": 87,
     "metadata": {},
     "output_type": "execute_result"
    }
   ],
   "source": [
    "model_bl_mean.evaluate(X_test, y_test)"
   ],
   "metadata": {
    "collapsed": false,
    "ExecuteTime": {
     "end_time": "2024-11-06T09:08:24.601506Z",
     "start_time": "2024-11-06T09:06:12.712259Z"
    }
   },
   "id": "d06a05c54e737f56",
   "execution_count": 87
  },
  {
   "cell_type": "markdown",
   "source": [
    "## Linear Model"
   ],
   "metadata": {
    "collapsed": false
   },
   "id": "917c211d4ba0e732"
  },
  {
   "cell_type": "code",
   "outputs": [
    {
     "ename": "ValueError",
     "evalue": "Input contains NaN",
     "output_type": "error",
     "traceback": [
      "\u001B[0;31m---------------------------------------------------------------------------\u001B[0m",
      "\u001B[0;31mValueError\u001B[0m                                Traceback (most recent call last)",
      "Cell \u001B[0;32mIn[88], line 2\u001B[0m\n\u001B[1;32m      1\u001B[0m model_linear \u001B[38;5;241m=\u001B[39m LinearModel()\n\u001B[0;32m----> 2\u001B[0m \u001B[43mmodel_linear\u001B[49m\u001B[38;5;241;43m.\u001B[39;49m\u001B[43mfit\u001B[49m\u001B[43m(\u001B[49m\u001B[43mX_train\u001B[49m\u001B[43m,\u001B[49m\u001B[43m \u001B[49m\u001B[43my_train\u001B[49m\u001B[43m)\u001B[49m\n",
      "File \u001B[0;32m~/Documents/GitHub/pickup-to-delivery-overall/estimator.py:199\u001B[0m, in \u001B[0;36mLinearModel.fit\u001B[0;34m(self, X_train, y_train)\u001B[0m\n\u001B[1;32m    197\u001B[0m \u001B[38;5;28mself\u001B[39m\u001B[38;5;241m.\u001B[39mX_train \u001B[38;5;241m=\u001B[39m X_train\n\u001B[1;32m    198\u001B[0m \u001B[38;5;28mself\u001B[39m\u001B[38;5;241m.\u001B[39my_train \u001B[38;5;241m=\u001B[39m y_train\n\u001B[0;32m--> 199\u001B[0m reg \u001B[38;5;241m=\u001B[39m \u001B[43mLinearRegression\u001B[49m\u001B[43m(\u001B[49m\u001B[43m)\u001B[49m\u001B[38;5;241;43m.\u001B[39;49m\u001B[43mfit\u001B[49m\u001B[43m(\u001B[49m\u001B[43mX_train\u001B[49m\u001B[43m,\u001B[49m\u001B[43m \u001B[49m\u001B[43my_train\u001B[49m\u001B[43m)\u001B[49m\n\u001B[1;32m    200\u001B[0m \u001B[38;5;28mself\u001B[39m\u001B[38;5;241m.\u001B[39mtheta \u001B[38;5;241m=\u001B[39m reg\n\u001B[1;32m    201\u001B[0m \u001B[38;5;28;01mreturn\u001B[39;00m \u001B[38;5;28mself\u001B[39m\n",
      "File \u001B[0;32m~/Documents/GitHub/pickup-to-delivery-overall/venv/lib/python3.12/site-packages/sklearn/base.py:1473\u001B[0m, in \u001B[0;36m_fit_context.<locals>.decorator.<locals>.wrapper\u001B[0;34m(estimator, *args, **kwargs)\u001B[0m\n\u001B[1;32m   1466\u001B[0m     estimator\u001B[38;5;241m.\u001B[39m_validate_params()\n\u001B[1;32m   1468\u001B[0m \u001B[38;5;28;01mwith\u001B[39;00m config_context(\n\u001B[1;32m   1469\u001B[0m     skip_parameter_validation\u001B[38;5;241m=\u001B[39m(\n\u001B[1;32m   1470\u001B[0m         prefer_skip_nested_validation \u001B[38;5;129;01mor\u001B[39;00m global_skip_validation\n\u001B[1;32m   1471\u001B[0m     )\n\u001B[1;32m   1472\u001B[0m ):\n\u001B[0;32m-> 1473\u001B[0m     \u001B[38;5;28;01mreturn\u001B[39;00m \u001B[43mfit_method\u001B[49m\u001B[43m(\u001B[49m\u001B[43mestimator\u001B[49m\u001B[43m,\u001B[49m\u001B[43m \u001B[49m\u001B[38;5;241;43m*\u001B[39;49m\u001B[43margs\u001B[49m\u001B[43m,\u001B[49m\u001B[43m \u001B[49m\u001B[38;5;241;43m*\u001B[39;49m\u001B[38;5;241;43m*\u001B[39;49m\u001B[43mkwargs\u001B[49m\u001B[43m)\u001B[49m\n",
      "File \u001B[0;32m~/Documents/GitHub/pickup-to-delivery-overall/venv/lib/python3.12/site-packages/sklearn/linear_model/_base.py:609\u001B[0m, in \u001B[0;36mLinearRegression.fit\u001B[0;34m(self, X, y, sample_weight)\u001B[0m\n\u001B[1;32m    605\u001B[0m n_jobs_ \u001B[38;5;241m=\u001B[39m \u001B[38;5;28mself\u001B[39m\u001B[38;5;241m.\u001B[39mn_jobs\n\u001B[1;32m    607\u001B[0m accept_sparse \u001B[38;5;241m=\u001B[39m \u001B[38;5;28;01mFalse\u001B[39;00m \u001B[38;5;28;01mif\u001B[39;00m \u001B[38;5;28mself\u001B[39m\u001B[38;5;241m.\u001B[39mpositive \u001B[38;5;28;01melse\u001B[39;00m [\u001B[38;5;124m\"\u001B[39m\u001B[38;5;124mcsr\u001B[39m\u001B[38;5;124m\"\u001B[39m, \u001B[38;5;124m\"\u001B[39m\u001B[38;5;124mcsc\u001B[39m\u001B[38;5;124m\"\u001B[39m, \u001B[38;5;124m\"\u001B[39m\u001B[38;5;124mcoo\u001B[39m\u001B[38;5;124m\"\u001B[39m]\n\u001B[0;32m--> 609\u001B[0m X, y \u001B[38;5;241m=\u001B[39m \u001B[38;5;28;43mself\u001B[39;49m\u001B[38;5;241;43m.\u001B[39;49m\u001B[43m_validate_data\u001B[49m\u001B[43m(\u001B[49m\n\u001B[1;32m    610\u001B[0m \u001B[43m    \u001B[49m\u001B[43mX\u001B[49m\u001B[43m,\u001B[49m\n\u001B[1;32m    611\u001B[0m \u001B[43m    \u001B[49m\u001B[43my\u001B[49m\u001B[43m,\u001B[49m\n\u001B[1;32m    612\u001B[0m \u001B[43m    \u001B[49m\u001B[43maccept_sparse\u001B[49m\u001B[38;5;241;43m=\u001B[39;49m\u001B[43maccept_sparse\u001B[49m\u001B[43m,\u001B[49m\n\u001B[1;32m    613\u001B[0m \u001B[43m    \u001B[49m\u001B[43my_numeric\u001B[49m\u001B[38;5;241;43m=\u001B[39;49m\u001B[38;5;28;43;01mTrue\u001B[39;49;00m\u001B[43m,\u001B[49m\n\u001B[1;32m    614\u001B[0m \u001B[43m    \u001B[49m\u001B[43mmulti_output\u001B[49m\u001B[38;5;241;43m=\u001B[39;49m\u001B[38;5;28;43;01mTrue\u001B[39;49;00m\u001B[43m,\u001B[49m\n\u001B[1;32m    615\u001B[0m \u001B[43m    \u001B[49m\u001B[43mforce_writeable\u001B[49m\u001B[38;5;241;43m=\u001B[39;49m\u001B[38;5;28;43;01mTrue\u001B[39;49;00m\u001B[43m,\u001B[49m\n\u001B[1;32m    616\u001B[0m \u001B[43m\u001B[49m\u001B[43m)\u001B[49m\n\u001B[1;32m    618\u001B[0m has_sw \u001B[38;5;241m=\u001B[39m sample_weight \u001B[38;5;129;01mis\u001B[39;00m \u001B[38;5;129;01mnot\u001B[39;00m \u001B[38;5;28;01mNone\u001B[39;00m\n\u001B[1;32m    619\u001B[0m \u001B[38;5;28;01mif\u001B[39;00m has_sw:\n",
      "File \u001B[0;32m~/Documents/GitHub/pickup-to-delivery-overall/venv/lib/python3.12/site-packages/sklearn/base.py:650\u001B[0m, in \u001B[0;36mBaseEstimator._validate_data\u001B[0;34m(self, X, y, reset, validate_separately, cast_to_ndarray, **check_params)\u001B[0m\n\u001B[1;32m    648\u001B[0m         y \u001B[38;5;241m=\u001B[39m check_array(y, input_name\u001B[38;5;241m=\u001B[39m\u001B[38;5;124m\"\u001B[39m\u001B[38;5;124my\u001B[39m\u001B[38;5;124m\"\u001B[39m, \u001B[38;5;241m*\u001B[39m\u001B[38;5;241m*\u001B[39mcheck_y_params)\n\u001B[1;32m    649\u001B[0m     \u001B[38;5;28;01melse\u001B[39;00m:\n\u001B[0;32m--> 650\u001B[0m         X, y \u001B[38;5;241m=\u001B[39m \u001B[43mcheck_X_y\u001B[49m\u001B[43m(\u001B[49m\u001B[43mX\u001B[49m\u001B[43m,\u001B[49m\u001B[43m \u001B[49m\u001B[43my\u001B[49m\u001B[43m,\u001B[49m\u001B[43m \u001B[49m\u001B[38;5;241;43m*\u001B[39;49m\u001B[38;5;241;43m*\u001B[39;49m\u001B[43mcheck_params\u001B[49m\u001B[43m)\u001B[49m\n\u001B[1;32m    651\u001B[0m     out \u001B[38;5;241m=\u001B[39m X, y\n\u001B[1;32m    653\u001B[0m \u001B[38;5;28;01mif\u001B[39;00m \u001B[38;5;129;01mnot\u001B[39;00m no_val_X \u001B[38;5;129;01mand\u001B[39;00m check_params\u001B[38;5;241m.\u001B[39mget(\u001B[38;5;124m\"\u001B[39m\u001B[38;5;124mensure_2d\u001B[39m\u001B[38;5;124m\"\u001B[39m, \u001B[38;5;28;01mTrue\u001B[39;00m):\n",
      "File \u001B[0;32m~/Documents/GitHub/pickup-to-delivery-overall/venv/lib/python3.12/site-packages/sklearn/utils/validation.py:1301\u001B[0m, in \u001B[0;36mcheck_X_y\u001B[0;34m(X, y, accept_sparse, accept_large_sparse, dtype, order, copy, force_writeable, force_all_finite, ensure_2d, allow_nd, multi_output, ensure_min_samples, ensure_min_features, y_numeric, estimator)\u001B[0m\n\u001B[1;32m   1296\u001B[0m         estimator_name \u001B[38;5;241m=\u001B[39m _check_estimator_name(estimator)\n\u001B[1;32m   1297\u001B[0m     \u001B[38;5;28;01mraise\u001B[39;00m \u001B[38;5;167;01mValueError\u001B[39;00m(\n\u001B[1;32m   1298\u001B[0m         \u001B[38;5;124mf\u001B[39m\u001B[38;5;124m\"\u001B[39m\u001B[38;5;132;01m{\u001B[39;00mestimator_name\u001B[38;5;132;01m}\u001B[39;00m\u001B[38;5;124m requires y to be passed, but the target y is None\u001B[39m\u001B[38;5;124m\"\u001B[39m\n\u001B[1;32m   1299\u001B[0m     )\n\u001B[0;32m-> 1301\u001B[0m X \u001B[38;5;241m=\u001B[39m \u001B[43mcheck_array\u001B[49m\u001B[43m(\u001B[49m\n\u001B[1;32m   1302\u001B[0m \u001B[43m    \u001B[49m\u001B[43mX\u001B[49m\u001B[43m,\u001B[49m\n\u001B[1;32m   1303\u001B[0m \u001B[43m    \u001B[49m\u001B[43maccept_sparse\u001B[49m\u001B[38;5;241;43m=\u001B[39;49m\u001B[43maccept_sparse\u001B[49m\u001B[43m,\u001B[49m\n\u001B[1;32m   1304\u001B[0m \u001B[43m    \u001B[49m\u001B[43maccept_large_sparse\u001B[49m\u001B[38;5;241;43m=\u001B[39;49m\u001B[43maccept_large_sparse\u001B[49m\u001B[43m,\u001B[49m\n\u001B[1;32m   1305\u001B[0m \u001B[43m    \u001B[49m\u001B[43mdtype\u001B[49m\u001B[38;5;241;43m=\u001B[39;49m\u001B[43mdtype\u001B[49m\u001B[43m,\u001B[49m\n\u001B[1;32m   1306\u001B[0m \u001B[43m    \u001B[49m\u001B[43morder\u001B[49m\u001B[38;5;241;43m=\u001B[39;49m\u001B[43morder\u001B[49m\u001B[43m,\u001B[49m\n\u001B[1;32m   1307\u001B[0m \u001B[43m    \u001B[49m\u001B[43mcopy\u001B[49m\u001B[38;5;241;43m=\u001B[39;49m\u001B[43mcopy\u001B[49m\u001B[43m,\u001B[49m\n\u001B[1;32m   1308\u001B[0m \u001B[43m    \u001B[49m\u001B[43mforce_writeable\u001B[49m\u001B[38;5;241;43m=\u001B[39;49m\u001B[43mforce_writeable\u001B[49m\u001B[43m,\u001B[49m\n\u001B[1;32m   1309\u001B[0m \u001B[43m    \u001B[49m\u001B[43mforce_all_finite\u001B[49m\u001B[38;5;241;43m=\u001B[39;49m\u001B[43mforce_all_finite\u001B[49m\u001B[43m,\u001B[49m\n\u001B[1;32m   1310\u001B[0m \u001B[43m    \u001B[49m\u001B[43mensure_2d\u001B[49m\u001B[38;5;241;43m=\u001B[39;49m\u001B[43mensure_2d\u001B[49m\u001B[43m,\u001B[49m\n\u001B[1;32m   1311\u001B[0m \u001B[43m    \u001B[49m\u001B[43mallow_nd\u001B[49m\u001B[38;5;241;43m=\u001B[39;49m\u001B[43mallow_nd\u001B[49m\u001B[43m,\u001B[49m\n\u001B[1;32m   1312\u001B[0m \u001B[43m    \u001B[49m\u001B[43mensure_min_samples\u001B[49m\u001B[38;5;241;43m=\u001B[39;49m\u001B[43mensure_min_samples\u001B[49m\u001B[43m,\u001B[49m\n\u001B[1;32m   1313\u001B[0m \u001B[43m    \u001B[49m\u001B[43mensure_min_features\u001B[49m\u001B[38;5;241;43m=\u001B[39;49m\u001B[43mensure_min_features\u001B[49m\u001B[43m,\u001B[49m\n\u001B[1;32m   1314\u001B[0m \u001B[43m    \u001B[49m\u001B[43mestimator\u001B[49m\u001B[38;5;241;43m=\u001B[39;49m\u001B[43mestimator\u001B[49m\u001B[43m,\u001B[49m\n\u001B[1;32m   1315\u001B[0m \u001B[43m    \u001B[49m\u001B[43minput_name\u001B[49m\u001B[38;5;241;43m=\u001B[39;49m\u001B[38;5;124;43m\"\u001B[39;49m\u001B[38;5;124;43mX\u001B[39;49m\u001B[38;5;124;43m\"\u001B[39;49m\u001B[43m,\u001B[49m\n\u001B[1;32m   1316\u001B[0m \u001B[43m\u001B[49m\u001B[43m)\u001B[49m\n\u001B[1;32m   1318\u001B[0m y \u001B[38;5;241m=\u001B[39m _check_y(y, multi_output\u001B[38;5;241m=\u001B[39mmulti_output, y_numeric\u001B[38;5;241m=\u001B[39my_numeric, estimator\u001B[38;5;241m=\u001B[39mestimator)\n\u001B[1;32m   1320\u001B[0m check_consistent_length(X, y)\n",
      "File \u001B[0;32m~/Documents/GitHub/pickup-to-delivery-overall/venv/lib/python3.12/site-packages/sklearn/utils/validation.py:1064\u001B[0m, in \u001B[0;36mcheck_array\u001B[0;34m(array, accept_sparse, accept_large_sparse, dtype, order, copy, force_writeable, force_all_finite, ensure_2d, allow_nd, ensure_min_samples, ensure_min_features, estimator, input_name)\u001B[0m\n\u001B[1;32m   1058\u001B[0m     \u001B[38;5;28;01mraise\u001B[39;00m \u001B[38;5;167;01mValueError\u001B[39;00m(\n\u001B[1;32m   1059\u001B[0m         \u001B[38;5;124m\"\u001B[39m\u001B[38;5;124mFound array with dim \u001B[39m\u001B[38;5;132;01m%d\u001B[39;00m\u001B[38;5;124m. \u001B[39m\u001B[38;5;132;01m%s\u001B[39;00m\u001B[38;5;124m expected <= 2.\u001B[39m\u001B[38;5;124m\"\u001B[39m\n\u001B[1;32m   1060\u001B[0m         \u001B[38;5;241m%\u001B[39m (array\u001B[38;5;241m.\u001B[39mndim, estimator_name)\n\u001B[1;32m   1061\u001B[0m     )\n\u001B[1;32m   1063\u001B[0m \u001B[38;5;28;01mif\u001B[39;00m force_all_finite:\n\u001B[0;32m-> 1064\u001B[0m     \u001B[43m_assert_all_finite\u001B[49m\u001B[43m(\u001B[49m\n\u001B[1;32m   1065\u001B[0m \u001B[43m        \u001B[49m\u001B[43marray\u001B[49m\u001B[43m,\u001B[49m\n\u001B[1;32m   1066\u001B[0m \u001B[43m        \u001B[49m\u001B[43minput_name\u001B[49m\u001B[38;5;241;43m=\u001B[39;49m\u001B[43minput_name\u001B[49m\u001B[43m,\u001B[49m\n\u001B[1;32m   1067\u001B[0m \u001B[43m        \u001B[49m\u001B[43mestimator_name\u001B[49m\u001B[38;5;241;43m=\u001B[39;49m\u001B[43mestimator_name\u001B[49m\u001B[43m,\u001B[49m\n\u001B[1;32m   1068\u001B[0m \u001B[43m        \u001B[49m\u001B[43mallow_nan\u001B[49m\u001B[38;5;241;43m=\u001B[39;49m\u001B[43mforce_all_finite\u001B[49m\u001B[43m \u001B[49m\u001B[38;5;241;43m==\u001B[39;49m\u001B[43m \u001B[49m\u001B[38;5;124;43m\"\u001B[39;49m\u001B[38;5;124;43mallow-nan\u001B[39;49m\u001B[38;5;124;43m\"\u001B[39;49m\u001B[43m,\u001B[49m\n\u001B[1;32m   1069\u001B[0m \u001B[43m    \u001B[49m\u001B[43m)\u001B[49m\n\u001B[1;32m   1071\u001B[0m \u001B[38;5;28;01mif\u001B[39;00m copy:\n\u001B[1;32m   1072\u001B[0m     \u001B[38;5;28;01mif\u001B[39;00m _is_numpy_namespace(xp):\n\u001B[1;32m   1073\u001B[0m         \u001B[38;5;66;03m# only make a copy if `array` and `array_orig` may share memory`\u001B[39;00m\n",
      "File \u001B[0;32m~/Documents/GitHub/pickup-to-delivery-overall/venv/lib/python3.12/site-packages/sklearn/utils/validation.py:108\u001B[0m, in \u001B[0;36m_assert_all_finite\u001B[0;34m(X, allow_nan, msg_dtype, estimator_name, input_name)\u001B[0m\n\u001B[1;32m    106\u001B[0m \u001B[38;5;28;01mif\u001B[39;00m \u001B[38;5;129;01mnot\u001B[39;00m is_array_api \u001B[38;5;129;01mand\u001B[39;00m X\u001B[38;5;241m.\u001B[39mdtype \u001B[38;5;241m==\u001B[39m np\u001B[38;5;241m.\u001B[39mdtype(\u001B[38;5;124m\"\u001B[39m\u001B[38;5;124mobject\u001B[39m\u001B[38;5;124m\"\u001B[39m) \u001B[38;5;129;01mand\u001B[39;00m \u001B[38;5;129;01mnot\u001B[39;00m allow_nan:\n\u001B[1;32m    107\u001B[0m     \u001B[38;5;28;01mif\u001B[39;00m _object_dtype_isnan(X)\u001B[38;5;241m.\u001B[39many():\n\u001B[0;32m--> 108\u001B[0m         \u001B[38;5;28;01mraise\u001B[39;00m \u001B[38;5;167;01mValueError\u001B[39;00m(\u001B[38;5;124m\"\u001B[39m\u001B[38;5;124mInput contains NaN\u001B[39m\u001B[38;5;124m\"\u001B[39m)\n\u001B[1;32m    110\u001B[0m \u001B[38;5;66;03m# We need only consider float arrays, hence can early return for all else.\u001B[39;00m\n\u001B[1;32m    111\u001B[0m \u001B[38;5;28;01mif\u001B[39;00m \u001B[38;5;129;01mnot\u001B[39;00m xp\u001B[38;5;241m.\u001B[39misdtype(X\u001B[38;5;241m.\u001B[39mdtype, (\u001B[38;5;124m\"\u001B[39m\u001B[38;5;124mreal floating\u001B[39m\u001B[38;5;124m\"\u001B[39m, \u001B[38;5;124m\"\u001B[39m\u001B[38;5;124mcomplex floating\u001B[39m\u001B[38;5;124m\"\u001B[39m)):\n",
      "\u001B[0;31mValueError\u001B[0m: Input contains NaN"
     ]
    }
   ],
   "source": [
    "model_linear = LinearModel()\n",
    "model_linear.fit(X_train, y_train)"
   ],
   "metadata": {
    "collapsed": false,
    "ExecuteTime": {
     "end_time": "2024-11-06T09:08:57.172093Z",
     "start_time": "2024-11-06T09:08:25.381065Z"
    }
   },
   "id": "52fd6a83d81004d2",
   "execution_count": 88
  },
  {
   "cell_type": "code",
   "outputs": [],
   "source": [
    "X_test_expanded3 = X_test.copy()\n",
    "X_test_expanded3['y_test_predicted'] = model_linear.predict(X_test)\n",
    "X_test_expanded3['y_test'] = (X_test_expanded3['delivery_entering_timestamp'] - X_test_expanded3['pickup_timestamp']).dt.total_seconds()\n",
    "X_test_expanded3['diff'] = X_test_expanded['y_test_predicted'] - X_test_expanded3['y_test']\n",
    "X_test_expanded3"
   ],
   "metadata": {
    "collapsed": false,
    "ExecuteTime": {
     "start_time": "2024-11-06T09:08:57.171882Z"
    }
   },
   "id": "2e466c1357db9ecc",
   "execution_count": null
  },
  {
   "cell_type": "code",
   "outputs": [],
   "source": [
    "model_linear.predict(X_test.iloc[0])"
   ],
   "metadata": {
    "collapsed": false,
    "ExecuteTime": {
     "start_time": "2024-11-06T09:08:57.172074Z"
    }
   },
   "id": "cd65b11375e85284",
   "execution_count": null
  },
  {
   "cell_type": "code",
   "outputs": [],
   "source": [
    "model_linear.evaluate(X_test, y_test)"
   ],
   "metadata": {
    "collapsed": false,
    "ExecuteTime": {
     "end_time": "2024-11-06T09:08:57.330540Z",
     "start_time": "2024-11-06T09:08:57.172939Z"
    }
   },
   "id": "af9facbc14adebf3",
   "execution_count": null
  }
 ],
 "metadata": {
  "kernelspec": {
   "display_name": "Python 3",
   "language": "python",
   "name": "python3"
  },
  "language_info": {
   "codemirror_mode": {
    "name": "ipython",
    "version": 2
   },
   "file_extension": ".py",
   "mimetype": "text/x-python",
   "name": "python",
   "nbconvert_exporter": "python",
   "pygments_lexer": "ipython2",
   "version": "2.7.6"
  }
 },
 "nbformat": 4,
 "nbformat_minor": 5
}
